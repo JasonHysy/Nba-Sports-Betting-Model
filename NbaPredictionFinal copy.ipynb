{
  "cells": [
    {
      "cell_type": "markdown",
      "metadata": {
        "colab_type": "text",
        "id": "view-in-github"
      },
      "source": [
        "<a href=\"https://colab.research.google.com/github/garfjohnson/Nba-Sports-Betting-Model/blob/master/NbaPredictionFinal.ipynb\" target=\"_parent\"><img src=\"https://colab.research.google.com/assets/colab-badge.svg\" alt=\"Open In Colab\"/></a>"
      ]
    },
    {
      "cell_type": "markdown",
      "metadata": {
        "colab_type": "text",
        "id": "tXshW3Cr5Nse"
      },
      "source": [
        "# NBA Game Sports Betting Model\n",
        "This model will use a rolling average of recent performance data for each team in an NBA matchup to predict each winner. The model will be trained on previous seasons and tested on the current 2019-20 NBA season. Vegas odds are incorporated and a hypothetical $100 bet is placed on every game. The results are very exciting."
      ]
    },
    {
      "cell_type": "markdown",
      "metadata": {
        "colab_type": "text",
        "id": "mUxkt6Oz5DDx"
      },
      "source": [
        "## Import Libraries"
      ]
    },
    {
      "cell_type": "code",
      "execution_count": 214,
      "metadata": {
        "colab": {
          "base_uri": "https://localhost:8080/",
          "height": 357
        },
        "colab_type": "code",
        "id": "BqVXfH284uTP",
        "outputId": "3278d46c-2259-4ee4-8583-de076a1aa43d"
      },
      "outputs": [],
      "source": [
        "# !pip install sportsreference\n",
        "from sportsreference.nba.schedule import Schedule\n",
        "from datetime import datetime\n",
        "from sportsreference.nba.boxscore import Boxscores, Boxscore\n",
        "from sportsreference.nba.teams import Teams\n",
        "from datetime import datetime, timedelta\n",
        "import numpy as np\n",
        "import pandas as pd\n",
        "# from google.colab import drive\n",
        "import matplotlib.pyplot as plt\n",
        "import seaborn as sns"
      ]
    },
    {
      "cell_type": "code",
      "execution_count": 215,
      "metadata": {
        "colab": {
          "base_uri": "https://localhost:8080/",
          "height": 122
        },
        "colab_type": "code",
        "id": "Q4yQ3C9h43MS",
        "outputId": "9f4c29c9-0d41-4f11-a993-b93a580a662a"
      },
      "outputs": [],
      "source": [
        "# from google.colab import drive\n",
        "# drive.mount('/content/gdrive')"
      ]
    },
    {
      "cell_type": "code",
      "execution_count": 216,
      "metadata": {
        "colab": {},
        "colab_type": "code",
        "id": "2PPENQib47Ed"
      },
      "outputs": [],
      "source": [
        "pd.set_option('display.max_rows', 500)\n",
        "pd.set_option('display.max_columns', 500)\n",
        "from sklearn.model_selection import train_test_split, cross_val_score, KFold\n",
        "from sklearn.preprocessing import normalize, MinMaxScaler, RobustScaler\n",
        "from sklearn.decomposition import PCA\n",
        "from sklearn.metrics import make_scorer, f1_score"
      ]
    },
    {
      "cell_type": "markdown",
      "metadata": {
        "colab_type": "text",
        "id": "FQLwdYCa5jYu"
      },
      "source": [
        "## Declare Useful Functions and Lists"
      ]
    },
    {
      "cell_type": "code",
      "execution_count": 217,
      "metadata": {
        "colab": {},
        "colab_type": "code",
        "id": "WB_YiYnp5mB_"
      },
      "outputs": [],
      "source": [
        "## this function combines our cleaning step into one easy function\n",
        "def format_nba_df(df):\n",
        "  ## create a bool column for home win\n",
        "  df['homeWin'] = df['winner'] == 'Home'\n",
        "  ## rename unnamed column to gameid\n",
        "  df = df.rename(columns={'Unnamed: 0': 'gameID'})\n",
        "  ## create datetime object from column of date strings and drop the time \n",
        "  df['date'] = df['date'].apply(lambda x: (datetime.strptime(x, '%I:%M %p, %B %d, %Y')).date())\n",
        "  ## create home team column\n",
        "  df['homeTeam'] = np.where(df['homeWin']==True, df['winning_abbr'], df['losing_abbr'])\n",
        "  ## create away team column\n",
        "  df['awayTeam'] = np.where(df['homeWin']==False, df['winning_abbr'], df['losing_abbr'])\n",
        "  return df"
      ]
    },
    {
      "cell_type": "code",
      "execution_count": 218,
      "metadata": {
        "colab": {},
        "colab_type": "code",
        "id": "CrcJLwLd5oOi"
      },
      "outputs": [],
      "source": [
        "## this takes an odds dataframe and converts the date to a datetime object, year must be specified\n",
        "def convert_to_datetime(x, year):\n",
        "  y = str(x)\n",
        "  if x < 1000:\n",
        "    date = datetime(year=year, month=int(y[:-2]), day=int(y[-2:]))\n",
        "    return date.strftime(\"%Y-%m-%d\")\n",
        "  else:\n",
        "    date = datetime(year=year-1, month=int(y[:-2]), day=int(y[-2:]))\n",
        "    return date.strftime(\"%Y-%m-%d\")"
      ]
    },
    {
      "cell_type": "code",
      "execution_count": 219,
      "metadata": {
        "colab": {},
        "colab_type": "code",
        "id": "TnKpAhf-5ux6"
      },
      "outputs": [],
      "source": [
        "def avg_previous_num_games(df, num_games):\n",
        "  ### This function changes each stat to be the average of the last num_games for each team, and shifts it one so it does not include the current stats and drops the first num_games that become null\n",
        "  for col in home_cols:\n",
        "    for team in team_list:\n",
        "      df[col].loc[df['homeTeam']==team] = df[col].loc[df['homeTeam']==team].shift(1).rolling(num_games, min_periods=3).mean()\n",
        "  for col in away_cols:\n",
        "    for team in team_list:\n",
        "      df[col].loc[df['awayTeam']==team] = df[col].loc[df['awayTeam']==team].shift(1).rolling(num_games, min_periods=3).mean()\n",
        "  return df.dropna()"
      ]
    },
    {
      "cell_type": "code",
      "execution_count": 220,
      "metadata": {
        "colab": {},
        "colab_type": "code",
        "id": "sDrxe2c65Rqf"
      },
      "outputs": [],
      "source": [
        "# seperate statistical columns to home and away for later\n",
        "away_cols = ['away_assist_percentage', 'away_assists',\n",
        "       'away_block_percentage', 'away_blocks', 'away_defensive_rating',\n",
        "       'away_defensive_rebound_percentage', 'away_defensive_rebounds',\n",
        "       'away_effective_field_goal_percentage', 'away_field_goal_attempts',\n",
        "       'away_field_goal_percentage', 'away_field_goals',\n",
        "       'away_free_throw_attempt_rate', 'away_free_throw_attempts',\n",
        "       'away_free_throw_percentage', 'away_free_throws','away_minutes_played', 'away_offensive_rating',\n",
        "       'away_offensive_rebound_percentage', 'away_offensive_rebounds',\n",
        "       'away_personal_fouls', 'away_points', 'away_steal_percentage',\n",
        "       'away_steals', 'away_three_point_attempt_rate',\n",
        "       'away_three_point_field_goal_attempts',\n",
        "       'away_three_point_field_goal_percentage',\n",
        "       'away_three_point_field_goals', 'away_total_rebound_percentage',\n",
        "       'away_total_rebounds', 'away_true_shooting_percentage',\n",
        "       'away_turnover_percentage', 'away_turnovers',\n",
        "       'away_two_point_field_goal_attempts',\n",
        "       'away_two_point_field_goal_percentage', 'away_two_point_field_goals']\n",
        "home_cols = ['home_assist_percentage', 'home_assists',\n",
        "       'home_block_percentage', 'home_blocks', 'home_defensive_rating',\n",
        "       'home_defensive_rebound_percentage', 'home_defensive_rebounds',\n",
        "       'home_effective_field_goal_percentage', 'home_field_goal_attempts',\n",
        "       'home_field_goal_percentage', 'home_field_goals',\n",
        "       'home_free_throw_attempt_rate', 'home_free_throw_attempts',\n",
        "       'home_free_throw_percentage', 'home_free_throws',\n",
        "       'home_minutes_played', 'home_offensive_rating',\n",
        "       'home_offensive_rebound_percentage', 'home_offensive_rebounds',\n",
        "       'home_personal_fouls', 'home_points', 'home_steal_percentage',\n",
        "       'home_steals', 'home_three_point_attempt_rate',\n",
        "       'home_three_point_field_goal_attempts',\n",
        "       'home_three_point_field_goal_percentage',\n",
        "       'home_three_point_field_goals', 'home_total_rebound_percentage',\n",
        "       'home_total_rebounds', 'home_true_shooting_percentage',\n",
        "       'home_turnover_percentage', 'home_turnovers',\n",
        "       'home_two_point_field_goal_attempts',\n",
        "       'home_two_point_field_goal_percentage', 'home_two_point_field_goals']"
      ]
    },
    {
      "cell_type": "markdown",
      "metadata": {
        "colab_type": "text",
        "id": "wnBUa_ob5UKE"
      },
      "source": [
        "## Load and Arrange the Data\n",
        "We'll load the stats and odds datasets and ensure they are formatted the same and have the same shape so we can combine them later."
      ]
    },
    {
      "cell_type": "code",
      "execution_count": 221,
      "metadata": {
        "colab": {},
        "colab_type": "code",
        "id": "ySBZnr-E5atM"
      },
      "outputs": [],
      "source": [
        "\n",
        "nba2015 = pd.read_csv(r\"nba2015-16.csv\")\n",
        "nba2016 = pd.read_csv(r\"nba2016-17.csv\")\n",
        "# load 2017-18 boxscore stats\n",
        "nba2017 = pd.read_csv(r\"nba2017-18.csv\")\n",
        "# load 2018-19 boxscore stats\n",
        "nba2018 = pd.read_csv(r\"nba2018-19.csv\")\n",
        "# load 2019-20 boxscore stats\n",
        "nbaCurrent = pd.read_csv(r'nba2019-20.csv')"
      ]
    },
    {
      "cell_type": "code",
      "execution_count": 222,
      "metadata": {
        "colab": {},
        "colab_type": "code",
        "id": "P8Xjkcxo5fYz"
      },
      "outputs": [],
      "source": [
        "# apply cleaning step\n",
        "nba2015 = format_nba_df(nba2015)\n",
        "nba2016 = format_nba_df(nba2016)\n",
        "nba2017 = format_nba_df(nba2017)\n",
        "nba2018 = format_nba_df(nba2018)\n",
        "nbaCurrent = format_nba_df(nbaCurrent)"
      ]
    },
    {
      "cell_type": "code",
      "execution_count": 223,
      "metadata": {
        "colab": {},
        "colab_type": "code",
        "id": "SY1IzX-Z5dG_"
      },
      "outputs": [],
      "source": [
        "odds2015 = pd.read_csv(r\"nbaodds2015-16.csv\")\n",
        "odds2016 = pd.read_csv(r\"nbaodds2016-17.csv\")\n",
        "# load 2017-18 odds\n",
        "odds2017 = pd.read_csv(r\"nbaodds2017-18.csv\")\n",
        "# load 2018-19 odds\n",
        "odds2018 = pd.read_csv(r\"nbaodds2018-19.csv\")\n",
        "# load 2019-20 odds\n",
        "oddsCurrent = pd.read_csv(r\"nbaodds2019-20.csv\")"
      ]
    },
    {
      "cell_type": "code",
      "execution_count": 224,
      "metadata": {
        "colab": {},
        "colab_type": "code",
        "id": "VWrnBMAH54sQ"
      },
      "outputs": [],
      "source": [
        "## create list of team abbreviations and sort them\n",
        "team_list = sorted(list(nba2015['homeTeam'].unique()))"
      ]
    },
    {
      "cell_type": "markdown",
      "metadata": {
        "colab_type": "text",
        "id": "Kz66N9UYu0Zh"
      },
      "source": [
        "##### Here we format our odds df to match our main df by:\n",
        "1. Finding the neutral site game for each season and setting the corresponding team to the home team\n",
        "2. Dropping playoff games\n",
        "3. Seperating home/away team and get the home vs away in the same row\n",
        "3. Changing the date column to datetime objects\n",
        "4. Change team names to abbreviations\n",
        "5. Sort by date then by team to line up the two dfs\n",
        "\n",
        "I'll be keeping the odds dfs seperate for now because they'll be attached to each corresponding nba df which will need to remain seperated by season before being transformed."
      ]
    },
    {
      "cell_type": "code",
      "execution_count": 225,
      "metadata": {
        "colab": {
          "base_uri": "https://localhost:8080/",
          "height": 34
        },
        "colab_type": "code",
        "id": "Pc5Fq6iJm0Km",
        "outputId": "faac0708-135e-44b6-a752-d972fec59153"
      },
      "outputs": [
        {
          "data": {
            "text/plain": [
              "array(['V', 'H', 'N'], dtype=object)"
            ]
          },
          "execution_count": 225,
          "metadata": {},
          "output_type": "execute_result"
        }
      ],
      "source": [
        "## one game played in london\n",
        "odds2015['VH'].unique()"
      ]
    },
    {
      "cell_type": "code",
      "execution_count": 226,
      "metadata": {
        "colab": {
          "base_uri": "https://localhost:8080/",
          "height": 34
        },
        "colab_type": "code",
        "id": "vo6VUVu7LAuS",
        "outputId": "278d309e-d27e-4ee9-8c9c-97db3ffaea40"
      },
      "outputs": [
        {
          "data": {
            "text/plain": [
              "array(['V', 'H'], dtype=object)"
            ]
          },
          "execution_count": 226,
          "metadata": {},
          "output_type": "execute_result"
        }
      ],
      "source": [
        "## no neutral sites yet\n",
        "oddsCurrent['VH'].unique()"
      ]
    },
    {
      "cell_type": "code",
      "execution_count": 227,
      "metadata": {
        "colab": {
          "base_uri": "https://localhost:8080/",
          "height": 111
        },
        "colab_type": "code",
        "id": "Sad8CmFtm7aS",
        "outputId": "ccfe8a0a-b211-4d1c-ae6a-974a2c7bcbec"
      },
      "outputs": [
        {
          "data": {
            "text/html": [
              "<div>\n",
              "<style scoped>\n",
              "    .dataframe tbody tr th:only-of-type {\n",
              "        vertical-align: middle;\n",
              "    }\n",
              "\n",
              "    .dataframe tbody tr th {\n",
              "        vertical-align: top;\n",
              "    }\n",
              "\n",
              "    .dataframe thead th {\n",
              "        text-align: right;\n",
              "    }\n",
              "</style>\n",
              "<table border=\"1\" class=\"dataframe\">\n",
              "  <thead>\n",
              "    <tr style=\"text-align: right;\">\n",
              "      <th></th>\n",
              "      <th>Date</th>\n",
              "      <th>Rot</th>\n",
              "      <th>VH</th>\n",
              "      <th>Team</th>\n",
              "      <th>1st</th>\n",
              "      <th>2nd</th>\n",
              "      <th>3rd</th>\n",
              "      <th>4th</th>\n",
              "      <th>Final</th>\n",
              "      <th>Open</th>\n",
              "      <th>Close</th>\n",
              "      <th>ML</th>\n",
              "      <th>2H</th>\n",
              "    </tr>\n",
              "  </thead>\n",
              "  <tbody>\n",
              "    <tr>\n",
              "      <th>560</th>\n",
              "      <td>1203</td>\n",
              "      <td>709</td>\n",
              "      <td>N</td>\n",
              "      <td>Boston</td>\n",
              "      <td>32</td>\n",
              "      <td>19</td>\n",
              "      <td>39</td>\n",
              "      <td>24</td>\n",
              "      <td>114</td>\n",
              "      <td>2</td>\n",
              "      <td>2.5</td>\n",
              "      <td>-140</td>\n",
              "      <td>110</td>\n",
              "    </tr>\n",
              "    <tr>\n",
              "      <th>561</th>\n",
              "      <td>1203</td>\n",
              "      <td>710</td>\n",
              "      <td>N</td>\n",
              "      <td>Sacramento</td>\n",
              "      <td>17</td>\n",
              "      <td>19</td>\n",
              "      <td>32</td>\n",
              "      <td>29</td>\n",
              "      <td>97</td>\n",
              "      <td>212.5</td>\n",
              "      <td>216.5</td>\n",
              "      <td>120</td>\n",
              "      <td>3.5</td>\n",
              "    </tr>\n",
              "    <tr>\n",
              "      <th>1172</th>\n",
              "      <td>114</td>\n",
              "      <td>701</td>\n",
              "      <td>N</td>\n",
              "      <td>Toronto</td>\n",
              "      <td>31</td>\n",
              "      <td>30</td>\n",
              "      <td>16</td>\n",
              "      <td>19</td>\n",
              "      <td>106</td>\n",
              "      <td>3</td>\n",
              "      <td>4.5</td>\n",
              "      <td>-200</td>\n",
              "      <td>pk</td>\n",
              "    </tr>\n",
              "    <tr>\n",
              "      <th>1173</th>\n",
              "      <td>114</td>\n",
              "      <td>702</td>\n",
              "      <td>N</td>\n",
              "      <td>Orlando</td>\n",
              "      <td>18</td>\n",
              "      <td>36</td>\n",
              "      <td>19</td>\n",
              "      <td>23</td>\n",
              "      <td>103</td>\n",
              "      <td>194</td>\n",
              "      <td>193.5</td>\n",
              "      <td>170</td>\n",
              "      <td>97.5</td>\n",
              "    </tr>\n",
              "  </tbody>\n",
              "</table>\n",
              "</div>"
            ],
            "text/plain": [
              "      Date  Rot VH        Team  1st  2nd  3rd  4th  Final   Open  Close   ML  \\\n",
              "560   1203  709  N      Boston   32   19   39   24    114      2    2.5 -140   \n",
              "561   1203  710  N  Sacramento   17   19   32   29     97  212.5  216.5  120   \n",
              "1172   114  701  N     Toronto   31   30   16   19    106      3    4.5 -200   \n",
              "1173   114  702  N     Orlando   18   36   19   23    103    194  193.5  170   \n",
              "\n",
              "        2H  \n",
              "560    110  \n",
              "561    3.5  \n",
              "1172    pk  \n",
              "1173  97.5  "
            ]
          },
          "execution_count": 227,
          "metadata": {},
          "output_type": "execute_result"
        }
      ],
      "source": [
        "## we need to change these to home and away so it matches our other df\n",
        "odds2015.loc[odds2015['VH']=='N']"
      ]
    },
    {
      "cell_type": "code",
      "execution_count": 230,
      "metadata": {
        "colab": {
          "base_uri": "https://localhost:8080/",
          "height": 102
        },
        "colab_type": "code",
        "id": "QkzdmVaWqJxw",
        "outputId": "6430d24d-225a-499b-ff56-9cf8b50be39b"
      },
      "outputs": [
        {
          "name": "stderr",
          "output_type": "stream",
          "text": [
            "C:\\Users\\Jason Huang\\AppData\\Local\\Temp\\ipykernel_11944\\554996046.py:2: SettingWithCopyWarning: \n",
            "A value is trying to be set on a copy of a slice from a DataFrame\n",
            "\n",
            "See the caveats in the documentation: https://pandas.pydata.org/pandas-docs/stable/user_guide/indexing.html#returning-a-view-versus-a-copy\n",
            "  odds2015['VH'].iloc[[1233]] = 'H'\n",
            "C:\\Users\\Jason Huang\\AppData\\Local\\Temp\\ipykernel_11944\\554996046.py:3: SettingWithCopyWarning: \n",
            "A value is trying to be set on a copy of a slice from a DataFrame\n",
            "\n",
            "See the caveats in the documentation: https://pandas.pydata.org/pandas-docs/stable/user_guide/indexing.html#returning-a-view-versus-a-copy\n",
            "  odds2015['VH'].iloc[[1232]] = 'V'\n"
          ]
        }
      ],
      "source": [
        "## change values for home and away team\n",
        "odds2015['VH'].iloc[[1233]] = 'H'\n",
        "odds2015['VH'].iloc[[1232]] = 'V'"
      ]
    },
    {
      "cell_type": "code",
      "execution_count": 231,
      "metadata": {
        "colab": {
          "base_uri": "https://localhost:8080/",
          "height": 111
        },
        "colab_type": "code",
        "id": "rKtiN0TbrQNg",
        "outputId": "7d7a4760-cfe1-40e1-ba0b-fa232fd90926"
      },
      "outputs": [
        {
          "data": {
            "text/html": [
              "<div>\n",
              "<style scoped>\n",
              "    .dataframe tbody tr th:only-of-type {\n",
              "        vertical-align: middle;\n",
              "    }\n",
              "\n",
              "    .dataframe tbody tr th {\n",
              "        vertical-align: top;\n",
              "    }\n",
              "\n",
              "    .dataframe thead th {\n",
              "        text-align: right;\n",
              "    }\n",
              "</style>\n",
              "<table border=\"1\" class=\"dataframe\">\n",
              "  <thead>\n",
              "    <tr style=\"text-align: right;\">\n",
              "      <th></th>\n",
              "      <th>Date</th>\n",
              "      <th>Rot</th>\n",
              "      <th>VH</th>\n",
              "      <th>Team</th>\n",
              "      <th>1st</th>\n",
              "      <th>2nd</th>\n",
              "      <th>3rd</th>\n",
              "      <th>4th</th>\n",
              "      <th>Final</th>\n",
              "      <th>Open</th>\n",
              "      <th>Close</th>\n",
              "      <th>ML</th>\n",
              "      <th>2H</th>\n",
              "    </tr>\n",
              "  </thead>\n",
              "  <tbody>\n",
              "    <tr>\n",
              "      <th>1232</th>\n",
              "      <td>118</td>\n",
              "      <td>505</td>\n",
              "      <td>V</td>\n",
              "      <td>Portland</td>\n",
              "      <td>32</td>\n",
              "      <td>27</td>\n",
              "      <td>35</td>\n",
              "      <td>14</td>\n",
              "      <td>108</td>\n",
              "      <td>215</td>\n",
              "      <td>208.5</td>\n",
              "      <td>155</td>\n",
              "      <td>103</td>\n",
              "    </tr>\n",
              "    <tr>\n",
              "      <th>1233</th>\n",
              "      <td>118</td>\n",
              "      <td>506</td>\n",
              "      <td>H</td>\n",
              "      <td>Washington</td>\n",
              "      <td>17</td>\n",
              "      <td>40</td>\n",
              "      <td>19</td>\n",
              "      <td>22</td>\n",
              "      <td>98</td>\n",
              "      <td>5</td>\n",
              "      <td>4</td>\n",
              "      <td>-175</td>\n",
              "      <td>3.5</td>\n",
              "    </tr>\n",
              "  </tbody>\n",
              "</table>\n",
              "</div>"
            ],
            "text/plain": [
              "      Date  Rot VH        Team  1st  2nd  3rd  4th  Final Open  Close   ML  \\\n",
              "1232   118  505  V    Portland   32   27   35   14    108  215  208.5  155   \n",
              "1233   118  506  H  Washington   17   40   19   22     98    5      4 -175   \n",
              "\n",
              "       2H  \n",
              "1232  103  \n",
              "1233  3.5  "
            ]
          },
          "execution_count": 231,
          "metadata": {},
          "output_type": "execute_result"
        }
      ],
      "source": [
        "## check work\n",
        "odds2015.iloc[[1232,1233]]"
      ]
    },
    {
      "cell_type": "code",
      "execution_count": null,
      "metadata": {},
      "outputs": [],
      "source": []
    },
    {
      "cell_type": "code",
      "execution_count": 232,
      "metadata": {
        "colab": {
          "base_uri": "https://localhost:8080/",
          "height": 111
        },
        "colab_type": "code",
        "id": "yQUqq2FWrfpf",
        "outputId": "a4f38b62-7cbc-4a2b-89dc-87dd12b8cc3f"
      },
      "outputs": [
        {
          "data": {
            "text/html": [
              "<div>\n",
              "<style scoped>\n",
              "    .dataframe tbody tr th:only-of-type {\n",
              "        vertical-align: middle;\n",
              "    }\n",
              "\n",
              "    .dataframe tbody tr th {\n",
              "        vertical-align: top;\n",
              "    }\n",
              "\n",
              "    .dataframe thead th {\n",
              "        text-align: right;\n",
              "    }\n",
              "</style>\n",
              "<table border=\"1\" class=\"dataframe\">\n",
              "  <thead>\n",
              "    <tr style=\"text-align: right;\">\n",
              "      <th></th>\n",
              "      <th>Date</th>\n",
              "      <th>Rot</th>\n",
              "      <th>VH</th>\n",
              "      <th>Team</th>\n",
              "      <th>1st</th>\n",
              "      <th>2nd</th>\n",
              "      <th>3rd</th>\n",
              "      <th>4th</th>\n",
              "      <th>Final</th>\n",
              "      <th>Open</th>\n",
              "      <th>Close</th>\n",
              "      <th>ML</th>\n",
              "      <th>2H</th>\n",
              "    </tr>\n",
              "  </thead>\n",
              "  <tbody>\n",
              "    <tr>\n",
              "      <th>1328</th>\n",
              "      <td>117</td>\n",
              "      <td>541</td>\n",
              "      <td>N</td>\n",
              "      <td>NewYork</td>\n",
              "      <td>30</td>\n",
              "      <td>33</td>\n",
              "      <td>26</td>\n",
              "      <td>11</td>\n",
              "      <td>100</td>\n",
              "      <td>225</td>\n",
              "      <td>229</td>\n",
              "      <td>260</td>\n",
              "      <td>112.5</td>\n",
              "    </tr>\n",
              "    <tr>\n",
              "      <th>1329</th>\n",
              "      <td>117</td>\n",
              "      <td>542</td>\n",
              "      <td>N</td>\n",
              "      <td>Washington</td>\n",
              "      <td>20</td>\n",
              "      <td>33</td>\n",
              "      <td>24</td>\n",
              "      <td>24</td>\n",
              "      <td>101</td>\n",
              "      <td>7</td>\n",
              "      <td>7.5</td>\n",
              "      <td>-330</td>\n",
              "      <td>7.5</td>\n",
              "    </tr>\n",
              "  </tbody>\n",
              "</table>\n",
              "</div>"
            ],
            "text/plain": [
              "      Date  Rot VH        Team  1st  2nd  3rd  4th  Final Open Close   ML  \\\n",
              "1328   117  541  N     NewYork   30   33   26   11    100  225   229  260   \n",
              "1329   117  542  N  Washington   20   33   24   24    101    7   7.5 -330   \n",
              "\n",
              "         2H  \n",
              "1328  112.5  \n",
              "1329    7.5  "
            ]
          },
          "execution_count": 232,
          "metadata": {},
          "output_type": "execute_result"
        }
      ],
      "source": [
        "odds2016.loc[odds2016['VH']=='N']\n",
        "odds2017.loc[odds2017['VH']=='N']\n",
        "## do the same for 2018 df\n",
        "odds2018.loc[odds2018['VH']=='N']"
      ]
    },
    {
      "cell_type": "code",
      "execution_count": 234,
      "metadata": {
        "colab": {
          "base_uri": "https://localhost:8080/",
          "height": 102
        },
        "colab_type": "code",
        "id": "lhScR8X8sxu_",
        "outputId": "053d729f-30a9-4a07-fe97-ab4912d5bc8b"
      },
      "outputs": [
        {
          "name": "stderr",
          "output_type": "stream",
          "text": [
            "C:\\Users\\Jason Huang\\AppData\\Local\\Temp\\ipykernel_11944\\2080901717.py:1: SettingWithCopyWarning: \n",
            "A value is trying to be set on a copy of a slice from a DataFrame\n",
            "\n",
            "See the caveats in the documentation: https://pandas.pydata.org/pandas-docs/stable/user_guide/indexing.html#returning-a-view-versus-a-copy\n",
            "  odds2016['VH'].iloc[[1329]] = 'H'\n",
            "C:\\Users\\Jason Huang\\AppData\\Local\\Temp\\ipykernel_11944\\2080901717.py:2: SettingWithCopyWarning: \n",
            "A value is trying to be set on a copy of a slice from a DataFrame\n",
            "\n",
            "See the caveats in the documentation: https://pandas.pydata.org/pandas-docs/stable/user_guide/indexing.html#returning-a-view-versus-a-copy\n",
            "  odds2016['VH'].iloc[[1328]] = 'V'\n",
            "C:\\Users\\Jason Huang\\AppData\\Local\\Temp\\ipykernel_11944\\2080901717.py:3: SettingWithCopyWarning: \n",
            "A value is trying to be set on a copy of a slice from a DataFrame\n",
            "\n",
            "See the caveats in the documentation: https://pandas.pydata.org/pandas-docs/stable/user_guide/indexing.html#returning-a-view-versus-a-copy\n",
            "  odds2017['VH'].iloc[[1329]] = 'H'\n",
            "C:\\Users\\Jason Huang\\AppData\\Local\\Temp\\ipykernel_11944\\2080901717.py:4: SettingWithCopyWarning: \n",
            "A value is trying to be set on a copy of a slice from a DataFrame\n",
            "\n",
            "See the caveats in the documentation: https://pandas.pydata.org/pandas-docs/stable/user_guide/indexing.html#returning-a-view-versus-a-copy\n",
            "  odds2017['VH'].iloc[[1328]] = 'V'\n",
            "C:\\Users\\Jason Huang\\AppData\\Local\\Temp\\ipykernel_11944\\2080901717.py:6: SettingWithCopyWarning: \n",
            "A value is trying to be set on a copy of a slice from a DataFrame\n",
            "\n",
            "See the caveats in the documentation: https://pandas.pydata.org/pandas-docs/stable/user_guide/indexing.html#returning-a-view-versus-a-copy\n",
            "  odds2018['VH'].iloc[[1329]] = 'H'\n",
            "C:\\Users\\Jason Huang\\AppData\\Local\\Temp\\ipykernel_11944\\2080901717.py:7: SettingWithCopyWarning: \n",
            "A value is trying to be set on a copy of a slice from a DataFrame\n",
            "\n",
            "See the caveats in the documentation: https://pandas.pydata.org/pandas-docs/stable/user_guide/indexing.html#returning-a-view-versus-a-copy\n",
            "  odds2018['VH'].iloc[[1328]] = 'V'\n"
          ]
        }
      ],
      "source": [
        "odds2016['VH'].iloc[[1329]] = 'H'\n",
        "odds2016['VH'].iloc[[1328]] = 'V'\n",
        "odds2017['VH'].iloc[[1329]] = 'H'\n",
        "odds2017['VH'].iloc[[1328]] = 'V'\n",
        "## change the value for home and away team\n",
        "odds2018['VH'].iloc[[1329]] = 'H'\n",
        "odds2018['VH'].iloc[[1328]] = 'V'"
      ]
    },
    {
      "cell_type": "code",
      "execution_count": 236,
      "metadata": {
        "colab": {
          "base_uri": "https://localhost:8080/",
          "height": 111
        },
        "colab_type": "code",
        "id": "s-JpM79HtGtc",
        "outputId": "831320b5-22df-416d-897e-fa9becfcd117"
      },
      "outputs": [
        {
          "data": {
            "text/html": [
              "<div>\n",
              "<style scoped>\n",
              "    .dataframe tbody tr th:only-of-type {\n",
              "        vertical-align: middle;\n",
              "    }\n",
              "\n",
              "    .dataframe tbody tr th {\n",
              "        vertical-align: top;\n",
              "    }\n",
              "\n",
              "    .dataframe thead th {\n",
              "        text-align: right;\n",
              "    }\n",
              "</style>\n",
              "<table border=\"1\" class=\"dataframe\">\n",
              "  <thead>\n",
              "    <tr style=\"text-align: right;\">\n",
              "      <th></th>\n",
              "      <th>Date</th>\n",
              "      <th>Rot</th>\n",
              "      <th>VH</th>\n",
              "      <th>Team</th>\n",
              "      <th>1st</th>\n",
              "      <th>2nd</th>\n",
              "      <th>3rd</th>\n",
              "      <th>4th</th>\n",
              "      <th>Final</th>\n",
              "      <th>Open</th>\n",
              "      <th>Close</th>\n",
              "      <th>ML</th>\n",
              "      <th>2H</th>\n",
              "    </tr>\n",
              "  </thead>\n",
              "  <tbody>\n",
              "    <tr>\n",
              "      <th>1328</th>\n",
              "      <td>117</td>\n",
              "      <td>541</td>\n",
              "      <td>V</td>\n",
              "      <td>NewYork</td>\n",
              "      <td>30</td>\n",
              "      <td>33</td>\n",
              "      <td>26</td>\n",
              "      <td>11</td>\n",
              "      <td>100</td>\n",
              "      <td>225</td>\n",
              "      <td>229</td>\n",
              "      <td>260</td>\n",
              "      <td>112.5</td>\n",
              "    </tr>\n",
              "    <tr>\n",
              "      <th>1329</th>\n",
              "      <td>117</td>\n",
              "      <td>542</td>\n",
              "      <td>H</td>\n",
              "      <td>Washington</td>\n",
              "      <td>20</td>\n",
              "      <td>33</td>\n",
              "      <td>24</td>\n",
              "      <td>24</td>\n",
              "      <td>101</td>\n",
              "      <td>7</td>\n",
              "      <td>7.5</td>\n",
              "      <td>-330</td>\n",
              "      <td>7.5</td>\n",
              "    </tr>\n",
              "  </tbody>\n",
              "</table>\n",
              "</div>"
            ],
            "text/plain": [
              "      Date  Rot VH        Team  1st  2nd  3rd  4th  Final Open Close   ML  \\\n",
              "1328   117  541  V     NewYork   30   33   26   11    100  225   229  260   \n",
              "1329   117  542  H  Washington   20   33   24   24    101    7   7.5 -330   \n",
              "\n",
              "         2H  \n",
              "1328  112.5  \n",
              "1329    7.5  "
            ]
          },
          "execution_count": 236,
          "metadata": {},
          "output_type": "execute_result"
        }
      ],
      "source": [
        "## check work\n",
        "odds2016.iloc[[1328,1329]]\n",
        "odds2017.iloc[[1328,1329]]\n",
        "odds2018.iloc[[1328,1329]]"
      ]
    },
    {
      "cell_type": "code",
      "execution_count": 237,
      "metadata": {
        "colab": {},
        "colab_type": "code",
        "id": "kzd8C0wSB9Es"
      },
      "outputs": [],
      "source": [
        "## convert to datetime object\n",
        "odds2015['date'] = odds2015['Date'].apply(lambda x: convert_to_datetime(x, 2016))\n",
        "odds2016['date'] = odds2016['Date'].apply(lambda x: convert_to_datetime(x, 2016))\n",
        "odds2017['date'] = odds2017['Date'].apply(lambda x: convert_to_datetime(x, 2018))\n",
        "odds2018['date'] = odds2018['Date'].apply(lambda x: convert_to_datetime(x, 2019))\n",
        "oddsCurrent['date'] = oddsCurrent['Date'].apply(lambda x: convert_to_datetime(x, 2020))"
      ]
    },
    {
      "cell_type": "code",
      "execution_count": 238,
      "metadata": {
        "colab": {},
        "colab_type": "code",
        "id": "925eQIDWwVQj"
      },
      "outputs": [],
      "source": [
        "## team name to team abbrev dict for mapping\n",
        "team_dict = {'Atlanta':'ATL', 'Boston':'BOS', 'Brooklyn':'BRK','Charlotte':'CHO','Chicago':'CHI','Cleveland':'CLE','Dallas':'DAL', 'Denver':'DEN','Detroit':'DET',\n",
        "             'GoldenState':'GSW', 'Houston':'HOU', 'Indiana':'IND','LAClippers':'LAC','LALakers':'LAL','Memphis':'MEM','Miami':'MIA','Milwaukee':'MIL','Minnesota':'MIN',\n",
        "             'NewOrleans':'NOP','NewYork':'NYK','OklahomaCity':'OKC','Orlando':'ORL','Philadelphia':'PHI','Phoenix':'PHO','Portland':'POR','Sacramento':'SAC',\n",
        "             'SanAntonio':'SAS','Toronto':'TOR','Utah':'UTA','Washington':'WAS'}\n",
        "## change team names to abbrevs\n",
        "odds2015['Team'] = odds2015['Team'].map(team_dict)\n",
        "odds2016['Team'] = odds2016['Team'].map(team_dict)\n",
        "odds2017['Team'] = odds2017['Team'].map(team_dict)\n",
        "odds2018['Team'] = odds2018['Team'].map(team_dict)\n",
        "oddsCurrent['Team'] = oddsCurrent['Team'].map(team_dict)"
      ]
    },
    {
      "cell_type": "code",
      "execution_count": 239,
      "metadata": {
        "colab": {},
        "colab_type": "code",
        "id": "slVfFTsdKftq"
      },
      "outputs": [],
      "source": [
        "## seperate into home and away and drop playoff games\n",
        "## seperate into home and away and drop playoff games\n",
        "homeOdds2015 = odds2015.loc[odds2015['VH']=='H'].reset_index(drop=True)[:1230]\n",
        "awayOdds2015 = odds2015.loc[odds2015['VH']=='V'].reset_index(drop=True)[:1230]\n",
        "\n",
        "homeOdds2016 = odds2016.loc[odds2016['VH']=='H'].reset_index(drop=True)[:1230]\n",
        "awayOdds2016 = odds2016.loc[odds2016['VH']=='V'].reset_index(drop=True)[:1230]\n",
        "\n",
        "homeOdds2017 = odds2017.loc[odds2017['VH']=='H'].reset_index(drop=True)[:1230]\n",
        "awayOdds2017 = odds2017.loc[odds2017['VH']=='V'].reset_index(drop=True)[:1230]\n",
        "\n",
        "homeOdds2018 = odds2018.loc[odds2018['VH']=='H'].reset_index(drop=True)[:1230]\n",
        "awayOdds2018 = odds2018.loc[odds2018['VH']=='V'].reset_index(drop=True)[:1230]\n",
        "\n",
        "homeOddsCurrent = oddsCurrent.loc[oddsCurrent['VH']=='H'].reset_index(drop=True)\n",
        "awayOddsCurrent = oddsCurrent.loc[oddsCurrent['VH']=='V'].reset_index(drop=True)"
      ]
    },
    {
      "cell_type": "code",
      "execution_count": 240,
      "metadata": {
        "colab": {},
        "colab_type": "code",
        "id": "XHNgaiS1M8nL"
      },
      "outputs": [],
      "source": [
        "# rename home columns\n",
        "homeOdds2015 = homeOdds2015.rename(columns={'Team': 'homeTeam', 'ML': 'homeOdds'})\n",
        "homeOdds2016 = homeOdds2016.rename(columns={'Team': 'homeTeam', 'ML': 'homeOdds'})\n",
        "homeOdds2017 = homeOdds2017.rename(columns={'Team': 'homeTeam', 'ML': 'homeOdds'})\n",
        "homeOdds2018 = homeOdds2018.rename(columns={'Team': 'homeTeam', 'ML': 'homeOdds'})\n",
        "homeOddsCurrent = homeOddsCurrent.rename(columns={'Team': 'homeTeam', 'ML': 'homeOdds'})\n",
        "\n",
        "# rename away columns\n",
        "awayOdds2015 = awayOdds2015.rename(columns={'Team': 'awayTeam', 'ML': 'awayOdds'})\n",
        "awayOdds2016 = awayOdds2016.rename(columns={'Team': 'awayTeam', 'ML': 'awayOdds'})\n",
        "awayOdds2017 = awayOdds2017.rename(columns={'Team': 'awayTeam', 'ML': 'awayOdds'})\n",
        "awayOdds2018 = awayOdds2018.rename(columns={'Team': 'awayTeam', 'ML': 'awayOdds'})\n",
        "awayOddsCurrent = awayOddsCurrent.rename(columns={'Team': 'awayTeam', 'ML': 'awayOdds'})"
      ]
    },
    {
      "cell_type": "code",
      "execution_count": 241,
      "metadata": {
        "colab": {},
        "colab_type": "code",
        "id": "mkoTF7VM6YOf"
      },
      "outputs": [],
      "source": [
        "## create half of the combined df\n",
        "combinedOdds2015 = homeOdds2015[['date','homeTeam','homeOdds']]\n",
        "combinedOdds2016 = homeOdds2016[['date','homeTeam','homeOdds']]\n",
        "combinedOdds2017 = homeOdds2017[['date','homeTeam','homeOdds']]\n",
        "combinedOdds2018 = homeOdds2018[['date','homeTeam','homeOdds']]\n",
        "combinedOddsCurrent = homeOddsCurrent[['date','homeTeam','homeOdds']]"
      ]
    },
    {
      "cell_type": "code",
      "execution_count": 242,
      "metadata": {
        "colab": {
          "base_uri": "https://localhost:8080/",
          "height": 629
        },
        "colab_type": "code",
        "id": "fJF0AAmYOpLK",
        "outputId": "54091285-f847-47aa-8f5c-598717c7ab93"
      },
      "outputs": [
        {
          "name": "stderr",
          "output_type": "stream",
          "text": [
            "C:\\Users\\Jason Huang\\AppData\\Local\\Temp\\ipykernel_11944\\3978491057.py:2: SettingWithCopyWarning: \n",
            "A value is trying to be set on a copy of a slice from a DataFrame.\n",
            "Try using .loc[row_indexer,col_indexer] = value instead\n",
            "\n",
            "See the caveats in the documentation: https://pandas.pydata.org/pandas-docs/stable/user_guide/indexing.html#returning-a-view-versus-a-copy\n",
            "  combinedOdds2015['awayOdds'] = awayOdds2015['awayOdds']\n",
            "C:\\Users\\Jason Huang\\AppData\\Local\\Temp\\ipykernel_11944\\3978491057.py:3: SettingWithCopyWarning: \n",
            "A value is trying to be set on a copy of a slice from a DataFrame.\n",
            "Try using .loc[row_indexer,col_indexer] = value instead\n",
            "\n",
            "See the caveats in the documentation: https://pandas.pydata.org/pandas-docs/stable/user_guide/indexing.html#returning-a-view-versus-a-copy\n",
            "  combinedOdds2015['awayTeam'] = awayOdds2015['awayTeam']\n",
            "C:\\Users\\Jason Huang\\AppData\\Local\\Temp\\ipykernel_11944\\3978491057.py:5: SettingWithCopyWarning: \n",
            "A value is trying to be set on a copy of a slice from a DataFrame.\n",
            "Try using .loc[row_indexer,col_indexer] = value instead\n",
            "\n",
            "See the caveats in the documentation: https://pandas.pydata.org/pandas-docs/stable/user_guide/indexing.html#returning-a-view-versus-a-copy\n",
            "  combinedOdds2016['awayOdds'] = awayOdds2016['awayOdds']\n",
            "C:\\Users\\Jason Huang\\AppData\\Local\\Temp\\ipykernel_11944\\3978491057.py:6: SettingWithCopyWarning: \n",
            "A value is trying to be set on a copy of a slice from a DataFrame.\n",
            "Try using .loc[row_indexer,col_indexer] = value instead\n",
            "\n",
            "See the caveats in the documentation: https://pandas.pydata.org/pandas-docs/stable/user_guide/indexing.html#returning-a-view-versus-a-copy\n",
            "  combinedOdds2016['awayTeam'] = awayOdds2016['awayTeam']\n",
            "C:\\Users\\Jason Huang\\AppData\\Local\\Temp\\ipykernel_11944\\3978491057.py:8: SettingWithCopyWarning: \n",
            "A value is trying to be set on a copy of a slice from a DataFrame.\n",
            "Try using .loc[row_indexer,col_indexer] = value instead\n",
            "\n",
            "See the caveats in the documentation: https://pandas.pydata.org/pandas-docs/stable/user_guide/indexing.html#returning-a-view-versus-a-copy\n",
            "  combinedOdds2017['awayOdds'] = awayOdds2017['awayOdds']\n",
            "C:\\Users\\Jason Huang\\AppData\\Local\\Temp\\ipykernel_11944\\3978491057.py:9: SettingWithCopyWarning: \n",
            "A value is trying to be set on a copy of a slice from a DataFrame.\n",
            "Try using .loc[row_indexer,col_indexer] = value instead\n",
            "\n",
            "See the caveats in the documentation: https://pandas.pydata.org/pandas-docs/stable/user_guide/indexing.html#returning-a-view-versus-a-copy\n",
            "  combinedOdds2017['awayTeam'] = awayOdds2017['awayTeam']\n",
            "C:\\Users\\Jason Huang\\AppData\\Local\\Temp\\ipykernel_11944\\3978491057.py:11: SettingWithCopyWarning: \n",
            "A value is trying to be set on a copy of a slice from a DataFrame.\n",
            "Try using .loc[row_indexer,col_indexer] = value instead\n",
            "\n",
            "See the caveats in the documentation: https://pandas.pydata.org/pandas-docs/stable/user_guide/indexing.html#returning-a-view-versus-a-copy\n",
            "  combinedOdds2018['awayOdds'] = awayOdds2018['awayOdds']\n",
            "C:\\Users\\Jason Huang\\AppData\\Local\\Temp\\ipykernel_11944\\3978491057.py:12: SettingWithCopyWarning: \n",
            "A value is trying to be set on a copy of a slice from a DataFrame.\n",
            "Try using .loc[row_indexer,col_indexer] = value instead\n",
            "\n",
            "See the caveats in the documentation: https://pandas.pydata.org/pandas-docs/stable/user_guide/indexing.html#returning-a-view-versus-a-copy\n",
            "  combinedOdds2018['awayTeam'] = awayOdds2018['awayTeam']\n",
            "C:\\Users\\Jason Huang\\AppData\\Local\\Temp\\ipykernel_11944\\3978491057.py:14: SettingWithCopyWarning: \n",
            "A value is trying to be set on a copy of a slice from a DataFrame.\n",
            "Try using .loc[row_indexer,col_indexer] = value instead\n",
            "\n",
            "See the caveats in the documentation: https://pandas.pydata.org/pandas-docs/stable/user_guide/indexing.html#returning-a-view-versus-a-copy\n",
            "  combinedOddsCurrent['awayOdds'] = awayOddsCurrent['awayOdds']\n",
            "C:\\Users\\Jason Huang\\AppData\\Local\\Temp\\ipykernel_11944\\3978491057.py:15: SettingWithCopyWarning: \n",
            "A value is trying to be set on a copy of a slice from a DataFrame.\n",
            "Try using .loc[row_indexer,col_indexer] = value instead\n",
            "\n",
            "See the caveats in the documentation: https://pandas.pydata.org/pandas-docs/stable/user_guide/indexing.html#returning-a-view-versus-a-copy\n",
            "  combinedOddsCurrent['awayTeam'] = awayOddsCurrent['awayTeam']\n"
          ]
        }
      ],
      "source": [
        "## add in away columns\n",
        "combinedOdds2015['awayOdds'] = awayOdds2015['awayOdds']\n",
        "combinedOdds2015['awayTeam'] = awayOdds2015['awayTeam']\n",
        "\n",
        "combinedOdds2016['awayOdds'] = awayOdds2016['awayOdds']\n",
        "combinedOdds2016['awayTeam'] = awayOdds2016['awayTeam']\n",
        "\n",
        "combinedOdds2017['awayOdds'] = awayOdds2017['awayOdds']\n",
        "combinedOdds2017['awayTeam'] = awayOdds2017['awayTeam']\n",
        "\n",
        "combinedOdds2018['awayOdds'] = awayOdds2018['awayOdds']\n",
        "combinedOdds2018['awayTeam'] = awayOdds2018['awayTeam']\n",
        "\n",
        "combinedOddsCurrent['awayOdds'] = awayOddsCurrent['awayOdds']\n",
        "combinedOddsCurrent['awayTeam'] = awayOddsCurrent['awayTeam']"
      ]
    },
    {
      "cell_type": "code",
      "execution_count": 243,
      "metadata": {
        "colab": {},
        "colab_type": "code",
        "id": "VzkoyLYDxbU4"
      },
      "outputs": [],
      "source": [
        "## sort odds df to line both dfs up\n",
        "sortedOdds2015 = combinedOdds2015.sort_values(by=['date','homeTeam'])\n",
        "\n",
        "sortedOdds2016 = combinedOdds2016.sort_values(by=['date','homeTeam'])\n",
        "\n",
        "sortedOdds2017 = combinedOdds2017.sort_values(by=['date','homeTeam'])\n",
        "\n",
        "sortedOdds2018 = combinedOdds2018.sort_values(by=['date','homeTeam'])\n",
        "\n",
        "sortedOddsCurrent = combinedOddsCurrent.sort_values(by=['date','homeTeam'])"
      ]
    },
    {
      "cell_type": "code",
      "execution_count": 244,
      "metadata": {
        "colab": {},
        "colab_type": "code",
        "id": "7OyNBGQGyQEh"
      },
      "outputs": [],
      "source": [
        "## sort nba df\n",
        "sortedNba2015 = nba2015.sort_values(by=['date','homeTeam'])\n",
        "sortedNba2016 = nba2016.sort_values(by=['date','homeTeam'])\n",
        "sortedNba2017 = nba2017.sort_values(by=['date','homeTeam'])\n",
        "sortedNba2018 = nba2018.sort_values(by=['date','homeTeam'])\n",
        "sortedNbaCurrent = nbaCurrent.sort_values(by=['date','homeTeam'])"
      ]
    },
    {
      "cell_type": "markdown",
      "metadata": {
        "colab_type": "text",
        "id": "4KlwHes2MYtc"
      },
      "source": [
        "We have more recent data for the current NBA results right now than for the odds, so I'll drop the extra to give them the same shape."
      ]
    },
    {
      "cell_type": "code",
      "execution_count": 245,
      "metadata": {
        "colab": {
          "base_uri": "https://localhost:8080/",
          "height": 34
        },
        "colab_type": "code",
        "id": "s34rroBDL-R4",
        "outputId": "df41b14c-c7de-4209-b61c-ce92a1fae793"
      },
      "outputs": [
        {
          "data": {
            "text/plain": [
              "(805, 86)"
            ]
          },
          "execution_count": 245,
          "metadata": {},
          "output_type": "execute_result"
        }
      ],
      "source": [
        "sortedNbaCurrent.shape"
      ]
    },
    {
      "cell_type": "code",
      "execution_count": 246,
      "metadata": {
        "colab": {
          "base_uri": "https://localhost:8080/",
          "height": 34
        },
        "colab_type": "code",
        "id": "hGrXH_s_P08b",
        "outputId": "11b71f0c-cd19-4444-896a-32a4ed2ec181"
      },
      "outputs": [
        {
          "data": {
            "text/plain": [
              "(692, 5)"
            ]
          },
          "execution_count": 246,
          "metadata": {},
          "output_type": "execute_result"
        }
      ],
      "source": [
        "sortedOddsCurrent.shape"
      ]
    },
    {
      "cell_type": "code",
      "execution_count": 247,
      "metadata": {
        "colab": {},
        "colab_type": "code",
        "id": "Q0xXpvk8MImk"
      },
      "outputs": [],
      "source": [
        "sortedNbaCurrent = sortedNbaCurrent[:692]"
      ]
    },
    {
      "cell_type": "code",
      "execution_count": 248,
      "metadata": {
        "colab": {
          "base_uri": "https://localhost:8080/",
          "height": 34
        },
        "colab_type": "code",
        "id": "Dw2_IjkWMV1e",
        "outputId": "4a4da379-472e-4d63-fac6-a443aa5dbfb9"
      },
      "outputs": [
        {
          "data": {
            "text/plain": [
              "(692, 86)"
            ]
          },
          "execution_count": 248,
          "metadata": {},
          "output_type": "execute_result"
        }
      ],
      "source": [
        "sortedNbaCurrent.shape"
      ]
    },
    {
      "cell_type": "code",
      "execution_count": 249,
      "metadata": {
        "colab": {
          "base_uri": "https://localhost:8080/",
          "height": 359
        },
        "colab_type": "code",
        "id": "9sGlEUgwF24f",
        "outputId": "98825838-7bfc-40f8-eab9-f942b59e5bd0"
      },
      "outputs": [
        {
          "data": {
            "text/html": [
              "<div>\n",
              "<style scoped>\n",
              "    .dataframe tbody tr th:only-of-type {\n",
              "        vertical-align: middle;\n",
              "    }\n",
              "\n",
              "    .dataframe tbody tr th {\n",
              "        vertical-align: top;\n",
              "    }\n",
              "\n",
              "    .dataframe thead th {\n",
              "        text-align: right;\n",
              "    }\n",
              "</style>\n",
              "<table border=\"1\" class=\"dataframe\">\n",
              "  <thead>\n",
              "    <tr style=\"text-align: right;\">\n",
              "      <th></th>\n",
              "      <th>date</th>\n",
              "      <th>homeTeam</th>\n",
              "      <th>homeOdds</th>\n",
              "      <th>awayOdds</th>\n",
              "      <th>awayTeam</th>\n",
              "    </tr>\n",
              "  </thead>\n",
              "  <tbody>\n",
              "    <tr>\n",
              "      <th>683</th>\n",
              "      <td>2020-01-25</td>\n",
              "      <td>PHI</td>\n",
              "      <td>185</td>\n",
              "      <td>-230</td>\n",
              "      <td>LAL</td>\n",
              "    </tr>\n",
              "    <tr>\n",
              "      <th>679</th>\n",
              "      <td>2020-01-25</td>\n",
              "      <td>UTA</td>\n",
              "      <td>-210</td>\n",
              "      <td>175</td>\n",
              "      <td>DAL</td>\n",
              "    </tr>\n",
              "    <tr>\n",
              "      <th>690</th>\n",
              "      <td>2020-01-26</td>\n",
              "      <td>ATL</td>\n",
              "      <td>-115</td>\n",
              "      <td>-105</td>\n",
              "      <td>WAS</td>\n",
              "    </tr>\n",
              "    <tr>\n",
              "      <th>684</th>\n",
              "      <td>2020-01-26</td>\n",
              "      <td>DEN</td>\n",
              "      <td>-140</td>\n",
              "      <td>120</td>\n",
              "      <td>HOU</td>\n",
              "    </tr>\n",
              "    <tr>\n",
              "      <th>687</th>\n",
              "      <td>2020-01-26</td>\n",
              "      <td>MEM</td>\n",
              "      <td>-135</td>\n",
              "      <td>115</td>\n",
              "      <td>PHO</td>\n",
              "    </tr>\n",
              "    <tr>\n",
              "      <th>686</th>\n",
              "      <td>2020-01-26</td>\n",
              "      <td>NOP</td>\n",
              "      <td>-125</td>\n",
              "      <td>105</td>\n",
              "      <td>BOS</td>\n",
              "    </tr>\n",
              "    <tr>\n",
              "      <th>689</th>\n",
              "      <td>2020-01-26</td>\n",
              "      <td>NYK</td>\n",
              "      <td>-140</td>\n",
              "      <td>120</td>\n",
              "      <td>BRK</td>\n",
              "    </tr>\n",
              "    <tr>\n",
              "      <th>688</th>\n",
              "      <td>2020-01-26</td>\n",
              "      <td>ORL</td>\n",
              "      <td>135</td>\n",
              "      <td>-155</td>\n",
              "      <td>LAC</td>\n",
              "    </tr>\n",
              "    <tr>\n",
              "      <th>691</th>\n",
              "      <td>2020-01-26</td>\n",
              "      <td>POR</td>\n",
              "      <td>-150</td>\n",
              "      <td>130</td>\n",
              "      <td>IND</td>\n",
              "    </tr>\n",
              "    <tr>\n",
              "      <th>685</th>\n",
              "      <td>2020-01-26</td>\n",
              "      <td>SAS</td>\n",
              "      <td>145</td>\n",
              "      <td>-170</td>\n",
              "      <td>TOR</td>\n",
              "    </tr>\n",
              "  </tbody>\n",
              "</table>\n",
              "</div>"
            ],
            "text/plain": [
              "           date homeTeam  homeOdds  awayOdds awayTeam\n",
              "683  2020-01-25      PHI       185      -230      LAL\n",
              "679  2020-01-25      UTA      -210       175      DAL\n",
              "690  2020-01-26      ATL      -115      -105      WAS\n",
              "684  2020-01-26      DEN      -140       120      HOU\n",
              "687  2020-01-26      MEM      -135       115      PHO\n",
              "686  2020-01-26      NOP      -125       105      BOS\n",
              "689  2020-01-26      NYK      -140       120      BRK\n",
              "688  2020-01-26      ORL       135      -155      LAC\n",
              "691  2020-01-26      POR      -150       130      IND\n",
              "685  2020-01-26      SAS       145      -170      TOR"
            ]
          },
          "execution_count": 249,
          "metadata": {},
          "output_type": "execute_result"
        }
      ],
      "source": [
        "sortedOddsCurrent.tail(10)"
      ]
    },
    {
      "cell_type": "code",
      "execution_count": 250,
      "metadata": {
        "colab": {
          "base_uri": "https://localhost:8080/",
          "height": 359
        },
        "colab_type": "code",
        "id": "PfYgW1TdGvMO",
        "outputId": "1eb96752-51a1-4488-c75f-75188889cd78"
      },
      "outputs": [
        {
          "data": {
            "text/html": [
              "<div>\n",
              "<style scoped>\n",
              "    .dataframe tbody tr th:only-of-type {\n",
              "        vertical-align: middle;\n",
              "    }\n",
              "\n",
              "    .dataframe tbody tr th {\n",
              "        vertical-align: top;\n",
              "    }\n",
              "\n",
              "    .dataframe thead th {\n",
              "        text-align: right;\n",
              "    }\n",
              "</style>\n",
              "<table border=\"1\" class=\"dataframe\">\n",
              "  <thead>\n",
              "    <tr style=\"text-align: right;\">\n",
              "      <th></th>\n",
              "      <th>date</th>\n",
              "      <th>homeTeam</th>\n",
              "      <th>awayTeam</th>\n",
              "    </tr>\n",
              "  </thead>\n",
              "  <tbody>\n",
              "    <tr>\n",
              "      <th>682</th>\n",
              "      <td>2020-01-25</td>\n",
              "      <td>PHI</td>\n",
              "      <td>LAL</td>\n",
              "    </tr>\n",
              "    <tr>\n",
              "      <th>683</th>\n",
              "      <td>2020-01-25</td>\n",
              "      <td>UTA</td>\n",
              "      <td>DAL</td>\n",
              "    </tr>\n",
              "    <tr>\n",
              "      <th>684</th>\n",
              "      <td>2020-01-26</td>\n",
              "      <td>ATL</td>\n",
              "      <td>WAS</td>\n",
              "    </tr>\n",
              "    <tr>\n",
              "      <th>685</th>\n",
              "      <td>2020-01-26</td>\n",
              "      <td>DEN</td>\n",
              "      <td>HOU</td>\n",
              "    </tr>\n",
              "    <tr>\n",
              "      <th>686</th>\n",
              "      <td>2020-01-26</td>\n",
              "      <td>MEM</td>\n",
              "      <td>PHO</td>\n",
              "    </tr>\n",
              "    <tr>\n",
              "      <th>687</th>\n",
              "      <td>2020-01-26</td>\n",
              "      <td>NOP</td>\n",
              "      <td>BOS</td>\n",
              "    </tr>\n",
              "    <tr>\n",
              "      <th>688</th>\n",
              "      <td>2020-01-26</td>\n",
              "      <td>NYK</td>\n",
              "      <td>BRK</td>\n",
              "    </tr>\n",
              "    <tr>\n",
              "      <th>689</th>\n",
              "      <td>2020-01-26</td>\n",
              "      <td>ORL</td>\n",
              "      <td>LAC</td>\n",
              "    </tr>\n",
              "    <tr>\n",
              "      <th>690</th>\n",
              "      <td>2020-01-26</td>\n",
              "      <td>POR</td>\n",
              "      <td>IND</td>\n",
              "    </tr>\n",
              "    <tr>\n",
              "      <th>691</th>\n",
              "      <td>2020-01-26</td>\n",
              "      <td>SAS</td>\n",
              "      <td>TOR</td>\n",
              "    </tr>\n",
              "  </tbody>\n",
              "</table>\n",
              "</div>"
            ],
            "text/plain": [
              "           date homeTeam awayTeam\n",
              "682  2020-01-25      PHI      LAL\n",
              "683  2020-01-25      UTA      DAL\n",
              "684  2020-01-26      ATL      WAS\n",
              "685  2020-01-26      DEN      HOU\n",
              "686  2020-01-26      MEM      PHO\n",
              "687  2020-01-26      NOP      BOS\n",
              "688  2020-01-26      NYK      BRK\n",
              "689  2020-01-26      ORL      LAC\n",
              "690  2020-01-26      POR      IND\n",
              "691  2020-01-26      SAS      TOR"
            ]
          },
          "execution_count": 250,
          "metadata": {},
          "output_type": "execute_result"
        }
      ],
      "source": [
        "sortedNbaCurrent[['date','homeTeam','awayTeam']].tail(10)"
      ]
    },
    {
      "cell_type": "markdown",
      "metadata": {
        "colab_type": "text",
        "id": "lRvUeokhzSKW"
      },
      "source": [
        "##### Now that the two dfs have the exact same shape and format, it's time to tack on the money line column."
      ]
    },
    {
      "cell_type": "code",
      "execution_count": 251,
      "metadata": {
        "colab": {},
        "colab_type": "code",
        "id": "GuIdUo_G1aX4"
      },
      "outputs": [],
      "source": [
        "## add home and away money line column\n",
        "sortedNba2015['homeOdds'] = sortedOdds2015['homeOdds']\n",
        "sortedNba2015['awayOdds'] = sortedOdds2015['awayOdds']\n",
        "\n",
        "sortedNba2016['homeOdds'] = sortedOdds2016['homeOdds']\n",
        "sortedNba2016['awayOdds'] = sortedOdds2016['awayOdds']\n",
        "\n",
        "sortedNba2017['homeOdds'] = sortedOdds2017['homeOdds']\n",
        "sortedNba2017['awayOdds'] = sortedOdds2017['awayOdds']\n",
        "\n",
        "sortedNba2018['homeOdds'] = sortedOdds2018['homeOdds']\n",
        "sortedNba2018['awayOdds'] = sortedOdds2018['awayOdds']\n",
        "\n",
        "sortedNbaCurrent['homeOdds'] = sortedOddsCurrent['homeOdds']\n",
        "sortedNbaCurrent['awayOdds'] = sortedOddsCurrent['awayOdds']"
      ]
    },
    {
      "cell_type": "code",
      "execution_count": 252,
      "metadata": {
        "colab": {
          "base_uri": "https://localhost:8080/",
          "height": 359
        },
        "colab_type": "code",
        "id": "kTGohEdycXjO",
        "outputId": "8c0bb826-8d63-4bd4-a31b-3d7a03c63bc1"
      },
      "outputs": [
        {
          "data": {
            "text/html": [
              "<div>\n",
              "<style scoped>\n",
              "    .dataframe tbody tr th:only-of-type {\n",
              "        vertical-align: middle;\n",
              "    }\n",
              "\n",
              "    .dataframe tbody tr th {\n",
              "        vertical-align: top;\n",
              "    }\n",
              "\n",
              "    .dataframe thead th {\n",
              "        text-align: right;\n",
              "    }\n",
              "</style>\n",
              "<table border=\"1\" class=\"dataframe\">\n",
              "  <thead>\n",
              "    <tr style=\"text-align: right;\">\n",
              "      <th></th>\n",
              "      <th>date</th>\n",
              "      <th>homeTeam</th>\n",
              "      <th>awayTeam</th>\n",
              "      <th>homeOdds</th>\n",
              "      <th>awayOdds</th>\n",
              "    </tr>\n",
              "  </thead>\n",
              "  <tbody>\n",
              "    <tr>\n",
              "      <th>682</th>\n",
              "      <td>2020-01-25</td>\n",
              "      <td>PHI</td>\n",
              "      <td>LAL</td>\n",
              "      <td>-125</td>\n",
              "      <td>105</td>\n",
              "    </tr>\n",
              "    <tr>\n",
              "      <th>683</th>\n",
              "      <td>2020-01-25</td>\n",
              "      <td>UTA</td>\n",
              "      <td>DAL</td>\n",
              "      <td>185</td>\n",
              "      <td>-230</td>\n",
              "    </tr>\n",
              "    <tr>\n",
              "      <th>684</th>\n",
              "      <td>2020-01-26</td>\n",
              "      <td>ATL</td>\n",
              "      <td>WAS</td>\n",
              "      <td>-140</td>\n",
              "      <td>120</td>\n",
              "    </tr>\n",
              "    <tr>\n",
              "      <th>685</th>\n",
              "      <td>2020-01-26</td>\n",
              "      <td>DEN</td>\n",
              "      <td>HOU</td>\n",
              "      <td>145</td>\n",
              "      <td>-170</td>\n",
              "    </tr>\n",
              "    <tr>\n",
              "      <th>686</th>\n",
              "      <td>2020-01-26</td>\n",
              "      <td>MEM</td>\n",
              "      <td>PHO</td>\n",
              "      <td>-125</td>\n",
              "      <td>105</td>\n",
              "    </tr>\n",
              "    <tr>\n",
              "      <th>687</th>\n",
              "      <td>2020-01-26</td>\n",
              "      <td>NOP</td>\n",
              "      <td>BOS</td>\n",
              "      <td>-135</td>\n",
              "      <td>115</td>\n",
              "    </tr>\n",
              "    <tr>\n",
              "      <th>688</th>\n",
              "      <td>2020-01-26</td>\n",
              "      <td>NYK</td>\n",
              "      <td>BRK</td>\n",
              "      <td>135</td>\n",
              "      <td>-155</td>\n",
              "    </tr>\n",
              "    <tr>\n",
              "      <th>689</th>\n",
              "      <td>2020-01-26</td>\n",
              "      <td>ORL</td>\n",
              "      <td>LAC</td>\n",
              "      <td>-140</td>\n",
              "      <td>120</td>\n",
              "    </tr>\n",
              "    <tr>\n",
              "      <th>690</th>\n",
              "      <td>2020-01-26</td>\n",
              "      <td>POR</td>\n",
              "      <td>IND</td>\n",
              "      <td>-115</td>\n",
              "      <td>-105</td>\n",
              "    </tr>\n",
              "    <tr>\n",
              "      <th>691</th>\n",
              "      <td>2020-01-26</td>\n",
              "      <td>SAS</td>\n",
              "      <td>TOR</td>\n",
              "      <td>-150</td>\n",
              "      <td>130</td>\n",
              "    </tr>\n",
              "  </tbody>\n",
              "</table>\n",
              "</div>"
            ],
            "text/plain": [
              "           date homeTeam awayTeam  homeOdds  awayOdds\n",
              "682  2020-01-25      PHI      LAL      -125       105\n",
              "683  2020-01-25      UTA      DAL       185      -230\n",
              "684  2020-01-26      ATL      WAS      -140       120\n",
              "685  2020-01-26      DEN      HOU       145      -170\n",
              "686  2020-01-26      MEM      PHO      -125       105\n",
              "687  2020-01-26      NOP      BOS      -135       115\n",
              "688  2020-01-26      NYK      BRK       135      -155\n",
              "689  2020-01-26      ORL      LAC      -140       120\n",
              "690  2020-01-26      POR      IND      -115      -105\n",
              "691  2020-01-26      SAS      TOR      -150       130"
            ]
          },
          "execution_count": 252,
          "metadata": {},
          "output_type": "execute_result"
        }
      ],
      "source": [
        "sortedNbaCurrent[['date','homeTeam','awayTeam','homeOdds','awayOdds']].tail(10)"
      ]
    },
    {
      "cell_type": "markdown",
      "metadata": {
        "colab_type": "text",
        "id": "lZhfFgiu2r9F"
      },
      "source": [
        "## Transform the Data\n",
        "Currently, each row represents a box score of a completed game. Since we obviously don't have access to that information when predicting, each statistical feature will become the rolling average of the previous X games. I kept the two seasons' dfs seperate so that performance from the previous season wasn't included. The first X games of each season are dropped since there isn't enough information.\n",
        "\n",
        "After testing 1-7 games, 3 has been performing the best. 2-4 all performed similarly but more than that was a clear drop in performance. \n",
        "\n",
        "Another note: the rolling average is from the previous X home or away games for that team. This accounts for teams' road vs away performance but could lose some performance where a team is playing their first home game after many road games and vice versa."
      ]
    },
    {
      "cell_type": "code",
      "execution_count": 253,
      "metadata": {
        "colab": {
          "base_uri": "https://localhost:8080/",
          "height": 102
        },
        "colab_type": "code",
        "id": "90zkHx8e2Bj-",
        "outputId": "4f622e90-7e4c-4b49-8052-a90aec8136a9"
      },
      "outputs": [
        {
          "name": "stderr",
          "output_type": "stream",
          "text": [
            "C:\\Users\\Jason Huang\\AppData\\Local\\Temp\\ipykernel_11944\\261196598.py:5: SettingWithCopyWarning: \n",
            "A value is trying to be set on a copy of a slice from a DataFrame\n",
            "\n",
            "See the caveats in the documentation: https://pandas.pydata.org/pandas-docs/stable/user_guide/indexing.html#returning-a-view-versus-a-copy\n",
            "  df[col].loc[df['homeTeam']==team] = df[col].loc[df['homeTeam']==team].shift(1).rolling(num_games, min_periods=3).mean()\n"
          ]
        },
        {
          "name": "stderr",
          "output_type": "stream",
          "text": [
            "C:\\Users\\Jason Huang\\AppData\\Local\\Temp\\ipykernel_11944\\261196598.py:8: SettingWithCopyWarning: \n",
            "A value is trying to be set on a copy of a slice from a DataFrame\n",
            "\n",
            "See the caveats in the documentation: https://pandas.pydata.org/pandas-docs/stable/user_guide/indexing.html#returning-a-view-versus-a-copy\n",
            "  df[col].loc[df['awayTeam']==team] = df[col].loc[df['awayTeam']==team].shift(1).rolling(num_games, min_periods=3).mean()\n"
          ]
        }
      ],
      "source": [
        "## apply our transformation\n",
        "avg2015 = avg_previous_num_games(sortedNba2015, 3)\n",
        "avg2016 = avg_previous_num_games(sortedNba2016, 3)\n",
        "avg2017 = avg_previous_num_games(sortedNba2017, 3)\n",
        "avg2018 = avg_previous_num_games(sortedNba2018, 3)\n",
        "nba_test = avg_previous_num_games(sortedNbaCurrent, 3)"
      ]
    },
    {
      "cell_type": "code",
      "execution_count": 254,
      "metadata": {
        "colab": {
          "base_uri": "https://localhost:8080/",
          "height": 34
        },
        "colab_type": "code",
        "id": "AcIrn5ExUnla",
        "outputId": "b74b2c2e-a637-4994-a99b-cb4adf2eb74b"
      },
      "outputs": [
        {
          "data": {
            "text/plain": [
              "(590, 88)"
            ]
          },
          "execution_count": 254,
          "metadata": {},
          "output_type": "execute_result"
        }
      ],
      "source": [
        "nba_test.shape"
      ]
    },
    {
      "cell_type": "code",
      "execution_count": 255,
      "metadata": {
        "colab": {},
        "colab_type": "code",
        "id": "Z1UqIMK0hixu"
      },
      "outputs": [],
      "source": [
        "nba_test.reset_index(drop=True, inplace=True)"
      ]
    },
    {
      "cell_type": "code",
      "execution_count": 256,
      "metadata": {
        "colab": {},
        "colab_type": "code",
        "id": "Uq6NbmEt5NeB"
      },
      "outputs": [],
      "source": [
        "## combine the two dfs\n",
        "nba_final = pd.concat([avg2015,avg2016,avg2017, avg2018])"
      ]
    },
    {
      "cell_type": "code",
      "execution_count": 257,
      "metadata": {
        "colab": {
          "base_uri": "https://localhost:8080/",
          "height": 34
        },
        "colab_type": "code",
        "id": "aVA6IBWqacab",
        "outputId": "b1b8e175-4453-412a-b2e4-2e9fdf437102"
      },
      "outputs": [
        {
          "data": {
            "text/plain": [
              "(4499, 88)"
            ]
          },
          "execution_count": 257,
          "metadata": {},
          "output_type": "execute_result"
        }
      ],
      "source": [
        "nba_final.shape"
      ]
    },
    {
      "cell_type": "code",
      "execution_count": 258,
      "metadata": {},
      "outputs": [
        {
          "data": {
            "text/html": [
              "<div>\n",
              "<style scoped>\n",
              "    .dataframe tbody tr th:only-of-type {\n",
              "        vertical-align: middle;\n",
              "    }\n",
              "\n",
              "    .dataframe tbody tr th {\n",
              "        vertical-align: top;\n",
              "    }\n",
              "\n",
              "    .dataframe thead th {\n",
              "        text-align: right;\n",
              "    }\n",
              "</style>\n",
              "<table border=\"1\" class=\"dataframe\">\n",
              "  <thead>\n",
              "    <tr style=\"text-align: right;\">\n",
              "      <th></th>\n",
              "      <th>gameID</th>\n",
              "      <th>away_assist_percentage</th>\n",
              "      <th>away_assists</th>\n",
              "      <th>away_block_percentage</th>\n",
              "      <th>away_blocks</th>\n",
              "      <th>away_defensive_rating</th>\n",
              "      <th>away_defensive_rebound_percentage</th>\n",
              "      <th>away_defensive_rebounds</th>\n",
              "      <th>away_effective_field_goal_percentage</th>\n",
              "      <th>away_field_goal_attempts</th>\n",
              "      <th>away_field_goal_percentage</th>\n",
              "      <th>away_field_goals</th>\n",
              "      <th>away_free_throw_attempt_rate</th>\n",
              "      <th>away_free_throw_attempts</th>\n",
              "      <th>away_free_throw_percentage</th>\n",
              "      <th>away_free_throws</th>\n",
              "      <th>away_losses</th>\n",
              "      <th>away_minutes_played</th>\n",
              "      <th>away_offensive_rating</th>\n",
              "      <th>away_offensive_rebound_percentage</th>\n",
              "      <th>away_offensive_rebounds</th>\n",
              "      <th>away_personal_fouls</th>\n",
              "      <th>away_points</th>\n",
              "      <th>away_steal_percentage</th>\n",
              "      <th>away_steals</th>\n",
              "      <th>away_three_point_attempt_rate</th>\n",
              "      <th>away_three_point_field_goal_attempts</th>\n",
              "      <th>away_three_point_field_goal_percentage</th>\n",
              "      <th>away_three_point_field_goals</th>\n",
              "      <th>away_total_rebound_percentage</th>\n",
              "      <th>away_total_rebounds</th>\n",
              "      <th>away_true_shooting_percentage</th>\n",
              "      <th>away_turnover_percentage</th>\n",
              "      <th>away_turnovers</th>\n",
              "      <th>away_two_point_field_goal_attempts</th>\n",
              "      <th>away_two_point_field_goal_percentage</th>\n",
              "      <th>away_two_point_field_goals</th>\n",
              "      <th>away_wins</th>\n",
              "      <th>date</th>\n",
              "      <th>home_assist_percentage</th>\n",
              "      <th>home_assists</th>\n",
              "      <th>home_block_percentage</th>\n",
              "      <th>home_blocks</th>\n",
              "      <th>home_defensive_rating</th>\n",
              "      <th>home_defensive_rebound_percentage</th>\n",
              "      <th>home_defensive_rebounds</th>\n",
              "      <th>home_effective_field_goal_percentage</th>\n",
              "      <th>home_field_goal_attempts</th>\n",
              "      <th>home_field_goal_percentage</th>\n",
              "      <th>home_field_goals</th>\n",
              "      <th>home_free_throw_attempt_rate</th>\n",
              "      <th>home_free_throw_attempts</th>\n",
              "      <th>home_free_throw_percentage</th>\n",
              "      <th>home_free_throws</th>\n",
              "      <th>home_losses</th>\n",
              "      <th>home_minutes_played</th>\n",
              "      <th>home_offensive_rating</th>\n",
              "      <th>home_offensive_rebound_percentage</th>\n",
              "      <th>home_offensive_rebounds</th>\n",
              "      <th>home_personal_fouls</th>\n",
              "      <th>home_points</th>\n",
              "      <th>home_steal_percentage</th>\n",
              "      <th>home_steals</th>\n",
              "      <th>home_three_point_attempt_rate</th>\n",
              "      <th>home_three_point_field_goal_attempts</th>\n",
              "      <th>home_three_point_field_goal_percentage</th>\n",
              "      <th>home_three_point_field_goals</th>\n",
              "      <th>home_total_rebound_percentage</th>\n",
              "      <th>home_total_rebounds</th>\n",
              "      <th>home_true_shooting_percentage</th>\n",
              "      <th>home_turnover_percentage</th>\n",
              "      <th>home_turnovers</th>\n",
              "      <th>home_two_point_field_goal_attempts</th>\n",
              "      <th>home_two_point_field_goal_percentage</th>\n",
              "      <th>home_two_point_field_goals</th>\n",
              "      <th>home_wins</th>\n",
              "      <th>location</th>\n",
              "      <th>losing_abbr</th>\n",
              "      <th>losing_name</th>\n",
              "      <th>pace</th>\n",
              "      <th>winner</th>\n",
              "      <th>winning_abbr</th>\n",
              "      <th>winning_name</th>\n",
              "      <th>homeWin</th>\n",
              "      <th>homeTeam</th>\n",
              "      <th>awayTeam</th>\n",
              "      <th>homeOdds</th>\n",
              "      <th>awayOdds</th>\n",
              "    </tr>\n",
              "  </thead>\n",
              "  <tbody>\n",
              "    <tr>\n",
              "      <th>77</th>\n",
              "      <td>201511060GSW</td>\n",
              "      <td>63.966667</td>\n",
              "      <td>25.333333</td>\n",
              "      <td>11.933333</td>\n",
              "      <td>6.666667</td>\n",
              "      <td>106.633333</td>\n",
              "      <td>70.700000</td>\n",
              "      <td>33.000000</td>\n",
              "      <td>0.521667</td>\n",
              "      <td>85.333333</td>\n",
              "      <td>0.464000</td>\n",
              "      <td>39.333333</td>\n",
              "      <td>0.266667</td>\n",
              "      <td>22.666667</td>\n",
              "      <td>0.758333</td>\n",
              "      <td>17.666667</td>\n",
              "      <td>4</td>\n",
              "      <td>240.000000</td>\n",
              "      <td>108.833333</td>\n",
              "      <td>26.233333</td>\n",
              "      <td>11.333333</td>\n",
              "      <td>22.000000</td>\n",
              "      <td>106.000000</td>\n",
              "      <td>7.566667</td>\n",
              "      <td>7.333333</td>\n",
              "      <td>0.286667</td>\n",
              "      <td>24.333333</td>\n",
              "      <td>0.392333</td>\n",
              "      <td>9.666667</td>\n",
              "      <td>49.666667</td>\n",
              "      <td>44.333333</td>\n",
              "      <td>0.558333</td>\n",
              "      <td>14.466667</td>\n",
              "      <td>16.000000</td>\n",
              "      <td>61.000000</td>\n",
              "      <td>0.489000</td>\n",
              "      <td>29.666667</td>\n",
              "      <td>2</td>\n",
              "      <td>2015-11-06</td>\n",
              "      <td>72.300000</td>\n",
              "      <td>22.000000</td>\n",
              "      <td>12.066667</td>\n",
              "      <td>4.666667</td>\n",
              "      <td>91.300000</td>\n",
              "      <td>80.466667</td>\n",
              "      <td>29.666667</td>\n",
              "      <td>0.523000</td>\n",
              "      <td>89.000000</td>\n",
              "      <td>0.394000</td>\n",
              "      <td>34.666667</td>\n",
              "      <td>0.317000</td>\n",
              "      <td>23.000000</td>\n",
              "      <td>0.680000</td>\n",
              "      <td>15.666667</td>\n",
              "      <td>0</td>\n",
              "      <td>240.0</td>\n",
              "      <td>114.466667</td>\n",
              "      <td>30.500000</td>\n",
              "      <td>9.666667</td>\n",
              "      <td>25.333333</td>\n",
              "      <td>114.000000</td>\n",
              "      <td>7.366667</td>\n",
              "      <td>7.666667</td>\n",
              "      <td>0.305667</td>\n",
              "      <td>21.000000</td>\n",
              "      <td>0.275667</td>\n",
              "      <td>5.666667</td>\n",
              "      <td>57.700000</td>\n",
              "      <td>39.333333</td>\n",
              "      <td>0.568333</td>\n",
              "      <td>13.100000</td>\n",
              "      <td>13.333333</td>\n",
              "      <td>68.000000</td>\n",
              "      <td>0.430333</td>\n",
              "      <td>29.000000</td>\n",
              "      <td>6</td>\n",
              "      <td>Oracle Arena, Oakland, California</td>\n",
              "      <td>DEN</td>\n",
              "      <td>Denver Nuggets</td>\n",
              "      <td>107.4</td>\n",
              "      <td>Home</td>\n",
              "      <td>GSW</td>\n",
              "      <td>Golden State Warriors</td>\n",
              "      <td>True</td>\n",
              "      <td>GSW</td>\n",
              "      <td>DEN</td>\n",
              "      <td>-1650</td>\n",
              "      <td>950</td>\n",
              "    </tr>\n",
              "    <tr>\n",
              "      <th>84</th>\n",
              "      <td>201511070ATL</td>\n",
              "      <td>62.266667</td>\n",
              "      <td>21.666667</td>\n",
              "      <td>10.900000</td>\n",
              "      <td>7.333333</td>\n",
              "      <td>104.266667</td>\n",
              "      <td>73.200000</td>\n",
              "      <td>32.666667</td>\n",
              "      <td>0.497667</td>\n",
              "      <td>80.000000</td>\n",
              "      <td>0.439000</td>\n",
              "      <td>34.666667</td>\n",
              "      <td>0.402000</td>\n",
              "      <td>30.666667</td>\n",
              "      <td>0.733667</td>\n",
              "      <td>23.000000</td>\n",
              "      <td>3</td>\n",
              "      <td>240.000000</td>\n",
              "      <td>100.100000</td>\n",
              "      <td>24.033333</td>\n",
              "      <td>11.000000</td>\n",
              "      <td>20.333333</td>\n",
              "      <td>101.333333</td>\n",
              "      <td>8.200000</td>\n",
              "      <td>8.333333</td>\n",
              "      <td>0.308667</td>\n",
              "      <td>24.666667</td>\n",
              "      <td>0.380333</td>\n",
              "      <td>9.000000</td>\n",
              "      <td>48.733333</td>\n",
              "      <td>43.666667</td>\n",
              "      <td>0.545667</td>\n",
              "      <td>18.100000</td>\n",
              "      <td>20.666667</td>\n",
              "      <td>55.333333</td>\n",
              "      <td>0.465667</td>\n",
              "      <td>25.666667</td>\n",
              "      <td>3</td>\n",
              "      <td>2015-11-07</td>\n",
              "      <td>65.466667</td>\n",
              "      <td>23.333333</td>\n",
              "      <td>9.666667</td>\n",
              "      <td>4.333333</td>\n",
              "      <td>101.066667</td>\n",
              "      <td>66.533333</td>\n",
              "      <td>35.333333</td>\n",
              "      <td>0.507000</td>\n",
              "      <td>89.000000</td>\n",
              "      <td>0.409333</td>\n",
              "      <td>36.333333</td>\n",
              "      <td>0.254667</td>\n",
              "      <td>17.333333</td>\n",
              "      <td>0.769000</td>\n",
              "      <td>13.333333</td>\n",
              "      <td>1</td>\n",
              "      <td>240.0</td>\n",
              "      <td>103.000000</td>\n",
              "      <td>16.566667</td>\n",
              "      <td>16.666667</td>\n",
              "      <td>18.000000</td>\n",
              "      <td>97.333333</td>\n",
              "      <td>11.700000</td>\n",
              "      <td>7.000000</td>\n",
              "      <td>0.298333</td>\n",
              "      <td>26.666667</td>\n",
              "      <td>0.350667</td>\n",
              "      <td>9.666667</td>\n",
              "      <td>43.366667</td>\n",
              "      <td>52.000000</td>\n",
              "      <td>0.545333</td>\n",
              "      <td>13.833333</td>\n",
              "      <td>17.333333</td>\n",
              "      <td>62.333333</td>\n",
              "      <td>0.429000</td>\n",
              "      <td>26.666667</td>\n",
              "      <td>7</td>\n",
              "      <td>Philips Arena, Atlanta, Georgia</td>\n",
              "      <td>WAS</td>\n",
              "      <td>Washington Wizards</td>\n",
              "      <td>99.7</td>\n",
              "      <td>Home</td>\n",
              "      <td>ATL</td>\n",
              "      <td>Atlanta Hawks</td>\n",
              "      <td>True</td>\n",
              "      <td>ATL</td>\n",
              "      <td>WAS</td>\n",
              "      <td>-475</td>\n",
              "      <td>380</td>\n",
              "    </tr>\n",
              "    <tr>\n",
              "      <th>88</th>\n",
              "      <td>201511070MIL</td>\n",
              "      <td>58.933333</td>\n",
              "      <td>20.666667</td>\n",
              "      <td>7.366667</td>\n",
              "      <td>4.333333</td>\n",
              "      <td>110.533333</td>\n",
              "      <td>76.800000</td>\n",
              "      <td>31.333333</td>\n",
              "      <td>0.466333</td>\n",
              "      <td>79.666667</td>\n",
              "      <td>0.439333</td>\n",
              "      <td>35.000000</td>\n",
              "      <td>0.193333</td>\n",
              "      <td>15.333333</td>\n",
              "      <td>0.656333</td>\n",
              "      <td>10.000000</td>\n",
              "      <td>7</td>\n",
              "      <td>240.000000</td>\n",
              "      <td>92.233333</td>\n",
              "      <td>19.366667</td>\n",
              "      <td>8.000000</td>\n",
              "      <td>19.333333</td>\n",
              "      <td>84.333333</td>\n",
              "      <td>6.533333</td>\n",
              "      <td>6.000000</td>\n",
              "      <td>0.208667</td>\n",
              "      <td>16.666667</td>\n",
              "      <td>0.260667</td>\n",
              "      <td>4.333333</td>\n",
              "      <td>47.600000</td>\n",
              "      <td>39.333333</td>\n",
              "      <td>0.487333</td>\n",
              "      <td>14.966667</td>\n",
              "      <td>15.333333</td>\n",
              "      <td>63.000000</td>\n",
              "      <td>0.485333</td>\n",
              "      <td>30.666667</td>\n",
              "      <td>0</td>\n",
              "      <td>2015-11-07</td>\n",
              "      <td>67.966667</td>\n",
              "      <td>24.000000</td>\n",
              "      <td>5.833333</td>\n",
              "      <td>7.000000</td>\n",
              "      <td>113.666667</td>\n",
              "      <td>68.966667</td>\n",
              "      <td>32.666667</td>\n",
              "      <td>0.469667</td>\n",
              "      <td>80.666667</td>\n",
              "      <td>0.462333</td>\n",
              "      <td>37.000000</td>\n",
              "      <td>0.299667</td>\n",
              "      <td>31.333333</td>\n",
              "      <td>0.838000</td>\n",
              "      <td>26.000000</td>\n",
              "      <td>3</td>\n",
              "      <td>240.0</td>\n",
              "      <td>104.666667</td>\n",
              "      <td>23.866667</td>\n",
              "      <td>13.000000</td>\n",
              "      <td>23.666667</td>\n",
              "      <td>100.333333</td>\n",
              "      <td>7.633333</td>\n",
              "      <td>7.333333</td>\n",
              "      <td>0.256333</td>\n",
              "      <td>24.000000</td>\n",
              "      <td>0.392000</td>\n",
              "      <td>9.000000</td>\n",
              "      <td>45.600000</td>\n",
              "      <td>45.666667</td>\n",
              "      <td>0.524333</td>\n",
              "      <td>13.166667</td>\n",
              "      <td>16.666667</td>\n",
              "      <td>56.666667</td>\n",
              "      <td>0.496000</td>\n",
              "      <td>28.000000</td>\n",
              "      <td>4</td>\n",
              "      <td>BMO Harris Bradley Center, Milwaukee, Wisconsin</td>\n",
              "      <td>BRK</td>\n",
              "      <td>Brooklyn Nets</td>\n",
              "      <td>91.1</td>\n",
              "      <td>Home</td>\n",
              "      <td>MIL</td>\n",
              "      <td>Milwaukee Bucks</td>\n",
              "      <td>True</td>\n",
              "      <td>MIL</td>\n",
              "      <td>BRK</td>\n",
              "      <td>-285</td>\n",
              "      <td>235</td>\n",
              "    </tr>\n",
              "    <tr>\n",
              "      <th>94</th>\n",
              "      <td>201511080MIA</td>\n",
              "      <td>42.766667</td>\n",
              "      <td>14.333333</td>\n",
              "      <td>8.066667</td>\n",
              "      <td>4.666667</td>\n",
              "      <td>100.566667</td>\n",
              "      <td>76.800000</td>\n",
              "      <td>33.000000</td>\n",
              "      <td>0.436333</td>\n",
              "      <td>82.333333</td>\n",
              "      <td>0.406000</td>\n",
              "      <td>33.333333</td>\n",
              "      <td>0.382667</td>\n",
              "      <td>31.333333</td>\n",
              "      <td>0.821667</td>\n",
              "      <td>25.666667</td>\n",
              "      <td>2</td>\n",
              "      <td>240.000000</td>\n",
              "      <td>104.266667</td>\n",
              "      <td>28.066667</td>\n",
              "      <td>12.333333</td>\n",
              "      <td>20.000000</td>\n",
              "      <td>97.333333</td>\n",
              "      <td>9.566667</td>\n",
              "      <td>9.000000</td>\n",
              "      <td>0.217000</td>\n",
              "      <td>18.000000</td>\n",
              "      <td>0.289333</td>\n",
              "      <td>5.000000</td>\n",
              "      <td>52.100000</td>\n",
              "      <td>45.333333</td>\n",
              "      <td>0.507333</td>\n",
              "      <td>11.900000</td>\n",
              "      <td>13.000000</td>\n",
              "      <td>64.333333</td>\n",
              "      <td>0.440000</td>\n",
              "      <td>28.333333</td>\n",
              "      <td>5</td>\n",
              "      <td>2015-11-08</td>\n",
              "      <td>51.733333</td>\n",
              "      <td>20.333333</td>\n",
              "      <td>12.100000</td>\n",
              "      <td>1.666667</td>\n",
              "      <td>98.666667</td>\n",
              "      <td>79.900000</td>\n",
              "      <td>32.666667</td>\n",
              "      <td>0.529000</td>\n",
              "      <td>84.333333</td>\n",
              "      <td>0.403000</td>\n",
              "      <td>34.000000</td>\n",
              "      <td>0.239333</td>\n",
              "      <td>23.000000</td>\n",
              "      <td>0.788333</td>\n",
              "      <td>18.000000</td>\n",
              "      <td>3</td>\n",
              "      <td>240.0</td>\n",
              "      <td>107.100000</td>\n",
              "      <td>19.733333</td>\n",
              "      <td>10.000000</td>\n",
              "      <td>17.666667</td>\n",
              "      <td>101.666667</td>\n",
              "      <td>9.066667</td>\n",
              "      <td>7.666667</td>\n",
              "      <td>0.285333</td>\n",
              "      <td>27.000000</td>\n",
              "      <td>0.287000</td>\n",
              "      <td>7.666667</td>\n",
              "      <td>52.100000</td>\n",
              "      <td>42.666667</td>\n",
              "      <td>0.566000</td>\n",
              "      <td>13.666667</td>\n",
              "      <td>13.333333</td>\n",
              "      <td>57.333333</td>\n",
              "      <td>0.465667</td>\n",
              "      <td>26.333333</td>\n",
              "      <td>4</td>\n",
              "      <td>AmericanAirlines Arena, Miami, Florida</td>\n",
              "      <td>TOR</td>\n",
              "      <td>Toronto Raptors</td>\n",
              "      <td>88.0</td>\n",
              "      <td>Home</td>\n",
              "      <td>MIA</td>\n",
              "      <td>Miami Heat</td>\n",
              "      <td>True</td>\n",
              "      <td>MIA</td>\n",
              "      <td>TOR</td>\n",
              "      <td>-370</td>\n",
              "      <td>305</td>\n",
              "    </tr>\n",
              "    <tr>\n",
              "      <th>98</th>\n",
              "      <td>201511090ATL</td>\n",
              "      <td>63.300000</td>\n",
              "      <td>22.666667</td>\n",
              "      <td>9.066667</td>\n",
              "      <td>5.666667</td>\n",
              "      <td>92.766667</td>\n",
              "      <td>75.333333</td>\n",
              "      <td>39.666667</td>\n",
              "      <td>0.456000</td>\n",
              "      <td>83.333333</td>\n",
              "      <td>0.429000</td>\n",
              "      <td>35.666667</td>\n",
              "      <td>0.434667</td>\n",
              "      <td>35.000000</td>\n",
              "      <td>0.757667</td>\n",
              "      <td>27.000000</td>\n",
              "      <td>2</td>\n",
              "      <td>248.333333</td>\n",
              "      <td>101.766667</td>\n",
              "      <td>19.100000</td>\n",
              "      <td>9.000000</td>\n",
              "      <td>24.333333</td>\n",
              "      <td>103.000000</td>\n",
              "      <td>5.900000</td>\n",
              "      <td>6.000000</td>\n",
              "      <td>0.187667</td>\n",
              "      <td>15.666667</td>\n",
              "      <td>0.290000</td>\n",
              "      <td>4.666667</td>\n",
              "      <td>49.166667</td>\n",
              "      <td>48.666667</td>\n",
              "      <td>0.523333</td>\n",
              "      <td>11.900000</td>\n",
              "      <td>13.333333</td>\n",
              "      <td>67.666667</td>\n",
              "      <td>0.463667</td>\n",
              "      <td>31.000000</td>\n",
              "      <td>4</td>\n",
              "      <td>2015-11-09</td>\n",
              "      <td>74.300000</td>\n",
              "      <td>24.666667</td>\n",
              "      <td>10.133333</td>\n",
              "      <td>4.333333</td>\n",
              "      <td>97.100000</td>\n",
              "      <td>73.033333</td>\n",
              "      <td>34.333333</td>\n",
              "      <td>0.519667</td>\n",
              "      <td>83.000000</td>\n",
              "      <td>0.443333</td>\n",
              "      <td>36.666667</td>\n",
              "      <td>0.248000</td>\n",
              "      <td>14.333333</td>\n",
              "      <td>0.806667</td>\n",
              "      <td>11.666667</td>\n",
              "      <td>2</td>\n",
              "      <td>240.0</td>\n",
              "      <td>108.266667</td>\n",
              "      <td>18.900000</td>\n",
              "      <td>11.666667</td>\n",
              "      <td>19.000000</td>\n",
              "      <td>104.000000</td>\n",
              "      <td>12.566667</td>\n",
              "      <td>9.000000</td>\n",
              "      <td>0.308333</td>\n",
              "      <td>25.000000</td>\n",
              "      <td>0.323667</td>\n",
              "      <td>8.333333</td>\n",
              "      <td>46.166667</td>\n",
              "      <td>46.000000</td>\n",
              "      <td>0.561333</td>\n",
              "      <td>13.133333</td>\n",
              "      <td>20.333333</td>\n",
              "      <td>58.000000</td>\n",
              "      <td>0.490000</td>\n",
              "      <td>28.333333</td>\n",
              "      <td>7</td>\n",
              "      <td>Philips Arena, Atlanta, Georgia</td>\n",
              "      <td>ATL</td>\n",
              "      <td>Atlanta Hawks</td>\n",
              "      <td>99.6</td>\n",
              "      <td>Away</td>\n",
              "      <td>MIN</td>\n",
              "      <td>Minnesota Timberwolves</td>\n",
              "      <td>False</td>\n",
              "      <td>ATL</td>\n",
              "      <td>MIN</td>\n",
              "      <td>525</td>\n",
              "      <td>-725</td>\n",
              "    </tr>\n",
              "  </tbody>\n",
              "</table>\n",
              "</div>"
            ],
            "text/plain": [
              "          gameID  away_assist_percentage  away_assists  away_block_percentage  \\\n",
              "77  201511060GSW               63.966667     25.333333              11.933333   \n",
              "84  201511070ATL               62.266667     21.666667              10.900000   \n",
              "88  201511070MIL               58.933333     20.666667               7.366667   \n",
              "94  201511080MIA               42.766667     14.333333               8.066667   \n",
              "98  201511090ATL               63.300000     22.666667               9.066667   \n",
              "\n",
              "    away_blocks  away_defensive_rating  away_defensive_rebound_percentage  \\\n",
              "77     6.666667             106.633333                          70.700000   \n",
              "84     7.333333             104.266667                          73.200000   \n",
              "88     4.333333             110.533333                          76.800000   \n",
              "94     4.666667             100.566667                          76.800000   \n",
              "98     5.666667              92.766667                          75.333333   \n",
              "\n",
              "    away_defensive_rebounds  away_effective_field_goal_percentage  \\\n",
              "77                33.000000                              0.521667   \n",
              "84                32.666667                              0.497667   \n",
              "88                31.333333                              0.466333   \n",
              "94                33.000000                              0.436333   \n",
              "98                39.666667                              0.456000   \n",
              "\n",
              "    away_field_goal_attempts  away_field_goal_percentage  away_field_goals  \\\n",
              "77                 85.333333                    0.464000         39.333333   \n",
              "84                 80.000000                    0.439000         34.666667   \n",
              "88                 79.666667                    0.439333         35.000000   \n",
              "94                 82.333333                    0.406000         33.333333   \n",
              "98                 83.333333                    0.429000         35.666667   \n",
              "\n",
              "    away_free_throw_attempt_rate  away_free_throw_attempts  \\\n",
              "77                      0.266667                 22.666667   \n",
              "84                      0.402000                 30.666667   \n",
              "88                      0.193333                 15.333333   \n",
              "94                      0.382667                 31.333333   \n",
              "98                      0.434667                 35.000000   \n",
              "\n",
              "    away_free_throw_percentage  away_free_throws  away_losses  \\\n",
              "77                    0.758333         17.666667            4   \n",
              "84                    0.733667         23.000000            3   \n",
              "88                    0.656333         10.000000            7   \n",
              "94                    0.821667         25.666667            2   \n",
              "98                    0.757667         27.000000            2   \n",
              "\n",
              "    away_minutes_played  away_offensive_rating  \\\n",
              "77           240.000000             108.833333   \n",
              "84           240.000000             100.100000   \n",
              "88           240.000000              92.233333   \n",
              "94           240.000000             104.266667   \n",
              "98           248.333333             101.766667   \n",
              "\n",
              "    away_offensive_rebound_percentage  away_offensive_rebounds  \\\n",
              "77                          26.233333                11.333333   \n",
              "84                          24.033333                11.000000   \n",
              "88                          19.366667                 8.000000   \n",
              "94                          28.066667                12.333333   \n",
              "98                          19.100000                 9.000000   \n",
              "\n",
              "    away_personal_fouls  away_points  away_steal_percentage  away_steals  \\\n",
              "77            22.000000   106.000000               7.566667     7.333333   \n",
              "84            20.333333   101.333333               8.200000     8.333333   \n",
              "88            19.333333    84.333333               6.533333     6.000000   \n",
              "94            20.000000    97.333333               9.566667     9.000000   \n",
              "98            24.333333   103.000000               5.900000     6.000000   \n",
              "\n",
              "    away_three_point_attempt_rate  away_three_point_field_goal_attempts  \\\n",
              "77                       0.286667                             24.333333   \n",
              "84                       0.308667                             24.666667   \n",
              "88                       0.208667                             16.666667   \n",
              "94                       0.217000                             18.000000   \n",
              "98                       0.187667                             15.666667   \n",
              "\n",
              "    away_three_point_field_goal_percentage  away_three_point_field_goals  \\\n",
              "77                                0.392333                      9.666667   \n",
              "84                                0.380333                      9.000000   \n",
              "88                                0.260667                      4.333333   \n",
              "94                                0.289333                      5.000000   \n",
              "98                                0.290000                      4.666667   \n",
              "\n",
              "    away_total_rebound_percentage  away_total_rebounds  \\\n",
              "77                      49.666667            44.333333   \n",
              "84                      48.733333            43.666667   \n",
              "88                      47.600000            39.333333   \n",
              "94                      52.100000            45.333333   \n",
              "98                      49.166667            48.666667   \n",
              "\n",
              "    away_true_shooting_percentage  away_turnover_percentage  away_turnovers  \\\n",
              "77                       0.558333                 14.466667       16.000000   \n",
              "84                       0.545667                 18.100000       20.666667   \n",
              "88                       0.487333                 14.966667       15.333333   \n",
              "94                       0.507333                 11.900000       13.000000   \n",
              "98                       0.523333                 11.900000       13.333333   \n",
              "\n",
              "    away_two_point_field_goal_attempts  away_two_point_field_goal_percentage  \\\n",
              "77                           61.000000                              0.489000   \n",
              "84                           55.333333                              0.465667   \n",
              "88                           63.000000                              0.485333   \n",
              "94                           64.333333                              0.440000   \n",
              "98                           67.666667                              0.463667   \n",
              "\n",
              "    away_two_point_field_goals  away_wins        date  home_assist_percentage  \\\n",
              "77                   29.666667          2  2015-11-06               72.300000   \n",
              "84                   25.666667          3  2015-11-07               65.466667   \n",
              "88                   30.666667          0  2015-11-07               67.966667   \n",
              "94                   28.333333          5  2015-11-08               51.733333   \n",
              "98                   31.000000          4  2015-11-09               74.300000   \n",
              "\n",
              "    home_assists  home_block_percentage  home_blocks  home_defensive_rating  \\\n",
              "77     22.000000              12.066667     4.666667              91.300000   \n",
              "84     23.333333               9.666667     4.333333             101.066667   \n",
              "88     24.000000               5.833333     7.000000             113.666667   \n",
              "94     20.333333              12.100000     1.666667              98.666667   \n",
              "98     24.666667              10.133333     4.333333              97.100000   \n",
              "\n",
              "    home_defensive_rebound_percentage  home_defensive_rebounds  \\\n",
              "77                          80.466667                29.666667   \n",
              "84                          66.533333                35.333333   \n",
              "88                          68.966667                32.666667   \n",
              "94                          79.900000                32.666667   \n",
              "98                          73.033333                34.333333   \n",
              "\n",
              "    home_effective_field_goal_percentage  home_field_goal_attempts  \\\n",
              "77                              0.523000                 89.000000   \n",
              "84                              0.507000                 89.000000   \n",
              "88                              0.469667                 80.666667   \n",
              "94                              0.529000                 84.333333   \n",
              "98                              0.519667                 83.000000   \n",
              "\n",
              "    home_field_goal_percentage  home_field_goals  \\\n",
              "77                    0.394000         34.666667   \n",
              "84                    0.409333         36.333333   \n",
              "88                    0.462333         37.000000   \n",
              "94                    0.403000         34.000000   \n",
              "98                    0.443333         36.666667   \n",
              "\n",
              "    home_free_throw_attempt_rate  home_free_throw_attempts  \\\n",
              "77                      0.317000                 23.000000   \n",
              "84                      0.254667                 17.333333   \n",
              "88                      0.299667                 31.333333   \n",
              "94                      0.239333                 23.000000   \n",
              "98                      0.248000                 14.333333   \n",
              "\n",
              "    home_free_throw_percentage  home_free_throws  home_losses  \\\n",
              "77                    0.680000         15.666667            0   \n",
              "84                    0.769000         13.333333            1   \n",
              "88                    0.838000         26.000000            3   \n",
              "94                    0.788333         18.000000            3   \n",
              "98                    0.806667         11.666667            2   \n",
              "\n",
              "    home_minutes_played  home_offensive_rating  \\\n",
              "77                240.0             114.466667   \n",
              "84                240.0             103.000000   \n",
              "88                240.0             104.666667   \n",
              "94                240.0             107.100000   \n",
              "98                240.0             108.266667   \n",
              "\n",
              "    home_offensive_rebound_percentage  home_offensive_rebounds  \\\n",
              "77                          30.500000                 9.666667   \n",
              "84                          16.566667                16.666667   \n",
              "88                          23.866667                13.000000   \n",
              "94                          19.733333                10.000000   \n",
              "98                          18.900000                11.666667   \n",
              "\n",
              "    home_personal_fouls  home_points  home_steal_percentage  home_steals  \\\n",
              "77            25.333333   114.000000               7.366667     7.666667   \n",
              "84            18.000000    97.333333              11.700000     7.000000   \n",
              "88            23.666667   100.333333               7.633333     7.333333   \n",
              "94            17.666667   101.666667               9.066667     7.666667   \n",
              "98            19.000000   104.000000              12.566667     9.000000   \n",
              "\n",
              "    home_three_point_attempt_rate  home_three_point_field_goal_attempts  \\\n",
              "77                       0.305667                             21.000000   \n",
              "84                       0.298333                             26.666667   \n",
              "88                       0.256333                             24.000000   \n",
              "94                       0.285333                             27.000000   \n",
              "98                       0.308333                             25.000000   \n",
              "\n",
              "    home_three_point_field_goal_percentage  home_three_point_field_goals  \\\n",
              "77                                0.275667                      5.666667   \n",
              "84                                0.350667                      9.666667   \n",
              "88                                0.392000                      9.000000   \n",
              "94                                0.287000                      7.666667   \n",
              "98                                0.323667                      8.333333   \n",
              "\n",
              "    home_total_rebound_percentage  home_total_rebounds  \\\n",
              "77                      57.700000            39.333333   \n",
              "84                      43.366667            52.000000   \n",
              "88                      45.600000            45.666667   \n",
              "94                      52.100000            42.666667   \n",
              "98                      46.166667            46.000000   \n",
              "\n",
              "    home_true_shooting_percentage  home_turnover_percentage  home_turnovers  \\\n",
              "77                       0.568333                 13.100000       13.333333   \n",
              "84                       0.545333                 13.833333       17.333333   \n",
              "88                       0.524333                 13.166667       16.666667   \n",
              "94                       0.566000                 13.666667       13.333333   \n",
              "98                       0.561333                 13.133333       20.333333   \n",
              "\n",
              "    home_two_point_field_goal_attempts  home_two_point_field_goal_percentage  \\\n",
              "77                           68.000000                              0.430333   \n",
              "84                           62.333333                              0.429000   \n",
              "88                           56.666667                              0.496000   \n",
              "94                           57.333333                              0.465667   \n",
              "98                           58.000000                              0.490000   \n",
              "\n",
              "    home_two_point_field_goals  home_wins  \\\n",
              "77                   29.000000          6   \n",
              "84                   26.666667          7   \n",
              "88                   28.000000          4   \n",
              "94                   26.333333          4   \n",
              "98                   28.333333          7   \n",
              "\n",
              "                                           location losing_abbr  \\\n",
              "77                Oracle Arena, Oakland, California         DEN   \n",
              "84                  Philips Arena, Atlanta, Georgia         WAS   \n",
              "88  BMO Harris Bradley Center, Milwaukee, Wisconsin         BRK   \n",
              "94           AmericanAirlines Arena, Miami, Florida         TOR   \n",
              "98                  Philips Arena, Atlanta, Georgia         ATL   \n",
              "\n",
              "           losing_name   pace winner winning_abbr            winning_name  \\\n",
              "77      Denver Nuggets  107.4   Home          GSW   Golden State Warriors   \n",
              "84  Washington Wizards   99.7   Home          ATL           Atlanta Hawks   \n",
              "88       Brooklyn Nets   91.1   Home          MIL         Milwaukee Bucks   \n",
              "94     Toronto Raptors   88.0   Home          MIA              Miami Heat   \n",
              "98       Atlanta Hawks   99.6   Away          MIN  Minnesota Timberwolves   \n",
              "\n",
              "    homeWin homeTeam awayTeam  homeOdds  awayOdds  \n",
              "77     True      GSW      DEN     -1650       950  \n",
              "84     True      ATL      WAS      -475       380  \n",
              "88     True      MIL      BRK      -285       235  \n",
              "94     True      MIA      TOR      -370       305  \n",
              "98    False      ATL      MIN       525      -725  "
            ]
          },
          "execution_count": 258,
          "metadata": {},
          "output_type": "execute_result"
        }
      ],
      "source": [
        "nba_final.head()"
      ]
    },
    {
      "cell_type": "markdown",
      "metadata": {
        "colab_type": "text",
        "id": "uV13YF2T7c3b"
      },
      "source": [
        "## Initial DBA\n",
        "Let's poke around our data."
      ]
    },
    {
      "cell_type": "markdown",
      "metadata": {
        "colab_type": "text",
        "id": "T4HqeVMI_j8_"
      },
      "source": [
        "##### As seen below, the money line feature needs to be normalized, which we'll do to all our features to be safe."
      ]
    },
    {
      "cell_type": "code",
      "execution_count": 259,
      "metadata": {
        "colab": {
          "base_uri": "https://localhost:8080/",
          "height": 296
        },
        "colab_type": "code",
        "id": "Dn51Atd3_Vaj",
        "outputId": "0e40fad9-a0f9-4d2f-e210-435e0e34dd2b"
      },
      "outputs": [
        {
          "name": "stderr",
          "output_type": "stream",
          "text": [
            "c:\\Users\\Jason Huang\\anaconda3\\lib\\site-packages\\seaborn\\distributions.py:2619: FutureWarning: `distplot` is a deprecated function and will be removed in a future version. Please adapt your code to use either `displot` (a figure-level function with similar flexibility) or `histplot` (an axes-level function for histograms).\n",
            "  warnings.warn(msg, FutureWarning)\n"
          ]
        },
        {
          "data": {
            "text/plain": [
              "<AxesSubplot:xlabel='homeOdds', ylabel='Density'>"
            ]
          },
          "execution_count": 259,
          "metadata": {},
          "output_type": "execute_result"
        },
        {
          "data": {
            "image/png": "[encoded data removed]",
            "text/plain": [
              "<Figure size 640x480 with 1 Axes>"
            ]
          },
          "metadata": {},
          "output_type": "display_data"
        }
      ],
      "source": [
        "## home money line distribution\n",
        "sns.distplot(nba_final['homeOdds'])"
      ]
    },
    {
      "cell_type": "code",
      "execution_count": 260,
      "metadata": {
        "colab": {
          "base_uri": "https://localhost:8080/",
          "height": 297
        },
        "colab_type": "code",
        "id": "JH-175LVSTYj",
        "outputId": "dc447e6b-357f-4577-a4db-47e4b47e6542"
      },
      "outputs": [
        {
          "name": "stderr",
          "output_type": "stream",
          "text": [
            "c:\\Users\\Jason Huang\\anaconda3\\lib\\site-packages\\seaborn\\distributions.py:2619: FutureWarning: `distplot` is a deprecated function and will be removed in a future version. Please adapt your code to use either `displot` (a figure-level function with similar flexibility) or `histplot` (an axes-level function for histograms).\n",
            "  warnings.warn(msg, FutureWarning)\n"
          ]
        },
        {
          "data": {
            "text/plain": [
              "<AxesSubplot:xlabel='awayOdds', ylabel='Density'>"
            ]
          },
          "execution_count": 260,
          "metadata": {},
          "output_type": "execute_result"
        },
        {
          "data": {
            "image/png": "[encoded data removed]",
            "text/plain": [
              "<Figure size 640x480 with 1 Axes>"
            ]
          },
          "metadata": {},
          "output_type": "display_data"
        }
      ],
      "source": [
        "## away money line distribution\n",
        "sns.distplot(nba_final['awayOdds'])"
      ]
    },
    {
      "cell_type": "code",
      "execution_count": 261,
      "metadata": {
        "colab": {
          "base_uri": "https://localhost:8080/",
          "height": 297
        },
        "colab_type": "code",
        "id": "auvUJ4ye_w_D",
        "outputId": "e86b83d4-4e10-4c47-a0b7-3e8bdaa3111a"
      },
      "outputs": [
        {
          "name": "stderr",
          "output_type": "stream",
          "text": [
            "c:\\Users\\Jason Huang\\anaconda3\\lib\\site-packages\\seaborn\\distributions.py:2619: FutureWarning: `distplot` is a deprecated function and will be removed in a future version. Please adapt your code to use either `displot` (a figure-level function with similar flexibility) or `histplot` (an axes-level function for histograms).\n",
            "  warnings.warn(msg, FutureWarning)\n"
          ]
        },
        {
          "data": {
            "text/plain": [
              "<AxesSubplot:xlabel='home_points', ylabel='Density'>"
            ]
          },
          "execution_count": 261,
          "metadata": {},
          "output_type": "execute_result"
        },
        {
          "data": {
            "image/png": "[encoded data removed]",
            "text/plain": [
              "<Figure size 640x480 with 1 Axes>"
            ]
          },
          "metadata": {},
          "output_type": "display_data"
        }
      ],
      "source": [
        "## points distribution\n",
        "sns.distplot(nba_final['home_points'])"
      ]
    },
    {
      "cell_type": "markdown",
      "metadata": {
        "colab_type": "text",
        "id": "BfwXD0rL9Pzg"
      },
      "source": [
        "##### Our correlations all seem logical with the away team win total and the home team loss total being the strongest negative correlation to a home win -- essentially representing which team has had more success so far that season."
      ]
    },
    {
      "cell_type": "code",
      "execution_count": 262,
      "metadata": {
        "colab": {},
        "colab_type": "code",
        "id": "tQVx5bzo6bM8"
      },
      "outputs": [],
      "source": [
        "## get correlations to win\n",
        "winCorr = nba_final.corr()['homeWin'].sort_values(ascending=False)"
      ]
    },
    {
      "cell_type": "code",
      "execution_count": 263,
      "metadata": {
        "colab": {
          "base_uri": "https://localhost:8080/",
          "height": 204
        },
        "colab_type": "code",
        "id": "hiPoLjax6yBM",
        "outputId": "aef381d4-063a-4e6a-e2a0-60389b028a35"
      },
      "outputs": [
        {
          "data": {
            "text/plain": [
              "homeWin                                 1.000000\n",
              "home_wins                               0.157571\n",
              "home_offensive_rating                   0.157481\n",
              "home_true_shooting_percentage           0.131370\n",
              "away_losses                             0.131317\n",
              "home_effective_field_goal_percentage    0.129818\n",
              "home_points                             0.129391\n",
              "home_total_rebound_percentage           0.092577\n",
              "away_defensive_rating                   0.079232\n",
              "away_two_point_field_goal_attempts      0.069018\n",
              "Name: homeWin, dtype: float64"
            ]
          },
          "execution_count": 263,
          "metadata": {},
          "output_type": "execute_result"
        }
      ],
      "source": [
        "## top 10 correlations to home win\n",
        "winCorr.head(10)"
      ]
    },
    {
      "cell_type": "code",
      "execution_count": 264,
      "metadata": {
        "colab": {
          "base_uri": "https://localhost:8080/",
          "height": 204
        },
        "colab_type": "code",
        "id": "zqov0n-p69AP",
        "outputId": "b43dc9ac-5236-4ace-d743-c4a08429dcdc"
      },
      "outputs": [
        {
          "data": {
            "text/plain": [
              "away_three_point_attempt_rate   -0.075997\n",
              "away_true_shooting_percentage   -0.076945\n",
              "home_defensive_rating           -0.077303\n",
              "away_offensive_rating           -0.080502\n",
              "away_three_point_field_goals    -0.081179\n",
              "home_total_rebounds             -0.086116\n",
              "home_defensive_rebounds         -0.093291\n",
              "home_blocks                     -0.101524\n",
              "away_wins                       -0.152660\n",
              "home_losses                     -0.165788\n",
              "Name: homeWin, dtype: float64"
            ]
          },
          "execution_count": 264,
          "metadata": {},
          "output_type": "execute_result"
        }
      ],
      "source": [
        "## bottom 10 correlations to home win\n",
        "winCorr.tail(10)"
      ]
    },
    {
      "cell_type": "code",
      "execution_count": 265,
      "metadata": {
        "colab": {
          "base_uri": "https://localhost:8080/",
          "height": 806
        },
        "colab_type": "code",
        "id": "qwqU9NOK7CpZ",
        "outputId": "b2350a8c-136e-41b2-9733-fa8bd868187b"
      },
      "outputs": [
        {
          "data": {
            "text/plain": [
              "<AxesSubplot:>"
            ]
          },
          "execution_count": 265,
          "metadata": {},
          "output_type": "execute_result"
        },
        {
          "data": {
            "image/png": "[encoded data removed]",
            "text/plain": [
              "<Figure size 1500x1000 with 3 Axes>"
            ]
          },
          "metadata": {},
          "output_type": "display_data"
        }
      ],
      "source": [
        "# Correlation heatmap\n",
        "plt.subplots(figsize=(15,10))\n",
        "ax = plt.axes()\n",
        "corr = nba_final.corr()\n",
        "sns.heatmap(corr,cmap = \"Blues\")"
      ]
    },
    {
      "cell_type": "markdown",
      "metadata": {
        "colab_type": "text",
        "id": "PFApfdVx-6xr"
      },
      "source": [
        "##### We have high collinearity among some of our features, mostly in cases where there's a total and a percentage value for one statistic. If we we're going to build a regression model we'd need to address this, but for our classifier, it shouldn't impact predictive performance."
      ]
    },
    {
      "cell_type": "code",
      "execution_count": 266,
      "metadata": {
        "colab": {
          "base_uri": "https://localhost:8080/",
          "height": 459
        },
        "colab_type": "code",
        "id": "zfvazXaZ7vfl",
        "outputId": "fede8761-0860-4d18-e8e8-1da82e7ca9ee"
      },
      "outputs": [
        {
          "data": {
            "text/plain": [
              "away_assist_percentage                away_assist_percentage                  1.000000\n",
              "away_steals                           away_steal_percentage                   0.984007\n",
              "away_turnovers                        away_turnover_percentage                0.966014\n",
              "away_three_point_attempt_rate         away_three_point_field_goal_attempts    0.965467\n",
              "away_free_throw_attempts              away_free_throw_attempt_rate            0.964903\n",
              "home_effective_field_goal_percentage  home_true_shooting_percentage           0.963131\n",
              "away_true_shooting_percentage         away_effective_field_goal_percentage    0.961644\n",
              "away_blocks                           away_block_percentage                   0.940861\n",
              "home_free_throw_attempts              home_free_throws                        0.930636\n",
              "away_field_goal_percentage            away_effective_field_goal_percentage    0.928510\n",
              "away_offensive_rebounds               away_offensive_rebound_percentage       0.923081\n",
              "away_free_throws                      away_free_throw_attempts                0.922837\n",
              "away_field_goal_percentage            away_true_shooting_percentage           0.898344\n",
              "away_free_throw_attempt_rate          away_free_throws                        0.897066\n",
              "away_offensive_rating                 away_true_shooting_percentage           0.852049\n",
              "home_true_shooting_percentage         home_offensive_rating                   0.851190\n",
              "away_points                           away_field_goals                        0.846131\n",
              "home_offensive_rating                 home_points                             0.845185\n",
              "away_points                           away_offensive_rating                   0.843700\n",
              "away_assist_percentage                away_assists                            0.843509\n",
              "away_three_point_field_goals          away_three_point_field_goal_attempts    0.837329\n",
              "home_defensive_rebounds               home_total_rebounds                     0.830812\n",
              "away_three_point_field_goals          away_three_point_attempt_rate           0.828688\n",
              "home_field_goal_percentage            home_two_point_field_goal_percentage    0.828479\n",
              "away_effective_field_goal_percentage  away_offensive_rating                   0.818705\n",
              "dtype: float64"
            ]
          },
          "execution_count": 266,
          "metadata": {},
          "output_type": "execute_result"
        }
      ],
      "source": [
        "## list of the top 25 positive correlations\n",
        "top25_corr_pos = nba_final.corr().unstack().sort_values(ascending=False).drop_duplicates()\n",
        "top25_corr_pos.head(25)"
      ]
    },
    {
      "cell_type": "code",
      "execution_count": 267,
      "metadata": {
        "colab": {
          "base_uri": "https://localhost:8080/",
          "height": 459
        },
        "colab_type": "code",
        "id": "q9bj3Zli-JVQ",
        "outputId": "4425f47e-a10e-4e6a-eefd-210aa44cc57b"
      },
      "outputs": [
        {
          "data": {
            "text/plain": [
              "home_offensive_rebounds               home_defensive_rebound_percentage      -0.911119\n",
              "away_two_point_field_goal_attempts    away_three_point_attempt_rate          -0.865311\n",
              "homeOdds                              awayOdds                               -0.713775\n",
              "away_two_point_field_goal_attempts    away_three_point_field_goal_attempts   -0.712339\n",
              "home_total_rebound_percentage         home_total_rebounds                    -0.695134\n",
              "away_three_point_field_goals          away_two_point_field_goal_attempts     -0.651896\n",
              "away_two_point_field_goals            away_three_point_attempt_rate          -0.606645\n",
              "home_defensive_rebounds               home_true_shooting_percentage          -0.600481\n",
              "home_three_point_field_goal_attempts  home_two_point_field_goal_attempts     -0.584502\n",
              "home_offensive_rating                 home_defensive_rebounds                -0.564852\n",
              "home_effective_field_goal_percentage  home_defensive_rebounds                -0.554348\n",
              "home_three_point_field_goals          home_two_point_field_goal_attempts     -0.543616\n",
              "home_defensive_rebounds               home_total_rebound_percentage          -0.541409\n",
              "away_defensive_rebounds               away_defensive_rating                  -0.536262\n",
              "away_three_point_field_goal_attempts  away_two_point_field_goals             -0.487921\n",
              "away_three_point_field_goals          away_two_point_field_goals             -0.460914\n",
              "home_total_rebounds                   home_true_shooting_percentage          -0.460178\n",
              "                                      home_defensive_rebound_percentage      -0.453788\n",
              "home_defensive_rebounds               home_offensive_rebound_percentage      -0.452327\n",
              "home_total_rebounds                   home_offensive_rating                  -0.445956\n",
              "home_offensive_rebounds               home_total_rebound_percentage          -0.438548\n",
              "away_field_goal_attempts              away_turnover_percentage               -0.431376\n",
              "home_total_rebounds                   home_effective_field_goal_percentage   -0.427983\n",
              "away_total_rebounds                   away_defensive_rating                  -0.410546\n",
              "home_total_rebounds                   home_offensive_rebound_percentage      -0.395526\n",
              "dtype: float64"
            ]
          },
          "execution_count": 267,
          "metadata": {},
          "output_type": "execute_result"
        }
      ],
      "source": [
        "## list of the top 25 negative correlations\n",
        "top25_corr_neg = nba_final.corr().unstack().sort_values().drop_duplicates()\n",
        "top25_corr_neg.head(25)"
      ]
    },
    {
      "cell_type": "markdown",
      "metadata": {
        "colab_type": "text",
        "id": "Bmgk_6qWBzMZ"
      },
      "source": [
        "## Feature Selection\n",
        "Here I'll scale our features and reduce dimensionality before moving on to creating models. We'll use the robust scalar from sklearn because it can deal with positive and negative numbers and is robust to outliers, both of which we'll need mostly for our money line feature."
      ]
    },
    {
      "cell_type": "code",
      "execution_count": 268,
      "metadata": {
        "colab": {},
        "colab_type": "code",
        "id": "D4WrKZhDB-6d"
      },
      "outputs": [],
      "source": [
        "## create list of features\n",
        "excluded_from_avg = ['home_wins', 'home_losses', 'away_wins','away_losses','awayOdds','homeOdds']\n",
        "features = away_cols + home_cols + excluded_from_avg"
      ]
    },
    {
      "cell_type": "code",
      "execution_count": 269,
      "metadata": {
        "colab": {},
        "colab_type": "code",
        "id": "pKJoiqgM-nL3"
      },
      "outputs": [],
      "source": [
        "## declare features\n",
        "x = nba_final[features]\n",
        "## declare target variable\n",
        "y = nba_final['homeWin']"
      ]
    },
    {
      "cell_type": "code",
      "execution_count": 270,
      "metadata": {
        "colab": {},
        "colab_type": "code",
        "id": "RsZVxgqbC40F"
      },
      "outputs": [],
      "source": [
        "## scale the features\n",
        "scaler = RobustScaler()\n",
        "x_scaled = scaler.fit_transform(x)"
      ]
    },
    {
      "cell_type": "markdown",
      "metadata": {
        "colab_type": "text",
        "id": "EtTmvT5XH30-"
      },
      "source": [
        "According to our PCA below, ~35 features explain almost all of the variance. Let's keep 40 features to be safe."
      ]
    },
    {
      "cell_type": "code",
      "execution_count": 271,
      "metadata": {
        "colab": {
          "base_uri": "https://localhost:8080/",
          "height": 0
        },
        "colab_type": "code",
        "id": "WYLtZtSVHrKN",
        "outputId": "9bc5f3ff-d4eb-4345-dade-7cbe964cee59"
      },
      "outputs": [
        {
          "data": {
            "image/png": "[encoded data removed]",
            "text/plain": [
              "<Figure size 640x480 with 1 Axes>"
            ]
          },
          "metadata": {},
          "output_type": "display_data"
        }
      ],
      "source": [
        "#Fitting the PCA algorithm with our Data\n",
        "pca = PCA().fit(x_scaled)\n",
        "#Plotting the Cumulative Summation of the Explained Variance\n",
        "plt.figure()\n",
        "plt.plot(np.cumsum(pca.explained_variance_ratio_))\n",
        "plt.xlabel('Number of Components')\n",
        "plt.ylabel('Variance (%)') #for each component\n",
        "plt.title('Explained Variance')\n",
        "plt.show()"
      ]
    },
    {
      "cell_type": "code",
      "execution_count": 272,
      "metadata": {
        "colab": {},
        "colab_type": "code",
        "id": "HAyt7p8aHzxI"
      },
      "outputs": [],
      "source": [
        "## keep 40 components\n",
        "x_pca = PCA(40).fit_transform(x_scaled)"
      ]
    },
    {
      "cell_type": "code",
      "execution_count": 273,
      "metadata": {},
      "outputs": [
        {
          "data": {
            "text/plain": [
              "(4499, 40)"
            ]
          },
          "execution_count": 273,
          "metadata": {},
          "output_type": "execute_result"
        }
      ],
      "source": [
        "x_pca.shape"
      ]
    },
    {
      "cell_type": "markdown",
      "metadata": {
        "colab_type": "text",
        "id": "JuqTgXL8IBHe"
      },
      "source": [
        "## Let's Build Some Models!\n",
        "We'll compare them using the f1 score from sklearn to describe their accuracy."
      ]
    },
    {
      "cell_type": "code",
      "execution_count": 274,
      "metadata": {
        "colab": {},
        "colab_type": "code",
        "id": "zfnng58hH_RX"
      },
      "outputs": [],
      "source": [
        "## create our model accuracy scorer\n",
        "scorer = make_scorer(f1_score, pos_label=None, average='weighted')"
      ]
    },
    {
      "cell_type": "markdown",
      "metadata": {
        "colab_type": "text",
        "id": "f16jN4SaIL5M"
      },
      "source": [
        "#### Naive Bayes"
      ]
    },
    {
      "cell_type": "code",
      "execution_count": 275,
      "metadata": {
        "colab": {},
        "colab_type": "code",
        "id": "NhjSWvcCII3o"
      },
      "outputs": [],
      "source": [
        "# Our data is continuous, so we'll use the Gaussian Classifier \n",
        "from sklearn.naive_bayes import GaussianNB\n",
        "gnb = GaussianNB()"
      ]
    },
    {
      "cell_type": "code",
      "execution_count": 276,
      "metadata": {
        "colab": {
          "base_uri": "https://localhost:8080/",
          "height": 34
        },
        "colab_type": "code",
        "id": "KCFhg_yfIOet",
        "outputId": "0bf1394d-2a8e-4801-a680-198aed6dbb41"
      },
      "outputs": [
        {
          "name": "stdout",
          "output_type": "stream",
          "text": [
            "Average Gaussian NB F1: 0.6596552236622522\n"
          ]
        }
      ],
      "source": [
        "## print score\n",
        "print('Average Gaussian NB F1: {}'.format((cross_val_score(gnb, x_pca, y, scoring=scorer)).mean()))"
      ]
    },
    {
      "cell_type": "markdown",
      "metadata": {
        "colab_type": "text",
        "id": "8ukNkLIXISob"
      },
      "source": [
        "#### Decision Tree"
      ]
    },
    {
      "cell_type": "code",
      "execution_count": 277,
      "metadata": {
        "colab": {},
        "colab_type": "code",
        "id": "978xUZaqIQEV"
      },
      "outputs": [],
      "source": [
        "from sklearn import tree\n",
        "clf = tree.DecisionTreeClassifier()"
      ]
    },
    {
      "cell_type": "code",
      "execution_count": 278,
      "metadata": {
        "colab": {
          "base_uri": "https://localhost:8080/",
          "height": 34
        },
        "colab_type": "code",
        "id": "i4kRyP9jIVME",
        "outputId": "15557bd0-5d3b-492e-fa81-e176c3cba967"
      },
      "outputs": [
        {
          "name": "stdout",
          "output_type": "stream",
          "text": [
            "Average Decision Tree F1: 0.5610078800848626\n"
          ]
        }
      ],
      "source": [
        "## print score\n",
        "print('Average Decision Tree F1: {}'.format((cross_val_score(clf, x_pca, y, scoring=scorer)).mean()))"
      ]
    },
    {
      "cell_type": "markdown",
      "metadata": {
        "colab_type": "text",
        "id": "4AtRbSZwIauS"
      },
      "source": [
        "#### Random Forest"
      ]
    },
    {
      "cell_type": "code",
      "execution_count": 279,
      "metadata": {
        "colab": {},
        "colab_type": "code",
        "id": "nPiMnIRZIWRC"
      },
      "outputs": [],
      "source": [
        "from sklearn import ensemble\n",
        "rfc = ensemble.RandomForestClassifier()"
      ]
    },
    {
      "cell_type": "code",
      "execution_count": 280,
      "metadata": {
        "colab": {
          "base_uri": "https://localhost:8080/",
          "height": 34
        },
        "colab_type": "code",
        "id": "v5WuXOnNIcQe",
        "outputId": "e86d17d9-cf80-47eb-f834-a1a2e985ace7"
      },
      "outputs": [
        {
          "name": "stdout",
          "output_type": "stream",
          "text": [
            "Average Random Forest F1 score: 0.6267186238807549\n"
          ]
        }
      ],
      "source": [
        "## print score\n",
        "print('Average Random Forest F1 score: {}'.format((cross_val_score(rfc, x_pca, y, scoring=scorer)).mean()))"
      ]
    },
    {
      "cell_type": "markdown",
      "metadata": {
        "colab_type": "text",
        "id": "ssHQ-FaSIhJ0"
      },
      "source": [
        "#### KNN"
      ]
    },
    {
      "cell_type": "code",
      "execution_count": 281,
      "metadata": {
        "colab": {},
        "colab_type": "code",
        "id": "fE61LpbcId9Q"
      },
      "outputs": [],
      "source": [
        "from sklearn.neighbors import KNeighborsClassifier\n",
        "neighbors = KNeighborsClassifier(n_neighbors=3)"
      ]
    },
    {
      "cell_type": "code",
      "execution_count": 282,
      "metadata": {
        "colab": {
          "base_uri": "https://localhost:8080/",
          "height": 0
        },
        "colab_type": "code",
        "id": "ozRBDOG8IjYL",
        "outputId": "e8572045-c16a-4ffb-8cb3-618fe1d65498"
      },
      "outputs": [
        {
          "name": "stdout",
          "output_type": "stream",
          "text": [
            "Average KNN F1 score: 0.545482612163396\n"
          ]
        },
        {
          "name": "stderr",
          "output_type": "stream",
          "text": [
            "c:\\Users\\Jason Huang\\anaconda3\\lib\\site-packages\\sklearn\\neighbors\\_classification.py:228: FutureWarning: Unlike other reduction functions (e.g. `skew`, `kurtosis`), the default behavior of `mode` typically preserves the axis it acts along. In SciPy 1.11.0, this behavior will change: the default value of `keepdims` will become False, the `axis` over which the statistic is taken will be eliminated, and the value None will no longer be accepted. Set `keepdims` to True or False to avoid this warning.\n",
            "  mode, _ = stats.mode(_y[neigh_ind, k], axis=1)\n",
            "c:\\Users\\Jason Huang\\anaconda3\\lib\\site-packages\\sklearn\\neighbors\\_classification.py:228: FutureWarning: Unlike other reduction functions (e.g. `skew`, `kurtosis`), the default behavior of `mode` typically preserves the axis it acts along. In SciPy 1.11.0, this behavior will change: the default value of `keepdims` will become False, the `axis` over which the statistic is taken will be eliminated, and the value None will no longer be accepted. Set `keepdims` to True or False to avoid this warning.\n",
            "  mode, _ = stats.mode(_y[neigh_ind, k], axis=1)\n",
            "c:\\Users\\Jason Huang\\anaconda3\\lib\\site-packages\\sklearn\\neighbors\\_classification.py:228: FutureWarning: Unlike other reduction functions (e.g. `skew`, `kurtosis`), the default behavior of `mode` typically preserves the axis it acts along. In SciPy 1.11.0, this behavior will change: the default value of `keepdims` will become False, the `axis` over which the statistic is taken will be eliminated, and the value None will no longer be accepted. Set `keepdims` to True or False to avoid this warning.\n",
            "  mode, _ = stats.mode(_y[neigh_ind, k], axis=1)\n",
            "c:\\Users\\Jason Huang\\anaconda3\\lib\\site-packages\\sklearn\\neighbors\\_classification.py:228: FutureWarning: Unlike other reduction functions (e.g. `skew`, `kurtosis`), the default behavior of `mode` typically preserves the axis it acts along. In SciPy 1.11.0, this behavior will change: the default value of `keepdims` will become False, the `axis` over which the statistic is taken will be eliminated, and the value None will no longer be accepted. Set `keepdims` to True or False to avoid this warning.\n",
            "  mode, _ = stats.mode(_y[neigh_ind, k], axis=1)\n",
            "c:\\Users\\Jason Huang\\anaconda3\\lib\\site-packages\\sklearn\\neighbors\\_classification.py:228: FutureWarning: Unlike other reduction functions (e.g. `skew`, `kurtosis`), the default behavior of `mode` typically preserves the axis it acts along. In SciPy 1.11.0, this behavior will change: the default value of `keepdims` will become False, the `axis` over which the statistic is taken will be eliminated, and the value None will no longer be accepted. Set `keepdims` to True or False to avoid this warning.\n",
            "  mode, _ = stats.mode(_y[neigh_ind, k], axis=1)\n"
          ]
        }
      ],
      "source": [
        "## print score\n",
        "print('Average KNN F1 score: {}'.format((cross_val_score(neighbors, x_pca, y, scoring=scorer)).mean()))"
      ]
    },
    {
      "cell_type": "markdown",
      "metadata": {
        "colab_type": "text",
        "id": "Deb1pj7GIoXO"
      },
      "source": [
        "#### Multi-layer Perceptron"
      ]
    },
    {
      "cell_type": "code",
      "execution_count": 283,
      "metadata": {
        "colab": {},
        "colab_type": "code",
        "id": "V_Op5p5RIklK"
      },
      "outputs": [],
      "source": [
        "from sklearn.neural_network import MLPClassifier"
      ]
    },
    {
      "cell_type": "code",
      "execution_count": 284,
      "metadata": {
        "colab": {},
        "colab_type": "code",
        "id": "VYXXaTrWIqfB"
      },
      "outputs": [],
      "source": [
        "# Establish and fit the model, with a single, 100 perceptron layer.\n",
        "mlp100 = MLPClassifier(hidden_layer_sizes=(100,))\n",
        "mlp1000 = MLPClassifier(hidden_layer_sizes=(1000,))"
      ]
    },
    {
      "cell_type": "code",
      "execution_count": 285,
      "metadata": {
        "colab": {
          "base_uri": "https://localhost:8080/",
          "height": 156
        },
        "colab_type": "code",
        "id": "EITaWUm1Ir1H",
        "outputId": "56dcbf96-9d72-478a-de49-43624f9fa4cf"
      },
      "outputs": [
        {
          "name": "stderr",
          "output_type": "stream",
          "text": [
            "c:\\Users\\Jason Huang\\anaconda3\\lib\\site-packages\\sklearn\\neural_network\\_multilayer_perceptron.py:692: ConvergenceWarning: Stochastic Optimizer: Maximum iterations (200) reached and the optimization hasn't converged yet.\n",
            "  warnings.warn(\n",
            "c:\\Users\\Jason Huang\\anaconda3\\lib\\site-packages\\sklearn\\neural_network\\_multilayer_perceptron.py:692: ConvergenceWarning: Stochastic Optimizer: Maximum iterations (200) reached and the optimization hasn't converged yet.\n",
            "  warnings.warn(\n",
            "c:\\Users\\Jason Huang\\anaconda3\\lib\\site-packages\\sklearn\\neural_network\\_multilayer_perceptron.py:692: ConvergenceWarning: Stochastic Optimizer: Maximum iterations (200) reached and the optimization hasn't converged yet.\n",
            "  warnings.warn(\n",
            "c:\\Users\\Jason Huang\\anaconda3\\lib\\site-packages\\sklearn\\neural_network\\_multilayer_perceptron.py:692: ConvergenceWarning: Stochastic Optimizer: Maximum iterations (200) reached and the optimization hasn't converged yet.\n",
            "  warnings.warn(\n"
          ]
        },
        {
          "name": "stdout",
          "output_type": "stream",
          "text": [
            "Average MLP100 F1 score: 0.6213855609841162\n"
          ]
        },
        {
          "name": "stderr",
          "output_type": "stream",
          "text": [
            "c:\\Users\\Jason Huang\\anaconda3\\lib\\site-packages\\sklearn\\neural_network\\_multilayer_perceptron.py:692: ConvergenceWarning: Stochastic Optimizer: Maximum iterations (200) reached and the optimization hasn't converged yet.\n",
            "  warnings.warn(\n"
          ]
        }
      ],
      "source": [
        "## print score\n",
        "print('Average MLP100 F1 score: {}'.format((cross_val_score(mlp100, x_pca, y, scoring=scorer)).mean()))"
      ]
    },
    {
      "cell_type": "code",
      "execution_count": 286,
      "metadata": {
        "colab": {
          "base_uri": "https://localhost:8080/",
          "height": 88
        },
        "colab_type": "code",
        "id": "fsoOTuOD8BaV",
        "outputId": "b7acb949-2592-4362-ee45-7a2db8da9379"
      },
      "outputs": [
        {
          "name": "stderr",
          "output_type": "stream",
          "text": [
            "c:\\Users\\Jason Huang\\anaconda3\\lib\\site-packages\\sklearn\\neural_network\\_multilayer_perceptron.py:692: ConvergenceWarning: Stochastic Optimizer: Maximum iterations (200) reached and the optimization hasn't converged yet.\n",
            "  warnings.warn(\n",
            "c:\\Users\\Jason Huang\\anaconda3\\lib\\site-packages\\sklearn\\neural_network\\_multilayer_perceptron.py:692: ConvergenceWarning: Stochastic Optimizer: Maximum iterations (200) reached and the optimization hasn't converged yet.\n",
            "  warnings.warn(\n",
            "c:\\Users\\Jason Huang\\anaconda3\\lib\\site-packages\\sklearn\\neural_network\\_multilayer_perceptron.py:692: ConvergenceWarning: Stochastic Optimizer: Maximum iterations (200) reached and the optimization hasn't converged yet.\n",
            "  warnings.warn(\n",
            "c:\\Users\\Jason Huang\\anaconda3\\lib\\site-packages\\sklearn\\neural_network\\_multilayer_perceptron.py:692: ConvergenceWarning: Stochastic Optimizer: Maximum iterations (200) reached and the optimization hasn't converged yet.\n",
            "  warnings.warn(\n"
          ]
        },
        {
          "name": "stdout",
          "output_type": "stream",
          "text": [
            "Average MLP1000 F1 score: 0.6396086035596149\n"
          ]
        },
        {
          "name": "stderr",
          "output_type": "stream",
          "text": [
            "c:\\Users\\Jason Huang\\anaconda3\\lib\\site-packages\\sklearn\\neural_network\\_multilayer_perceptron.py:692: ConvergenceWarning: Stochastic Optimizer: Maximum iterations (200) reached and the optimization hasn't converged yet.\n",
            "  warnings.warn(\n"
          ]
        }
      ],
      "source": [
        "## print score\n",
        "print('Average MLP1000 F1 score: {}'.format((cross_val_score(mlp1000, x_pca, y, scoring=scorer)).mean()))"
      ]
    },
    {
      "cell_type": "markdown",
      "metadata": {
        "colab_type": "text",
        "id": "zodicQOw9_lS"
      },
      "source": [
        "# Model Performance\n",
        "The Naive Bayes model was the most accurate at 65%, with random forest and the MLP neural network just under that. Moving forward I'll continue to tinker these three models to try to boost performance, but we're at an acceptable level of prediction power to begin the real test, which is to apply our predictions to the current NBA season, and calculate how much money our model would (hopefully) win with an equal bet on each game.\n",
        "\n",
        "I think the simple Naive Bayes model is performing better than others because of our limited sample size. I believe this is the same reason why the TensorFlow NN is underperforming. Unfortunately, even adding more seasons to our training data wouldn't improve performance, because the NBA game has been changing so rapidly in style of play, that these data available from three seasons ago and beyond lose relevance to predicting the winner."
      ]
    },
    {
      "cell_type": "markdown",
      "metadata": {},
      "source": [
        "## My Own implementation - Transformer Classifier"
      ]
    },
    {
      "cell_type": "code",
      "execution_count": 287,
      "metadata": {},
      "outputs": [],
      "source": [
        "import torch\n",
        "import torch.nn as nn\n",
        "import torch.nn.functional as F\n",
        "\n",
        "class PositionalEncoding(nn.Module):\n",
        "    def __init__(self, d_model, max_len=5000):\n",
        "        super(PositionalEncoding, self).__init__()\n",
        "        pe = torch.zeros(max_len, d_model)\n",
        "        position = torch.arange(0, max_len, dtype=torch.float).unsqueeze(1)\n",
        "        div_term = torch.exp(torch.arange(0, d_model, 2).float() * (-torch.log(torch.tensor(10000.0)) / d_model))\n",
        "        pe[:, 0::2] = torch.sin(position * div_term)\n",
        "        pe[:, 1::2] = torch.cos(position * div_term)\n",
        "        pe = pe.unsqueeze(0).transpose(0, 1)\n",
        "        self.register_buffer('pe', pe)\n",
        "\n",
        "    def forward(self, x):\n",
        "        x = x + self.pe[:x.size(0), :]\n",
        "        return x\n",
        "\n",
        "class TransformerClassifier(nn.Module):\n",
        "    def __init__(self, num_features, num_classes, dim_model=64, num_heads=4, num_layers=3, dropout=0.1):\n",
        "        super(TransformerClassifier, self).__init__()\n",
        "        self.linear_in = nn.Linear(num_features, dim_model)\n",
        "        self.pos_encoder = PositionalEncoding(dim_model)\n",
        "        encoder_layers = nn.TransformerEncoderLayer(d_model=dim_model, nhead=num_heads, dropout=dropout)\n",
        "        self.transformer_encoder = nn.TransformerEncoder(encoder_layers, num_layers=num_layers)\n",
        "        self.linear_out = nn.Linear(dim_model, num_classes)\n",
        "\n",
        "    def forward(self, x):\n",
        "        x = self.linear_in(x)\n",
        "        x = self.pos_encoder(x)\n",
        "        x = self.transformer_encoder(x)\n",
        "        x = x.mean(dim=1)\n",
        "        x = self.linear_out(x)\n",
        "        return x\n",
        "\n",
        "\n"
      ]
    },
    {
      "cell_type": "code",
      "execution_count": 288,
      "metadata": {},
      "outputs": [],
      "source": [
        "# Function to calculate accuracy\n",
        "def calculate_accuracy(y_true, y_pred):\n",
        "    predicted = torch.argmax(y_pred, dim=1)\n",
        "    correct = (predicted == y_true).float().sum()\n",
        "    return correct / y_true.shape[0]"
      ]
    },
    {
      "cell_type": "code",
      "execution_count": 289,
      "metadata": {},
      "outputs": [
        {
          "name": "stdout",
          "output_type": "stream",
          "text": [
            "torch.float64\n",
            "Using device: cuda\n",
            "Epoch 1/30, Loss: 0.7138, Accuracy: 0.7895, Precision: 0.5885, Recall: 0.9260, F1 Score: 0.7196\n",
            "Epoch 2/30, Loss: 0.6847, Accuracy: 0.6842, Precision: 0.5891, Recall: 0.9592, F1 Score: 0.7299\n",
            "Epoch 3/30, Loss: 0.6792, Accuracy: 0.4737, Precision: 0.5890, Recall: 1.0000, F1 Score: 0.7414\n",
            "Epoch 4/30, Loss: 0.6796, Accuracy: 0.4737, Precision: 0.5890, Recall: 1.0000, F1 Score: 0.7414\n",
            "Epoch 5/30, Loss: 0.6789, Accuracy: 0.7895, Precision: 0.5889, Recall: 0.9996, F1 Score: 0.7412\n",
            "Epoch 6/30, Loss: 0.6783, Accuracy: 0.6842, Precision: 0.5890, Recall: 1.0000, F1 Score: 0.7414\n",
            "Epoch 7/30, Loss: 0.6775, Accuracy: 0.6316, Precision: 0.5890, Recall: 1.0000, F1 Score: 0.7414\n",
            "Epoch 8/30, Loss: 0.6775, Accuracy: 0.6316, Precision: 0.5890, Recall: 1.0000, F1 Score: 0.7414\n",
            "Epoch 9/30, Loss: 0.6782, Accuracy: 0.5789, Precision: 0.5890, Recall: 1.0000, F1 Score: 0.7414\n",
            "Epoch 10/30, Loss: 0.6782, Accuracy: 0.3684, Precision: 0.5890, Recall: 1.0000, F1 Score: 0.7414\n",
            "Epoch 11/30, Loss: 0.6778, Accuracy: 0.6316, Precision: 0.5890, Recall: 1.0000, F1 Score: 0.7414\n",
            "Epoch 12/30, Loss: 0.6776, Accuracy: 0.5789, Precision: 0.5890, Recall: 1.0000, F1 Score: 0.7414\n",
            "Epoch 13/30, Loss: 0.6778, Accuracy: 0.5263, Precision: 0.5890, Recall: 1.0000, F1 Score: 0.7414\n",
            "Epoch 14/30, Loss: 0.6776, Accuracy: 0.6842, Precision: 0.5890, Recall: 1.0000, F1 Score: 0.7414\n",
            "Epoch 15/30, Loss: 0.6780, Accuracy: 0.5263, Precision: 0.5890, Recall: 1.0000, F1 Score: 0.7414\n",
            "Epoch 16/30, Loss: 0.6800, Accuracy: 0.6842, Precision: 0.5890, Recall: 1.0000, F1 Score: 0.7414\n",
            "Epoch 17/30, Loss: 0.6775, Accuracy: 0.8421, Precision: 0.5890, Recall: 1.0000, F1 Score: 0.7414\n",
            "Epoch 18/30, Loss: 0.6793, Accuracy: 0.5789, Precision: 0.5890, Recall: 1.0000, F1 Score: 0.7414\n",
            "Epoch 19/30, Loss: 0.6793, Accuracy: 0.7895, Precision: 0.5890, Recall: 1.0000, F1 Score: 0.7414\n",
            "Epoch 20/30, Loss: 0.6799, Accuracy: 0.5263, Precision: 0.5890, Recall: 1.0000, F1 Score: 0.7414\n",
            "Epoch 21/30, Loss: 0.6788, Accuracy: 0.5789, Precision: 0.5890, Recall: 1.0000, F1 Score: 0.7414\n",
            "Epoch 22/30, Loss: 0.6783, Accuracy: 0.7895, Precision: 0.5890, Recall: 1.0000, F1 Score: 0.7414\n",
            "Epoch 23/30, Loss: 0.6773, Accuracy: 0.6842, Precision: 0.5890, Recall: 1.0000, F1 Score: 0.7414\n",
            "Epoch 24/30, Loss: 0.6777, Accuracy: 0.6842, Precision: 0.5890, Recall: 1.0000, F1 Score: 0.7414\n",
            "Epoch 25/30, Loss: 0.6777, Accuracy: 0.5263, Precision: 0.5890, Recall: 1.0000, F1 Score: 0.7414\n",
            "Epoch 26/30, Loss: 0.6780, Accuracy: 0.6316, Precision: 0.5890, Recall: 1.0000, F1 Score: 0.7414\n",
            "Epoch 27/30, Loss: 0.6790, Accuracy: 0.7368, Precision: 0.5890, Recall: 1.0000, F1 Score: 0.7414\n",
            "Epoch 28/30, Loss: 0.6781, Accuracy: 0.5789, Precision: 0.5890, Recall: 1.0000, F1 Score: 0.7414\n",
            "Epoch 29/30, Loss: 0.6795, Accuracy: 0.5263, Precision: 0.5890, Recall: 1.0000, F1 Score: 0.7414\n",
            "Epoch 30/30, Loss: 0.6782, Accuracy: 0.5263, Precision: 0.5890, Recall: 1.0000, F1 Score: 0.7414\n"
          ]
        }
      ],
      "source": [
        "\n",
        "import torch.optim as optim\n",
        "from torch.utils.data import DataLoader, TensorDataset\n",
        "from sklearn.metrics import precision_score, recall_score, f1_score\n",
        "\n",
        "\n",
        "X_tensor = torch.tensor(x_scaled)\n",
        "print(X_tensor.dtype)\n",
        "y_tensor = torch.tensor(y.astype(float).to_numpy())\n",
        "# Create DataLoader for batch processing\n",
        "batch_size = 32\n",
        "dataset = TensorDataset(X_tensor, y_tensor)\n",
        "dataloader = DataLoader(dataset, batch_size=batch_size, shuffle=True)\n",
        "\n",
        "num_features = 76\n",
        "num_classes = 2\n",
        "\n",
        "# Check for GPU availability and set the device\n",
        "device = torch.device(\"cuda\" if torch.cuda.is_available() else \"cpu\")\n",
        "print(f\"Using device: {device}\")\n",
        "\n",
        "# Instantiate the model and move it to the device (GPU or CPU)\n",
        "model = TransformerClassifier(num_features=num_features, num_classes=num_classes)\n",
        "model.to(device)\n",
        "\n",
        "loss_function = nn.CrossEntropyLoss()\n",
        "optimizer = optim.Adam(model.parameters(), lr=0.01)\n",
        "\n",
        "# Function to calculate accuracy\n",
        "def calculate_accuracy(y_true, y_pred):\n",
        "    predicted = torch.argmax(y_pred, dim=1)\n",
        "    correct = (predicted == y_true).float().sum()\n",
        "    return correct / y_true.shape[0]\n",
        "\n",
        "# Training loop\n",
        "num_epochs = 30\n",
        "for epoch in range(num_epochs):\n",
        "    total_loss = 0\n",
        "    total_accuracy = 0\n",
        "    all_predictions = []\n",
        "    all_targets = []\n",
        "    for batch, (inputs, targets) in enumerate(dataloader):\n",
        "        # Move data to device\n",
        "        inputs, targets = inputs.to(device).float(), targets.to(device).long()\n",
        "\n",
        "        # Forward pass\n",
        "        outputs = model(inputs)\n",
        "        loss = loss_function(outputs, targets)\n",
        "\n",
        "        # Backward pass and optimization\n",
        "        optimizer.zero_grad()\n",
        "        loss.backward()\n",
        "        optimizer.step()\n",
        "\n",
        "        # Calculate batch loss and accuracy\n",
        "        total_loss += loss.item()\n",
        "        accuracy = calculate_accuracy(targets, outputs)\n",
        "        total_accuracy += accuracy.item()\n",
        "\n",
        "        # Collect predictions and true labels\n",
        "        _, predicted = torch.max(outputs.data, 1)\n",
        "        all_predictions.extend(predicted.cpu().numpy())\n",
        "        all_targets.extend(targets.cpu().numpy())\n",
        "\n",
        "    average_loss = total_loss / len(dataloader)\n",
        "    average_accuracy = total_accuracy / len(dataloader)\n",
        "    precision = precision_score(all_targets, all_predictions)\n",
        "    recall = recall_score(all_targets, all_predictions)\n",
        "    f1 = f1_score(all_targets, all_predictions)\n",
        "\n",
        "    print(f\"Epoch {epoch+1}/{num_epochs}, Loss: {average_loss:.4f}, Accuracy: {accuracy:.4f}, Precision: {precision:.4f}, Recall: {recall:.4f}, F1 Score: {f1:.4f}\")\n",
        "\n",
        "# Save the model after training\n",
        "torch.save(model.state_dict(), 'transformer_classifier.pth')"
      ]
    },
    {
      "cell_type": "markdown",
      "metadata": {
        "colab_type": "text",
        "id": "j1vb6oa1JT8O"
      },
      "source": [
        "# Real World Application\n",
        "Now that we have our prediction model, let's implement it to see how much hypothetical money we make! For simplicity, we'll assume we bet $100 on each prediction. This is calculated as follows:\n",
        "\n",
        "Underdog Bet (positive odds):\n",
        " - Potential Payout = Wager Amount x (Odds/100) + Wager Amount.\n",
        "\n",
        "Favorite Bet (negative odds):\n",
        " - Potential Payout = Wager Amount / (absolute value(Odds)/100) + Wager Amount\n",
        "\n",
        "However, our cumulative total will only calculate profit."
      ]
    },
    {
      "cell_type": "code",
      "execution_count": 290,
      "metadata": {
        "colab": {},
        "colab_type": "code",
        "id": "Zp9ofJnXOimP"
      },
      "outputs": [],
      "source": [
        "# declare features, scale and pca\n",
        "x_test = nba_test[features]\n",
        "x_test_scaled = scaler.fit_transform(x_test)\n",
        "x_test_scaled_pca = PCA(40).fit_transform(x_test_scaled)"
      ]
    },
    {
      "cell_type": "code",
      "execution_count": 291,
      "metadata": {
        "colab": {
          "base_uri": "https://localhost:8080/",
          "height": 119
        },
        "colab_type": "code",
        "id": "eMrLwAtzCN4u",
        "outputId": "a9e471ab-9492-4c8d-9e5a-523b64ed9f0d"
      },
      "outputs": [
        {
          "name": "stderr",
          "output_type": "stream",
          "text": [
            "C:\\Users\\Jason Huang\\AppData\\Local\\Temp\\ipykernel_11944\\9465778.py:2: SettingWithCopyWarning: \n",
            "A value is trying to be set on a copy of a slice from a DataFrame.\n",
            "Try using .loc[row_indexer,col_indexer] = value instead\n",
            "\n",
            "See the caveats in the documentation: https://pandas.pydata.org/pandas-docs/stable/user_guide/indexing.html#returning-a-view-versus-a-copy\n",
            "  nba_test['predictions'] = gnb.fit(x_pca, y).predict(x_test_scaled_pca)\n"
          ]
        }
      ],
      "source": [
        "# fit to training data and predict for current season\n",
        "nba_test['predictions'] = gnb.fit(x_pca, y).predict(x_test_scaled_pca)"
      ]
    },
    {
      "cell_type": "markdown",
      "metadata": {
        "colab_type": "text",
        "id": "NyN9_yqWxDb3"
      },
      "source": [
        "Here our model correctly picked 56% of games from the current 2019-20 season."
      ]
    },
    {
      "cell_type": "code",
      "execution_count": 292,
      "metadata": {
        "colab": {
          "base_uri": "https://localhost:8080/",
          "height": 34
        },
        "colab_type": "code",
        "id": "YTiBb0KNIIVO",
        "outputId": "a5ce5463-93e2-4d5b-98f7-ea3dcbfa546c"
      },
      "outputs": [
        {
          "data": {
            "text/plain": [
              "0.5406779661016949"
            ]
          },
          "execution_count": 292,
          "metadata": {},
          "output_type": "execute_result"
        }
      ],
      "source": [
        "## correct pct picks\n",
        "len(nba_test[nba_test['predictions']==nba_test['homeWin']])/len(nba_test)"
      ]
    },
    {
      "cell_type": "code",
      "execution_count": 293,
      "metadata": {},
      "outputs": [
        {
          "name": "stderr",
          "output_type": "stream",
          "text": [
            "C:\\Users\\Jason Huang\\AppData\\Local\\Temp\\ipykernel_11944\\2846257617.py:35: SettingWithCopyWarning: \n",
            "A value is trying to be set on a copy of a slice from a DataFrame.\n",
            "Try using .loc[row_indexer,col_indexer] = value instead\n",
            "\n",
            "See the caveats in the documentation: https://pandas.pydata.org/pandas-docs/stable/user_guide/indexing.html#returning-a-view-versus-a-copy\n",
            "  nba_test['predictions'] = predictions\n"
          ]
        }
      ],
      "source": [
        "import pandas as pd\n",
        "import torch\n",
        "from torch.utils.data import TensorDataset, DataLoader\n",
        "\n",
        "# Assuming TransformerClassifier is defined and loaded with trained weights\n",
        "\n",
        "# Prepare your test data\n",
        "# Assuming x_test_scaled_pca and nba_test are defined and x_test_scaled_pca is a NumPy array or a Pandas DataFrame\n",
        "# x_test_tensor = torch.tensor(x_test_scaled_pca).float()\n",
        "x_test_tensor = torch.tensor(x_test_scaled).float()\n",
        "\n",
        "\n",
        "test_dataset = TensorDataset(x_test_tensor)\n",
        "test_dataloader = DataLoader(test_dataset, batch_size=32)  # You can adjust the batch size\n",
        "\n",
        "# Device configuration\n",
        "device = torch.device(\"cuda\" if torch.cuda.is_available() else \"cpu\")\n",
        "\n",
        "# Load the model and set it to evaluation mode\n",
        "model = TransformerClassifier(num_features=num_features, num_classes=num_classes)\n",
        "model.load_state_dict(torch.load('transformer_classifier.pth'))  # Load your trained model weights\n",
        "model.to(device)\n",
        "model.eval()\n",
        "\n",
        "# Make predictions on the test set\n",
        "predictions = []\n",
        "with torch.no_grad():\n",
        "    for inputs in test_dataloader:\n",
        "        inputs = inputs[0].to(device)\n",
        "        outputs = model(inputs)\n",
        "        _, predicted = torch.max(outputs.data, 1)\n",
        "        predictions.extend(predicted.cpu().numpy())\n",
        "\n",
        "# Store predictions in the DataFrame\n",
        "nba_test['predictions'] = predictions\n"
      ]
    },
    {
      "cell_type": "code",
      "execution_count": 294,
      "metadata": {},
      "outputs": [
        {
          "data": {
            "text/plain": [
              "0.5406779661016949"
            ]
          },
          "execution_count": 294,
          "metadata": {},
          "output_type": "execute_result"
        }
      ],
      "source": [
        "## correct pct picks\n",
        "len(nba_test[nba_test['predictions']==nba_test['homeWin']])/len(nba_test)"
      ]
    },
    {
      "cell_type": "code",
      "execution_count": 295,
      "metadata": {
        "colab": {
          "base_uri": "https://localhost:8080/",
          "height": 119
        },
        "colab_type": "code",
        "id": "DEUmiN0-PKJV",
        "outputId": "fa4867a2-c4c6-47ed-849c-bc4ed8eb395d"
      },
      "outputs": [
        {
          "name": "stderr",
          "output_type": "stream",
          "text": [
            "C:\\Users\\Jason Huang\\AppData\\Local\\Temp\\ipykernel_11944\\142933246.py:2: SettingWithCopyWarning: \n",
            "A value is trying to be set on a copy of a slice from a DataFrame.\n",
            "Try using .loc[row_indexer,col_indexer] = value instead\n",
            "\n",
            "See the caveats in the documentation: https://pandas.pydata.org/pandas-docs/stable/user_guide/indexing.html#returning-a-view-versus-a-copy\n",
            "  nba_test['moneyWon'] = 0\n"
          ]
        }
      ],
      "source": [
        "## create an empty money won column\n",
        "nba_test['moneyWon'] = 0"
      ]
    },
    {
      "cell_type": "code",
      "execution_count": 296,
      "metadata": {
        "colab": {},
        "colab_type": "code",
        "id": "ks-hhoK8Vj4_"
      },
      "outputs": [
        {
          "name": "stderr",
          "output_type": "stream",
          "text": [
            "C:\\Users\\Jason Huang\\AppData\\Local\\Temp\\ipykernel_11944\\3705461351.py:9: SettingWithCopyWarning: \n",
            "A value is trying to be set on a copy of a slice from a DataFrame.\n",
            "Try using .loc[row_indexer,col_indexer] = value instead\n",
            "\n",
            "See the caveats in the documentation: https://pandas.pydata.org/pandas-docs/stable/user_guide/indexing.html#returning-a-view-versus-a-copy\n",
            "  nba_test.at[i, 'moneyWon'] = (100 / ((abs(nba_test['homeOdds'].iloc[i]))/100))\n"
          ]
        }
      ],
      "source": [
        "## calculate money won\n",
        "for i in nba_test.index:\n",
        "  ## check for correct pick\n",
        "  if nba_test['predictions'].iloc[i] == nba_test['homeWin'].iloc[i]:\n",
        "    ## correct home win\n",
        "    if nba_test['homeWin'].iloc[i] == True:\n",
        "      ## home is favored\n",
        "      if nba_test['homeOdds'].iloc[i] < 0:\n",
        "        nba_test.at[i, 'moneyWon'] = (100 / ((abs(nba_test['homeOdds'].iloc[i]))/100))\n",
        "      ## home is underdog\n",
        "      elif nba_test['homeOdds'].iloc[i] > 0:\n",
        "        nba_test.at[i, 'moneyWon'] = (100 * ((nba_test['homeOdds'].iloc[i])/100))\n",
        "      ## even odds\n",
        "      elif nba_test['homeOdds'].iloc[i] == 0:\n",
        "        nba_test.at[i, 'moneyWon'] = 100\n",
        "    ## correct away win\n",
        "    if nba_test['homeWin'].iloc[i] == False:\n",
        "      ## away is favored\n",
        "      if nba_test['awayOdds'].iloc[i] < 0:\n",
        "        nba_test.at[i, 'moneyWon'] = (100 / ((abs(nba_test['awayOdds'].iloc[i]))/100))\n",
        "      ## away is underdog\n",
        "      elif nba_test['awayOdds'].iloc[i] > 0:\n",
        "        nba_test.at[i, 'moneyWon'] = (100 * ((nba_test['awayOdds'].iloc[i])/100))\n",
        "      ## even odds\n",
        "      elif nba_test['awayOdds'].iloc[i] == 0:\n",
        "        nba_test.at[i, 'moneyWon'] = 100\n",
        "  ## incorrect pick\n",
        "  elif nba_test['predictions'].iloc[i] != nba_test['homeWin'].iloc[i]:\n",
        "    nba_test.at[i, 'moneyWon'] = -100"
      ]
    },
    {
      "cell_type": "code",
      "execution_count": 297,
      "metadata": {
        "colab": {
          "base_uri": "https://localhost:8080/",
          "height": 119
        },
        "colab_type": "code",
        "id": "u_7SqViVrp6r",
        "outputId": "e4d75c1e-64d6-405b-cd98-d26b62d5d9ef"
      },
      "outputs": [
        {
          "name": "stderr",
          "output_type": "stream",
          "text": [
            "C:\\Users\\Jason Huang\\AppData\\Local\\Temp\\ipykernel_11944\\3564126491.py:2: SettingWithCopyWarning: \n",
            "A value is trying to be set on a copy of a slice from a DataFrame.\n",
            "Try using .loc[row_indexer,col_indexer] = value instead\n",
            "\n",
            "See the caveats in the documentation: https://pandas.pydata.org/pandas-docs/stable/user_guide/indexing.html#returning-a-view-versus-a-copy\n",
            "  nba_test['cumTotalWon']  = nba_test['moneyWon'].cumsum()\n"
          ]
        }
      ],
      "source": [
        "## create cumulative money won column\n",
        "nba_test['cumTotalWon']  = nba_test['moneyWon'].cumsum()"
      ]
    },
    {
      "cell_type": "code",
      "execution_count": 298,
      "metadata": {
        "colab": {
          "base_uri": "https://localhost:8080/",
          "height": 359
        },
        "colab_type": "code",
        "id": "8iYaoGWnokv6",
        "outputId": "93d2c62f-4740-446f-e9fe-2e41e9ff3df9"
      },
      "outputs": [
        {
          "data": {
            "text/html": [
              "<div>\n",
              "<style scoped>\n",
              "    .dataframe tbody tr th:only-of-type {\n",
              "        vertical-align: middle;\n",
              "    }\n",
              "\n",
              "    .dataframe tbody tr th {\n",
              "        vertical-align: top;\n",
              "    }\n",
              "\n",
              "    .dataframe thead th {\n",
              "        text-align: right;\n",
              "    }\n",
              "</style>\n",
              "<table border=\"1\" class=\"dataframe\">\n",
              "  <thead>\n",
              "    <tr style=\"text-align: right;\">\n",
              "      <th></th>\n",
              "      <th>predictions</th>\n",
              "      <th>homeWin</th>\n",
              "      <th>homeOdds</th>\n",
              "      <th>awayOdds</th>\n",
              "      <th>moneyWon</th>\n",
              "      <th>cumTotalWon</th>\n",
              "    </tr>\n",
              "  </thead>\n",
              "  <tbody>\n",
              "    <tr>\n",
              "      <th>0</th>\n",
              "      <td>1</td>\n",
              "      <td>False</td>\n",
              "      <td>150</td>\n",
              "      <td>-180</td>\n",
              "      <td>-100.000000</td>\n",
              "      <td>-100.000000</td>\n",
              "    </tr>\n",
              "    <tr>\n",
              "      <th>1</th>\n",
              "      <td>1</td>\n",
              "      <td>False</td>\n",
              "      <td>-260</td>\n",
              "      <td>210</td>\n",
              "      <td>-100.000000</td>\n",
              "      <td>-200.000000</td>\n",
              "    </tr>\n",
              "    <tr>\n",
              "      <th>2</th>\n",
              "      <td>1</td>\n",
              "      <td>True</td>\n",
              "      <td>-105</td>\n",
              "      <td>-115</td>\n",
              "      <td>95.238095</td>\n",
              "      <td>-104.761905</td>\n",
              "    </tr>\n",
              "    <tr>\n",
              "      <th>3</th>\n",
              "      <td>1</td>\n",
              "      <td>True</td>\n",
              "      <td>-180</td>\n",
              "      <td>150</td>\n",
              "      <td>55.555556</td>\n",
              "      <td>-49.206349</td>\n",
              "    </tr>\n",
              "    <tr>\n",
              "      <th>4</th>\n",
              "      <td>1</td>\n",
              "      <td>True</td>\n",
              "      <td>-170</td>\n",
              "      <td>145</td>\n",
              "      <td>58.823529</td>\n",
              "      <td>9.617180</td>\n",
              "    </tr>\n",
              "    <tr>\n",
              "      <th>5</th>\n",
              "      <td>1</td>\n",
              "      <td>False</td>\n",
              "      <td>260</td>\n",
              "      <td>-330</td>\n",
              "      <td>-100.000000</td>\n",
              "      <td>-90.382820</td>\n",
              "    </tr>\n",
              "    <tr>\n",
              "      <th>6</th>\n",
              "      <td>1</td>\n",
              "      <td>True</td>\n",
              "      <td>-110</td>\n",
              "      <td>-110</td>\n",
              "      <td>90.909091</td>\n",
              "      <td>0.526271</td>\n",
              "    </tr>\n",
              "    <tr>\n",
              "      <th>7</th>\n",
              "      <td>1</td>\n",
              "      <td>False</td>\n",
              "      <td>-165</td>\n",
              "      <td>142</td>\n",
              "      <td>-100.000000</td>\n",
              "      <td>-99.473729</td>\n",
              "    </tr>\n",
              "    <tr>\n",
              "      <th>8</th>\n",
              "      <td>1</td>\n",
              "      <td>True</td>\n",
              "      <td>-150</td>\n",
              "      <td>130</td>\n",
              "      <td>66.666667</td>\n",
              "      <td>-32.807062</td>\n",
              "    </tr>\n",
              "    <tr>\n",
              "      <th>9</th>\n",
              "      <td>1</td>\n",
              "      <td>True</td>\n",
              "      <td>-350</td>\n",
              "      <td>275</td>\n",
              "      <td>28.571429</td>\n",
              "      <td>-4.235634</td>\n",
              "    </tr>\n",
              "  </tbody>\n",
              "</table>\n",
              "</div>"
            ],
            "text/plain": [
              "   predictions  homeWin  homeOdds  awayOdds    moneyWon  cumTotalWon\n",
              "0            1    False       150      -180 -100.000000  -100.000000\n",
              "1            1    False      -260       210 -100.000000  -200.000000\n",
              "2            1     True      -105      -115   95.238095  -104.761905\n",
              "3            1     True      -180       150   55.555556   -49.206349\n",
              "4            1     True      -170       145   58.823529     9.617180\n",
              "5            1    False       260      -330 -100.000000   -90.382820\n",
              "6            1     True      -110      -110   90.909091     0.526271\n",
              "7            1    False      -165       142 -100.000000   -99.473729\n",
              "8            1     True      -150       130   66.666667   -32.807062\n",
              "9            1     True      -350       275   28.571429    -4.235634"
            ]
          },
          "execution_count": 298,
          "metadata": {},
          "output_type": "execute_result"
        }
      ],
      "source": [
        "# check work\n",
        "nba_test[['predictions','homeWin','homeOdds','awayOdds','moneyWon','cumTotalWon']].head(10)"
      ]
    },
    {
      "cell_type": "markdown",
      "metadata": {
        "colab_type": "text",
        "id": "1epew79D0WS1"
      },
      "source": [
        "# Final Results!\n",
        "We made almost \\$15,000 with a $100 bet on every game! This is better than expected and is very exciting. It lost just over \\$1,000 initially before it came back."
      ]
    },
    {
      "cell_type": "code",
      "execution_count": 299,
      "metadata": {
        "colab": {
          "base_uri": "https://localhost:8080/",
          "height": 400
        },
        "colab_type": "code",
        "id": "XXeks3C9sjxx",
        "outputId": "79c359ed-e5cf-451b-8de7-4b695dfbcaa8"
      },
      "outputs": [
        {
          "data": {
            "image/png": "[encoded data removed]",
            "text/plain": [
              "<Figure size 640x480 with 1 Axes>"
            ]
          },
          "metadata": {},
          "output_type": "display_data"
        }
      ],
      "source": [
        "## plot the cumulative money won over time\n",
        "fig, ax = plt.subplots()\n",
        "plt.plot(nba_test['date'], nba_test['cumTotalWon'])\n",
        "plt.title('Cumulative Earnings with $100 bets Based on Native Bayes Model')\n",
        "plt.ylabel('Dollars Earned')\n",
        "plt.xlabel('Time')\n",
        "ax.tick_params(labelbottom=False)"
      ]
    },
    {
      "cell_type": "code",
      "execution_count": 213,
      "metadata": {
        "colab": {
          "base_uri": "https://localhost:8080/",
          "height": 68
        },
        "colab_type": "code",
        "id": "X4UHaEvfMcaY",
        "outputId": "6d33000c-e34d-4c19-c4e5-9aaf03832ebe"
      },
      "outputs": [
        {
          "name": "stdout",
          "output_type": "stream",
          "text": [
            "The model's low point is -979.6906445862803 dollars.\n",
            "The model's high point is 17153.408504314128 dollars.\n",
            "The model has profited 16448.420006499542 dollars this season.\n"
          ]
        }
      ],
      "source": [
        "print(\"The model's low point is {} dollars.\".format(nba_test['cumTotalWon'].min()))\n",
        "print(\"The model's high point is {} dollars.\".format(nba_test['cumTotalWon'].max()))\n",
        "print(\"The model has profited {} dollars this season.\".format(nba_test['cumTotalWon'].iloc[-1]))"
      ]
    },
    {
      "cell_type": "markdown",
      "metadata": {
        "colab_type": "text",
        "id": "mfoGMn4X2CEQ"
      },
      "source": [
        "Below are a few predicted huge upsets! "
      ]
    },
    {
      "cell_type": "code",
      "execution_count": 84,
      "metadata": {
        "colab": {
          "base_uri": "https://localhost:8080/",
          "height": 204
        },
        "colab_type": "code",
        "id": "3_sZq3RzybMS",
        "outputId": "289f3a3b-a33f-46db-e7bd-803c44574337"
      },
      "outputs": [
        {
          "data": {
            "text/html": [
              "<div>\n",
              "<style scoped>\n",
              "    .dataframe tbody tr th:only-of-type {\n",
              "        vertical-align: middle;\n",
              "    }\n",
              "\n",
              "    .dataframe tbody tr th {\n",
              "        vertical-align: top;\n",
              "    }\n",
              "\n",
              "    .dataframe thead th {\n",
              "        text-align: right;\n",
              "    }\n",
              "</style>\n",
              "<table border=\"1\" class=\"dataframe\">\n",
              "  <thead>\n",
              "    <tr style=\"text-align: right;\">\n",
              "      <th></th>\n",
              "      <th>date</th>\n",
              "      <th>homeTeam</th>\n",
              "      <th>awayTeam</th>\n",
              "      <th>predictions</th>\n",
              "      <th>homeWin</th>\n",
              "      <th>homeOdds</th>\n",
              "      <th>awayOdds</th>\n",
              "      <th>moneyWon</th>\n",
              "    </tr>\n",
              "  </thead>\n",
              "  <tbody>\n",
              "    <tr>\n",
              "      <th>540</th>\n",
              "      <td>2020-01-20</td>\n",
              "      <td>CLE</td>\n",
              "      <td>NYK</td>\n",
              "      <td>False</td>\n",
              "      <td>False</td>\n",
              "      <td>-2500</td>\n",
              "      <td>1100</td>\n",
              "      <td>1100.0</td>\n",
              "    </tr>\n",
              "    <tr>\n",
              "      <th>459</th>\n",
              "      <td>2020-01-08</td>\n",
              "      <td>UTA</td>\n",
              "      <td>NYK</td>\n",
              "      <td>True</td>\n",
              "      <td>True</td>\n",
              "      <td>850</td>\n",
              "      <td>-1500</td>\n",
              "      <td>850.0</td>\n",
              "    </tr>\n",
              "    <tr>\n",
              "      <th>329</th>\n",
              "      <td>2019-12-21</td>\n",
              "      <td>DET</td>\n",
              "      <td>CHI</td>\n",
              "      <td>False</td>\n",
              "      <td>False</td>\n",
              "      <td>-1100</td>\n",
              "      <td>700</td>\n",
              "      <td>700.0</td>\n",
              "    </tr>\n",
              "    <tr>\n",
              "      <th>479</th>\n",
              "      <td>2020-01-11</td>\n",
              "      <td>OKC</td>\n",
              "      <td>LAL</td>\n",
              "      <td>False</td>\n",
              "      <td>False</td>\n",
              "      <td>-1000</td>\n",
              "      <td>650</td>\n",
              "      <td>650.0</td>\n",
              "    </tr>\n",
              "    <tr>\n",
              "      <th>413</th>\n",
              "      <td>2020-01-02</td>\n",
              "      <td>SAS</td>\n",
              "      <td>OKC</td>\n",
              "      <td>False</td>\n",
              "      <td>False</td>\n",
              "      <td>-1000</td>\n",
              "      <td>650</td>\n",
              "      <td>650.0</td>\n",
              "    </tr>\n",
              "  </tbody>\n",
              "</table>\n",
              "</div>"
            ],
            "text/plain": [
              "           date homeTeam awayTeam  predictions  homeWin  homeOdds  awayOdds  \\\n",
              "540  2020-01-20      CLE      NYK        False    False     -2500      1100   \n",
              "459  2020-01-08      UTA      NYK         True     True       850     -1500   \n",
              "329  2019-12-21      DET      CHI        False    False     -1100       700   \n",
              "479  2020-01-11      OKC      LAL        False    False     -1000       650   \n",
              "413  2020-01-02      SAS      OKC        False    False     -1000       650   \n",
              "\n",
              "     moneyWon  \n",
              "540    1100.0  \n",
              "459     850.0  \n",
              "329     700.0  \n",
              "479     650.0  \n",
              "413     650.0  "
            ]
          },
          "execution_count": 84,
          "metadata": {},
          "output_type": "execute_result"
        }
      ],
      "source": [
        "## top 5 wins\n",
        "nba_test[['date','homeTeam','awayTeam','predictions','homeWin','homeOdds','awayOdds','moneyWon']].loc[nba_test['moneyWon'] > 100].sort_values(by='moneyWon',ascending=False).head()"
      ]
    },
    {
      "cell_type": "markdown",
      "metadata": {
        "colab_type": "text",
        "id": "pY138brZPYPP"
      },
      "source": [
        "Here's some potentially dumb bets that we still got right."
      ]
    },
    {
      "cell_type": "code",
      "execution_count": 85,
      "metadata": {
        "colab": {
          "base_uri": "https://localhost:8080/",
          "height": 204
        },
        "colab_type": "code",
        "id": "5EHIjcwVPGCu",
        "outputId": "779f80c1-3145-4212-d05e-98ba675d71ab"
      },
      "outputs": [
        {
          "data": {
            "text/html": [
              "<div>\n",
              "<style scoped>\n",
              "    .dataframe tbody tr th:only-of-type {\n",
              "        vertical-align: middle;\n",
              "    }\n",
              "\n",
              "    .dataframe tbody tr th {\n",
              "        vertical-align: top;\n",
              "    }\n",
              "\n",
              "    .dataframe thead th {\n",
              "        text-align: right;\n",
              "    }\n",
              "</style>\n",
              "<table border=\"1\" class=\"dataframe\">\n",
              "  <thead>\n",
              "    <tr style=\"text-align: right;\">\n",
              "      <th></th>\n",
              "      <th>date</th>\n",
              "      <th>homeTeam</th>\n",
              "      <th>awayTeam</th>\n",
              "      <th>predictions</th>\n",
              "      <th>homeWin</th>\n",
              "      <th>homeOdds</th>\n",
              "      <th>awayOdds</th>\n",
              "      <th>moneyWon</th>\n",
              "    </tr>\n",
              "  </thead>\n",
              "  <tbody>\n",
              "    <tr>\n",
              "      <th>120</th>\n",
              "      <td>2019-11-22</td>\n",
              "      <td>UTA</td>\n",
              "      <td>GSW</td>\n",
              "      <td>True</td>\n",
              "      <td>True</td>\n",
              "      <td>-3500</td>\n",
              "      <td>1300</td>\n",
              "      <td>2.857143</td>\n",
              "    </tr>\n",
              "    <tr>\n",
              "      <th>194</th>\n",
              "      <td>2019-12-02</td>\n",
              "      <td>PHI</td>\n",
              "      <td>UTA</td>\n",
              "      <td>True</td>\n",
              "      <td>True</td>\n",
              "      <td>-3000</td>\n",
              "      <td>1200</td>\n",
              "      <td>3.333333</td>\n",
              "    </tr>\n",
              "    <tr>\n",
              "      <th>499</th>\n",
              "      <td>2020-01-14</td>\n",
              "      <td>MEM</td>\n",
              "      <td>HOU</td>\n",
              "      <td>True</td>\n",
              "      <td>True</td>\n",
              "      <td>-1600</td>\n",
              "      <td>912</td>\n",
              "      <td>6.250000</td>\n",
              "    </tr>\n",
              "    <tr>\n",
              "      <th>103</th>\n",
              "      <td>2019-11-20</td>\n",
              "      <td>DEN</td>\n",
              "      <td>HOU</td>\n",
              "      <td>True</td>\n",
              "      <td>True</td>\n",
              "      <td>-1600</td>\n",
              "      <td>900</td>\n",
              "      <td>6.250000</td>\n",
              "    </tr>\n",
              "    <tr>\n",
              "      <th>85</th>\n",
              "      <td>2019-11-17</td>\n",
              "      <td>SAC</td>\n",
              "      <td>BOS</td>\n",
              "      <td>True</td>\n",
              "      <td>True</td>\n",
              "      <td>-1600</td>\n",
              "      <td>900</td>\n",
              "      <td>6.250000</td>\n",
              "    </tr>\n",
              "  </tbody>\n",
              "</table>\n",
              "</div>"
            ],
            "text/plain": [
              "           date homeTeam awayTeam  predictions  homeWin  homeOdds  awayOdds  \\\n",
              "120  2019-11-22      UTA      GSW         True     True     -3500      1300   \n",
              "194  2019-12-02      PHI      UTA         True     True     -3000      1200   \n",
              "499  2020-01-14      MEM      HOU         True     True     -1600       912   \n",
              "103  2019-11-20      DEN      HOU         True     True     -1600       900   \n",
              "85   2019-11-17      SAC      BOS         True     True     -1600       900   \n",
              "\n",
              "     moneyWon  \n",
              "120  2.857143  \n",
              "194  3.333333  \n",
              "499  6.250000  \n",
              "103  6.250000  \n",
              "85   6.250000  "
            ]
          },
          "execution_count": 85,
          "metadata": {},
          "output_type": "execute_result"
        }
      ],
      "source": [
        "## least money made on a bet\n",
        "nba_test[['date','homeTeam','awayTeam','predictions','homeWin','homeOdds','awayOdds','moneyWon']].loc[nba_test['moneyWon'] > 0].sort_values(by='moneyWon').head()"
      ]
    },
    {
      "cell_type": "markdown",
      "metadata": {
        "colab_type": "text",
        "id": "Hvf28Sl-KQGc"
      },
      "source": [
        "# Conclusion\n",
        "This model seems too good to be true. I continue to look for reasons to doubt these results because it has turned a $1,000 investment into almost \\$15,000. One potential reason could be that the odds data was generous, so further vetting those numbers could be useful."
      ]
    },
    {
      "cell_type": "markdown",
      "metadata": {
        "colab_type": "text",
        "id": "Pf8MjWj04vD1"
      },
      "source": [
        "# Next Steps\n",
        "I'm ready to deploy this model using my own money. Although I think I'll make it $5 bets just in case I've been extremely lucky so far. I'll need to find a betting site API in which I can set scripts up to load in the odds, make a prediction, and place my bet. "
      ]
    },
    {
      "cell_type": "markdown",
      "metadata": {
        "colab_type": "text",
        "id": "I2qQL_HaQtb0"
      },
      "source": [
        "# Further Improvements\n",
        "- This model has yet to include any player data. A category that includes a rolling roster of top performers and whether they are out with injury or not could prove useful.\n",
        "- More explanatory power in order to give a confidence rating on single game predictions. Currently the model relies on long term use with a bet on every game.\n",
        "- Opting out of dumb bets. I could train the model to decide if a bet was worth the risk or not, instead of spreading that risk wide. The confidence interval could be used to compare against the odds."
      ]
    }
  ],
  "metadata": {
    "accelerator": "GPU",
    "colab": {
      "authorship_tag": "ABX9TyNsriRjTSHmWnQ6HX1o+07r",
      "collapsed_sections": [
        "Bmgk_6qWBzMZ",
        "ssHQ-FaSIhJ0"
      ],
      "include_colab_link": true,
      "name": "NbaPredictionFinal",
      "provenance": []
    },
    "kernelspec": {
      "display_name": "Python 3",
      "name": "python3"
    },
    "language_info": {
      "codemirror_mode": {
        "name": "ipython",
        "version": 3
      },
      "file_extension": ".py",
      "mimetype": "text/x-python",
      "name": "python",
      "nbconvert_exporter": "python",
      "pygments_lexer": "ipython3",
      "version": "3.9.13"
    }
  },
  "nbformat": 4,
  "nbformat_minor": 0
}
