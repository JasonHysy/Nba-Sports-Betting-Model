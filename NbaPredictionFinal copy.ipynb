{
  "cells": [
    {
      "cell_type": "markdown",
      "metadata": {
        "colab_type": "text",
        "id": "view-in-github"
      },
      "source": [
        "<a href=\"https://colab.research.google.com/github/garfjohnson/Nba-Sports-Betting-Model/blob/master/NbaPredictionFinal.ipynb\" target=\"_parent\"><img src=\"https://colab.research.google.com/assets/colab-badge.svg\" alt=\"Open In Colab\"/></a>"
      ]
    },
    {
      "cell_type": "markdown",
      "metadata": {
        "colab_type": "text",
        "id": "tXshW3Cr5Nse"
      },
      "source": [
        "# NBA Game Sports Betting Model\n",
        "This model will use a rolling average of recent performance data for each team in an NBA matchup to predict each winner. The model will be trained on previous seasons and tested on the current 2019-20 NBA season. Vegas odds are incorporated and a hypothetical $100 bet is placed on every game. The results are very exciting."
      ]
    },
    {
      "cell_type": "markdown",
      "metadata": {
        "colab_type": "text",
        "id": "mUxkt6Oz5DDx"
      },
      "source": [
        "## Import Libraries"
      ]
    },
    {
      "cell_type": "code",
      "execution_count": 88,
      "metadata": {
        "colab": {
          "base_uri": "https://localhost:8080/",
          "height": 357
        },
        "colab_type": "code",
        "id": "BqVXfH284uTP",
        "outputId": "3278d46c-2259-4ee4-8583-de076a1aa43d"
      },
      "outputs": [],
      "source": [
        "# !pip install sportsreference\n",
        "from sportsreference.nba.schedule import Schedule\n",
        "from datetime import datetime\n",
        "from sportsreference.nba.boxscore import Boxscores, Boxscore\n",
        "from sportsreference.nba.teams import Teams\n",
        "from datetime import datetime, timedelta\n",
        "import numpy as np\n",
        "import pandas as pd\n",
        "# from google.colab import drive\n",
        "import matplotlib.pyplot as plt\n",
        "import seaborn as sns"
      ]
    },
    {
      "cell_type": "code",
      "execution_count": 89,
      "metadata": {
        "colab": {
          "base_uri": "https://localhost:8080/",
          "height": 122
        },
        "colab_type": "code",
        "id": "Q4yQ3C9h43MS",
        "outputId": "9f4c29c9-0d41-4f11-a993-b93a580a662a"
      },
      "outputs": [],
      "source": [
        "# from google.colab import drive\n",
        "# drive.mount('/content/gdrive')"
      ]
    },
    {
      "cell_type": "code",
      "execution_count": 90,
      "metadata": {
        "colab": {},
        "colab_type": "code",
        "id": "2PPENQib47Ed"
      },
      "outputs": [],
      "source": [
        "pd.set_option('display.max_rows', 500)\n",
        "pd.set_option('display.max_columns', 500)\n",
        "from sklearn.model_selection import train_test_split, cross_val_score, KFold\n",
        "from sklearn.preprocessing import normalize, MinMaxScaler, RobustScaler\n",
        "from sklearn.decomposition import PCA\n",
        "from sklearn.metrics import make_scorer, f1_score"
      ]
    },
    {
      "cell_type": "markdown",
      "metadata": {
        "colab_type": "text",
        "id": "FQLwdYCa5jYu"
      },
      "source": [
        "## Declare Useful Functions and Lists"
      ]
    },
    {
      "cell_type": "code",
      "execution_count": 91,
      "metadata": {
        "colab": {},
        "colab_type": "code",
        "id": "WB_YiYnp5mB_"
      },
      "outputs": [],
      "source": [
        "## this function combines our cleaning step into one easy function\n",
        "def format_nba_df(df):\n",
        "  ## create a bool column for home win\n",
        "  df['homeWin'] = df['winner'] == 'Home'\n",
        "  ## rename unnamed column to gameid\n",
        "  df = df.rename(columns={'Unnamed: 0': 'gameID'})\n",
        "  ## create datetime object from column of date strings and drop the time \n",
        "  df['date'] = df['date'].apply(lambda x: (datetime.strptime(x, '%I:%M %p, %B %d, %Y')).date())\n",
        "  ## create home team column\n",
        "  df['homeTeam'] = np.where(df['homeWin']==True, df['winning_abbr'], df['losing_abbr'])\n",
        "  ## create away team column\n",
        "  df['awayTeam'] = np.where(df['homeWin']==False, df['winning_abbr'], df['losing_abbr'])\n",
        "  return df"
      ]
    },
    {
      "cell_type": "code",
      "execution_count": 92,
      "metadata": {
        "colab": {},
        "colab_type": "code",
        "id": "CrcJLwLd5oOi"
      },
      "outputs": [],
      "source": [
        "## this takes an odds dataframe and converts the date to a datetime object, year must be specified\n",
        "def convert_to_datetime(x, year):\n",
        "  y = str(x)\n",
        "  if x < 1000:\n",
        "    date = datetime(year=year, month=int(y[:-2]), day=int(y[-2:]))\n",
        "    return date.strftime(\"%Y-%m-%d\")\n",
        "  else:\n",
        "    date = datetime(year=year-1, month=int(y[:-2]), day=int(y[-2:]))\n",
        "    return date.strftime(\"%Y-%m-%d\")"
      ]
    },
    {
      "cell_type": "code",
      "execution_count": 93,
      "metadata": {
        "colab": {},
        "colab_type": "code",
        "id": "TnKpAhf-5ux6"
      },
      "outputs": [],
      "source": [
        "def avg_previous_num_games(df, num_games):\n",
        "  ### This function changes each stat to be the average of the last num_games for each team, and shifts it one so it does not include the current stats and drops the first num_games that become null\n",
        "  for col in home_cols:\n",
        "    for team in team_list:\n",
        "      df[col].loc[df['homeTeam']==team] = df[col].loc[df['homeTeam']==team].shift(1).rolling(num_games, min_periods=3).mean()\n",
        "  for col in away_cols:\n",
        "    for team in team_list:\n",
        "      df[col].loc[df['awayTeam']==team] = df[col].loc[df['awayTeam']==team].shift(1).rolling(num_games, min_periods=3).mean()\n",
        "  return df.dropna()"
      ]
    },
    {
      "cell_type": "code",
      "execution_count": 94,
      "metadata": {
        "colab": {},
        "colab_type": "code",
        "id": "sDrxe2c65Rqf"
      },
      "outputs": [],
      "source": [
        "# seperate statistical columns to home and away for later\n",
        "away_cols = ['away_assist_percentage', 'away_assists',\n",
        "       'away_block_percentage', 'away_blocks', 'away_defensive_rating',\n",
        "       'away_defensive_rebound_percentage', 'away_defensive_rebounds',\n",
        "       'away_effective_field_goal_percentage', 'away_field_goal_attempts',\n",
        "       'away_field_goal_percentage', 'away_field_goals',\n",
        "       'away_free_throw_attempt_rate', 'away_free_throw_attempts',\n",
        "       'away_free_throw_percentage', 'away_free_throws','away_minutes_played', 'away_offensive_rating',\n",
        "       'away_offensive_rebound_percentage', 'away_offensive_rebounds',\n",
        "       'away_personal_fouls', 'away_points', 'away_steal_percentage',\n",
        "       'away_steals', 'away_three_point_attempt_rate',\n",
        "       'away_three_point_field_goal_attempts',\n",
        "       'away_three_point_field_goal_percentage',\n",
        "       'away_three_point_field_goals', 'away_total_rebound_percentage',\n",
        "       'away_total_rebounds', 'away_true_shooting_percentage',\n",
        "       'away_turnover_percentage', 'away_turnovers',\n",
        "       'away_two_point_field_goal_attempts',\n",
        "       'away_two_point_field_goal_percentage', 'away_two_point_field_goals']\n",
        "home_cols = ['home_assist_percentage', 'home_assists',\n",
        "       'home_block_percentage', 'home_blocks', 'home_defensive_rating',\n",
        "       'home_defensive_rebound_percentage', 'home_defensive_rebounds',\n",
        "       'home_effective_field_goal_percentage', 'home_field_goal_attempts',\n",
        "       'home_field_goal_percentage', 'home_field_goals',\n",
        "       'home_free_throw_attempt_rate', 'home_free_throw_attempts',\n",
        "       'home_free_throw_percentage', 'home_free_throws',\n",
        "       'home_minutes_played', 'home_offensive_rating',\n",
        "       'home_offensive_rebound_percentage', 'home_offensive_rebounds',\n",
        "       'home_personal_fouls', 'home_points', 'home_steal_percentage',\n",
        "       'home_steals', 'home_three_point_attempt_rate',\n",
        "       'home_three_point_field_goal_attempts',\n",
        "       'home_three_point_field_goal_percentage',\n",
        "       'home_three_point_field_goals', 'home_total_rebound_percentage',\n",
        "       'home_total_rebounds', 'home_true_shooting_percentage',\n",
        "       'home_turnover_percentage', 'home_turnovers',\n",
        "       'home_two_point_field_goal_attempts',\n",
        "       'home_two_point_field_goal_percentage', 'home_two_point_field_goals']"
      ]
    },
    {
      "cell_type": "markdown",
      "metadata": {
        "colab_type": "text",
        "id": "wnBUa_ob5UKE"
      },
      "source": [
        "## Load and Arrange the Data\n",
        "We'll load the stats and odds datasets and ensure they are formatted the same and have the same shape so we can combine them later."
      ]
    },
    {
      "cell_type": "code",
      "execution_count": 95,
      "metadata": {
        "colab": {},
        "colab_type": "code",
        "id": "ySBZnr-E5atM"
      },
      "outputs": [],
      "source": [
        "# load 2017-18 boxscore stats\n",
        "nba2017 = pd.read_csv(r\"nba2017-18.csv\")\n",
        "# load 2018-19 boxscore stats\n",
        "nba2018 = pd.read_csv(r\"nba2018-19.csv\")\n",
        "# load 2019-20 boxscore stats\n",
        "nbaCurrent = pd.read_csv(r'nba2019-20.csv')"
      ]
    },
    {
      "cell_type": "code",
      "execution_count": 96,
      "metadata": {
        "colab": {},
        "colab_type": "code",
        "id": "P8Xjkcxo5fYz"
      },
      "outputs": [],
      "source": [
        "# apply cleaning step\n",
        "nba2017 = format_nba_df(nba2017)\n",
        "nba2018 = format_nba_df(nba2018)\n",
        "nbaCurrent = format_nba_df(nbaCurrent)"
      ]
    },
    {
      "cell_type": "code",
      "execution_count": 97,
      "metadata": {
        "colab": {},
        "colab_type": "code",
        "id": "SY1IzX-Z5dG_"
      },
      "outputs": [],
      "source": [
        "# load 2017-18 odds\n",
        "odds2017 = pd.read_csv(r\"nbaodds2017-18.csv\")\n",
        "# load 2018-19 odds\n",
        "odds2018 = pd.read_csv(r\"nbaodds2018-19.csv\")\n",
        "# load 2019-20 odds\n",
        "oddsCurrent = pd.read_csv(r\"nbaodds2019-20.csv\")"
      ]
    },
    {
      "cell_type": "code",
      "execution_count": 98,
      "metadata": {
        "colab": {},
        "colab_type": "code",
        "id": "VWrnBMAH54sQ"
      },
      "outputs": [],
      "source": [
        "## create list of team abbreviations and sort them\n",
        "team_list = sorted(list(nba2017['homeTeam'].unique()))"
      ]
    },
    {
      "cell_type": "markdown",
      "metadata": {
        "colab_type": "text",
        "id": "Kz66N9UYu0Zh"
      },
      "source": [
        "##### Here we format our odds df to match our main df by:\n",
        "1. Finding the neutral site game for each season and setting the corresponding team to the home team\n",
        "2. Dropping playoff games\n",
        "3. Seperating home/away team and get the home vs away in the same row\n",
        "3. Changing the date column to datetime objects\n",
        "4. Change team names to abbreviations\n",
        "5. Sort by date then by team to line up the two dfs\n",
        "\n",
        "I'll be keeping the odds dfs seperate for now because they'll be attached to each corresponding nba df which will need to remain seperated by season before being transformed."
      ]
    },
    {
      "cell_type": "code",
      "execution_count": 99,
      "metadata": {
        "colab": {
          "base_uri": "https://localhost:8080/",
          "height": 34
        },
        "colab_type": "code",
        "id": "Pc5Fq6iJm0Km",
        "outputId": "faac0708-135e-44b6-a752-d972fec59153"
      },
      "outputs": [
        {
          "data": {
            "text/plain": [
              "array(['V', 'H', 'N'], dtype=object)"
            ]
          },
          "execution_count": 99,
          "metadata": {},
          "output_type": "execute_result"
        }
      ],
      "source": [
        "## one game played in london\n",
        "odds2017['VH'].unique()"
      ]
    },
    {
      "cell_type": "code",
      "execution_count": 100,
      "metadata": {
        "colab": {
          "base_uri": "https://localhost:8080/",
          "height": 34
        },
        "colab_type": "code",
        "id": "vo6VUVu7LAuS",
        "outputId": "278d309e-d27e-4ee9-8c9c-97db3ffaea40"
      },
      "outputs": [
        {
          "data": {
            "text/plain": [
              "array(['V', 'H'], dtype=object)"
            ]
          },
          "execution_count": 100,
          "metadata": {},
          "output_type": "execute_result"
        }
      ],
      "source": [
        "## no neutral sites yet\n",
        "oddsCurrent['VH'].unique()"
      ]
    },
    {
      "cell_type": "code",
      "execution_count": 101,
      "metadata": {
        "colab": {
          "base_uri": "https://localhost:8080/",
          "height": 111
        },
        "colab_type": "code",
        "id": "Sad8CmFtm7aS",
        "outputId": "ccfe8a0a-b211-4d1c-ae6a-974a2c7bcbec"
      },
      "outputs": [
        {
          "data": {
            "text/html": [
              "<div>\n",
              "<style scoped>\n",
              "    .dataframe tbody tr th:only-of-type {\n",
              "        vertical-align: middle;\n",
              "    }\n",
              "\n",
              "    .dataframe tbody tr th {\n",
              "        vertical-align: top;\n",
              "    }\n",
              "\n",
              "    .dataframe thead th {\n",
              "        text-align: right;\n",
              "    }\n",
              "</style>\n",
              "<table border=\"1\" class=\"dataframe\">\n",
              "  <thead>\n",
              "    <tr style=\"text-align: right;\">\n",
              "      <th></th>\n",
              "      <th>Date</th>\n",
              "      <th>Rot</th>\n",
              "      <th>VH</th>\n",
              "      <th>Team</th>\n",
              "      <th>1st</th>\n",
              "      <th>2nd</th>\n",
              "      <th>3rd</th>\n",
              "      <th>4th</th>\n",
              "      <th>Final</th>\n",
              "      <th>Open</th>\n",
              "      <th>Close</th>\n",
              "      <th>ML</th>\n",
              "      <th>2H</th>\n",
              "    </tr>\n",
              "  </thead>\n",
              "  <tbody>\n",
              "    <tr>\n",
              "      <th>1232</th>\n",
              "      <td>111</td>\n",
              "      <td>901</td>\n",
              "      <td>N</td>\n",
              "      <td>Boston</td>\n",
              "      <td>23</td>\n",
              "      <td>25</td>\n",
              "      <td>37</td>\n",
              "      <td>29</td>\n",
              "      <td>114</td>\n",
              "      <td>1.5</td>\n",
              "      <td>1.5</td>\n",
              "      <td>-130</td>\n",
              "      <td>4</td>\n",
              "    </tr>\n",
              "    <tr>\n",
              "      <th>1233</th>\n",
              "      <td>111</td>\n",
              "      <td>902</td>\n",
              "      <td>N</td>\n",
              "      <td>Philadelphia</td>\n",
              "      <td>28</td>\n",
              "      <td>29</td>\n",
              "      <td>22</td>\n",
              "      <td>24</td>\n",
              "      <td>103</td>\n",
              "      <td>205.5</td>\n",
              "      <td>211.5</td>\n",
              "      <td>110</td>\n",
              "      <td>109.5</td>\n",
              "    </tr>\n",
              "  </tbody>\n",
              "</table>\n",
              "</div>"
            ],
            "text/plain": [
              "      Date  Rot VH          Team  1st  2nd  3rd  4th  Final   Open  Close  \\\n",
              "1232   111  901  N        Boston   23   25   37   29    114    1.5    1.5   \n",
              "1233   111  902  N  Philadelphia   28   29   22   24    103  205.5  211.5   \n",
              "\n",
              "       ML     2H  \n",
              "1232 -130      4  \n",
              "1233  110  109.5  "
            ]
          },
          "execution_count": 101,
          "metadata": {},
          "output_type": "execute_result"
        }
      ],
      "source": [
        "## we need to change these to home and away so it matches our other df\n",
        "odds2017.loc[odds2017['VH']=='N']"
      ]
    },
    {
      "cell_type": "code",
      "execution_count": 102,
      "metadata": {
        "colab": {
          "base_uri": "https://localhost:8080/",
          "height": 168
        },
        "colab_type": "code",
        "id": "4GCw_Ah4nmAL",
        "outputId": "29665515-a507-4c65-fd05-b8e81eba270a"
      },
      "outputs": [
        {
          "data": {
            "text/html": [
              "<div>\n",
              "<style scoped>\n",
              "    .dataframe tbody tr th:only-of-type {\n",
              "        vertical-align: middle;\n",
              "    }\n",
              "\n",
              "    .dataframe tbody tr th {\n",
              "        vertical-align: top;\n",
              "    }\n",
              "\n",
              "    .dataframe thead th {\n",
              "        text-align: right;\n",
              "    }\n",
              "</style>\n",
              "<table border=\"1\" class=\"dataframe\">\n",
              "  <thead>\n",
              "    <tr style=\"text-align: right;\">\n",
              "      <th></th>\n",
              "      <th>gameID</th>\n",
              "      <th>away_assist_percentage</th>\n",
              "      <th>away_assists</th>\n",
              "      <th>away_block_percentage</th>\n",
              "      <th>away_blocks</th>\n",
              "      <th>away_defensive_rating</th>\n",
              "      <th>away_defensive_rebound_percentage</th>\n",
              "      <th>away_defensive_rebounds</th>\n",
              "      <th>away_effective_field_goal_percentage</th>\n",
              "      <th>away_field_goal_attempts</th>\n",
              "      <th>away_field_goal_percentage</th>\n",
              "      <th>away_field_goals</th>\n",
              "      <th>away_free_throw_attempt_rate</th>\n",
              "      <th>away_free_throw_attempts</th>\n",
              "      <th>away_free_throw_percentage</th>\n",
              "      <th>away_free_throws</th>\n",
              "      <th>away_losses</th>\n",
              "      <th>away_minutes_played</th>\n",
              "      <th>away_offensive_rating</th>\n",
              "      <th>away_offensive_rebound_percentage</th>\n",
              "      <th>away_offensive_rebounds</th>\n",
              "      <th>away_personal_fouls</th>\n",
              "      <th>away_points</th>\n",
              "      <th>away_steal_percentage</th>\n",
              "      <th>away_steals</th>\n",
              "      <th>away_three_point_attempt_rate</th>\n",
              "      <th>away_three_point_field_goal_attempts</th>\n",
              "      <th>away_three_point_field_goal_percentage</th>\n",
              "      <th>away_three_point_field_goals</th>\n",
              "      <th>away_total_rebound_percentage</th>\n",
              "      <th>away_total_rebounds</th>\n",
              "      <th>away_true_shooting_percentage</th>\n",
              "      <th>away_turnover_percentage</th>\n",
              "      <th>away_turnovers</th>\n",
              "      <th>away_two_point_field_goal_attempts</th>\n",
              "      <th>away_two_point_field_goal_percentage</th>\n",
              "      <th>away_two_point_field_goals</th>\n",
              "      <th>away_wins</th>\n",
              "      <th>date</th>\n",
              "      <th>home_assist_percentage</th>\n",
              "      <th>home_assists</th>\n",
              "      <th>home_block_percentage</th>\n",
              "      <th>home_blocks</th>\n",
              "      <th>home_defensive_rating</th>\n",
              "      <th>home_defensive_rebound_percentage</th>\n",
              "      <th>home_defensive_rebounds</th>\n",
              "      <th>home_effective_field_goal_percentage</th>\n",
              "      <th>home_field_goal_attempts</th>\n",
              "      <th>home_field_goal_percentage</th>\n",
              "      <th>home_field_goals</th>\n",
              "      <th>home_free_throw_attempt_rate</th>\n",
              "      <th>home_free_throw_attempts</th>\n",
              "      <th>home_free_throw_percentage</th>\n",
              "      <th>home_free_throws</th>\n",
              "      <th>home_losses</th>\n",
              "      <th>home_minutes_played</th>\n",
              "      <th>home_offensive_rating</th>\n",
              "      <th>home_offensive_rebound_percentage</th>\n",
              "      <th>home_offensive_rebounds</th>\n",
              "      <th>home_personal_fouls</th>\n",
              "      <th>home_points</th>\n",
              "      <th>home_steal_percentage</th>\n",
              "      <th>home_steals</th>\n",
              "      <th>home_three_point_attempt_rate</th>\n",
              "      <th>home_three_point_field_goal_attempts</th>\n",
              "      <th>home_three_point_field_goal_percentage</th>\n",
              "      <th>home_three_point_field_goals</th>\n",
              "      <th>home_total_rebound_percentage</th>\n",
              "      <th>home_total_rebounds</th>\n",
              "      <th>home_true_shooting_percentage</th>\n",
              "      <th>home_turnover_percentage</th>\n",
              "      <th>home_turnovers</th>\n",
              "      <th>home_two_point_field_goal_attempts</th>\n",
              "      <th>home_two_point_field_goal_percentage</th>\n",
              "      <th>home_two_point_field_goals</th>\n",
              "      <th>home_wins</th>\n",
              "      <th>location</th>\n",
              "      <th>losing_abbr</th>\n",
              "      <th>losing_name</th>\n",
              "      <th>pace</th>\n",
              "      <th>winner</th>\n",
              "      <th>winning_abbr</th>\n",
              "      <th>winning_name</th>\n",
              "      <th>homeWin</th>\n",
              "      <th>homeTeam</th>\n",
              "      <th>awayTeam</th>\n",
              "    </tr>\n",
              "  </thead>\n",
              "  <tbody>\n",
              "    <tr>\n",
              "      <th>614</th>\n",
              "      <td>201801110PHI</td>\n",
              "      <td>55.8</td>\n",
              "      <td>24</td>\n",
              "      <td>3.7</td>\n",
              "      <td>2</td>\n",
              "      <td>99.5</td>\n",
              "      <td>92.1</td>\n",
              "      <td>35</td>\n",
              "      <td>0.556</td>\n",
              "      <td>89</td>\n",
              "      <td>0.483</td>\n",
              "      <td>43</td>\n",
              "      <td>0.213</td>\n",
              "      <td>19</td>\n",
              "      <td>0.789</td>\n",
              "      <td>15</td>\n",
              "      <td>10</td>\n",
              "      <td>240</td>\n",
              "      <td>110.1</td>\n",
              "      <td>24.4</td>\n",
              "      <td>11</td>\n",
              "      <td>18</td>\n",
              "      <td>114</td>\n",
              "      <td>10.6</td>\n",
              "      <td>11</td>\n",
              "      <td>0.393</td>\n",
              "      <td>35</td>\n",
              "      <td>0.371</td>\n",
              "      <td>13</td>\n",
              "      <td>55.4</td>\n",
              "      <td>46</td>\n",
              "      <td>0.585</td>\n",
              "      <td>15.6</td>\n",
              "      <td>18</td>\n",
              "      <td>54</td>\n",
              "      <td>0.556</td>\n",
              "      <td>30</td>\n",
              "      <td>34</td>\n",
              "      <td>2018-01-11</td>\n",
              "      <td>52.6</td>\n",
              "      <td>24</td>\n",
              "      <td>7.4</td>\n",
              "      <td>2</td>\n",
              "      <td>110.1</td>\n",
              "      <td>75.6</td>\n",
              "      <td>35</td>\n",
              "      <td>0.53</td>\n",
              "      <td>89</td>\n",
              "      <td>0.483</td>\n",
              "      <td>43</td>\n",
              "      <td>0.22</td>\n",
              "      <td>19</td>\n",
              "      <td>0.789</td>\n",
              "      <td>15</td>\n",
              "      <td>0</td>\n",
              "      <td>240</td>\n",
              "      <td>99.5</td>\n",
              "      <td>7.9</td>\n",
              "      <td>11</td>\n",
              "      <td>18</td>\n",
              "      <td>103</td>\n",
              "      <td>11.6</td>\n",
              "      <td>11</td>\n",
              "      <td>0.341</td>\n",
              "      <td>35</td>\n",
              "      <td>0.371</td>\n",
              "      <td>13</td>\n",
              "      <td>44.6</td>\n",
              "      <td>46</td>\n",
              "      <td>0.573</td>\n",
              "      <td>17.4</td>\n",
              "      <td>18</td>\n",
              "      <td>54</td>\n",
              "      <td>0.556</td>\n",
              "      <td>30</td>\n",
              "      <td>0</td>\n",
              "      <td>The O2 Arena, London, United Kingdom</td>\n",
              "      <td>PHI</td>\n",
              "      <td>Philadelphia 76ers</td>\n",
              "      <td>103.5</td>\n",
              "      <td>Away</td>\n",
              "      <td>BOS</td>\n",
              "      <td>Boston Celtics</td>\n",
              "      <td>False</td>\n",
              "      <td>PHI</td>\n",
              "      <td>BOS</td>\n",
              "    </tr>\n",
              "  </tbody>\n",
              "</table>\n",
              "</div>"
            ],
            "text/plain": [
              "           gameID  away_assist_percentage  away_assists  \\\n",
              "614  201801110PHI                    55.8            24   \n",
              "\n",
              "     away_block_percentage  away_blocks  away_defensive_rating  \\\n",
              "614                    3.7            2                   99.5   \n",
              "\n",
              "     away_defensive_rebound_percentage  away_defensive_rebounds  \\\n",
              "614                               92.1                       35   \n",
              "\n",
              "     away_effective_field_goal_percentage  away_field_goal_attempts  \\\n",
              "614                                 0.556                        89   \n",
              "\n",
              "     away_field_goal_percentage  away_field_goals  \\\n",
              "614                       0.483                43   \n",
              "\n",
              "     away_free_throw_attempt_rate  away_free_throw_attempts  \\\n",
              "614                         0.213                        19   \n",
              "\n",
              "     away_free_throw_percentage  away_free_throws  away_losses  \\\n",
              "614                       0.789                15           10   \n",
              "\n",
              "     away_minutes_played  away_offensive_rating  \\\n",
              "614                  240                  110.1   \n",
              "\n",
              "     away_offensive_rebound_percentage  away_offensive_rebounds  \\\n",
              "614                               24.4                       11   \n",
              "\n",
              "     away_personal_fouls  away_points  away_steal_percentage  away_steals  \\\n",
              "614                   18          114                   10.6           11   \n",
              "\n",
              "     away_three_point_attempt_rate  away_three_point_field_goal_attempts  \\\n",
              "614                          0.393                                    35   \n",
              "\n",
              "     away_three_point_field_goal_percentage  away_three_point_field_goals  \\\n",
              "614                                   0.371                            13   \n",
              "\n",
              "     away_total_rebound_percentage  away_total_rebounds  \\\n",
              "614                           55.4                   46   \n",
              "\n",
              "     away_true_shooting_percentage  away_turnover_percentage  away_turnovers  \\\n",
              "614                          0.585                      15.6              18   \n",
              "\n",
              "     away_two_point_field_goal_attempts  away_two_point_field_goal_percentage  \\\n",
              "614                                  54                                 0.556   \n",
              "\n",
              "     away_two_point_field_goals  away_wins        date  \\\n",
              "614                          30         34  2018-01-11   \n",
              "\n",
              "     home_assist_percentage  home_assists  home_block_percentage  home_blocks  \\\n",
              "614                    52.6            24                    7.4            2   \n",
              "\n",
              "     home_defensive_rating  home_defensive_rebound_percentage  \\\n",
              "614                  110.1                               75.6   \n",
              "\n",
              "     home_defensive_rebounds  home_effective_field_goal_percentage  \\\n",
              "614                       35                                  0.53   \n",
              "\n",
              "     home_field_goal_attempts  home_field_goal_percentage  home_field_goals  \\\n",
              "614                        89                       0.483                43   \n",
              "\n",
              "     home_free_throw_attempt_rate  home_free_throw_attempts  \\\n",
              "614                          0.22                        19   \n",
              "\n",
              "     home_free_throw_percentage  home_free_throws  home_losses  \\\n",
              "614                       0.789                15            0   \n",
              "\n",
              "     home_minutes_played  home_offensive_rating  \\\n",
              "614                  240                   99.5   \n",
              "\n",
              "     home_offensive_rebound_percentage  home_offensive_rebounds  \\\n",
              "614                                7.9                       11   \n",
              "\n",
              "     home_personal_fouls  home_points  home_steal_percentage  home_steals  \\\n",
              "614                   18          103                   11.6           11   \n",
              "\n",
              "     home_three_point_attempt_rate  home_three_point_field_goal_attempts  \\\n",
              "614                          0.341                                    35   \n",
              "\n",
              "     home_three_point_field_goal_percentage  home_three_point_field_goals  \\\n",
              "614                                   0.371                            13   \n",
              "\n",
              "     home_total_rebound_percentage  home_total_rebounds  \\\n",
              "614                           44.6                   46   \n",
              "\n",
              "     home_true_shooting_percentage  home_turnover_percentage  home_turnovers  \\\n",
              "614                          0.573                      17.4              18   \n",
              "\n",
              "     home_two_point_field_goal_attempts  home_two_point_field_goal_percentage  \\\n",
              "614                                  54                                 0.556   \n",
              "\n",
              "     home_two_point_field_goals  home_wins  \\\n",
              "614                          30          0   \n",
              "\n",
              "                                 location losing_abbr         losing_name  \\\n",
              "614  The O2 Arena, London, United Kingdom         PHI  Philadelphia 76ers   \n",
              "\n",
              "      pace winner winning_abbr    winning_name  homeWin homeTeam awayTeam  \n",
              "614  103.5   Away          BOS  Boston Celtics    False      PHI      BOS  "
            ]
          },
          "execution_count": 102,
          "metadata": {},
          "output_type": "execute_result"
        }
      ],
      "source": [
        "## PHI is the home team\n",
        "nba2017.loc[nba2017['gameID']=='201801110PHI']"
      ]
    },
    {
      "cell_type": "code",
      "execution_count": 103,
      "metadata": {
        "colab": {
          "base_uri": "https://localhost:8080/",
          "height": 102
        },
        "colab_type": "code",
        "id": "QkzdmVaWqJxw",
        "outputId": "6430d24d-225a-499b-ff56-9cf8b50be39b"
      },
      "outputs": [
        {
          "name": "stderr",
          "output_type": "stream",
          "text": [
            "C:\\Users\\Jason Huang\\AppData\\Local\\Temp\\ipykernel_24928\\1072934229.py:2: SettingWithCopyWarning: \n",
            "A value is trying to be set on a copy of a slice from a DataFrame\n",
            "\n",
            "See the caveats in the documentation: https://pandas.pydata.org/pandas-docs/stable/user_guide/indexing.html#returning-a-view-versus-a-copy\n",
            "  odds2017['VH'].iloc[[1233]] = 'H'\n",
            "C:\\Users\\Jason Huang\\AppData\\Local\\Temp\\ipykernel_24928\\1072934229.py:3: SettingWithCopyWarning: \n",
            "A value is trying to be set on a copy of a slice from a DataFrame\n",
            "\n",
            "See the caveats in the documentation: https://pandas.pydata.org/pandas-docs/stable/user_guide/indexing.html#returning-a-view-versus-a-copy\n",
            "  odds2017['VH'].iloc[[1232]] = 'V'\n"
          ]
        }
      ],
      "source": [
        "## change values for home and away team\n",
        "odds2017['VH'].iloc[[1233]] = 'H'\n",
        "odds2017['VH'].iloc[[1232]] = 'V'"
      ]
    },
    {
      "cell_type": "code",
      "execution_count": 104,
      "metadata": {
        "colab": {
          "base_uri": "https://localhost:8080/",
          "height": 111
        },
        "colab_type": "code",
        "id": "rKtiN0TbrQNg",
        "outputId": "7d7a4760-cfe1-40e1-ba0b-fa232fd90926"
      },
      "outputs": [
        {
          "data": {
            "text/html": [
              "<div>\n",
              "<style scoped>\n",
              "    .dataframe tbody tr th:only-of-type {\n",
              "        vertical-align: middle;\n",
              "    }\n",
              "\n",
              "    .dataframe tbody tr th {\n",
              "        vertical-align: top;\n",
              "    }\n",
              "\n",
              "    .dataframe thead th {\n",
              "        text-align: right;\n",
              "    }\n",
              "</style>\n",
              "<table border=\"1\" class=\"dataframe\">\n",
              "  <thead>\n",
              "    <tr style=\"text-align: right;\">\n",
              "      <th></th>\n",
              "      <th>Date</th>\n",
              "      <th>Rot</th>\n",
              "      <th>VH</th>\n",
              "      <th>Team</th>\n",
              "      <th>1st</th>\n",
              "      <th>2nd</th>\n",
              "      <th>3rd</th>\n",
              "      <th>4th</th>\n",
              "      <th>Final</th>\n",
              "      <th>Open</th>\n",
              "      <th>Close</th>\n",
              "      <th>ML</th>\n",
              "      <th>2H</th>\n",
              "    </tr>\n",
              "  </thead>\n",
              "  <tbody>\n",
              "    <tr>\n",
              "      <th>1232</th>\n",
              "      <td>111</td>\n",
              "      <td>901</td>\n",
              "      <td>V</td>\n",
              "      <td>Boston</td>\n",
              "      <td>23</td>\n",
              "      <td>25</td>\n",
              "      <td>37</td>\n",
              "      <td>29</td>\n",
              "      <td>114</td>\n",
              "      <td>1.5</td>\n",
              "      <td>1.5</td>\n",
              "      <td>-130</td>\n",
              "      <td>4</td>\n",
              "    </tr>\n",
              "    <tr>\n",
              "      <th>1233</th>\n",
              "      <td>111</td>\n",
              "      <td>902</td>\n",
              "      <td>H</td>\n",
              "      <td>Philadelphia</td>\n",
              "      <td>28</td>\n",
              "      <td>29</td>\n",
              "      <td>22</td>\n",
              "      <td>24</td>\n",
              "      <td>103</td>\n",
              "      <td>205.5</td>\n",
              "      <td>211.5</td>\n",
              "      <td>110</td>\n",
              "      <td>109.5</td>\n",
              "    </tr>\n",
              "  </tbody>\n",
              "</table>\n",
              "</div>"
            ],
            "text/plain": [
              "      Date  Rot VH          Team  1st  2nd  3rd  4th  Final   Open  Close  \\\n",
              "1232   111  901  V        Boston   23   25   37   29    114    1.5    1.5   \n",
              "1233   111  902  H  Philadelphia   28   29   22   24    103  205.5  211.5   \n",
              "\n",
              "       ML     2H  \n",
              "1232 -130      4  \n",
              "1233  110  109.5  "
            ]
          },
          "execution_count": 104,
          "metadata": {},
          "output_type": "execute_result"
        }
      ],
      "source": [
        "## check work\n",
        "odds2017.iloc[[1232,1233]]"
      ]
    },
    {
      "cell_type": "code",
      "execution_count": 105,
      "metadata": {
        "colab": {
          "base_uri": "https://localhost:8080/",
          "height": 111
        },
        "colab_type": "code",
        "id": "yQUqq2FWrfpf",
        "outputId": "a4f38b62-7cbc-4a2b-89dc-87dd12b8cc3f"
      },
      "outputs": [
        {
          "data": {
            "text/html": [
              "<div>\n",
              "<style scoped>\n",
              "    .dataframe tbody tr th:only-of-type {\n",
              "        vertical-align: middle;\n",
              "    }\n",
              "\n",
              "    .dataframe tbody tr th {\n",
              "        vertical-align: top;\n",
              "    }\n",
              "\n",
              "    .dataframe thead th {\n",
              "        text-align: right;\n",
              "    }\n",
              "</style>\n",
              "<table border=\"1\" class=\"dataframe\">\n",
              "  <thead>\n",
              "    <tr style=\"text-align: right;\">\n",
              "      <th></th>\n",
              "      <th>Date</th>\n",
              "      <th>Rot</th>\n",
              "      <th>VH</th>\n",
              "      <th>Team</th>\n",
              "      <th>1st</th>\n",
              "      <th>2nd</th>\n",
              "      <th>3rd</th>\n",
              "      <th>4th</th>\n",
              "      <th>Final</th>\n",
              "      <th>Open</th>\n",
              "      <th>Close</th>\n",
              "      <th>ML</th>\n",
              "      <th>2H</th>\n",
              "    </tr>\n",
              "  </thead>\n",
              "  <tbody>\n",
              "    <tr>\n",
              "      <th>1328</th>\n",
              "      <td>117</td>\n",
              "      <td>541</td>\n",
              "      <td>N</td>\n",
              "      <td>NewYork</td>\n",
              "      <td>30</td>\n",
              "      <td>33</td>\n",
              "      <td>26</td>\n",
              "      <td>11</td>\n",
              "      <td>100</td>\n",
              "      <td>225</td>\n",
              "      <td>229</td>\n",
              "      <td>260</td>\n",
              "      <td>112.5</td>\n",
              "    </tr>\n",
              "    <tr>\n",
              "      <th>1329</th>\n",
              "      <td>117</td>\n",
              "      <td>542</td>\n",
              "      <td>N</td>\n",
              "      <td>Washington</td>\n",
              "      <td>20</td>\n",
              "      <td>33</td>\n",
              "      <td>24</td>\n",
              "      <td>24</td>\n",
              "      <td>101</td>\n",
              "      <td>7</td>\n",
              "      <td>7.5</td>\n",
              "      <td>-330</td>\n",
              "      <td>7.5</td>\n",
              "    </tr>\n",
              "  </tbody>\n",
              "</table>\n",
              "</div>"
            ],
            "text/plain": [
              "      Date  Rot VH        Team  1st  2nd  3rd  4th  Final Open Close   ML  \\\n",
              "1328   117  541  N     NewYork   30   33   26   11    100  225   229  260   \n",
              "1329   117  542  N  Washington   20   33   24   24    101    7   7.5 -330   \n",
              "\n",
              "         2H  \n",
              "1328  112.5  \n",
              "1329    7.5  "
            ]
          },
          "execution_count": 105,
          "metadata": {},
          "output_type": "execute_result"
        }
      ],
      "source": [
        "## do the same for 2018 df\n",
        "odds2018.loc[odds2018['VH']=='N']"
      ]
    },
    {
      "cell_type": "code",
      "execution_count": 106,
      "metadata": {
        "colab": {
          "base_uri": "https://localhost:8080/",
          "height": 168
        },
        "colab_type": "code",
        "id": "csAl8j8nr6z0",
        "outputId": "38509839-9233-460b-c706-075beb41dd2c"
      },
      "outputs": [
        {
          "data": {
            "text/html": [
              "<div>\n",
              "<style scoped>\n",
              "    .dataframe tbody tr th:only-of-type {\n",
              "        vertical-align: middle;\n",
              "    }\n",
              "\n",
              "    .dataframe tbody tr th {\n",
              "        vertical-align: top;\n",
              "    }\n",
              "\n",
              "    .dataframe thead th {\n",
              "        text-align: right;\n",
              "    }\n",
              "</style>\n",
              "<table border=\"1\" class=\"dataframe\">\n",
              "  <thead>\n",
              "    <tr style=\"text-align: right;\">\n",
              "      <th></th>\n",
              "      <th>gameID</th>\n",
              "      <th>away_assist_percentage</th>\n",
              "      <th>away_assists</th>\n",
              "      <th>away_block_percentage</th>\n",
              "      <th>away_blocks</th>\n",
              "      <th>away_defensive_rating</th>\n",
              "      <th>away_defensive_rebound_percentage</th>\n",
              "      <th>away_defensive_rebounds</th>\n",
              "      <th>away_effective_field_goal_percentage</th>\n",
              "      <th>away_field_goal_attempts</th>\n",
              "      <th>away_field_goal_percentage</th>\n",
              "      <th>away_field_goals</th>\n",
              "      <th>away_free_throw_attempt_rate</th>\n",
              "      <th>away_free_throw_attempts</th>\n",
              "      <th>away_free_throw_percentage</th>\n",
              "      <th>away_free_throws</th>\n",
              "      <th>away_losses</th>\n",
              "      <th>away_minutes_played</th>\n",
              "      <th>away_offensive_rating</th>\n",
              "      <th>away_offensive_rebound_percentage</th>\n",
              "      <th>away_offensive_rebounds</th>\n",
              "      <th>away_personal_fouls</th>\n",
              "      <th>away_points</th>\n",
              "      <th>away_steal_percentage</th>\n",
              "      <th>away_steals</th>\n",
              "      <th>away_three_point_attempt_rate</th>\n",
              "      <th>away_three_point_field_goal_attempts</th>\n",
              "      <th>away_three_point_field_goal_percentage</th>\n",
              "      <th>away_three_point_field_goals</th>\n",
              "      <th>away_total_rebound_percentage</th>\n",
              "      <th>away_total_rebounds</th>\n",
              "      <th>away_true_shooting_percentage</th>\n",
              "      <th>away_turnover_percentage</th>\n",
              "      <th>away_turnovers</th>\n",
              "      <th>away_two_point_field_goal_attempts</th>\n",
              "      <th>away_two_point_field_goal_percentage</th>\n",
              "      <th>away_two_point_field_goals</th>\n",
              "      <th>away_wins</th>\n",
              "      <th>date</th>\n",
              "      <th>home_assist_percentage</th>\n",
              "      <th>home_assists</th>\n",
              "      <th>home_block_percentage</th>\n",
              "      <th>home_blocks</th>\n",
              "      <th>home_defensive_rating</th>\n",
              "      <th>home_defensive_rebound_percentage</th>\n",
              "      <th>home_defensive_rebounds</th>\n",
              "      <th>home_effective_field_goal_percentage</th>\n",
              "      <th>home_field_goal_attempts</th>\n",
              "      <th>home_field_goal_percentage</th>\n",
              "      <th>home_field_goals</th>\n",
              "      <th>home_free_throw_attempt_rate</th>\n",
              "      <th>home_free_throw_attempts</th>\n",
              "      <th>home_free_throw_percentage</th>\n",
              "      <th>home_free_throws</th>\n",
              "      <th>home_losses</th>\n",
              "      <th>home_minutes_played</th>\n",
              "      <th>home_offensive_rating</th>\n",
              "      <th>home_offensive_rebound_percentage</th>\n",
              "      <th>home_offensive_rebounds</th>\n",
              "      <th>home_personal_fouls</th>\n",
              "      <th>home_points</th>\n",
              "      <th>home_steal_percentage</th>\n",
              "      <th>home_steals</th>\n",
              "      <th>home_three_point_attempt_rate</th>\n",
              "      <th>home_three_point_field_goal_attempts</th>\n",
              "      <th>home_three_point_field_goal_percentage</th>\n",
              "      <th>home_three_point_field_goals</th>\n",
              "      <th>home_total_rebound_percentage</th>\n",
              "      <th>home_total_rebounds</th>\n",
              "      <th>home_true_shooting_percentage</th>\n",
              "      <th>home_turnover_percentage</th>\n",
              "      <th>home_turnovers</th>\n",
              "      <th>home_two_point_field_goal_attempts</th>\n",
              "      <th>home_two_point_field_goal_percentage</th>\n",
              "      <th>home_two_point_field_goals</th>\n",
              "      <th>home_wins</th>\n",
              "      <th>location</th>\n",
              "      <th>losing_abbr</th>\n",
              "      <th>losing_name</th>\n",
              "      <th>pace</th>\n",
              "      <th>winner</th>\n",
              "      <th>winning_abbr</th>\n",
              "      <th>winning_name</th>\n",
              "      <th>homeWin</th>\n",
              "      <th>homeTeam</th>\n",
              "      <th>awayTeam</th>\n",
              "    </tr>\n",
              "  </thead>\n",
              "  <tbody>\n",
              "    <tr>\n",
              "      <th>669</th>\n",
              "      <td>201901170WAS</td>\n",
              "      <td>38.5</td>\n",
              "      <td>15</td>\n",
              "      <td>4.6</td>\n",
              "      <td>3</td>\n",
              "      <td>103.5</td>\n",
              "      <td>70.6</td>\n",
              "      <td>36</td>\n",
              "      <td>0.517</td>\n",
              "      <td>87</td>\n",
              "      <td>0.448</td>\n",
              "      <td>39</td>\n",
              "      <td>0.138</td>\n",
              "      <td>12</td>\n",
              "      <td>0.833</td>\n",
              "      <td>10</td>\n",
              "      <td>34</td>\n",
              "      <td>240</td>\n",
              "      <td>102.5</td>\n",
              "      <td>14.3</td>\n",
              "      <td>6</td>\n",
              "      <td>16</td>\n",
              "      <td>100</td>\n",
              "      <td>6.2</td>\n",
              "      <td>6</td>\n",
              "      <td>0.333</td>\n",
              "      <td>29</td>\n",
              "      <td>0.414</td>\n",
              "      <td>12</td>\n",
              "      <td>45.2</td>\n",
              "      <td>42</td>\n",
              "      <td>0.542</td>\n",
              "      <td>13.2</td>\n",
              "      <td>14</td>\n",
              "      <td>58</td>\n",
              "      <td>0.466</td>\n",
              "      <td>27</td>\n",
              "      <td>10</td>\n",
              "      <td>2019-01-17</td>\n",
              "      <td>57.5</td>\n",
              "      <td>15</td>\n",
              "      <td>3.4</td>\n",
              "      <td>3</td>\n",
              "      <td>102.5</td>\n",
              "      <td>85.7</td>\n",
              "      <td>36</td>\n",
              "      <td>0.473</td>\n",
              "      <td>87</td>\n",
              "      <td>0.448</td>\n",
              "      <td>39</td>\n",
              "      <td>0.217</td>\n",
              "      <td>12</td>\n",
              "      <td>0.833</td>\n",
              "      <td>10</td>\n",
              "      <td>26</td>\n",
              "      <td>240</td>\n",
              "      <td>103.5</td>\n",
              "      <td>29.4</td>\n",
              "      <td>6</td>\n",
              "      <td>16</td>\n",
              "      <td>101</td>\n",
              "      <td>9.2</td>\n",
              "      <td>6</td>\n",
              "      <td>0.293</td>\n",
              "      <td>29</td>\n",
              "      <td>0.414</td>\n",
              "      <td>12</td>\n",
              "      <td>54.8</td>\n",
              "      <td>42</td>\n",
              "      <td>0.501</td>\n",
              "      <td>11.4</td>\n",
              "      <td>14</td>\n",
              "      <td>58</td>\n",
              "      <td>0.466</td>\n",
              "      <td>27</td>\n",
              "      <td>19</td>\n",
              "      <td>The O2 Arena, London, United Kingdom</td>\n",
              "      <td>NYK</td>\n",
              "      <td>New York Knicks</td>\n",
              "      <td>97.5</td>\n",
              "      <td>Home</td>\n",
              "      <td>WAS</td>\n",
              "      <td>Washington Wizards</td>\n",
              "      <td>True</td>\n",
              "      <td>WAS</td>\n",
              "      <td>NYK</td>\n",
              "    </tr>\n",
              "  </tbody>\n",
              "</table>\n",
              "</div>"
            ],
            "text/plain": [
              "           gameID  away_assist_percentage  away_assists  \\\n",
              "669  201901170WAS                    38.5            15   \n",
              "\n",
              "     away_block_percentage  away_blocks  away_defensive_rating  \\\n",
              "669                    4.6            3                  103.5   \n",
              "\n",
              "     away_defensive_rebound_percentage  away_defensive_rebounds  \\\n",
              "669                               70.6                       36   \n",
              "\n",
              "     away_effective_field_goal_percentage  away_field_goal_attempts  \\\n",
              "669                                 0.517                        87   \n",
              "\n",
              "     away_field_goal_percentage  away_field_goals  \\\n",
              "669                       0.448                39   \n",
              "\n",
              "     away_free_throw_attempt_rate  away_free_throw_attempts  \\\n",
              "669                         0.138                        12   \n",
              "\n",
              "     away_free_throw_percentage  away_free_throws  away_losses  \\\n",
              "669                       0.833                10           34   \n",
              "\n",
              "     away_minutes_played  away_offensive_rating  \\\n",
              "669                  240                  102.5   \n",
              "\n",
              "     away_offensive_rebound_percentage  away_offensive_rebounds  \\\n",
              "669                               14.3                        6   \n",
              "\n",
              "     away_personal_fouls  away_points  away_steal_percentage  away_steals  \\\n",
              "669                   16          100                    6.2            6   \n",
              "\n",
              "     away_three_point_attempt_rate  away_three_point_field_goal_attempts  \\\n",
              "669                          0.333                                    29   \n",
              "\n",
              "     away_three_point_field_goal_percentage  away_three_point_field_goals  \\\n",
              "669                                   0.414                            12   \n",
              "\n",
              "     away_total_rebound_percentage  away_total_rebounds  \\\n",
              "669                           45.2                   42   \n",
              "\n",
              "     away_true_shooting_percentage  away_turnover_percentage  away_turnovers  \\\n",
              "669                          0.542                      13.2              14   \n",
              "\n",
              "     away_two_point_field_goal_attempts  away_two_point_field_goal_percentage  \\\n",
              "669                                  58                                 0.466   \n",
              "\n",
              "     away_two_point_field_goals  away_wins        date  \\\n",
              "669                          27         10  2019-01-17   \n",
              "\n",
              "     home_assist_percentage  home_assists  home_block_percentage  home_blocks  \\\n",
              "669                    57.5            15                    3.4            3   \n",
              "\n",
              "     home_defensive_rating  home_defensive_rebound_percentage  \\\n",
              "669                  102.5                               85.7   \n",
              "\n",
              "     home_defensive_rebounds  home_effective_field_goal_percentage  \\\n",
              "669                       36                                 0.473   \n",
              "\n",
              "     home_field_goal_attempts  home_field_goal_percentage  home_field_goals  \\\n",
              "669                        87                       0.448                39   \n",
              "\n",
              "     home_free_throw_attempt_rate  home_free_throw_attempts  \\\n",
              "669                         0.217                        12   \n",
              "\n",
              "     home_free_throw_percentage  home_free_throws  home_losses  \\\n",
              "669                       0.833                10           26   \n",
              "\n",
              "     home_minutes_played  home_offensive_rating  \\\n",
              "669                  240                  103.5   \n",
              "\n",
              "     home_offensive_rebound_percentage  home_offensive_rebounds  \\\n",
              "669                               29.4                        6   \n",
              "\n",
              "     home_personal_fouls  home_points  home_steal_percentage  home_steals  \\\n",
              "669                   16          101                    9.2            6   \n",
              "\n",
              "     home_three_point_attempt_rate  home_three_point_field_goal_attempts  \\\n",
              "669                          0.293                                    29   \n",
              "\n",
              "     home_three_point_field_goal_percentage  home_three_point_field_goals  \\\n",
              "669                                   0.414                            12   \n",
              "\n",
              "     home_total_rebound_percentage  home_total_rebounds  \\\n",
              "669                           54.8                   42   \n",
              "\n",
              "     home_true_shooting_percentage  home_turnover_percentage  home_turnovers  \\\n",
              "669                          0.501                      11.4              14   \n",
              "\n",
              "     home_two_point_field_goal_attempts  home_two_point_field_goal_percentage  \\\n",
              "669                                  58                                 0.466   \n",
              "\n",
              "     home_two_point_field_goals  home_wins  \\\n",
              "669                          27         19   \n",
              "\n",
              "                                 location losing_abbr      losing_name  pace  \\\n",
              "669  The O2 Arena, London, United Kingdom         NYK  New York Knicks  97.5   \n",
              "\n",
              "    winner winning_abbr        winning_name  homeWin homeTeam awayTeam  \n",
              "669   Home          WAS  Washington Wizards     True      WAS      NYK  "
            ]
          },
          "execution_count": 106,
          "metadata": {},
          "output_type": "execute_result"
        }
      ],
      "source": [
        "## find the game in nba df to determine home team\n",
        "nba2018.loc[nba2018['gameID']=='201901170WAS']"
      ]
    },
    {
      "cell_type": "code",
      "execution_count": 107,
      "metadata": {
        "colab": {
          "base_uri": "https://localhost:8080/",
          "height": 102
        },
        "colab_type": "code",
        "id": "lhScR8X8sxu_",
        "outputId": "053d729f-30a9-4a07-fe97-ab4912d5bc8b"
      },
      "outputs": [
        {
          "name": "stderr",
          "output_type": "stream",
          "text": [
            "C:\\Users\\Jason Huang\\AppData\\Local\\Temp\\ipykernel_24928\\2289941592.py:2: SettingWithCopyWarning: \n",
            "A value is trying to be set on a copy of a slice from a DataFrame\n",
            "\n",
            "See the caveats in the documentation: https://pandas.pydata.org/pandas-docs/stable/user_guide/indexing.html#returning-a-view-versus-a-copy\n",
            "  odds2018['VH'].iloc[[1329]] = 'H'\n",
            "C:\\Users\\Jason Huang\\AppData\\Local\\Temp\\ipykernel_24928\\2289941592.py:3: SettingWithCopyWarning: \n",
            "A value is trying to be set on a copy of a slice from a DataFrame\n",
            "\n",
            "See the caveats in the documentation: https://pandas.pydata.org/pandas-docs/stable/user_guide/indexing.html#returning-a-view-versus-a-copy\n",
            "  odds2018['VH'].iloc[[1328]] = 'V'\n"
          ]
        }
      ],
      "source": [
        "## change the value for home and away team\n",
        "odds2018['VH'].iloc[[1329]] = 'H'\n",
        "odds2018['VH'].iloc[[1328]] = 'V'"
      ]
    },
    {
      "cell_type": "code",
      "execution_count": 108,
      "metadata": {
        "colab": {
          "base_uri": "https://localhost:8080/",
          "height": 111
        },
        "colab_type": "code",
        "id": "s-JpM79HtGtc",
        "outputId": "831320b5-22df-416d-897e-fa9becfcd117"
      },
      "outputs": [
        {
          "data": {
            "text/html": [
              "<div>\n",
              "<style scoped>\n",
              "    .dataframe tbody tr th:only-of-type {\n",
              "        vertical-align: middle;\n",
              "    }\n",
              "\n",
              "    .dataframe tbody tr th {\n",
              "        vertical-align: top;\n",
              "    }\n",
              "\n",
              "    .dataframe thead th {\n",
              "        text-align: right;\n",
              "    }\n",
              "</style>\n",
              "<table border=\"1\" class=\"dataframe\">\n",
              "  <thead>\n",
              "    <tr style=\"text-align: right;\">\n",
              "      <th></th>\n",
              "      <th>Date</th>\n",
              "      <th>Rot</th>\n",
              "      <th>VH</th>\n",
              "      <th>Team</th>\n",
              "      <th>1st</th>\n",
              "      <th>2nd</th>\n",
              "      <th>3rd</th>\n",
              "      <th>4th</th>\n",
              "      <th>Final</th>\n",
              "      <th>Open</th>\n",
              "      <th>Close</th>\n",
              "      <th>ML</th>\n",
              "      <th>2H</th>\n",
              "    </tr>\n",
              "  </thead>\n",
              "  <tbody>\n",
              "    <tr>\n",
              "      <th>1328</th>\n",
              "      <td>117</td>\n",
              "      <td>541</td>\n",
              "      <td>V</td>\n",
              "      <td>NewYork</td>\n",
              "      <td>30</td>\n",
              "      <td>33</td>\n",
              "      <td>26</td>\n",
              "      <td>11</td>\n",
              "      <td>100</td>\n",
              "      <td>225</td>\n",
              "      <td>229</td>\n",
              "      <td>260</td>\n",
              "      <td>112.5</td>\n",
              "    </tr>\n",
              "    <tr>\n",
              "      <th>1329</th>\n",
              "      <td>117</td>\n",
              "      <td>542</td>\n",
              "      <td>H</td>\n",
              "      <td>Washington</td>\n",
              "      <td>20</td>\n",
              "      <td>33</td>\n",
              "      <td>24</td>\n",
              "      <td>24</td>\n",
              "      <td>101</td>\n",
              "      <td>7</td>\n",
              "      <td>7.5</td>\n",
              "      <td>-330</td>\n",
              "      <td>7.5</td>\n",
              "    </tr>\n",
              "  </tbody>\n",
              "</table>\n",
              "</div>"
            ],
            "text/plain": [
              "      Date  Rot VH        Team  1st  2nd  3rd  4th  Final Open Close   ML  \\\n",
              "1328   117  541  V     NewYork   30   33   26   11    100  225   229  260   \n",
              "1329   117  542  H  Washington   20   33   24   24    101    7   7.5 -330   \n",
              "\n",
              "         2H  \n",
              "1328  112.5  \n",
              "1329    7.5  "
            ]
          },
          "execution_count": 108,
          "metadata": {},
          "output_type": "execute_result"
        }
      ],
      "source": [
        "## check work\n",
        "odds2018.iloc[[1328,1329]]"
      ]
    },
    {
      "cell_type": "code",
      "execution_count": 109,
      "metadata": {
        "colab": {},
        "colab_type": "code",
        "id": "kzd8C0wSB9Es"
      },
      "outputs": [],
      "source": [
        "## convert to datetime object\n",
        "odds2017['date'] = odds2017['Date'].apply(lambda x: convert_to_datetime(x, 2018))\n",
        "odds2018['date'] = odds2018['Date'].apply(lambda x: convert_to_datetime(x, 2019))\n",
        "oddsCurrent['date'] = oddsCurrent['Date'].apply(lambda x: convert_to_datetime(x, 2020))"
      ]
    },
    {
      "cell_type": "code",
      "execution_count": 110,
      "metadata": {
        "colab": {},
        "colab_type": "code",
        "id": "925eQIDWwVQj"
      },
      "outputs": [],
      "source": [
        "## team name to team abbrev dict for mapping\n",
        "team_dict = {'Atlanta':'ATL', 'Boston':'BOS', 'Brooklyn':'BRK','Charlotte':'CHO','Chicago':'CHI','Cleveland':'CLE','Dallas':'DAL', 'Denver':'DEN','Detroit':'DET',\n",
        "             'GoldenState':'GSW', 'Houston':'HOU', 'Indiana':'IND','LAClippers':'LAC','LALakers':'LAL','Memphis':'MEM','Miami':'MIA','Milwaukee':'MIL','Minnesota':'MIN',\n",
        "             'NewOrleans':'NOP','NewYork':'NYK','OklahomaCity':'OKC','Orlando':'ORL','Philadelphia':'PHI','Phoenix':'PHO','Portland':'POR','Sacramento':'SAC',\n",
        "             'SanAntonio':'SAS','Toronto':'TOR','Utah':'UTA','Washington':'WAS'}\n",
        "## change team names to abbrevs\n",
        "odds2017['Team'] = odds2017['Team'].map(team_dict)\n",
        "odds2018['Team'] = odds2018['Team'].map(team_dict)\n",
        "oddsCurrent['Team'] = oddsCurrent['Team'].map(team_dict)"
      ]
    },
    {
      "cell_type": "code",
      "execution_count": 111,
      "metadata": {
        "colab": {},
        "colab_type": "code",
        "id": "slVfFTsdKftq"
      },
      "outputs": [],
      "source": [
        "## seperate into home and away and drop playoff games\n",
        "homeOdds2017 = odds2017.loc[odds2017['VH']=='H'].reset_index(drop=True)[:1230]\n",
        "awayOdds2017 = odds2017.loc[odds2017['VH']=='V'].reset_index(drop=True)[:1230]\n",
        "\n",
        "homeOdds2018 = odds2018.loc[odds2018['VH']=='H'].reset_index(drop=True)[:1230]\n",
        "awayOdds2018 = odds2018.loc[odds2018['VH']=='V'].reset_index(drop=True)[:1230]\n",
        "\n",
        "homeOddsCurrent = oddsCurrent.loc[oddsCurrent['VH']=='H'].reset_index(drop=True)\n",
        "awayOddsCurrent = oddsCurrent.loc[oddsCurrent['VH']=='V'].reset_index(drop=True)"
      ]
    },
    {
      "cell_type": "code",
      "execution_count": 112,
      "metadata": {
        "colab": {},
        "colab_type": "code",
        "id": "XHNgaiS1M8nL"
      },
      "outputs": [],
      "source": [
        "# rename home columns\n",
        "homeOdds2017 = homeOdds2017.rename(columns={'Team': 'homeTeam', 'ML': 'homeOdds'})\n",
        "homeOdds2018 = homeOdds2018.rename(columns={'Team': 'homeTeam', 'ML': 'homeOdds'})\n",
        "homeOddsCurrent = homeOddsCurrent.rename(columns={'Team': 'homeTeam', 'ML': 'homeOdds'})\n",
        "\n",
        "# rename away columns\n",
        "awayOdds2017 = awayOdds2017.rename(columns={'Team': 'awayTeam', 'ML': 'awayOdds'})\n",
        "awayOdds2018 = awayOdds2018.rename(columns={'Team': 'awayTeam', 'ML': 'awayOdds'})\n",
        "awayOddsCurrent = awayOddsCurrent.rename(columns={'Team': 'awayTeam', 'ML': 'awayOdds'})"
      ]
    },
    {
      "cell_type": "code",
      "execution_count": 113,
      "metadata": {
        "colab": {},
        "colab_type": "code",
        "id": "mkoTF7VM6YOf"
      },
      "outputs": [],
      "source": [
        "## create half of the combined df\n",
        "combinedOdds2017 = homeOdds2017[['date','homeTeam','homeOdds']]\n",
        "combinedOdds2018 = homeOdds2018[['date','homeTeam','homeOdds']]\n",
        "combinedOddsCurrent = homeOddsCurrent[['date','homeTeam','homeOdds']]"
      ]
    },
    {
      "cell_type": "code",
      "execution_count": 114,
      "metadata": {
        "colab": {
          "base_uri": "https://localhost:8080/",
          "height": 629
        },
        "colab_type": "code",
        "id": "fJF0AAmYOpLK",
        "outputId": "54091285-f847-47aa-8f5c-598717c7ab93"
      },
      "outputs": [
        {
          "name": "stderr",
          "output_type": "stream",
          "text": [
            "C:\\Users\\Jason Huang\\AppData\\Local\\Temp\\ipykernel_24928\\512092566.py:2: SettingWithCopyWarning: \n",
            "A value is trying to be set on a copy of a slice from a DataFrame.\n",
            "Try using .loc[row_indexer,col_indexer] = value instead\n",
            "\n",
            "See the caveats in the documentation: https://pandas.pydata.org/pandas-docs/stable/user_guide/indexing.html#returning-a-view-versus-a-copy\n",
            "  combinedOdds2017['awayOdds'] = awayOdds2017['awayOdds']\n",
            "C:\\Users\\Jason Huang\\AppData\\Local\\Temp\\ipykernel_24928\\512092566.py:3: SettingWithCopyWarning: \n",
            "A value is trying to be set on a copy of a slice from a DataFrame.\n",
            "Try using .loc[row_indexer,col_indexer] = value instead\n",
            "\n",
            "See the caveats in the documentation: https://pandas.pydata.org/pandas-docs/stable/user_guide/indexing.html#returning-a-view-versus-a-copy\n",
            "  combinedOdds2017['awayTeam'] = awayOdds2017['awayTeam']\n",
            "C:\\Users\\Jason Huang\\AppData\\Local\\Temp\\ipykernel_24928\\512092566.py:5: SettingWithCopyWarning: \n",
            "A value is trying to be set on a copy of a slice from a DataFrame.\n",
            "Try using .loc[row_indexer,col_indexer] = value instead\n",
            "\n",
            "See the caveats in the documentation: https://pandas.pydata.org/pandas-docs/stable/user_guide/indexing.html#returning-a-view-versus-a-copy\n",
            "  combinedOdds2018['awayOdds'] = awayOdds2018['awayOdds']\n",
            "C:\\Users\\Jason Huang\\AppData\\Local\\Temp\\ipykernel_24928\\512092566.py:6: SettingWithCopyWarning: \n",
            "A value is trying to be set on a copy of a slice from a DataFrame.\n",
            "Try using .loc[row_indexer,col_indexer] = value instead\n",
            "\n",
            "See the caveats in the documentation: https://pandas.pydata.org/pandas-docs/stable/user_guide/indexing.html#returning-a-view-versus-a-copy\n",
            "  combinedOdds2018['awayTeam'] = awayOdds2018['awayTeam']\n",
            "C:\\Users\\Jason Huang\\AppData\\Local\\Temp\\ipykernel_24928\\512092566.py:8: SettingWithCopyWarning: \n",
            "A value is trying to be set on a copy of a slice from a DataFrame.\n",
            "Try using .loc[row_indexer,col_indexer] = value instead\n",
            "\n",
            "See the caveats in the documentation: https://pandas.pydata.org/pandas-docs/stable/user_guide/indexing.html#returning-a-view-versus-a-copy\n",
            "  combinedOddsCurrent['awayOdds'] = awayOddsCurrent['awayOdds']\n",
            "C:\\Users\\Jason Huang\\AppData\\Local\\Temp\\ipykernel_24928\\512092566.py:9: SettingWithCopyWarning: \n",
            "A value is trying to be set on a copy of a slice from a DataFrame.\n",
            "Try using .loc[row_indexer,col_indexer] = value instead\n",
            "\n",
            "See the caveats in the documentation: https://pandas.pydata.org/pandas-docs/stable/user_guide/indexing.html#returning-a-view-versus-a-copy\n",
            "  combinedOddsCurrent['awayTeam'] = awayOddsCurrent['awayTeam']\n"
          ]
        }
      ],
      "source": [
        "## add in away columns\n",
        "combinedOdds2017['awayOdds'] = awayOdds2017['awayOdds']\n",
        "combinedOdds2017['awayTeam'] = awayOdds2017['awayTeam']\n",
        "\n",
        "combinedOdds2018['awayOdds'] = awayOdds2018['awayOdds']\n",
        "combinedOdds2018['awayTeam'] = awayOdds2018['awayTeam']\n",
        "\n",
        "combinedOddsCurrent['awayOdds'] = awayOddsCurrent['awayOdds']\n",
        "combinedOddsCurrent['awayTeam'] = awayOddsCurrent['awayTeam']"
      ]
    },
    {
      "cell_type": "code",
      "execution_count": 115,
      "metadata": {
        "colab": {},
        "colab_type": "code",
        "id": "VzkoyLYDxbU4"
      },
      "outputs": [],
      "source": [
        "## sort odds df to line both dfs up\n",
        "sortedOdds2017 = combinedOdds2017.sort_values(by=['date','homeTeam'])\n",
        "\n",
        "sortedOdds2018 = combinedOdds2018.sort_values(by=['date','homeTeam'])\n",
        "\n",
        "sortedOddsCurrent = combinedOddsCurrent.sort_values(by=['date','homeTeam'])"
      ]
    },
    {
      "cell_type": "code",
      "execution_count": 116,
      "metadata": {
        "colab": {},
        "colab_type": "code",
        "id": "7OyNBGQGyQEh"
      },
      "outputs": [],
      "source": [
        "## sort nba df\n",
        "sortedNba2017 = nba2017.sort_values(by=['date','homeTeam'])\n",
        "sortedNba2018 = nba2018.sort_values(by=['date','homeTeam'])\n",
        "sortedNbaCurrent = nbaCurrent.sort_values(by=['date','homeTeam'])"
      ]
    },
    {
      "cell_type": "markdown",
      "metadata": {
        "colab_type": "text",
        "id": "4KlwHes2MYtc"
      },
      "source": [
        "We have more recent data for the current NBA results right now than for the odds, so I'll drop the extra to give them the same shape."
      ]
    },
    {
      "cell_type": "code",
      "execution_count": 117,
      "metadata": {
        "colab": {
          "base_uri": "https://localhost:8080/",
          "height": 34
        },
        "colab_type": "code",
        "id": "s34rroBDL-R4",
        "outputId": "df41b14c-c7de-4209-b61c-ce92a1fae793"
      },
      "outputs": [
        {
          "data": {
            "text/plain": [
              "(805, 86)"
            ]
          },
          "execution_count": 117,
          "metadata": {},
          "output_type": "execute_result"
        }
      ],
      "source": [
        "sortedNbaCurrent.shape"
      ]
    },
    {
      "cell_type": "code",
      "execution_count": 118,
      "metadata": {
        "colab": {
          "base_uri": "https://localhost:8080/",
          "height": 34
        },
        "colab_type": "code",
        "id": "hGrXH_s_P08b",
        "outputId": "11b71f0c-cd19-4444-896a-32a4ed2ec181"
      },
      "outputs": [
        {
          "data": {
            "text/plain": [
              "(692, 5)"
            ]
          },
          "execution_count": 118,
          "metadata": {},
          "output_type": "execute_result"
        }
      ],
      "source": [
        "sortedOddsCurrent.shape"
      ]
    },
    {
      "cell_type": "code",
      "execution_count": 119,
      "metadata": {
        "colab": {},
        "colab_type": "code",
        "id": "Q0xXpvk8MImk"
      },
      "outputs": [],
      "source": [
        "sortedNbaCurrent = sortedNbaCurrent[:692]"
      ]
    },
    {
      "cell_type": "code",
      "execution_count": 120,
      "metadata": {
        "colab": {
          "base_uri": "https://localhost:8080/",
          "height": 34
        },
        "colab_type": "code",
        "id": "Dw2_IjkWMV1e",
        "outputId": "4a4da379-472e-4d63-fac6-a443aa5dbfb9"
      },
      "outputs": [
        {
          "data": {
            "text/plain": [
              "(692, 86)"
            ]
          },
          "execution_count": 120,
          "metadata": {},
          "output_type": "execute_result"
        }
      ],
      "source": [
        "sortedNbaCurrent.shape"
      ]
    },
    {
      "cell_type": "code",
      "execution_count": 121,
      "metadata": {
        "colab": {
          "base_uri": "https://localhost:8080/",
          "height": 359
        },
        "colab_type": "code",
        "id": "9sGlEUgwF24f",
        "outputId": "98825838-7bfc-40f8-eab9-f942b59e5bd0"
      },
      "outputs": [
        {
          "data": {
            "text/html": [
              "<div>\n",
              "<style scoped>\n",
              "    .dataframe tbody tr th:only-of-type {\n",
              "        vertical-align: middle;\n",
              "    }\n",
              "\n",
              "    .dataframe tbody tr th {\n",
              "        vertical-align: top;\n",
              "    }\n",
              "\n",
              "    .dataframe thead th {\n",
              "        text-align: right;\n",
              "    }\n",
              "</style>\n",
              "<table border=\"1\" class=\"dataframe\">\n",
              "  <thead>\n",
              "    <tr style=\"text-align: right;\">\n",
              "      <th></th>\n",
              "      <th>date</th>\n",
              "      <th>homeTeam</th>\n",
              "      <th>homeOdds</th>\n",
              "      <th>awayOdds</th>\n",
              "      <th>awayTeam</th>\n",
              "    </tr>\n",
              "  </thead>\n",
              "  <tbody>\n",
              "    <tr>\n",
              "      <th>683</th>\n",
              "      <td>2020-01-25</td>\n",
              "      <td>PHI</td>\n",
              "      <td>185</td>\n",
              "      <td>-230</td>\n",
              "      <td>LAL</td>\n",
              "    </tr>\n",
              "    <tr>\n",
              "      <th>679</th>\n",
              "      <td>2020-01-25</td>\n",
              "      <td>UTA</td>\n",
              "      <td>-210</td>\n",
              "      <td>175</td>\n",
              "      <td>DAL</td>\n",
              "    </tr>\n",
              "    <tr>\n",
              "      <th>690</th>\n",
              "      <td>2020-01-26</td>\n",
              "      <td>ATL</td>\n",
              "      <td>-115</td>\n",
              "      <td>-105</td>\n",
              "      <td>WAS</td>\n",
              "    </tr>\n",
              "    <tr>\n",
              "      <th>684</th>\n",
              "      <td>2020-01-26</td>\n",
              "      <td>DEN</td>\n",
              "      <td>-140</td>\n",
              "      <td>120</td>\n",
              "      <td>HOU</td>\n",
              "    </tr>\n",
              "    <tr>\n",
              "      <th>687</th>\n",
              "      <td>2020-01-26</td>\n",
              "      <td>MEM</td>\n",
              "      <td>-135</td>\n",
              "      <td>115</td>\n",
              "      <td>PHO</td>\n",
              "    </tr>\n",
              "    <tr>\n",
              "      <th>686</th>\n",
              "      <td>2020-01-26</td>\n",
              "      <td>NOP</td>\n",
              "      <td>-125</td>\n",
              "      <td>105</td>\n",
              "      <td>BOS</td>\n",
              "    </tr>\n",
              "    <tr>\n",
              "      <th>689</th>\n",
              "      <td>2020-01-26</td>\n",
              "      <td>NYK</td>\n",
              "      <td>-140</td>\n",
              "      <td>120</td>\n",
              "      <td>BRK</td>\n",
              "    </tr>\n",
              "    <tr>\n",
              "      <th>688</th>\n",
              "      <td>2020-01-26</td>\n",
              "      <td>ORL</td>\n",
              "      <td>135</td>\n",
              "      <td>-155</td>\n",
              "      <td>LAC</td>\n",
              "    </tr>\n",
              "    <tr>\n",
              "      <th>691</th>\n",
              "      <td>2020-01-26</td>\n",
              "      <td>POR</td>\n",
              "      <td>-150</td>\n",
              "      <td>130</td>\n",
              "      <td>IND</td>\n",
              "    </tr>\n",
              "    <tr>\n",
              "      <th>685</th>\n",
              "      <td>2020-01-26</td>\n",
              "      <td>SAS</td>\n",
              "      <td>145</td>\n",
              "      <td>-170</td>\n",
              "      <td>TOR</td>\n",
              "    </tr>\n",
              "  </tbody>\n",
              "</table>\n",
              "</div>"
            ],
            "text/plain": [
              "           date homeTeam  homeOdds  awayOdds awayTeam\n",
              "683  2020-01-25      PHI       185      -230      LAL\n",
              "679  2020-01-25      UTA      -210       175      DAL\n",
              "690  2020-01-26      ATL      -115      -105      WAS\n",
              "684  2020-01-26      DEN      -140       120      HOU\n",
              "687  2020-01-26      MEM      -135       115      PHO\n",
              "686  2020-01-26      NOP      -125       105      BOS\n",
              "689  2020-01-26      NYK      -140       120      BRK\n",
              "688  2020-01-26      ORL       135      -155      LAC\n",
              "691  2020-01-26      POR      -150       130      IND\n",
              "685  2020-01-26      SAS       145      -170      TOR"
            ]
          },
          "execution_count": 121,
          "metadata": {},
          "output_type": "execute_result"
        }
      ],
      "source": [
        "sortedOddsCurrent.tail(10)"
      ]
    },
    {
      "cell_type": "code",
      "execution_count": 122,
      "metadata": {
        "colab": {
          "base_uri": "https://localhost:8080/",
          "height": 359
        },
        "colab_type": "code",
        "id": "PfYgW1TdGvMO",
        "outputId": "1eb96752-51a1-4488-c75f-75188889cd78"
      },
      "outputs": [
        {
          "data": {
            "text/html": [
              "<div>\n",
              "<style scoped>\n",
              "    .dataframe tbody tr th:only-of-type {\n",
              "        vertical-align: middle;\n",
              "    }\n",
              "\n",
              "    .dataframe tbody tr th {\n",
              "        vertical-align: top;\n",
              "    }\n",
              "\n",
              "    .dataframe thead th {\n",
              "        text-align: right;\n",
              "    }\n",
              "</style>\n",
              "<table border=\"1\" class=\"dataframe\">\n",
              "  <thead>\n",
              "    <tr style=\"text-align: right;\">\n",
              "      <th></th>\n",
              "      <th>date</th>\n",
              "      <th>homeTeam</th>\n",
              "      <th>awayTeam</th>\n",
              "    </tr>\n",
              "  </thead>\n",
              "  <tbody>\n",
              "    <tr>\n",
              "      <th>682</th>\n",
              "      <td>2020-01-25</td>\n",
              "      <td>PHI</td>\n",
              "      <td>LAL</td>\n",
              "    </tr>\n",
              "    <tr>\n",
              "      <th>683</th>\n",
              "      <td>2020-01-25</td>\n",
              "      <td>UTA</td>\n",
              "      <td>DAL</td>\n",
              "    </tr>\n",
              "    <tr>\n",
              "      <th>684</th>\n",
              "      <td>2020-01-26</td>\n",
              "      <td>ATL</td>\n",
              "      <td>WAS</td>\n",
              "    </tr>\n",
              "    <tr>\n",
              "      <th>685</th>\n",
              "      <td>2020-01-26</td>\n",
              "      <td>DEN</td>\n",
              "      <td>HOU</td>\n",
              "    </tr>\n",
              "    <tr>\n",
              "      <th>686</th>\n",
              "      <td>2020-01-26</td>\n",
              "      <td>MEM</td>\n",
              "      <td>PHO</td>\n",
              "    </tr>\n",
              "    <tr>\n",
              "      <th>687</th>\n",
              "      <td>2020-01-26</td>\n",
              "      <td>NOP</td>\n",
              "      <td>BOS</td>\n",
              "    </tr>\n",
              "    <tr>\n",
              "      <th>688</th>\n",
              "      <td>2020-01-26</td>\n",
              "      <td>NYK</td>\n",
              "      <td>BRK</td>\n",
              "    </tr>\n",
              "    <tr>\n",
              "      <th>689</th>\n",
              "      <td>2020-01-26</td>\n",
              "      <td>ORL</td>\n",
              "      <td>LAC</td>\n",
              "    </tr>\n",
              "    <tr>\n",
              "      <th>690</th>\n",
              "      <td>2020-01-26</td>\n",
              "      <td>POR</td>\n",
              "      <td>IND</td>\n",
              "    </tr>\n",
              "    <tr>\n",
              "      <th>691</th>\n",
              "      <td>2020-01-26</td>\n",
              "      <td>SAS</td>\n",
              "      <td>TOR</td>\n",
              "    </tr>\n",
              "  </tbody>\n",
              "</table>\n",
              "</div>"
            ],
            "text/plain": [
              "           date homeTeam awayTeam\n",
              "682  2020-01-25      PHI      LAL\n",
              "683  2020-01-25      UTA      DAL\n",
              "684  2020-01-26      ATL      WAS\n",
              "685  2020-01-26      DEN      HOU\n",
              "686  2020-01-26      MEM      PHO\n",
              "687  2020-01-26      NOP      BOS\n",
              "688  2020-01-26      NYK      BRK\n",
              "689  2020-01-26      ORL      LAC\n",
              "690  2020-01-26      POR      IND\n",
              "691  2020-01-26      SAS      TOR"
            ]
          },
          "execution_count": 122,
          "metadata": {},
          "output_type": "execute_result"
        }
      ],
      "source": [
        "sortedNbaCurrent[['date','homeTeam','awayTeam']].tail(10)"
      ]
    },
    {
      "cell_type": "markdown",
      "metadata": {
        "colab_type": "text",
        "id": "lRvUeokhzSKW"
      },
      "source": [
        "##### Now that the two dfs have the exact same shape and format, it's time to tack on the money line column."
      ]
    },
    {
      "cell_type": "code",
      "execution_count": 123,
      "metadata": {
        "colab": {},
        "colab_type": "code",
        "id": "GuIdUo_G1aX4"
      },
      "outputs": [],
      "source": [
        "## add home and away money line column\n",
        "sortedNba2017['homeOdds'] = sortedOdds2017['homeOdds']\n",
        "sortedNba2017['awayOdds'] = sortedOdds2017['awayOdds']\n",
        "\n",
        "sortedNba2018['homeOdds'] = sortedOdds2018['homeOdds']\n",
        "sortedNba2018['awayOdds'] = sortedOdds2018['awayOdds']\n",
        "\n",
        "sortedNbaCurrent['homeOdds'] = sortedOddsCurrent['homeOdds']\n",
        "sortedNbaCurrent['awayOdds'] = sortedOddsCurrent['awayOdds']"
      ]
    },
    {
      "cell_type": "code",
      "execution_count": 124,
      "metadata": {
        "colab": {
          "base_uri": "https://localhost:8080/",
          "height": 359
        },
        "colab_type": "code",
        "id": "kTGohEdycXjO",
        "outputId": "8c0bb826-8d63-4bd4-a31b-3d7a03c63bc1"
      },
      "outputs": [
        {
          "data": {
            "text/html": [
              "<div>\n",
              "<style scoped>\n",
              "    .dataframe tbody tr th:only-of-type {\n",
              "        vertical-align: middle;\n",
              "    }\n",
              "\n",
              "    .dataframe tbody tr th {\n",
              "        vertical-align: top;\n",
              "    }\n",
              "\n",
              "    .dataframe thead th {\n",
              "        text-align: right;\n",
              "    }\n",
              "</style>\n",
              "<table border=\"1\" class=\"dataframe\">\n",
              "  <thead>\n",
              "    <tr style=\"text-align: right;\">\n",
              "      <th></th>\n",
              "      <th>date</th>\n",
              "      <th>homeTeam</th>\n",
              "      <th>awayTeam</th>\n",
              "      <th>homeOdds</th>\n",
              "      <th>awayOdds</th>\n",
              "    </tr>\n",
              "  </thead>\n",
              "  <tbody>\n",
              "    <tr>\n",
              "      <th>682</th>\n",
              "      <td>2020-01-25</td>\n",
              "      <td>PHI</td>\n",
              "      <td>LAL</td>\n",
              "      <td>-125</td>\n",
              "      <td>105</td>\n",
              "    </tr>\n",
              "    <tr>\n",
              "      <th>683</th>\n",
              "      <td>2020-01-25</td>\n",
              "      <td>UTA</td>\n",
              "      <td>DAL</td>\n",
              "      <td>185</td>\n",
              "      <td>-230</td>\n",
              "    </tr>\n",
              "    <tr>\n",
              "      <th>684</th>\n",
              "      <td>2020-01-26</td>\n",
              "      <td>ATL</td>\n",
              "      <td>WAS</td>\n",
              "      <td>-140</td>\n",
              "      <td>120</td>\n",
              "    </tr>\n",
              "    <tr>\n",
              "      <th>685</th>\n",
              "      <td>2020-01-26</td>\n",
              "      <td>DEN</td>\n",
              "      <td>HOU</td>\n",
              "      <td>145</td>\n",
              "      <td>-170</td>\n",
              "    </tr>\n",
              "    <tr>\n",
              "      <th>686</th>\n",
              "      <td>2020-01-26</td>\n",
              "      <td>MEM</td>\n",
              "      <td>PHO</td>\n",
              "      <td>-125</td>\n",
              "      <td>105</td>\n",
              "    </tr>\n",
              "    <tr>\n",
              "      <th>687</th>\n",
              "      <td>2020-01-26</td>\n",
              "      <td>NOP</td>\n",
              "      <td>BOS</td>\n",
              "      <td>-135</td>\n",
              "      <td>115</td>\n",
              "    </tr>\n",
              "    <tr>\n",
              "      <th>688</th>\n",
              "      <td>2020-01-26</td>\n",
              "      <td>NYK</td>\n",
              "      <td>BRK</td>\n",
              "      <td>135</td>\n",
              "      <td>-155</td>\n",
              "    </tr>\n",
              "    <tr>\n",
              "      <th>689</th>\n",
              "      <td>2020-01-26</td>\n",
              "      <td>ORL</td>\n",
              "      <td>LAC</td>\n",
              "      <td>-140</td>\n",
              "      <td>120</td>\n",
              "    </tr>\n",
              "    <tr>\n",
              "      <th>690</th>\n",
              "      <td>2020-01-26</td>\n",
              "      <td>POR</td>\n",
              "      <td>IND</td>\n",
              "      <td>-115</td>\n",
              "      <td>-105</td>\n",
              "    </tr>\n",
              "    <tr>\n",
              "      <th>691</th>\n",
              "      <td>2020-01-26</td>\n",
              "      <td>SAS</td>\n",
              "      <td>TOR</td>\n",
              "      <td>-150</td>\n",
              "      <td>130</td>\n",
              "    </tr>\n",
              "  </tbody>\n",
              "</table>\n",
              "</div>"
            ],
            "text/plain": [
              "           date homeTeam awayTeam  homeOdds  awayOdds\n",
              "682  2020-01-25      PHI      LAL      -125       105\n",
              "683  2020-01-25      UTA      DAL       185      -230\n",
              "684  2020-01-26      ATL      WAS      -140       120\n",
              "685  2020-01-26      DEN      HOU       145      -170\n",
              "686  2020-01-26      MEM      PHO      -125       105\n",
              "687  2020-01-26      NOP      BOS      -135       115\n",
              "688  2020-01-26      NYK      BRK       135      -155\n",
              "689  2020-01-26      ORL      LAC      -140       120\n",
              "690  2020-01-26      POR      IND      -115      -105\n",
              "691  2020-01-26      SAS      TOR      -150       130"
            ]
          },
          "execution_count": 124,
          "metadata": {},
          "output_type": "execute_result"
        }
      ],
      "source": [
        "sortedNbaCurrent[['date','homeTeam','awayTeam','homeOdds','awayOdds']].tail(10)"
      ]
    },
    {
      "cell_type": "markdown",
      "metadata": {
        "colab_type": "text",
        "id": "lZhfFgiu2r9F"
      },
      "source": [
        "## Transform the Data\n",
        "Currently, each row represents a box score of a completed game. Since we obviously don't have access to that information when predicting, each statistical feature will become the rolling average of the previous X games. I kept the two seasons' dfs seperate so that performance from the previous season wasn't included. The first X games of each season are dropped since there isn't enough information.\n",
        "\n",
        "After testing 1-7 games, 3 has been performing the best. 2-4 all performed similarly but more than that was a clear drop in performance. \n",
        "\n",
        "Another note: the rolling average is from the previous X home or away games for that team. This accounts for teams' road vs away performance but could lose some performance where a team is playing their first home game after many road games and vice versa."
      ]
    },
    {
      "cell_type": "code",
      "execution_count": 125,
      "metadata": {
        "colab": {
          "base_uri": "https://localhost:8080/",
          "height": 102
        },
        "colab_type": "code",
        "id": "90zkHx8e2Bj-",
        "outputId": "4f622e90-7e4c-4b49-8052-a90aec8136a9"
      },
      "outputs": [
        {
          "name": "stderr",
          "output_type": "stream",
          "text": [
            "C:\\Users\\Jason Huang\\AppData\\Local\\Temp\\ipykernel_24928\\261196598.py:5: SettingWithCopyWarning: \n",
            "A value is trying to be set on a copy of a slice from a DataFrame\n",
            "\n",
            "See the caveats in the documentation: https://pandas.pydata.org/pandas-docs/stable/user_guide/indexing.html#returning-a-view-versus-a-copy\n",
            "  df[col].loc[df['homeTeam']==team] = df[col].loc[df['homeTeam']==team].shift(1).rolling(num_games, min_periods=3).mean()\n",
            "C:\\Users\\Jason Huang\\AppData\\Local\\Temp\\ipykernel_24928\\261196598.py:8: SettingWithCopyWarning: \n",
            "A value is trying to be set on a copy of a slice from a DataFrame\n",
            "\n",
            "See the caveats in the documentation: https://pandas.pydata.org/pandas-docs/stable/user_guide/indexing.html#returning-a-view-versus-a-copy\n",
            "  df[col].loc[df['awayTeam']==team] = df[col].loc[df['awayTeam']==team].shift(1).rolling(num_games, min_periods=3).mean()\n"
          ]
        }
      ],
      "source": [
        "## apply our transformation\n",
        "avg2017 = avg_previous_num_games(sortedNba2017, 3)\n",
        "avg2018 = avg_previous_num_games(sortedNba2018, 3)\n",
        "nba_test = avg_previous_num_games(sortedNbaCurrent, 3)"
      ]
    },
    {
      "cell_type": "code",
      "execution_count": 126,
      "metadata": {
        "colab": {
          "base_uri": "https://localhost:8080/",
          "height": 34
        },
        "colab_type": "code",
        "id": "AcIrn5ExUnla",
        "outputId": "b74b2c2e-a637-4994-a99b-cb4adf2eb74b"
      },
      "outputs": [
        {
          "data": {
            "text/plain": [
              "(590, 88)"
            ]
          },
          "execution_count": 126,
          "metadata": {},
          "output_type": "execute_result"
        }
      ],
      "source": [
        "nba_test.shape"
      ]
    },
    {
      "cell_type": "code",
      "execution_count": 127,
      "metadata": {
        "colab": {},
        "colab_type": "code",
        "id": "Z1UqIMK0hixu"
      },
      "outputs": [],
      "source": [
        "nba_test.reset_index(drop=True, inplace=True)"
      ]
    },
    {
      "cell_type": "code",
      "execution_count": 128,
      "metadata": {
        "colab": {},
        "colab_type": "code",
        "id": "Uq6NbmEt5NeB"
      },
      "outputs": [],
      "source": [
        "## combine the two dfs\n",
        "nba_final = pd.concat([avg2017, avg2018])"
      ]
    },
    {
      "cell_type": "code",
      "execution_count": 129,
      "metadata": {
        "colab": {
          "base_uri": "https://localhost:8080/",
          "height": 34
        },
        "colab_type": "code",
        "id": "aVA6IBWqacab",
        "outputId": "b1b8e175-4453-412a-b2e4-2e9fdf437102"
      },
      "outputs": [
        {
          "data": {
            "text/plain": [
              "(2251, 88)"
            ]
          },
          "execution_count": 129,
          "metadata": {},
          "output_type": "execute_result"
        }
      ],
      "source": [
        "nba_final.shape"
      ]
    },
    {
      "cell_type": "code",
      "execution_count": 130,
      "metadata": {},
      "outputs": [
        {
          "data": {
            "text/html": [
              "<div>\n",
              "<style scoped>\n",
              "    .dataframe tbody tr th:only-of-type {\n",
              "        vertical-align: middle;\n",
              "    }\n",
              "\n",
              "    .dataframe tbody tr th {\n",
              "        vertical-align: top;\n",
              "    }\n",
              "\n",
              "    .dataframe thead th {\n",
              "        text-align: right;\n",
              "    }\n",
              "</style>\n",
              "<table border=\"1\" class=\"dataframe\">\n",
              "  <thead>\n",
              "    <tr style=\"text-align: right;\">\n",
              "      <th></th>\n",
              "      <th>gameID</th>\n",
              "      <th>away_assist_percentage</th>\n",
              "      <th>away_assists</th>\n",
              "      <th>away_block_percentage</th>\n",
              "      <th>away_blocks</th>\n",
              "      <th>away_defensive_rating</th>\n",
              "      <th>away_defensive_rebound_percentage</th>\n",
              "      <th>away_defensive_rebounds</th>\n",
              "      <th>away_effective_field_goal_percentage</th>\n",
              "      <th>away_field_goal_attempts</th>\n",
              "      <th>away_field_goal_percentage</th>\n",
              "      <th>away_field_goals</th>\n",
              "      <th>away_free_throw_attempt_rate</th>\n",
              "      <th>away_free_throw_attempts</th>\n",
              "      <th>away_free_throw_percentage</th>\n",
              "      <th>away_free_throws</th>\n",
              "      <th>away_losses</th>\n",
              "      <th>away_minutes_played</th>\n",
              "      <th>away_offensive_rating</th>\n",
              "      <th>away_offensive_rebound_percentage</th>\n",
              "      <th>away_offensive_rebounds</th>\n",
              "      <th>away_personal_fouls</th>\n",
              "      <th>away_points</th>\n",
              "      <th>away_steal_percentage</th>\n",
              "      <th>away_steals</th>\n",
              "      <th>away_three_point_attempt_rate</th>\n",
              "      <th>away_three_point_field_goal_attempts</th>\n",
              "      <th>away_three_point_field_goal_percentage</th>\n",
              "      <th>away_three_point_field_goals</th>\n",
              "      <th>away_total_rebound_percentage</th>\n",
              "      <th>away_total_rebounds</th>\n",
              "      <th>away_true_shooting_percentage</th>\n",
              "      <th>away_turnover_percentage</th>\n",
              "      <th>away_turnovers</th>\n",
              "      <th>away_two_point_field_goal_attempts</th>\n",
              "      <th>away_two_point_field_goal_percentage</th>\n",
              "      <th>away_two_point_field_goals</th>\n",
              "      <th>away_wins</th>\n",
              "      <th>date</th>\n",
              "      <th>home_assist_percentage</th>\n",
              "      <th>home_assists</th>\n",
              "      <th>home_block_percentage</th>\n",
              "      <th>home_blocks</th>\n",
              "      <th>home_defensive_rating</th>\n",
              "      <th>home_defensive_rebound_percentage</th>\n",
              "      <th>home_defensive_rebounds</th>\n",
              "      <th>home_effective_field_goal_percentage</th>\n",
              "      <th>home_field_goal_attempts</th>\n",
              "      <th>home_field_goal_percentage</th>\n",
              "      <th>home_field_goals</th>\n",
              "      <th>home_free_throw_attempt_rate</th>\n",
              "      <th>home_free_throw_attempts</th>\n",
              "      <th>home_free_throw_percentage</th>\n",
              "      <th>home_free_throws</th>\n",
              "      <th>home_losses</th>\n",
              "      <th>home_minutes_played</th>\n",
              "      <th>home_offensive_rating</th>\n",
              "      <th>home_offensive_rebound_percentage</th>\n",
              "      <th>home_offensive_rebounds</th>\n",
              "      <th>home_personal_fouls</th>\n",
              "      <th>home_points</th>\n",
              "      <th>home_steal_percentage</th>\n",
              "      <th>home_steals</th>\n",
              "      <th>home_three_point_attempt_rate</th>\n",
              "      <th>home_three_point_field_goal_attempts</th>\n",
              "      <th>home_three_point_field_goal_percentage</th>\n",
              "      <th>home_three_point_field_goals</th>\n",
              "      <th>home_total_rebound_percentage</th>\n",
              "      <th>home_total_rebounds</th>\n",
              "      <th>home_true_shooting_percentage</th>\n",
              "      <th>home_turnover_percentage</th>\n",
              "      <th>home_turnovers</th>\n",
              "      <th>home_two_point_field_goal_attempts</th>\n",
              "      <th>home_two_point_field_goal_percentage</th>\n",
              "      <th>home_two_point_field_goals</th>\n",
              "      <th>home_wins</th>\n",
              "      <th>location</th>\n",
              "      <th>losing_abbr</th>\n",
              "      <th>losing_name</th>\n",
              "      <th>pace</th>\n",
              "      <th>winner</th>\n",
              "      <th>winning_abbr</th>\n",
              "      <th>winning_name</th>\n",
              "      <th>homeWin</th>\n",
              "      <th>homeTeam</th>\n",
              "      <th>awayTeam</th>\n",
              "      <th>homeOdds</th>\n",
              "      <th>awayOdds</th>\n",
              "    </tr>\n",
              "  </thead>\n",
              "  <tbody>\n",
              "    <tr>\n",
              "      <th>77</th>\n",
              "      <td>201710280DAL</td>\n",
              "      <td>61.933333</td>\n",
              "      <td>22.666667</td>\n",
              "      <td>5.633333</td>\n",
              "      <td>3.333333</td>\n",
              "      <td>107.733333</td>\n",
              "      <td>77.433333</td>\n",
              "      <td>37.000000</td>\n",
              "      <td>0.503000</td>\n",
              "      <td>83.333333</td>\n",
              "      <td>0.439667</td>\n",
              "      <td>36.666667</td>\n",
              "      <td>0.321000</td>\n",
              "      <td>26.333333</td>\n",
              "      <td>0.699333</td>\n",
              "      <td>18.000000</td>\n",
              "      <td>0</td>\n",
              "      <td>240.0</td>\n",
              "      <td>99.366667</td>\n",
              "      <td>20.066667</td>\n",
              "      <td>9.000000</td>\n",
              "      <td>26.000000</td>\n",
              "      <td>102.000000</td>\n",
              "      <td>7.300000</td>\n",
              "      <td>7.333333</td>\n",
              "      <td>0.329667</td>\n",
              "      <td>27.666667</td>\n",
              "      <td>0.379000</td>\n",
              "      <td>10.666667</td>\n",
              "      <td>49.433333</td>\n",
              "      <td>46.000000</td>\n",
              "      <td>0.538000</td>\n",
              "      <td>17.033333</td>\n",
              "      <td>19.333333</td>\n",
              "      <td>55.666667</td>\n",
              "      <td>0.469000</td>\n",
              "      <td>26.000000</td>\n",
              "      <td>0</td>\n",
              "      <td>2017-10-28</td>\n",
              "      <td>57.400000</td>\n",
              "      <td>22.333333</td>\n",
              "      <td>6.900000</td>\n",
              "      <td>4.333333</td>\n",
              "      <td>112.566667</td>\n",
              "      <td>73.966667</td>\n",
              "      <td>37.000000</td>\n",
              "      <td>0.497000</td>\n",
              "      <td>81.666667</td>\n",
              "      <td>0.480333</td>\n",
              "      <td>39.333333</td>\n",
              "      <td>0.328333</td>\n",
              "      <td>21.000000</td>\n",
              "      <td>0.735000</td>\n",
              "      <td>15.666667</td>\n",
              "      <td>6</td>\n",
              "      <td>240.0</td>\n",
              "      <td>104.200000</td>\n",
              "      <td>17.433333</td>\n",
              "      <td>10.666667</td>\n",
              "      <td>21.000000</td>\n",
              "      <td>98.000000</td>\n",
              "      <td>8.766667</td>\n",
              "      <td>7.000000</td>\n",
              "      <td>0.364333</td>\n",
              "      <td>31.000000</td>\n",
              "      <td>0.402333</td>\n",
              "      <td>12.333333</td>\n",
              "      <td>44.566667</td>\n",
              "      <td>47.666667</td>\n",
              "      <td>0.529333</td>\n",
              "      <td>11.233333</td>\n",
              "      <td>15.666667</td>\n",
              "      <td>50.666667</td>\n",
              "      <td>0.545333</td>\n",
              "      <td>27.000000</td>\n",
              "      <td>1</td>\n",
              "      <td>American Airlines Center, Dallas, Texas</td>\n",
              "      <td>DAL</td>\n",
              "      <td>Dallas Mavericks</td>\n",
              "      <td>94.1</td>\n",
              "      <td>Away</td>\n",
              "      <td>PHI</td>\n",
              "      <td>Philadelphia 76ers</td>\n",
              "      <td>False</td>\n",
              "      <td>DAL</td>\n",
              "      <td>PHI</td>\n",
              "      <td>-135</td>\n",
              "      <td>115</td>\n",
              "    </tr>\n",
              "    <tr>\n",
              "      <th>79</th>\n",
              "      <td>201710280MEM</td>\n",
              "      <td>58.000000</td>\n",
              "      <td>20.666667</td>\n",
              "      <td>12.033333</td>\n",
              "      <td>7.333333</td>\n",
              "      <td>102.266667</td>\n",
              "      <td>77.100000</td>\n",
              "      <td>36.333333</td>\n",
              "      <td>0.535333</td>\n",
              "      <td>81.000000</td>\n",
              "      <td>0.441667</td>\n",
              "      <td>35.666667</td>\n",
              "      <td>0.274000</td>\n",
              "      <td>22.000000</td>\n",
              "      <td>0.884000</td>\n",
              "      <td>19.666667</td>\n",
              "      <td>2</td>\n",
              "      <td>240.0</td>\n",
              "      <td>109.866667</td>\n",
              "      <td>20.866667</td>\n",
              "      <td>8.666667</td>\n",
              "      <td>17.666667</td>\n",
              "      <td>106.333333</td>\n",
              "      <td>7.933333</td>\n",
              "      <td>7.666667</td>\n",
              "      <td>0.577667</td>\n",
              "      <td>47.000000</td>\n",
              "      <td>0.320333</td>\n",
              "      <td>15.333333</td>\n",
              "      <td>51.033333</td>\n",
              "      <td>45.000000</td>\n",
              "      <td>0.587667</td>\n",
              "      <td>15.066667</td>\n",
              "      <td>16.000000</td>\n",
              "      <td>34.000000</td>\n",
              "      <td>0.597000</td>\n",
              "      <td>20.333333</td>\n",
              "      <td>5</td>\n",
              "      <td>2017-10-28</td>\n",
              "      <td>54.766667</td>\n",
              "      <td>18.333333</td>\n",
              "      <td>11.166667</td>\n",
              "      <td>7.333333</td>\n",
              "      <td>99.066667</td>\n",
              "      <td>68.800000</td>\n",
              "      <td>34.666667</td>\n",
              "      <td>0.494667</td>\n",
              "      <td>85.666667</td>\n",
              "      <td>0.371000</td>\n",
              "      <td>31.666667</td>\n",
              "      <td>0.398667</td>\n",
              "      <td>25.333333</td>\n",
              "      <td>0.843333</td>\n",
              "      <td>21.333333</td>\n",
              "      <td>1</td>\n",
              "      <td>240.0</td>\n",
              "      <td>108.466667</td>\n",
              "      <td>21.833333</td>\n",
              "      <td>15.333333</td>\n",
              "      <td>27.000000</td>\n",
              "      <td>103.333333</td>\n",
              "      <td>8.400000</td>\n",
              "      <td>8.000000</td>\n",
              "      <td>0.377333</td>\n",
              "      <td>32.333333</td>\n",
              "      <td>0.296667</td>\n",
              "      <td>9.666667</td>\n",
              "      <td>46.633333</td>\n",
              "      <td>50.000000</td>\n",
              "      <td>0.548667</td>\n",
              "      <td>13.266667</td>\n",
              "      <td>16.000000</td>\n",
              "      <td>53.333333</td>\n",
              "      <td>0.416667</td>\n",
              "      <td>22.000000</td>\n",
              "      <td>5</td>\n",
              "      <td>FedEx Forum, Memphis, Tennessee</td>\n",
              "      <td>HOU</td>\n",
              "      <td>Houston Rockets</td>\n",
              "      <td>92.4</td>\n",
              "      <td>Home</td>\n",
              "      <td>MEM</td>\n",
              "      <td>Memphis Grizzlies</td>\n",
              "      <td>True</td>\n",
              "      <td>MEM</td>\n",
              "      <td>HOU</td>\n",
              "      <td>300</td>\n",
              "      <td>-400</td>\n",
              "    </tr>\n",
              "    <tr>\n",
              "      <th>80</th>\n",
              "      <td>201710280MIA</td>\n",
              "      <td>58.666667</td>\n",
              "      <td>20.333333</td>\n",
              "      <td>7.533333</td>\n",
              "      <td>4.333333</td>\n",
              "      <td>96.066667</td>\n",
              "      <td>83.333333</td>\n",
              "      <td>39.000000</td>\n",
              "      <td>0.475000</td>\n",
              "      <td>83.333333</td>\n",
              "      <td>0.416333</td>\n",
              "      <td>34.666667</td>\n",
              "      <td>0.315667</td>\n",
              "      <td>26.333333</td>\n",
              "      <td>0.770667</td>\n",
              "      <td>20.000000</td>\n",
              "      <td>2</td>\n",
              "      <td>240.0</td>\n",
              "      <td>100.866667</td>\n",
              "      <td>20.800000</td>\n",
              "      <td>9.666667</td>\n",
              "      <td>20.666667</td>\n",
              "      <td>99.000000</td>\n",
              "      <td>7.466667</td>\n",
              "      <td>7.333333</td>\n",
              "      <td>0.364667</td>\n",
              "      <td>30.333333</td>\n",
              "      <td>0.320667</td>\n",
              "      <td>9.666667</td>\n",
              "      <td>52.233333</td>\n",
              "      <td>48.666667</td>\n",
              "      <td>0.522333</td>\n",
              "      <td>13.333333</td>\n",
              "      <td>14.666667</td>\n",
              "      <td>53.000000</td>\n",
              "      <td>0.471000</td>\n",
              "      <td>25.000000</td>\n",
              "      <td>4</td>\n",
              "      <td>2017-10-28</td>\n",
              "      <td>52.833333</td>\n",
              "      <td>16.666667</td>\n",
              "      <td>9.300000</td>\n",
              "      <td>2.666667</td>\n",
              "      <td>109.833333</td>\n",
              "      <td>78.866667</td>\n",
              "      <td>34.333333</td>\n",
              "      <td>0.552667</td>\n",
              "      <td>82.666667</td>\n",
              "      <td>0.491667</td>\n",
              "      <td>40.333333</td>\n",
              "      <td>0.199333</td>\n",
              "      <td>23.000000</td>\n",
              "      <td>0.753000</td>\n",
              "      <td>17.333333</td>\n",
              "      <td>3</td>\n",
              "      <td>240.0</td>\n",
              "      <td>108.800000</td>\n",
              "      <td>16.000000</td>\n",
              "      <td>9.000000</td>\n",
              "      <td>18.333333</td>\n",
              "      <td>105.333333</td>\n",
              "      <td>8.233333</td>\n",
              "      <td>8.000000</td>\n",
              "      <td>0.383667</td>\n",
              "      <td>17.666667</td>\n",
              "      <td>0.456000</td>\n",
              "      <td>8.000000</td>\n",
              "      <td>47.366667</td>\n",
              "      <td>43.333333</td>\n",
              "      <td>0.576667</td>\n",
              "      <td>13.133333</td>\n",
              "      <td>14.333333</td>\n",
              "      <td>65.000000</td>\n",
              "      <td>0.500667</td>\n",
              "      <td>32.333333</td>\n",
              "      <td>2</td>\n",
              "      <td>AmericanAirlines Arena, Miami, Florida</td>\n",
              "      <td>MIA</td>\n",
              "      <td>Miami Heat</td>\n",
              "      <td>93.7</td>\n",
              "      <td>Away</td>\n",
              "      <td>BOS</td>\n",
              "      <td>Boston Celtics</td>\n",
              "      <td>False</td>\n",
              "      <td>MIA</td>\n",
              "      <td>BOS</td>\n",
              "      <td>-110</td>\n",
              "      <td>-110</td>\n",
              "    </tr>\n",
              "    <tr>\n",
              "      <th>85</th>\n",
              "      <td>201710290BRK</td>\n",
              "      <td>55.066667</td>\n",
              "      <td>21.333333</td>\n",
              "      <td>4.800000</td>\n",
              "      <td>2.666667</td>\n",
              "      <td>110.400000</td>\n",
              "      <td>78.866667</td>\n",
              "      <td>33.000000</td>\n",
              "      <td>0.485333</td>\n",
              "      <td>89.333333</td>\n",
              "      <td>0.436667</td>\n",
              "      <td>38.666667</td>\n",
              "      <td>0.186333</td>\n",
              "      <td>16.666667</td>\n",
              "      <td>0.752000</td>\n",
              "      <td>12.333333</td>\n",
              "      <td>3</td>\n",
              "      <td>240.0</td>\n",
              "      <td>102.766667</td>\n",
              "      <td>25.166667</td>\n",
              "      <td>12.000000</td>\n",
              "      <td>17.666667</td>\n",
              "      <td>98.000000</td>\n",
              "      <td>6.266667</td>\n",
              "      <td>6.000000</td>\n",
              "      <td>0.293667</td>\n",
              "      <td>26.000000</td>\n",
              "      <td>0.313000</td>\n",
              "      <td>8.333333</td>\n",
              "      <td>51.200000</td>\n",
              "      <td>45.000000</td>\n",
              "      <td>0.512667</td>\n",
              "      <td>13.433333</td>\n",
              "      <td>14.666667</td>\n",
              "      <td>63.333333</td>\n",
              "      <td>0.476667</td>\n",
              "      <td>30.333333</td>\n",
              "      <td>3</td>\n",
              "      <td>2017-10-29</td>\n",
              "      <td>56.233333</td>\n",
              "      <td>24.000000</td>\n",
              "      <td>9.700000</td>\n",
              "      <td>4.000000</td>\n",
              "      <td>105.833333</td>\n",
              "      <td>74.900000</td>\n",
              "      <td>33.666667</td>\n",
              "      <td>0.535000</td>\n",
              "      <td>88.000000</td>\n",
              "      <td>0.442333</td>\n",
              "      <td>38.666667</td>\n",
              "      <td>0.332333</td>\n",
              "      <td>25.666667</td>\n",
              "      <td>0.812667</td>\n",
              "      <td>21.000000</td>\n",
              "      <td>4</td>\n",
              "      <td>240.0</td>\n",
              "      <td>112.833333</td>\n",
              "      <td>27.433333</td>\n",
              "      <td>11.333333</td>\n",
              "      <td>23.000000</td>\n",
              "      <td>118.000000</td>\n",
              "      <td>11.466667</td>\n",
              "      <td>6.666667</td>\n",
              "      <td>0.366000</td>\n",
              "      <td>31.666667</td>\n",
              "      <td>0.382333</td>\n",
              "      <td>12.333333</td>\n",
              "      <td>50.233333</td>\n",
              "      <td>45.000000</td>\n",
              "      <td>0.568000</td>\n",
              "      <td>13.300000</td>\n",
              "      <td>19.666667</td>\n",
              "      <td>56.333333</td>\n",
              "      <td>0.480667</td>\n",
              "      <td>26.333333</td>\n",
              "      <td>3</td>\n",
              "      <td>Barclays Center, Brooklyn, New York</td>\n",
              "      <td>BRK</td>\n",
              "      <td>Brooklyn Nets</td>\n",
              "      <td>105.0</td>\n",
              "      <td>Away</td>\n",
              "      <td>DEN</td>\n",
              "      <td>Denver Nuggets</td>\n",
              "      <td>False</td>\n",
              "      <td>BRK</td>\n",
              "      <td>DEN</td>\n",
              "      <td>207</td>\n",
              "      <td>-250</td>\n",
              "    </tr>\n",
              "    <tr>\n",
              "      <th>88</th>\n",
              "      <td>201710290GSW</td>\n",
              "      <td>45.433333</td>\n",
              "      <td>18.666667</td>\n",
              "      <td>6.200000</td>\n",
              "      <td>3.000000</td>\n",
              "      <td>108.566667</td>\n",
              "      <td>72.800000</td>\n",
              "      <td>29.666667</td>\n",
              "      <td>0.515000</td>\n",
              "      <td>88.666667</td>\n",
              "      <td>0.462333</td>\n",
              "      <td>41.000000</td>\n",
              "      <td>0.211333</td>\n",
              "      <td>18.666667</td>\n",
              "      <td>0.783333</td>\n",
              "      <td>14.333333</td>\n",
              "      <td>2</td>\n",
              "      <td>240.0</td>\n",
              "      <td>111.500000</td>\n",
              "      <td>28.566667</td>\n",
              "      <td>12.333333</td>\n",
              "      <td>25.666667</td>\n",
              "      <td>105.666667</td>\n",
              "      <td>9.766667</td>\n",
              "      <td>9.333333</td>\n",
              "      <td>0.304000</td>\n",
              "      <td>27.000000</td>\n",
              "      <td>0.352000</td>\n",
              "      <td>9.333333</td>\n",
              "      <td>49.666667</td>\n",
              "      <td>42.000000</td>\n",
              "      <td>0.545333</td>\n",
              "      <td>12.833333</td>\n",
              "      <td>14.333333</td>\n",
              "      <td>61.666667</td>\n",
              "      <td>0.513333</td>\n",
              "      <td>31.666667</td>\n",
              "      <td>5</td>\n",
              "      <td>2017-10-29</td>\n",
              "      <td>75.066667</td>\n",
              "      <td>29.333333</td>\n",
              "      <td>16.033333</td>\n",
              "      <td>5.666667</td>\n",
              "      <td>115.833333</td>\n",
              "      <td>72.800000</td>\n",
              "      <td>29.000000</td>\n",
              "      <td>0.603667</td>\n",
              "      <td>96.000000</td>\n",
              "      <td>0.461667</td>\n",
              "      <td>44.333333</td>\n",
              "      <td>0.253333</td>\n",
              "      <td>20.000000</td>\n",
              "      <td>0.786000</td>\n",
              "      <td>15.666667</td>\n",
              "      <td>3</td>\n",
              "      <td>240.0</td>\n",
              "      <td>118.200000</td>\n",
              "      <td>22.966667</td>\n",
              "      <td>13.000000</td>\n",
              "      <td>17.666667</td>\n",
              "      <td>119.333333</td>\n",
              "      <td>7.300000</td>\n",
              "      <td>8.666667</td>\n",
              "      <td>0.371000</td>\n",
              "      <td>36.000000</td>\n",
              "      <td>0.352000</td>\n",
              "      <td>12.666667</td>\n",
              "      <td>50.666667</td>\n",
              "      <td>42.000000</td>\n",
              "      <td>0.643667</td>\n",
              "      <td>15.500000</td>\n",
              "      <td>14.000000</td>\n",
              "      <td>60.000000</td>\n",
              "      <td>0.530667</td>\n",
              "      <td>31.666667</td>\n",
              "      <td>4</td>\n",
              "      <td>Oracle Arena, Oakland, California</td>\n",
              "      <td>GSW</td>\n",
              "      <td>Golden State Warriors</td>\n",
              "      <td>94.2</td>\n",
              "      <td>Away</td>\n",
              "      <td>DET</td>\n",
              "      <td>Detroit Pistons</td>\n",
              "      <td>False</td>\n",
              "      <td>GSW</td>\n",
              "      <td>DET</td>\n",
              "      <td>180</td>\n",
              "      <td>-215</td>\n",
              "    </tr>\n",
              "  </tbody>\n",
              "</table>\n",
              "</div>"
            ],
            "text/plain": [
              "          gameID  away_assist_percentage  away_assists  away_block_percentage  \\\n",
              "77  201710280DAL               61.933333     22.666667               5.633333   \n",
              "79  201710280MEM               58.000000     20.666667              12.033333   \n",
              "80  201710280MIA               58.666667     20.333333               7.533333   \n",
              "85  201710290BRK               55.066667     21.333333               4.800000   \n",
              "88  201710290GSW               45.433333     18.666667               6.200000   \n",
              "\n",
              "    away_blocks  away_defensive_rating  away_defensive_rebound_percentage  \\\n",
              "77     3.333333             107.733333                          77.433333   \n",
              "79     7.333333             102.266667                          77.100000   \n",
              "80     4.333333              96.066667                          83.333333   \n",
              "85     2.666667             110.400000                          78.866667   \n",
              "88     3.000000             108.566667                          72.800000   \n",
              "\n",
              "    away_defensive_rebounds  away_effective_field_goal_percentage  \\\n",
              "77                37.000000                              0.503000   \n",
              "79                36.333333                              0.535333   \n",
              "80                39.000000                              0.475000   \n",
              "85                33.000000                              0.485333   \n",
              "88                29.666667                              0.515000   \n",
              "\n",
              "    away_field_goal_attempts  away_field_goal_percentage  away_field_goals  \\\n",
              "77                 83.333333                    0.439667         36.666667   \n",
              "79                 81.000000                    0.441667         35.666667   \n",
              "80                 83.333333                    0.416333         34.666667   \n",
              "85                 89.333333                    0.436667         38.666667   \n",
              "88                 88.666667                    0.462333         41.000000   \n",
              "\n",
              "    away_free_throw_attempt_rate  away_free_throw_attempts  \\\n",
              "77                      0.321000                 26.333333   \n",
              "79                      0.274000                 22.000000   \n",
              "80                      0.315667                 26.333333   \n",
              "85                      0.186333                 16.666667   \n",
              "88                      0.211333                 18.666667   \n",
              "\n",
              "    away_free_throw_percentage  away_free_throws  away_losses  \\\n",
              "77                    0.699333         18.000000            0   \n",
              "79                    0.884000         19.666667            2   \n",
              "80                    0.770667         20.000000            2   \n",
              "85                    0.752000         12.333333            3   \n",
              "88                    0.783333         14.333333            2   \n",
              "\n",
              "    away_minutes_played  away_offensive_rating  \\\n",
              "77                240.0              99.366667   \n",
              "79                240.0             109.866667   \n",
              "80                240.0             100.866667   \n",
              "85                240.0             102.766667   \n",
              "88                240.0             111.500000   \n",
              "\n",
              "    away_offensive_rebound_percentage  away_offensive_rebounds  \\\n",
              "77                          20.066667                 9.000000   \n",
              "79                          20.866667                 8.666667   \n",
              "80                          20.800000                 9.666667   \n",
              "85                          25.166667                12.000000   \n",
              "88                          28.566667                12.333333   \n",
              "\n",
              "    away_personal_fouls  away_points  away_steal_percentage  away_steals  \\\n",
              "77            26.000000   102.000000               7.300000     7.333333   \n",
              "79            17.666667   106.333333               7.933333     7.666667   \n",
              "80            20.666667    99.000000               7.466667     7.333333   \n",
              "85            17.666667    98.000000               6.266667     6.000000   \n",
              "88            25.666667   105.666667               9.766667     9.333333   \n",
              "\n",
              "    away_three_point_attempt_rate  away_three_point_field_goal_attempts  \\\n",
              "77                       0.329667                             27.666667   \n",
              "79                       0.577667                             47.000000   \n",
              "80                       0.364667                             30.333333   \n",
              "85                       0.293667                             26.000000   \n",
              "88                       0.304000                             27.000000   \n",
              "\n",
              "    away_three_point_field_goal_percentage  away_three_point_field_goals  \\\n",
              "77                                0.379000                     10.666667   \n",
              "79                                0.320333                     15.333333   \n",
              "80                                0.320667                      9.666667   \n",
              "85                                0.313000                      8.333333   \n",
              "88                                0.352000                      9.333333   \n",
              "\n",
              "    away_total_rebound_percentage  away_total_rebounds  \\\n",
              "77                      49.433333            46.000000   \n",
              "79                      51.033333            45.000000   \n",
              "80                      52.233333            48.666667   \n",
              "85                      51.200000            45.000000   \n",
              "88                      49.666667            42.000000   \n",
              "\n",
              "    away_true_shooting_percentage  away_turnover_percentage  away_turnovers  \\\n",
              "77                       0.538000                 17.033333       19.333333   \n",
              "79                       0.587667                 15.066667       16.000000   \n",
              "80                       0.522333                 13.333333       14.666667   \n",
              "85                       0.512667                 13.433333       14.666667   \n",
              "88                       0.545333                 12.833333       14.333333   \n",
              "\n",
              "    away_two_point_field_goal_attempts  away_two_point_field_goal_percentage  \\\n",
              "77                           55.666667                              0.469000   \n",
              "79                           34.000000                              0.597000   \n",
              "80                           53.000000                              0.471000   \n",
              "85                           63.333333                              0.476667   \n",
              "88                           61.666667                              0.513333   \n",
              "\n",
              "    away_two_point_field_goals  away_wins        date  home_assist_percentage  \\\n",
              "77                   26.000000          0  2017-10-28               57.400000   \n",
              "79                   20.333333          5  2017-10-28               54.766667   \n",
              "80                   25.000000          4  2017-10-28               52.833333   \n",
              "85                   30.333333          3  2017-10-29               56.233333   \n",
              "88                   31.666667          5  2017-10-29               75.066667   \n",
              "\n",
              "    home_assists  home_block_percentage  home_blocks  home_defensive_rating  \\\n",
              "77     22.333333               6.900000     4.333333             112.566667   \n",
              "79     18.333333              11.166667     7.333333              99.066667   \n",
              "80     16.666667               9.300000     2.666667             109.833333   \n",
              "85     24.000000               9.700000     4.000000             105.833333   \n",
              "88     29.333333              16.033333     5.666667             115.833333   \n",
              "\n",
              "    home_defensive_rebound_percentage  home_defensive_rebounds  \\\n",
              "77                          73.966667                37.000000   \n",
              "79                          68.800000                34.666667   \n",
              "80                          78.866667                34.333333   \n",
              "85                          74.900000                33.666667   \n",
              "88                          72.800000                29.000000   \n",
              "\n",
              "    home_effective_field_goal_percentage  home_field_goal_attempts  \\\n",
              "77                              0.497000                 81.666667   \n",
              "79                              0.494667                 85.666667   \n",
              "80                              0.552667                 82.666667   \n",
              "85                              0.535000                 88.000000   \n",
              "88                              0.603667                 96.000000   \n",
              "\n",
              "    home_field_goal_percentage  home_field_goals  \\\n",
              "77                    0.480333         39.333333   \n",
              "79                    0.371000         31.666667   \n",
              "80                    0.491667         40.333333   \n",
              "85                    0.442333         38.666667   \n",
              "88                    0.461667         44.333333   \n",
              "\n",
              "    home_free_throw_attempt_rate  home_free_throw_attempts  \\\n",
              "77                      0.328333                 21.000000   \n",
              "79                      0.398667                 25.333333   \n",
              "80                      0.199333                 23.000000   \n",
              "85                      0.332333                 25.666667   \n",
              "88                      0.253333                 20.000000   \n",
              "\n",
              "    home_free_throw_percentage  home_free_throws  home_losses  \\\n",
              "77                    0.735000         15.666667            6   \n",
              "79                    0.843333         21.333333            1   \n",
              "80                    0.753000         17.333333            3   \n",
              "85                    0.812667         21.000000            4   \n",
              "88                    0.786000         15.666667            3   \n",
              "\n",
              "    home_minutes_played  home_offensive_rating  \\\n",
              "77                240.0             104.200000   \n",
              "79                240.0             108.466667   \n",
              "80                240.0             108.800000   \n",
              "85                240.0             112.833333   \n",
              "88                240.0             118.200000   \n",
              "\n",
              "    home_offensive_rebound_percentage  home_offensive_rebounds  \\\n",
              "77                          17.433333                10.666667   \n",
              "79                          21.833333                15.333333   \n",
              "80                          16.000000                 9.000000   \n",
              "85                          27.433333                11.333333   \n",
              "88                          22.966667                13.000000   \n",
              "\n",
              "    home_personal_fouls  home_points  home_steal_percentage  home_steals  \\\n",
              "77            21.000000    98.000000               8.766667     7.000000   \n",
              "79            27.000000   103.333333               8.400000     8.000000   \n",
              "80            18.333333   105.333333               8.233333     8.000000   \n",
              "85            23.000000   118.000000              11.466667     6.666667   \n",
              "88            17.666667   119.333333               7.300000     8.666667   \n",
              "\n",
              "    home_three_point_attempt_rate  home_three_point_field_goal_attempts  \\\n",
              "77                       0.364333                             31.000000   \n",
              "79                       0.377333                             32.333333   \n",
              "80                       0.383667                             17.666667   \n",
              "85                       0.366000                             31.666667   \n",
              "88                       0.371000                             36.000000   \n",
              "\n",
              "    home_three_point_field_goal_percentage  home_three_point_field_goals  \\\n",
              "77                                0.402333                     12.333333   \n",
              "79                                0.296667                      9.666667   \n",
              "80                                0.456000                      8.000000   \n",
              "85                                0.382333                     12.333333   \n",
              "88                                0.352000                     12.666667   \n",
              "\n",
              "    home_total_rebound_percentage  home_total_rebounds  \\\n",
              "77                      44.566667            47.666667   \n",
              "79                      46.633333            50.000000   \n",
              "80                      47.366667            43.333333   \n",
              "85                      50.233333            45.000000   \n",
              "88                      50.666667            42.000000   \n",
              "\n",
              "    home_true_shooting_percentage  home_turnover_percentage  home_turnovers  \\\n",
              "77                       0.529333                 11.233333       15.666667   \n",
              "79                       0.548667                 13.266667       16.000000   \n",
              "80                       0.576667                 13.133333       14.333333   \n",
              "85                       0.568000                 13.300000       19.666667   \n",
              "88                       0.643667                 15.500000       14.000000   \n",
              "\n",
              "    home_two_point_field_goal_attempts  home_two_point_field_goal_percentage  \\\n",
              "77                           50.666667                              0.545333   \n",
              "79                           53.333333                              0.416667   \n",
              "80                           65.000000                              0.500667   \n",
              "85                           56.333333                              0.480667   \n",
              "88                           60.000000                              0.530667   \n",
              "\n",
              "    home_two_point_field_goals  home_wins  \\\n",
              "77                   27.000000          1   \n",
              "79                   22.000000          5   \n",
              "80                   32.333333          2   \n",
              "85                   26.333333          3   \n",
              "88                   31.666667          4   \n",
              "\n",
              "                                   location losing_abbr  \\\n",
              "77  American Airlines Center, Dallas, Texas         DAL   \n",
              "79          FedEx Forum, Memphis, Tennessee         HOU   \n",
              "80   AmericanAirlines Arena, Miami, Florida         MIA   \n",
              "85      Barclays Center, Brooklyn, New York         BRK   \n",
              "88        Oracle Arena, Oakland, California         GSW   \n",
              "\n",
              "              losing_name   pace winner winning_abbr        winning_name  \\\n",
              "77       Dallas Mavericks   94.1   Away          PHI  Philadelphia 76ers   \n",
              "79        Houston Rockets   92.4   Home          MEM   Memphis Grizzlies   \n",
              "80             Miami Heat   93.7   Away          BOS      Boston Celtics   \n",
              "85          Brooklyn Nets  105.0   Away          DEN      Denver Nuggets   \n",
              "88  Golden State Warriors   94.2   Away          DET     Detroit Pistons   \n",
              "\n",
              "    homeWin homeTeam awayTeam  homeOdds  awayOdds  \n",
              "77    False      DAL      PHI      -135       115  \n",
              "79     True      MEM      HOU       300      -400  \n",
              "80    False      MIA      BOS      -110      -110  \n",
              "85    False      BRK      DEN       207      -250  \n",
              "88    False      GSW      DET       180      -215  "
            ]
          },
          "execution_count": 130,
          "metadata": {},
          "output_type": "execute_result"
        }
      ],
      "source": [
        "nba_final.head()"
      ]
    },
    {
      "cell_type": "markdown",
      "metadata": {
        "colab_type": "text",
        "id": "uV13YF2T7c3b"
      },
      "source": [
        "## Initial DBA\n",
        "Let's poke around our data."
      ]
    },
    {
      "cell_type": "markdown",
      "metadata": {
        "colab_type": "text",
        "id": "T4HqeVMI_j8_"
      },
      "source": [
        "##### As seen below, the money line feature needs to be normalized, which we'll do to all our features to be safe."
      ]
    },
    {
      "cell_type": "code",
      "execution_count": 131,
      "metadata": {
        "colab": {
          "base_uri": "https://localhost:8080/",
          "height": 296
        },
        "colab_type": "code",
        "id": "Dn51Atd3_Vaj",
        "outputId": "0e40fad9-a0f9-4d2f-e210-435e0e34dd2b"
      },
      "outputs": [
        {
          "name": "stderr",
          "output_type": "stream",
          "text": [
            "c:\\Users\\Jason Huang\\anaconda3\\lib\\site-packages\\seaborn\\distributions.py:2619: FutureWarning: `distplot` is a deprecated function and will be removed in a future version. Please adapt your code to use either `displot` (a figure-level function with similar flexibility) or `histplot` (an axes-level function for histograms).\n",
            "  warnings.warn(msg, FutureWarning)\n"
          ]
        },
        {
          "data": {
            "text/plain": [
              "<AxesSubplot:xlabel='homeOdds', ylabel='Density'>"
            ]
          },
          "execution_count": 131,
          "metadata": {},
          "output_type": "execute_result"
        },
        {
          "data": {
            "image/png": "[encoded data removed]",
            "text/plain": [
              "<Figure size 640x480 with 1 Axes>"
            ]
          },
          "metadata": {},
          "output_type": "display_data"
        }
      ],
      "source": [
        "## home money line distribution\n",
        "sns.distplot(nba_final['homeOdds'])"
      ]
    },
    {
      "cell_type": "code",
      "execution_count": 132,
      "metadata": {
        "colab": {
          "base_uri": "https://localhost:8080/",
          "height": 297
        },
        "colab_type": "code",
        "id": "JH-175LVSTYj",
        "outputId": "dc447e6b-357f-4577-a4db-47e4b47e6542"
      },
      "outputs": [
        {
          "name": "stderr",
          "output_type": "stream",
          "text": [
            "c:\\Users\\Jason Huang\\anaconda3\\lib\\site-packages\\seaborn\\distributions.py:2619: FutureWarning: `distplot` is a deprecated function and will be removed in a future version. Please adapt your code to use either `displot` (a figure-level function with similar flexibility) or `histplot` (an axes-level function for histograms).\n",
            "  warnings.warn(msg, FutureWarning)\n"
          ]
        },
        {
          "data": {
            "text/plain": [
              "<AxesSubplot:xlabel='awayOdds', ylabel='Density'>"
            ]
          },
          "execution_count": 132,
          "metadata": {},
          "output_type": "execute_result"
        },
        {
          "data": {
            "image/png": "[encoded data removed]",
            "text/plain": [
              "<Figure size 640x480 with 1 Axes>"
            ]
          },
          "metadata": {},
          "output_type": "display_data"
        }
      ],
      "source": [
        "## away money line distribution\n",
        "sns.distplot(nba_final['awayOdds'])"
      ]
    },
    {
      "cell_type": "code",
      "execution_count": 133,
      "metadata": {
        "colab": {
          "base_uri": "https://localhost:8080/",
          "height": 297
        },
        "colab_type": "code",
        "id": "auvUJ4ye_w_D",
        "outputId": "e86b83d4-4e10-4c47-a0b7-3e8bdaa3111a"
      },
      "outputs": [
        {
          "name": "stderr",
          "output_type": "stream",
          "text": [
            "c:\\Users\\Jason Huang\\anaconda3\\lib\\site-packages\\seaborn\\distributions.py:2619: FutureWarning: `distplot` is a deprecated function and will be removed in a future version. Please adapt your code to use either `displot` (a figure-level function with similar flexibility) or `histplot` (an axes-level function for histograms).\n",
            "  warnings.warn(msg, FutureWarning)\n"
          ]
        },
        {
          "ename": "KeyboardInterrupt",
          "evalue": "",
          "output_type": "error",
          "traceback": [
            "\u001b[1;31m---------------------------------------------------------------------------\u001b[0m",
            "\u001b[1;31mKeyboardInterrupt\u001b[0m                         Traceback (most recent call last)",
            "\u001b[1;32m~\\AppData\\Local\\Temp\\ipykernel_24928\\835342495.py\u001b[0m in \u001b[0;36m<module>\u001b[1;34m\u001b[0m\n\u001b[0;32m      1\u001b[0m \u001b[1;31m## points distribution\u001b[0m\u001b[1;33m\u001b[0m\u001b[1;33m\u001b[0m\u001b[0m\n\u001b[1;32m----> 2\u001b[1;33m \u001b[0msns\u001b[0m\u001b[1;33m.\u001b[0m\u001b[0mdistplot\u001b[0m\u001b[1;33m(\u001b[0m\u001b[0mnba_final\u001b[0m\u001b[1;33m[\u001b[0m\u001b[1;34m'home_points'\u001b[0m\u001b[1;33m]\u001b[0m\u001b[1;33m)\u001b[0m\u001b[1;33m\u001b[0m\u001b[1;33m\u001b[0m\u001b[0m\n\u001b[0m",
            "\u001b[1;32mc:\\Users\\Jason Huang\\anaconda3\\lib\\site-packages\\seaborn\\distributions.py\u001b[0m in \u001b[0;36mdistplot\u001b[1;34m(a, bins, hist, kde, rug, fit, hist_kws, kde_kws, rug_kws, fit_kws, color, vertical, norm_hist, axlabel, label, ax, x)\u001b[0m\n\u001b[0;32m   2678\u001b[0m         \u001b[0morientation\u001b[0m \u001b[1;33m=\u001b[0m \u001b[1;34m\"horizontal\"\u001b[0m \u001b[1;32mif\u001b[0m \u001b[0mvertical\u001b[0m \u001b[1;32melse\u001b[0m \u001b[1;34m\"vertical\"\u001b[0m\u001b[1;33m\u001b[0m\u001b[1;33m\u001b[0m\u001b[0m\n\u001b[0;32m   2679\u001b[0m         \u001b[0mhist_color\u001b[0m \u001b[1;33m=\u001b[0m \u001b[0mhist_kws\u001b[0m\u001b[1;33m.\u001b[0m\u001b[0mpop\u001b[0m\u001b[1;33m(\u001b[0m\u001b[1;34m\"color\"\u001b[0m\u001b[1;33m,\u001b[0m \u001b[0mcolor\u001b[0m\u001b[1;33m)\u001b[0m\u001b[1;33m\u001b[0m\u001b[1;33m\u001b[0m\u001b[0m\n\u001b[1;32m-> 2680\u001b[1;33m         ax.hist(a, bins, orientation=orientation,\n\u001b[0m\u001b[0;32m   2681\u001b[0m                 color=hist_color, **hist_kws)\n\u001b[0;32m   2682\u001b[0m         \u001b[1;32mif\u001b[0m \u001b[0mhist_color\u001b[0m \u001b[1;33m!=\u001b[0m \u001b[0mcolor\u001b[0m\u001b[1;33m:\u001b[0m\u001b[1;33m\u001b[0m\u001b[1;33m\u001b[0m\u001b[0m\n",
            "\u001b[1;32mc:\\Users\\Jason Huang\\anaconda3\\lib\\site-packages\\matplotlib\\__init__.py\u001b[0m in \u001b[0;36minner\u001b[1;34m(ax, data, *args, **kwargs)\u001b[0m\n\u001b[0;32m   1410\u001b[0m     \u001b[1;32mdef\u001b[0m \u001b[0minner\u001b[0m\u001b[1;33m(\u001b[0m\u001b[0max\u001b[0m\u001b[1;33m,\u001b[0m \u001b[1;33m*\u001b[0m\u001b[0margs\u001b[0m\u001b[1;33m,\u001b[0m \u001b[0mdata\u001b[0m\u001b[1;33m=\u001b[0m\u001b[1;32mNone\u001b[0m\u001b[1;33m,\u001b[0m \u001b[1;33m**\u001b[0m\u001b[0mkwargs\u001b[0m\u001b[1;33m)\u001b[0m\u001b[1;33m:\u001b[0m\u001b[1;33m\u001b[0m\u001b[1;33m\u001b[0m\u001b[0m\n\u001b[0;32m   1411\u001b[0m         \u001b[1;32mif\u001b[0m \u001b[0mdata\u001b[0m \u001b[1;32mis\u001b[0m \u001b[1;32mNone\u001b[0m\u001b[1;33m:\u001b[0m\u001b[1;33m\u001b[0m\u001b[1;33m\u001b[0m\u001b[0m\n\u001b[1;32m-> 1412\u001b[1;33m             \u001b[1;32mreturn\u001b[0m \u001b[0mfunc\u001b[0m\u001b[1;33m(\u001b[0m\u001b[0max\u001b[0m\u001b[1;33m,\u001b[0m \u001b[1;33m*\u001b[0m\u001b[0mmap\u001b[0m\u001b[1;33m(\u001b[0m\u001b[0msanitize_sequence\u001b[0m\u001b[1;33m,\u001b[0m \u001b[0margs\u001b[0m\u001b[1;33m)\u001b[0m\u001b[1;33m,\u001b[0m \u001b[1;33m**\u001b[0m\u001b[0mkwargs\u001b[0m\u001b[1;33m)\u001b[0m\u001b[1;33m\u001b[0m\u001b[1;33m\u001b[0m\u001b[0m\n\u001b[0m\u001b[0;32m   1413\u001b[0m \u001b[1;33m\u001b[0m\u001b[0m\n\u001b[0;32m   1414\u001b[0m         \u001b[0mbound\u001b[0m \u001b[1;33m=\u001b[0m \u001b[0mnew_sig\u001b[0m\u001b[1;33m.\u001b[0m\u001b[0mbind\u001b[0m\u001b[1;33m(\u001b[0m\u001b[0max\u001b[0m\u001b[1;33m,\u001b[0m \u001b[1;33m*\u001b[0m\u001b[0margs\u001b[0m\u001b[1;33m,\u001b[0m \u001b[1;33m**\u001b[0m\u001b[0mkwargs\u001b[0m\u001b[1;33m)\u001b[0m\u001b[1;33m\u001b[0m\u001b[1;33m\u001b[0m\u001b[0m\n",
            "\u001b[1;32mc:\\Users\\Jason Huang\\anaconda3\\lib\\site-packages\\matplotlib\\axes\\_axes.py\u001b[0m in \u001b[0;36mhist\u001b[1;34m(self, x, bins, range, density, weights, cumulative, bottom, histtype, align, orientation, rwidth, log, color, label, stacked, **kwargs)\u001b[0m\n\u001b[0;32m   6692\u001b[0m                 \u001b[1;32melse\u001b[0m\u001b[1;33m:\u001b[0m\u001b[1;33m\u001b[0m\u001b[1;33m\u001b[0m\u001b[0m\n\u001b[0;32m   6693\u001b[0m                     \u001b[0mheight\u001b[0m \u001b[1;33m=\u001b[0m \u001b[0mm\u001b[0m\u001b[1;33m\u001b[0m\u001b[1;33m\u001b[0m\u001b[0m\n\u001b[1;32m-> 6694\u001b[1;33m                 bars = _barfunc(bins[:-1]+boffset, height, width,\n\u001b[0m\u001b[0;32m   6695\u001b[0m                                 \u001b[0malign\u001b[0m\u001b[1;33m=\u001b[0m\u001b[1;34m'center'\u001b[0m\u001b[1;33m,\u001b[0m \u001b[0mlog\u001b[0m\u001b[1;33m=\u001b[0m\u001b[0mlog\u001b[0m\u001b[1;33m,\u001b[0m\u001b[1;33m\u001b[0m\u001b[1;33m\u001b[0m\u001b[0m\n\u001b[0;32m   6696\u001b[0m                                 color=c, **{bottom_kwarg: bottom})\n",
            "\u001b[1;32mc:\\Users\\Jason Huang\\anaconda3\\lib\\site-packages\\matplotlib\\__init__.py\u001b[0m in \u001b[0;36minner\u001b[1;34m(ax, data, *args, **kwargs)\u001b[0m\n\u001b[0;32m   1410\u001b[0m     \u001b[1;32mdef\u001b[0m \u001b[0minner\u001b[0m\u001b[1;33m(\u001b[0m\u001b[0max\u001b[0m\u001b[1;33m,\u001b[0m \u001b[1;33m*\u001b[0m\u001b[0margs\u001b[0m\u001b[1;33m,\u001b[0m \u001b[0mdata\u001b[0m\u001b[1;33m=\u001b[0m\u001b[1;32mNone\u001b[0m\u001b[1;33m,\u001b[0m \u001b[1;33m**\u001b[0m\u001b[0mkwargs\u001b[0m\u001b[1;33m)\u001b[0m\u001b[1;33m:\u001b[0m\u001b[1;33m\u001b[0m\u001b[1;33m\u001b[0m\u001b[0m\n\u001b[0;32m   1411\u001b[0m         \u001b[1;32mif\u001b[0m \u001b[0mdata\u001b[0m \u001b[1;32mis\u001b[0m \u001b[1;32mNone\u001b[0m\u001b[1;33m:\u001b[0m\u001b[1;33m\u001b[0m\u001b[1;33m\u001b[0m\u001b[0m\n\u001b[1;32m-> 1412\u001b[1;33m             \u001b[1;32mreturn\u001b[0m \u001b[0mfunc\u001b[0m\u001b[1;33m(\u001b[0m\u001b[0max\u001b[0m\u001b[1;33m,\u001b[0m \u001b[1;33m*\u001b[0m\u001b[0mmap\u001b[0m\u001b[1;33m(\u001b[0m\u001b[0msanitize_sequence\u001b[0m\u001b[1;33m,\u001b[0m \u001b[0margs\u001b[0m\u001b[1;33m)\u001b[0m\u001b[1;33m,\u001b[0m \u001b[1;33m**\u001b[0m\u001b[0mkwargs\u001b[0m\u001b[1;33m)\u001b[0m\u001b[1;33m\u001b[0m\u001b[1;33m\u001b[0m\u001b[0m\n\u001b[0m\u001b[0;32m   1413\u001b[0m \u001b[1;33m\u001b[0m\u001b[0m\n\u001b[0;32m   1414\u001b[0m         \u001b[0mbound\u001b[0m \u001b[1;33m=\u001b[0m \u001b[0mnew_sig\u001b[0m\u001b[1;33m.\u001b[0m\u001b[0mbind\u001b[0m\u001b[1;33m(\u001b[0m\u001b[0max\u001b[0m\u001b[1;33m,\u001b[0m \u001b[1;33m*\u001b[0m\u001b[0margs\u001b[0m\u001b[1;33m,\u001b[0m \u001b[1;33m**\u001b[0m\u001b[0mkwargs\u001b[0m\u001b[1;33m)\u001b[0m\u001b[1;33m\u001b[0m\u001b[1;33m\u001b[0m\u001b[0m\n",
            "\u001b[1;32mc:\\Users\\Jason Huang\\anaconda3\\lib\\site-packages\\matplotlib\\axes\\_axes.py\u001b[0m in \u001b[0;36mbar\u001b[1;34m(self, x, height, width, bottom, align, **kwargs)\u001b[0m\n\u001b[0;32m   2407\u001b[0m             \u001b[1;32melif\u001b[0m \u001b[0morientation\u001b[0m \u001b[1;33m==\u001b[0m \u001b[1;34m'horizontal'\u001b[0m\u001b[1;33m:\u001b[0m\u001b[1;33m\u001b[0m\u001b[1;33m\u001b[0m\u001b[0m\n\u001b[0;32m   2408\u001b[0m                 \u001b[0mr\u001b[0m\u001b[1;33m.\u001b[0m\u001b[0msticky_edges\u001b[0m\u001b[1;33m.\u001b[0m\u001b[0mx\u001b[0m\u001b[1;33m.\u001b[0m\u001b[0mappend\u001b[0m\u001b[1;33m(\u001b[0m\u001b[0ml\u001b[0m\u001b[1;33m)\u001b[0m\u001b[1;33m\u001b[0m\u001b[1;33m\u001b[0m\u001b[0m\n\u001b[1;32m-> 2409\u001b[1;33m             \u001b[0mself\u001b[0m\u001b[1;33m.\u001b[0m\u001b[0madd_patch\u001b[0m\u001b[1;33m(\u001b[0m\u001b[0mr\u001b[0m\u001b[1;33m)\u001b[0m\u001b[1;33m\u001b[0m\u001b[1;33m\u001b[0m\u001b[0m\n\u001b[0m\u001b[0;32m   2410\u001b[0m             \u001b[0mpatches\u001b[0m\u001b[1;33m.\u001b[0m\u001b[0mappend\u001b[0m\u001b[1;33m(\u001b[0m\u001b[0mr\u001b[0m\u001b[1;33m)\u001b[0m\u001b[1;33m\u001b[0m\u001b[1;33m\u001b[0m\u001b[0m\n\u001b[0;32m   2411\u001b[0m \u001b[1;33m\u001b[0m\u001b[0m\n",
            "\u001b[1;32mc:\\Users\\Jason Huang\\anaconda3\\lib\\site-packages\\matplotlib\\axes\\_base.py\u001b[0m in \u001b[0;36madd_patch\u001b[1;34m(self, p)\u001b[0m\n\u001b[0;32m   2360\u001b[0m         \u001b[0mself\u001b[0m\u001b[1;33m.\u001b[0m\u001b[0m_set_artist_props\u001b[0m\u001b[1;33m(\u001b[0m\u001b[0mp\u001b[0m\u001b[1;33m)\u001b[0m\u001b[1;33m\u001b[0m\u001b[1;33m\u001b[0m\u001b[0m\n\u001b[0;32m   2361\u001b[0m         \u001b[1;32mif\u001b[0m \u001b[0mp\u001b[0m\u001b[1;33m.\u001b[0m\u001b[0mget_clip_path\u001b[0m\u001b[1;33m(\u001b[0m\u001b[1;33m)\u001b[0m \u001b[1;32mis\u001b[0m \u001b[1;32mNone\u001b[0m\u001b[1;33m:\u001b[0m\u001b[1;33m\u001b[0m\u001b[1;33m\u001b[0m\u001b[0m\n\u001b[1;32m-> 2362\u001b[1;33m             \u001b[0mp\u001b[0m\u001b[1;33m.\u001b[0m\u001b[0mset_clip_path\u001b[0m\u001b[1;33m(\u001b[0m\u001b[0mself\u001b[0m\u001b[1;33m.\u001b[0m\u001b[0mpatch\u001b[0m\u001b[1;33m)\u001b[0m\u001b[1;33m\u001b[0m\u001b[1;33m\u001b[0m\u001b[0m\n\u001b[0m\u001b[0;32m   2363\u001b[0m         \u001b[0mself\u001b[0m\u001b[1;33m.\u001b[0m\u001b[0m_update_patch_limits\u001b[0m\u001b[1;33m(\u001b[0m\u001b[0mp\u001b[0m\u001b[1;33m)\u001b[0m\u001b[1;33m\u001b[0m\u001b[1;33m\u001b[0m\u001b[0m\n\u001b[0;32m   2364\u001b[0m         \u001b[0mself\u001b[0m\u001b[1;33m.\u001b[0m\u001b[0m_children\u001b[0m\u001b[1;33m.\u001b[0m\u001b[0mappend\u001b[0m\u001b[1;33m(\u001b[0m\u001b[0mp\u001b[0m\u001b[1;33m)\u001b[0m\u001b[1;33m\u001b[0m\u001b[1;33m\u001b[0m\u001b[0m\n",
            "\u001b[1;32mc:\\Users\\Jason Huang\\anaconda3\\lib\\site-packages\\matplotlib\\artist.py\u001b[0m in \u001b[0;36mset_clip_path\u001b[1;34m(self, path, transform)\u001b[0m\n\u001b[0;32m    788\u001b[0m             \u001b[1;32mif\u001b[0m \u001b[0misinstance\u001b[0m\u001b[1;33m(\u001b[0m\u001b[0mpath\u001b[0m\u001b[1;33m,\u001b[0m \u001b[0mRectangle\u001b[0m\u001b[1;33m)\u001b[0m\u001b[1;33m:\u001b[0m\u001b[1;33m\u001b[0m\u001b[1;33m\u001b[0m\u001b[0m\n\u001b[0;32m    789\u001b[0m                 self.clipbox = TransformedBbox(Bbox.unit(),\n\u001b[1;32m--> 790\u001b[1;33m                                                path.get_transform())\n\u001b[0m\u001b[0;32m    791\u001b[0m                 \u001b[0mself\u001b[0m\u001b[1;33m.\u001b[0m\u001b[0m_clippath\u001b[0m \u001b[1;33m=\u001b[0m \u001b[1;32mNone\u001b[0m\u001b[1;33m\u001b[0m\u001b[1;33m\u001b[0m\u001b[0m\n\u001b[0;32m    792\u001b[0m                 \u001b[0msuccess\u001b[0m \u001b[1;33m=\u001b[0m \u001b[1;32mTrue\u001b[0m\u001b[1;33m\u001b[0m\u001b[1;33m\u001b[0m\u001b[0m\n",
            "\u001b[1;32mc:\\Users\\Jason Huang\\anaconda3\\lib\\site-packages\\matplotlib\\patches.py\u001b[0m in \u001b[0;36mget_transform\u001b[1;34m(self)\u001b[0m\n\u001b[0;32m    276\u001b[0m     \u001b[1;32mdef\u001b[0m \u001b[0mget_transform\u001b[0m\u001b[1;33m(\u001b[0m\u001b[0mself\u001b[0m\u001b[1;33m)\u001b[0m\u001b[1;33m:\u001b[0m\u001b[1;33m\u001b[0m\u001b[1;33m\u001b[0m\u001b[0m\n\u001b[0;32m    277\u001b[0m         \u001b[1;34m\"\"\"Return the `~.transforms.Transform` applied to the `Patch`.\"\"\"\u001b[0m\u001b[1;33m\u001b[0m\u001b[1;33m\u001b[0m\u001b[0m\n\u001b[1;32m--> 278\u001b[1;33m         \u001b[1;32mreturn\u001b[0m \u001b[0mself\u001b[0m\u001b[1;33m.\u001b[0m\u001b[0mget_patch_transform\u001b[0m\u001b[1;33m(\u001b[0m\u001b[1;33m)\u001b[0m \u001b[1;33m+\u001b[0m \u001b[0martist\u001b[0m\u001b[1;33m.\u001b[0m\u001b[0mArtist\u001b[0m\u001b[1;33m.\u001b[0m\u001b[0mget_transform\u001b[0m\u001b[1;33m(\u001b[0m\u001b[0mself\u001b[0m\u001b[1;33m)\u001b[0m\u001b[1;33m\u001b[0m\u001b[1;33m\u001b[0m\u001b[0m\n\u001b[0m\u001b[0;32m    279\u001b[0m \u001b[1;33m\u001b[0m\u001b[0m\n\u001b[0;32m    280\u001b[0m     \u001b[1;32mdef\u001b[0m \u001b[0mget_data_transform\u001b[0m\u001b[1;33m(\u001b[0m\u001b[0mself\u001b[0m\u001b[1;33m)\u001b[0m\u001b[1;33m:\u001b[0m\u001b[1;33m\u001b[0m\u001b[1;33m\u001b[0m\u001b[0m\n",
            "\u001b[1;32mc:\\Users\\Jason Huang\\anaconda3\\lib\\site-packages\\matplotlib\\patches.py\u001b[0m in \u001b[0;36mget_patch_transform\u001b[1;34m(self)\u001b[0m\n\u001b[0;32m    758\u001b[0m         \u001b[0mbbox\u001b[0m \u001b[1;33m=\u001b[0m \u001b[0mself\u001b[0m\u001b[1;33m.\u001b[0m\u001b[0mget_bbox\u001b[0m\u001b[1;33m(\u001b[0m\u001b[1;33m)\u001b[0m\u001b[1;33m\u001b[0m\u001b[1;33m\u001b[0m\u001b[0m\n\u001b[0;32m    759\u001b[0m         return (transforms.BboxTransformTo(bbox)\n\u001b[1;32m--> 760\u001b[1;33m                 + transforms.Affine2D().rotate_deg_around(\n\u001b[0m\u001b[0;32m    761\u001b[0m                     bbox.x0, bbox.y0, self.angle))\n\u001b[0;32m    762\u001b[0m \u001b[1;33m\u001b[0m\u001b[0m\n",
            "\u001b[1;32mc:\\Users\\Jason Huang\\anaconda3\\lib\\site-packages\\matplotlib\\transforms.py\u001b[0m in \u001b[0;36mrotate_deg_around\u001b[1;34m(self, x, y, degrees)\u001b[0m\n\u001b[0;32m   2040\u001b[0m         \u001b[1;31m# Cast to float to avoid wraparound issues with uint8's\u001b[0m\u001b[1;33m\u001b[0m\u001b[1;33m\u001b[0m\u001b[0m\n\u001b[0;32m   2041\u001b[0m         \u001b[0mx\u001b[0m\u001b[1;33m,\u001b[0m \u001b[0my\u001b[0m \u001b[1;33m=\u001b[0m \u001b[0mfloat\u001b[0m\u001b[1;33m(\u001b[0m\u001b[0mx\u001b[0m\u001b[1;33m)\u001b[0m\u001b[1;33m,\u001b[0m \u001b[0mfloat\u001b[0m\u001b[1;33m(\u001b[0m\u001b[0my\u001b[0m\u001b[1;33m)\u001b[0m\u001b[1;33m\u001b[0m\u001b[1;33m\u001b[0m\u001b[0m\n\u001b[1;32m-> 2042\u001b[1;33m         \u001b[1;32mreturn\u001b[0m \u001b[0mself\u001b[0m\u001b[1;33m.\u001b[0m\u001b[0mtranslate\u001b[0m\u001b[1;33m(\u001b[0m\u001b[1;33m-\u001b[0m\u001b[0mx\u001b[0m\u001b[1;33m,\u001b[0m \u001b[1;33m-\u001b[0m\u001b[0my\u001b[0m\u001b[1;33m)\u001b[0m\u001b[1;33m.\u001b[0m\u001b[0mrotate_deg\u001b[0m\u001b[1;33m(\u001b[0m\u001b[0mdegrees\u001b[0m\u001b[1;33m)\u001b[0m\u001b[1;33m.\u001b[0m\u001b[0mtranslate\u001b[0m\u001b[1;33m(\u001b[0m\u001b[0mx\u001b[0m\u001b[1;33m,\u001b[0m \u001b[0my\u001b[0m\u001b[1;33m)\u001b[0m\u001b[1;33m\u001b[0m\u001b[1;33m\u001b[0m\u001b[0m\n\u001b[0m\u001b[0;32m   2043\u001b[0m \u001b[1;33m\u001b[0m\u001b[0m\n\u001b[0;32m   2044\u001b[0m     \u001b[1;32mdef\u001b[0m \u001b[0mtranslate\u001b[0m\u001b[1;33m(\u001b[0m\u001b[0mself\u001b[0m\u001b[1;33m,\u001b[0m \u001b[0mtx\u001b[0m\u001b[1;33m,\u001b[0m \u001b[0mty\u001b[0m\u001b[1;33m)\u001b[0m\u001b[1;33m:\u001b[0m\u001b[1;33m\u001b[0m\u001b[1;33m\u001b[0m\u001b[0m\n",
            "\u001b[1;32mc:\\Users\\Jason Huang\\anaconda3\\lib\\site-packages\\matplotlib\\transforms.py\u001b[0m in \u001b[0;36mrotate_deg\u001b[1;34m(self, degrees)\u001b[0m\n\u001b[0;32m   2018\u001b[0m         \u001b[1;32mand\u001b[0m \u001b[1;33m:\u001b[0m\u001b[0mmeth\u001b[0m\u001b[1;33m:\u001b[0m\u001b[0;31m`\u001b[0m\u001b[0mscale\u001b[0m\u001b[0;31m`\u001b[0m\u001b[1;33m.\u001b[0m\u001b[1;33m\u001b[0m\u001b[1;33m\u001b[0m\u001b[0m\n\u001b[0;32m   2019\u001b[0m         \"\"\"\n\u001b[1;32m-> 2020\u001b[1;33m         \u001b[1;32mreturn\u001b[0m \u001b[0mself\u001b[0m\u001b[1;33m.\u001b[0m\u001b[0mrotate\u001b[0m\u001b[1;33m(\u001b[0m\u001b[0mmath\u001b[0m\u001b[1;33m.\u001b[0m\u001b[0mradians\u001b[0m\u001b[1;33m(\u001b[0m\u001b[0mdegrees\u001b[0m\u001b[1;33m)\u001b[0m\u001b[1;33m)\u001b[0m\u001b[1;33m\u001b[0m\u001b[1;33m\u001b[0m\u001b[0m\n\u001b[0m\u001b[0;32m   2021\u001b[0m \u001b[1;33m\u001b[0m\u001b[0m\n\u001b[0;32m   2022\u001b[0m     \u001b[1;32mdef\u001b[0m \u001b[0mrotate_around\u001b[0m\u001b[1;33m(\u001b[0m\u001b[0mself\u001b[0m\u001b[1;33m,\u001b[0m \u001b[0mx\u001b[0m\u001b[1;33m,\u001b[0m \u001b[0my\u001b[0m\u001b[1;33m,\u001b[0m \u001b[0mtheta\u001b[0m\u001b[1;33m)\u001b[0m\u001b[1;33m:\u001b[0m\u001b[1;33m\u001b[0m\u001b[1;33m\u001b[0m\u001b[0m\n",
            "\u001b[1;32mc:\\Users\\Jason Huang\\anaconda3\\lib\\site-packages\\matplotlib\\transforms.py\u001b[0m in \u001b[0;36mrotate\u001b[1;34m(self, theta)\u001b[0m\n\u001b[0;32m   2006\u001b[0m         rotate_mtx = np.array([[a, -b, 0.0], [b, a, 0.0], [0.0, 0.0, 1.0]],\n\u001b[0;32m   2007\u001b[0m                               float)\n\u001b[1;32m-> 2008\u001b[1;33m         \u001b[0mself\u001b[0m\u001b[1;33m.\u001b[0m\u001b[0m_mtx\u001b[0m \u001b[1;33m=\u001b[0m \u001b[0mnp\u001b[0m\u001b[1;33m.\u001b[0m\u001b[0mdot\u001b[0m\u001b[1;33m(\u001b[0m\u001b[0mrotate_mtx\u001b[0m\u001b[1;33m,\u001b[0m \u001b[0mself\u001b[0m\u001b[1;33m.\u001b[0m\u001b[0m_mtx\u001b[0m\u001b[1;33m)\u001b[0m\u001b[1;33m\u001b[0m\u001b[1;33m\u001b[0m\u001b[0m\n\u001b[0m\u001b[0;32m   2009\u001b[0m         \u001b[0mself\u001b[0m\u001b[1;33m.\u001b[0m\u001b[0minvalidate\u001b[0m\u001b[1;33m(\u001b[0m\u001b[1;33m)\u001b[0m\u001b[1;33m\u001b[0m\u001b[1;33m\u001b[0m\u001b[0m\n\u001b[0;32m   2010\u001b[0m         \u001b[1;32mreturn\u001b[0m \u001b[0mself\u001b[0m\u001b[1;33m\u001b[0m\u001b[1;33m\u001b[0m\u001b[0m\n",
            "\u001b[1;32m<__array_function__ internals>\u001b[0m in \u001b[0;36mdot\u001b[1;34m(*args, **kwargs)\u001b[0m\n",
            "\u001b[1;31mKeyboardInterrupt\u001b[0m: "
          ]
        },
        {
          "data": {
            "image/png": "[encoded data removed]",
            "text/plain": [
              "<Figure size 640x480 with 1 Axes>"
            ]
          },
          "metadata": {},
          "output_type": "display_data"
        }
      ],
      "source": [
        "## points distribution\n",
        "sns.distplot(nba_final['home_points'])"
      ]
    },
    {
      "cell_type": "markdown",
      "metadata": {
        "colab_type": "text",
        "id": "BfwXD0rL9Pzg"
      },
      "source": [
        "##### Our correlations all seem logical with the away team win total and the home team loss total being the strongest negative correlation to a home win -- essentially representing which team has had more success so far that season."
      ]
    },
    {
      "cell_type": "code",
      "execution_count": null,
      "metadata": {
        "colab": {},
        "colab_type": "code",
        "id": "tQVx5bzo6bM8"
      },
      "outputs": [],
      "source": [
        "## get correlations to win\n",
        "winCorr = nba_final.corr()['homeWin'].sort_values(ascending=False)"
      ]
    },
    {
      "cell_type": "code",
      "execution_count": null,
      "metadata": {
        "colab": {
          "base_uri": "https://localhost:8080/",
          "height": 204
        },
        "colab_type": "code",
        "id": "hiPoLjax6yBM",
        "outputId": "aef381d4-063a-4e6a-e2a0-60389b028a35"
      },
      "outputs": [
        {
          "data": {
            "text/plain": [
              "homeWin                                 1.000000\n",
              "home_offensive_rating                   0.185224\n",
              "home_true_shooting_percentage           0.156541\n",
              "home_effective_field_goal_percentage    0.151229\n",
              "home_points                             0.147727\n",
              "away_losses                             0.142922\n",
              "home_total_rebound_percentage           0.136997\n",
              "home_wins                               0.131149\n",
              "away_defensive_rating                   0.096225\n",
              "home_three_point_attempt_rate           0.078068\n",
              "Name: homeWin, dtype: float64"
            ]
          },
          "execution_count": 48,
          "metadata": {},
          "output_type": "execute_result"
        }
      ],
      "source": [
        "## top 10 correlations to home win\n",
        "winCorr.head(10)"
      ]
    },
    {
      "cell_type": "code",
      "execution_count": null,
      "metadata": {
        "colab": {
          "base_uri": "https://localhost:8080/",
          "height": 204
        },
        "colab_type": "code",
        "id": "zqov0n-p69AP",
        "outputId": "b43dc9ac-5236-4ace-d743-c4a08429dcdc"
      },
      "outputs": [
        {
          "data": {
            "text/plain": [
              "away_three_point_field_goals    -0.083418\n",
              "away_true_shooting_percentage   -0.084823\n",
              "away_points                     -0.087323\n",
              "away_offensive_rating           -0.088623\n",
              "home_defensive_rating           -0.097847\n",
              "home_blocks                     -0.120913\n",
              "home_total_rebounds             -0.124455\n",
              "home_defensive_rebounds         -0.127223\n",
              "away_wins                       -0.138545\n",
              "home_losses                     -0.203298\n",
              "Name: homeWin, dtype: float64"
            ]
          },
          "execution_count": 49,
          "metadata": {},
          "output_type": "execute_result"
        }
      ],
      "source": [
        "## bottom 10 correlations to home win\n",
        "winCorr.tail(10)"
      ]
    },
    {
      "cell_type": "code",
      "execution_count": null,
      "metadata": {
        "colab": {
          "base_uri": "https://localhost:8080/",
          "height": 806
        },
        "colab_type": "code",
        "id": "qwqU9NOK7CpZ",
        "outputId": "b2350a8c-136e-41b2-9733-fa8bd868187b"
      },
      "outputs": [
        {
          "data": {
            "text/plain": [
              "<AxesSubplot:>"
            ]
          },
          "execution_count": 50,
          "metadata": {},
          "output_type": "execute_result"
        },
        {
          "data": {
            "image/png": "[encoded data removed]",
            "text/plain": [
              "<Figure size 1500x1000 with 3 Axes>"
            ]
          },
          "metadata": {},
          "output_type": "display_data"
        }
      ],
      "source": [
        "# Correlation heatmap\n",
        "plt.subplots(figsize=(15,10))\n",
        "ax = plt.axes()\n",
        "corr = nba_final.corr()\n",
        "sns.heatmap(corr,cmap = \"Blues\")"
      ]
    },
    {
      "cell_type": "markdown",
      "metadata": {
        "colab_type": "text",
        "id": "PFApfdVx-6xr"
      },
      "source": [
        "##### We have high collinearity among some of our features, mostly in cases where there's a total and a percentage value for one statistic. If we we're going to build a regression model we'd need to address this, but for our classifier, it shouldn't impact predictive performance."
      ]
    },
    {
      "cell_type": "code",
      "execution_count": null,
      "metadata": {
        "colab": {
          "base_uri": "https://localhost:8080/",
          "height": 459
        },
        "colab_type": "code",
        "id": "zfvazXaZ7vfl",
        "outputId": "fede8761-0860-4d18-e8e8-1da82e7ca9ee"
      },
      "outputs": [
        {
          "data": {
            "text/plain": [
              "away_assist_percentage                away_assist_percentage                  1.000000\n",
              "away_steal_percentage                 away_steals                             0.984256\n",
              "away_turnover_percentage              away_turnovers                          0.966290\n",
              "away_free_throw_attempt_rate          away_free_throw_attempts                0.965782\n",
              "home_effective_field_goal_percentage  home_true_shooting_percentage           0.964337\n",
              "away_effective_field_goal_percentage  away_true_shooting_percentage           0.962943\n",
              "away_three_point_attempt_rate         away_three_point_field_goal_attempts    0.955601\n",
              "away_blocks                           away_block_percentage                   0.941173\n",
              "home_free_throw_attempts              home_free_throws                        0.935080\n",
              "away_field_goal_percentage            away_effective_field_goal_percentage    0.935055\n",
              "away_free_throws                      away_free_throw_attempts                0.929422\n",
              "away_offensive_rebound_percentage     away_offensive_rebounds                 0.921856\n",
              "away_free_throws                      away_free_throw_attempt_rate            0.905574\n",
              "away_true_shooting_percentage         away_field_goal_percentage              0.904959\n",
              "away_points                           away_field_goals                        0.848261\n",
              "home_offensive_rating                 home_true_shooting_percentage           0.846469\n",
              "away_points                           away_offensive_rating                   0.845379\n",
              "away_true_shooting_percentage         away_offensive_rating                   0.843891\n",
              "home_points                           home_offensive_rating                   0.842823\n",
              "home_total_rebounds                   home_defensive_rebounds                 0.840955\n",
              "away_defensive_rebounds               away_total_rebounds                     0.836379\n",
              "away_assist_percentage                away_assists                            0.831216\n",
              "home_offensive_rating                 home_effective_field_goal_percentage    0.810967\n",
              "away_offensive_rating                 away_effective_field_goal_percentage    0.810077\n",
              "home_two_point_field_goal_percentage  home_field_goal_percentage              0.809115\n",
              "dtype: float64"
            ]
          },
          "execution_count": 51,
          "metadata": {},
          "output_type": "execute_result"
        }
      ],
      "source": [
        "## list of the top 25 positive correlations\n",
        "top25_corr_pos = nba_final.corr().unstack().sort_values(ascending=False).drop_duplicates()\n",
        "top25_corr_pos.head(25)"
      ]
    },
    {
      "cell_type": "code",
      "execution_count": null,
      "metadata": {
        "colab": {
          "base_uri": "https://localhost:8080/",
          "height": 459
        },
        "colab_type": "code",
        "id": "q9bj3Zli-JVQ",
        "outputId": "4425f47e-a10e-4e6a-eefd-210aa44cc57b"
      },
      "outputs": [
        {
          "data": {
            "text/plain": [
              "home_defensive_rebound_percentage     home_offensive_rebounds                -0.910098\n",
              "away_two_point_field_goal_attempts    away_three_point_attempt_rate          -0.874806\n",
              "homeOdds                              awayOdds                               -0.870390\n",
              "away_two_point_field_goal_attempts    away_three_point_field_goal_attempts   -0.699835\n",
              "home_total_rebound_percentage         home_total_rebounds                    -0.687128\n",
              "home_defensive_rebounds               home_true_shooting_percentage          -0.635123\n",
              "away_two_point_field_goals            away_three_point_attempt_rate          -0.621524\n",
              "away_three_point_field_goals          away_two_point_field_goal_attempts     -0.612659\n",
              "home_effective_field_goal_percentage  home_defensive_rebounds                -0.603563\n",
              "home_offensive_rating                 home_defensive_rebounds                -0.588364\n",
              "home_three_point_field_goal_attempts  home_two_point_field_goal_attempts     -0.548963\n",
              "away_defensive_rating                 away_defensive_rebounds                -0.547944\n",
              "home_defensive_rebounds               home_total_rebound_percentage          -0.547006\n",
              "away_three_point_field_goal_attempts  away_two_point_field_goals             -0.490052\n",
              "home_true_shooting_percentage         home_total_rebounds                    -0.479735\n",
              "home_two_point_field_goal_attempts    home_three_point_field_goals           -0.468607\n",
              "away_field_goal_attempts              away_turnover_percentage               -0.462304\n",
              "home_effective_field_goal_percentage  home_total_rebounds                    -0.460501\n",
              "away_three_point_field_goals          away_two_point_field_goals             -0.455393\n",
              "home_total_rebounds                   home_offensive_rating                  -0.448442\n",
              "home_defensive_rebound_percentage     home_total_rebounds                    -0.447166\n",
              "home_offensive_rebound_percentage     home_defensive_rebounds                -0.433218\n",
              "away_defensive_rating                 away_total_rebounds                    -0.419978\n",
              "home_offensive_rebounds               home_total_rebound_percentage          -0.419507\n",
              "home_total_rebounds                   home_offensive_rebound_percentage      -0.380943\n",
              "dtype: float64"
            ]
          },
          "execution_count": 52,
          "metadata": {},
          "output_type": "execute_result"
        }
      ],
      "source": [
        "## list of the top 25 negative correlations\n",
        "top25_corr_neg = nba_final.corr().unstack().sort_values().drop_duplicates()\n",
        "top25_corr_neg.head(25)"
      ]
    },
    {
      "cell_type": "markdown",
      "metadata": {
        "colab_type": "text",
        "id": "Bmgk_6qWBzMZ"
      },
      "source": [
        "## Feature Selection\n",
        "Here I'll scale our features and reduce dimensionality before moving on to creating models. We'll use the robust scalar from sklearn because it can deal with positive and negative numbers and is robust to outliers, both of which we'll need mostly for our money line feature."
      ]
    },
    {
      "cell_type": "code",
      "execution_count": null,
      "metadata": {
        "colab": {},
        "colab_type": "code",
        "id": "D4WrKZhDB-6d"
      },
      "outputs": [],
      "source": [
        "## create list of features\n",
        "excluded_from_avg = ['home_wins', 'home_losses', 'away_wins','away_losses','awayOdds','homeOdds']\n",
        "features = away_cols + home_cols + excluded_from_avg"
      ]
    },
    {
      "cell_type": "code",
      "execution_count": null,
      "metadata": {
        "colab": {},
        "colab_type": "code",
        "id": "pKJoiqgM-nL3"
      },
      "outputs": [],
      "source": [
        "## declare features\n",
        "x = nba_final[features]\n",
        "## declare target variable\n",
        "y = nba_final['homeWin']"
      ]
    },
    {
      "cell_type": "code",
      "execution_count": null,
      "metadata": {
        "colab": {},
        "colab_type": "code",
        "id": "RsZVxgqbC40F"
      },
      "outputs": [],
      "source": [
        "## scale the features\n",
        "scaler = RobustScaler()\n",
        "x_scaled = scaler.fit_transform(x)"
      ]
    },
    {
      "cell_type": "markdown",
      "metadata": {
        "colab_type": "text",
        "id": "EtTmvT5XH30-"
      },
      "source": [
        "According to our PCA below, ~35 features explain almost all of the variance. Let's keep 40 features to be safe."
      ]
    },
    {
      "cell_type": "code",
      "execution_count": null,
      "metadata": {
        "colab": {
          "base_uri": "https://localhost:8080/",
          "height": 0
        },
        "colab_type": "code",
        "id": "WYLtZtSVHrKN",
        "outputId": "9bc5f3ff-d4eb-4345-dade-7cbe964cee59"
      },
      "outputs": [
        {
          "data": {
            "image/png": "[encoded data removed]",
            "text/plain": [
              "<Figure size 640x480 with 1 Axes>"
            ]
          },
          "metadata": {},
          "output_type": "display_data"
        }
      ],
      "source": [
        "#Fitting the PCA algorithm with our Data\n",
        "pca = PCA().fit(x_scaled)\n",
        "#Plotting the Cumulative Summation of the Explained Variance\n",
        "plt.figure()\n",
        "plt.plot(np.cumsum(pca.explained_variance_ratio_))\n",
        "plt.xlabel('Number of Components')\n",
        "plt.ylabel('Variance (%)') #for each component\n",
        "plt.title('Explained Variance')\n",
        "plt.show()"
      ]
    },
    {
      "cell_type": "code",
      "execution_count": null,
      "metadata": {
        "colab": {},
        "colab_type": "code",
        "id": "HAyt7p8aHzxI"
      },
      "outputs": [],
      "source": [
        "## keep 40 components\n",
        "x_pca = PCA(40).fit_transform(x_scaled)"
      ]
    },
    {
      "cell_type": "code",
      "execution_count": null,
      "metadata": {},
      "outputs": [
        {
          "data": {
            "text/plain": [
              "(2251, 40)"
            ]
          },
          "execution_count": 58,
          "metadata": {},
          "output_type": "execute_result"
        }
      ],
      "source": [
        "x_pca.shape"
      ]
    },
    {
      "cell_type": "markdown",
      "metadata": {
        "colab_type": "text",
        "id": "JuqTgXL8IBHe"
      },
      "source": [
        "## Let's Build Some Models!\n",
        "We'll compare them using the f1 score from sklearn to describe their accuracy."
      ]
    },
    {
      "cell_type": "code",
      "execution_count": null,
      "metadata": {
        "colab": {},
        "colab_type": "code",
        "id": "zfnng58hH_RX"
      },
      "outputs": [],
      "source": [
        "## create our model accuracy scorer\n",
        "scorer = make_scorer(f1_score, pos_label=None, average='weighted')"
      ]
    },
    {
      "cell_type": "markdown",
      "metadata": {
        "colab_type": "text",
        "id": "f16jN4SaIL5M"
      },
      "source": [
        "#### Naive Bayes"
      ]
    },
    {
      "cell_type": "code",
      "execution_count": null,
      "metadata": {
        "colab": {},
        "colab_type": "code",
        "id": "NhjSWvcCII3o"
      },
      "outputs": [],
      "source": [
        "# Our data is continuous, so we'll use the Gaussian Classifier \n",
        "from sklearn.naive_bayes import GaussianNB\n",
        "gnb = GaussianNB()"
      ]
    },
    {
      "cell_type": "code",
      "execution_count": null,
      "metadata": {
        "colab": {
          "base_uri": "https://localhost:8080/",
          "height": 34
        },
        "colab_type": "code",
        "id": "KCFhg_yfIOet",
        "outputId": "0bf1394d-2a8e-4801-a680-198aed6dbb41"
      },
      "outputs": [
        {
          "name": "stdout",
          "output_type": "stream",
          "text": [
            "Average Gaussian NB F1: 0.6510273839589721\n"
          ]
        }
      ],
      "source": [
        "## print score\n",
        "print('Average Gaussian NB F1: {}'.format((cross_val_score(gnb, x_pca, y, scoring=scorer)).mean()))"
      ]
    },
    {
      "cell_type": "markdown",
      "metadata": {
        "colab_type": "text",
        "id": "8ukNkLIXISob"
      },
      "source": [
        "#### Decision Tree"
      ]
    },
    {
      "cell_type": "code",
      "execution_count": null,
      "metadata": {
        "colab": {},
        "colab_type": "code",
        "id": "978xUZaqIQEV"
      },
      "outputs": [],
      "source": [
        "from sklearn import tree\n",
        "clf = tree.DecisionTreeClassifier()"
      ]
    },
    {
      "cell_type": "code",
      "execution_count": null,
      "metadata": {
        "colab": {
          "base_uri": "https://localhost:8080/",
          "height": 34
        },
        "colab_type": "code",
        "id": "i4kRyP9jIVME",
        "outputId": "15557bd0-5d3b-492e-fa81-e176c3cba967"
      },
      "outputs": [
        {
          "name": "stdout",
          "output_type": "stream",
          "text": [
            "Average Decision Tree F1: 0.5554626057925109\n"
          ]
        }
      ],
      "source": [
        "## print score\n",
        "print('Average Decision Tree F1: {}'.format((cross_val_score(clf, x_pca, y, scoring=scorer)).mean()))"
      ]
    },
    {
      "cell_type": "markdown",
      "metadata": {
        "colab_type": "text",
        "id": "4AtRbSZwIauS"
      },
      "source": [
        "#### Random Forest"
      ]
    },
    {
      "cell_type": "code",
      "execution_count": null,
      "metadata": {
        "colab": {},
        "colab_type": "code",
        "id": "nPiMnIRZIWRC"
      },
      "outputs": [],
      "source": [
        "from sklearn import ensemble\n",
        "rfc = ensemble.RandomForestClassifier()"
      ]
    },
    {
      "cell_type": "code",
      "execution_count": null,
      "metadata": {
        "colab": {
          "base_uri": "https://localhost:8080/",
          "height": 34
        },
        "colab_type": "code",
        "id": "v5WuXOnNIcQe",
        "outputId": "e86d17d9-cf80-47eb-f834-a1a2e985ace7"
      },
      "outputs": [
        {
          "name": "stdout",
          "output_type": "stream",
          "text": [
            "Average Random Forest F1 score: 0.6378463075477434\n"
          ]
        }
      ],
      "source": [
        "## print score\n",
        "print('Average Random Forest F1 score: {}'.format((cross_val_score(rfc, x_pca, y, scoring=scorer)).mean()))"
      ]
    },
    {
      "cell_type": "markdown",
      "metadata": {
        "colab_type": "text",
        "id": "ssHQ-FaSIhJ0"
      },
      "source": [
        "#### KNN"
      ]
    },
    {
      "cell_type": "code",
      "execution_count": null,
      "metadata": {
        "colab": {},
        "colab_type": "code",
        "id": "fE61LpbcId9Q"
      },
      "outputs": [],
      "source": [
        "from sklearn.neighbors import KNeighborsClassifier\n",
        "neighbors = KNeighborsClassifier(n_neighbors=3)"
      ]
    },
    {
      "cell_type": "code",
      "execution_count": null,
      "metadata": {
        "colab": {
          "base_uri": "https://localhost:8080/",
          "height": 0
        },
        "colab_type": "code",
        "id": "ozRBDOG8IjYL",
        "outputId": "e8572045-c16a-4ffb-8cb3-618fe1d65498"
      },
      "outputs": [
        {
          "name": "stdout",
          "output_type": "stream",
          "text": [
            "Average KNN F1 score: 0.5553087086648063\n"
          ]
        },
        {
          "name": "stderr",
          "output_type": "stream",
          "text": [
            "c:\\Users\\Jason Huang\\anaconda3\\lib\\site-packages\\sklearn\\neighbors\\_classification.py:228: FutureWarning: Unlike other reduction functions (e.g. `skew`, `kurtosis`), the default behavior of `mode` typically preserves the axis it acts along. In SciPy 1.11.0, this behavior will change: the default value of `keepdims` will become False, the `axis` over which the statistic is taken will be eliminated, and the value None will no longer be accepted. Set `keepdims` to True or False to avoid this warning.\n",
            "  mode, _ = stats.mode(_y[neigh_ind, k], axis=1)\n",
            "c:\\Users\\Jason Huang\\anaconda3\\lib\\site-packages\\sklearn\\neighbors\\_classification.py:228: FutureWarning: Unlike other reduction functions (e.g. `skew`, `kurtosis`), the default behavior of `mode` typically preserves the axis it acts along. In SciPy 1.11.0, this behavior will change: the default value of `keepdims` will become False, the `axis` over which the statistic is taken will be eliminated, and the value None will no longer be accepted. Set `keepdims` to True or False to avoid this warning.\n",
            "  mode, _ = stats.mode(_y[neigh_ind, k], axis=1)\n",
            "c:\\Users\\Jason Huang\\anaconda3\\lib\\site-packages\\sklearn\\neighbors\\_classification.py:228: FutureWarning: Unlike other reduction functions (e.g. `skew`, `kurtosis`), the default behavior of `mode` typically preserves the axis it acts along. In SciPy 1.11.0, this behavior will change: the default value of `keepdims` will become False, the `axis` over which the statistic is taken will be eliminated, and the value None will no longer be accepted. Set `keepdims` to True or False to avoid this warning.\n",
            "  mode, _ = stats.mode(_y[neigh_ind, k], axis=1)\n",
            "c:\\Users\\Jason Huang\\anaconda3\\lib\\site-packages\\sklearn\\neighbors\\_classification.py:228: FutureWarning: Unlike other reduction functions (e.g. `skew`, `kurtosis`), the default behavior of `mode` typically preserves the axis it acts along. In SciPy 1.11.0, this behavior will change: the default value of `keepdims` will become False, the `axis` over which the statistic is taken will be eliminated, and the value None will no longer be accepted. Set `keepdims` to True or False to avoid this warning.\n",
            "  mode, _ = stats.mode(_y[neigh_ind, k], axis=1)\n",
            "c:\\Users\\Jason Huang\\anaconda3\\lib\\site-packages\\sklearn\\neighbors\\_classification.py:228: FutureWarning: Unlike other reduction functions (e.g. `skew`, `kurtosis`), the default behavior of `mode` typically preserves the axis it acts along. In SciPy 1.11.0, this behavior will change: the default value of `keepdims` will become False, the `axis` over which the statistic is taken will be eliminated, and the value None will no longer be accepted. Set `keepdims` to True or False to avoid this warning.\n",
            "  mode, _ = stats.mode(_y[neigh_ind, k], axis=1)\n"
          ]
        }
      ],
      "source": [
        "## print score\n",
        "print('Average KNN F1 score: {}'.format((cross_val_score(neighbors, x_pca, y, scoring=scorer)).mean()))"
      ]
    },
    {
      "cell_type": "markdown",
      "metadata": {
        "colab_type": "text",
        "id": "Deb1pj7GIoXO"
      },
      "source": [
        "#### Multi-layer Perceptron"
      ]
    },
    {
      "cell_type": "code",
      "execution_count": null,
      "metadata": {
        "colab": {},
        "colab_type": "code",
        "id": "V_Op5p5RIklK"
      },
      "outputs": [],
      "source": [
        "from sklearn.neural_network import MLPClassifier"
      ]
    },
    {
      "cell_type": "code",
      "execution_count": null,
      "metadata": {
        "colab": {},
        "colab_type": "code",
        "id": "VYXXaTrWIqfB"
      },
      "outputs": [],
      "source": [
        "# Establish and fit the model, with a single, 100 perceptron layer.\n",
        "mlp100 = MLPClassifier(hidden_layer_sizes=(100,))\n",
        "mlp1000 = MLPClassifier(hidden_layer_sizes=(1000,))"
      ]
    },
    {
      "cell_type": "code",
      "execution_count": null,
      "metadata": {
        "colab": {
          "base_uri": "https://localhost:8080/",
          "height": 156
        },
        "colab_type": "code",
        "id": "EITaWUm1Ir1H",
        "outputId": "56dcbf96-9d72-478a-de49-43624f9fa4cf"
      },
      "outputs": [
        {
          "name": "stderr",
          "output_type": "stream",
          "text": [
            "c:\\Users\\Jason Huang\\anaconda3\\lib\\site-packages\\sklearn\\neural_network\\_multilayer_perceptron.py:692: ConvergenceWarning: Stochastic Optimizer: Maximum iterations (200) reached and the optimization hasn't converged yet.\n",
            "  warnings.warn(\n",
            "c:\\Users\\Jason Huang\\anaconda3\\lib\\site-packages\\sklearn\\neural_network\\_multilayer_perceptron.py:692: ConvergenceWarning: Stochastic Optimizer: Maximum iterations (200) reached and the optimization hasn't converged yet.\n",
            "  warnings.warn(\n",
            "c:\\Users\\Jason Huang\\anaconda3\\lib\\site-packages\\sklearn\\neural_network\\_multilayer_perceptron.py:692: ConvergenceWarning: Stochastic Optimizer: Maximum iterations (200) reached and the optimization hasn't converged yet.\n",
            "  warnings.warn(\n",
            "c:\\Users\\Jason Huang\\anaconda3\\lib\\site-packages\\sklearn\\neural_network\\_multilayer_perceptron.py:692: ConvergenceWarning: Stochastic Optimizer: Maximum iterations (200) reached and the optimization hasn't converged yet.\n",
            "  warnings.warn(\n"
          ]
        },
        {
          "name": "stdout",
          "output_type": "stream",
          "text": [
            "Average MLP100 F1 score: 0.6383312110627002\n"
          ]
        }
      ],
      "source": [
        "## print score\n",
        "print('Average MLP100 F1 score: {}'.format((cross_val_score(mlp100, x_pca, y, scoring=scorer)).mean()))"
      ]
    },
    {
      "cell_type": "code",
      "execution_count": null,
      "metadata": {
        "colab": {
          "base_uri": "https://localhost:8080/",
          "height": 88
        },
        "colab_type": "code",
        "id": "fsoOTuOD8BaV",
        "outputId": "b7acb949-2592-4362-ee45-7a2db8da9379"
      },
      "outputs": [
        {
          "name": "stderr",
          "output_type": "stream",
          "text": [
            "c:\\Users\\Jason Huang\\anaconda3\\lib\\site-packages\\sklearn\\neural_network\\_multilayer_perceptron.py:692: ConvergenceWarning: Stochastic Optimizer: Maximum iterations (200) reached and the optimization hasn't converged yet.\n",
            "  warnings.warn(\n"
          ]
        },
        {
          "name": "stdout",
          "output_type": "stream",
          "text": [
            "Average MLP1000 F1 score: 0.6491018580484844\n"
          ]
        }
      ],
      "source": [
        "## print score\n",
        "print('Average MLP1000 F1 score: {}'.format((cross_val_score(mlp1000, x_pca, y, scoring=scorer)).mean()))"
      ]
    },
    {
      "cell_type": "markdown",
      "metadata": {
        "colab_type": "text",
        "id": "zodicQOw9_lS"
      },
      "source": [
        "# Model Performance\n",
        "The Naive Bayes model was the most accurate at 65%, with random forest and the MLP neural network just under that. Moving forward I'll continue to tinker these three models to try to boost performance, but we're at an acceptable level of prediction power to begin the real test, which is to apply our predictions to the current NBA season, and calculate how much money our model would (hopefully) win with an equal bet on each game.\n",
        "\n",
        "I think the simple Naive Bayes model is performing better than others because of our limited sample size. I believe this is the same reason why the TensorFlow NN is underperforming. Unfortunately, even adding more seasons to our training data wouldn't improve performance, because the NBA game has been changing so rapidly in style of play, that these data available from three seasons ago and beyond lose relevance to predicting the winner."
      ]
    },
    {
      "cell_type": "markdown",
      "metadata": {},
      "source": [
        "## My Own implementation - Transformer Classifier"
      ]
    },
    {
      "cell_type": "code",
      "execution_count": null,
      "metadata": {},
      "outputs": [],
      "source": []
    },
    {
      "cell_type": "code",
      "execution_count": null,
      "metadata": {},
      "outputs": [],
      "source": [
        "import torch\n",
        "import torch.nn as nn\n",
        "import torch.nn.functional as F\n",
        "\n",
        "class PositionalEncoding(nn.Module):\n",
        "    def __init__(self, d_model, max_len=5000):\n",
        "        super(PositionalEncoding, self).__init__()\n",
        "        pe = torch.zeros(max_len, d_model)\n",
        "        position = torch.arange(0, max_len, dtype=torch.float).unsqueeze(1)\n",
        "        div_term = torch.exp(torch.arange(0, d_model, 2).float() * (-torch.log(torch.tensor(10000.0)) / d_model))\n",
        "        pe[:, 0::2] = torch.sin(position * div_term)\n",
        "        pe[:, 1::2] = torch.cos(position * div_term)\n",
        "        pe = pe.unsqueeze(0).transpose(0, 1)\n",
        "        self.register_buffer('pe', pe)\n",
        "\n",
        "    def forward(self, x):\n",
        "        x = x + self.pe[:x.size(0), :]\n",
        "        return x\n",
        "\n",
        "class TransformerClassifier(nn.Module):\n",
        "    def __init__(self, num_features, num_classes, dim_model=64, num_heads=4, num_layers=3, dropout=0.1):\n",
        "        super(TransformerClassifier, self).__init__()\n",
        "        self.linear_in = nn.Linear(num_features, dim_model)\n",
        "        self.pos_encoder = PositionalEncoding(dim_model)\n",
        "        encoder_layers = nn.TransformerEncoderLayer(d_model=dim_model, nhead=num_heads, dropout=dropout)\n",
        "        self.transformer_encoder = nn.TransformerEncoder(encoder_layers, num_layers=num_layers)\n",
        "        self.linear_out = nn.Linear(dim_model, num_classes)\n",
        "\n",
        "    def forward(self, x):\n",
        "        x = self.linear_in(x)\n",
        "        x = self.pos_encoder(x)\n",
        "        x = self.transformer_encoder(x)\n",
        "        x = x.mean(dim=1)\n",
        "        x = self.linear_out(x)\n",
        "        return x\n",
        "\n",
        "\n"
      ]
    },
    {
      "cell_type": "code",
      "execution_count": null,
      "metadata": {},
      "outputs": [],
      "source": [
        "# Function to calculate accuracy\n",
        "def calculate_accuracy(y_true, y_pred):\n",
        "    predicted = torch.argmax(y_pred, dim=1)\n",
        "    correct = (predicted == y_true).float().sum()\n",
        "    return correct / y_true.shape[0]"
      ]
    },
    {
      "cell_type": "code",
      "execution_count": null,
      "metadata": {},
      "outputs": [
        {
          "name": "stdout",
          "output_type": "stream",
          "text": [
            "torch.float64\n",
            "Using device: cuda\n",
            "Epoch 1/30, Loss: 0.8858, Accuracy: 0.5455, Precision: 0.5831, Recall: 0.7020, F1 Score: 0.6371\n",
            "Epoch 2/30, Loss: 0.6809, Accuracy: 0.6364, Precision: 0.5860, Recall: 1.0000, F1 Score: 0.7389\n",
            "Epoch 3/30, Loss: 0.6813, Accuracy: 0.6364, Precision: 0.5860, Recall: 1.0000, F1 Score: 0.7389\n",
            "Epoch 4/30, Loss: 0.6834, Accuracy: 0.4545, Precision: 0.5853, Recall: 0.9750, F1 Score: 0.7315\n",
            "Epoch 5/30, Loss: 0.6890, Accuracy: 0.3636, Precision: 0.5811, Recall: 0.8961, F1 Score: 0.7050\n",
            "Epoch 6/30, Loss: 0.6906, Accuracy: 0.5455, Precision: 0.5828, Recall: 0.8673, F1 Score: 0.6971\n",
            "Epoch 7/30, Loss: 0.6820, Accuracy: 0.5455, Precision: 0.5858, Recall: 0.9992, F1 Score: 0.7386\n",
            "Epoch 8/30, Loss: 0.6809, Accuracy: 0.8182, Precision: 0.5872, Recall: 0.9568, F1 Score: 0.7278\n",
            "Epoch 9/30, Loss: 0.6913, Accuracy: 0.5455, Precision: 0.5832, Recall: 0.8825, F1 Score: 0.7023\n",
            "Epoch 10/30, Loss: 0.6835, Accuracy: 0.5455, Precision: 0.5860, Recall: 1.0000, F1 Score: 0.7389\n",
            "Epoch 11/30, Loss: 0.6867, Accuracy: 0.5455, Precision: 0.5819, Recall: 0.9189, F1 Score: 0.7125\n",
            "Epoch 12/30, Loss: 0.6943, Accuracy: 0.6364, Precision: 0.5835, Recall: 0.8688, F1 Score: 0.6981\n",
            "Epoch 13/30, Loss: 0.6843, Accuracy: 0.7273, Precision: 0.5888, Recall: 0.9598, F1 Score: 0.7299\n",
            "Epoch 14/30, Loss: 0.7075, Accuracy: 0.3636, Precision: 0.5818, Recall: 0.8658, F1 Score: 0.6959\n",
            "Epoch 15/30, Loss: 0.6882, Accuracy: 0.6364, Precision: 0.5958, Recall: 0.9151, F1 Score: 0.7217\n",
            "Epoch 16/30, Loss: 0.6887, Accuracy: 0.8182, Precision: 0.5864, Recall: 0.9363, F1 Score: 0.7212\n",
            "Epoch 17/30, Loss: 0.6957, Accuracy: 0.5455, Precision: 0.5847, Recall: 0.8135, F1 Score: 0.6804\n",
            "Epoch 18/30, Loss: 0.6872, Accuracy: 0.5455, Precision: 0.5844, Recall: 0.9712, F1 Score: 0.7297\n",
            "Epoch 19/30, Loss: 0.6918, Accuracy: 0.4545, Precision: 0.5892, Recall: 0.8635, F1 Score: 0.7005\n",
            "Epoch 20/30, Loss: 0.6907, Accuracy: 0.5455, Precision: 0.5841, Recall: 0.9212, F1 Score: 0.7149\n",
            "Epoch 21/30, Loss: 0.6834, Accuracy: 0.4545, Precision: 0.5891, Recall: 0.9196, F1 Score: 0.7182\n",
            "Epoch 22/30, Loss: 0.6915, Accuracy: 0.5455, Precision: 0.5863, Recall: 0.9530, F1 Score: 0.7260\n",
            "Epoch 23/30, Loss: 0.7168, Accuracy: 0.5455, Precision: 0.5910, Recall: 0.7089, F1 Score: 0.6446\n",
            "Epoch 24/30, Loss: 0.6873, Accuracy: 0.6364, Precision: 0.5839, Recall: 0.9393, F1 Score: 0.7201\n",
            "Epoch 25/30, Loss: 0.6931, Accuracy: 0.6364, Precision: 0.5834, Recall: 0.8802, F1 Score: 0.7017\n",
            "Epoch 26/30, Loss: 0.6905, Accuracy: 0.4545, Precision: 0.5953, Recall: 0.7862, F1 Score: 0.6776\n",
            "Epoch 27/30, Loss: 0.6891, Accuracy: 0.4545, Precision: 0.5809, Recall: 0.8923, F1 Score: 0.7037\n",
            "Epoch 28/30, Loss: 0.6924, Accuracy: 0.6364, Precision: 0.5814, Recall: 0.8393, F1 Score: 0.6869\n",
            "Epoch 29/30, Loss: 0.6891, Accuracy: 0.8182, Precision: 0.5860, Recall: 0.9431, F1 Score: 0.7228\n",
            "Epoch 30/30, Loss: 0.6946, Accuracy: 0.6364, Precision: 0.5845, Recall: 0.8309, F1 Score: 0.6863\n"
          ]
        }
      ],
      "source": [
        "\n",
        "import torch.optim as optim\n",
        "from torch.utils.data import DataLoader, TensorDataset\n",
        "from sklearn.metrics import precision_score, recall_score, f1_score\n",
        "\n",
        "\n",
        "X_tensor = torch.tensor(x_pca)\n",
        "print(X_tensor.dtype)\n",
        "y_tensor = torch.tensor(y.astype(float).to_numpy())\n",
        "# Create DataLoader for batch processing\n",
        "batch_size = 32\n",
        "dataset = TensorDataset(X_tensor, y_tensor)\n",
        "dataloader = DataLoader(dataset, batch_size=batch_size, shuffle=True)\n",
        "\n",
        "num_features = 40\n",
        "num_classes = 2\n",
        "\n",
        "# Check for GPU availability and set the device\n",
        "device = torch.device(\"cuda\" if torch.cuda.is_available() else \"cpu\")\n",
        "print(f\"Using device: {device}\")\n",
        "\n",
        "# Instantiate the model and move it to the device (GPU or CPU)\n",
        "model = TransformerClassifier(num_features=num_features, num_classes=num_classes)\n",
        "model.to(device)\n",
        "\n",
        "loss_function = nn.CrossEntropyLoss()\n",
        "optimizer = optim.Adam(model.parameters(), lr=0.1)\n",
        "\n",
        "# Function to calculate accuracy\n",
        "def calculate_accuracy(y_true, y_pred):\n",
        "    predicted = torch.argmax(y_pred, dim=1)\n",
        "    correct = (predicted == y_true).float().sum()\n",
        "    return correct / y_true.shape[0]\n",
        "\n",
        "# Training loop\n",
        "num_epochs = 30\n",
        "for epoch in range(num_epochs):\n",
        "    total_loss = 0\n",
        "    total_accuracy = 0\n",
        "    all_predictions = []\n",
        "    all_targets = []\n",
        "    for batch, (inputs, targets) in enumerate(dataloader):\n",
        "        # Move data to device\n",
        "        inputs, targets = inputs.to(device).float(), targets.to(device).long()\n",
        "\n",
        "        # Forward pass\n",
        "        outputs = model(inputs)\n",
        "        loss = loss_function(outputs, targets)\n",
        "\n",
        "        # Backward pass and optimization\n",
        "        optimizer.zero_grad()\n",
        "        loss.backward()\n",
        "        optimizer.step()\n",
        "\n",
        "        # Calculate batch loss and accuracy\n",
        "        total_loss += loss.item()\n",
        "        accuracy = calculate_accuracy(targets, outputs)\n",
        "        total_accuracy += accuracy.item()\n",
        "\n",
        "        # Collect predictions and true labels\n",
        "        _, predicted = torch.max(outputs.data, 1)\n",
        "        all_predictions.extend(predicted.cpu().numpy())\n",
        "        all_targets.extend(targets.cpu().numpy())\n",
        "\n",
        "    average_loss = total_loss / len(dataloader)\n",
        "    average_accuracy = total_accuracy / len(dataloader)\n",
        "    precision = precision_score(all_targets, all_predictions)\n",
        "    recall = recall_score(all_targets, all_predictions)\n",
        "    f1 = f1_score(all_targets, all_predictions)\n",
        "\n",
        "    print(f\"Epoch {epoch+1}/{num_epochs}, Loss: {average_loss:.4f}, Accuracy: {accuracy:.4f}, Precision: {precision:.4f}, Recall: {recall:.4f}, F1 Score: {f1:.4f}\")\n",
        "\n",
        "# Save the model after training\n",
        "torch.save(model.state_dict(), 'transformer_classifier.pth')"
      ]
    },
    {
      "cell_type": "markdown",
      "metadata": {
        "colab_type": "text",
        "id": "j1vb6oa1JT8O"
      },
      "source": [
        "# Real World Application\n",
        "Now that we have our prediction model, let's implement it to see how much hypothetical money we make! For simplicity, we'll assume we bet $100 on each prediction. This is calculated as follows:\n",
        "\n",
        "Underdog Bet (positive odds):\n",
        " - Potential Payout = Wager Amount x (Odds/100) + Wager Amount.\n",
        "\n",
        "Favorite Bet (negative odds):\n",
        " - Potential Payout = Wager Amount / (absolute value(Odds)/100) + Wager Amount\n",
        "\n",
        "However, our cumulative total will only calculate profit."
      ]
    },
    {
      "cell_type": "code",
      "execution_count": null,
      "metadata": {
        "colab": {},
        "colab_type": "code",
        "id": "Zp9ofJnXOimP"
      },
      "outputs": [],
      "source": [
        "# declare features, scale and pca\n",
        "x_test = nba_test[features]\n",
        "x_test_scaled = scaler.fit_transform(x_test)\n",
        "x_test_scaled_pca = PCA(40).fit_transform(x_test_scaled)"
      ]
    },
    {
      "cell_type": "code",
      "execution_count": null,
      "metadata": {
        "colab": {
          "base_uri": "https://localhost:8080/",
          "height": 119
        },
        "colab_type": "code",
        "id": "eMrLwAtzCN4u",
        "outputId": "a9e471ab-9492-4c8d-9e5a-523b64ed9f0d"
      },
      "outputs": [
        {
          "name": "stderr",
          "output_type": "stream",
          "text": [
            "C:\\Users\\Jason Huang\\AppData\\Local\\Temp\\ipykernel_24928\\9465778.py:2: SettingWithCopyWarning: \n",
            "A value is trying to be set on a copy of a slice from a DataFrame.\n",
            "Try using .loc[row_indexer,col_indexer] = value instead\n",
            "\n",
            "See the caveats in the documentation: https://pandas.pydata.org/pandas-docs/stable/user_guide/indexing.html#returning-a-view-versus-a-copy\n",
            "  nba_test['predictions'] = gnb.fit(x_pca, y).predict(x_test_scaled_pca)\n"
          ]
        }
      ],
      "source": [
        "# fit to training data and predict for current season\n",
        "nba_test['predictions'] = gnb.fit(x_pca, y).predict(x_test_scaled_pca)"
      ]
    },
    {
      "cell_type": "markdown",
      "metadata": {
        "colab_type": "text",
        "id": "NyN9_yqWxDb3"
      },
      "source": [
        "Here our model correctly picked 56% of games from the current 2019-20 season."
      ]
    },
    {
      "cell_type": "code",
      "execution_count": null,
      "metadata": {
        "colab": {
          "base_uri": "https://localhost:8080/",
          "height": 34
        },
        "colab_type": "code",
        "id": "YTiBb0KNIIVO",
        "outputId": "a5ce5463-93e2-4d5b-98f7-ea3dcbfa546c"
      },
      "outputs": [
        {
          "data": {
            "text/plain": [
              "0.5627118644067797"
            ]
          },
          "execution_count": 77,
          "metadata": {},
          "output_type": "execute_result"
        }
      ],
      "source": [
        "## correct pct picks\n",
        "len(nba_test[nba_test['predictions']==nba_test['homeWin']])/len(nba_test)"
      ]
    },
    {
      "cell_type": "code",
      "execution_count": 134,
      "metadata": {},
      "outputs": [
        {
          "name": "stderr",
          "output_type": "stream",
          "text": [
            "C:\\Users\\Jason Huang\\AppData\\Local\\Temp\\ipykernel_24928\\1080164268.py:33: SettingWithCopyWarning: \n",
            "A value is trying to be set on a copy of a slice from a DataFrame.\n",
            "Try using .loc[row_indexer,col_indexer] = value instead\n",
            "\n",
            "See the caveats in the documentation: https://pandas.pydata.org/pandas-docs/stable/user_guide/indexing.html#returning-a-view-versus-a-copy\n",
            "  nba_test['predictions'] = predictions\n"
          ]
        }
      ],
      "source": [
        "import pandas as pd\n",
        "import torch\n",
        "from torch.utils.data import TensorDataset, DataLoader\n",
        "\n",
        "# Assuming TransformerClassifier is defined and loaded with trained weights\n",
        "\n",
        "# Prepare your test data\n",
        "# Assuming x_test_scaled_pca and nba_test are defined and x_test_scaled_pca is a NumPy array or a Pandas DataFrame\n",
        "x_test_tensor = torch.tensor(x_test_scaled_pca).float()\n",
        "\n",
        "test_dataset = TensorDataset(x_test_tensor)\n",
        "test_dataloader = DataLoader(test_dataset, batch_size=32)  # You can adjust the batch size\n",
        "\n",
        "# Device configuration\n",
        "device = torch.device(\"cuda\" if torch.cuda.is_available() else \"cpu\")\n",
        "\n",
        "# Load the model and set it to evaluation mode\n",
        "model = TransformerClassifier(num_features=num_features, num_classes=num_classes)\n",
        "model.load_state_dict(torch.load('transformer_classifier.pth'))  # Load your trained model weights\n",
        "model.to(device)\n",
        "model.eval()\n",
        "\n",
        "# Make predictions on the test set\n",
        "predictions = []\n",
        "with torch.no_grad():\n",
        "    for inputs in test_dataloader:\n",
        "        inputs = inputs[0].to(device)\n",
        "        outputs = model(inputs)\n",
        "        _, predicted = torch.max(outputs.data, 1)\n",
        "        predictions.extend(predicted.cpu().numpy())\n",
        "\n",
        "# Store predictions in the DataFrame\n",
        "nba_test['predictions'] = predictions\n"
      ]
    },
    {
      "cell_type": "code",
      "execution_count": 136,
      "metadata": {},
      "outputs": [
        {
          "data": {
            "text/plain": [
              "0.5406779661016949"
            ]
          },
          "execution_count": 136,
          "metadata": {},
          "output_type": "execute_result"
        }
      ],
      "source": [
        "## correct pct picks\n",
        "len(nba_test[nba_test['predictions']==nba_test['homeWin']])/len(nba_test)"
      ]
    },
    {
      "cell_type": "code",
      "execution_count": 135,
      "metadata": {
        "colab": {
          "base_uri": "https://localhost:8080/",
          "height": 119
        },
        "colab_type": "code",
        "id": "DEUmiN0-PKJV",
        "outputId": "fa4867a2-c4c6-47ed-849c-bc4ed8eb395d"
      },
      "outputs": [
        {
          "name": "stderr",
          "output_type": "stream",
          "text": [
            "C:\\Users\\Jason Huang\\AppData\\Local\\Temp\\ipykernel_24928\\142933246.py:2: SettingWithCopyWarning: \n",
            "A value is trying to be set on a copy of a slice from a DataFrame.\n",
            "Try using .loc[row_indexer,col_indexer] = value instead\n",
            "\n",
            "See the caveats in the documentation: https://pandas.pydata.org/pandas-docs/stable/user_guide/indexing.html#returning-a-view-versus-a-copy\n",
            "  nba_test['moneyWon'] = 0\n"
          ]
        }
      ],
      "source": [
        "## create an empty money won column\n",
        "nba_test['moneyWon'] = 0"
      ]
    },
    {
      "cell_type": "code",
      "execution_count": null,
      "metadata": {},
      "outputs": [],
      "source": []
    },
    {
      "cell_type": "code",
      "execution_count": 79,
      "metadata": {
        "colab": {},
        "colab_type": "code",
        "id": "ks-hhoK8Vj4_"
      },
      "outputs": [
        {
          "name": "stderr",
          "output_type": "stream",
          "text": [
            "C:\\Users\\Jason Huang\\AppData\\Local\\Temp\\ipykernel_24928\\3705461351.py:9: SettingWithCopyWarning: \n",
            "A value is trying to be set on a copy of a slice from a DataFrame.\n",
            "Try using .loc[row_indexer,col_indexer] = value instead\n",
            "\n",
            "See the caveats in the documentation: https://pandas.pydata.org/pandas-docs/stable/user_guide/indexing.html#returning-a-view-versus-a-copy\n",
            "  nba_test.at[i, 'moneyWon'] = (100 / ((abs(nba_test['homeOdds'].iloc[i]))/100))\n"
          ]
        }
      ],
      "source": [
        "## calculate money won\n",
        "for i in nba_test.index:\n",
        "  ## check for correct pick\n",
        "  if nba_test['predictions'].iloc[i] == nba_test['homeWin'].iloc[i]:\n",
        "    ## correct home win\n",
        "    if nba_test['homeWin'].iloc[i] == True:\n",
        "      ## home is favored\n",
        "      if nba_test['homeOdds'].iloc[i] < 0:\n",
        "        nba_test.at[i, 'moneyWon'] = (100 / ((abs(nba_test['homeOdds'].iloc[i]))/100))\n",
        "      ## home is underdog\n",
        "      elif nba_test['homeOdds'].iloc[i] > 0:\n",
        "        nba_test.at[i, 'moneyWon'] = (100 * ((nba_test['homeOdds'].iloc[i])/100))\n",
        "      ## even odds\n",
        "      elif nba_test['homeOdds'].iloc[i] == 0:\n",
        "        nba_test.at[i, 'moneyWon'] = 100\n",
        "    ## correct away win\n",
        "    if nba_test['homeWin'].iloc[i] == False:\n",
        "      ## away is favored\n",
        "      if nba_test['awayOdds'].iloc[i] < 0:\n",
        "        nba_test.at[i, 'moneyWon'] = (100 / ((abs(nba_test['awayOdds'].iloc[i]))/100))\n",
        "      ## away is underdog\n",
        "      elif nba_test['awayOdds'].iloc[i] > 0:\n",
        "        nba_test.at[i, 'moneyWon'] = (100 * ((nba_test['awayOdds'].iloc[i])/100))\n",
        "      ## even odds\n",
        "      elif nba_test['awayOdds'].iloc[i] == 0:\n",
        "        nba_test.at[i, 'moneyWon'] = 100\n",
        "  ## incorrect pick\n",
        "  elif nba_test['predictions'].iloc[i] != nba_test['homeWin'].iloc[i]:\n",
        "    nba_test.at[i, 'moneyWon'] = -100"
      ]
    },
    {
      "cell_type": "code",
      "execution_count": 80,
      "metadata": {
        "colab": {
          "base_uri": "https://localhost:8080/",
          "height": 119
        },
        "colab_type": "code",
        "id": "u_7SqViVrp6r",
        "outputId": "e4d75c1e-64d6-405b-cd98-d26b62d5d9ef"
      },
      "outputs": [
        {
          "name": "stderr",
          "output_type": "stream",
          "text": [
            "C:\\Users\\Jason Huang\\AppData\\Local\\Temp\\ipykernel_24928\\3564126491.py:2: SettingWithCopyWarning: \n",
            "A value is trying to be set on a copy of a slice from a DataFrame.\n",
            "Try using .loc[row_indexer,col_indexer] = value instead\n",
            "\n",
            "See the caveats in the documentation: https://pandas.pydata.org/pandas-docs/stable/user_guide/indexing.html#returning-a-view-versus-a-copy\n",
            "  nba_test['cumTotalWon']  = nba_test['moneyWon'].cumsum()\n"
          ]
        }
      ],
      "source": [
        "## create cumulative money won column\n",
        "nba_test['cumTotalWon']  = nba_test['moneyWon'].cumsum()"
      ]
    },
    {
      "cell_type": "code",
      "execution_count": 81,
      "metadata": {
        "colab": {
          "base_uri": "https://localhost:8080/",
          "height": 359
        },
        "colab_type": "code",
        "id": "8iYaoGWnokv6",
        "outputId": "93d2c62f-4740-446f-e9fe-2e41e9ff3df9"
      },
      "outputs": [
        {
          "data": {
            "text/html": [
              "<div>\n",
              "<style scoped>\n",
              "    .dataframe tbody tr th:only-of-type {\n",
              "        vertical-align: middle;\n",
              "    }\n",
              "\n",
              "    .dataframe tbody tr th {\n",
              "        vertical-align: top;\n",
              "    }\n",
              "\n",
              "    .dataframe thead th {\n",
              "        text-align: right;\n",
              "    }\n",
              "</style>\n",
              "<table border=\"1\" class=\"dataframe\">\n",
              "  <thead>\n",
              "    <tr style=\"text-align: right;\">\n",
              "      <th></th>\n",
              "      <th>predictions</th>\n",
              "      <th>homeWin</th>\n",
              "      <th>homeOdds</th>\n",
              "      <th>awayOdds</th>\n",
              "      <th>moneyWon</th>\n",
              "      <th>cumTotalWon</th>\n",
              "    </tr>\n",
              "  </thead>\n",
              "  <tbody>\n",
              "    <tr>\n",
              "      <th>0</th>\n",
              "      <td>True</td>\n",
              "      <td>False</td>\n",
              "      <td>150</td>\n",
              "      <td>-180</td>\n",
              "      <td>-100.000000</td>\n",
              "      <td>-100.000000</td>\n",
              "    </tr>\n",
              "    <tr>\n",
              "      <th>1</th>\n",
              "      <td>True</td>\n",
              "      <td>False</td>\n",
              "      <td>-260</td>\n",
              "      <td>210</td>\n",
              "      <td>-100.000000</td>\n",
              "      <td>-200.000000</td>\n",
              "    </tr>\n",
              "    <tr>\n",
              "      <th>2</th>\n",
              "      <td>True</td>\n",
              "      <td>True</td>\n",
              "      <td>-105</td>\n",
              "      <td>-115</td>\n",
              "      <td>95.238095</td>\n",
              "      <td>-104.761905</td>\n",
              "    </tr>\n",
              "    <tr>\n",
              "      <th>3</th>\n",
              "      <td>False</td>\n",
              "      <td>True</td>\n",
              "      <td>-180</td>\n",
              "      <td>150</td>\n",
              "      <td>-100.000000</td>\n",
              "      <td>-204.761905</td>\n",
              "    </tr>\n",
              "    <tr>\n",
              "      <th>4</th>\n",
              "      <td>True</td>\n",
              "      <td>True</td>\n",
              "      <td>-170</td>\n",
              "      <td>145</td>\n",
              "      <td>58.823529</td>\n",
              "      <td>-145.938375</td>\n",
              "    </tr>\n",
              "    <tr>\n",
              "      <th>5</th>\n",
              "      <td>True</td>\n",
              "      <td>False</td>\n",
              "      <td>260</td>\n",
              "      <td>-330</td>\n",
              "      <td>-100.000000</td>\n",
              "      <td>-245.938375</td>\n",
              "    </tr>\n",
              "    <tr>\n",
              "      <th>6</th>\n",
              "      <td>True</td>\n",
              "      <td>True</td>\n",
              "      <td>-110</td>\n",
              "      <td>-110</td>\n",
              "      <td>90.909091</td>\n",
              "      <td>-155.029284</td>\n",
              "    </tr>\n",
              "    <tr>\n",
              "      <th>7</th>\n",
              "      <td>True</td>\n",
              "      <td>False</td>\n",
              "      <td>-165</td>\n",
              "      <td>142</td>\n",
              "      <td>-100.000000</td>\n",
              "      <td>-255.029284</td>\n",
              "    </tr>\n",
              "    <tr>\n",
              "      <th>8</th>\n",
              "      <td>True</td>\n",
              "      <td>True</td>\n",
              "      <td>-150</td>\n",
              "      <td>130</td>\n",
              "      <td>66.666667</td>\n",
              "      <td>-188.362618</td>\n",
              "    </tr>\n",
              "    <tr>\n",
              "      <th>9</th>\n",
              "      <td>True</td>\n",
              "      <td>True</td>\n",
              "      <td>-350</td>\n",
              "      <td>275</td>\n",
              "      <td>28.571429</td>\n",
              "      <td>-159.791189</td>\n",
              "    </tr>\n",
              "  </tbody>\n",
              "</table>\n",
              "</div>"
            ],
            "text/plain": [
              "   predictions  homeWin  homeOdds  awayOdds    moneyWon  cumTotalWon\n",
              "0         True    False       150      -180 -100.000000  -100.000000\n",
              "1         True    False      -260       210 -100.000000  -200.000000\n",
              "2         True     True      -105      -115   95.238095  -104.761905\n",
              "3        False     True      -180       150 -100.000000  -204.761905\n",
              "4         True     True      -170       145   58.823529  -145.938375\n",
              "5         True    False       260      -330 -100.000000  -245.938375\n",
              "6         True     True      -110      -110   90.909091  -155.029284\n",
              "7         True    False      -165       142 -100.000000  -255.029284\n",
              "8         True     True      -150       130   66.666667  -188.362618\n",
              "9         True     True      -350       275   28.571429  -159.791189"
            ]
          },
          "execution_count": 81,
          "metadata": {},
          "output_type": "execute_result"
        }
      ],
      "source": [
        "# check work\n",
        "nba_test[['predictions','homeWin','homeOdds','awayOdds','moneyWon','cumTotalWon']].head(10)"
      ]
    },
    {
      "cell_type": "markdown",
      "metadata": {
        "colab_type": "text",
        "id": "1epew79D0WS1"
      },
      "source": [
        "# Final Results!\n",
        "We made almost \\$15,000 with a $100 bet on every game! This is better than expected and is very exciting. It lost just over \\$1,000 initially before it came back."
      ]
    },
    {
      "cell_type": "code",
      "execution_count": 82,
      "metadata": {
        "colab": {
          "base_uri": "https://localhost:8080/",
          "height": 400
        },
        "colab_type": "code",
        "id": "XXeks3C9sjxx",
        "outputId": "79c359ed-e5cf-451b-8de7-4b695dfbcaa8"
      },
      "outputs": [
        {
          "data": {
            "image/png": "[encoded data removed]",
            "text/plain": [
              "<Figure size 640x480 with 1 Axes>"
            ]
          },
          "metadata": {},
          "output_type": "display_data"
        }
      ],
      "source": [
        "## plot the cumulative money won over time\n",
        "fig, ax = plt.subplots()\n",
        "plt.plot(nba_test['date'], nba_test['cumTotalWon'])\n",
        "plt.title('Cumulative Earnings with $100 bets')\n",
        "plt.ylabel('Dollars Earned')\n",
        "plt.xlabel('Time')\n",
        "ax.tick_params(labelbottom=False)"
      ]
    },
    {
      "cell_type": "code",
      "execution_count": 83,
      "metadata": {
        "colab": {
          "base_uri": "https://localhost:8080/",
          "height": 68
        },
        "colab_type": "code",
        "id": "X4UHaEvfMcaY",
        "outputId": "6d33000c-e34d-4c19-c4e5-9aaf03832ebe"
      },
      "outputs": [
        {
          "name": "stdout",
          "output_type": "stream",
          "text": [
            "The model's low point is -1047.8005043659691 dollars.\n",
            "The model's high point is 15009.037466924417 dollars.\n",
            "The model has profited 14199.037466924417 dollars this season.\n"
          ]
        }
      ],
      "source": [
        "print(\"The model's low point is {} dollars.\".format(nba_test['cumTotalWon'].min()))\n",
        "print(\"The model's high point is {} dollars.\".format(nba_test['cumTotalWon'].max()))\n",
        "print(\"The model has profited {} dollars this season.\".format(nba_test['cumTotalWon'].iloc[-1]))"
      ]
    },
    {
      "cell_type": "markdown",
      "metadata": {
        "colab_type": "text",
        "id": "mfoGMn4X2CEQ"
      },
      "source": [
        "Below are a few predicted huge upsets! "
      ]
    },
    {
      "cell_type": "code",
      "execution_count": 84,
      "metadata": {
        "colab": {
          "base_uri": "https://localhost:8080/",
          "height": 204
        },
        "colab_type": "code",
        "id": "3_sZq3RzybMS",
        "outputId": "289f3a3b-a33f-46db-e7bd-803c44574337"
      },
      "outputs": [
        {
          "data": {
            "text/html": [
              "<div>\n",
              "<style scoped>\n",
              "    .dataframe tbody tr th:only-of-type {\n",
              "        vertical-align: middle;\n",
              "    }\n",
              "\n",
              "    .dataframe tbody tr th {\n",
              "        vertical-align: top;\n",
              "    }\n",
              "\n",
              "    .dataframe thead th {\n",
              "        text-align: right;\n",
              "    }\n",
              "</style>\n",
              "<table border=\"1\" class=\"dataframe\">\n",
              "  <thead>\n",
              "    <tr style=\"text-align: right;\">\n",
              "      <th></th>\n",
              "      <th>date</th>\n",
              "      <th>homeTeam</th>\n",
              "      <th>awayTeam</th>\n",
              "      <th>predictions</th>\n",
              "      <th>homeWin</th>\n",
              "      <th>homeOdds</th>\n",
              "      <th>awayOdds</th>\n",
              "      <th>moneyWon</th>\n",
              "    </tr>\n",
              "  </thead>\n",
              "  <tbody>\n",
              "    <tr>\n",
              "      <th>540</th>\n",
              "      <td>2020-01-20</td>\n",
              "      <td>CLE</td>\n",
              "      <td>NYK</td>\n",
              "      <td>False</td>\n",
              "      <td>False</td>\n",
              "      <td>-2500</td>\n",
              "      <td>1100</td>\n",
              "      <td>1100.0</td>\n",
              "    </tr>\n",
              "    <tr>\n",
              "      <th>459</th>\n",
              "      <td>2020-01-08</td>\n",
              "      <td>UTA</td>\n",
              "      <td>NYK</td>\n",
              "      <td>True</td>\n",
              "      <td>True</td>\n",
              "      <td>850</td>\n",
              "      <td>-1500</td>\n",
              "      <td>850.0</td>\n",
              "    </tr>\n",
              "    <tr>\n",
              "      <th>329</th>\n",
              "      <td>2019-12-21</td>\n",
              "      <td>DET</td>\n",
              "      <td>CHI</td>\n",
              "      <td>False</td>\n",
              "      <td>False</td>\n",
              "      <td>-1100</td>\n",
              "      <td>700</td>\n",
              "      <td>700.0</td>\n",
              "    </tr>\n",
              "    <tr>\n",
              "      <th>479</th>\n",
              "      <td>2020-01-11</td>\n",
              "      <td>OKC</td>\n",
              "      <td>LAL</td>\n",
              "      <td>False</td>\n",
              "      <td>False</td>\n",
              "      <td>-1000</td>\n",
              "      <td>650</td>\n",
              "      <td>650.0</td>\n",
              "    </tr>\n",
              "    <tr>\n",
              "      <th>413</th>\n",
              "      <td>2020-01-02</td>\n",
              "      <td>SAS</td>\n",
              "      <td>OKC</td>\n",
              "      <td>False</td>\n",
              "      <td>False</td>\n",
              "      <td>-1000</td>\n",
              "      <td>650</td>\n",
              "      <td>650.0</td>\n",
              "    </tr>\n",
              "  </tbody>\n",
              "</table>\n",
              "</div>"
            ],
            "text/plain": [
              "           date homeTeam awayTeam  predictions  homeWin  homeOdds  awayOdds  \\\n",
              "540  2020-01-20      CLE      NYK        False    False     -2500      1100   \n",
              "459  2020-01-08      UTA      NYK         True     True       850     -1500   \n",
              "329  2019-12-21      DET      CHI        False    False     -1100       700   \n",
              "479  2020-01-11      OKC      LAL        False    False     -1000       650   \n",
              "413  2020-01-02      SAS      OKC        False    False     -1000       650   \n",
              "\n",
              "     moneyWon  \n",
              "540    1100.0  \n",
              "459     850.0  \n",
              "329     700.0  \n",
              "479     650.0  \n",
              "413     650.0  "
            ]
          },
          "execution_count": 84,
          "metadata": {},
          "output_type": "execute_result"
        }
      ],
      "source": [
        "## top 5 wins\n",
        "nba_test[['date','homeTeam','awayTeam','predictions','homeWin','homeOdds','awayOdds','moneyWon']].loc[nba_test['moneyWon'] > 100].sort_values(by='moneyWon',ascending=False).head()"
      ]
    },
    {
      "cell_type": "markdown",
      "metadata": {
        "colab_type": "text",
        "id": "pY138brZPYPP"
      },
      "source": [
        "Here's some potentially dumb bets that we still got right."
      ]
    },
    {
      "cell_type": "code",
      "execution_count": 85,
      "metadata": {
        "colab": {
          "base_uri": "https://localhost:8080/",
          "height": 204
        },
        "colab_type": "code",
        "id": "5EHIjcwVPGCu",
        "outputId": "779f80c1-3145-4212-d05e-98ba675d71ab"
      },
      "outputs": [
        {
          "data": {
            "text/html": [
              "<div>\n",
              "<style scoped>\n",
              "    .dataframe tbody tr th:only-of-type {\n",
              "        vertical-align: middle;\n",
              "    }\n",
              "\n",
              "    .dataframe tbody tr th {\n",
              "        vertical-align: top;\n",
              "    }\n",
              "\n",
              "    .dataframe thead th {\n",
              "        text-align: right;\n",
              "    }\n",
              "</style>\n",
              "<table border=\"1\" class=\"dataframe\">\n",
              "  <thead>\n",
              "    <tr style=\"text-align: right;\">\n",
              "      <th></th>\n",
              "      <th>date</th>\n",
              "      <th>homeTeam</th>\n",
              "      <th>awayTeam</th>\n",
              "      <th>predictions</th>\n",
              "      <th>homeWin</th>\n",
              "      <th>homeOdds</th>\n",
              "      <th>awayOdds</th>\n",
              "      <th>moneyWon</th>\n",
              "    </tr>\n",
              "  </thead>\n",
              "  <tbody>\n",
              "    <tr>\n",
              "      <th>120</th>\n",
              "      <td>2019-11-22</td>\n",
              "      <td>UTA</td>\n",
              "      <td>GSW</td>\n",
              "      <td>True</td>\n",
              "      <td>True</td>\n",
              "      <td>-3500</td>\n",
              "      <td>1300</td>\n",
              "      <td>2.857143</td>\n",
              "    </tr>\n",
              "    <tr>\n",
              "      <th>194</th>\n",
              "      <td>2019-12-02</td>\n",
              "      <td>PHI</td>\n",
              "      <td>UTA</td>\n",
              "      <td>True</td>\n",
              "      <td>True</td>\n",
              "      <td>-3000</td>\n",
              "      <td>1200</td>\n",
              "      <td>3.333333</td>\n",
              "    </tr>\n",
              "    <tr>\n",
              "      <th>499</th>\n",
              "      <td>2020-01-14</td>\n",
              "      <td>MEM</td>\n",
              "      <td>HOU</td>\n",
              "      <td>True</td>\n",
              "      <td>True</td>\n",
              "      <td>-1600</td>\n",
              "      <td>912</td>\n",
              "      <td>6.250000</td>\n",
              "    </tr>\n",
              "    <tr>\n",
              "      <th>103</th>\n",
              "      <td>2019-11-20</td>\n",
              "      <td>DEN</td>\n",
              "      <td>HOU</td>\n",
              "      <td>True</td>\n",
              "      <td>True</td>\n",
              "      <td>-1600</td>\n",
              "      <td>900</td>\n",
              "      <td>6.250000</td>\n",
              "    </tr>\n",
              "    <tr>\n",
              "      <th>85</th>\n",
              "      <td>2019-11-17</td>\n",
              "      <td>SAC</td>\n",
              "      <td>BOS</td>\n",
              "      <td>True</td>\n",
              "      <td>True</td>\n",
              "      <td>-1600</td>\n",
              "      <td>900</td>\n",
              "      <td>6.250000</td>\n",
              "    </tr>\n",
              "  </tbody>\n",
              "</table>\n",
              "</div>"
            ],
            "text/plain": [
              "           date homeTeam awayTeam  predictions  homeWin  homeOdds  awayOdds  \\\n",
              "120  2019-11-22      UTA      GSW         True     True     -3500      1300   \n",
              "194  2019-12-02      PHI      UTA         True     True     -3000      1200   \n",
              "499  2020-01-14      MEM      HOU         True     True     -1600       912   \n",
              "103  2019-11-20      DEN      HOU         True     True     -1600       900   \n",
              "85   2019-11-17      SAC      BOS         True     True     -1600       900   \n",
              "\n",
              "     moneyWon  \n",
              "120  2.857143  \n",
              "194  3.333333  \n",
              "499  6.250000  \n",
              "103  6.250000  \n",
              "85   6.250000  "
            ]
          },
          "execution_count": 85,
          "metadata": {},
          "output_type": "execute_result"
        }
      ],
      "source": [
        "## least money made on a bet\n",
        "nba_test[['date','homeTeam','awayTeam','predictions','homeWin','homeOdds','awayOdds','moneyWon']].loc[nba_test['moneyWon'] > 0].sort_values(by='moneyWon').head()"
      ]
    },
    {
      "cell_type": "markdown",
      "metadata": {
        "colab_type": "text",
        "id": "Hvf28Sl-KQGc"
      },
      "source": [
        "# Conclusion\n",
        "This model seems too good to be true. I continue to look for reasons to doubt these results because it has turned a $1,000 investment into almost \\$15,000. One potential reason could be that the odds data was generous, so further vetting those numbers could be useful."
      ]
    },
    {
      "cell_type": "markdown",
      "metadata": {
        "colab_type": "text",
        "id": "Pf8MjWj04vD1"
      },
      "source": [
        "# Next Steps\n",
        "I'm ready to deploy this model using my own money. Although I think I'll make it $5 bets just in case I've been extremely lucky so far. I'll need to find a betting site API in which I can set scripts up to load in the odds, make a prediction, and place my bet. "
      ]
    },
    {
      "cell_type": "markdown",
      "metadata": {
        "colab_type": "text",
        "id": "I2qQL_HaQtb0"
      },
      "source": [
        "# Further Improvements\n",
        "- This model has yet to include any player data. A category that includes a rolling roster of top performers and whether they are out with injury or not could prove useful.\n",
        "- More explanatory power in order to give a confidence rating on single game predictions. Currently the model relies on long term use with a bet on every game.\n",
        "- Opting out of dumb bets. I could train the model to decide if a bet was worth the risk or not, instead of spreading that risk wide. The confidence interval could be used to compare against the odds."
      ]
    }
  ],
  "metadata": {
    "accelerator": "GPU",
    "colab": {
      "authorship_tag": "ABX9TyNsriRjTSHmWnQ6HX1o+07r",
      "collapsed_sections": [
        "Bmgk_6qWBzMZ",
        "ssHQ-FaSIhJ0"
      ],
      "include_colab_link": true,
      "name": "NbaPredictionFinal",
      "provenance": []
    },
    "kernelspec": {
      "display_name": "Python 3",
      "name": "python3"
    },
    "language_info": {
      "codemirror_mode": {
        "name": "ipython",
        "version": 3
      },
      "file_extension": ".py",
      "mimetype": "text/x-python",
      "name": "python",
      "nbconvert_exporter": "python",
      "pygments_lexer": "ipython3",
      "version": "3.9.13"
    }
  },
  "nbformat": 4,
  "nbformat_minor": 0
}
