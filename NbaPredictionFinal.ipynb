{
  "nbformat": 4,
  "nbformat_minor": 0,
  "metadata": {
    "colab": {
      "name": "NbaPredictionFinal",
      "provenance": [],
      "collapsed_sections": [
        "Bmgk_6qWBzMZ",
        "ssHQ-FaSIhJ0"
      ],
      "authorship_tag": "ABX9TyNsriRjTSHmWnQ6HX1o+07r",
      "include_colab_link": true
    },
    "kernelspec": {
      "name": "python3",
      "display_name": "Python 3"
    },
    "accelerator": "GPU"
  },
  "cells": [
    {
      "cell_type": "markdown",
      "metadata": {
        "id": "view-in-github",
        "colab_type": "text"
      },
      "source": [
        "<a href=\"https://colab.research.google.com/github/garfjohnson/Nba-Sports-Betting-Model/blob/master/NbaPredictionFinal.ipynb\" target=\"_parent\"><img src=\"https://colab.research.google.com/assets/colab-badge.svg\" alt=\"Open In Colab\"/></a>"
      ]
    },
    {
      "cell_type": "markdown",
      "metadata": {
        "id": "tXshW3Cr5Nse",
        "colab_type": "text"
      },
      "source": [
        "# NBA Game Sports Betting Model\n",
        "This model will use a rolling average of recent performance data for each team in an NBA matchup to predict each winner. The model will be trained on previous seasons and tested on the current 2019-20 NBA season. Vegas odds are incorporated and a hypothetical $100 bet is placed on every game. The results are very exciting."
      ]
    },
    {
      "cell_type": "markdown",
      "metadata": {
        "id": "mUxkt6Oz5DDx",
        "colab_type": "text"
      },
      "source": [
        "## Import Libraries"
      ]
    },
    {
      "cell_type": "code",
      "metadata": {
        "id": "BqVXfH284uTP",
        "colab_type": "code",
        "outputId": "3278d46c-2259-4ee4-8583-de076a1aa43d",
        "colab": {
          "base_uri": "https://localhost:8080/",
          "height": 357
        }
      },
      "source": [
        "!pip install sportsreference\n",
        "from sportsreference.nba.schedule import Schedule\n",
        "from datetime import datetime\n",
        "from sportsreference.nba.boxscore import Boxscores, Boxscore\n",
        "from sportsreference.nba.teams import Teams\n",
        "from datetime import datetime, timedelta\n",
        "import numpy as np\n",
        "import pandas as pd\n",
        "from google.colab import drive\n",
        "import matplotlib.pyplot as plt\n",
        "import seaborn as sns"
      ],
      "execution_count": 1,
      "outputs": [
        {
          "output_type": "stream",
          "text": [
            "Collecting sportsreference\n",
            "\u001b[?25l  Downloading https://files.pythonhosted.org/packages/4a/16/64f2181463018c00df5612cd3319a7cbf4403bd7b5c56ba8db1b9bf21a8d/sportsreference-0.4.7-py2.py3-none-any.whl (373kB)\n",
            "\r\u001b[K     |▉                               | 10kB 30.0MB/s eta 0:00:01\r\u001b[K     |█▊                              | 20kB 28.1MB/s eta 0:00:01\r\u001b[K     |██▋                             | 30kB 33.6MB/s eta 0:00:01\r\u001b[K     |███▌                            | 40kB 37.9MB/s eta 0:00:01\r\u001b[K     |████▍                           | 51kB 25.1MB/s eta 0:00:01\r\u001b[K     |█████▎                          | 61kB 27.8MB/s eta 0:00:01\r\u001b[K     |██████▏                         | 71kB 23.1MB/s eta 0:00:01\r\u001b[K     |███████                         | 81kB 24.7MB/s eta 0:00:01\r\u001b[K     |███████▉                        | 92kB 26.4MB/s eta 0:00:01\r\u001b[K     |████████▊                       | 102kB 24.3MB/s eta 0:00:01\r\u001b[K     |█████████▋                      | 112kB 24.3MB/s eta 0:00:01\r\u001b[K     |██████████▌                     | 122kB 24.3MB/s eta 0:00:01\r\u001b[K     |███████████▍                    | 133kB 24.3MB/s eta 0:00:01\r\u001b[K     |████████████▎                   | 143kB 24.3MB/s eta 0:00:01\r\u001b[K     |█████████████▏                  | 153kB 24.3MB/s eta 0:00:01\r\u001b[K     |██████████████                  | 163kB 24.3MB/s eta 0:00:01\r\u001b[K     |███████████████                 | 174kB 24.3MB/s eta 0:00:01\r\u001b[K     |███████████████▊                | 184kB 24.3MB/s eta 0:00:01\r\u001b[K     |████████████████▋               | 194kB 24.3MB/s eta 0:00:01\r\u001b[K     |█████████████████▌              | 204kB 24.3MB/s eta 0:00:01\r\u001b[K     |██████████████████▍             | 215kB 24.3MB/s eta 0:00:01\r\u001b[K     |███████████████████▎            | 225kB 24.3MB/s eta 0:00:01\r\u001b[K     |████████████████████▏           | 235kB 24.3MB/s eta 0:00:01\r\u001b[K     |█████████████████████           | 245kB 24.3MB/s eta 0:00:01\r\u001b[K     |██████████████████████          | 256kB 24.3MB/s eta 0:00:01\r\u001b[K     |██████████████████████▉         | 266kB 24.3MB/s eta 0:00:01\r\u001b[K     |███████████████████████▋        | 276kB 24.3MB/s eta 0:00:01\r\u001b[K     |████████████████████████▌       | 286kB 24.3MB/s eta 0:00:01\r\u001b[K     |█████████████████████████▍      | 296kB 24.3MB/s eta 0:00:01\r\u001b[K     |██████████████████████████▎     | 307kB 24.3MB/s eta 0:00:01\r\u001b[K     |███████████████████████████▏    | 317kB 24.3MB/s eta 0:00:01\r\u001b[K     |████████████████████████████    | 327kB 24.3MB/s eta 0:00:01\r\u001b[K     |█████████████████████████████   | 337kB 24.3MB/s eta 0:00:01\r\u001b[K     |█████████████████████████████▉  | 348kB 24.3MB/s eta 0:00:01\r\u001b[K     |██████████████████████████████▊ | 358kB 24.3MB/s eta 0:00:01\r\u001b[K     |███████████████████████████████▌| 368kB 24.3MB/s eta 0:00:01\r\u001b[K     |████████████████████████████████| 378kB 24.3MB/s \n",
            "\u001b[?25hRequirement already satisfied: requests>=2.18.4 in /usr/local/lib/python3.6/dist-packages (from sportsreference) (2.21.0)\n",
            "Collecting pyquery>=1.4.0\n",
            "  Downloading https://files.pythonhosted.org/packages/78/43/95d42e386c61cb639d1a0b94f0c0b9f0b7d6b981ad3c043a836c8b5bc68b/pyquery-1.4.1-py2.py3-none-any.whl\n",
            "Requirement already satisfied: pandas>=0.24.1 in /usr/local/lib/python3.6/dist-packages (from sportsreference) (0.25.3)\n",
            "Requirement already satisfied: chardet<3.1.0,>=3.0.2 in /usr/local/lib/python3.6/dist-packages (from requests>=2.18.4->sportsreference) (3.0.4)\n",
            "Requirement already satisfied: certifi>=2017.4.17 in /usr/local/lib/python3.6/dist-packages (from requests>=2.18.4->sportsreference) (2019.11.28)\n",
            "Requirement already satisfied: urllib3<1.25,>=1.21.1 in /usr/local/lib/python3.6/dist-packages (from requests>=2.18.4->sportsreference) (1.24.3)\n",
            "Requirement already satisfied: idna<2.9,>=2.5 in /usr/local/lib/python3.6/dist-packages (from requests>=2.18.4->sportsreference) (2.8)\n",
            "Requirement already satisfied: lxml>=2.1 in /usr/local/lib/python3.6/dist-packages (from pyquery>=1.4.0->sportsreference) (4.2.6)\n",
            "Collecting cssselect>0.7.9\n",
            "  Downloading https://files.pythonhosted.org/packages/3b/d4/3b5c17f00cce85b9a1e6f91096e1cc8e8ede2e1be8e96b87ce1ed09e92c5/cssselect-1.1.0-py2.py3-none-any.whl\n",
            "Requirement already satisfied: python-dateutil>=2.6.1 in /usr/local/lib/python3.6/dist-packages (from pandas>=0.24.1->sportsreference) (2.6.1)\n",
            "Requirement already satisfied: pytz>=2017.2 in /usr/local/lib/python3.6/dist-packages (from pandas>=0.24.1->sportsreference) (2018.9)\n",
            "Requirement already satisfied: numpy>=1.13.3 in /usr/local/lib/python3.6/dist-packages (from pandas>=0.24.1->sportsreference) (1.17.5)\n",
            "Requirement already satisfied: six>=1.5 in /usr/local/lib/python3.6/dist-packages (from python-dateutil>=2.6.1->pandas>=0.24.1->sportsreference) (1.12.0)\n",
            "Installing collected packages: cssselect, pyquery, sportsreference\n",
            "Successfully installed cssselect-1.1.0 pyquery-1.4.1 sportsreference-0.4.7\n"
          ],
          "name": "stdout"
        }
      ]
    },
    {
      "cell_type": "code",
      "metadata": {
        "id": "Q4yQ3C9h43MS",
        "colab_type": "code",
        "outputId": "9f4c29c9-0d41-4f11-a993-b93a580a662a",
        "colab": {
          "base_uri": "https://localhost:8080/",
          "height": 122
        }
      },
      "source": [
        "from google.colab import drive\n",
        "drive.mount('/content/gdrive')"
      ],
      "execution_count": 2,
      "outputs": [
        {
          "output_type": "stream",
          "text": [
            "Go to this URL in a browser: https://accounts.google.com/o/oauth2/auth?client_id=947318989803-6bn6qk8qdgf4n4g3pfee6491hc0brc4i.apps.googleusercontent.com&redirect_uri=urn%3aietf%3awg%3aoauth%3a2.0%3aoob&response_type=code&scope=email%20https%3a%2f%2fwww.googleapis.com%2fauth%2fdocs.test%20https%3a%2f%2fwww.googleapis.com%2fauth%2fdrive%20https%3a%2f%2fwww.googleapis.com%2fauth%2fdrive.photos.readonly%20https%3a%2f%2fwww.googleapis.com%2fauth%2fpeopleapi.readonly\n",
            "\n",
            "Enter your authorization code:\n",
            "··········\n",
            "Mounted at /content/gdrive\n"
          ],
          "name": "stdout"
        }
      ]
    },
    {
      "cell_type": "code",
      "metadata": {
        "id": "2PPENQib47Ed",
        "colab_type": "code",
        "colab": {}
      },
      "source": [
        "pd.set_option('display.max_rows', 500)\n",
        "pd.set_option('display.max_columns', 500)\n",
        "from sklearn.model_selection import train_test_split, cross_val_score, KFold\n",
        "from sklearn.preprocessing import normalize, MinMaxScaler, RobustScaler\n",
        "from sklearn.decomposition import PCA\n",
        "from sklearn.metrics import make_scorer, f1_score"
      ],
      "execution_count": 0,
      "outputs": []
    },
    {
      "cell_type": "markdown",
      "metadata": {
        "id": "FQLwdYCa5jYu",
        "colab_type": "text"
      },
      "source": [
        "## Declare Useful Functions and Lists"
      ]
    },
    {
      "cell_type": "code",
      "metadata": {
        "id": "WB_YiYnp5mB_",
        "colab_type": "code",
        "colab": {}
      },
      "source": [
        "## this function combines our cleaning step into one easy function\n",
        "def format_nba_df(df):\n",
        "  ## create a bool column for home win\n",
        "  df['homeWin'] = df['winner'] == 'Home'\n",
        "  ## rename unnamed column to gameid\n",
        "  df = df.rename(columns={'Unnamed: 0': 'gameID'})\n",
        "  ## create datetime object from column of date strings and drop the time \n",
        "  df['date'] = df['date'].apply(lambda x: (datetime.strptime(x, '%I:%M %p, %B %d, %Y')).date())\n",
        "  ## create home team column\n",
        "  df['homeTeam'] = np.where(df['homeWin']==True, df['winning_abbr'], df['losing_abbr'])\n",
        "  ## create away team column\n",
        "  df['awayTeam'] = np.where(df['homeWin']==False, df['winning_abbr'], df['losing_abbr'])\n",
        "  return df"
      ],
      "execution_count": 0,
      "outputs": []
    },
    {
      "cell_type": "code",
      "metadata": {
        "id": "CrcJLwLd5oOi",
        "colab_type": "code",
        "colab": {}
      },
      "source": [
        "## this takes an odds dataframe and converts the date to a datetime object, year must be specified\n",
        "def convert_to_datetime(x, year):\n",
        "  y = str(x)\n",
        "  if x < 1000:\n",
        "    date = datetime(year=year, month=int(y[:-2]), day=int(y[-2:]))\n",
        "    return date.strftime(\"%Y-%m-%d\")\n",
        "  else:\n",
        "    date = datetime(year=year-1, month=int(y[:-2]), day=int(y[-2:]))\n",
        "    return date.strftime(\"%Y-%m-%d\")"
      ],
      "execution_count": 0,
      "outputs": []
    },
    {
      "cell_type": "code",
      "metadata": {
        "id": "TnKpAhf-5ux6",
        "colab_type": "code",
        "colab": {}
      },
      "source": [
        "def avg_previous_num_games(df, num_games):\n",
        "  ### This function changes each stat to be the average of the last num_games for each team, and shifts it one so it does not include the current stats and drops the first num_games that become null\n",
        "  for col in home_cols:\n",
        "    for team in team_list:\n",
        "      df[col].loc[df['homeTeam']==team] = df[col].loc[df['homeTeam']==team].shift(1).rolling(num_games, min_periods=3).mean()\n",
        "  for col in away_cols:\n",
        "    for team in team_list:\n",
        "      df[col].loc[df['awayTeam']==team] = df[col].loc[df['awayTeam']==team].shift(1).rolling(num_games, min_periods=3).mean()\n",
        "  return df.dropna()"
      ],
      "execution_count": 0,
      "outputs": []
    },
    {
      "cell_type": "code",
      "metadata": {
        "id": "sDrxe2c65Rqf",
        "colab_type": "code",
        "colab": {}
      },
      "source": [
        "# seperate statistical columns to home and away for later\n",
        "away_cols = ['away_assist_percentage', 'away_assists',\n",
        "       'away_block_percentage', 'away_blocks', 'away_defensive_rating',\n",
        "       'away_defensive_rebound_percentage', 'away_defensive_rebounds',\n",
        "       'away_effective_field_goal_percentage', 'away_field_goal_attempts',\n",
        "       'away_field_goal_percentage', 'away_field_goals',\n",
        "       'away_free_throw_attempt_rate', 'away_free_throw_attempts',\n",
        "       'away_free_throw_percentage', 'away_free_throws','away_minutes_played', 'away_offensive_rating',\n",
        "       'away_offensive_rebound_percentage', 'away_offensive_rebounds',\n",
        "       'away_personal_fouls', 'away_points', 'away_steal_percentage',\n",
        "       'away_steals', 'away_three_point_attempt_rate',\n",
        "       'away_three_point_field_goal_attempts',\n",
        "       'away_three_point_field_goal_percentage',\n",
        "       'away_three_point_field_goals', 'away_total_rebound_percentage',\n",
        "       'away_total_rebounds', 'away_true_shooting_percentage',\n",
        "       'away_turnover_percentage', 'away_turnovers',\n",
        "       'away_two_point_field_goal_attempts',\n",
        "       'away_two_point_field_goal_percentage', 'away_two_point_field_goals']\n",
        "home_cols = ['home_assist_percentage', 'home_assists',\n",
        "       'home_block_percentage', 'home_blocks', 'home_defensive_rating',\n",
        "       'home_defensive_rebound_percentage', 'home_defensive_rebounds',\n",
        "       'home_effective_field_goal_percentage', 'home_field_goal_attempts',\n",
        "       'home_field_goal_percentage', 'home_field_goals',\n",
        "       'home_free_throw_attempt_rate', 'home_free_throw_attempts',\n",
        "       'home_free_throw_percentage', 'home_free_throws',\n",
        "       'home_minutes_played', 'home_offensive_rating',\n",
        "       'home_offensive_rebound_percentage', 'home_offensive_rebounds',\n",
        "       'home_personal_fouls', 'home_points', 'home_steal_percentage',\n",
        "       'home_steals', 'home_three_point_attempt_rate',\n",
        "       'home_three_point_field_goal_attempts',\n",
        "       'home_three_point_field_goal_percentage',\n",
        "       'home_three_point_field_goals', 'home_total_rebound_percentage',\n",
        "       'home_total_rebounds', 'home_true_shooting_percentage',\n",
        "       'home_turnover_percentage', 'home_turnovers',\n",
        "       'home_two_point_field_goal_attempts',\n",
        "       'home_two_point_field_goal_percentage', 'home_two_point_field_goals']"
      ],
      "execution_count": 0,
      "outputs": []
    },
    {
      "cell_type": "markdown",
      "metadata": {
        "id": "wnBUa_ob5UKE",
        "colab_type": "text"
      },
      "source": [
        "## Load and Arrange the Data\n",
        "We'll load the stats and odds datasets and ensure they are formatted the same and have the same shape so we can combine them later."
      ]
    },
    {
      "cell_type": "code",
      "metadata": {
        "id": "ySBZnr-E5atM",
        "colab_type": "code",
        "colab": {}
      },
      "source": [
        "# load 2017-18 boxscore stats\n",
        "nba2017 = pd.read_csv(r\"/content/gdrive/My Drive/Colab Datasets/nba2017-18.csv\")\n",
        "# load 2018-19 boxscore stats\n",
        "nba2018 = pd.read_csv(r\"/content/gdrive/My Drive/Colab Datasets/nba2018-19.csv\")\n",
        "# load 2019-20 boxscore stats\n",
        "nbaCurrent = pd.read_csv(r'/content/gdrive/My Drive/Colab Datasets/nba2019-20.csv')"
      ],
      "execution_count": 0,
      "outputs": []
    },
    {
      "cell_type": "code",
      "metadata": {
        "id": "P8Xjkcxo5fYz",
        "colab_type": "code",
        "colab": {}
      },
      "source": [
        "# apply cleaning step\n",
        "nba2017 = format_nba_df(nba2017)\n",
        "nba2018 = format_nba_df(nba2018)\n",
        "nbaCurrent = format_nba_df(nbaCurrent)"
      ],
      "execution_count": 0,
      "outputs": []
    },
    {
      "cell_type": "code",
      "metadata": {
        "id": "SY1IzX-Z5dG_",
        "colab_type": "code",
        "colab": {}
      },
      "source": [
        "# load 2017-18 odds\n",
        "odds2017 = pd.read_csv(r\"/content/gdrive/My Drive/Colab Datasets/NBAoddsCSV/nbaodds2017-18.csv\")\n",
        "# load 2018-19 odds\n",
        "odds2018 = pd.read_csv(r\"/content/gdrive/My Drive/Colab Datasets/NBAoddsCSV/nbaodds2018-19.csv\")\n",
        "# load 2019-20 odds\n",
        "oddsCurrent = pd.read_csv(r\"/content/gdrive/My Drive/Colab Datasets/NBAoddsCSV/nbaodds2019-20.csv\")"
      ],
      "execution_count": 0,
      "outputs": []
    },
    {
      "cell_type": "code",
      "metadata": {
        "id": "VWrnBMAH54sQ",
        "colab_type": "code",
        "colab": {}
      },
      "source": [
        "## create list of team abbreviations and sort them\n",
        "team_list = sorted(list(nba2017['homeTeam'].unique()))"
      ],
      "execution_count": 0,
      "outputs": []
    },
    {
      "cell_type": "markdown",
      "metadata": {
        "id": "Kz66N9UYu0Zh",
        "colab_type": "text"
      },
      "source": [
        "##### Here we format our odds df to match our main df by:\n",
        "1. Finding the neutral site game for each season and setting the corresponding team to the home team\n",
        "2. Dropping playoff games\n",
        "3. Seperating home/away team and get the home vs away in the same row\n",
        "3. Changing the date column to datetime objects\n",
        "4. Change team names to abbreviations\n",
        "5. Sort by date then by team to line up the two dfs\n",
        "\n",
        "I'll be keeping the odds dfs seperate for now because they'll be attached to each corresponding nba df which will need to remain seperated by season before being transformed."
      ]
    },
    {
      "cell_type": "code",
      "metadata": {
        "id": "Pc5Fq6iJm0Km",
        "colab_type": "code",
        "outputId": "faac0708-135e-44b6-a752-d972fec59153",
        "colab": {
          "base_uri": "https://localhost:8080/",
          "height": 34
        }
      },
      "source": [
        "## one game played in london\n",
        "odds2017['VH'].unique()"
      ],
      "execution_count": 12,
      "outputs": [
        {
          "output_type": "execute_result",
          "data": {
            "text/plain": [
              "array(['V', 'H', 'N'], dtype=object)"
            ]
          },
          "metadata": {
            "tags": []
          },
          "execution_count": 12
        }
      ]
    },
    {
      "cell_type": "code",
      "metadata": {
        "id": "vo6VUVu7LAuS",
        "colab_type": "code",
        "outputId": "278d309e-d27e-4ee9-8c9c-97db3ffaea40",
        "colab": {
          "base_uri": "https://localhost:8080/",
          "height": 34
        }
      },
      "source": [
        "## no neutral sites yet\n",
        "oddsCurrent['VH'].unique()"
      ],
      "execution_count": 13,
      "outputs": [
        {
          "output_type": "execute_result",
          "data": {
            "text/plain": [
              "array(['V', 'H'], dtype=object)"
            ]
          },
          "metadata": {
            "tags": []
          },
          "execution_count": 13
        }
      ]
    },
    {
      "cell_type": "code",
      "metadata": {
        "id": "Sad8CmFtm7aS",
        "colab_type": "code",
        "outputId": "ccfe8a0a-b211-4d1c-ae6a-974a2c7bcbec",
        "colab": {
          "base_uri": "https://localhost:8080/",
          "height": 111
        }
      },
      "source": [
        "## we need to change these to home and away so it matches our other df\n",
        "odds2017.loc[odds2017['VH']=='N']"
      ],
      "execution_count": 14,
      "outputs": [
        {
          "output_type": "execute_result",
          "data": {
            "text/html": [
              "<div>\n",
              "<style scoped>\n",
              "    .dataframe tbody tr th:only-of-type {\n",
              "        vertical-align: middle;\n",
              "    }\n",
              "\n",
              "    .dataframe tbody tr th {\n",
              "        vertical-align: top;\n",
              "    }\n",
              "\n",
              "    .dataframe thead th {\n",
              "        text-align: right;\n",
              "    }\n",
              "</style>\n",
              "<table border=\"1\" class=\"dataframe\">\n",
              "  <thead>\n",
              "    <tr style=\"text-align: right;\">\n",
              "      <th></th>\n",
              "      <th>Date</th>\n",
              "      <th>Rot</th>\n",
              "      <th>VH</th>\n",
              "      <th>Team</th>\n",
              "      <th>1st</th>\n",
              "      <th>2nd</th>\n",
              "      <th>3rd</th>\n",
              "      <th>4th</th>\n",
              "      <th>Final</th>\n",
              "      <th>Open</th>\n",
              "      <th>Close</th>\n",
              "      <th>ML</th>\n",
              "      <th>2H</th>\n",
              "    </tr>\n",
              "  </thead>\n",
              "  <tbody>\n",
              "    <tr>\n",
              "      <th>1232</th>\n",
              "      <td>111</td>\n",
              "      <td>901</td>\n",
              "      <td>N</td>\n",
              "      <td>Boston</td>\n",
              "      <td>23</td>\n",
              "      <td>25</td>\n",
              "      <td>37</td>\n",
              "      <td>29</td>\n",
              "      <td>114</td>\n",
              "      <td>1.5</td>\n",
              "      <td>1.5</td>\n",
              "      <td>-130</td>\n",
              "      <td>4</td>\n",
              "    </tr>\n",
              "    <tr>\n",
              "      <th>1233</th>\n",
              "      <td>111</td>\n",
              "      <td>902</td>\n",
              "      <td>N</td>\n",
              "      <td>Philadelphia</td>\n",
              "      <td>28</td>\n",
              "      <td>29</td>\n",
              "      <td>22</td>\n",
              "      <td>24</td>\n",
              "      <td>103</td>\n",
              "      <td>205.5</td>\n",
              "      <td>211.5</td>\n",
              "      <td>110</td>\n",
              "      <td>109.5</td>\n",
              "    </tr>\n",
              "  </tbody>\n",
              "</table>\n",
              "</div>"
            ],
            "text/plain": [
              "      Date  Rot VH          Team  1st  2nd  3rd  4th  Final   Open  Close  \\\n",
              "1232   111  901  N        Boston   23   25   37   29    114    1.5    1.5   \n",
              "1233   111  902  N  Philadelphia   28   29   22   24    103  205.5  211.5   \n",
              "\n",
              "       ML     2H  \n",
              "1232 -130      4  \n",
              "1233  110  109.5  "
            ]
          },
          "metadata": {
            "tags": []
          },
          "execution_count": 14
        }
      ]
    },
    {
      "cell_type": "code",
      "metadata": {
        "id": "4GCw_Ah4nmAL",
        "colab_type": "code",
        "outputId": "29665515-a507-4c65-fd05-b8e81eba270a",
        "colab": {
          "base_uri": "https://localhost:8080/",
          "height": 168
        }
      },
      "source": [
        "## PHI is the home team\n",
        "nba2017.loc[nba2017['gameID']=='201801110PHI']"
      ],
      "execution_count": 15,
      "outputs": [
        {
          "output_type": "execute_result",
          "data": {
            "text/html": [
              "<div>\n",
              "<style scoped>\n",
              "    .dataframe tbody tr th:only-of-type {\n",
              "        vertical-align: middle;\n",
              "    }\n",
              "\n",
              "    .dataframe tbody tr th {\n",
              "        vertical-align: top;\n",
              "    }\n",
              "\n",
              "    .dataframe thead th {\n",
              "        text-align: right;\n",
              "    }\n",
              "</style>\n",
              "<table border=\"1\" class=\"dataframe\">\n",
              "  <thead>\n",
              "    <tr style=\"text-align: right;\">\n",
              "      <th></th>\n",
              "      <th>gameID</th>\n",
              "      <th>away_assist_percentage</th>\n",
              "      <th>away_assists</th>\n",
              "      <th>away_block_percentage</th>\n",
              "      <th>away_blocks</th>\n",
              "      <th>away_defensive_rating</th>\n",
              "      <th>away_defensive_rebound_percentage</th>\n",
              "      <th>away_defensive_rebounds</th>\n",
              "      <th>away_effective_field_goal_percentage</th>\n",
              "      <th>away_field_goal_attempts</th>\n",
              "      <th>away_field_goal_percentage</th>\n",
              "      <th>away_field_goals</th>\n",
              "      <th>away_free_throw_attempt_rate</th>\n",
              "      <th>away_free_throw_attempts</th>\n",
              "      <th>away_free_throw_percentage</th>\n",
              "      <th>away_free_throws</th>\n",
              "      <th>away_losses</th>\n",
              "      <th>away_minutes_played</th>\n",
              "      <th>away_offensive_rating</th>\n",
              "      <th>away_offensive_rebound_percentage</th>\n",
              "      <th>away_offensive_rebounds</th>\n",
              "      <th>away_personal_fouls</th>\n",
              "      <th>away_points</th>\n",
              "      <th>away_steal_percentage</th>\n",
              "      <th>away_steals</th>\n",
              "      <th>away_three_point_attempt_rate</th>\n",
              "      <th>away_three_point_field_goal_attempts</th>\n",
              "      <th>away_three_point_field_goal_percentage</th>\n",
              "      <th>away_three_point_field_goals</th>\n",
              "      <th>away_total_rebound_percentage</th>\n",
              "      <th>away_total_rebounds</th>\n",
              "      <th>away_true_shooting_percentage</th>\n",
              "      <th>away_turnover_percentage</th>\n",
              "      <th>away_turnovers</th>\n",
              "      <th>away_two_point_field_goal_attempts</th>\n",
              "      <th>away_two_point_field_goal_percentage</th>\n",
              "      <th>away_two_point_field_goals</th>\n",
              "      <th>away_wins</th>\n",
              "      <th>date</th>\n",
              "      <th>home_assist_percentage</th>\n",
              "      <th>home_assists</th>\n",
              "      <th>home_block_percentage</th>\n",
              "      <th>home_blocks</th>\n",
              "      <th>home_defensive_rating</th>\n",
              "      <th>home_defensive_rebound_percentage</th>\n",
              "      <th>home_defensive_rebounds</th>\n",
              "      <th>home_effective_field_goal_percentage</th>\n",
              "      <th>home_field_goal_attempts</th>\n",
              "      <th>home_field_goal_percentage</th>\n",
              "      <th>home_field_goals</th>\n",
              "      <th>home_free_throw_attempt_rate</th>\n",
              "      <th>home_free_throw_attempts</th>\n",
              "      <th>home_free_throw_percentage</th>\n",
              "      <th>home_free_throws</th>\n",
              "      <th>home_losses</th>\n",
              "      <th>home_minutes_played</th>\n",
              "      <th>home_offensive_rating</th>\n",
              "      <th>home_offensive_rebound_percentage</th>\n",
              "      <th>home_offensive_rebounds</th>\n",
              "      <th>home_personal_fouls</th>\n",
              "      <th>home_points</th>\n",
              "      <th>home_steal_percentage</th>\n",
              "      <th>home_steals</th>\n",
              "      <th>home_three_point_attempt_rate</th>\n",
              "      <th>home_three_point_field_goal_attempts</th>\n",
              "      <th>home_three_point_field_goal_percentage</th>\n",
              "      <th>home_three_point_field_goals</th>\n",
              "      <th>home_total_rebound_percentage</th>\n",
              "      <th>home_total_rebounds</th>\n",
              "      <th>home_true_shooting_percentage</th>\n",
              "      <th>home_turnover_percentage</th>\n",
              "      <th>home_turnovers</th>\n",
              "      <th>home_two_point_field_goal_attempts</th>\n",
              "      <th>home_two_point_field_goal_percentage</th>\n",
              "      <th>home_two_point_field_goals</th>\n",
              "      <th>home_wins</th>\n",
              "      <th>location</th>\n",
              "      <th>losing_abbr</th>\n",
              "      <th>losing_name</th>\n",
              "      <th>pace</th>\n",
              "      <th>winner</th>\n",
              "      <th>winning_abbr</th>\n",
              "      <th>winning_name</th>\n",
              "      <th>homeWin</th>\n",
              "      <th>homeTeam</th>\n",
              "      <th>awayTeam</th>\n",
              "    </tr>\n",
              "  </thead>\n",
              "  <tbody>\n",
              "    <tr>\n",
              "      <th>614</th>\n",
              "      <td>201801110PHI</td>\n",
              "      <td>55.8</td>\n",
              "      <td>24</td>\n",
              "      <td>3.7</td>\n",
              "      <td>2</td>\n",
              "      <td>99.5</td>\n",
              "      <td>92.1</td>\n",
              "      <td>35</td>\n",
              "      <td>0.556</td>\n",
              "      <td>89</td>\n",
              "      <td>0.483</td>\n",
              "      <td>43</td>\n",
              "      <td>0.213</td>\n",
              "      <td>19</td>\n",
              "      <td>0.789</td>\n",
              "      <td>15</td>\n",
              "      <td>10</td>\n",
              "      <td>240</td>\n",
              "      <td>110.1</td>\n",
              "      <td>24.4</td>\n",
              "      <td>11</td>\n",
              "      <td>18</td>\n",
              "      <td>114</td>\n",
              "      <td>10.6</td>\n",
              "      <td>11</td>\n",
              "      <td>0.393</td>\n",
              "      <td>35</td>\n",
              "      <td>0.371</td>\n",
              "      <td>13</td>\n",
              "      <td>55.4</td>\n",
              "      <td>46</td>\n",
              "      <td>0.585</td>\n",
              "      <td>15.6</td>\n",
              "      <td>18</td>\n",
              "      <td>54</td>\n",
              "      <td>0.556</td>\n",
              "      <td>30</td>\n",
              "      <td>34</td>\n",
              "      <td>2018-01-11</td>\n",
              "      <td>52.6</td>\n",
              "      <td>24</td>\n",
              "      <td>7.4</td>\n",
              "      <td>2</td>\n",
              "      <td>110.1</td>\n",
              "      <td>75.6</td>\n",
              "      <td>35</td>\n",
              "      <td>0.53</td>\n",
              "      <td>89</td>\n",
              "      <td>0.483</td>\n",
              "      <td>43</td>\n",
              "      <td>0.22</td>\n",
              "      <td>19</td>\n",
              "      <td>0.789</td>\n",
              "      <td>15</td>\n",
              "      <td>0</td>\n",
              "      <td>240</td>\n",
              "      <td>99.5</td>\n",
              "      <td>7.9</td>\n",
              "      <td>11</td>\n",
              "      <td>18</td>\n",
              "      <td>103</td>\n",
              "      <td>11.6</td>\n",
              "      <td>11</td>\n",
              "      <td>0.341</td>\n",
              "      <td>35</td>\n",
              "      <td>0.371</td>\n",
              "      <td>13</td>\n",
              "      <td>44.6</td>\n",
              "      <td>46</td>\n",
              "      <td>0.573</td>\n",
              "      <td>17.4</td>\n",
              "      <td>18</td>\n",
              "      <td>54</td>\n",
              "      <td>0.556</td>\n",
              "      <td>30</td>\n",
              "      <td>0</td>\n",
              "      <td>The O2 Arena, London, United Kingdom</td>\n",
              "      <td>PHI</td>\n",
              "      <td>Philadelphia 76ers</td>\n",
              "      <td>103.5</td>\n",
              "      <td>Away</td>\n",
              "      <td>BOS</td>\n",
              "      <td>Boston Celtics</td>\n",
              "      <td>False</td>\n",
              "      <td>PHI</td>\n",
              "      <td>BOS</td>\n",
              "    </tr>\n",
              "  </tbody>\n",
              "</table>\n",
              "</div>"
            ],
            "text/plain": [
              "           gameID  away_assist_percentage  away_assists  \\\n",
              "614  201801110PHI                    55.8            24   \n",
              "\n",
              "     away_block_percentage  away_blocks  away_defensive_rating  \\\n",
              "614                    3.7            2                   99.5   \n",
              "\n",
              "     away_defensive_rebound_percentage  away_defensive_rebounds  \\\n",
              "614                               92.1                       35   \n",
              "\n",
              "     away_effective_field_goal_percentage  away_field_goal_attempts  \\\n",
              "614                                 0.556                        89   \n",
              "\n",
              "     away_field_goal_percentage  away_field_goals  \\\n",
              "614                       0.483                43   \n",
              "\n",
              "     away_free_throw_attempt_rate  away_free_throw_attempts  \\\n",
              "614                         0.213                        19   \n",
              "\n",
              "     away_free_throw_percentage  away_free_throws  away_losses  \\\n",
              "614                       0.789                15           10   \n",
              "\n",
              "     away_minutes_played  away_offensive_rating  \\\n",
              "614                  240                  110.1   \n",
              "\n",
              "     away_offensive_rebound_percentage  away_offensive_rebounds  \\\n",
              "614                               24.4                       11   \n",
              "\n",
              "     away_personal_fouls  away_points  away_steal_percentage  away_steals  \\\n",
              "614                   18          114                   10.6           11   \n",
              "\n",
              "     away_three_point_attempt_rate  away_three_point_field_goal_attempts  \\\n",
              "614                          0.393                                    35   \n",
              "\n",
              "     away_three_point_field_goal_percentage  away_three_point_field_goals  \\\n",
              "614                                   0.371                            13   \n",
              "\n",
              "     away_total_rebound_percentage  away_total_rebounds  \\\n",
              "614                           55.4                   46   \n",
              "\n",
              "     away_true_shooting_percentage  away_turnover_percentage  away_turnovers  \\\n",
              "614                          0.585                      15.6              18   \n",
              "\n",
              "     away_two_point_field_goal_attempts  away_two_point_field_goal_percentage  \\\n",
              "614                                  54                                 0.556   \n",
              "\n",
              "     away_two_point_field_goals  away_wins        date  \\\n",
              "614                          30         34  2018-01-11   \n",
              "\n",
              "     home_assist_percentage  home_assists  home_block_percentage  home_blocks  \\\n",
              "614                    52.6            24                    7.4            2   \n",
              "\n",
              "     home_defensive_rating  home_defensive_rebound_percentage  \\\n",
              "614                  110.1                               75.6   \n",
              "\n",
              "     home_defensive_rebounds  home_effective_field_goal_percentage  \\\n",
              "614                       35                                  0.53   \n",
              "\n",
              "     home_field_goal_attempts  home_field_goal_percentage  home_field_goals  \\\n",
              "614                        89                       0.483                43   \n",
              "\n",
              "     home_free_throw_attempt_rate  home_free_throw_attempts  \\\n",
              "614                          0.22                        19   \n",
              "\n",
              "     home_free_throw_percentage  home_free_throws  home_losses  \\\n",
              "614                       0.789                15            0   \n",
              "\n",
              "     home_minutes_played  home_offensive_rating  \\\n",
              "614                  240                   99.5   \n",
              "\n",
              "     home_offensive_rebound_percentage  home_offensive_rebounds  \\\n",
              "614                                7.9                       11   \n",
              "\n",
              "     home_personal_fouls  home_points  home_steal_percentage  home_steals  \\\n",
              "614                   18          103                   11.6           11   \n",
              "\n",
              "     home_three_point_attempt_rate  home_three_point_field_goal_attempts  \\\n",
              "614                          0.341                                    35   \n",
              "\n",
              "     home_three_point_field_goal_percentage  home_three_point_field_goals  \\\n",
              "614                                   0.371                            13   \n",
              "\n",
              "     home_total_rebound_percentage  home_total_rebounds  \\\n",
              "614                           44.6                   46   \n",
              "\n",
              "     home_true_shooting_percentage  home_turnover_percentage  home_turnovers  \\\n",
              "614                          0.573                      17.4              18   \n",
              "\n",
              "     home_two_point_field_goal_attempts  home_two_point_field_goal_percentage  \\\n",
              "614                                  54                                 0.556   \n",
              "\n",
              "     home_two_point_field_goals  home_wins  \\\n",
              "614                          30          0   \n",
              "\n",
              "                                 location losing_abbr         losing_name  \\\n",
              "614  The O2 Arena, London, United Kingdom         PHI  Philadelphia 76ers   \n",
              "\n",
              "      pace winner winning_abbr    winning_name  homeWin homeTeam awayTeam  \n",
              "614  103.5   Away          BOS  Boston Celtics    False      PHI      BOS  "
            ]
          },
          "metadata": {
            "tags": []
          },
          "execution_count": 15
        }
      ]
    },
    {
      "cell_type": "code",
      "metadata": {
        "id": "QkzdmVaWqJxw",
        "colab_type": "code",
        "outputId": "6430d24d-225a-499b-ff56-9cf8b50be39b",
        "colab": {
          "base_uri": "https://localhost:8080/",
          "height": 102
        }
      },
      "source": [
        "## change values for home and away team\n",
        "odds2017['VH'].iloc[[1233]] = 'H'\n",
        "odds2017['VH'].iloc[[1232]] = 'V'"
      ],
      "execution_count": 16,
      "outputs": [
        {
          "output_type": "stream",
          "text": [
            "/usr/local/lib/python3.6/dist-packages/pandas/core/indexing.py:205: SettingWithCopyWarning: \n",
            "A value is trying to be set on a copy of a slice from a DataFrame\n",
            "\n",
            "See the caveats in the documentation: http://pandas.pydata.org/pandas-docs/stable/user_guide/indexing.html#returning-a-view-versus-a-copy\n",
            "  self._setitem_with_indexer(indexer, value)\n"
          ],
          "name": "stderr"
        }
      ]
    },
    {
      "cell_type": "code",
      "metadata": {
        "id": "rKtiN0TbrQNg",
        "colab_type": "code",
        "outputId": "7d7a4760-cfe1-40e1-ba0b-fa232fd90926",
        "colab": {
          "base_uri": "https://localhost:8080/",
          "height": 111
        }
      },
      "source": [
        "## check work\n",
        "odds2017.iloc[[1232,1233]]"
      ],
      "execution_count": 17,
      "outputs": [
        {
          "output_type": "execute_result",
          "data": {
            "text/html": [
              "<div>\n",
              "<style scoped>\n",
              "    .dataframe tbody tr th:only-of-type {\n",
              "        vertical-align: middle;\n",
              "    }\n",
              "\n",
              "    .dataframe tbody tr th {\n",
              "        vertical-align: top;\n",
              "    }\n",
              "\n",
              "    .dataframe thead th {\n",
              "        text-align: right;\n",
              "    }\n",
              "</style>\n",
              "<table border=\"1\" class=\"dataframe\">\n",
              "  <thead>\n",
              "    <tr style=\"text-align: right;\">\n",
              "      <th></th>\n",
              "      <th>Date</th>\n",
              "      <th>Rot</th>\n",
              "      <th>VH</th>\n",
              "      <th>Team</th>\n",
              "      <th>1st</th>\n",
              "      <th>2nd</th>\n",
              "      <th>3rd</th>\n",
              "      <th>4th</th>\n",
              "      <th>Final</th>\n",
              "      <th>Open</th>\n",
              "      <th>Close</th>\n",
              "      <th>ML</th>\n",
              "      <th>2H</th>\n",
              "    </tr>\n",
              "  </thead>\n",
              "  <tbody>\n",
              "    <tr>\n",
              "      <th>1232</th>\n",
              "      <td>111</td>\n",
              "      <td>901</td>\n",
              "      <td>V</td>\n",
              "      <td>Boston</td>\n",
              "      <td>23</td>\n",
              "      <td>25</td>\n",
              "      <td>37</td>\n",
              "      <td>29</td>\n",
              "      <td>114</td>\n",
              "      <td>1.5</td>\n",
              "      <td>1.5</td>\n",
              "      <td>-130</td>\n",
              "      <td>4</td>\n",
              "    </tr>\n",
              "    <tr>\n",
              "      <th>1233</th>\n",
              "      <td>111</td>\n",
              "      <td>902</td>\n",
              "      <td>H</td>\n",
              "      <td>Philadelphia</td>\n",
              "      <td>28</td>\n",
              "      <td>29</td>\n",
              "      <td>22</td>\n",
              "      <td>24</td>\n",
              "      <td>103</td>\n",
              "      <td>205.5</td>\n",
              "      <td>211.5</td>\n",
              "      <td>110</td>\n",
              "      <td>109.5</td>\n",
              "    </tr>\n",
              "  </tbody>\n",
              "</table>\n",
              "</div>"
            ],
            "text/plain": [
              "      Date  Rot VH          Team  1st  2nd  3rd  4th  Final   Open  Close  \\\n",
              "1232   111  901  V        Boston   23   25   37   29    114    1.5    1.5   \n",
              "1233   111  902  H  Philadelphia   28   29   22   24    103  205.5  211.5   \n",
              "\n",
              "       ML     2H  \n",
              "1232 -130      4  \n",
              "1233  110  109.5  "
            ]
          },
          "metadata": {
            "tags": []
          },
          "execution_count": 17
        }
      ]
    },
    {
      "cell_type": "code",
      "metadata": {
        "id": "yQUqq2FWrfpf",
        "colab_type": "code",
        "outputId": "a4f38b62-7cbc-4a2b-89dc-87dd12b8cc3f",
        "colab": {
          "base_uri": "https://localhost:8080/",
          "height": 111
        }
      },
      "source": [
        "## do the same for 2018 df\n",
        "odds2018.loc[odds2018['VH']=='N']"
      ],
      "execution_count": 18,
      "outputs": [
        {
          "output_type": "execute_result",
          "data": {
            "text/html": [
              "<div>\n",
              "<style scoped>\n",
              "    .dataframe tbody tr th:only-of-type {\n",
              "        vertical-align: middle;\n",
              "    }\n",
              "\n",
              "    .dataframe tbody tr th {\n",
              "        vertical-align: top;\n",
              "    }\n",
              "\n",
              "    .dataframe thead th {\n",
              "        text-align: right;\n",
              "    }\n",
              "</style>\n",
              "<table border=\"1\" class=\"dataframe\">\n",
              "  <thead>\n",
              "    <tr style=\"text-align: right;\">\n",
              "      <th></th>\n",
              "      <th>Date</th>\n",
              "      <th>Rot</th>\n",
              "      <th>VH</th>\n",
              "      <th>Team</th>\n",
              "      <th>1st</th>\n",
              "      <th>2nd</th>\n",
              "      <th>3rd</th>\n",
              "      <th>4th</th>\n",
              "      <th>Final</th>\n",
              "      <th>Open</th>\n",
              "      <th>Close</th>\n",
              "      <th>ML</th>\n",
              "      <th>2H</th>\n",
              "    </tr>\n",
              "  </thead>\n",
              "  <tbody>\n",
              "    <tr>\n",
              "      <th>1328</th>\n",
              "      <td>117</td>\n",
              "      <td>541</td>\n",
              "      <td>N</td>\n",
              "      <td>NewYork</td>\n",
              "      <td>30</td>\n",
              "      <td>33</td>\n",
              "      <td>26</td>\n",
              "      <td>11</td>\n",
              "      <td>100</td>\n",
              "      <td>225</td>\n",
              "      <td>229</td>\n",
              "      <td>260</td>\n",
              "      <td>112.5</td>\n",
              "    </tr>\n",
              "    <tr>\n",
              "      <th>1329</th>\n",
              "      <td>117</td>\n",
              "      <td>542</td>\n",
              "      <td>N</td>\n",
              "      <td>Washington</td>\n",
              "      <td>20</td>\n",
              "      <td>33</td>\n",
              "      <td>24</td>\n",
              "      <td>24</td>\n",
              "      <td>101</td>\n",
              "      <td>7</td>\n",
              "      <td>7.5</td>\n",
              "      <td>-330</td>\n",
              "      <td>7.5</td>\n",
              "    </tr>\n",
              "  </tbody>\n",
              "</table>\n",
              "</div>"
            ],
            "text/plain": [
              "      Date  Rot VH        Team  1st  2nd  3rd  4th  Final Open Close   ML  \\\n",
              "1328   117  541  N     NewYork   30   33   26   11    100  225   229  260   \n",
              "1329   117  542  N  Washington   20   33   24   24    101    7   7.5 -330   \n",
              "\n",
              "         2H  \n",
              "1328  112.5  \n",
              "1329    7.5  "
            ]
          },
          "metadata": {
            "tags": []
          },
          "execution_count": 18
        }
      ]
    },
    {
      "cell_type": "code",
      "metadata": {
        "id": "csAl8j8nr6z0",
        "colab_type": "code",
        "outputId": "38509839-9233-460b-c706-075beb41dd2c",
        "colab": {
          "base_uri": "https://localhost:8080/",
          "height": 168
        }
      },
      "source": [
        "## find the game in nba df to determine home team\n",
        "nba2018.loc[nba2018['gameID']=='201901170WAS']"
      ],
      "execution_count": 19,
      "outputs": [
        {
          "output_type": "execute_result",
          "data": {
            "text/html": [
              "<div>\n",
              "<style scoped>\n",
              "    .dataframe tbody tr th:only-of-type {\n",
              "        vertical-align: middle;\n",
              "    }\n",
              "\n",
              "    .dataframe tbody tr th {\n",
              "        vertical-align: top;\n",
              "    }\n",
              "\n",
              "    .dataframe thead th {\n",
              "        text-align: right;\n",
              "    }\n",
              "</style>\n",
              "<table border=\"1\" class=\"dataframe\">\n",
              "  <thead>\n",
              "    <tr style=\"text-align: right;\">\n",
              "      <th></th>\n",
              "      <th>gameID</th>\n",
              "      <th>away_assist_percentage</th>\n",
              "      <th>away_assists</th>\n",
              "      <th>away_block_percentage</th>\n",
              "      <th>away_blocks</th>\n",
              "      <th>away_defensive_rating</th>\n",
              "      <th>away_defensive_rebound_percentage</th>\n",
              "      <th>away_defensive_rebounds</th>\n",
              "      <th>away_effective_field_goal_percentage</th>\n",
              "      <th>away_field_goal_attempts</th>\n",
              "      <th>away_field_goal_percentage</th>\n",
              "      <th>away_field_goals</th>\n",
              "      <th>away_free_throw_attempt_rate</th>\n",
              "      <th>away_free_throw_attempts</th>\n",
              "      <th>away_free_throw_percentage</th>\n",
              "      <th>away_free_throws</th>\n",
              "      <th>away_losses</th>\n",
              "      <th>away_minutes_played</th>\n",
              "      <th>away_offensive_rating</th>\n",
              "      <th>away_offensive_rebound_percentage</th>\n",
              "      <th>away_offensive_rebounds</th>\n",
              "      <th>away_personal_fouls</th>\n",
              "      <th>away_points</th>\n",
              "      <th>away_steal_percentage</th>\n",
              "      <th>away_steals</th>\n",
              "      <th>away_three_point_attempt_rate</th>\n",
              "      <th>away_three_point_field_goal_attempts</th>\n",
              "      <th>away_three_point_field_goal_percentage</th>\n",
              "      <th>away_three_point_field_goals</th>\n",
              "      <th>away_total_rebound_percentage</th>\n",
              "      <th>away_total_rebounds</th>\n",
              "      <th>away_true_shooting_percentage</th>\n",
              "      <th>away_turnover_percentage</th>\n",
              "      <th>away_turnovers</th>\n",
              "      <th>away_two_point_field_goal_attempts</th>\n",
              "      <th>away_two_point_field_goal_percentage</th>\n",
              "      <th>away_two_point_field_goals</th>\n",
              "      <th>away_wins</th>\n",
              "      <th>date</th>\n",
              "      <th>home_assist_percentage</th>\n",
              "      <th>home_assists</th>\n",
              "      <th>home_block_percentage</th>\n",
              "      <th>home_blocks</th>\n",
              "      <th>home_defensive_rating</th>\n",
              "      <th>home_defensive_rebound_percentage</th>\n",
              "      <th>home_defensive_rebounds</th>\n",
              "      <th>home_effective_field_goal_percentage</th>\n",
              "      <th>home_field_goal_attempts</th>\n",
              "      <th>home_field_goal_percentage</th>\n",
              "      <th>home_field_goals</th>\n",
              "      <th>home_free_throw_attempt_rate</th>\n",
              "      <th>home_free_throw_attempts</th>\n",
              "      <th>home_free_throw_percentage</th>\n",
              "      <th>home_free_throws</th>\n",
              "      <th>home_losses</th>\n",
              "      <th>home_minutes_played</th>\n",
              "      <th>home_offensive_rating</th>\n",
              "      <th>home_offensive_rebound_percentage</th>\n",
              "      <th>home_offensive_rebounds</th>\n",
              "      <th>home_personal_fouls</th>\n",
              "      <th>home_points</th>\n",
              "      <th>home_steal_percentage</th>\n",
              "      <th>home_steals</th>\n",
              "      <th>home_three_point_attempt_rate</th>\n",
              "      <th>home_three_point_field_goal_attempts</th>\n",
              "      <th>home_three_point_field_goal_percentage</th>\n",
              "      <th>home_three_point_field_goals</th>\n",
              "      <th>home_total_rebound_percentage</th>\n",
              "      <th>home_total_rebounds</th>\n",
              "      <th>home_true_shooting_percentage</th>\n",
              "      <th>home_turnover_percentage</th>\n",
              "      <th>home_turnovers</th>\n",
              "      <th>home_two_point_field_goal_attempts</th>\n",
              "      <th>home_two_point_field_goal_percentage</th>\n",
              "      <th>home_two_point_field_goals</th>\n",
              "      <th>home_wins</th>\n",
              "      <th>location</th>\n",
              "      <th>losing_abbr</th>\n",
              "      <th>losing_name</th>\n",
              "      <th>pace</th>\n",
              "      <th>winner</th>\n",
              "      <th>winning_abbr</th>\n",
              "      <th>winning_name</th>\n",
              "      <th>homeWin</th>\n",
              "      <th>homeTeam</th>\n",
              "      <th>awayTeam</th>\n",
              "    </tr>\n",
              "  </thead>\n",
              "  <tbody>\n",
              "    <tr>\n",
              "      <th>669</th>\n",
              "      <td>201901170WAS</td>\n",
              "      <td>38.5</td>\n",
              "      <td>15</td>\n",
              "      <td>4.6</td>\n",
              "      <td>3</td>\n",
              "      <td>103.5</td>\n",
              "      <td>70.6</td>\n",
              "      <td>36</td>\n",
              "      <td>0.517</td>\n",
              "      <td>87</td>\n",
              "      <td>0.448</td>\n",
              "      <td>39</td>\n",
              "      <td>0.138</td>\n",
              "      <td>12</td>\n",
              "      <td>0.833</td>\n",
              "      <td>10</td>\n",
              "      <td>34</td>\n",
              "      <td>240</td>\n",
              "      <td>102.5</td>\n",
              "      <td>14.3</td>\n",
              "      <td>6</td>\n",
              "      <td>16</td>\n",
              "      <td>100</td>\n",
              "      <td>6.2</td>\n",
              "      <td>6</td>\n",
              "      <td>0.333</td>\n",
              "      <td>29</td>\n",
              "      <td>0.414</td>\n",
              "      <td>12</td>\n",
              "      <td>45.2</td>\n",
              "      <td>42</td>\n",
              "      <td>0.542</td>\n",
              "      <td>13.2</td>\n",
              "      <td>14</td>\n",
              "      <td>58</td>\n",
              "      <td>0.466</td>\n",
              "      <td>27</td>\n",
              "      <td>10</td>\n",
              "      <td>2019-01-17</td>\n",
              "      <td>57.5</td>\n",
              "      <td>15</td>\n",
              "      <td>3.4</td>\n",
              "      <td>3</td>\n",
              "      <td>102.5</td>\n",
              "      <td>85.7</td>\n",
              "      <td>36</td>\n",
              "      <td>0.473</td>\n",
              "      <td>87</td>\n",
              "      <td>0.448</td>\n",
              "      <td>39</td>\n",
              "      <td>0.217</td>\n",
              "      <td>12</td>\n",
              "      <td>0.833</td>\n",
              "      <td>10</td>\n",
              "      <td>26</td>\n",
              "      <td>240</td>\n",
              "      <td>103.5</td>\n",
              "      <td>29.4</td>\n",
              "      <td>6</td>\n",
              "      <td>16</td>\n",
              "      <td>101</td>\n",
              "      <td>9.2</td>\n",
              "      <td>6</td>\n",
              "      <td>0.293</td>\n",
              "      <td>29</td>\n",
              "      <td>0.414</td>\n",
              "      <td>12</td>\n",
              "      <td>54.8</td>\n",
              "      <td>42</td>\n",
              "      <td>0.501</td>\n",
              "      <td>11.4</td>\n",
              "      <td>14</td>\n",
              "      <td>58</td>\n",
              "      <td>0.466</td>\n",
              "      <td>27</td>\n",
              "      <td>19</td>\n",
              "      <td>The O2 Arena, London, United Kingdom</td>\n",
              "      <td>NYK</td>\n",
              "      <td>New York Knicks</td>\n",
              "      <td>97.5</td>\n",
              "      <td>Home</td>\n",
              "      <td>WAS</td>\n",
              "      <td>Washington Wizards</td>\n",
              "      <td>True</td>\n",
              "      <td>WAS</td>\n",
              "      <td>NYK</td>\n",
              "    </tr>\n",
              "  </tbody>\n",
              "</table>\n",
              "</div>"
            ],
            "text/plain": [
              "           gameID  away_assist_percentage  away_assists  \\\n",
              "669  201901170WAS                    38.5            15   \n",
              "\n",
              "     away_block_percentage  away_blocks  away_defensive_rating  \\\n",
              "669                    4.6            3                  103.5   \n",
              "\n",
              "     away_defensive_rebound_percentage  away_defensive_rebounds  \\\n",
              "669                               70.6                       36   \n",
              "\n",
              "     away_effective_field_goal_percentage  away_field_goal_attempts  \\\n",
              "669                                 0.517                        87   \n",
              "\n",
              "     away_field_goal_percentage  away_field_goals  \\\n",
              "669                       0.448                39   \n",
              "\n",
              "     away_free_throw_attempt_rate  away_free_throw_attempts  \\\n",
              "669                         0.138                        12   \n",
              "\n",
              "     away_free_throw_percentage  away_free_throws  away_losses  \\\n",
              "669                       0.833                10           34   \n",
              "\n",
              "     away_minutes_played  away_offensive_rating  \\\n",
              "669                  240                  102.5   \n",
              "\n",
              "     away_offensive_rebound_percentage  away_offensive_rebounds  \\\n",
              "669                               14.3                        6   \n",
              "\n",
              "     away_personal_fouls  away_points  away_steal_percentage  away_steals  \\\n",
              "669                   16          100                    6.2            6   \n",
              "\n",
              "     away_three_point_attempt_rate  away_three_point_field_goal_attempts  \\\n",
              "669                          0.333                                    29   \n",
              "\n",
              "     away_three_point_field_goal_percentage  away_three_point_field_goals  \\\n",
              "669                                   0.414                            12   \n",
              "\n",
              "     away_total_rebound_percentage  away_total_rebounds  \\\n",
              "669                           45.2                   42   \n",
              "\n",
              "     away_true_shooting_percentage  away_turnover_percentage  away_turnovers  \\\n",
              "669                          0.542                      13.2              14   \n",
              "\n",
              "     away_two_point_field_goal_attempts  away_two_point_field_goal_percentage  \\\n",
              "669                                  58                                 0.466   \n",
              "\n",
              "     away_two_point_field_goals  away_wins        date  \\\n",
              "669                          27         10  2019-01-17   \n",
              "\n",
              "     home_assist_percentage  home_assists  home_block_percentage  home_blocks  \\\n",
              "669                    57.5            15                    3.4            3   \n",
              "\n",
              "     home_defensive_rating  home_defensive_rebound_percentage  \\\n",
              "669                  102.5                               85.7   \n",
              "\n",
              "     home_defensive_rebounds  home_effective_field_goal_percentage  \\\n",
              "669                       36                                 0.473   \n",
              "\n",
              "     home_field_goal_attempts  home_field_goal_percentage  home_field_goals  \\\n",
              "669                        87                       0.448                39   \n",
              "\n",
              "     home_free_throw_attempt_rate  home_free_throw_attempts  \\\n",
              "669                         0.217                        12   \n",
              "\n",
              "     home_free_throw_percentage  home_free_throws  home_losses  \\\n",
              "669                       0.833                10           26   \n",
              "\n",
              "     home_minutes_played  home_offensive_rating  \\\n",
              "669                  240                  103.5   \n",
              "\n",
              "     home_offensive_rebound_percentage  home_offensive_rebounds  \\\n",
              "669                               29.4                        6   \n",
              "\n",
              "     home_personal_fouls  home_points  home_steal_percentage  home_steals  \\\n",
              "669                   16          101                    9.2            6   \n",
              "\n",
              "     home_three_point_attempt_rate  home_three_point_field_goal_attempts  \\\n",
              "669                          0.293                                    29   \n",
              "\n",
              "     home_three_point_field_goal_percentage  home_three_point_field_goals  \\\n",
              "669                                   0.414                            12   \n",
              "\n",
              "     home_total_rebound_percentage  home_total_rebounds  \\\n",
              "669                           54.8                   42   \n",
              "\n",
              "     home_true_shooting_percentage  home_turnover_percentage  home_turnovers  \\\n",
              "669                          0.501                      11.4              14   \n",
              "\n",
              "     home_two_point_field_goal_attempts  home_two_point_field_goal_percentage  \\\n",
              "669                                  58                                 0.466   \n",
              "\n",
              "     home_two_point_field_goals  home_wins  \\\n",
              "669                          27         19   \n",
              "\n",
              "                                 location losing_abbr      losing_name  pace  \\\n",
              "669  The O2 Arena, London, United Kingdom         NYK  New York Knicks  97.5   \n",
              "\n",
              "    winner winning_abbr        winning_name  homeWin homeTeam awayTeam  \n",
              "669   Home          WAS  Washington Wizards     True      WAS      NYK  "
            ]
          },
          "metadata": {
            "tags": []
          },
          "execution_count": 19
        }
      ]
    },
    {
      "cell_type": "code",
      "metadata": {
        "id": "lhScR8X8sxu_",
        "colab_type": "code",
        "outputId": "053d729f-30a9-4a07-fe97-ab4912d5bc8b",
        "colab": {
          "base_uri": "https://localhost:8080/",
          "height": 102
        }
      },
      "source": [
        "## change the value for home and away team\n",
        "odds2018['VH'].iloc[[1329]] = 'H'\n",
        "odds2018['VH'].iloc[[1328]] = 'V'"
      ],
      "execution_count": 20,
      "outputs": [
        {
          "output_type": "stream",
          "text": [
            "/usr/local/lib/python3.6/dist-packages/pandas/core/indexing.py:205: SettingWithCopyWarning: \n",
            "A value is trying to be set on a copy of a slice from a DataFrame\n",
            "\n",
            "See the caveats in the documentation: http://pandas.pydata.org/pandas-docs/stable/user_guide/indexing.html#returning-a-view-versus-a-copy\n",
            "  self._setitem_with_indexer(indexer, value)\n"
          ],
          "name": "stderr"
        }
      ]
    },
    {
      "cell_type": "code",
      "metadata": {
        "id": "s-JpM79HtGtc",
        "colab_type": "code",
        "outputId": "831320b5-22df-416d-897e-fa9becfcd117",
        "colab": {
          "base_uri": "https://localhost:8080/",
          "height": 111
        }
      },
      "source": [
        "## check work\n",
        "odds2018.iloc[[1328,1329]]"
      ],
      "execution_count": 21,
      "outputs": [
        {
          "output_type": "execute_result",
          "data": {
            "text/html": [
              "<div>\n",
              "<style scoped>\n",
              "    .dataframe tbody tr th:only-of-type {\n",
              "        vertical-align: middle;\n",
              "    }\n",
              "\n",
              "    .dataframe tbody tr th {\n",
              "        vertical-align: top;\n",
              "    }\n",
              "\n",
              "    .dataframe thead th {\n",
              "        text-align: right;\n",
              "    }\n",
              "</style>\n",
              "<table border=\"1\" class=\"dataframe\">\n",
              "  <thead>\n",
              "    <tr style=\"text-align: right;\">\n",
              "      <th></th>\n",
              "      <th>Date</th>\n",
              "      <th>Rot</th>\n",
              "      <th>VH</th>\n",
              "      <th>Team</th>\n",
              "      <th>1st</th>\n",
              "      <th>2nd</th>\n",
              "      <th>3rd</th>\n",
              "      <th>4th</th>\n",
              "      <th>Final</th>\n",
              "      <th>Open</th>\n",
              "      <th>Close</th>\n",
              "      <th>ML</th>\n",
              "      <th>2H</th>\n",
              "    </tr>\n",
              "  </thead>\n",
              "  <tbody>\n",
              "    <tr>\n",
              "      <th>1328</th>\n",
              "      <td>117</td>\n",
              "      <td>541</td>\n",
              "      <td>V</td>\n",
              "      <td>NewYork</td>\n",
              "      <td>30</td>\n",
              "      <td>33</td>\n",
              "      <td>26</td>\n",
              "      <td>11</td>\n",
              "      <td>100</td>\n",
              "      <td>225</td>\n",
              "      <td>229</td>\n",
              "      <td>260</td>\n",
              "      <td>112.5</td>\n",
              "    </tr>\n",
              "    <tr>\n",
              "      <th>1329</th>\n",
              "      <td>117</td>\n",
              "      <td>542</td>\n",
              "      <td>H</td>\n",
              "      <td>Washington</td>\n",
              "      <td>20</td>\n",
              "      <td>33</td>\n",
              "      <td>24</td>\n",
              "      <td>24</td>\n",
              "      <td>101</td>\n",
              "      <td>7</td>\n",
              "      <td>7.5</td>\n",
              "      <td>-330</td>\n",
              "      <td>7.5</td>\n",
              "    </tr>\n",
              "  </tbody>\n",
              "</table>\n",
              "</div>"
            ],
            "text/plain": [
              "      Date  Rot VH        Team  1st  2nd  3rd  4th  Final Open Close   ML  \\\n",
              "1328   117  541  V     NewYork   30   33   26   11    100  225   229  260   \n",
              "1329   117  542  H  Washington   20   33   24   24    101    7   7.5 -330   \n",
              "\n",
              "         2H  \n",
              "1328  112.5  \n",
              "1329    7.5  "
            ]
          },
          "metadata": {
            "tags": []
          },
          "execution_count": 21
        }
      ]
    },
    {
      "cell_type": "code",
      "metadata": {
        "id": "kzd8C0wSB9Es",
        "colab_type": "code",
        "colab": {}
      },
      "source": [
        "## convert to datetime object\n",
        "odds2017['date'] = odds2017['Date'].apply(lambda x: convert_to_datetime(x, 2018))\n",
        "odds2018['date'] = odds2018['Date'].apply(lambda x: convert_to_datetime(x, 2019))\n",
        "oddsCurrent['date'] = oddsCurrent['Date'].apply(lambda x: convert_to_datetime(x, 2020))"
      ],
      "execution_count": 0,
      "outputs": []
    },
    {
      "cell_type": "code",
      "metadata": {
        "id": "925eQIDWwVQj",
        "colab_type": "code",
        "colab": {}
      },
      "source": [
        "## team name to team abbrev dict for mapping\n",
        "team_dict = {'Atlanta':'ATL', 'Boston':'BOS', 'Brooklyn':'BRK','Charlotte':'CHO','Chicago':'CHI','Cleveland':'CLE','Dallas':'DAL', 'Denver':'DEN','Detroit':'DET',\n",
        "             'GoldenState':'GSW', 'Houston':'HOU', 'Indiana':'IND','LAClippers':'LAC','LALakers':'LAL','Memphis':'MEM','Miami':'MIA','Milwaukee':'MIL','Minnesota':'MIN',\n",
        "             'NewOrleans':'NOP','NewYork':'NYK','OklahomaCity':'OKC','Orlando':'ORL','Philadelphia':'PHI','Phoenix':'PHO','Portland':'POR','Sacramento':'SAC',\n",
        "             'SanAntonio':'SAS','Toronto':'TOR','Utah':'UTA','Washington':'WAS'}\n",
        "## change team names to abbrevs\n",
        "odds2017['Team'] = odds2017['Team'].map(team_dict)\n",
        "odds2018['Team'] = odds2018['Team'].map(team_dict)\n",
        "oddsCurrent['Team'] = oddsCurrent['Team'].map(team_dict)"
      ],
      "execution_count": 0,
      "outputs": []
    },
    {
      "cell_type": "code",
      "metadata": {
        "id": "slVfFTsdKftq",
        "colab_type": "code",
        "colab": {}
      },
      "source": [
        "## seperate into home and away and drop playoff games\n",
        "homeOdds2017 = odds2017.loc[odds2017['VH']=='H'].reset_index(drop=True)[:1230]\n",
        "awayOdds2017 = odds2017.loc[odds2017['VH']=='V'].reset_index(drop=True)[:1230]\n",
        "\n",
        "homeOdds2018 = odds2018.loc[odds2018['VH']=='H'].reset_index(drop=True)[:1230]\n",
        "awayOdds2018 = odds2018.loc[odds2018['VH']=='V'].reset_index(drop=True)[:1230]\n",
        "\n",
        "homeOddsCurrent = oddsCurrent.loc[oddsCurrent['VH']=='H'].reset_index(drop=True)\n",
        "awayOddsCurrent = oddsCurrent.loc[oddsCurrent['VH']=='V'].reset_index(drop=True)"
      ],
      "execution_count": 0,
      "outputs": []
    },
    {
      "cell_type": "code",
      "metadata": {
        "id": "XHNgaiS1M8nL",
        "colab_type": "code",
        "colab": {}
      },
      "source": [
        "# rename home columns\n",
        "homeOdds2017 = homeOdds2017.rename(columns={'Team': 'homeTeam', 'ML': 'homeOdds'})\n",
        "homeOdds2018 = homeOdds2018.rename(columns={'Team': 'homeTeam', 'ML': 'homeOdds'})\n",
        "homeOddsCurrent = homeOddsCurrent.rename(columns={'Team': 'homeTeam', 'ML': 'homeOdds'})\n",
        "\n",
        "# rename away columns\n",
        "awayOdds2017 = awayOdds2017.rename(columns={'Team': 'awayTeam', 'ML': 'awayOdds'})\n",
        "awayOdds2018 = awayOdds2018.rename(columns={'Team': 'awayTeam', 'ML': 'awayOdds'})\n",
        "awayOddsCurrent = awayOddsCurrent.rename(columns={'Team': 'awayTeam', 'ML': 'awayOdds'})"
      ],
      "execution_count": 0,
      "outputs": []
    },
    {
      "cell_type": "code",
      "metadata": {
        "id": "mkoTF7VM6YOf",
        "colab_type": "code",
        "colab": {}
      },
      "source": [
        "## create half of the combined df\n",
        "combinedOdds2017 = homeOdds2017[['date','homeTeam','homeOdds']]\n",
        "combinedOdds2018 = homeOdds2018[['date','homeTeam','homeOdds']]\n",
        "combinedOddsCurrent = homeOddsCurrent[['date','homeTeam','homeOdds']]"
      ],
      "execution_count": 0,
      "outputs": []
    },
    {
      "cell_type": "code",
      "metadata": {
        "id": "fJF0AAmYOpLK",
        "colab_type": "code",
        "outputId": "54091285-f847-47aa-8f5c-598717c7ab93",
        "colab": {
          "base_uri": "https://localhost:8080/",
          "height": 629
        }
      },
      "source": [
        "## add in away columns\n",
        "combinedOdds2017['awayOdds'] = awayOdds2017['awayOdds']\n",
        "combinedOdds2017['awayTeam'] = awayOdds2017['awayTeam']\n",
        "\n",
        "combinedOdds2018['awayOdds'] = awayOdds2018['awayOdds']\n",
        "combinedOdds2018['awayTeam'] = awayOdds2018['awayTeam']\n",
        "\n",
        "combinedOddsCurrent['awayOdds'] = awayOddsCurrent['awayOdds']\n",
        "combinedOddsCurrent['awayTeam'] = awayOddsCurrent['awayTeam']"
      ],
      "execution_count": 27,
      "outputs": [
        {
          "output_type": "stream",
          "text": [
            "/usr/local/lib/python3.6/dist-packages/ipykernel_launcher.py:1: SettingWithCopyWarning: \n",
            "A value is trying to be set on a copy of a slice from a DataFrame.\n",
            "Try using .loc[row_indexer,col_indexer] = value instead\n",
            "\n",
            "See the caveats in the documentation: http://pandas.pydata.org/pandas-docs/stable/user_guide/indexing.html#returning-a-view-versus-a-copy\n",
            "  \"\"\"Entry point for launching an IPython kernel.\n",
            "/usr/local/lib/python3.6/dist-packages/ipykernel_launcher.py:2: SettingWithCopyWarning: \n",
            "A value is trying to be set on a copy of a slice from a DataFrame.\n",
            "Try using .loc[row_indexer,col_indexer] = value instead\n",
            "\n",
            "See the caveats in the documentation: http://pandas.pydata.org/pandas-docs/stable/user_guide/indexing.html#returning-a-view-versus-a-copy\n",
            "  \n",
            "/usr/local/lib/python3.6/dist-packages/ipykernel_launcher.py:4: SettingWithCopyWarning: \n",
            "A value is trying to be set on a copy of a slice from a DataFrame.\n",
            "Try using .loc[row_indexer,col_indexer] = value instead\n",
            "\n",
            "See the caveats in the documentation: http://pandas.pydata.org/pandas-docs/stable/user_guide/indexing.html#returning-a-view-versus-a-copy\n",
            "  after removing the cwd from sys.path.\n",
            "/usr/local/lib/python3.6/dist-packages/ipykernel_launcher.py:5: SettingWithCopyWarning: \n",
            "A value is trying to be set on a copy of a slice from a DataFrame.\n",
            "Try using .loc[row_indexer,col_indexer] = value instead\n",
            "\n",
            "See the caveats in the documentation: http://pandas.pydata.org/pandas-docs/stable/user_guide/indexing.html#returning-a-view-versus-a-copy\n",
            "  \"\"\"\n",
            "/usr/local/lib/python3.6/dist-packages/ipykernel_launcher.py:7: SettingWithCopyWarning: \n",
            "A value is trying to be set on a copy of a slice from a DataFrame.\n",
            "Try using .loc[row_indexer,col_indexer] = value instead\n",
            "\n",
            "See the caveats in the documentation: http://pandas.pydata.org/pandas-docs/stable/user_guide/indexing.html#returning-a-view-versus-a-copy\n",
            "  import sys\n",
            "/usr/local/lib/python3.6/dist-packages/ipykernel_launcher.py:8: SettingWithCopyWarning: \n",
            "A value is trying to be set on a copy of a slice from a DataFrame.\n",
            "Try using .loc[row_indexer,col_indexer] = value instead\n",
            "\n",
            "See the caveats in the documentation: http://pandas.pydata.org/pandas-docs/stable/user_guide/indexing.html#returning-a-view-versus-a-copy\n",
            "  \n"
          ],
          "name": "stderr"
        }
      ]
    },
    {
      "cell_type": "code",
      "metadata": {
        "id": "VzkoyLYDxbU4",
        "colab_type": "code",
        "colab": {}
      },
      "source": [
        "## sort odds df to line both dfs up\n",
        "sortedOdds2017 = combinedOdds2017.sort_values(by=['date','homeTeam'])\n",
        "\n",
        "sortedOdds2018 = combinedOdds2018.sort_values(by=['date','homeTeam'])\n",
        "\n",
        "sortedOddsCurrent = combinedOddsCurrent.sort_values(by=['date','homeTeam'])"
      ],
      "execution_count": 0,
      "outputs": []
    },
    {
      "cell_type": "code",
      "metadata": {
        "id": "7OyNBGQGyQEh",
        "colab_type": "code",
        "colab": {}
      },
      "source": [
        "## sort nba df\n",
        "sortedNba2017 = nba2017.sort_values(by=['date','homeTeam'])\n",
        "sortedNba2018 = nba2018.sort_values(by=['date','homeTeam'])\n",
        "sortedNbaCurrent = nbaCurrent.sort_values(by=['date','homeTeam'])"
      ],
      "execution_count": 0,
      "outputs": []
    },
    {
      "cell_type": "markdown",
      "metadata": {
        "id": "4KlwHes2MYtc",
        "colab_type": "text"
      },
      "source": [
        "We have more recent data for the current NBA results right now than for the odds, so I'll drop the extra to give them the same shape."
      ]
    },
    {
      "cell_type": "code",
      "metadata": {
        "id": "s34rroBDL-R4",
        "colab_type": "code",
        "outputId": "df41b14c-c7de-4209-b61c-ce92a1fae793",
        "colab": {
          "base_uri": "https://localhost:8080/",
          "height": 34
        }
      },
      "source": [
        "sortedNbaCurrent.shape"
      ],
      "execution_count": 30,
      "outputs": [
        {
          "output_type": "execute_result",
          "data": {
            "text/plain": [
              "(805, 86)"
            ]
          },
          "metadata": {
            "tags": []
          },
          "execution_count": 30
        }
      ]
    },
    {
      "cell_type": "code",
      "metadata": {
        "id": "hGrXH_s_P08b",
        "colab_type": "code",
        "outputId": "11b71f0c-cd19-4444-896a-32a4ed2ec181",
        "colab": {
          "base_uri": "https://localhost:8080/",
          "height": 34
        }
      },
      "source": [
        "sortedOddsCurrent.shape"
      ],
      "execution_count": 31,
      "outputs": [
        {
          "output_type": "execute_result",
          "data": {
            "text/plain": [
              "(692, 5)"
            ]
          },
          "metadata": {
            "tags": []
          },
          "execution_count": 31
        }
      ]
    },
    {
      "cell_type": "code",
      "metadata": {
        "id": "Q0xXpvk8MImk",
        "colab_type": "code",
        "colab": {}
      },
      "source": [
        "sortedNbaCurrent = sortedNbaCurrent[:692]"
      ],
      "execution_count": 0,
      "outputs": []
    },
    {
      "cell_type": "code",
      "metadata": {
        "id": "Dw2_IjkWMV1e",
        "colab_type": "code",
        "outputId": "4a4da379-472e-4d63-fac6-a443aa5dbfb9",
        "colab": {
          "base_uri": "https://localhost:8080/",
          "height": 34
        }
      },
      "source": [
        "sortedNbaCurrent.shape"
      ],
      "execution_count": 33,
      "outputs": [
        {
          "output_type": "execute_result",
          "data": {
            "text/plain": [
              "(692, 86)"
            ]
          },
          "metadata": {
            "tags": []
          },
          "execution_count": 33
        }
      ]
    },
    {
      "cell_type": "code",
      "metadata": {
        "id": "9sGlEUgwF24f",
        "colab_type": "code",
        "outputId": "98825838-7bfc-40f8-eab9-f942b59e5bd0",
        "colab": {
          "base_uri": "https://localhost:8080/",
          "height": 359
        }
      },
      "source": [
        "sortedOddsCurrent.tail(10)"
      ],
      "execution_count": 34,
      "outputs": [
        {
          "output_type": "execute_result",
          "data": {
            "text/html": [
              "<div>\n",
              "<style scoped>\n",
              "    .dataframe tbody tr th:only-of-type {\n",
              "        vertical-align: middle;\n",
              "    }\n",
              "\n",
              "    .dataframe tbody tr th {\n",
              "        vertical-align: top;\n",
              "    }\n",
              "\n",
              "    .dataframe thead th {\n",
              "        text-align: right;\n",
              "    }\n",
              "</style>\n",
              "<table border=\"1\" class=\"dataframe\">\n",
              "  <thead>\n",
              "    <tr style=\"text-align: right;\">\n",
              "      <th></th>\n",
              "      <th>date</th>\n",
              "      <th>homeTeam</th>\n",
              "      <th>homeOdds</th>\n",
              "      <th>awayOdds</th>\n",
              "      <th>awayTeam</th>\n",
              "    </tr>\n",
              "  </thead>\n",
              "  <tbody>\n",
              "    <tr>\n",
              "      <th>683</th>\n",
              "      <td>2020-01-25</td>\n",
              "      <td>PHI</td>\n",
              "      <td>185</td>\n",
              "      <td>-230</td>\n",
              "      <td>LAL</td>\n",
              "    </tr>\n",
              "    <tr>\n",
              "      <th>679</th>\n",
              "      <td>2020-01-25</td>\n",
              "      <td>UTA</td>\n",
              "      <td>-210</td>\n",
              "      <td>175</td>\n",
              "      <td>DAL</td>\n",
              "    </tr>\n",
              "    <tr>\n",
              "      <th>690</th>\n",
              "      <td>2020-01-26</td>\n",
              "      <td>ATL</td>\n",
              "      <td>-115</td>\n",
              "      <td>-105</td>\n",
              "      <td>WAS</td>\n",
              "    </tr>\n",
              "    <tr>\n",
              "      <th>684</th>\n",
              "      <td>2020-01-26</td>\n",
              "      <td>DEN</td>\n",
              "      <td>-140</td>\n",
              "      <td>120</td>\n",
              "      <td>HOU</td>\n",
              "    </tr>\n",
              "    <tr>\n",
              "      <th>687</th>\n",
              "      <td>2020-01-26</td>\n",
              "      <td>MEM</td>\n",
              "      <td>-135</td>\n",
              "      <td>115</td>\n",
              "      <td>PHO</td>\n",
              "    </tr>\n",
              "    <tr>\n",
              "      <th>686</th>\n",
              "      <td>2020-01-26</td>\n",
              "      <td>NOP</td>\n",
              "      <td>-125</td>\n",
              "      <td>105</td>\n",
              "      <td>BOS</td>\n",
              "    </tr>\n",
              "    <tr>\n",
              "      <th>689</th>\n",
              "      <td>2020-01-26</td>\n",
              "      <td>NYK</td>\n",
              "      <td>-140</td>\n",
              "      <td>120</td>\n",
              "      <td>BRK</td>\n",
              "    </tr>\n",
              "    <tr>\n",
              "      <th>688</th>\n",
              "      <td>2020-01-26</td>\n",
              "      <td>ORL</td>\n",
              "      <td>135</td>\n",
              "      <td>-155</td>\n",
              "      <td>LAC</td>\n",
              "    </tr>\n",
              "    <tr>\n",
              "      <th>691</th>\n",
              "      <td>2020-01-26</td>\n",
              "      <td>POR</td>\n",
              "      <td>-150</td>\n",
              "      <td>130</td>\n",
              "      <td>IND</td>\n",
              "    </tr>\n",
              "    <tr>\n",
              "      <th>685</th>\n",
              "      <td>2020-01-26</td>\n",
              "      <td>SAS</td>\n",
              "      <td>145</td>\n",
              "      <td>-170</td>\n",
              "      <td>TOR</td>\n",
              "    </tr>\n",
              "  </tbody>\n",
              "</table>\n",
              "</div>"
            ],
            "text/plain": [
              "           date homeTeam  homeOdds  awayOdds awayTeam\n",
              "683  2020-01-25      PHI       185      -230      LAL\n",
              "679  2020-01-25      UTA      -210       175      DAL\n",
              "690  2020-01-26      ATL      -115      -105      WAS\n",
              "684  2020-01-26      DEN      -140       120      HOU\n",
              "687  2020-01-26      MEM      -135       115      PHO\n",
              "686  2020-01-26      NOP      -125       105      BOS\n",
              "689  2020-01-26      NYK      -140       120      BRK\n",
              "688  2020-01-26      ORL       135      -155      LAC\n",
              "691  2020-01-26      POR      -150       130      IND\n",
              "685  2020-01-26      SAS       145      -170      TOR"
            ]
          },
          "metadata": {
            "tags": []
          },
          "execution_count": 34
        }
      ]
    },
    {
      "cell_type": "code",
      "metadata": {
        "id": "PfYgW1TdGvMO",
        "colab_type": "code",
        "outputId": "1eb96752-51a1-4488-c75f-75188889cd78",
        "colab": {
          "base_uri": "https://localhost:8080/",
          "height": 359
        }
      },
      "source": [
        "sortedNbaCurrent[['date','homeTeam','awayTeam']].tail(10)"
      ],
      "execution_count": 35,
      "outputs": [
        {
          "output_type": "execute_result",
          "data": {
            "text/html": [
              "<div>\n",
              "<style scoped>\n",
              "    .dataframe tbody tr th:only-of-type {\n",
              "        vertical-align: middle;\n",
              "    }\n",
              "\n",
              "    .dataframe tbody tr th {\n",
              "        vertical-align: top;\n",
              "    }\n",
              "\n",
              "    .dataframe thead th {\n",
              "        text-align: right;\n",
              "    }\n",
              "</style>\n",
              "<table border=\"1\" class=\"dataframe\">\n",
              "  <thead>\n",
              "    <tr style=\"text-align: right;\">\n",
              "      <th></th>\n",
              "      <th>date</th>\n",
              "      <th>homeTeam</th>\n",
              "      <th>awayTeam</th>\n",
              "    </tr>\n",
              "  </thead>\n",
              "  <tbody>\n",
              "    <tr>\n",
              "      <th>682</th>\n",
              "      <td>2020-01-25</td>\n",
              "      <td>PHI</td>\n",
              "      <td>LAL</td>\n",
              "    </tr>\n",
              "    <tr>\n",
              "      <th>683</th>\n",
              "      <td>2020-01-25</td>\n",
              "      <td>UTA</td>\n",
              "      <td>DAL</td>\n",
              "    </tr>\n",
              "    <tr>\n",
              "      <th>684</th>\n",
              "      <td>2020-01-26</td>\n",
              "      <td>ATL</td>\n",
              "      <td>WAS</td>\n",
              "    </tr>\n",
              "    <tr>\n",
              "      <th>685</th>\n",
              "      <td>2020-01-26</td>\n",
              "      <td>DEN</td>\n",
              "      <td>HOU</td>\n",
              "    </tr>\n",
              "    <tr>\n",
              "      <th>686</th>\n",
              "      <td>2020-01-26</td>\n",
              "      <td>MEM</td>\n",
              "      <td>PHO</td>\n",
              "    </tr>\n",
              "    <tr>\n",
              "      <th>687</th>\n",
              "      <td>2020-01-26</td>\n",
              "      <td>NOP</td>\n",
              "      <td>BOS</td>\n",
              "    </tr>\n",
              "    <tr>\n",
              "      <th>688</th>\n",
              "      <td>2020-01-26</td>\n",
              "      <td>NYK</td>\n",
              "      <td>BRK</td>\n",
              "    </tr>\n",
              "    <tr>\n",
              "      <th>689</th>\n",
              "      <td>2020-01-26</td>\n",
              "      <td>ORL</td>\n",
              "      <td>LAC</td>\n",
              "    </tr>\n",
              "    <tr>\n",
              "      <th>690</th>\n",
              "      <td>2020-01-26</td>\n",
              "      <td>POR</td>\n",
              "      <td>IND</td>\n",
              "    </tr>\n",
              "    <tr>\n",
              "      <th>691</th>\n",
              "      <td>2020-01-26</td>\n",
              "      <td>SAS</td>\n",
              "      <td>TOR</td>\n",
              "    </tr>\n",
              "  </tbody>\n",
              "</table>\n",
              "</div>"
            ],
            "text/plain": [
              "           date homeTeam awayTeam\n",
              "682  2020-01-25      PHI      LAL\n",
              "683  2020-01-25      UTA      DAL\n",
              "684  2020-01-26      ATL      WAS\n",
              "685  2020-01-26      DEN      HOU\n",
              "686  2020-01-26      MEM      PHO\n",
              "687  2020-01-26      NOP      BOS\n",
              "688  2020-01-26      NYK      BRK\n",
              "689  2020-01-26      ORL      LAC\n",
              "690  2020-01-26      POR      IND\n",
              "691  2020-01-26      SAS      TOR"
            ]
          },
          "metadata": {
            "tags": []
          },
          "execution_count": 35
        }
      ]
    },
    {
      "cell_type": "markdown",
      "metadata": {
        "id": "lRvUeokhzSKW",
        "colab_type": "text"
      },
      "source": [
        "##### Now that the two dfs have the exact same shape and format, it's time to tack on the money line column."
      ]
    },
    {
      "cell_type": "code",
      "metadata": {
        "id": "GuIdUo_G1aX4",
        "colab_type": "code",
        "colab": {}
      },
      "source": [
        "## add home and away money line column\n",
        "sortedNba2017['homeOdds'] = sortedOdds2017['homeOdds']\n",
        "sortedNba2017['awayOdds'] = sortedOdds2017['awayOdds']\n",
        "\n",
        "sortedNba2018['homeOdds'] = sortedOdds2018['homeOdds']\n",
        "sortedNba2018['awayOdds'] = sortedOdds2018['awayOdds']\n",
        "\n",
        "sortedNbaCurrent['homeOdds'] = sortedOddsCurrent['homeOdds']\n",
        "sortedNbaCurrent['awayOdds'] = sortedOddsCurrent['awayOdds']"
      ],
      "execution_count": 0,
      "outputs": []
    },
    {
      "cell_type": "code",
      "metadata": {
        "id": "kTGohEdycXjO",
        "colab_type": "code",
        "outputId": "8c0bb826-8d63-4bd4-a31b-3d7a03c63bc1",
        "colab": {
          "base_uri": "https://localhost:8080/",
          "height": 359
        }
      },
      "source": [
        "sortedNbaCurrent[['date','homeTeam','awayTeam','homeOdds','awayOdds']].tail(10)"
      ],
      "execution_count": 37,
      "outputs": [
        {
          "output_type": "execute_result",
          "data": {
            "text/html": [
              "<div>\n",
              "<style scoped>\n",
              "    .dataframe tbody tr th:only-of-type {\n",
              "        vertical-align: middle;\n",
              "    }\n",
              "\n",
              "    .dataframe tbody tr th {\n",
              "        vertical-align: top;\n",
              "    }\n",
              "\n",
              "    .dataframe thead th {\n",
              "        text-align: right;\n",
              "    }\n",
              "</style>\n",
              "<table border=\"1\" class=\"dataframe\">\n",
              "  <thead>\n",
              "    <tr style=\"text-align: right;\">\n",
              "      <th></th>\n",
              "      <th>date</th>\n",
              "      <th>homeTeam</th>\n",
              "      <th>awayTeam</th>\n",
              "      <th>homeOdds</th>\n",
              "      <th>awayOdds</th>\n",
              "    </tr>\n",
              "  </thead>\n",
              "  <tbody>\n",
              "    <tr>\n",
              "      <th>682</th>\n",
              "      <td>2020-01-25</td>\n",
              "      <td>PHI</td>\n",
              "      <td>LAL</td>\n",
              "      <td>-125</td>\n",
              "      <td>105</td>\n",
              "    </tr>\n",
              "    <tr>\n",
              "      <th>683</th>\n",
              "      <td>2020-01-25</td>\n",
              "      <td>UTA</td>\n",
              "      <td>DAL</td>\n",
              "      <td>185</td>\n",
              "      <td>-230</td>\n",
              "    </tr>\n",
              "    <tr>\n",
              "      <th>684</th>\n",
              "      <td>2020-01-26</td>\n",
              "      <td>ATL</td>\n",
              "      <td>WAS</td>\n",
              "      <td>-140</td>\n",
              "      <td>120</td>\n",
              "    </tr>\n",
              "    <tr>\n",
              "      <th>685</th>\n",
              "      <td>2020-01-26</td>\n",
              "      <td>DEN</td>\n",
              "      <td>HOU</td>\n",
              "      <td>145</td>\n",
              "      <td>-170</td>\n",
              "    </tr>\n",
              "    <tr>\n",
              "      <th>686</th>\n",
              "      <td>2020-01-26</td>\n",
              "      <td>MEM</td>\n",
              "      <td>PHO</td>\n",
              "      <td>-125</td>\n",
              "      <td>105</td>\n",
              "    </tr>\n",
              "    <tr>\n",
              "      <th>687</th>\n",
              "      <td>2020-01-26</td>\n",
              "      <td>NOP</td>\n",
              "      <td>BOS</td>\n",
              "      <td>-135</td>\n",
              "      <td>115</td>\n",
              "    </tr>\n",
              "    <tr>\n",
              "      <th>688</th>\n",
              "      <td>2020-01-26</td>\n",
              "      <td>NYK</td>\n",
              "      <td>BRK</td>\n",
              "      <td>135</td>\n",
              "      <td>-155</td>\n",
              "    </tr>\n",
              "    <tr>\n",
              "      <th>689</th>\n",
              "      <td>2020-01-26</td>\n",
              "      <td>ORL</td>\n",
              "      <td>LAC</td>\n",
              "      <td>-140</td>\n",
              "      <td>120</td>\n",
              "    </tr>\n",
              "    <tr>\n",
              "      <th>690</th>\n",
              "      <td>2020-01-26</td>\n",
              "      <td>POR</td>\n",
              "      <td>IND</td>\n",
              "      <td>-115</td>\n",
              "      <td>-105</td>\n",
              "    </tr>\n",
              "    <tr>\n",
              "      <th>691</th>\n",
              "      <td>2020-01-26</td>\n",
              "      <td>SAS</td>\n",
              "      <td>TOR</td>\n",
              "      <td>-150</td>\n",
              "      <td>130</td>\n",
              "    </tr>\n",
              "  </tbody>\n",
              "</table>\n",
              "</div>"
            ],
            "text/plain": [
              "           date homeTeam awayTeam  homeOdds  awayOdds\n",
              "682  2020-01-25      PHI      LAL      -125       105\n",
              "683  2020-01-25      UTA      DAL       185      -230\n",
              "684  2020-01-26      ATL      WAS      -140       120\n",
              "685  2020-01-26      DEN      HOU       145      -170\n",
              "686  2020-01-26      MEM      PHO      -125       105\n",
              "687  2020-01-26      NOP      BOS      -135       115\n",
              "688  2020-01-26      NYK      BRK       135      -155\n",
              "689  2020-01-26      ORL      LAC      -140       120\n",
              "690  2020-01-26      POR      IND      -115      -105\n",
              "691  2020-01-26      SAS      TOR      -150       130"
            ]
          },
          "metadata": {
            "tags": []
          },
          "execution_count": 37
        }
      ]
    },
    {
      "cell_type": "markdown",
      "metadata": {
        "id": "lZhfFgiu2r9F",
        "colab_type": "text"
      },
      "source": [
        "## Transform the Data\n",
        "Currently, each row represents a box score of a completed game. Since we obviously don't have access to that information when predicting, each statistical feature will become the rolling average of the previous X games. I kept the two seasons' dfs seperate so that performance from the previous season wasn't included. The first X games of each season are dropped since there isn't enough information.\n",
        "\n",
        "After testing 1-7 games, 3 has been performing the best. 2-4 all performed similarly but more than that was a clear drop in performance. \n",
        "\n",
        "Another note: the rolling average is from the previous X home or away games for that team. This accounts for teams' road vs away performance but could lose some performance where a team is playing their first home game after many road games and vice versa."
      ]
    },
    {
      "cell_type": "code",
      "metadata": {
        "id": "90zkHx8e2Bj-",
        "colab_type": "code",
        "outputId": "4f622e90-7e4c-4b49-8052-a90aec8136a9",
        "colab": {
          "base_uri": "https://localhost:8080/",
          "height": 102
        }
      },
      "source": [
        "## apply our transformation\n",
        "avg2017 = avg_previous_num_games(sortedNba2017, 3)\n",
        "avg2018 = avg_previous_num_games(sortedNba2018, 3)\n",
        "nba_test = avg_previous_num_games(sortedNbaCurrent, 3)"
      ],
      "execution_count": 38,
      "outputs": [
        {
          "output_type": "stream",
          "text": [
            "/usr/local/lib/python3.6/dist-packages/pandas/core/indexing.py:205: SettingWithCopyWarning: \n",
            "A value is trying to be set on a copy of a slice from a DataFrame\n",
            "\n",
            "See the caveats in the documentation: http://pandas.pydata.org/pandas-docs/stable/user_guide/indexing.html#returning-a-view-versus-a-copy\n",
            "  self._setitem_with_indexer(indexer, value)\n"
          ],
          "name": "stderr"
        }
      ]
    },
    {
      "cell_type": "code",
      "metadata": {
        "id": "AcIrn5ExUnla",
        "colab_type": "code",
        "outputId": "b74b2c2e-a637-4994-a99b-cb4adf2eb74b",
        "colab": {
          "base_uri": "https://localhost:8080/",
          "height": 34
        }
      },
      "source": [
        "nba_test.shape"
      ],
      "execution_count": 39,
      "outputs": [
        {
          "output_type": "execute_result",
          "data": {
            "text/plain": [
              "(590, 88)"
            ]
          },
          "metadata": {
            "tags": []
          },
          "execution_count": 39
        }
      ]
    },
    {
      "cell_type": "code",
      "metadata": {
        "id": "Z1UqIMK0hixu",
        "colab_type": "code",
        "colab": {}
      },
      "source": [
        "nba_test.reset_index(drop=True, inplace=True)"
      ],
      "execution_count": 0,
      "outputs": []
    },
    {
      "cell_type": "code",
      "metadata": {
        "id": "Uq6NbmEt5NeB",
        "colab_type": "code",
        "colab": {}
      },
      "source": [
        "## combine the two dfs\n",
        "nba_final = pd.concat([avg2017, avg2018])"
      ],
      "execution_count": 0,
      "outputs": []
    },
    {
      "cell_type": "code",
      "metadata": {
        "id": "aVA6IBWqacab",
        "colab_type": "code",
        "outputId": "b1b8e175-4453-412a-b2e4-2e9fdf437102",
        "colab": {
          "base_uri": "https://localhost:8080/",
          "height": 34
        }
      },
      "source": [
        "nba_final.shape"
      ],
      "execution_count": 42,
      "outputs": [
        {
          "output_type": "execute_result",
          "data": {
            "text/plain": [
              "(2251, 88)"
            ]
          },
          "metadata": {
            "tags": []
          },
          "execution_count": 42
        }
      ]
    },
    {
      "cell_type": "markdown",
      "metadata": {
        "id": "uV13YF2T7c3b",
        "colab_type": "text"
      },
      "source": [
        "## Initial DBA\n",
        "Let's poke around our data."
      ]
    },
    {
      "cell_type": "markdown",
      "metadata": {
        "id": "T4HqeVMI_j8_",
        "colab_type": "text"
      },
      "source": [
        "##### As seen below, the money line feature needs to be normalized, which we'll do to all our features to be safe."
      ]
    },
    {
      "cell_type": "code",
      "metadata": {
        "id": "Dn51Atd3_Vaj",
        "colab_type": "code",
        "outputId": "0e40fad9-a0f9-4d2f-e210-435e0e34dd2b",
        "colab": {
          "base_uri": "https://localhost:8080/",
          "height": 296
        }
      },
      "source": [
        "## home money line distribution\n",
        "sns.distplot(nba_final['homeOdds'])"
      ],
      "execution_count": 43,
      "outputs": [
        {
          "output_type": "execute_result",
          "data": {
            "text/plain": [
              "<matplotlib.axes._subplots.AxesSubplot at 0x7f7c12b47c50>"
            ]
          },
          "metadata": {
            "tags": []
          },
          "execution_count": 43
        },
        {
          "output_type": "display_data",
          "data": {
            "image/png": "[encoded data removed]",
            "text/plain": [
              "<Figure size 432x288 with 1 Axes>"
            ]
          },
          "metadata": {
            "tags": []
          }
        }
      ]
    },
    {
      "cell_type": "code",
      "metadata": {
        "id": "JH-175LVSTYj",
        "colab_type": "code",
        "outputId": "dc447e6b-357f-4577-a4db-47e4b47e6542",
        "colab": {
          "base_uri": "https://localhost:8080/",
          "height": 297
        }
      },
      "source": [
        "## away money line distribution\n",
        "sns.distplot(nba_final['awayOdds'])"
      ],
      "execution_count": 44,
      "outputs": [
        {
          "output_type": "execute_result",
          "data": {
            "text/plain": [
              "<matplotlib.axes._subplots.AxesSubplot at 0x7f7c12ab4160>"
            ]
          },
          "metadata": {
            "tags": []
          },
          "execution_count": 44
        },
        {
          "output_type": "display_data",
          "data": {
            "image/png": "[encoded data removed]",
            "text/plain": [
              "<Figure size 432x288 with 1 Axes>"
            ]
          },
          "metadata": {
            "tags": []
          }
        }
      ]
    },
    {
      "cell_type": "code",
      "metadata": {
        "id": "auvUJ4ye_w_D",
        "colab_type": "code",
        "outputId": "e86b83d4-4e10-4c47-a0b7-3e8bdaa3111a",
        "colab": {
          "base_uri": "https://localhost:8080/",
          "height": 297
        }
      },
      "source": [
        "## points distribution\n",
        "sns.distplot(nba_final['home_points'])"
      ],
      "execution_count": 45,
      "outputs": [
        {
          "output_type": "execute_result",
          "data": {
            "text/plain": [
              "<matplotlib.axes._subplots.AxesSubplot at 0x7f7c125804e0>"
            ]
          },
          "metadata": {
            "tags": []
          },
          "execution_count": 45
        },
        {
          "output_type": "display_data",
          "data": {
            "image/png": "[encoded data removed]",
            "text/plain": [
              "<Figure size 432x288 with 1 Axes>"
            ]
          },
          "metadata": {
            "tags": []
          }
        }
      ]
    },
    {
      "cell_type": "markdown",
      "metadata": {
        "id": "BfwXD0rL9Pzg",
        "colab_type": "text"
      },
      "source": [
        "##### Our correlations all seem logical with the away team win total and the home team loss total being the strongest negative correlation to a home win -- essentially representing which team has had more success so far that season."
      ]
    },
    {
      "cell_type": "code",
      "metadata": {
        "id": "tQVx5bzo6bM8",
        "colab_type": "code",
        "colab": {}
      },
      "source": [
        "## get correlations to win\n",
        "winCorr = nba_final.corr()['homeWin'].sort_values(ascending=False)"
      ],
      "execution_count": 0,
      "outputs": []
    },
    {
      "cell_type": "code",
      "metadata": {
        "id": "hiPoLjax6yBM",
        "colab_type": "code",
        "outputId": "aef381d4-063a-4e6a-e2a0-60389b028a35",
        "colab": {
          "base_uri": "https://localhost:8080/",
          "height": 204
        }
      },
      "source": [
        "## top 10 correlations to home win\n",
        "winCorr.head(10)"
      ],
      "execution_count": 47,
      "outputs": [
        {
          "output_type": "execute_result",
          "data": {
            "text/plain": [
              "homeWin                                 1.000000\n",
              "home_offensive_rating                   0.185224\n",
              "home_true_shooting_percentage           0.156541\n",
              "home_effective_field_goal_percentage    0.151229\n",
              "home_points                             0.147727\n",
              "away_losses                             0.142922\n",
              "home_total_rebound_percentage           0.136997\n",
              "home_wins                               0.131149\n",
              "away_defensive_rating                   0.096225\n",
              "home_three_point_attempt_rate           0.078068\n",
              "Name: homeWin, dtype: float64"
            ]
          },
          "metadata": {
            "tags": []
          },
          "execution_count": 47
        }
      ]
    },
    {
      "cell_type": "code",
      "metadata": {
        "id": "zqov0n-p69AP",
        "colab_type": "code",
        "outputId": "b43dc9ac-5236-4ace-d743-c4a08429dcdc",
        "colab": {
          "base_uri": "https://localhost:8080/",
          "height": 204
        }
      },
      "source": [
        "## bottom 10 correlations to home win\n",
        "winCorr.tail(10)"
      ],
      "execution_count": 48,
      "outputs": [
        {
          "output_type": "execute_result",
          "data": {
            "text/plain": [
              "away_three_point_field_goals    -0.083418\n",
              "away_true_shooting_percentage   -0.084823\n",
              "away_points                     -0.087323\n",
              "away_offensive_rating           -0.088623\n",
              "home_defensive_rating           -0.097847\n",
              "home_blocks                     -0.120913\n",
              "home_total_rebounds             -0.124455\n",
              "home_defensive_rebounds         -0.127223\n",
              "away_wins                       -0.138545\n",
              "home_losses                     -0.203298\n",
              "Name: homeWin, dtype: float64"
            ]
          },
          "metadata": {
            "tags": []
          },
          "execution_count": 48
        }
      ]
    },
    {
      "cell_type": "code",
      "metadata": {
        "id": "qwqU9NOK7CpZ",
        "colab_type": "code",
        "outputId": "b2350a8c-136e-41b2-9733-fa8bd868187b",
        "colab": {
          "base_uri": "https://localhost:8080/",
          "height": 806
        }
      },
      "source": [
        "# Correlation heatmap\n",
        "plt.subplots(figsize=(15,10))\n",
        "ax = plt.axes()\n",
        "corr = nba_final.corr()\n",
        "sns.heatmap(corr,cmap = \"Blues\")"
      ],
      "execution_count": 49,
      "outputs": [
        {
          "output_type": "execute_result",
          "data": {
            "text/plain": [
              "<matplotlib.axes._subplots.AxesSubplot at 0x7f7c123f3e48>"
            ]
          },
          "metadata": {
            "tags": []
          },
          "execution_count": 49
        },
        {
          "output_type": "display_data",
          "data": {
            "image/png": "[encoded data removed]",
            "text/plain": [
              "<Figure size 1080x720 with 2 Axes>"
            ]
          },
          "metadata": {
            "tags": []
          }
        }
      ]
    },
    {
      "cell_type": "markdown",
      "metadata": {
        "id": "PFApfdVx-6xr",
        "colab_type": "text"
      },
      "source": [
        "##### We have high collinearity among some of our features, mostly in cases where there's a total and a percentage value for one statistic. If we we're going to build a regression model we'd need to address this, but for our classifier, it shouldn't impact predictive performance."
      ]
    },
    {
      "cell_type": "code",
      "metadata": {
        "id": "zfvazXaZ7vfl",
        "colab_type": "code",
        "outputId": "fede8761-0860-4d18-e8e8-1da82e7ca9ee",
        "colab": {
          "base_uri": "https://localhost:8080/",
          "height": 459
        }
      },
      "source": [
        "## list of the top 25 positive correlations\n",
        "top25_corr_pos = nba_final.corr().unstack().sort_values(ascending=False).drop_duplicates()\n",
        "top25_corr_pos.head(25)"
      ],
      "execution_count": 50,
      "outputs": [
        {
          "output_type": "execute_result",
          "data": {
            "text/plain": [
              "awayOdds                              awayOdds                                1.000000\n",
              "away_steal_percentage                 away_steals                             0.984256\n",
              "away_turnovers                        away_turnover_percentage                0.966290\n",
              "away_free_throw_attempts              away_free_throw_attempt_rate            0.965782\n",
              "home_true_shooting_percentage         home_effective_field_goal_percentage    0.964337\n",
              "away_effective_field_goal_percentage  away_true_shooting_percentage           0.962943\n",
              "away_three_point_field_goal_attempts  away_three_point_attempt_rate           0.955601\n",
              "away_block_percentage                 away_blocks                             0.941173\n",
              "home_free_throws                      home_free_throw_attempts                0.935080\n",
              "away_field_goal_percentage            away_effective_field_goal_percentage    0.935055\n",
              "away_free_throw_attempts              away_free_throws                        0.929422\n",
              "away_offensive_rebound_percentage     away_offensive_rebounds                 0.921856\n",
              "away_free_throw_attempt_rate          away_free_throws                        0.905574\n",
              "away_field_goal_percentage            away_true_shooting_percentage           0.904959\n",
              "away_points                           away_field_goals                        0.848261\n",
              "home_offensive_rating                 home_true_shooting_percentage           0.846469\n",
              "away_points                           away_offensive_rating                   0.845379\n",
              "away_offensive_rating                 away_true_shooting_percentage           0.843891\n",
              "home_offensive_rating                 home_points                             0.842823\n",
              "home_total_rebounds                   home_defensive_rebounds                 0.840955\n",
              "away_total_rebounds                   away_defensive_rebounds                 0.836379\n",
              "away_assists                          away_assist_percentage                  0.831216\n",
              "home_offensive_rating                 home_effective_field_goal_percentage    0.810967\n",
              "away_effective_field_goal_percentage  away_offensive_rating                   0.810077\n",
              "home_two_point_field_goal_percentage  home_field_goal_percentage              0.809115\n",
              "dtype: float64"
            ]
          },
          "metadata": {
            "tags": []
          },
          "execution_count": 50
        }
      ]
    },
    {
      "cell_type": "code",
      "metadata": {
        "id": "q9bj3Zli-JVQ",
        "colab_type": "code",
        "outputId": "4425f47e-a10e-4e6a-eefd-210aa44cc57b",
        "colab": {
          "base_uri": "https://localhost:8080/",
          "height": 459
        }
      },
      "source": [
        "## list of the top 25 negative correlations\n",
        "top25_corr_neg = nba_final.corr().unstack().sort_values().drop_duplicates()\n",
        "top25_corr_neg.head(25)"
      ],
      "execution_count": 51,
      "outputs": [
        {
          "output_type": "execute_result",
          "data": {
            "text/plain": [
              "home_defensive_rebound_percentage     home_offensive_rebounds                -0.910098\n",
              "away_two_point_field_goal_attempts    away_three_point_attempt_rate          -0.874806\n",
              "homeOdds                              awayOdds                               -0.870390\n",
              "away_two_point_field_goal_attempts    away_three_point_field_goal_attempts   -0.699835\n",
              "home_total_rebound_percentage         home_total_rebounds                    -0.687128\n",
              "home_defensive_rebounds               home_true_shooting_percentage          -0.635123\n",
              "away_two_point_field_goals            away_three_point_attempt_rate          -0.621524\n",
              "away_three_point_field_goals          away_two_point_field_goal_attempts     -0.612659\n",
              "home_effective_field_goal_percentage  home_defensive_rebounds                -0.603563\n",
              "home_offensive_rating                 home_defensive_rebounds                -0.588364\n",
              "home_three_point_field_goal_attempts  home_two_point_field_goal_attempts     -0.548963\n",
              "away_defensive_rating                 away_defensive_rebounds                -0.547944\n",
              "home_defensive_rebounds               home_total_rebound_percentage          -0.547006\n",
              "away_three_point_field_goal_attempts  away_two_point_field_goals             -0.490052\n",
              "home_true_shooting_percentage         home_total_rebounds                    -0.479735\n",
              "home_two_point_field_goal_attempts    home_three_point_field_goals           -0.468607\n",
              "away_field_goal_attempts              away_turnover_percentage               -0.462304\n",
              "home_effective_field_goal_percentage  home_total_rebounds                    -0.460501\n",
              "away_three_point_field_goals          away_two_point_field_goals             -0.455393\n",
              "home_total_rebounds                   home_offensive_rating                  -0.448442\n",
              "home_defensive_rebound_percentage     home_total_rebounds                    -0.447166\n",
              "home_offensive_rebound_percentage     home_defensive_rebounds                -0.433218\n",
              "away_defensive_rating                 away_total_rebounds                    -0.419978\n",
              "home_offensive_rebounds               home_total_rebound_percentage          -0.419507\n",
              "home_total_rebounds                   home_offensive_rebound_percentage      -0.380943\n",
              "dtype: float64"
            ]
          },
          "metadata": {
            "tags": []
          },
          "execution_count": 51
        }
      ]
    },
    {
      "cell_type": "markdown",
      "metadata": {
        "id": "Bmgk_6qWBzMZ",
        "colab_type": "text"
      },
      "source": [
        "## Feature Selection\n",
        "Here I'll scale our features and reduce dimensionality before moving on to creating models. We'll use the robust scalar from sklearn because it can deal with positive and negative numbers and is robust to outliers, both of which we'll need mostly for our money line feature."
      ]
    },
    {
      "cell_type": "code",
      "metadata": {
        "id": "D4WrKZhDB-6d",
        "colab_type": "code",
        "colab": {}
      },
      "source": [
        "## create list of features\n",
        "excluded_from_avg = ['home_wins', 'home_losses', 'away_wins','away_losses','awayOdds','homeOdds']\n",
        "features = away_cols + home_cols + excluded_from_avg"
      ],
      "execution_count": 0,
      "outputs": []
    },
    {
      "cell_type": "code",
      "metadata": {
        "id": "pKJoiqgM-nL3",
        "colab_type": "code",
        "colab": {}
      },
      "source": [
        "## declare features\n",
        "x = nba_final[features]\n",
        "## declare target variable\n",
        "y = nba_final['homeWin']"
      ],
      "execution_count": 0,
      "outputs": []
    },
    {
      "cell_type": "code",
      "metadata": {
        "id": "RsZVxgqbC40F",
        "colab_type": "code",
        "colab": {}
      },
      "source": [
        "## scale the features\n",
        "scaler = RobustScaler()\n",
        "x_scaled = scaler.fit_transform(x)"
      ],
      "execution_count": 0,
      "outputs": []
    },
    {
      "cell_type": "markdown",
      "metadata": {
        "id": "EtTmvT5XH30-",
        "colab_type": "text"
      },
      "source": [
        "According to our PCA below, ~35 features explain almost all of the variance. Let's keep 40 features to be safe."
      ]
    },
    {
      "cell_type": "code",
      "metadata": {
        "id": "WYLtZtSVHrKN",
        "colab_type": "code",
        "outputId": "9bc5f3ff-d4eb-4345-dade-7cbe964cee59",
        "colab": {
          "base_uri": "https://localhost:8080/",
          "height": 0
        }
      },
      "source": [
        "#Fitting the PCA algorithm with our Data\n",
        "pca = PCA().fit(x_scaled)\n",
        "#Plotting the Cumulative Summation of the Explained Variance\n",
        "plt.figure()\n",
        "plt.plot(np.cumsum(pca.explained_variance_ratio_))\n",
        "plt.xlabel('Number of Components')\n",
        "plt.ylabel('Variance (%)') #for each component\n",
        "plt.title('Explained Variance')\n",
        "plt.show()"
      ],
      "execution_count": 55,
      "outputs": [
        {
          "output_type": "display_data",
          "data": {
            "image/png": "[encoded data removed]",
            "text/plain": [
              "<Figure size 432x288 with 1 Axes>"
            ]
          },
          "metadata": {
            "tags": []
          }
        }
      ]
    },
    {
      "cell_type": "code",
      "metadata": {
        "id": "HAyt7p8aHzxI",
        "colab_type": "code",
        "colab": {}
      },
      "source": [
        "## keep 30 components\n",
        "x_pca = PCA(40).fit_transform(x_scaled)"
      ],
      "execution_count": 0,
      "outputs": []
    },
    {
      "cell_type": "markdown",
      "metadata": {
        "id": "JuqTgXL8IBHe",
        "colab_type": "text"
      },
      "source": [
        "## Let's Build Some Models!\n",
        "We'll compare them using the f1 score from sklearn to describe their accuracy."
      ]
    },
    {
      "cell_type": "code",
      "metadata": {
        "id": "zfnng58hH_RX",
        "colab_type": "code",
        "colab": {}
      },
      "source": [
        "## create our model accuracy scorer\n",
        "scorer = make_scorer(f1_score, pos_label=None, average='weighted')"
      ],
      "execution_count": 0,
      "outputs": []
    },
    {
      "cell_type": "markdown",
      "metadata": {
        "id": "f16jN4SaIL5M",
        "colab_type": "text"
      },
      "source": [
        "#### Naive Bayes"
      ]
    },
    {
      "cell_type": "code",
      "metadata": {
        "id": "NhjSWvcCII3o",
        "colab_type": "code",
        "colab": {}
      },
      "source": [
        "# Our data is continuous, so we'll use the Gaussian Classifier \n",
        "from sklearn.naive_bayes import GaussianNB\n",
        "gnb = GaussianNB()"
      ],
      "execution_count": 0,
      "outputs": []
    },
    {
      "cell_type": "code",
      "metadata": {
        "id": "KCFhg_yfIOet",
        "colab_type": "code",
        "outputId": "0bf1394d-2a8e-4801-a680-198aed6dbb41",
        "colab": {
          "base_uri": "https://localhost:8080/",
          "height": 34
        }
      },
      "source": [
        "## print score\n",
        "print('Average Gaussian NB F1: {}'.format((cross_val_score(gnb, x_pca, y, scoring=scorer)).mean()))"
      ],
      "execution_count": 59,
      "outputs": [
        {
          "output_type": "stream",
          "text": [
            "Average Gaussian NB F1: 0.6510273839589721\n"
          ],
          "name": "stdout"
        }
      ]
    },
    {
      "cell_type": "markdown",
      "metadata": {
        "id": "8ukNkLIXISob",
        "colab_type": "text"
      },
      "source": [
        "#### Decision Tree"
      ]
    },
    {
      "cell_type": "code",
      "metadata": {
        "id": "978xUZaqIQEV",
        "colab_type": "code",
        "colab": {}
      },
      "source": [
        "from sklearn import tree\n",
        "clf = tree.DecisionTreeClassifier()"
      ],
      "execution_count": 0,
      "outputs": []
    },
    {
      "cell_type": "code",
      "metadata": {
        "id": "i4kRyP9jIVME",
        "colab_type": "code",
        "outputId": "15557bd0-5d3b-492e-fa81-e176c3cba967",
        "colab": {
          "base_uri": "https://localhost:8080/",
          "height": 34
        }
      },
      "source": [
        "## print score\n",
        "print('Average Decision Tree F1: {}'.format((cross_val_score(clf, x_pca, y, scoring=scorer)).mean()))"
      ],
      "execution_count": 61,
      "outputs": [
        {
          "output_type": "stream",
          "text": [
            "Average Decision Tree F1: 0.5578871367754237\n"
          ],
          "name": "stdout"
        }
      ]
    },
    {
      "cell_type": "markdown",
      "metadata": {
        "id": "4AtRbSZwIauS",
        "colab_type": "text"
      },
      "source": [
        "#### Random Forest"
      ]
    },
    {
      "cell_type": "code",
      "metadata": {
        "id": "nPiMnIRZIWRC",
        "colab_type": "code",
        "colab": {}
      },
      "source": [
        "from sklearn import ensemble\n",
        "rfc = ensemble.RandomForestClassifier()"
      ],
      "execution_count": 0,
      "outputs": []
    },
    {
      "cell_type": "code",
      "metadata": {
        "id": "v5WuXOnNIcQe",
        "colab_type": "code",
        "outputId": "e86d17d9-cf80-47eb-f834-a1a2e985ace7",
        "colab": {
          "base_uri": "https://localhost:8080/",
          "height": 34
        }
      },
      "source": [
        "## print score\n",
        "print('Average Random Forest F1 score: {}'.format((cross_val_score(rfc, x_pca, y, scoring=scorer)).mean()))"
      ],
      "execution_count": 63,
      "outputs": [
        {
          "output_type": "stream",
          "text": [
            "Average Random Forest F1 score: 0.6360670107721427\n"
          ],
          "name": "stdout"
        }
      ]
    },
    {
      "cell_type": "markdown",
      "metadata": {
        "id": "ssHQ-FaSIhJ0",
        "colab_type": "text"
      },
      "source": [
        "#### KNN"
      ]
    },
    {
      "cell_type": "code",
      "metadata": {
        "id": "fE61LpbcId9Q",
        "colab_type": "code",
        "colab": {}
      },
      "source": [
        "from sklearn.neighbors import KNeighborsClassifier\n",
        "neighbors = KNeighborsClassifier(n_neighbors=3)"
      ],
      "execution_count": 0,
      "outputs": []
    },
    {
      "cell_type": "code",
      "metadata": {
        "id": "ozRBDOG8IjYL",
        "colab_type": "code",
        "outputId": "e8572045-c16a-4ffb-8cb3-618fe1d65498",
        "colab": {
          "base_uri": "https://localhost:8080/",
          "height": 0
        }
      },
      "source": [
        "## print score\n",
        "print('Average KNN F1 score: {}'.format((cross_val_score(neighbors, x_pca, y, scoring=scorer)).mean()))"
      ],
      "execution_count": 65,
      "outputs": [
        {
          "output_type": "stream",
          "text": [
            "Average KNN F1 score: 0.5553087086648063\n"
          ],
          "name": "stdout"
        }
      ]
    },
    {
      "cell_type": "markdown",
      "metadata": {
        "id": "Deb1pj7GIoXO",
        "colab_type": "text"
      },
      "source": [
        "#### Multi-layer Perceptron"
      ]
    },
    {
      "cell_type": "code",
      "metadata": {
        "id": "V_Op5p5RIklK",
        "colab_type": "code",
        "colab": {}
      },
      "source": [
        "from sklearn.neural_network import MLPClassifier"
      ],
      "execution_count": 0,
      "outputs": []
    },
    {
      "cell_type": "code",
      "metadata": {
        "id": "VYXXaTrWIqfB",
        "colab_type": "code",
        "colab": {}
      },
      "source": [
        "# Establish and fit the model, with a single, 100 perceptron layer.\n",
        "mlp100 = MLPClassifier(hidden_layer_sizes=(100,))\n",
        "mlp1000 = MLPClassifier(hidden_layer_sizes=(1000,))"
      ],
      "execution_count": 0,
      "outputs": []
    },
    {
      "cell_type": "code",
      "metadata": {
        "id": "EITaWUm1Ir1H",
        "colab_type": "code",
        "outputId": "56dcbf96-9d72-478a-de49-43624f9fa4cf",
        "colab": {
          "base_uri": "https://localhost:8080/",
          "height": 156
        }
      },
      "source": [
        "## print score\n",
        "print('Average MLP100 F1 score: {}'.format((cross_val_score(mlp100, x_pca, y, scoring=scorer)).mean()))"
      ],
      "execution_count": 68,
      "outputs": [
        {
          "output_type": "stream",
          "text": [
            "/usr/local/lib/python3.6/dist-packages/sklearn/neural_network/_multilayer_perceptron.py:571: ConvergenceWarning: Stochastic Optimizer: Maximum iterations (200) reached and the optimization hasn't converged yet.\n",
            "  % self.max_iter, ConvergenceWarning)\n",
            "/usr/local/lib/python3.6/dist-packages/sklearn/neural_network/_multilayer_perceptron.py:571: ConvergenceWarning: Stochastic Optimizer: Maximum iterations (200) reached and the optimization hasn't converged yet.\n",
            "  % self.max_iter, ConvergenceWarning)\n",
            "/usr/local/lib/python3.6/dist-packages/sklearn/neural_network/_multilayer_perceptron.py:571: ConvergenceWarning: Stochastic Optimizer: Maximum iterations (200) reached and the optimization hasn't converged yet.\n",
            "  % self.max_iter, ConvergenceWarning)\n"
          ],
          "name": "stderr"
        },
        {
          "output_type": "stream",
          "text": [
            "Average MLP100 F1 score: 0.6382590294355653\n"
          ],
          "name": "stdout"
        }
      ]
    },
    {
      "cell_type": "code",
      "metadata": {
        "id": "fsoOTuOD8BaV",
        "colab_type": "code",
        "outputId": "b7acb949-2592-4362-ee45-7a2db8da9379",
        "colab": {
          "base_uri": "https://localhost:8080/",
          "height": 88
        }
      },
      "source": [
        "## print score\n",
        "print('Average MLP1000 F1 score: {}'.format((cross_val_score(mlp1000, x_pca, y, scoring=scorer)).mean()))"
      ],
      "execution_count": 69,
      "outputs": [
        {
          "output_type": "stream",
          "text": [
            "/usr/local/lib/python3.6/dist-packages/sklearn/neural_network/_multilayer_perceptron.py:571: ConvergenceWarning: Stochastic Optimizer: Maximum iterations (200) reached and the optimization hasn't converged yet.\n",
            "  % self.max_iter, ConvergenceWarning)\n"
          ],
          "name": "stderr"
        },
        {
          "output_type": "stream",
          "text": [
            "Average MLP1000 F1 score: 0.6378804819693731\n"
          ],
          "name": "stdout"
        }
      ]
    },
    {
      "cell_type": "markdown",
      "metadata": {
        "id": "1ph2y9_MI1LQ",
        "colab_type": "text"
      },
      "source": [
        "## Keras / TensorFlow Neural Network"
      ]
    },
    {
      "cell_type": "code",
      "metadata": {
        "id": "YEfxZQqwItRt",
        "colab_type": "code",
        "outputId": "013f6196-d195-43db-9577-d9013e53072a",
        "colab": {
          "base_uri": "https://localhost:8080/",
          "height": 80
        }
      },
      "source": [
        "import tensorflow as tf\n",
        "from keras.models import Sequential\n",
        "from keras.layers import Dense, Dropout, Flatten, Conv2D, MaxPooling2D\n",
        "from keras.layers import LSTM, Input, TimeDistributed\n",
        "from keras.models import Model\n",
        "from keras.optimizers import RMSprop\n",
        "from keras import backend as K"
      ],
      "execution_count": 70,
      "outputs": [
        {
          "output_type": "display_data",
          "data": {
            "text/html": [
              "<p style=\"color: red;\">\n",
              "The default version of TensorFlow in Colab will soon switch to TensorFlow 2.x.<br>\n",
              "We recommend you <a href=\"https://www.tensorflow.org/guide/migrate\" target=\"_blank\">upgrade</a> now \n",
              "or ensure your notebook will continue to use TensorFlow 1.x via the <code>%tensorflow_version 1.x</code> magic:\n",
              "<a href=\"https://colab.research.google.com/notebooks/tensorflow_version.ipynb\" target=\"_blank\">more info</a>.</p>\n"
            ],
            "text/plain": [
              "<IPython.core.display.HTML object>"
            ]
          },
          "metadata": {
            "tags": []
          }
        },
        {
          "output_type": "stream",
          "text": [
            "Using TensorFlow backend.\n"
          ],
          "name": "stderr"
        }
      ]
    },
    {
      "cell_type": "code",
      "metadata": {
        "id": "tHImuPE9I26m",
        "colab_type": "code",
        "colab": {}
      },
      "source": [
        "## split data into train and test sets\n",
        "X_train, X_test, y_train, y_test = train_test_split(x_pca, y, test_size=0.3, random_state=42)"
      ],
      "execution_count": 0,
      "outputs": []
    },
    {
      "cell_type": "code",
      "metadata": {
        "id": "WNQHzIqWI8Gz",
        "colab_type": "code",
        "outputId": "2b72290f-3528-4649-bb56-f9555556639b",
        "colab": {
          "base_uri": "https://localhost:8080/",
          "height": 649
        }
      },
      "source": [
        "# Start with a simple sequential model\n",
        "model = Sequential()\n",
        "\n",
        "# Add dense layers to create a fully connected MLP\n",
        "# Note that we specify an input shape for the first layer, but only the first layer.\n",
        "# Relu is the activation function used\n",
        "model.add(Dense(64, activation='relu', input_shape=(40,)))\n",
        "# Dropout layers remove features and fight overfitting\n",
        "model.add(Dropout(0.1))\n",
        "model.add(Dense(64, activation='relu'))\n",
        "model.add(Dropout(0.1))\n",
        "# End with a number of units equal to the number of classes we have for our outcome\n",
        "model.add(Dense(1, activation='softmax'))\n",
        "\n",
        "model.summary()\n",
        "\n",
        "# Compile the model to put it all together.\n",
        "model.compile(loss='binary_crossentropy',\n",
        "              optimizer=RMSprop(),\n",
        "              metrics=['accuracy'])"
      ],
      "execution_count": 72,
      "outputs": [
        {
          "output_type": "stream",
          "text": [
            "WARNING:tensorflow:From /usr/local/lib/python3.6/dist-packages/keras/backend/tensorflow_backend.py:66: The name tf.get_default_graph is deprecated. Please use tf.compat.v1.get_default_graph instead.\n",
            "\n",
            "WARNING:tensorflow:From /usr/local/lib/python3.6/dist-packages/keras/backend/tensorflow_backend.py:541: The name tf.placeholder is deprecated. Please use tf.compat.v1.placeholder instead.\n",
            "\n",
            "WARNING:tensorflow:From /usr/local/lib/python3.6/dist-packages/keras/backend/tensorflow_backend.py:4432: The name tf.random_uniform is deprecated. Please use tf.random.uniform instead.\n",
            "\n",
            "WARNING:tensorflow:From /usr/local/lib/python3.6/dist-packages/keras/backend/tensorflow_backend.py:148: The name tf.placeholder_with_default is deprecated. Please use tf.compat.v1.placeholder_with_default instead.\n",
            "\n",
            "WARNING:tensorflow:From /usr/local/lib/python3.6/dist-packages/keras/backend/tensorflow_backend.py:3733: calling dropout (from tensorflow.python.ops.nn_ops) with keep_prob is deprecated and will be removed in a future version.\n",
            "Instructions for updating:\n",
            "Please use `rate` instead of `keep_prob`. Rate should be set to `rate = 1 - keep_prob`.\n",
            "Model: \"sequential_1\"\n",
            "_________________________________________________________________\n",
            "Layer (type)                 Output Shape              Param #   \n",
            "=================================================================\n",
            "dense_1 (Dense)              (None, 64)                2624      \n",
            "_________________________________________________________________\n",
            "dropout_1 (Dropout)          (None, 64)                0         \n",
            "_________________________________________________________________\n",
            "dense_2 (Dense)              (None, 64)                4160      \n",
            "_________________________________________________________________\n",
            "dropout_2 (Dropout)          (None, 64)                0         \n",
            "_________________________________________________________________\n",
            "dense_3 (Dense)              (None, 1)                 65        \n",
            "=================================================================\n",
            "Total params: 6,849\n",
            "Trainable params: 6,849\n",
            "Non-trainable params: 0\n",
            "_________________________________________________________________\n",
            "WARNING:tensorflow:From /usr/local/lib/python3.6/dist-packages/keras/optimizers.py:793: The name tf.train.Optimizer is deprecated. Please use tf.compat.v1.train.Optimizer instead.\n",
            "\n",
            "WARNING:tensorflow:From /usr/local/lib/python3.6/dist-packages/keras/backend/tensorflow_backend.py:3657: The name tf.log is deprecated. Please use tf.math.log instead.\n",
            "\n",
            "WARNING:tensorflow:From /usr/local/lib/python3.6/dist-packages/tensorflow_core/python/ops/nn_impl.py:183: where (from tensorflow.python.ops.array_ops) is deprecated and will be removed in a future version.\n",
            "Instructions for updating:\n",
            "Use tf.where in 2.0, which has the same broadcast rule as np.where\n"
          ],
          "name": "stdout"
        }
      ]
    },
    {
      "cell_type": "code",
      "metadata": {
        "id": "RRFjXpJOI9cB",
        "colab_type": "code",
        "outputId": "51a77335-249d-478f-868e-b0eee9b78ac7",
        "colab": {
          "base_uri": "https://localhost:8080/",
          "height": 700
        }
      },
      "source": [
        "history = model.fit(X_train, y_train,\n",
        "                    batch_size=128,\n",
        "                    epochs=10,\n",
        "                    verbose=1,\n",
        "                    validation_data=(X_test, y_test))\n",
        "score = model.evaluate(X_test, y_test, verbose=0)\n",
        "print('Test loss:', score[0])\n",
        "print('Test accuracy:', score[1])"
      ],
      "execution_count": 73,
      "outputs": [
        {
          "output_type": "stream",
          "text": [
            "WARNING:tensorflow:From /usr/local/lib/python3.6/dist-packages/keras/backend/tensorflow_backend.py:1033: The name tf.assign_add is deprecated. Please use tf.compat.v1.assign_add instead.\n",
            "\n",
            "WARNING:tensorflow:From /usr/local/lib/python3.6/dist-packages/keras/backend/tensorflow_backend.py:1020: The name tf.assign is deprecated. Please use tf.compat.v1.assign instead.\n",
            "\n",
            "WARNING:tensorflow:From /usr/local/lib/python3.6/dist-packages/keras/backend/tensorflow_backend.py:3005: The name tf.Session is deprecated. Please use tf.compat.v1.Session instead.\n",
            "\n",
            "Train on 1575 samples, validate on 676 samples\n",
            "Epoch 1/10\n",
            "WARNING:tensorflow:From /usr/local/lib/python3.6/dist-packages/keras/backend/tensorflow_backend.py:190: The name tf.get_default_session is deprecated. Please use tf.compat.v1.get_default_session instead.\n",
            "\n",
            "WARNING:tensorflow:From /usr/local/lib/python3.6/dist-packages/keras/backend/tensorflow_backend.py:197: The name tf.ConfigProto is deprecated. Please use tf.compat.v1.ConfigProto instead.\n",
            "\n",
            "WARNING:tensorflow:From /usr/local/lib/python3.6/dist-packages/keras/backend/tensorflow_backend.py:207: The name tf.global_variables is deprecated. Please use tf.compat.v1.global_variables instead.\n",
            "\n",
            "WARNING:tensorflow:From /usr/local/lib/python3.6/dist-packages/keras/backend/tensorflow_backend.py:216: The name tf.is_variable_initialized is deprecated. Please use tf.compat.v1.is_variable_initialized instead.\n",
            "\n",
            "WARNING:tensorflow:From /usr/local/lib/python3.6/dist-packages/keras/backend/tensorflow_backend.py:223: The name tf.variables_initializer is deprecated. Please use tf.compat.v1.variables_initializer instead.\n",
            "\n",
            "1575/1575 [==============================] - 10s 6ms/step - loss: 6.6503 - acc: 0.5829 - val_loss: 6.4854 - val_acc: 0.5932\n",
            "Epoch 2/10\n",
            "1575/1575 [==============================] - 0s 43us/step - loss: 6.6503 - acc: 0.5829 - val_loss: 6.4854 - val_acc: 0.5932\n",
            "Epoch 3/10\n",
            "1575/1575 [==============================] - 0s 38us/step - loss: 6.6503 - acc: 0.5829 - val_loss: 6.4854 - val_acc: 0.5932\n",
            "Epoch 4/10\n",
            "1575/1575 [==============================] - 0s 29us/step - loss: 6.6503 - acc: 0.5829 - val_loss: 6.4854 - val_acc: 0.5932\n",
            "Epoch 5/10\n",
            "1575/1575 [==============================] - 0s 29us/step - loss: 6.6503 - acc: 0.5829 - val_loss: 6.4854 - val_acc: 0.5932\n",
            "Epoch 6/10\n",
            "1575/1575 [==============================] - 0s 29us/step - loss: 6.6503 - acc: 0.5829 - val_loss: 6.4854 - val_acc: 0.5932\n",
            "Epoch 7/10\n",
            "1575/1575 [==============================] - 0s 30us/step - loss: 6.6503 - acc: 0.5829 - val_loss: 6.4854 - val_acc: 0.5932\n",
            "Epoch 8/10\n",
            "1575/1575 [==============================] - 0s 31us/step - loss: 6.6503 - acc: 0.5829 - val_loss: 6.4854 - val_acc: 0.5932\n",
            "Epoch 9/10\n",
            "1575/1575 [==============================] - 0s 42us/step - loss: 6.6503 - acc: 0.5829 - val_loss: 6.4854 - val_acc: 0.5932\n",
            "Epoch 10/10\n",
            "1575/1575 [==============================] - 0s 33us/step - loss: 6.6503 - acc: 0.5829 - val_loss: 6.4854 - val_acc: 0.5932\n",
            "Test loss: 6.485437867204113\n",
            "Test accuracy: 0.5931952662721893\n"
          ],
          "name": "stdout"
        }
      ]
    },
    {
      "cell_type": "markdown",
      "metadata": {
        "id": "zodicQOw9_lS",
        "colab_type": "text"
      },
      "source": [
        "# Model Performance\n",
        "The Naive Bayes model was the most accurate at 65%, with random forest and the MLP neural network just under that. Moving forward I'll continue to tinker these three models to try to boost performance, but we're at an acceptable level of prediction power to begin the real test, which is to apply our predictions to the current NBA season, and calculate how much money our model would (hopefully) win with an equal bet on each game.\n",
        "\n",
        "I think the simple Naive Bayes model is performing better than others because of our limited sample size. I believe this is the same reason why the TensorFlow NN is underperforming. Unfortunately, even adding more seasons to our training data wouldn't improve performance, because the NBA game has been changing so rapidly in style of play, that these data available from three seasons ago and beyond lose relevance to predicting the winner."
      ]
    },
    {
      "cell_type": "markdown",
      "metadata": {
        "id": "j1vb6oa1JT8O",
        "colab_type": "text"
      },
      "source": [
        "# Real World Application\n",
        "Now that we have our prediction model, let's implement it to see how much hypothetical money we make! For simplicity, we'll assume we bet $100 on each prediction. This is calculated as follows:\n",
        "\n",
        "Underdog Bet (positive odds):\n",
        " - Potential Payout = Wager Amount x (Odds/100) + Wager Amount.\n",
        "\n",
        "Favorite Bet (negative odds):\n",
        " - Potential Payout = Wager Amount / (absolute value(Odds)/100) + Wager Amount\n",
        "\n",
        "However, our cumulative total will only calculate profit."
      ]
    },
    {
      "cell_type": "code",
      "metadata": {
        "id": "Zp9ofJnXOimP",
        "colab_type": "code",
        "colab": {}
      },
      "source": [
        "# declare features, scale and pca\n",
        "x_test = nba_test[features]\n",
        "x_test_scaled = scaler.fit_transform(x_test)\n",
        "x_test_scaled_pca = PCA(40).fit_transform(x_test_scaled)"
      ],
      "execution_count": 0,
      "outputs": []
    },
    {
      "cell_type": "code",
      "metadata": {
        "id": "eMrLwAtzCN4u",
        "colab_type": "code",
        "colab": {
          "base_uri": "https://localhost:8080/",
          "height": 119
        },
        "outputId": "a9e471ab-9492-4c8d-9e5a-523b64ed9f0d"
      },
      "source": [
        "# fit to training data and predict for current season\n",
        "nba_test['predictions'] = gnb.fit(x_pca, y).predict(x_test_scaled_pca)"
      ],
      "execution_count": 75,
      "outputs": [
        {
          "output_type": "stream",
          "text": [
            "/usr/local/lib/python3.6/dist-packages/ipykernel_launcher.py:1: SettingWithCopyWarning: \n",
            "A value is trying to be set on a copy of a slice from a DataFrame.\n",
            "Try using .loc[row_indexer,col_indexer] = value instead\n",
            "\n",
            "See the caveats in the documentation: http://pandas.pydata.org/pandas-docs/stable/user_guide/indexing.html#returning-a-view-versus-a-copy\n",
            "  \"\"\"Entry point for launching an IPython kernel.\n"
          ],
          "name": "stderr"
        }
      ]
    },
    {
      "cell_type": "markdown",
      "metadata": {
        "id": "NyN9_yqWxDb3",
        "colab_type": "text"
      },
      "source": [
        "Here our model correctly picked 56% of games from the current 2019-20 season. Next we'll calculate money made."
      ]
    },
    {
      "cell_type": "code",
      "metadata": {
        "id": "YTiBb0KNIIVO",
        "colab_type": "code",
        "outputId": "a5ce5463-93e2-4d5b-98f7-ea3dcbfa546c",
        "colab": {
          "base_uri": "https://localhost:8080/",
          "height": 34
        }
      },
      "source": [
        "## correct pct picks\n",
        "len(nba_test[nba_test['predictions']==nba_test['homeWin']])/len(nba_test)"
      ],
      "execution_count": 76,
      "outputs": [
        {
          "output_type": "execute_result",
          "data": {
            "text/plain": [
              "0.5627118644067797"
            ]
          },
          "metadata": {
            "tags": []
          },
          "execution_count": 76
        }
      ]
    },
    {
      "cell_type": "code",
      "metadata": {
        "id": "DEUmiN0-PKJV",
        "colab_type": "code",
        "colab": {
          "base_uri": "https://localhost:8080/",
          "height": 119
        },
        "outputId": "fa4867a2-c4c6-47ed-849c-bc4ed8eb395d"
      },
      "source": [
        "## create an empty money won column\n",
        "nba_test['moneyWon'] = 0"
      ],
      "execution_count": 77,
      "outputs": [
        {
          "output_type": "stream",
          "text": [
            "/usr/local/lib/python3.6/dist-packages/ipykernel_launcher.py:1: SettingWithCopyWarning: \n",
            "A value is trying to be set on a copy of a slice from a DataFrame.\n",
            "Try using .loc[row_indexer,col_indexer] = value instead\n",
            "\n",
            "See the caveats in the documentation: http://pandas.pydata.org/pandas-docs/stable/user_guide/indexing.html#returning-a-view-versus-a-copy\n",
            "  \"\"\"Entry point for launching an IPython kernel.\n"
          ],
          "name": "stderr"
        }
      ]
    },
    {
      "cell_type": "code",
      "metadata": {
        "id": "ks-hhoK8Vj4_",
        "colab_type": "code",
        "colab": {}
      },
      "source": [
        "## calculate money won\n",
        "for i in nba_test.index:\n",
        "  ## check for correct pick\n",
        "  if nba_test['predictions'].iloc[i] == nba_test['homeWin'].iloc[i]:\n",
        "    ## correct home win\n",
        "    if nba_test['homeWin'].iloc[i] == True:\n",
        "      ## home is favored\n",
        "      if nba_test['homeOdds'].iloc[i] < 0:\n",
        "        nba_test.at[i, 'moneyWon'] = (100 / ((abs(nba_test['homeOdds'].iloc[i]))/100))\n",
        "      ## home is underdog\n",
        "      elif nba_test['homeOdds'].iloc[i] > 0:\n",
        "        nba_test.at[i, 'moneyWon'] = (100 * ((nba_test['homeOdds'].iloc[i])/100))\n",
        "      ## even odds\n",
        "      elif nba_test['homeOdds'].iloc[i] == 0:\n",
        "        nba_test.at[i, 'moneyWon'] = 100\n",
        "    ## correct away win\n",
        "    if nba_test['homeWin'].iloc[i] == False:\n",
        "      ## away is favored\n",
        "      if nba_test['awayOdds'].iloc[i] < 0:\n",
        "        nba_test.at[i, 'moneyWon'] = (100 / ((abs(nba_test['awayOdds'].iloc[i]))/100))\n",
        "      ## away is underdog\n",
        "      elif nba_test['awayOdds'].iloc[i] > 0:\n",
        "        nba_test.at[i, 'moneyWon'] = (100 * ((nba_test['awayOdds'].iloc[i])/100))\n",
        "      ## even odds\n",
        "      elif nba_test['awayOdds'].iloc[i] == 0:\n",
        "        nba_test.at[i, 'moneyWon'] = 100\n",
        "  ## incorrect pick\n",
        "  elif nba_test['predictions'].iloc[i] != nba_test['homeWin'].iloc[i]:\n",
        "    nba_test.at[i, 'moneyWon'] = -100"
      ],
      "execution_count": 0,
      "outputs": []
    },
    {
      "cell_type": "code",
      "metadata": {
        "id": "u_7SqViVrp6r",
        "colab_type": "code",
        "outputId": "e4d75c1e-64d6-405b-cd98-d26b62d5d9ef",
        "colab": {
          "base_uri": "https://localhost:8080/",
          "height": 119
        }
      },
      "source": [
        "## create cumulative money won column\n",
        "nba_test['cumTotalWon']  = nba_test['moneyWon'].cumsum()"
      ],
      "execution_count": 80,
      "outputs": [
        {
          "output_type": "stream",
          "text": [
            "/usr/local/lib/python3.6/dist-packages/ipykernel_launcher.py:1: SettingWithCopyWarning: \n",
            "A value is trying to be set on a copy of a slice from a DataFrame.\n",
            "Try using .loc[row_indexer,col_indexer] = value instead\n",
            "\n",
            "See the caveats in the documentation: http://pandas.pydata.org/pandas-docs/stable/user_guide/indexing.html#returning-a-view-versus-a-copy\n",
            "  \"\"\"Entry point for launching an IPython kernel.\n"
          ],
          "name": "stderr"
        }
      ]
    },
    {
      "cell_type": "code",
      "metadata": {
        "id": "8iYaoGWnokv6",
        "colab_type": "code",
        "outputId": "93d2c62f-4740-446f-e9fe-2e41e9ff3df9",
        "colab": {
          "base_uri": "https://localhost:8080/",
          "height": 359
        }
      },
      "source": [
        "# check work\n",
        "nba_test[['predictions','homeWin','homeOdds','awayOdds','moneyWon','cumTotalWon']].head(10)"
      ],
      "execution_count": 83,
      "outputs": [
        {
          "output_type": "execute_result",
          "data": {
            "text/html": [
              "<div>\n",
              "<style scoped>\n",
              "    .dataframe tbody tr th:only-of-type {\n",
              "        vertical-align: middle;\n",
              "    }\n",
              "\n",
              "    .dataframe tbody tr th {\n",
              "        vertical-align: top;\n",
              "    }\n",
              "\n",
              "    .dataframe thead th {\n",
              "        text-align: right;\n",
              "    }\n",
              "</style>\n",
              "<table border=\"1\" class=\"dataframe\">\n",
              "  <thead>\n",
              "    <tr style=\"text-align: right;\">\n",
              "      <th></th>\n",
              "      <th>predictions</th>\n",
              "      <th>homeWin</th>\n",
              "      <th>homeOdds</th>\n",
              "      <th>awayOdds</th>\n",
              "      <th>moneyWon</th>\n",
              "      <th>cumTotalWon</th>\n",
              "    </tr>\n",
              "  </thead>\n",
              "  <tbody>\n",
              "    <tr>\n",
              "      <th>0</th>\n",
              "      <td>True</td>\n",
              "      <td>False</td>\n",
              "      <td>150</td>\n",
              "      <td>-180</td>\n",
              "      <td>-100</td>\n",
              "      <td>-100</td>\n",
              "    </tr>\n",
              "    <tr>\n",
              "      <th>1</th>\n",
              "      <td>True</td>\n",
              "      <td>False</td>\n",
              "      <td>-260</td>\n",
              "      <td>210</td>\n",
              "      <td>-100</td>\n",
              "      <td>-200</td>\n",
              "    </tr>\n",
              "    <tr>\n",
              "      <th>2</th>\n",
              "      <td>True</td>\n",
              "      <td>True</td>\n",
              "      <td>-105</td>\n",
              "      <td>-115</td>\n",
              "      <td>95</td>\n",
              "      <td>-105</td>\n",
              "    </tr>\n",
              "    <tr>\n",
              "      <th>3</th>\n",
              "      <td>False</td>\n",
              "      <td>True</td>\n",
              "      <td>-180</td>\n",
              "      <td>150</td>\n",
              "      <td>-100</td>\n",
              "      <td>-205</td>\n",
              "    </tr>\n",
              "    <tr>\n",
              "      <th>4</th>\n",
              "      <td>True</td>\n",
              "      <td>True</td>\n",
              "      <td>-170</td>\n",
              "      <td>145</td>\n",
              "      <td>58</td>\n",
              "      <td>-147</td>\n",
              "    </tr>\n",
              "    <tr>\n",
              "      <th>5</th>\n",
              "      <td>True</td>\n",
              "      <td>False</td>\n",
              "      <td>260</td>\n",
              "      <td>-330</td>\n",
              "      <td>-100</td>\n",
              "      <td>-247</td>\n",
              "    </tr>\n",
              "    <tr>\n",
              "      <th>6</th>\n",
              "      <td>True</td>\n",
              "      <td>True</td>\n",
              "      <td>-110</td>\n",
              "      <td>-110</td>\n",
              "      <td>90</td>\n",
              "      <td>-157</td>\n",
              "    </tr>\n",
              "    <tr>\n",
              "      <th>7</th>\n",
              "      <td>True</td>\n",
              "      <td>False</td>\n",
              "      <td>-165</td>\n",
              "      <td>142</td>\n",
              "      <td>-100</td>\n",
              "      <td>-257</td>\n",
              "    </tr>\n",
              "    <tr>\n",
              "      <th>8</th>\n",
              "      <td>True</td>\n",
              "      <td>True</td>\n",
              "      <td>-150</td>\n",
              "      <td>130</td>\n",
              "      <td>66</td>\n",
              "      <td>-191</td>\n",
              "    </tr>\n",
              "    <tr>\n",
              "      <th>9</th>\n",
              "      <td>True</td>\n",
              "      <td>True</td>\n",
              "      <td>-350</td>\n",
              "      <td>275</td>\n",
              "      <td>28</td>\n",
              "      <td>-163</td>\n",
              "    </tr>\n",
              "  </tbody>\n",
              "</table>\n",
              "</div>"
            ],
            "text/plain": [
              "   predictions  homeWin  homeOdds  awayOdds  moneyWon  cumTotalWon\n",
              "0         True    False       150      -180      -100         -100\n",
              "1         True    False      -260       210      -100         -200\n",
              "2         True     True      -105      -115        95         -105\n",
              "3        False     True      -180       150      -100         -205\n",
              "4         True     True      -170       145        58         -147\n",
              "5         True    False       260      -330      -100         -247\n",
              "6         True     True      -110      -110        90         -157\n",
              "7         True    False      -165       142      -100         -257\n",
              "8         True     True      -150       130        66         -191\n",
              "9         True     True      -350       275        28         -163"
            ]
          },
          "metadata": {
            "tags": []
          },
          "execution_count": 83
        }
      ]
    },
    {
      "cell_type": "markdown",
      "metadata": {
        "id": "1epew79D0WS1",
        "colab_type": "text"
      },
      "source": [
        "# Final Results!\n",
        "We made almost \\$15,000 with a $100 bet on every game! This is better than expected and is very exciting. It lost just over \\$1,000 initially before it came back."
      ]
    },
    {
      "cell_type": "code",
      "metadata": {
        "id": "XXeks3C9sjxx",
        "colab_type": "code",
        "outputId": "79c359ed-e5cf-451b-8de7-4b695dfbcaa8",
        "colab": {
          "base_uri": "https://localhost:8080/",
          "height": 400
        }
      },
      "source": [
        "## plot the cumulative money won over time\n",
        "fig, ax = plt.subplots()\n",
        "plt.plot(nba_test['date'], nba_test['cumTotalWon'])\n",
        "plt.title('Cumulative Earnings with $100 bets')\n",
        "plt.ylabel('Dollars Earned')\n",
        "plt.xlabel('Time')\n",
        "ax.tick_params(labelbottom=False)"
      ],
      "execution_count": 81,
      "outputs": [
        {
          "output_type": "stream",
          "text": [
            "/usr/local/lib/python3.6/dist-packages/pandas/plotting/_matplotlib/converter.py:103: FutureWarning: Using an implicitly registered datetime converter for a matplotlib plotting method. The converter was registered by pandas on import. Future versions of pandas will require you to explicitly register matplotlib converters.\n",
            "\n",
            "To register the converters:\n",
            "\t>>> from pandas.plotting import register_matplotlib_converters\n",
            "\t>>> register_matplotlib_converters()\n",
            "  warnings.warn(msg, FutureWarning)\n"
          ],
          "name": "stderr"
        },
        {
          "output_type": "display_data",
          "data": {
            "image/png": "[encoded data removed]",
            "text/plain": [
              "<Figure size 432x288 with 1 Axes>"
            ]
          },
          "metadata": {
            "tags": []
          }
        }
      ]
    },
    {
      "cell_type": "code",
      "metadata": {
        "id": "X4UHaEvfMcaY",
        "colab_type": "code",
        "colab": {
          "base_uri": "https://localhost:8080/",
          "height": 68
        },
        "outputId": "6d33000c-e34d-4c19-c4e5-9aaf03832ebe"
      },
      "source": [
        "print(\"The model's low point is {} dollars.\".format(nba_test['cumTotalWon'].min()))\n",
        "print(\"The model's high point is {} dollars.\".format(nba_test['cumTotalWon'].max()))\n",
        "print(\"The model has profited {} dollars this season.\".format(nba_test['cumTotalWon'].iloc[-1]))"
      ],
      "execution_count": 92,
      "outputs": [
        {
          "output_type": "stream",
          "text": [
            "The model's low point is -1054 dollars.\n",
            "The model's high point is 14916 dollars.\n",
            "The model has profited 14106 dollars this season.\n"
          ],
          "name": "stdout"
        }
      ]
    },
    {
      "cell_type": "markdown",
      "metadata": {
        "id": "mfoGMn4X2CEQ",
        "colab_type": "text"
      },
      "source": [
        "Below are a few predicted huge upsets! "
      ]
    },
    {
      "cell_type": "code",
      "metadata": {
        "id": "3_sZq3RzybMS",
        "colab_type": "code",
        "outputId": "289f3a3b-a33f-46db-e7bd-803c44574337",
        "colab": {
          "base_uri": "https://localhost:8080/",
          "height": 204
        }
      },
      "source": [
        "## top 5 wins\n",
        "nba_test[['date','homeTeam','awayTeam','predictions','homeWin','homeOdds','awayOdds','moneyWon']].loc[nba_test['moneyWon'] > 100].sort_values(by='moneyWon',ascending=False).head()"
      ],
      "execution_count": 82,
      "outputs": [
        {
          "output_type": "execute_result",
          "data": {
            "text/html": [
              "<div>\n",
              "<style scoped>\n",
              "    .dataframe tbody tr th:only-of-type {\n",
              "        vertical-align: middle;\n",
              "    }\n",
              "\n",
              "    .dataframe tbody tr th {\n",
              "        vertical-align: top;\n",
              "    }\n",
              "\n",
              "    .dataframe thead th {\n",
              "        text-align: right;\n",
              "    }\n",
              "</style>\n",
              "<table border=\"1\" class=\"dataframe\">\n",
              "  <thead>\n",
              "    <tr style=\"text-align: right;\">\n",
              "      <th></th>\n",
              "      <th>date</th>\n",
              "      <th>homeTeam</th>\n",
              "      <th>awayTeam</th>\n",
              "      <th>predictions</th>\n",
              "      <th>homeWin</th>\n",
              "      <th>homeOdds</th>\n",
              "      <th>awayOdds</th>\n",
              "      <th>moneyWon</th>\n",
              "    </tr>\n",
              "  </thead>\n",
              "  <tbody>\n",
              "    <tr>\n",
              "      <th>540</th>\n",
              "      <td>2020-01-20</td>\n",
              "      <td>CLE</td>\n",
              "      <td>NYK</td>\n",
              "      <td>False</td>\n",
              "      <td>False</td>\n",
              "      <td>-2500</td>\n",
              "      <td>1100</td>\n",
              "      <td>1100</td>\n",
              "    </tr>\n",
              "    <tr>\n",
              "      <th>459</th>\n",
              "      <td>2020-01-08</td>\n",
              "      <td>UTA</td>\n",
              "      <td>NYK</td>\n",
              "      <td>True</td>\n",
              "      <td>True</td>\n",
              "      <td>850</td>\n",
              "      <td>-1500</td>\n",
              "      <td>850</td>\n",
              "    </tr>\n",
              "    <tr>\n",
              "      <th>329</th>\n",
              "      <td>2019-12-21</td>\n",
              "      <td>DET</td>\n",
              "      <td>CHI</td>\n",
              "      <td>False</td>\n",
              "      <td>False</td>\n",
              "      <td>-1100</td>\n",
              "      <td>700</td>\n",
              "      <td>700</td>\n",
              "    </tr>\n",
              "    <tr>\n",
              "      <th>479</th>\n",
              "      <td>2020-01-11</td>\n",
              "      <td>OKC</td>\n",
              "      <td>LAL</td>\n",
              "      <td>False</td>\n",
              "      <td>False</td>\n",
              "      <td>-1000</td>\n",
              "      <td>650</td>\n",
              "      <td>650</td>\n",
              "    </tr>\n",
              "    <tr>\n",
              "      <th>413</th>\n",
              "      <td>2020-01-02</td>\n",
              "      <td>SAS</td>\n",
              "      <td>OKC</td>\n",
              "      <td>False</td>\n",
              "      <td>False</td>\n",
              "      <td>-1000</td>\n",
              "      <td>650</td>\n",
              "      <td>650</td>\n",
              "    </tr>\n",
              "  </tbody>\n",
              "</table>\n",
              "</div>"
            ],
            "text/plain": [
              "           date homeTeam awayTeam  predictions  homeWin  homeOdds  awayOdds  \\\n",
              "540  2020-01-20      CLE      NYK        False    False     -2500      1100   \n",
              "459  2020-01-08      UTA      NYK         True     True       850     -1500   \n",
              "329  2019-12-21      DET      CHI        False    False     -1100       700   \n",
              "479  2020-01-11      OKC      LAL        False    False     -1000       650   \n",
              "413  2020-01-02      SAS      OKC        False    False     -1000       650   \n",
              "\n",
              "     moneyWon  \n",
              "540      1100  \n",
              "459       850  \n",
              "329       700  \n",
              "479       650  \n",
              "413       650  "
            ]
          },
          "metadata": {
            "tags": []
          },
          "execution_count": 82
        }
      ]
    },
    {
      "cell_type": "markdown",
      "metadata": {
        "id": "pY138brZPYPP",
        "colab_type": "text"
      },
      "source": [
        "Here's some potentially dumb bets that we still got right."
      ]
    },
    {
      "cell_type": "code",
      "metadata": {
        "id": "5EHIjcwVPGCu",
        "colab_type": "code",
        "colab": {
          "base_uri": "https://localhost:8080/",
          "height": 204
        },
        "outputId": "779f80c1-3145-4212-d05e-98ba675d71ab"
      },
      "source": [
        "## least money made on a bet\n",
        "nba_test[['date','homeTeam','awayTeam','predictions','homeWin','homeOdds','awayOdds','moneyWon']].loc[nba_test['moneyWon'] > 0].sort_values(by='moneyWon').head()"
      ],
      "execution_count": 95,
      "outputs": [
        {
          "output_type": "execute_result",
          "data": {
            "text/html": [
              "<div>\n",
              "<style scoped>\n",
              "    .dataframe tbody tr th:only-of-type {\n",
              "        vertical-align: middle;\n",
              "    }\n",
              "\n",
              "    .dataframe tbody tr th {\n",
              "        vertical-align: top;\n",
              "    }\n",
              "\n",
              "    .dataframe thead th {\n",
              "        text-align: right;\n",
              "    }\n",
              "</style>\n",
              "<table border=\"1\" class=\"dataframe\">\n",
              "  <thead>\n",
              "    <tr style=\"text-align: right;\">\n",
              "      <th></th>\n",
              "      <th>date</th>\n",
              "      <th>homeTeam</th>\n",
              "      <th>awayTeam</th>\n",
              "      <th>predictions</th>\n",
              "      <th>homeWin</th>\n",
              "      <th>homeOdds</th>\n",
              "      <th>awayOdds</th>\n",
              "      <th>moneyWon</th>\n",
              "    </tr>\n",
              "  </thead>\n",
              "  <tbody>\n",
              "    <tr>\n",
              "      <th>120</th>\n",
              "      <td>2019-11-22</td>\n",
              "      <td>UTA</td>\n",
              "      <td>GSW</td>\n",
              "      <td>True</td>\n",
              "      <td>True</td>\n",
              "      <td>-3500</td>\n",
              "      <td>1300</td>\n",
              "      <td>2</td>\n",
              "    </tr>\n",
              "    <tr>\n",
              "      <th>194</th>\n",
              "      <td>2019-12-02</td>\n",
              "      <td>PHI</td>\n",
              "      <td>UTA</td>\n",
              "      <td>True</td>\n",
              "      <td>True</td>\n",
              "      <td>-3000</td>\n",
              "      <td>1200</td>\n",
              "      <td>3</td>\n",
              "    </tr>\n",
              "    <tr>\n",
              "      <th>179</th>\n",
              "      <td>2019-11-30</td>\n",
              "      <td>PHI</td>\n",
              "      <td>IND</td>\n",
              "      <td>True</td>\n",
              "      <td>True</td>\n",
              "      <td>-1500</td>\n",
              "      <td>850</td>\n",
              "      <td>6</td>\n",
              "    </tr>\n",
              "    <tr>\n",
              "      <th>458</th>\n",
              "      <td>2020-01-08</td>\n",
              "      <td>ORL</td>\n",
              "      <td>WAS</td>\n",
              "      <td>True</td>\n",
              "      <td>True</td>\n",
              "      <td>-1500</td>\n",
              "      <td>850</td>\n",
              "      <td>6</td>\n",
              "    </tr>\n",
              "    <tr>\n",
              "      <th>499</th>\n",
              "      <td>2020-01-14</td>\n",
              "      <td>MEM</td>\n",
              "      <td>HOU</td>\n",
              "      <td>True</td>\n",
              "      <td>True</td>\n",
              "      <td>-1600</td>\n",
              "      <td>912</td>\n",
              "      <td>6</td>\n",
              "    </tr>\n",
              "  </tbody>\n",
              "</table>\n",
              "</div>"
            ],
            "text/plain": [
              "           date homeTeam awayTeam  predictions  homeWin  homeOdds  awayOdds  \\\n",
              "120  2019-11-22      UTA      GSW         True     True     -3500      1300   \n",
              "194  2019-12-02      PHI      UTA         True     True     -3000      1200   \n",
              "179  2019-11-30      PHI      IND         True     True     -1500       850   \n",
              "458  2020-01-08      ORL      WAS         True     True     -1500       850   \n",
              "499  2020-01-14      MEM      HOU         True     True     -1600       912   \n",
              "\n",
              "     moneyWon  \n",
              "120         2  \n",
              "194         3  \n",
              "179         6  \n",
              "458         6  \n",
              "499         6  "
            ]
          },
          "metadata": {
            "tags": []
          },
          "execution_count": 95
        }
      ]
    },
    {
      "cell_type": "markdown",
      "metadata": {
        "id": "Hvf28Sl-KQGc",
        "colab_type": "text"
      },
      "source": [
        "# Conclusion\n",
        "This model seems too good to be true. I continue to look for reasons to doubt these results because it has turned a $1,000 investment into almost \\$15,000. One potential reason could be that the odds data was generous, so further vetting those numbers could be useful."
      ]
    },
    {
      "cell_type": "markdown",
      "metadata": {
        "id": "Pf8MjWj04vD1",
        "colab_type": "text"
      },
      "source": [
        "# Next Steps\n",
        "I'm ready to deploy this model using my own money. Although I think I'll make it $5 bets just in case I've been extremely lucky so far. I'll need to find a betting site API in which I can set scripts up to load in the odds, make a prediction, and place my bet. "
      ]
    },
    {
      "cell_type": "markdown",
      "metadata": {
        "id": "I2qQL_HaQtb0",
        "colab_type": "text"
      },
      "source": [
        "# Further Improvements\n",
        "- This model has yet to include any player data. A category that includes a rolling roster of top performers and whether they are out with injury or not could prove useful.\n",
        "- More explanatory power in order to give a confidence rating on single game predictions. Currently the model relies on long term use with a bet on every game.\n",
        "- Opting out of dumb bets. I could train the model to decide if a bet was worth the risk or not, instead of spreading that risk wide. The confidence interval could be used to compare against the odds."
      ]
    }
  ]
}