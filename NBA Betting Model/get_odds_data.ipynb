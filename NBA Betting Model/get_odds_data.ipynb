{
 "cells": [
  {
   "cell_type": "code",
   "execution_count": 1,
   "metadata": {},
   "outputs": [],
   "source": [
    "from selenium import webdriver\n",
    "from selenium.webdriver.chrome.options import Options\n",
    "from selenium.webdriver.support.ui import WebDriverWait       \n",
    "from selenium.webdriver.common.by import By       \n",
    "from selenium.webdriver.support import expected_conditions as EC\n",
    "\n",
    "options = Options()\n",
    "options.headless = True\n",
    "\n",
    "import numpy as np\n",
    "import pandas as pd\n",
    "import time as time\n",
    "from time import sleep\n",
    "import random\n",
    "from tqdm import tqdm\n",
    "from IPython.display import clear_output"
   ]
  },
  {
   "cell_type": "code",
   "execution_count": 2,
   "metadata": {},
   "outputs": [],
   "source": [
    "from nba_api.stats.endpoints import leaguegamelog\n",
    "from nba_api.stats.library.parameters import SeasonAll\n",
    "from nba_api.stats.static import teams"
   ]
  },
  {
   "cell_type": "code",
   "execution_count": 4,
   "metadata": {},
   "outputs": [
    {
     "data": {
      "text/plain": [
       "['2023-10-24',\n",
       " '2023-10-25',\n",
       " '2023-10-26',\n",
       " '2023-10-27',\n",
       " '2023-10-28',\n",
       " '2023-10-29',\n",
       " '2023-10-30',\n",
       " '2023-10-31',\n",
       " '2023-11-01',\n",
       " '2023-11-02',\n",
       " '2023-11-03',\n",
       " '2023-11-04',\n",
       " '2023-11-05',\n",
       " '2023-11-06',\n",
       " '2023-11-08',\n",
       " '2023-11-09',\n",
       " '2023-11-10',\n",
       " '2023-11-11',\n",
       " '2023-11-12',\n",
       " '2023-11-13',\n",
       " '2023-11-14',\n",
       " '2023-11-15',\n",
       " '2023-11-16',\n",
       " '2023-11-17',\n",
       " '2023-11-18',\n",
       " '2023-11-19',\n",
       " '2023-11-20',\n",
       " '2023-11-21',\n",
       " '2023-11-22',\n",
       " '2023-11-24',\n",
       " '2023-11-25',\n",
       " '2023-11-26',\n",
       " '2023-11-27',\n",
       " '2023-11-28',\n",
       " '2023-11-29',\n",
       " '2023-11-30',\n",
       " '2023-12-01',\n",
       " '2023-12-02',\n",
       " '2023-12-04',\n",
       " '2023-12-05',\n",
       " '2023-12-06',\n",
       " '2023-12-07']"
      ]
     },
     "execution_count": 4,
     "metadata": {},
     "output_type": "execute_result"
    }
   ],
   "source": [
    "def season_string(season):\n",
    "    return str(season) + '-' + str(season+1)[-2:]\n",
    "\n",
    "def get_game_dates(season):\n",
    "    season_str = season_string(season)\n",
    "    dates = []\n",
    "    for season_type in ['Regular Season', 'Playoffs']:\n",
    "        games = leaguegamelog.LeagueGameLog(season=season_str, season_type_all_star=season_type).get_data_frames()[0]\n",
    "        dates.extend(games['GAME_DATE'].unique())\n",
    "        sleep(1)\n",
    "    return dates\n",
    "\n",
    "\n",
    "get_game_dates(2023)"
   ]
  },
  {
   "cell_type": "code",
   "execution_count": 5,
   "metadata": {},
   "outputs": [
    {
     "data": {
      "text/plain": [
       "['2023-10-24',\n",
       " '2023-10-25',\n",
       " '2023-10-26',\n",
       " '2023-10-27',\n",
       " '2023-10-28',\n",
       " '2023-10-29',\n",
       " '2023-10-30',\n",
       " '2023-10-31']"
      ]
     },
     "execution_count": 5,
     "metadata": {},
     "output_type": "execute_result"
    }
   ],
   "source": [
    "get_game_dates(2023)[:8]"
   ]
  },
  {
   "cell_type": "code",
   "execution_count": 7,
   "metadata": {},
   "outputs": [
    {
     "name": "stderr",
     "output_type": "stream",
     "text": [
      "progress:  12%|█▎        | 1/8 [00:08<00:57,  8.17s/it]"
     ]
    },
    {
     "name": "stdout",
     "output_type": "stream",
     "text": [
      "No Data for 2023-10-24\n"
     ]
    },
    {
     "name": "stderr",
     "output_type": "stream",
     "text": [
      "progress:  25%|██▌       | 2/8 [00:13<00:40,  6.79s/it]"
     ]
    },
    {
     "name": "stdout",
     "output_type": "stream",
     "text": [
      "No Data for 2023-10-25\n"
     ]
    },
    {
     "name": "stderr",
     "output_type": "stream",
     "text": [
      "progress:  38%|███▊      | 3/8 [00:19<00:30,  6.14s/it]"
     ]
    },
    {
     "name": "stdout",
     "output_type": "stream",
     "text": [
      "No Data for 2023-10-26\n"
     ]
    },
    {
     "name": "stderr",
     "output_type": "stream",
     "text": [
      "progress:  50%|█████     | 4/8 [00:24<00:22,  5.67s/it]"
     ]
    },
    {
     "name": "stdout",
     "output_type": "stream",
     "text": [
      "No Data for 2023-10-27\n"
     ]
    },
    {
     "name": "stderr",
     "output_type": "stream",
     "text": [
      "progress:  62%|██████▎   | 5/8 [00:29<00:16,  5.60s/it]"
     ]
    },
    {
     "name": "stdout",
     "output_type": "stream",
     "text": [
      "No Data for 2023-10-28\n"
     ]
    },
    {
     "name": "stderr",
     "output_type": "stream",
     "text": [
      "progress:  75%|███████▌  | 6/8 [00:34<00:10,  5.18s/it]"
     ]
    },
    {
     "name": "stdout",
     "output_type": "stream",
     "text": [
      "No Data for 2023-10-29\n"
     ]
    },
    {
     "name": "stderr",
     "output_type": "stream",
     "text": [
      "progress:  88%|████████▊ | 7/8 [00:38<00:05,  5.00s/it]"
     ]
    },
    {
     "name": "stdout",
     "output_type": "stream",
     "text": [
      "No Data for 2023-10-30\n"
     ]
    },
    {
     "name": "stderr",
     "output_type": "stream",
     "text": [
      "progress: 100%|██████████| 8/8 [00:44<00:00,  5.53s/it]"
     ]
    },
    {
     "name": "stdout",
     "output_type": "stream",
     "text": [
      "No Data for 2023-10-31\n"
     ]
    },
    {
     "name": "stderr",
     "output_type": "stream",
     "text": [
      "\n"
     ]
    }
   ],
   "source": [
    "dates = get_game_dates(2023)[:8]\n",
    "dates_with_no_data = []\n",
    "seasons = []\n",
    "gm_dates = []\n",
    "away_teams = []\n",
    "home_teams = []\n",
    "away_mls = []\n",
    "home_mls = []      \n",
    "for date in tqdm(dates, desc='progress'):\n",
    "    web = 'https://www.sportsbookreview.com/betting-odds/nba-basketball/money-line/?date={}'.format(date)\n",
    "    # path = '../chromedriver.exe'\n",
    "    driver = webdriver.Chrome()\n",
    "    driver.get(web)\n",
    "    sleep(random.randint(1,2))\n",
    "\n",
    "    try:\n",
    "        single_row_events = driver.find_elements_by_class_name('eventMarketGridContainer-3QipG')\n",
    "    \n",
    "    except:\n",
    "        print(\"No Data for {}\".format(date))\n",
    "        dates_with_no_data.append(date)\n",
    "        continue\n",
    "                \n",
    "    num_postponed_events = len(driver.find_elements_by_class_name('eventStatus-3EHqw'))\n",
    "\n",
    "    num_listed_events = len(single_row_events)\n",
    "    cutoff = num_listed_events - num_postponed_events\n",
    "\n",
    "    for event in single_row_events[:cutoff]:\n",
    "        seasons.append(season_string(2023))\n",
    "\n",
    "        away_team = event.find_elements_by_class_name('participantBox-3ar9Y')[0].text\n",
    "        home_team = event.find_elements_by_class_name('participantBox-3ar9Y')[1].text\n",
    "\n",
    "        away_teams.append(away_team)\n",
    "        home_teams.append(home_team)\n",
    "\n",
    "        gm_dates.append(date)\n",
    "\n",
    "        mls = event.find_elements_by_class_name('pointer-2j4Dk')\n",
    "        \n",
    "        away_moneyline = []\n",
    "        home_moneyline = []\n",
    "        \n",
    "        \n",
    "        for i, ml in enumerate(mls):\n",
    "            if i%2==0:\n",
    "                away_moneyline.append(ml.text)\n",
    "            else:\n",
    "                home_moneyline.append(ml.text)\n",
    "        \n",
    "        away_moneyline = \",\".join(away_moneyline)\n",
    "        home_moneyline = \",\".join(home_moneyline)\n",
    "\n",
    "        away_mls.append(away_moneyline)\n",
    "        home_mls.append(home_moneyline)\n",
    "        \n",
    "    driver.quit()\n",
    "    \n",
    "clear_output(wait=True)\n",
    "\n",
    "df = pd.DataFrame({'SEASON':seasons,\n",
    "                'GM_DATE':gm_dates,\n",
    "                'AWAY_TEAM':away_teams, \n",
    "                'HOME_TEAM':home_teams,\n",
    "                'AWAY_ML':away_mls,\n",
    "                'HOME_ML':home_mls,\n",
    "                                    })"
   ]
  },
  {
   "cell_type": "code",
   "execution_count": 8,
   "metadata": {},
   "outputs": [
    {
     "data": {
      "text/html": [
       "<div>\n",
       "<style scoped>\n",
       "    .dataframe tbody tr th:only-of-type {\n",
       "        vertical-align: middle;\n",
       "    }\n",
       "\n",
       "    .dataframe tbody tr th {\n",
       "        vertical-align: top;\n",
       "    }\n",
       "\n",
       "    .dataframe thead th {\n",
       "        text-align: right;\n",
       "    }\n",
       "</style>\n",
       "<table border=\"1\" class=\"dataframe\">\n",
       "  <thead>\n",
       "    <tr style=\"text-align: right;\">\n",
       "      <th></th>\n",
       "      <th>SEASON</th>\n",
       "      <th>GM_DATE</th>\n",
       "      <th>AWAY_TEAM</th>\n",
       "      <th>HOME_TEAM</th>\n",
       "      <th>AWAY_ML</th>\n",
       "      <th>HOME_ML</th>\n",
       "    </tr>\n",
       "  </thead>\n",
       "  <tbody>\n",
       "  </tbody>\n",
       "</table>\n",
       "</div>"
      ],
      "text/plain": [
       "Empty DataFrame\n",
       "Columns: [SEASON, GM_DATE, AWAY_TEAM, HOME_TEAM, AWAY_ML, HOME_ML]\n",
       "Index: []"
      ]
     },
     "execution_count": 8,
     "metadata": {},
     "output_type": "execute_result"
    }
   ],
   "source": [
    "df"
   ]
  }
 ],
 "metadata": {
  "kernelspec": {
   "display_name": "Python 3",
   "language": "python",
   "name": "python3"
  },
  "language_info": {
   "codemirror_mode": {
    "name": "ipython",
    "version": 3
   },
   "file_extension": ".py",
   "mimetype": "text/x-python",
   "name": "python",
   "nbconvert_exporter": "python",
   "pygments_lexer": "ipython3",
   "version": "3.11.6"
  }
 },
 "nbformat": 4,
 "nbformat_minor": 2
}
