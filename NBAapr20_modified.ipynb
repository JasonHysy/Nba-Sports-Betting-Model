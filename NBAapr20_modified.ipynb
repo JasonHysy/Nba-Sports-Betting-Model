{
  "nbformat": 4,
  "nbformat_minor": 0,
  "metadata": {
    "colab": {
      "name": "NBAapr20",
      "provenance": [],
      "collapsed_sections": []
    },
    "kernelspec": {
      "name": "python3",
      "display_name": "Python 3"
    },
    "accelerator": "GPU"
  },
  "cells": [
    {
      "cell_type": "markdown",
      "metadata": {
        "id": "tXshW3Cr5Nse",
        "colab_type": "text"
      },
      "source": [
        "# NBA Game Sports Betting Model\n",
        "This model will use a rolling average of recent performance data for each team in an NBA matchup to predict each winner. The model will be trained on previous seasons and tested on the current 2019-20 NBA season. Vegas odds are incorporated and a hypothetical $100 bet is placed on every game. The results are very exciting."
      ]
    },
    {
      "cell_type": "markdown",
      "metadata": {
        "id": "mUxkt6Oz5DDx",
        "colab_type": "text"
      },
      "source": [
        "## Import Libraries"
      ]
    },
    {
      "cell_type": "code",
      "metadata": {
        "id": "BqVXfH284uTP",
        "colab_type": "code",
        "outputId": "3d2d395e-c0ad-4ba6-8f06-702ed78b1442",
        "colab": {
          "base_uri": "https://localhost:8080/",
          "height": 411
        }
      },
      "source": [
        "!pip install sportsreference\n",
        "from sportsreference.nba.schedule import Schedule\n",
        "from datetime import datetime\n",
        "from sportsreference.nba.boxscore import Boxscores, Boxscore\n",
        "from sportsreference.nba.teams import Teams\n",
        "from datetime import datetime, timedelta\n",
        "import numpy as np\n",
        "import pandas as pd\n",
        "from google.colab import drive\n",
        "import matplotlib.pyplot as plt\n",
        "import seaborn as sns"
      ],
      "execution_count": 0,
      "outputs": [
        {
          "output_type": "stream",
          "text": [
            "Collecting sportsreference\n",
            "\u001b[?25l  Downloading https://files.pythonhosted.org/packages/e1/c7/254c223a18815fdb9875c1c815dd1a324dc722e9cf84e68f7cf25ad20f2c/sportsreference-0.5.0-py2.py3-none-any.whl (389kB)\n",
            "\r\u001b[K     |▉                               | 10kB 29.3MB/s eta 0:00:01\r\u001b[K     |█▊                              | 20kB 34.2MB/s eta 0:00:01\r\u001b[K     |██▌                             | 30kB 23.1MB/s eta 0:00:01\r\u001b[K     |███▍                            | 40kB 27.1MB/s eta 0:00:01\r\u001b[K     |████▏                           | 51kB 14.7MB/s eta 0:00:01\r\u001b[K     |█████                           | 61kB 13.5MB/s eta 0:00:01\r\u001b[K     |█████▉                          | 71kB 12.3MB/s eta 0:00:01\r\u001b[K     |██████▊                         | 81kB 12.1MB/s eta 0:00:01\r\u001b[K     |███████▋                        | 92kB 12.9MB/s eta 0:00:01\r\u001b[K     |████████▍                       | 102kB 12.7MB/s eta 0:00:01\r\u001b[K     |█████████▎                      | 112kB 12.7MB/s eta 0:00:01\r\u001b[K     |██████████                      | 122kB 12.7MB/s eta 0:00:01\r\u001b[K     |███████████                     | 133kB 12.7MB/s eta 0:00:01\r\u001b[K     |███████████▊                    | 143kB 12.7MB/s eta 0:00:01\r\u001b[K     |████████████▋                   | 153kB 12.7MB/s eta 0:00:01\r\u001b[K     |█████████████▌                  | 163kB 12.7MB/s eta 0:00:01\r\u001b[K     |██████████████▎                 | 174kB 12.7MB/s eta 0:00:01\r\u001b[K     |███████████████▏                | 184kB 12.7MB/s eta 0:00:01\r\u001b[K     |████████████████                | 194kB 12.7MB/s eta 0:00:01\r\u001b[K     |████████████████▉               | 204kB 12.7MB/s eta 0:00:01\r\u001b[K     |█████████████████▋              | 215kB 12.7MB/s eta 0:00:01\r\u001b[K     |██████████████████▌             | 225kB 12.7MB/s eta 0:00:01\r\u001b[K     |███████████████████▍            | 235kB 12.7MB/s eta 0:00:01\r\u001b[K     |████████████████████▏           | 245kB 12.7MB/s eta 0:00:01\r\u001b[K     |█████████████████████           | 256kB 12.7MB/s eta 0:00:01\r\u001b[K     |█████████████████████▉          | 266kB 12.7MB/s eta 0:00:01\r\u001b[K     |██████████████████████▊         | 276kB 12.7MB/s eta 0:00:01\r\u001b[K     |███████████████████████▌        | 286kB 12.7MB/s eta 0:00:01\r\u001b[K     |████████████████████████▍       | 296kB 12.7MB/s eta 0:00:01\r\u001b[K     |█████████████████████████▎      | 307kB 12.7MB/s eta 0:00:01\r\u001b[K     |██████████████████████████      | 317kB 12.7MB/s eta 0:00:01\r\u001b[K     |███████████████████████████     | 327kB 12.7MB/s eta 0:00:01\r\u001b[K     |███████████████████████████▊    | 337kB 12.7MB/s eta 0:00:01\r\u001b[K     |████████████████████████████▋   | 348kB 12.7MB/s eta 0:00:01\r\u001b[K     |█████████████████████████████▍  | 358kB 12.7MB/s eta 0:00:01\r\u001b[K     |██████████████████████████████▎ | 368kB 12.7MB/s eta 0:00:01\r\u001b[K     |███████████████████████████████ | 378kB 12.7MB/s eta 0:00:01\r\u001b[K     |████████████████████████████████| 389kB 12.7MB/s eta 0:00:01\r\u001b[K     |████████████████████████████████| 399kB 12.7MB/s \n",
            "\u001b[?25hCollecting pyquery>=1.4.0\n",
            "  Downloading https://files.pythonhosted.org/packages/78/43/95d42e386c61cb639d1a0b94f0c0b9f0b7d6b981ad3c043a836c8b5bc68b/pyquery-1.4.1-py2.py3-none-any.whl\n",
            "Requirement already satisfied: pandas>=0.24.1 in /usr/local/lib/python3.6/dist-packages (from sportsreference) (1.0.3)\n",
            "Requirement already satisfied: requests>=2.18.4 in /usr/local/lib/python3.6/dist-packages (from sportsreference) (2.21.0)\n",
            "Collecting cssselect>0.7.9\n",
            "  Downloading https://files.pythonhosted.org/packages/3b/d4/3b5c17f00cce85b9a1e6f91096e1cc8e8ede2e1be8e96b87ce1ed09e92c5/cssselect-1.1.0-py2.py3-none-any.whl\n",
            "Requirement already satisfied: lxml>=2.1 in /usr/local/lib/python3.6/dist-packages (from pyquery>=1.4.0->sportsreference) (4.2.6)\n",
            "Requirement already satisfied: pytz>=2017.2 in /usr/local/lib/python3.6/dist-packages (from pandas>=0.24.1->sportsreference) (2018.9)\n",
            "Requirement already satisfied: numpy>=1.13.3 in /usr/local/lib/python3.6/dist-packages (from pandas>=0.24.1->sportsreference) (1.18.2)\n",
            "Requirement already satisfied: python-dateutil>=2.6.1 in /usr/local/lib/python3.6/dist-packages (from pandas>=0.24.1->sportsreference) (2.8.1)\n",
            "Requirement already satisfied: idna<2.9,>=2.5 in /usr/local/lib/python3.6/dist-packages (from requests>=2.18.4->sportsreference) (2.8)\n",
            "Requirement already satisfied: urllib3<1.25,>=1.21.1 in /usr/local/lib/python3.6/dist-packages (from requests>=2.18.4->sportsreference) (1.24.3)\n",
            "Requirement already satisfied: certifi>=2017.4.17 in /usr/local/lib/python3.6/dist-packages (from requests>=2.18.4->sportsreference) (2019.11.28)\n",
            "Requirement already satisfied: chardet<3.1.0,>=3.0.2 in /usr/local/lib/python3.6/dist-packages (from requests>=2.18.4->sportsreference) (3.0.4)\n",
            "Requirement already satisfied: six>=1.5 in /usr/local/lib/python3.6/dist-packages (from python-dateutil>=2.6.1->pandas>=0.24.1->sportsreference) (1.12.0)\n",
            "Installing collected packages: cssselect, pyquery, sportsreference\n",
            "Successfully installed cssselect-1.1.0 pyquery-1.4.1 sportsreference-0.5.0\n"
          ],
          "name": "stdout"
        },
        {
          "output_type": "stream",
          "text": [
            "/usr/local/lib/python3.6/dist-packages/statsmodels/tools/_testing.py:19: FutureWarning: pandas.util.testing is deprecated. Use the functions in the public API at pandas.testing instead.\n",
            "  import pandas.util.testing as tm\n"
          ],
          "name": "stderr"
        }
      ]
    },
    {
      "cell_type": "code",
      "metadata": {
        "id": "Q4yQ3C9h43MS",
        "colab_type": "code",
        "outputId": "8e45ba88-41ec-43d6-86a6-c3356ac217c5",
        "colab": {
          "base_uri": "https://localhost:8080/",
          "height": 122
        }
      },
      "source": [
        "from google.colab import drive\n",
        "drive.mount('/content/gdrive')"
      ],
      "execution_count": 0,
      "outputs": [
        {
          "output_type": "stream",
          "text": [
            "Go to this URL in a browser: https://accounts.google.com/o/oauth2/auth?client_id=947318989803-6bn6qk8qdgf4n4g3pfee6491hc0brc4i.apps.googleusercontent.com&redirect_uri=urn%3aietf%3awg%3aoauth%3a2.0%3aoob&response_type=code&scope=email%20https%3a%2f%2fwww.googleapis.com%2fauth%2fdocs.test%20https%3a%2f%2fwww.googleapis.com%2fauth%2fdrive%20https%3a%2f%2fwww.googleapis.com%2fauth%2fdrive.photos.readonly%20https%3a%2f%2fwww.googleapis.com%2fauth%2fpeopleapi.readonly\n",
            "\n",
            "Enter your authorization code:\n",
            "··········\n",
            "Mounted at /content/gdrive\n"
          ],
          "name": "stdout"
        }
      ]
    },
    {
      "cell_type": "code",
      "metadata": {
        "id": "2PPENQib47Ed",
        "colab_type": "code",
        "colab": {}
      },
      "source": [
        "pd.set_option('display.max_rows', 500)\n",
        "pd.set_option('display.max_columns', 500)\n",
        "from sklearn.model_selection import train_test_split, cross_val_score, KFold\n",
        "from sklearn.preprocessing import normalize, MinMaxScaler, RobustScaler\n",
        "from sklearn.decomposition import PCA\n",
        "from sklearn.metrics import make_scorer, f1_score"
      ],
      "execution_count": 0,
      "outputs": []
    },
    {
      "cell_type": "markdown",
      "metadata": {
        "id": "FQLwdYCa5jYu",
        "colab_type": "text"
      },
      "source": [
        "## Declare Useful Functions and Lists"
      ]
    },
    {
      "cell_type": "code",
      "metadata": {
        "id": "WB_YiYnp5mB_",
        "colab_type": "code",
        "colab": {}
      },
      "source": [
        "## this function combines our cleaning step into one easy function\n",
        "def format_nba_df(df):\n",
        "  ## create a bool column for home win\n",
        "  df['homeWin'] = df['winner'] == 'Home'\n",
        "  ## rename unnamed column to gameid\n",
        "  df = df.rename(columns={'Unnamed: 0': 'gameID'})\n",
        "  ## create datetime object from column of date strings and drop the time \n",
        "  df['date'] = df['date'].apply(lambda x: (datetime.strptime(x, '%I:%M %p, %B %d, %Y')).date())\n",
        "  ## create home team column\n",
        "  df['homeTeam'] = np.where(df['homeWin']==True, df['winning_abbr'], df['losing_abbr'])\n",
        "  ## create away team column\n",
        "  df['awayTeam'] = np.where(df['homeWin']==False, df['winning_abbr'], df['losing_abbr'])\n",
        "  return df"
      ],
      "execution_count": 0,
      "outputs": []
    },
    {
      "cell_type": "code",
      "metadata": {
        "id": "CrcJLwLd5oOi",
        "colab_type": "code",
        "colab": {}
      },
      "source": [
        "## this takes an odds dataframe and converts the date to a datetime object, year must be specified\n",
        "def convert_to_datetime(x, year):\n",
        "  y = str(x)\n",
        "  if x < 1000:\n",
        "    date = datetime(year=year, month=int(y[:-2]), day=int(y[-2:]))\n",
        "    return date.strftime(\"%Y-%m-%d\")\n",
        "  else:\n",
        "    date = datetime(year=year-1, month=int(y[:-2]), day=int(y[-2:]))\n",
        "    return date.strftime(\"%Y-%m-%d\")"
      ],
      "execution_count": 0,
      "outputs": []
    },
    {
      "cell_type": "code",
      "metadata": {
        "id": "TnKpAhf-5ux6",
        "colab_type": "code",
        "colab": {}
      },
      "source": [
        "def avg_previous_num_games(df, num_games):\n",
        "  ### This function changes each stat to be the average of the last num_games for each team, and shifts it one so it does not include the current stats and drops the first num_games that become null\n",
        "  for col in home_cols:\n",
        "    for team in team_list:\n",
        "      df[col].loc[df['homeTeam']==team] = df[col].loc[df['homeTeam']==team].shift(1).rolling(num_games, min_periods=3).mean()\n",
        "  for col in away_cols:\n",
        "    for team in team_list:\n",
        "      df[col].loc[df['awayTeam']==team] = df[col].loc[df['awayTeam']==team].shift(1).rolling(num_games, min_periods=3).mean()\n",
        "  return df.dropna()"
      ],
      "execution_count": 0,
      "outputs": []
    },
    {
      "cell_type": "code",
      "metadata": {
        "id": "sDrxe2c65Rqf",
        "colab_type": "code",
        "colab": {}
      },
      "source": [
        "# seperate statistical columns to home and away for later\n",
        "away_cols = ['away_assist_percentage', 'away_assists',\n",
        "       'away_block_percentage', 'away_blocks', 'away_defensive_rating',\n",
        "       'away_defensive_rebound_percentage', 'away_defensive_rebounds',\n",
        "       'away_effective_field_goal_percentage', 'away_field_goal_attempts',\n",
        "       'away_field_goal_percentage', 'away_field_goals',\n",
        "       'away_free_throw_attempt_rate', 'away_free_throw_attempts',\n",
        "       'away_free_throw_percentage', 'away_free_throws','away_minutes_played', 'away_offensive_rating',\n",
        "       'away_offensive_rebound_percentage', 'away_offensive_rebounds',\n",
        "       'away_personal_fouls', 'away_points', 'away_steal_percentage',\n",
        "       'away_steals', 'away_three_point_attempt_rate',\n",
        "       'away_three_point_field_goal_attempts',\n",
        "       'away_three_point_field_goal_percentage',\n",
        "       'away_three_point_field_goals', 'away_total_rebound_percentage',\n",
        "       'away_total_rebounds', 'away_true_shooting_percentage',\n",
        "       'away_turnover_percentage', 'away_turnovers',\n",
        "       'away_two_point_field_goal_attempts',\n",
        "       'away_two_point_field_goal_percentage', 'away_two_point_field_goals']\n",
        "home_cols = ['home_assist_percentage', 'home_assists',\n",
        "       'home_block_percentage', 'home_blocks', 'home_defensive_rating',\n",
        "       'home_defensive_rebound_percentage', 'home_defensive_rebounds',\n",
        "       'home_effective_field_goal_percentage', 'home_field_goal_attempts',\n",
        "       'home_field_goal_percentage', 'home_field_goals',\n",
        "       'home_free_throw_attempt_rate', 'home_free_throw_attempts',\n",
        "       'home_free_throw_percentage', 'home_free_throws',\n",
        "       'home_minutes_played', 'home_offensive_rating',\n",
        "       'home_offensive_rebound_percentage', 'home_offensive_rebounds',\n",
        "       'home_personal_fouls', 'home_points', 'home_steal_percentage',\n",
        "       'home_steals', 'home_three_point_attempt_rate',\n",
        "       'home_three_point_field_goal_attempts',\n",
        "       'home_three_point_field_goal_percentage',\n",
        "       'home_three_point_field_goals', 'home_total_rebound_percentage',\n",
        "       'home_total_rebounds', 'home_true_shooting_percentage',\n",
        "       'home_turnover_percentage', 'home_turnovers',\n",
        "       'home_two_point_field_goal_attempts',\n",
        "       'home_two_point_field_goal_percentage', 'home_two_point_field_goals']"
      ],
      "execution_count": 0,
      "outputs": []
    },
    {
      "cell_type": "markdown",
      "metadata": {
        "id": "wnBUa_ob5UKE",
        "colab_type": "text"
      },
      "source": [
        "## Load and Arrange the Data\n",
        "We'll load the stats and odds datasets and ensure they are formatted the same and have the same shape so we can combine them later."
      ]
    },
    {
      "cell_type": "code",
      "metadata": {
        "id": "ySBZnr-E5atM",
        "colab_type": "code",
        "colab": {}
      },
      "source": [
        "# load 2017-18 boxscore stats\n",
        "nba2017 = pd.read_csv(r\"/content/gdrive/My Drive/Colab Datasets/nba2017-18.csv\")\n",
        "# load 2018-19 boxscore stats\n",
        "nba2018 = pd.read_csv(r\"/content/gdrive/My Drive/Colab Datasets/nba2018-19.csv\")\n",
        "# load 2019-20 boxscore stats\n",
        "nbaCurrent = pd.read_csv(r'/content/gdrive/My Drive/Colab Datasets/nba2019-20.csv')"
      ],
      "execution_count": 0,
      "outputs": []
    },
    {
      "cell_type": "code",
      "metadata": {
        "id": "N8-Bz0wB__bA",
        "colab_type": "code",
        "outputId": "61f0cd5f-6695-4145-ca4a-d28635a61d19",
        "colab": {
          "base_uri": "https://localhost:8080/",
          "height": 34
        }
      },
      "source": [
        "nbaCurrent.shape"
      ],
      "execution_count": 0,
      "outputs": [
        {
          "output_type": "execute_result",
          "data": {
            "text/plain": [
              "(971, 83)"
            ]
          },
          "metadata": {
            "tags": []
          },
          "execution_count": 9
        }
      ]
    },
    {
      "cell_type": "code",
      "metadata": {
        "id": "P8Xjkcxo5fYz",
        "colab_type": "code",
        "colab": {}
      },
      "source": [
        "# apply cleaning step\n",
        "nba2017 = format_nba_df(nba2017)\n",
        "nba2018 = format_nba_df(nba2018)\n",
        "nbaCurrent = format_nba_df(nbaCurrent)"
      ],
      "execution_count": 0,
      "outputs": []
    },
    {
      "cell_type": "code",
      "metadata": {
        "id": "SY1IzX-Z5dG_",
        "colab_type": "code",
        "colab": {}
      },
      "source": [
        "# load 2017-18 odds\n",
        "odds2017 = pd.read_csv(r\"/content/gdrive/My Drive/Colab Datasets/NBAoddsCSV/nbaodds2017-18.csv\")\n",
        "# load 2018-19 odds\n",
        "odds2018 = pd.read_csv(r\"/content/gdrive/My Drive/Colab Datasets/NBAoddsCSV/nbaodds2018-19.csv\")\n",
        "# load 2019-20 odds\n",
        "oddsCurrent = pd.read_csv(r\"/content/gdrive/My Drive/Colab Datasets/NBAoddsCSV/nbaodds2019-20.csv\")"
      ],
      "execution_count": 0,
      "outputs": []
    },
    {
      "cell_type": "code",
      "metadata": {
        "id": "eGRWbTfVBiLo",
        "colab_type": "code",
        "outputId": "d45953a5-7c7d-4bd0-9b9d-988b4a2a28c9",
        "colab": {
          "base_uri": "https://localhost:8080/",
          "height": 34
        }
      },
      "source": [
        "oddsCurrent.shape"
      ],
      "execution_count": 0,
      "outputs": [
        {
          "output_type": "execute_result",
          "data": {
            "text/plain": [
              "(1910, 13)"
            ]
          },
          "metadata": {
            "tags": []
          },
          "execution_count": 12
        }
      ]
    },
    {
      "cell_type": "code",
      "metadata": {
        "id": "VWrnBMAH54sQ",
        "colab_type": "code",
        "colab": {}
      },
      "source": [
        "## create list of team abbreviations and sort them\n",
        "team_list = sorted(list(nba2017['homeTeam'].unique()))"
      ],
      "execution_count": 0,
      "outputs": []
    },
    {
      "cell_type": "markdown",
      "metadata": {
        "id": "Kz66N9UYu0Zh",
        "colab_type": "text"
      },
      "source": [
        "##### Here we format our odds df to match our main df by:\n",
        "1. Finding the neutral site game for each season and setting the corresponding team to the home team\n",
        "2. Dropping playoff games\n",
        "3. Seperating home/away team and get the home vs away in the same row\n",
        "3. Changing the date column to datetime objects\n",
        "4. Change team names to abbreviations\n",
        "5. Sort by date then by team to line up the two dfs\n",
        "\n",
        "I'll be keeping the odds dfs seperate for now because they'll be attached to each corresponding nba df which will need to remain seperated by season before being transformed."
      ]
    },
    {
      "cell_type": "code",
      "metadata": {
        "id": "Pc5Fq6iJm0Km",
        "colab_type": "code",
        "outputId": "4ba4686c-783a-4320-d56a-d45bd294fd3d",
        "colab": {
          "base_uri": "https://localhost:8080/",
          "height": 34
        }
      },
      "source": [
        "## one game played in london\n",
        "odds2017['VH'].unique()"
      ],
      "execution_count": 0,
      "outputs": [
        {
          "output_type": "execute_result",
          "data": {
            "text/plain": [
              "array(['V', 'H', 'N'], dtype=object)"
            ]
          },
          "metadata": {
            "tags": []
          },
          "execution_count": 14
        }
      ]
    },
    {
      "cell_type": "code",
      "metadata": {
        "id": "vo6VUVu7LAuS",
        "colab_type": "code",
        "outputId": "fe1929c1-7435-45df-ac55-202dcb7b6062",
        "colab": {
          "base_uri": "https://localhost:8080/",
          "height": 34
        }
      },
      "source": [
        "## no neutral sites yet\n",
        "oddsCurrent['VH'].unique()"
      ],
      "execution_count": 0,
      "outputs": [
        {
          "output_type": "execute_result",
          "data": {
            "text/plain": [
              "array(['V', 'H'], dtype=object)"
            ]
          },
          "metadata": {
            "tags": []
          },
          "execution_count": 15
        }
      ]
    },
    {
      "cell_type": "code",
      "metadata": {
        "id": "Sad8CmFtm7aS",
        "colab_type": "code",
        "outputId": "22e03733-65ca-4780-de1d-c292ea2db1d8",
        "colab": {
          "base_uri": "https://localhost:8080/",
          "height": 111
        }
      },
      "source": [
        "## we need to change these to home and away so it matches our other df\n",
        "odds2017.loc[odds2017['VH']=='N']"
      ],
      "execution_count": 0,
      "outputs": [
        {
          "output_type": "execute_result",
          "data": {
            "text/html": [
              "<div>\n",
              "<style scoped>\n",
              "    .dataframe tbody tr th:only-of-type {\n",
              "        vertical-align: middle;\n",
              "    }\n",
              "\n",
              "    .dataframe tbody tr th {\n",
              "        vertical-align: top;\n",
              "    }\n",
              "\n",
              "    .dataframe thead th {\n",
              "        text-align: right;\n",
              "    }\n",
              "</style>\n",
              "<table border=\"1\" class=\"dataframe\">\n",
              "  <thead>\n",
              "    <tr style=\"text-align: right;\">\n",
              "      <th></th>\n",
              "      <th>Date</th>\n",
              "      <th>Rot</th>\n",
              "      <th>VH</th>\n",
              "      <th>Team</th>\n",
              "      <th>1st</th>\n",
              "      <th>2nd</th>\n",
              "      <th>3rd</th>\n",
              "      <th>4th</th>\n",
              "      <th>Final</th>\n",
              "      <th>Open</th>\n",
              "      <th>Close</th>\n",
              "      <th>ML</th>\n",
              "      <th>2H</th>\n",
              "    </tr>\n",
              "  </thead>\n",
              "  <tbody>\n",
              "    <tr>\n",
              "      <th>1232</th>\n",
              "      <td>111</td>\n",
              "      <td>901</td>\n",
              "      <td>N</td>\n",
              "      <td>Boston</td>\n",
              "      <td>23</td>\n",
              "      <td>25</td>\n",
              "      <td>37</td>\n",
              "      <td>29</td>\n",
              "      <td>114</td>\n",
              "      <td>1.5</td>\n",
              "      <td>1.5</td>\n",
              "      <td>-130</td>\n",
              "      <td>4</td>\n",
              "    </tr>\n",
              "    <tr>\n",
              "      <th>1233</th>\n",
              "      <td>111</td>\n",
              "      <td>902</td>\n",
              "      <td>N</td>\n",
              "      <td>Philadelphia</td>\n",
              "      <td>28</td>\n",
              "      <td>29</td>\n",
              "      <td>22</td>\n",
              "      <td>24</td>\n",
              "      <td>103</td>\n",
              "      <td>205.5</td>\n",
              "      <td>211.5</td>\n",
              "      <td>110</td>\n",
              "      <td>109.5</td>\n",
              "    </tr>\n",
              "  </tbody>\n",
              "</table>\n",
              "</div>"
            ],
            "text/plain": [
              "      Date  Rot VH          Team  1st  2nd  3rd  4th  Final   Open  Close  \\\n",
              "1232   111  901  N        Boston   23   25   37   29    114    1.5    1.5   \n",
              "1233   111  902  N  Philadelphia   28   29   22   24    103  205.5  211.5   \n",
              "\n",
              "       ML     2H  \n",
              "1232 -130      4  \n",
              "1233  110  109.5  "
            ]
          },
          "metadata": {
            "tags": []
          },
          "execution_count": 16
        }
      ]
    },
    {
      "cell_type": "code",
      "metadata": {
        "id": "4GCw_Ah4nmAL",
        "colab_type": "code",
        "outputId": "40d869e8-2304-49b9-fdf5-fc05f915bef9",
        "colab": {
          "base_uri": "https://localhost:8080/",
          "height": 168
        }
      },
      "source": [
        "## PHI is the home team\n",
        "nba2017.loc[nba2017['gameID']=='201801110PHI']"
      ],
      "execution_count": 0,
      "outputs": [
        {
          "output_type": "execute_result",
          "data": {
            "text/html": [
              "<div>\n",
              "<style scoped>\n",
              "    .dataframe tbody tr th:only-of-type {\n",
              "        vertical-align: middle;\n",
              "    }\n",
              "\n",
              "    .dataframe tbody tr th {\n",
              "        vertical-align: top;\n",
              "    }\n",
              "\n",
              "    .dataframe thead th {\n",
              "        text-align: right;\n",
              "    }\n",
              "</style>\n",
              "<table border=\"1\" class=\"dataframe\">\n",
              "  <thead>\n",
              "    <tr style=\"text-align: right;\">\n",
              "      <th></th>\n",
              "      <th>gameID</th>\n",
              "      <th>away_assist_percentage</th>\n",
              "      <th>away_assists</th>\n",
              "      <th>away_block_percentage</th>\n",
              "      <th>away_blocks</th>\n",
              "      <th>away_defensive_rating</th>\n",
              "      <th>away_defensive_rebound_percentage</th>\n",
              "      <th>away_defensive_rebounds</th>\n",
              "      <th>away_effective_field_goal_percentage</th>\n",
              "      <th>away_field_goal_attempts</th>\n",
              "      <th>away_field_goal_percentage</th>\n",
              "      <th>away_field_goals</th>\n",
              "      <th>away_free_throw_attempt_rate</th>\n",
              "      <th>away_free_throw_attempts</th>\n",
              "      <th>away_free_throw_percentage</th>\n",
              "      <th>away_free_throws</th>\n",
              "      <th>away_losses</th>\n",
              "      <th>away_minutes_played</th>\n",
              "      <th>away_offensive_rating</th>\n",
              "      <th>away_offensive_rebound_percentage</th>\n",
              "      <th>away_offensive_rebounds</th>\n",
              "      <th>away_personal_fouls</th>\n",
              "      <th>away_points</th>\n",
              "      <th>away_steal_percentage</th>\n",
              "      <th>away_steals</th>\n",
              "      <th>away_three_point_attempt_rate</th>\n",
              "      <th>away_three_point_field_goal_attempts</th>\n",
              "      <th>away_three_point_field_goal_percentage</th>\n",
              "      <th>away_three_point_field_goals</th>\n",
              "      <th>away_total_rebound_percentage</th>\n",
              "      <th>away_total_rebounds</th>\n",
              "      <th>away_true_shooting_percentage</th>\n",
              "      <th>away_turnover_percentage</th>\n",
              "      <th>away_turnovers</th>\n",
              "      <th>away_two_point_field_goal_attempts</th>\n",
              "      <th>away_two_point_field_goal_percentage</th>\n",
              "      <th>away_two_point_field_goals</th>\n",
              "      <th>away_wins</th>\n",
              "      <th>date</th>\n",
              "      <th>home_assist_percentage</th>\n",
              "      <th>home_assists</th>\n",
              "      <th>home_block_percentage</th>\n",
              "      <th>home_blocks</th>\n",
              "      <th>home_defensive_rating</th>\n",
              "      <th>home_defensive_rebound_percentage</th>\n",
              "      <th>home_defensive_rebounds</th>\n",
              "      <th>home_effective_field_goal_percentage</th>\n",
              "      <th>home_field_goal_attempts</th>\n",
              "      <th>home_field_goal_percentage</th>\n",
              "      <th>home_field_goals</th>\n",
              "      <th>home_free_throw_attempt_rate</th>\n",
              "      <th>home_free_throw_attempts</th>\n",
              "      <th>home_free_throw_percentage</th>\n",
              "      <th>home_free_throws</th>\n",
              "      <th>home_losses</th>\n",
              "      <th>home_minutes_played</th>\n",
              "      <th>home_offensive_rating</th>\n",
              "      <th>home_offensive_rebound_percentage</th>\n",
              "      <th>home_offensive_rebounds</th>\n",
              "      <th>home_personal_fouls</th>\n",
              "      <th>home_points</th>\n",
              "      <th>home_steal_percentage</th>\n",
              "      <th>home_steals</th>\n",
              "      <th>home_three_point_attempt_rate</th>\n",
              "      <th>home_three_point_field_goal_attempts</th>\n",
              "      <th>home_three_point_field_goal_percentage</th>\n",
              "      <th>home_three_point_field_goals</th>\n",
              "      <th>home_total_rebound_percentage</th>\n",
              "      <th>home_total_rebounds</th>\n",
              "      <th>home_true_shooting_percentage</th>\n",
              "      <th>home_turnover_percentage</th>\n",
              "      <th>home_turnovers</th>\n",
              "      <th>home_two_point_field_goal_attempts</th>\n",
              "      <th>home_two_point_field_goal_percentage</th>\n",
              "      <th>home_two_point_field_goals</th>\n",
              "      <th>home_wins</th>\n",
              "      <th>location</th>\n",
              "      <th>losing_abbr</th>\n",
              "      <th>losing_name</th>\n",
              "      <th>pace</th>\n",
              "      <th>winner</th>\n",
              "      <th>winning_abbr</th>\n",
              "      <th>winning_name</th>\n",
              "      <th>homeWin</th>\n",
              "      <th>homeTeam</th>\n",
              "      <th>awayTeam</th>\n",
              "    </tr>\n",
              "  </thead>\n",
              "  <tbody>\n",
              "    <tr>\n",
              "      <th>614</th>\n",
              "      <td>201801110PHI</td>\n",
              "      <td>55.8</td>\n",
              "      <td>24</td>\n",
              "      <td>3.7</td>\n",
              "      <td>2</td>\n",
              "      <td>99.5</td>\n",
              "      <td>92.1</td>\n",
              "      <td>35</td>\n",
              "      <td>0.556</td>\n",
              "      <td>89</td>\n",
              "      <td>0.483</td>\n",
              "      <td>43</td>\n",
              "      <td>0.213</td>\n",
              "      <td>19</td>\n",
              "      <td>0.789</td>\n",
              "      <td>15</td>\n",
              "      <td>10</td>\n",
              "      <td>240</td>\n",
              "      <td>110.1</td>\n",
              "      <td>24.4</td>\n",
              "      <td>11</td>\n",
              "      <td>18</td>\n",
              "      <td>114</td>\n",
              "      <td>10.6</td>\n",
              "      <td>11</td>\n",
              "      <td>0.393</td>\n",
              "      <td>35</td>\n",
              "      <td>0.371</td>\n",
              "      <td>13</td>\n",
              "      <td>55.4</td>\n",
              "      <td>46</td>\n",
              "      <td>0.585</td>\n",
              "      <td>15.6</td>\n",
              "      <td>18</td>\n",
              "      <td>54</td>\n",
              "      <td>0.556</td>\n",
              "      <td>30</td>\n",
              "      <td>34</td>\n",
              "      <td>2018-01-11</td>\n",
              "      <td>52.6</td>\n",
              "      <td>24</td>\n",
              "      <td>7.4</td>\n",
              "      <td>2</td>\n",
              "      <td>110.1</td>\n",
              "      <td>75.6</td>\n",
              "      <td>35</td>\n",
              "      <td>0.53</td>\n",
              "      <td>89</td>\n",
              "      <td>0.483</td>\n",
              "      <td>43</td>\n",
              "      <td>0.22</td>\n",
              "      <td>19</td>\n",
              "      <td>0.789</td>\n",
              "      <td>15</td>\n",
              "      <td>0</td>\n",
              "      <td>240</td>\n",
              "      <td>99.5</td>\n",
              "      <td>7.9</td>\n",
              "      <td>11</td>\n",
              "      <td>18</td>\n",
              "      <td>103</td>\n",
              "      <td>11.6</td>\n",
              "      <td>11</td>\n",
              "      <td>0.341</td>\n",
              "      <td>35</td>\n",
              "      <td>0.371</td>\n",
              "      <td>13</td>\n",
              "      <td>44.6</td>\n",
              "      <td>46</td>\n",
              "      <td>0.573</td>\n",
              "      <td>17.4</td>\n",
              "      <td>18</td>\n",
              "      <td>54</td>\n",
              "      <td>0.556</td>\n",
              "      <td>30</td>\n",
              "      <td>0</td>\n",
              "      <td>The O2 Arena, London, United Kingdom</td>\n",
              "      <td>PHI</td>\n",
              "      <td>Philadelphia 76ers</td>\n",
              "      <td>103.5</td>\n",
              "      <td>Away</td>\n",
              "      <td>BOS</td>\n",
              "      <td>Boston Celtics</td>\n",
              "      <td>False</td>\n",
              "      <td>PHI</td>\n",
              "      <td>BOS</td>\n",
              "    </tr>\n",
              "  </tbody>\n",
              "</table>\n",
              "</div>"
            ],
            "text/plain": [
              "           gameID  away_assist_percentage  away_assists  \\\n",
              "614  201801110PHI                    55.8            24   \n",
              "\n",
              "     away_block_percentage  away_blocks  away_defensive_rating  \\\n",
              "614                    3.7            2                   99.5   \n",
              "\n",
              "     away_defensive_rebound_percentage  away_defensive_rebounds  \\\n",
              "614                               92.1                       35   \n",
              "\n",
              "     away_effective_field_goal_percentage  away_field_goal_attempts  \\\n",
              "614                                 0.556                        89   \n",
              "\n",
              "     away_field_goal_percentage  away_field_goals  \\\n",
              "614                       0.483                43   \n",
              "\n",
              "     away_free_throw_attempt_rate  away_free_throw_attempts  \\\n",
              "614                         0.213                        19   \n",
              "\n",
              "     away_free_throw_percentage  away_free_throws  away_losses  \\\n",
              "614                       0.789                15           10   \n",
              "\n",
              "     away_minutes_played  away_offensive_rating  \\\n",
              "614                  240                  110.1   \n",
              "\n",
              "     away_offensive_rebound_percentage  away_offensive_rebounds  \\\n",
              "614                               24.4                       11   \n",
              "\n",
              "     away_personal_fouls  away_points  away_steal_percentage  away_steals  \\\n",
              "614                   18          114                   10.6           11   \n",
              "\n",
              "     away_three_point_attempt_rate  away_three_point_field_goal_attempts  \\\n",
              "614                          0.393                                    35   \n",
              "\n",
              "     away_three_point_field_goal_percentage  away_three_point_field_goals  \\\n",
              "614                                   0.371                            13   \n",
              "\n",
              "     away_total_rebound_percentage  away_total_rebounds  \\\n",
              "614                           55.4                   46   \n",
              "\n",
              "     away_true_shooting_percentage  away_turnover_percentage  away_turnovers  \\\n",
              "614                          0.585                      15.6              18   \n",
              "\n",
              "     away_two_point_field_goal_attempts  away_two_point_field_goal_percentage  \\\n",
              "614                                  54                                 0.556   \n",
              "\n",
              "     away_two_point_field_goals  away_wins        date  \\\n",
              "614                          30         34  2018-01-11   \n",
              "\n",
              "     home_assist_percentage  home_assists  home_block_percentage  home_blocks  \\\n",
              "614                    52.6            24                    7.4            2   \n",
              "\n",
              "     home_defensive_rating  home_defensive_rebound_percentage  \\\n",
              "614                  110.1                               75.6   \n",
              "\n",
              "     home_defensive_rebounds  home_effective_field_goal_percentage  \\\n",
              "614                       35                                  0.53   \n",
              "\n",
              "     home_field_goal_attempts  home_field_goal_percentage  home_field_goals  \\\n",
              "614                        89                       0.483                43   \n",
              "\n",
              "     home_free_throw_attempt_rate  home_free_throw_attempts  \\\n",
              "614                          0.22                        19   \n",
              "\n",
              "     home_free_throw_percentage  home_free_throws  home_losses  \\\n",
              "614                       0.789                15            0   \n",
              "\n",
              "     home_minutes_played  home_offensive_rating  \\\n",
              "614                  240                   99.5   \n",
              "\n",
              "     home_offensive_rebound_percentage  home_offensive_rebounds  \\\n",
              "614                                7.9                       11   \n",
              "\n",
              "     home_personal_fouls  home_points  home_steal_percentage  home_steals  \\\n",
              "614                   18          103                   11.6           11   \n",
              "\n",
              "     home_three_point_attempt_rate  home_three_point_field_goal_attempts  \\\n",
              "614                          0.341                                    35   \n",
              "\n",
              "     home_three_point_field_goal_percentage  home_three_point_field_goals  \\\n",
              "614                                   0.371                            13   \n",
              "\n",
              "     home_total_rebound_percentage  home_total_rebounds  \\\n",
              "614                           44.6                   46   \n",
              "\n",
              "     home_true_shooting_percentage  home_turnover_percentage  home_turnovers  \\\n",
              "614                          0.573                      17.4              18   \n",
              "\n",
              "     home_two_point_field_goal_attempts  home_two_point_field_goal_percentage  \\\n",
              "614                                  54                                 0.556   \n",
              "\n",
              "     home_two_point_field_goals  home_wins  \\\n",
              "614                          30          0   \n",
              "\n",
              "                                 location losing_abbr         losing_name  \\\n",
              "614  The O2 Arena, London, United Kingdom         PHI  Philadelphia 76ers   \n",
              "\n",
              "      pace winner winning_abbr    winning_name  homeWin homeTeam awayTeam  \n",
              "614  103.5   Away          BOS  Boston Celtics    False      PHI      BOS  "
            ]
          },
          "metadata": {
            "tags": []
          },
          "execution_count": 17
        }
      ]
    },
    {
      "cell_type": "code",
      "metadata": {
        "id": "QkzdmVaWqJxw",
        "colab_type": "code",
        "outputId": "005e638f-a64f-4ae0-a6ad-ed6c55f60175",
        "colab": {
          "base_uri": "https://localhost:8080/",
          "height": 122
        }
      },
      "source": [
        "## change values for home and away team\n",
        "odds2017['VH'].iloc[[1233]] = 'H'\n",
        "odds2017['VH'].iloc[[1232]] = 'V'"
      ],
      "execution_count": 0,
      "outputs": [
        {
          "output_type": "stream",
          "text": [
            "/usr/local/lib/python3.6/dist-packages/pandas/core/indexing.py:671: SettingWithCopyWarning: \n",
            "A value is trying to be set on a copy of a slice from a DataFrame\n",
            "\n",
            "See the caveats in the documentation: https://pandas.pydata.org/pandas-docs/stable/user_guide/indexing.html#returning-a-view-versus-a-copy\n",
            "  self._setitem_with_indexer(indexer, value)\n"
          ],
          "name": "stderr"
        }
      ]
    },
    {
      "cell_type": "code",
      "metadata": {
        "id": "rKtiN0TbrQNg",
        "colab_type": "code",
        "outputId": "c0298ad0-d421-4a30-9413-c9bee2a7ed90",
        "colab": {
          "base_uri": "https://localhost:8080/",
          "height": 111
        }
      },
      "source": [
        "## check work\n",
        "odds2017.iloc[[1232,1233]]"
      ],
      "execution_count": 0,
      "outputs": [
        {
          "output_type": "execute_result",
          "data": {
            "text/html": [
              "<div>\n",
              "<style scoped>\n",
              "    .dataframe tbody tr th:only-of-type {\n",
              "        vertical-align: middle;\n",
              "    }\n",
              "\n",
              "    .dataframe tbody tr th {\n",
              "        vertical-align: top;\n",
              "    }\n",
              "\n",
              "    .dataframe thead th {\n",
              "        text-align: right;\n",
              "    }\n",
              "</style>\n",
              "<table border=\"1\" class=\"dataframe\">\n",
              "  <thead>\n",
              "    <tr style=\"text-align: right;\">\n",
              "      <th></th>\n",
              "      <th>Date</th>\n",
              "      <th>Rot</th>\n",
              "      <th>VH</th>\n",
              "      <th>Team</th>\n",
              "      <th>1st</th>\n",
              "      <th>2nd</th>\n",
              "      <th>3rd</th>\n",
              "      <th>4th</th>\n",
              "      <th>Final</th>\n",
              "      <th>Open</th>\n",
              "      <th>Close</th>\n",
              "      <th>ML</th>\n",
              "      <th>2H</th>\n",
              "    </tr>\n",
              "  </thead>\n",
              "  <tbody>\n",
              "    <tr>\n",
              "      <th>1232</th>\n",
              "      <td>111</td>\n",
              "      <td>901</td>\n",
              "      <td>V</td>\n",
              "      <td>Boston</td>\n",
              "      <td>23</td>\n",
              "      <td>25</td>\n",
              "      <td>37</td>\n",
              "      <td>29</td>\n",
              "      <td>114</td>\n",
              "      <td>1.5</td>\n",
              "      <td>1.5</td>\n",
              "      <td>-130</td>\n",
              "      <td>4</td>\n",
              "    </tr>\n",
              "    <tr>\n",
              "      <th>1233</th>\n",
              "      <td>111</td>\n",
              "      <td>902</td>\n",
              "      <td>H</td>\n",
              "      <td>Philadelphia</td>\n",
              "      <td>28</td>\n",
              "      <td>29</td>\n",
              "      <td>22</td>\n",
              "      <td>24</td>\n",
              "      <td>103</td>\n",
              "      <td>205.5</td>\n",
              "      <td>211.5</td>\n",
              "      <td>110</td>\n",
              "      <td>109.5</td>\n",
              "    </tr>\n",
              "  </tbody>\n",
              "</table>\n",
              "</div>"
            ],
            "text/plain": [
              "      Date  Rot VH          Team  1st  2nd  3rd  4th  Final   Open  Close  \\\n",
              "1232   111  901  V        Boston   23   25   37   29    114    1.5    1.5   \n",
              "1233   111  902  H  Philadelphia   28   29   22   24    103  205.5  211.5   \n",
              "\n",
              "       ML     2H  \n",
              "1232 -130      4  \n",
              "1233  110  109.5  "
            ]
          },
          "metadata": {
            "tags": []
          },
          "execution_count": 19
        }
      ]
    },
    {
      "cell_type": "code",
      "metadata": {
        "id": "yQUqq2FWrfpf",
        "colab_type": "code",
        "outputId": "7f208449-053b-4f94-fe42-6cc9bd5ba620",
        "colab": {
          "base_uri": "https://localhost:8080/",
          "height": 111
        }
      },
      "source": [
        "## do the same for 2018 df\n",
        "odds2018.loc[odds2018['VH']=='N']"
      ],
      "execution_count": 0,
      "outputs": [
        {
          "output_type": "execute_result",
          "data": {
            "text/html": [
              "<div>\n",
              "<style scoped>\n",
              "    .dataframe tbody tr th:only-of-type {\n",
              "        vertical-align: middle;\n",
              "    }\n",
              "\n",
              "    .dataframe tbody tr th {\n",
              "        vertical-align: top;\n",
              "    }\n",
              "\n",
              "    .dataframe thead th {\n",
              "        text-align: right;\n",
              "    }\n",
              "</style>\n",
              "<table border=\"1\" class=\"dataframe\">\n",
              "  <thead>\n",
              "    <tr style=\"text-align: right;\">\n",
              "      <th></th>\n",
              "      <th>Date</th>\n",
              "      <th>Rot</th>\n",
              "      <th>VH</th>\n",
              "      <th>Team</th>\n",
              "      <th>1st</th>\n",
              "      <th>2nd</th>\n",
              "      <th>3rd</th>\n",
              "      <th>4th</th>\n",
              "      <th>Final</th>\n",
              "      <th>Open</th>\n",
              "      <th>Close</th>\n",
              "      <th>ML</th>\n",
              "      <th>2H</th>\n",
              "    </tr>\n",
              "  </thead>\n",
              "  <tbody>\n",
              "    <tr>\n",
              "      <th>1328</th>\n",
              "      <td>117</td>\n",
              "      <td>541</td>\n",
              "      <td>N</td>\n",
              "      <td>NewYork</td>\n",
              "      <td>30</td>\n",
              "      <td>33</td>\n",
              "      <td>26</td>\n",
              "      <td>11</td>\n",
              "      <td>100</td>\n",
              "      <td>225</td>\n",
              "      <td>229</td>\n",
              "      <td>260</td>\n",
              "      <td>112.5</td>\n",
              "    </tr>\n",
              "    <tr>\n",
              "      <th>1329</th>\n",
              "      <td>117</td>\n",
              "      <td>542</td>\n",
              "      <td>N</td>\n",
              "      <td>Washington</td>\n",
              "      <td>20</td>\n",
              "      <td>33</td>\n",
              "      <td>24</td>\n",
              "      <td>24</td>\n",
              "      <td>101</td>\n",
              "      <td>7</td>\n",
              "      <td>7.5</td>\n",
              "      <td>-330</td>\n",
              "      <td>7.5</td>\n",
              "    </tr>\n",
              "  </tbody>\n",
              "</table>\n",
              "</div>"
            ],
            "text/plain": [
              "      Date  Rot VH        Team  1st  2nd  3rd  4th  Final Open Close   ML  \\\n",
              "1328   117  541  N     NewYork   30   33   26   11    100  225   229  260   \n",
              "1329   117  542  N  Washington   20   33   24   24    101    7   7.5 -330   \n",
              "\n",
              "         2H  \n",
              "1328  112.5  \n",
              "1329    7.5  "
            ]
          },
          "metadata": {
            "tags": []
          },
          "execution_count": 20
        }
      ]
    },
    {
      "cell_type": "code",
      "metadata": {
        "id": "csAl8j8nr6z0",
        "colab_type": "code",
        "outputId": "ce5b5308-d3b9-425e-e168-8bf4902330e9",
        "colab": {
          "base_uri": "https://localhost:8080/",
          "height": 168
        }
      },
      "source": [
        "## find the game in nba df to determine home team\n",
        "nba2018.loc[nba2018['gameID']=='201901170WAS']"
      ],
      "execution_count": 0,
      "outputs": [
        {
          "output_type": "execute_result",
          "data": {
            "text/html": [
              "<div>\n",
              "<style scoped>\n",
              "    .dataframe tbody tr th:only-of-type {\n",
              "        vertical-align: middle;\n",
              "    }\n",
              "\n",
              "    .dataframe tbody tr th {\n",
              "        vertical-align: top;\n",
              "    }\n",
              "\n",
              "    .dataframe thead th {\n",
              "        text-align: right;\n",
              "    }\n",
              "</style>\n",
              "<table border=\"1\" class=\"dataframe\">\n",
              "  <thead>\n",
              "    <tr style=\"text-align: right;\">\n",
              "      <th></th>\n",
              "      <th>gameID</th>\n",
              "      <th>away_assist_percentage</th>\n",
              "      <th>away_assists</th>\n",
              "      <th>away_block_percentage</th>\n",
              "      <th>away_blocks</th>\n",
              "      <th>away_defensive_rating</th>\n",
              "      <th>away_defensive_rebound_percentage</th>\n",
              "      <th>away_defensive_rebounds</th>\n",
              "      <th>away_effective_field_goal_percentage</th>\n",
              "      <th>away_field_goal_attempts</th>\n",
              "      <th>away_field_goal_percentage</th>\n",
              "      <th>away_field_goals</th>\n",
              "      <th>away_free_throw_attempt_rate</th>\n",
              "      <th>away_free_throw_attempts</th>\n",
              "      <th>away_free_throw_percentage</th>\n",
              "      <th>away_free_throws</th>\n",
              "      <th>away_losses</th>\n",
              "      <th>away_minutes_played</th>\n",
              "      <th>away_offensive_rating</th>\n",
              "      <th>away_offensive_rebound_percentage</th>\n",
              "      <th>away_offensive_rebounds</th>\n",
              "      <th>away_personal_fouls</th>\n",
              "      <th>away_points</th>\n",
              "      <th>away_steal_percentage</th>\n",
              "      <th>away_steals</th>\n",
              "      <th>away_three_point_attempt_rate</th>\n",
              "      <th>away_three_point_field_goal_attempts</th>\n",
              "      <th>away_three_point_field_goal_percentage</th>\n",
              "      <th>away_three_point_field_goals</th>\n",
              "      <th>away_total_rebound_percentage</th>\n",
              "      <th>away_total_rebounds</th>\n",
              "      <th>away_true_shooting_percentage</th>\n",
              "      <th>away_turnover_percentage</th>\n",
              "      <th>away_turnovers</th>\n",
              "      <th>away_two_point_field_goal_attempts</th>\n",
              "      <th>away_two_point_field_goal_percentage</th>\n",
              "      <th>away_two_point_field_goals</th>\n",
              "      <th>away_wins</th>\n",
              "      <th>date</th>\n",
              "      <th>home_assist_percentage</th>\n",
              "      <th>home_assists</th>\n",
              "      <th>home_block_percentage</th>\n",
              "      <th>home_blocks</th>\n",
              "      <th>home_defensive_rating</th>\n",
              "      <th>home_defensive_rebound_percentage</th>\n",
              "      <th>home_defensive_rebounds</th>\n",
              "      <th>home_effective_field_goal_percentage</th>\n",
              "      <th>home_field_goal_attempts</th>\n",
              "      <th>home_field_goal_percentage</th>\n",
              "      <th>home_field_goals</th>\n",
              "      <th>home_free_throw_attempt_rate</th>\n",
              "      <th>home_free_throw_attempts</th>\n",
              "      <th>home_free_throw_percentage</th>\n",
              "      <th>home_free_throws</th>\n",
              "      <th>home_losses</th>\n",
              "      <th>home_minutes_played</th>\n",
              "      <th>home_offensive_rating</th>\n",
              "      <th>home_offensive_rebound_percentage</th>\n",
              "      <th>home_offensive_rebounds</th>\n",
              "      <th>home_personal_fouls</th>\n",
              "      <th>home_points</th>\n",
              "      <th>home_steal_percentage</th>\n",
              "      <th>home_steals</th>\n",
              "      <th>home_three_point_attempt_rate</th>\n",
              "      <th>home_three_point_field_goal_attempts</th>\n",
              "      <th>home_three_point_field_goal_percentage</th>\n",
              "      <th>home_three_point_field_goals</th>\n",
              "      <th>home_total_rebound_percentage</th>\n",
              "      <th>home_total_rebounds</th>\n",
              "      <th>home_true_shooting_percentage</th>\n",
              "      <th>home_turnover_percentage</th>\n",
              "      <th>home_turnovers</th>\n",
              "      <th>home_two_point_field_goal_attempts</th>\n",
              "      <th>home_two_point_field_goal_percentage</th>\n",
              "      <th>home_two_point_field_goals</th>\n",
              "      <th>home_wins</th>\n",
              "      <th>location</th>\n",
              "      <th>losing_abbr</th>\n",
              "      <th>losing_name</th>\n",
              "      <th>pace</th>\n",
              "      <th>winner</th>\n",
              "      <th>winning_abbr</th>\n",
              "      <th>winning_name</th>\n",
              "      <th>homeWin</th>\n",
              "      <th>homeTeam</th>\n",
              "      <th>awayTeam</th>\n",
              "    </tr>\n",
              "  </thead>\n",
              "  <tbody>\n",
              "    <tr>\n",
              "      <th>669</th>\n",
              "      <td>201901170WAS</td>\n",
              "      <td>38.5</td>\n",
              "      <td>15</td>\n",
              "      <td>4.6</td>\n",
              "      <td>3</td>\n",
              "      <td>103.5</td>\n",
              "      <td>70.6</td>\n",
              "      <td>36</td>\n",
              "      <td>0.517</td>\n",
              "      <td>87</td>\n",
              "      <td>0.448</td>\n",
              "      <td>39</td>\n",
              "      <td>0.138</td>\n",
              "      <td>12</td>\n",
              "      <td>0.833</td>\n",
              "      <td>10</td>\n",
              "      <td>34</td>\n",
              "      <td>240</td>\n",
              "      <td>102.5</td>\n",
              "      <td>14.3</td>\n",
              "      <td>6</td>\n",
              "      <td>16</td>\n",
              "      <td>100</td>\n",
              "      <td>6.2</td>\n",
              "      <td>6</td>\n",
              "      <td>0.333</td>\n",
              "      <td>29</td>\n",
              "      <td>0.414</td>\n",
              "      <td>12</td>\n",
              "      <td>45.2</td>\n",
              "      <td>42</td>\n",
              "      <td>0.542</td>\n",
              "      <td>13.2</td>\n",
              "      <td>14</td>\n",
              "      <td>58</td>\n",
              "      <td>0.466</td>\n",
              "      <td>27</td>\n",
              "      <td>10</td>\n",
              "      <td>2019-01-17</td>\n",
              "      <td>57.5</td>\n",
              "      <td>15</td>\n",
              "      <td>3.4</td>\n",
              "      <td>3</td>\n",
              "      <td>102.5</td>\n",
              "      <td>85.7</td>\n",
              "      <td>36</td>\n",
              "      <td>0.473</td>\n",
              "      <td>87</td>\n",
              "      <td>0.448</td>\n",
              "      <td>39</td>\n",
              "      <td>0.217</td>\n",
              "      <td>12</td>\n",
              "      <td>0.833</td>\n",
              "      <td>10</td>\n",
              "      <td>26</td>\n",
              "      <td>240</td>\n",
              "      <td>103.5</td>\n",
              "      <td>29.4</td>\n",
              "      <td>6</td>\n",
              "      <td>16</td>\n",
              "      <td>101</td>\n",
              "      <td>9.2</td>\n",
              "      <td>6</td>\n",
              "      <td>0.293</td>\n",
              "      <td>29</td>\n",
              "      <td>0.414</td>\n",
              "      <td>12</td>\n",
              "      <td>54.8</td>\n",
              "      <td>42</td>\n",
              "      <td>0.501</td>\n",
              "      <td>11.4</td>\n",
              "      <td>14</td>\n",
              "      <td>58</td>\n",
              "      <td>0.466</td>\n",
              "      <td>27</td>\n",
              "      <td>19</td>\n",
              "      <td>The O2 Arena, London, United Kingdom</td>\n",
              "      <td>NYK</td>\n",
              "      <td>New York Knicks</td>\n",
              "      <td>97.5</td>\n",
              "      <td>Home</td>\n",
              "      <td>WAS</td>\n",
              "      <td>Washington Wizards</td>\n",
              "      <td>True</td>\n",
              "      <td>WAS</td>\n",
              "      <td>NYK</td>\n",
              "    </tr>\n",
              "  </tbody>\n",
              "</table>\n",
              "</div>"
            ],
            "text/plain": [
              "           gameID  away_assist_percentage  away_assists  \\\n",
              "669  201901170WAS                    38.5            15   \n",
              "\n",
              "     away_block_percentage  away_blocks  away_defensive_rating  \\\n",
              "669                    4.6            3                  103.5   \n",
              "\n",
              "     away_defensive_rebound_percentage  away_defensive_rebounds  \\\n",
              "669                               70.6                       36   \n",
              "\n",
              "     away_effective_field_goal_percentage  away_field_goal_attempts  \\\n",
              "669                                 0.517                        87   \n",
              "\n",
              "     away_field_goal_percentage  away_field_goals  \\\n",
              "669                       0.448                39   \n",
              "\n",
              "     away_free_throw_attempt_rate  away_free_throw_attempts  \\\n",
              "669                         0.138                        12   \n",
              "\n",
              "     away_free_throw_percentage  away_free_throws  away_losses  \\\n",
              "669                       0.833                10           34   \n",
              "\n",
              "     away_minutes_played  away_offensive_rating  \\\n",
              "669                  240                  102.5   \n",
              "\n",
              "     away_offensive_rebound_percentage  away_offensive_rebounds  \\\n",
              "669                               14.3                        6   \n",
              "\n",
              "     away_personal_fouls  away_points  away_steal_percentage  away_steals  \\\n",
              "669                   16          100                    6.2            6   \n",
              "\n",
              "     away_three_point_attempt_rate  away_three_point_field_goal_attempts  \\\n",
              "669                          0.333                                    29   \n",
              "\n",
              "     away_three_point_field_goal_percentage  away_three_point_field_goals  \\\n",
              "669                                   0.414                            12   \n",
              "\n",
              "     away_total_rebound_percentage  away_total_rebounds  \\\n",
              "669                           45.2                   42   \n",
              "\n",
              "     away_true_shooting_percentage  away_turnover_percentage  away_turnovers  \\\n",
              "669                          0.542                      13.2              14   \n",
              "\n",
              "     away_two_point_field_goal_attempts  away_two_point_field_goal_percentage  \\\n",
              "669                                  58                                 0.466   \n",
              "\n",
              "     away_two_point_field_goals  away_wins        date  \\\n",
              "669                          27         10  2019-01-17   \n",
              "\n",
              "     home_assist_percentage  home_assists  home_block_percentage  home_blocks  \\\n",
              "669                    57.5            15                    3.4            3   \n",
              "\n",
              "     home_defensive_rating  home_defensive_rebound_percentage  \\\n",
              "669                  102.5                               85.7   \n",
              "\n",
              "     home_defensive_rebounds  home_effective_field_goal_percentage  \\\n",
              "669                       36                                 0.473   \n",
              "\n",
              "     home_field_goal_attempts  home_field_goal_percentage  home_field_goals  \\\n",
              "669                        87                       0.448                39   \n",
              "\n",
              "     home_free_throw_attempt_rate  home_free_throw_attempts  \\\n",
              "669                         0.217                        12   \n",
              "\n",
              "     home_free_throw_percentage  home_free_throws  home_losses  \\\n",
              "669                       0.833                10           26   \n",
              "\n",
              "     home_minutes_played  home_offensive_rating  \\\n",
              "669                  240                  103.5   \n",
              "\n",
              "     home_offensive_rebound_percentage  home_offensive_rebounds  \\\n",
              "669                               29.4                        6   \n",
              "\n",
              "     home_personal_fouls  home_points  home_steal_percentage  home_steals  \\\n",
              "669                   16          101                    9.2            6   \n",
              "\n",
              "     home_three_point_attempt_rate  home_three_point_field_goal_attempts  \\\n",
              "669                          0.293                                    29   \n",
              "\n",
              "     home_three_point_field_goal_percentage  home_three_point_field_goals  \\\n",
              "669                                   0.414                            12   \n",
              "\n",
              "     home_total_rebound_percentage  home_total_rebounds  \\\n",
              "669                           54.8                   42   \n",
              "\n",
              "     home_true_shooting_percentage  home_turnover_percentage  home_turnovers  \\\n",
              "669                          0.501                      11.4              14   \n",
              "\n",
              "     home_two_point_field_goal_attempts  home_two_point_field_goal_percentage  \\\n",
              "669                                  58                                 0.466   \n",
              "\n",
              "     home_two_point_field_goals  home_wins  \\\n",
              "669                          27         19   \n",
              "\n",
              "                                 location losing_abbr      losing_name  pace  \\\n",
              "669  The O2 Arena, London, United Kingdom         NYK  New York Knicks  97.5   \n",
              "\n",
              "    winner winning_abbr        winning_name  homeWin homeTeam awayTeam  \n",
              "669   Home          WAS  Washington Wizards     True      WAS      NYK  "
            ]
          },
          "metadata": {
            "tags": []
          },
          "execution_count": 21
        }
      ]
    },
    {
      "cell_type": "code",
      "metadata": {
        "id": "lhScR8X8sxu_",
        "colab_type": "code",
        "outputId": "45ce6408-7ccd-46b6-c95e-01c13ea5f8be",
        "colab": {
          "base_uri": "https://localhost:8080/",
          "height": 122
        }
      },
      "source": [
        "## change the value for home and away team\n",
        "odds2018['VH'].iloc[[1329]] = 'H'\n",
        "odds2018['VH'].iloc[[1328]] = 'V'"
      ],
      "execution_count": 0,
      "outputs": [
        {
          "output_type": "stream",
          "text": [
            "/usr/local/lib/python3.6/dist-packages/pandas/core/indexing.py:671: SettingWithCopyWarning: \n",
            "A value is trying to be set on a copy of a slice from a DataFrame\n",
            "\n",
            "See the caveats in the documentation: https://pandas.pydata.org/pandas-docs/stable/user_guide/indexing.html#returning-a-view-versus-a-copy\n",
            "  self._setitem_with_indexer(indexer, value)\n"
          ],
          "name": "stderr"
        }
      ]
    },
    {
      "cell_type": "code",
      "metadata": {
        "id": "s-JpM79HtGtc",
        "colab_type": "code",
        "outputId": "8fd5f6f9-3d75-46ea-cd13-5917757f16d6",
        "colab": {
          "base_uri": "https://localhost:8080/",
          "height": 111
        }
      },
      "source": [
        "## check work\n",
        "odds2018.iloc[[1328,1329]]"
      ],
      "execution_count": 0,
      "outputs": [
        {
          "output_type": "execute_result",
          "data": {
            "text/html": [
              "<div>\n",
              "<style scoped>\n",
              "    .dataframe tbody tr th:only-of-type {\n",
              "        vertical-align: middle;\n",
              "    }\n",
              "\n",
              "    .dataframe tbody tr th {\n",
              "        vertical-align: top;\n",
              "    }\n",
              "\n",
              "    .dataframe thead th {\n",
              "        text-align: right;\n",
              "    }\n",
              "</style>\n",
              "<table border=\"1\" class=\"dataframe\">\n",
              "  <thead>\n",
              "    <tr style=\"text-align: right;\">\n",
              "      <th></th>\n",
              "      <th>Date</th>\n",
              "      <th>Rot</th>\n",
              "      <th>VH</th>\n",
              "      <th>Team</th>\n",
              "      <th>1st</th>\n",
              "      <th>2nd</th>\n",
              "      <th>3rd</th>\n",
              "      <th>4th</th>\n",
              "      <th>Final</th>\n",
              "      <th>Open</th>\n",
              "      <th>Close</th>\n",
              "      <th>ML</th>\n",
              "      <th>2H</th>\n",
              "    </tr>\n",
              "  </thead>\n",
              "  <tbody>\n",
              "    <tr>\n",
              "      <th>1328</th>\n",
              "      <td>117</td>\n",
              "      <td>541</td>\n",
              "      <td>V</td>\n",
              "      <td>NewYork</td>\n",
              "      <td>30</td>\n",
              "      <td>33</td>\n",
              "      <td>26</td>\n",
              "      <td>11</td>\n",
              "      <td>100</td>\n",
              "      <td>225</td>\n",
              "      <td>229</td>\n",
              "      <td>260</td>\n",
              "      <td>112.5</td>\n",
              "    </tr>\n",
              "    <tr>\n",
              "      <th>1329</th>\n",
              "      <td>117</td>\n",
              "      <td>542</td>\n",
              "      <td>H</td>\n",
              "      <td>Washington</td>\n",
              "      <td>20</td>\n",
              "      <td>33</td>\n",
              "      <td>24</td>\n",
              "      <td>24</td>\n",
              "      <td>101</td>\n",
              "      <td>7</td>\n",
              "      <td>7.5</td>\n",
              "      <td>-330</td>\n",
              "      <td>7.5</td>\n",
              "    </tr>\n",
              "  </tbody>\n",
              "</table>\n",
              "</div>"
            ],
            "text/plain": [
              "      Date  Rot VH        Team  1st  2nd  3rd  4th  Final Open Close   ML  \\\n",
              "1328   117  541  V     NewYork   30   33   26   11    100  225   229  260   \n",
              "1329   117  542  H  Washington   20   33   24   24    101    7   7.5 -330   \n",
              "\n",
              "         2H  \n",
              "1328  112.5  \n",
              "1329    7.5  "
            ]
          },
          "metadata": {
            "tags": []
          },
          "execution_count": 23
        }
      ]
    },
    {
      "cell_type": "code",
      "metadata": {
        "id": "kzd8C0wSB9Es",
        "colab_type": "code",
        "colab": {}
      },
      "source": [
        "## convert to datetime object\n",
        "odds2017['date'] = odds2017['Date'].apply(lambda x: convert_to_datetime(x, 2018))\n",
        "odds2018['date'] = odds2018['Date'].apply(lambda x: convert_to_datetime(x, 2019))\n",
        "oddsCurrent['date'] = oddsCurrent['Date'].apply(lambda x: convert_to_datetime(x, 2020))"
      ],
      "execution_count": 0,
      "outputs": []
    },
    {
      "cell_type": "code",
      "metadata": {
        "id": "925eQIDWwVQj",
        "colab_type": "code",
        "colab": {}
      },
      "source": [
        "## team name to team abbrev dict for mapping\n",
        "team_dict = {'Atlanta':'ATL', 'Boston':'BOS', 'Brooklyn':'BRK','Charlotte':'CHO','Chicago':'CHI','Cleveland':'CLE','Dallas':'DAL', 'Denver':'DEN','Detroit':'DET',\n",
        "             'GoldenState':'GSW', 'Houston':'HOU', 'Indiana':'IND','LAClippers':'LAC','LALakers':'LAL','Memphis':'MEM','Miami':'MIA','Milwaukee':'MIL','Minnesota':'MIN',\n",
        "             'NewOrleans':'NOP','NewYork':'NYK','OklahomaCity':'OKC','Orlando':'ORL','Philadelphia':'PHI','Phoenix':'PHO','Portland':'POR','Sacramento':'SAC',\n",
        "             'SanAntonio':'SAS','Toronto':'TOR','Utah':'UTA','Washington':'WAS'}\n",
        "## change team names to abbrevs\n",
        "odds2017['Team'] = odds2017['Team'].map(team_dict)\n",
        "odds2018['Team'] = odds2018['Team'].map(team_dict)\n",
        "oddsCurrent['Team'] = oddsCurrent['Team'].map(team_dict)"
      ],
      "execution_count": 0,
      "outputs": []
    },
    {
      "cell_type": "code",
      "metadata": {
        "id": "slVfFTsdKftq",
        "colab_type": "code",
        "colab": {}
      },
      "source": [
        "## seperate into home and away and drop playoff games\n",
        "homeOdds2017 = odds2017.loc[odds2017['VH']=='H'].reset_index(drop=True)[:1230]\n",
        "awayOdds2017 = odds2017.loc[odds2017['VH']=='V'].reset_index(drop=True)[:1230]\n",
        "\n",
        "homeOdds2018 = odds2018.loc[odds2018['VH']=='H'].reset_index(drop=True)[:1230]\n",
        "awayOdds2018 = odds2018.loc[odds2018['VH']=='V'].reset_index(drop=True)[:1230]\n",
        "\n",
        "homeOddsCurrent = oddsCurrent.loc[oddsCurrent['VH']=='H'].reset_index(drop=True)\n",
        "awayOddsCurrent = oddsCurrent.loc[oddsCurrent['VH']=='V'].reset_index(drop=True)"
      ],
      "execution_count": 0,
      "outputs": []
    },
    {
      "cell_type": "code",
      "metadata": {
        "id": "NNqNFF0dCeCT",
        "colab_type": "code",
        "colab": {}
      },
      "source": [
        ""
      ],
      "execution_count": 0,
      "outputs": []
    },
    {
      "cell_type": "code",
      "metadata": {
        "id": "XHNgaiS1M8nL",
        "colab_type": "code",
        "colab": {}
      },
      "source": [
        "# rename home columns\n",
        "homeOdds2017 = homeOdds2017.rename(columns={'Team': 'homeTeam', 'ML': 'homeOdds'})\n",
        "homeOdds2018 = homeOdds2018.rename(columns={'Team': 'homeTeam', 'ML': 'homeOdds'})\n",
        "homeOddsCurrent = homeOddsCurrent.rename(columns={'Team': 'homeTeam', 'ML': 'homeOdds'})\n",
        "\n",
        "# rename away columns\n",
        "awayOdds2017 = awayOdds2017.rename(columns={'Team': 'awayTeam', 'ML': 'awayOdds'})\n",
        "awayOdds2018 = awayOdds2018.rename(columns={'Team': 'awayTeam', 'ML': 'awayOdds'})\n",
        "awayOddsCurrent = awayOddsCurrent.rename(columns={'Team': 'awayTeam', 'ML': 'awayOdds'})"
      ],
      "execution_count": 0,
      "outputs": []
    },
    {
      "cell_type": "code",
      "metadata": {
        "id": "mkoTF7VM6YOf",
        "colab_type": "code",
        "colab": {}
      },
      "source": [
        "## create half of the combined df\n",
        "combinedOdds2017 = homeOdds2017[['date','homeTeam','homeOdds']]\n",
        "combinedOdds2018 = homeOdds2018[['date','homeTeam','homeOdds']]\n",
        "combinedOddsCurrent = homeOddsCurrent[['date','homeTeam','homeOdds']]"
      ],
      "execution_count": 0,
      "outputs": []
    },
    {
      "cell_type": "code",
      "metadata": {
        "id": "fJF0AAmYOpLK",
        "colab_type": "code",
        "outputId": "4cd9f93a-12a3-4342-a57b-ea8951d02334",
        "colab": {
          "base_uri": "https://localhost:8080/",
          "height": 649
        }
      },
      "source": [
        "## add in away columns\n",
        "combinedOdds2017['awayOdds'] = awayOdds2017['awayOdds']\n",
        "combinedOdds2017['awayTeam'] = awayOdds2017['awayTeam']\n",
        "\n",
        "combinedOdds2018['awayOdds'] = awayOdds2018['awayOdds']\n",
        "combinedOdds2018['awayTeam'] = awayOdds2018['awayTeam']\n",
        "\n",
        "combinedOddsCurrent['awayOdds'] = awayOddsCurrent['awayOdds']\n",
        "combinedOddsCurrent['awayTeam'] = awayOddsCurrent['awayTeam']"
      ],
      "execution_count": 0,
      "outputs": [
        {
          "output_type": "stream",
          "text": [
            "/usr/local/lib/python3.6/dist-packages/ipykernel_launcher.py:1: SettingWithCopyWarning: \n",
            "A value is trying to be set on a copy of a slice from a DataFrame.\n",
            "Try using .loc[row_indexer,col_indexer] = value instead\n",
            "\n",
            "See the caveats in the documentation: https://pandas.pydata.org/pandas-docs/stable/user_guide/indexing.html#returning-a-view-versus-a-copy\n",
            "  \"\"\"Entry point for launching an IPython kernel.\n",
            "/usr/local/lib/python3.6/dist-packages/ipykernel_launcher.py:2: SettingWithCopyWarning: \n",
            "A value is trying to be set on a copy of a slice from a DataFrame.\n",
            "Try using .loc[row_indexer,col_indexer] = value instead\n",
            "\n",
            "See the caveats in the documentation: https://pandas.pydata.org/pandas-docs/stable/user_guide/indexing.html#returning-a-view-versus-a-copy\n",
            "  \n",
            "/usr/local/lib/python3.6/dist-packages/ipykernel_launcher.py:4: SettingWithCopyWarning: \n",
            "A value is trying to be set on a copy of a slice from a DataFrame.\n",
            "Try using .loc[row_indexer,col_indexer] = value instead\n",
            "\n",
            "See the caveats in the documentation: https://pandas.pydata.org/pandas-docs/stable/user_guide/indexing.html#returning-a-view-versus-a-copy\n",
            "  after removing the cwd from sys.path.\n",
            "/usr/local/lib/python3.6/dist-packages/ipykernel_launcher.py:5: SettingWithCopyWarning: \n",
            "A value is trying to be set on a copy of a slice from a DataFrame.\n",
            "Try using .loc[row_indexer,col_indexer] = value instead\n",
            "\n",
            "See the caveats in the documentation: https://pandas.pydata.org/pandas-docs/stable/user_guide/indexing.html#returning-a-view-versus-a-copy\n",
            "  \"\"\"\n",
            "/usr/local/lib/python3.6/dist-packages/ipykernel_launcher.py:7: SettingWithCopyWarning: \n",
            "A value is trying to be set on a copy of a slice from a DataFrame.\n",
            "Try using .loc[row_indexer,col_indexer] = value instead\n",
            "\n",
            "See the caveats in the documentation: https://pandas.pydata.org/pandas-docs/stable/user_guide/indexing.html#returning-a-view-versus-a-copy\n",
            "  import sys\n",
            "/usr/local/lib/python3.6/dist-packages/ipykernel_launcher.py:8: SettingWithCopyWarning: \n",
            "A value is trying to be set on a copy of a slice from a DataFrame.\n",
            "Try using .loc[row_indexer,col_indexer] = value instead\n",
            "\n",
            "See the caveats in the documentation: https://pandas.pydata.org/pandas-docs/stable/user_guide/indexing.html#returning-a-view-versus-a-copy\n",
            "  \n"
          ],
          "name": "stderr"
        }
      ]
    },
    {
      "cell_type": "code",
      "metadata": {
        "id": "VzkoyLYDxbU4",
        "colab_type": "code",
        "colab": {}
      },
      "source": [
        "## sort odds df to line both dfs up\n",
        "sortedOdds2017 = combinedOdds2017.sort_values(by=['date','homeTeam']).reset_index(drop=True)\n",
        "\n",
        "sortedOdds2018 = combinedOdds2018.sort_values(by=['date','homeTeam']).reset_index(drop=True)\n",
        "\n",
        "sortedOddsCurrent = combinedOddsCurrent.sort_values(by=['date','homeTeam']).reset_index(drop=True)"
      ],
      "execution_count": 0,
      "outputs": []
    },
    {
      "cell_type": "code",
      "metadata": {
        "id": "7OyNBGQGyQEh",
        "colab_type": "code",
        "colab": {}
      },
      "source": [
        "## sort nba df\n",
        "sortedNba2017 = nba2017.sort_values(by=['date','homeTeam'])\n",
        "sortedNba2018 = nba2018.sort_values(by=['date','homeTeam'])\n",
        "sortedNbaCurrent = nbaCurrent.sort_values(by=['date','homeTeam'])"
      ],
      "execution_count": 0,
      "outputs": []
    },
    {
      "cell_type": "markdown",
      "metadata": {
        "id": "4KlwHes2MYtc",
        "colab_type": "text"
      },
      "source": [
        "Make sure the odds and nba have same shape"
      ]
    },
    {
      "cell_type": "code",
      "metadata": {
        "id": "s34rroBDL-R4",
        "colab_type": "code",
        "outputId": "1f9a5a97-78c0-4905-e1f6-a1b2f3aacd09",
        "colab": {
          "base_uri": "https://localhost:8080/",
          "height": 34
        }
      },
      "source": [
        "sortedNbaCurrent.shape"
      ],
      "execution_count": 0,
      "outputs": [
        {
          "output_type": "execute_result",
          "data": {
            "text/plain": [
              "(971, 86)"
            ]
          },
          "metadata": {
            "tags": []
          },
          "execution_count": 32
        }
      ]
    },
    {
      "cell_type": "code",
      "metadata": {
        "id": "hGrXH_s_P08b",
        "colab_type": "code",
        "outputId": "7b18c7cb-05c1-4797-dce6-59290c30910c",
        "colab": {
          "base_uri": "https://localhost:8080/",
          "height": 34
        }
      },
      "source": [
        "sortedOddsCurrent.shape"
      ],
      "execution_count": 0,
      "outputs": [
        {
          "output_type": "execute_result",
          "data": {
            "text/plain": [
              "(955, 5)"
            ]
          },
          "metadata": {
            "tags": []
          },
          "execution_count": 33
        }
      ]
    },
    {
      "cell_type": "code",
      "metadata": {
        "id": "Q0xXpvk8MImk",
        "colab_type": "code",
        "colab": {}
      },
      "source": [
        "sortedNbaCurrent = sortedNbaCurrent[:955]"
      ],
      "execution_count": 0,
      "outputs": []
    },
    {
      "cell_type": "code",
      "metadata": {
        "id": "Dw2_IjkWMV1e",
        "colab_type": "code",
        "outputId": "12ac86a4-c764-4096-9e83-fc5cc762def2",
        "colab": {
          "base_uri": "https://localhost:8080/",
          "height": 34
        }
      },
      "source": [
        "sortedNbaCurrent.shape"
      ],
      "execution_count": 0,
      "outputs": [
        {
          "output_type": "execute_result",
          "data": {
            "text/plain": [
              "(955, 86)"
            ]
          },
          "metadata": {
            "tags": []
          },
          "execution_count": 35
        }
      ]
    },
    {
      "cell_type": "code",
      "metadata": {
        "id": "9sGlEUgwF24f",
        "colab_type": "code",
        "outputId": "91d0782c-b901-4175-c3bb-d01f85f2e117",
        "colab": {
          "base_uri": "https://localhost:8080/",
          "height": 359
        }
      },
      "source": [
        "sortedOddsCurrent.tail(10)"
      ],
      "execution_count": 0,
      "outputs": [
        {
          "output_type": "execute_result",
          "data": {
            "text/html": [
              "<div>\n",
              "<style scoped>\n",
              "    .dataframe tbody tr th:only-of-type {\n",
              "        vertical-align: middle;\n",
              "    }\n",
              "\n",
              "    .dataframe tbody tr th {\n",
              "        vertical-align: top;\n",
              "    }\n",
              "\n",
              "    .dataframe thead th {\n",
              "        text-align: right;\n",
              "    }\n",
              "</style>\n",
              "<table border=\"1\" class=\"dataframe\">\n",
              "  <thead>\n",
              "    <tr style=\"text-align: right;\">\n",
              "      <th></th>\n",
              "      <th>date</th>\n",
              "      <th>homeTeam</th>\n",
              "      <th>homeOdds</th>\n",
              "      <th>awayOdds</th>\n",
              "      <th>awayTeam</th>\n",
              "    </tr>\n",
              "  </thead>\n",
              "  <tbody>\n",
              "    <tr>\n",
              "      <th>945</th>\n",
              "      <td>2020-03-08</td>\n",
              "      <td>BRK</td>\n",
              "      <td>-280</td>\n",
              "      <td>230</td>\n",
              "      <td>CHI</td>\n",
              "    </tr>\n",
              "    <tr>\n",
              "      <th>946</th>\n",
              "      <td>2020-03-08</td>\n",
              "      <td>CLE</td>\n",
              "      <td>160</td>\n",
              "      <td>-190</td>\n",
              "      <td>SAS</td>\n",
              "    </tr>\n",
              "    <tr>\n",
              "      <th>947</th>\n",
              "      <td>2020-03-08</td>\n",
              "      <td>DAL</td>\n",
              "      <td>-275</td>\n",
              "      <td>225</td>\n",
              "      <td>IND</td>\n",
              "    </tr>\n",
              "    <tr>\n",
              "      <th>948</th>\n",
              "      <td>2020-03-08</td>\n",
              "      <td>HOU</td>\n",
              "      <td>-400</td>\n",
              "      <td>300</td>\n",
              "      <td>ORL</td>\n",
              "    </tr>\n",
              "    <tr>\n",
              "      <th>949</th>\n",
              "      <td>2020-03-08</td>\n",
              "      <td>LAC</td>\n",
              "      <td>-150</td>\n",
              "      <td>130</td>\n",
              "      <td>LAL</td>\n",
              "    </tr>\n",
              "    <tr>\n",
              "      <th>950</th>\n",
              "      <td>2020-03-08</td>\n",
              "      <td>MIN</td>\n",
              "      <td>260</td>\n",
              "      <td>-330</td>\n",
              "      <td>NOP</td>\n",
              "    </tr>\n",
              "    <tr>\n",
              "      <th>951</th>\n",
              "      <td>2020-03-08</td>\n",
              "      <td>NYK</td>\n",
              "      <td>-230</td>\n",
              "      <td>185</td>\n",
              "      <td>DET</td>\n",
              "    </tr>\n",
              "    <tr>\n",
              "      <th>952</th>\n",
              "      <td>2020-03-08</td>\n",
              "      <td>PHO</td>\n",
              "      <td>225</td>\n",
              "      <td>-275</td>\n",
              "      <td>MIL</td>\n",
              "    </tr>\n",
              "    <tr>\n",
              "      <th>953</th>\n",
              "      <td>2020-03-08</td>\n",
              "      <td>SAC</td>\n",
              "      <td>170</td>\n",
              "      <td>-200</td>\n",
              "      <td>TOR</td>\n",
              "    </tr>\n",
              "    <tr>\n",
              "      <th>954</th>\n",
              "      <td>2020-03-08</td>\n",
              "      <td>WAS</td>\n",
              "      <td>190</td>\n",
              "      <td>-240</td>\n",
              "      <td>MIA</td>\n",
              "    </tr>\n",
              "  </tbody>\n",
              "</table>\n",
              "</div>"
            ],
            "text/plain": [
              "           date homeTeam  homeOdds  awayOdds awayTeam\n",
              "945  2020-03-08      BRK      -280       230      CHI\n",
              "946  2020-03-08      CLE       160      -190      SAS\n",
              "947  2020-03-08      DAL      -275       225      IND\n",
              "948  2020-03-08      HOU      -400       300      ORL\n",
              "949  2020-03-08      LAC      -150       130      LAL\n",
              "950  2020-03-08      MIN       260      -330      NOP\n",
              "951  2020-03-08      NYK      -230       185      DET\n",
              "952  2020-03-08      PHO       225      -275      MIL\n",
              "953  2020-03-08      SAC       170      -200      TOR\n",
              "954  2020-03-08      WAS       190      -240      MIA"
            ]
          },
          "metadata": {
            "tags": []
          },
          "execution_count": 36
        }
      ]
    },
    {
      "cell_type": "code",
      "metadata": {
        "id": "PfYgW1TdGvMO",
        "colab_type": "code",
        "outputId": "94e58a6a-7f6f-44f5-da7d-829484dcb756",
        "colab": {
          "base_uri": "https://localhost:8080/",
          "height": 359
        }
      },
      "source": [
        "sortedNbaCurrent[['date','homeTeam','awayTeam']].tail(10)"
      ],
      "execution_count": 0,
      "outputs": [
        {
          "output_type": "execute_result",
          "data": {
            "text/html": [
              "<div>\n",
              "<style scoped>\n",
              "    .dataframe tbody tr th:only-of-type {\n",
              "        vertical-align: middle;\n",
              "    }\n",
              "\n",
              "    .dataframe tbody tr th {\n",
              "        vertical-align: top;\n",
              "    }\n",
              "\n",
              "    .dataframe thead th {\n",
              "        text-align: right;\n",
              "    }\n",
              "</style>\n",
              "<table border=\"1\" class=\"dataframe\">\n",
              "  <thead>\n",
              "    <tr style=\"text-align: right;\">\n",
              "      <th></th>\n",
              "      <th>date</th>\n",
              "      <th>homeTeam</th>\n",
              "      <th>awayTeam</th>\n",
              "    </tr>\n",
              "  </thead>\n",
              "  <tbody>\n",
              "    <tr>\n",
              "      <th>945</th>\n",
              "      <td>2020-03-08</td>\n",
              "      <td>BRK</td>\n",
              "      <td>CHI</td>\n",
              "    </tr>\n",
              "    <tr>\n",
              "      <th>946</th>\n",
              "      <td>2020-03-08</td>\n",
              "      <td>CLE</td>\n",
              "      <td>SAS</td>\n",
              "    </tr>\n",
              "    <tr>\n",
              "      <th>947</th>\n",
              "      <td>2020-03-08</td>\n",
              "      <td>DAL</td>\n",
              "      <td>IND</td>\n",
              "    </tr>\n",
              "    <tr>\n",
              "      <th>948</th>\n",
              "      <td>2020-03-08</td>\n",
              "      <td>HOU</td>\n",
              "      <td>ORL</td>\n",
              "    </tr>\n",
              "    <tr>\n",
              "      <th>949</th>\n",
              "      <td>2020-03-08</td>\n",
              "      <td>LAC</td>\n",
              "      <td>LAL</td>\n",
              "    </tr>\n",
              "    <tr>\n",
              "      <th>950</th>\n",
              "      <td>2020-03-08</td>\n",
              "      <td>MIN</td>\n",
              "      <td>NOP</td>\n",
              "    </tr>\n",
              "    <tr>\n",
              "      <th>951</th>\n",
              "      <td>2020-03-08</td>\n",
              "      <td>NYK</td>\n",
              "      <td>DET</td>\n",
              "    </tr>\n",
              "    <tr>\n",
              "      <th>952</th>\n",
              "      <td>2020-03-08</td>\n",
              "      <td>PHO</td>\n",
              "      <td>MIL</td>\n",
              "    </tr>\n",
              "    <tr>\n",
              "      <th>953</th>\n",
              "      <td>2020-03-08</td>\n",
              "      <td>SAC</td>\n",
              "      <td>TOR</td>\n",
              "    </tr>\n",
              "    <tr>\n",
              "      <th>954</th>\n",
              "      <td>2020-03-08</td>\n",
              "      <td>WAS</td>\n",
              "      <td>MIA</td>\n",
              "    </tr>\n",
              "  </tbody>\n",
              "</table>\n",
              "</div>"
            ],
            "text/plain": [
              "           date homeTeam awayTeam\n",
              "945  2020-03-08      BRK      CHI\n",
              "946  2020-03-08      CLE      SAS\n",
              "947  2020-03-08      DAL      IND\n",
              "948  2020-03-08      HOU      ORL\n",
              "949  2020-03-08      LAC      LAL\n",
              "950  2020-03-08      MIN      NOP\n",
              "951  2020-03-08      NYK      DET\n",
              "952  2020-03-08      PHO      MIL\n",
              "953  2020-03-08      SAC      TOR\n",
              "954  2020-03-08      WAS      MIA"
            ]
          },
          "metadata": {
            "tags": []
          },
          "execution_count": 37
        }
      ]
    },
    {
      "cell_type": "markdown",
      "metadata": {
        "id": "lRvUeokhzSKW",
        "colab_type": "text"
      },
      "source": [
        "##### Now that the two dfs have the exact same shape and format, it's time to tack on the money line column."
      ]
    },
    {
      "cell_type": "code",
      "metadata": {
        "id": "GuIdUo_G1aX4",
        "colab_type": "code",
        "colab": {}
      },
      "source": [
        "## add home and away money line column\n",
        "sortedNba2017['homeOdds'] = sortedOdds2017['homeOdds']\n",
        "sortedNba2017['awayOdds'] = sortedOdds2017['awayOdds']\n",
        "\n",
        "sortedNba2018['homeOdds'] = sortedOdds2018['homeOdds']\n",
        "sortedNba2018['awayOdds'] = sortedOdds2018['awayOdds']\n",
        "\n",
        "sortedNbaCurrent['homeOdds'] = sortedOddsCurrent['homeOdds']\n",
        "sortedNbaCurrent['awayOdds'] = sortedOddsCurrent['awayOdds']"
      ],
      "execution_count": 0,
      "outputs": []
    },
    {
      "cell_type": "code",
      "metadata": {
        "id": "kTGohEdycXjO",
        "colab_type": "code",
        "outputId": "7aba7e19-15f6-4241-947d-1f1f19fe1b25",
        "colab": {
          "base_uri": "https://localhost:8080/",
          "height": 359
        }
      },
      "source": [
        "sortedNbaCurrent[['date','homeTeam','awayTeam','homeOdds','awayOdds']].tail(10)"
      ],
      "execution_count": 0,
      "outputs": [
        {
          "output_type": "execute_result",
          "data": {
            "text/html": [
              "<div>\n",
              "<style scoped>\n",
              "    .dataframe tbody tr th:only-of-type {\n",
              "        vertical-align: middle;\n",
              "    }\n",
              "\n",
              "    .dataframe tbody tr th {\n",
              "        vertical-align: top;\n",
              "    }\n",
              "\n",
              "    .dataframe thead th {\n",
              "        text-align: right;\n",
              "    }\n",
              "</style>\n",
              "<table border=\"1\" class=\"dataframe\">\n",
              "  <thead>\n",
              "    <tr style=\"text-align: right;\">\n",
              "      <th></th>\n",
              "      <th>date</th>\n",
              "      <th>homeTeam</th>\n",
              "      <th>awayTeam</th>\n",
              "      <th>homeOdds</th>\n",
              "      <th>awayOdds</th>\n",
              "    </tr>\n",
              "  </thead>\n",
              "  <tbody>\n",
              "    <tr>\n",
              "      <th>945</th>\n",
              "      <td>2020-03-08</td>\n",
              "      <td>BRK</td>\n",
              "      <td>CHI</td>\n",
              "      <td>-280</td>\n",
              "      <td>230</td>\n",
              "    </tr>\n",
              "    <tr>\n",
              "      <th>946</th>\n",
              "      <td>2020-03-08</td>\n",
              "      <td>CLE</td>\n",
              "      <td>SAS</td>\n",
              "      <td>160</td>\n",
              "      <td>-190</td>\n",
              "    </tr>\n",
              "    <tr>\n",
              "      <th>947</th>\n",
              "      <td>2020-03-08</td>\n",
              "      <td>DAL</td>\n",
              "      <td>IND</td>\n",
              "      <td>-275</td>\n",
              "      <td>225</td>\n",
              "    </tr>\n",
              "    <tr>\n",
              "      <th>948</th>\n",
              "      <td>2020-03-08</td>\n",
              "      <td>HOU</td>\n",
              "      <td>ORL</td>\n",
              "      <td>-400</td>\n",
              "      <td>300</td>\n",
              "    </tr>\n",
              "    <tr>\n",
              "      <th>949</th>\n",
              "      <td>2020-03-08</td>\n",
              "      <td>LAC</td>\n",
              "      <td>LAL</td>\n",
              "      <td>-150</td>\n",
              "      <td>130</td>\n",
              "    </tr>\n",
              "    <tr>\n",
              "      <th>950</th>\n",
              "      <td>2020-03-08</td>\n",
              "      <td>MIN</td>\n",
              "      <td>NOP</td>\n",
              "      <td>260</td>\n",
              "      <td>-330</td>\n",
              "    </tr>\n",
              "    <tr>\n",
              "      <th>951</th>\n",
              "      <td>2020-03-08</td>\n",
              "      <td>NYK</td>\n",
              "      <td>DET</td>\n",
              "      <td>-230</td>\n",
              "      <td>185</td>\n",
              "    </tr>\n",
              "    <tr>\n",
              "      <th>952</th>\n",
              "      <td>2020-03-08</td>\n",
              "      <td>PHO</td>\n",
              "      <td>MIL</td>\n",
              "      <td>225</td>\n",
              "      <td>-275</td>\n",
              "    </tr>\n",
              "    <tr>\n",
              "      <th>953</th>\n",
              "      <td>2020-03-08</td>\n",
              "      <td>SAC</td>\n",
              "      <td>TOR</td>\n",
              "      <td>170</td>\n",
              "      <td>-200</td>\n",
              "    </tr>\n",
              "    <tr>\n",
              "      <th>954</th>\n",
              "      <td>2020-03-08</td>\n",
              "      <td>WAS</td>\n",
              "      <td>MIA</td>\n",
              "      <td>190</td>\n",
              "      <td>-240</td>\n",
              "    </tr>\n",
              "  </tbody>\n",
              "</table>\n",
              "</div>"
            ],
            "text/plain": [
              "           date homeTeam awayTeam  homeOdds  awayOdds\n",
              "945  2020-03-08      BRK      CHI      -280       230\n",
              "946  2020-03-08      CLE      SAS       160      -190\n",
              "947  2020-03-08      DAL      IND      -275       225\n",
              "948  2020-03-08      HOU      ORL      -400       300\n",
              "949  2020-03-08      LAC      LAL      -150       130\n",
              "950  2020-03-08      MIN      NOP       260      -330\n",
              "951  2020-03-08      NYK      DET      -230       185\n",
              "952  2020-03-08      PHO      MIL       225      -275\n",
              "953  2020-03-08      SAC      TOR       170      -200\n",
              "954  2020-03-08      WAS      MIA       190      -240"
            ]
          },
          "metadata": {
            "tags": []
          },
          "execution_count": 39
        }
      ]
    },
    {
      "cell_type": "markdown",
      "metadata": {
        "id": "lZhfFgiu2r9F",
        "colab_type": "text"
      },
      "source": [
        "## Transform the Data\n",
        "Currently, each row represents a box score of a completed game. Since we obviously don't have access to that information when predicting, each statistical feature will become the rolling average of the previous X games. I kept the two seasons' dfs seperate so that performance from the previous season wasn't included. The first X games of each season are dropped since there isn't enough information.\n",
        "\n",
        "After testing 1-7 games, 3 has been performing the best. 2-4 all performed similarly but more than that was a clear drop in performance. \n",
        "\n",
        "Another note: the rolling average is from the previous X home or away games for that team. This accounts for teams' road vs away performance but could lose some performance where a team is playing their first home game after many road games and vice versa."
      ]
    },
    {
      "cell_type": "code",
      "metadata": {
        "id": "90zkHx8e2Bj-",
        "colab_type": "code",
        "outputId": "eeb7f264-8b1d-438a-dc84-c0b471a54e47",
        "colab": {
          "base_uri": "https://localhost:8080/",
          "height": 122
        }
      },
      "source": [
        "## apply our transformation\n",
        "avg2017 = avg_previous_num_games(sortedNba2017, 3)\n",
        "avg2018 = avg_previous_num_games(sortedNba2018, 3)\n",
        "nba_test = avg_previous_num_games(sortedNbaCurrent, 3)"
      ],
      "execution_count": 0,
      "outputs": [
        {
          "output_type": "stream",
          "text": [
            "/usr/local/lib/python3.6/dist-packages/pandas/core/indexing.py:671: SettingWithCopyWarning: \n",
            "A value is trying to be set on a copy of a slice from a DataFrame\n",
            "\n",
            "See the caveats in the documentation: https://pandas.pydata.org/pandas-docs/stable/user_guide/indexing.html#returning-a-view-versus-a-copy\n",
            "  self._setitem_with_indexer(indexer, value)\n"
          ],
          "name": "stderr"
        }
      ]
    },
    {
      "cell_type": "code",
      "metadata": {
        "id": "AcIrn5ExUnla",
        "colab_type": "code",
        "outputId": "b05842ca-a134-469a-f135-ace20dbe447a",
        "colab": {
          "base_uri": "https://localhost:8080/",
          "height": 34
        }
      },
      "source": [
        "nba_test.shape"
      ],
      "execution_count": 0,
      "outputs": [
        {
          "output_type": "execute_result",
          "data": {
            "text/plain": [
              "(853, 88)"
            ]
          },
          "metadata": {
            "tags": []
          },
          "execution_count": 41
        }
      ]
    },
    {
      "cell_type": "code",
      "metadata": {
        "id": "Z1UqIMK0hixu",
        "colab_type": "code",
        "colab": {}
      },
      "source": [
        "nba_test.reset_index(drop=True, inplace=True)"
      ],
      "execution_count": 0,
      "outputs": []
    },
    {
      "cell_type": "code",
      "metadata": {
        "id": "Uq6NbmEt5NeB",
        "colab_type": "code",
        "colab": {}
      },
      "source": [
        "## combine the two dfs\n",
        "nba_final = pd.concat([avg2017, avg2018])"
      ],
      "execution_count": 0,
      "outputs": []
    },
    {
      "cell_type": "code",
      "metadata": {
        "id": "aVA6IBWqacab",
        "colab_type": "code",
        "outputId": "7a01ba5f-95c9-4279-e520-7cffbd89fede",
        "colab": {
          "base_uri": "https://localhost:8080/",
          "height": 34
        }
      },
      "source": [
        "nba_final.shape"
      ],
      "execution_count": 0,
      "outputs": [
        {
          "output_type": "execute_result",
          "data": {
            "text/plain": [
              "(2251, 88)"
            ]
          },
          "metadata": {
            "tags": []
          },
          "execution_count": 44
        }
      ]
    },
    {
      "cell_type": "markdown",
      "metadata": {
        "id": "uV13YF2T7c3b",
        "colab_type": "text"
      },
      "source": [
        "## Initial DBA\n",
        "Let's poke around our data."
      ]
    },
    {
      "cell_type": "markdown",
      "metadata": {
        "id": "T4HqeVMI_j8_",
        "colab_type": "text"
      },
      "source": [
        "##### As seen below, the money line feature needs to be normalized, which we'll do to all our features to be safe."
      ]
    },
    {
      "cell_type": "code",
      "metadata": {
        "id": "Dn51Atd3_Vaj",
        "colab_type": "code",
        "outputId": "3081a54b-daf6-47f7-e0ec-c996b725ba53",
        "colab": {
          "base_uri": "https://localhost:8080/",
          "height": 296
        }
      },
      "source": [
        "## home money line distribution\n",
        "sns.distplot(nba_final['homeOdds'])"
      ],
      "execution_count": 0,
      "outputs": [
        {
          "output_type": "execute_result",
          "data": {
            "text/plain": [
              "<matplotlib.axes._subplots.AxesSubplot at 0x7fbffe2e6cc0>"
            ]
          },
          "metadata": {
            "tags": []
          },
          "execution_count": 45
        },
        {
          "output_type": "display_data",
          "data": {
            "image/png": "[encoded data removed]",
            "text/plain": [
              "<Figure size 432x288 with 1 Axes>"
            ]
          },
          "metadata": {
            "tags": []
          }
        }
      ]
    },
    {
      "cell_type": "code",
      "metadata": {
        "id": "JH-175LVSTYj",
        "colab_type": "code",
        "outputId": "481c1d88-9502-4485-d240-508bae3976c2",
        "colab": {
          "base_uri": "https://localhost:8080/",
          "height": 298
        }
      },
      "source": [
        "## away money line distribution\n",
        "sns.distplot(nba_final['awayOdds'])"
      ],
      "execution_count": 0,
      "outputs": [
        {
          "output_type": "execute_result",
          "data": {
            "text/plain": [
              "<matplotlib.axes._subplots.AxesSubplot at 0x7fbffe2e6d68>"
            ]
          },
          "metadata": {
            "tags": []
          },
          "execution_count": 46
        },
        {
          "output_type": "display_data",
          "data": {
            "image/png": "[encoded data removed]",
            "text/plain": [
              "<Figure size 432x288 with 1 Axes>"
            ]
          },
          "metadata": {
            "tags": []
          }
        }
      ]
    },
    {
      "cell_type": "code",
      "metadata": {
        "id": "auvUJ4ye_w_D",
        "colab_type": "code",
        "outputId": "2d3d19a8-fd8d-471a-eb5f-916727280f4e",
        "colab": {
          "base_uri": "https://localhost:8080/",
          "height": 297
        }
      },
      "source": [
        "## points distribution\n",
        "sns.distplot(nba_final['home_points'])"
      ],
      "execution_count": 0,
      "outputs": [
        {
          "output_type": "execute_result",
          "data": {
            "text/plain": [
              "<matplotlib.axes._subplots.AxesSubplot at 0x7fbffdd2fba8>"
            ]
          },
          "metadata": {
            "tags": []
          },
          "execution_count": 47
        },
        {
          "output_type": "display_data",
          "data": {
            "image/png": "[encoded data removed]",
            "text/plain": [
              "<Figure size 432x288 with 1 Axes>"
            ]
          },
          "metadata": {
            "tags": []
          }
        }
      ]
    },
    {
      "cell_type": "markdown",
      "metadata": {
        "id": "BfwXD0rL9Pzg",
        "colab_type": "text"
      },
      "source": [
        "##### Our correlations all seem logical with the away team win total and the home team loss total being the strongest negative correlation to a home win -- essentially representing which team has had more success so far that season."
      ]
    },
    {
      "cell_type": "code",
      "metadata": {
        "id": "tQVx5bzo6bM8",
        "colab_type": "code",
        "colab": {}
      },
      "source": [
        "## get correlations to win\n",
        "winCorr = nba_final.corr()['homeWin'].sort_values(ascending=False)"
      ],
      "execution_count": 0,
      "outputs": []
    },
    {
      "cell_type": "code",
      "metadata": {
        "id": "hiPoLjax6yBM",
        "colab_type": "code",
        "outputId": "5423ab73-0d54-4c16-c5d2-b82e055e4ad8",
        "colab": {
          "base_uri": "https://localhost:8080/",
          "height": 204
        }
      },
      "source": [
        "## top 10 correlations to home win\n",
        "winCorr.head(10)"
      ],
      "execution_count": 0,
      "outputs": [
        {
          "output_type": "execute_result",
          "data": {
            "text/plain": [
              "homeWin                                 1.000000\n",
              "awayOdds                                0.378527\n",
              "home_offensive_rating                   0.185224\n",
              "home_true_shooting_percentage           0.156541\n",
              "home_effective_field_goal_percentage    0.151229\n",
              "home_points                             0.147727\n",
              "away_losses                             0.142922\n",
              "home_total_rebound_percentage           0.136997\n",
              "home_wins                               0.131149\n",
              "away_defensive_rating                   0.096225\n",
              "Name: homeWin, dtype: float64"
            ]
          },
          "metadata": {
            "tags": []
          },
          "execution_count": 49
        }
      ]
    },
    {
      "cell_type": "code",
      "metadata": {
        "id": "zqov0n-p69AP",
        "colab_type": "code",
        "outputId": "afc0d4a1-619f-4736-e2ea-025fd33122be",
        "colab": {
          "base_uri": "https://localhost:8080/",
          "height": 204
        }
      },
      "source": [
        "## bottom 10 correlations to home win\n",
        "winCorr.tail(10)"
      ],
      "execution_count": 0,
      "outputs": [
        {
          "output_type": "execute_result",
          "data": {
            "text/plain": [
              "away_true_shooting_percentage   -0.084823\n",
              "away_points                     -0.087323\n",
              "away_offensive_rating           -0.088623\n",
              "home_defensive_rating           -0.097847\n",
              "home_blocks                     -0.120913\n",
              "home_total_rebounds             -0.124455\n",
              "home_defensive_rebounds         -0.127223\n",
              "away_wins                       -0.138545\n",
              "home_losses                     -0.203298\n",
              "homeOdds                        -0.300038\n",
              "Name: homeWin, dtype: float64"
            ]
          },
          "metadata": {
            "tags": []
          },
          "execution_count": 50
        }
      ]
    },
    {
      "cell_type": "code",
      "metadata": {
        "id": "qwqU9NOK7CpZ",
        "colab_type": "code",
        "outputId": "822c9f1a-710f-4bac-d705-43f02c9fb40b",
        "colab": {
          "base_uri": "https://localhost:8080/",
          "height": 806
        }
      },
      "source": [
        "# Correlation heatmap\n",
        "plt.subplots(figsize=(15,10))\n",
        "ax = plt.axes()\n",
        "corr = nba_final.corr()\n",
        "sns.heatmap(corr,cmap = \"Blues\")"
      ],
      "execution_count": 0,
      "outputs": [
        {
          "output_type": "execute_result",
          "data": {
            "text/plain": [
              "<matplotlib.axes._subplots.AxesSubplot at 0x7fbffdbf90f0>"
            ]
          },
          "metadata": {
            "tags": []
          },
          "execution_count": 51
        },
        {
          "output_type": "display_data",
          "data": {
            "image/png": "[encoded data removed]",
            "text/plain": [
              "<Figure size 1080x720 with 2 Axes>"
            ]
          },
          "metadata": {
            "tags": []
          }
        }
      ]
    },
    {
      "cell_type": "markdown",
      "metadata": {
        "id": "PFApfdVx-6xr",
        "colab_type": "text"
      },
      "source": [
        "##### We have high collinearity among some of our features, mostly in cases where there's a total and a percentage value for one statistic. If we we're going to build a regression model we'd need to address this, but for our classifier, it shouldn't impact predictive performance."
      ]
    },
    {
      "cell_type": "code",
      "metadata": {
        "id": "zfvazXaZ7vfl",
        "colab_type": "code",
        "outputId": "23bc8d88-12fa-4ae2-f02e-daba15c330d4",
        "colab": {
          "base_uri": "https://localhost:8080/",
          "height": 459
        }
      },
      "source": [
        "## list of the top 25 positive correlations\n",
        "top25_corr_pos = nba_final.corr().unstack().sort_values(ascending=False).drop_duplicates()\n",
        "top25_corr_pos.head(25)"
      ],
      "execution_count": 0,
      "outputs": [
        {
          "output_type": "execute_result",
          "data": {
            "text/plain": [
              "awayOdds                              awayOdds                                1.000000\n",
              "away_steals                           away_steal_percentage                   0.984256\n",
              "away_turnover_percentage              away_turnovers                          0.966290\n",
              "away_free_throw_attempts              away_free_throw_attempt_rate            0.965782\n",
              "home_true_shooting_percentage         home_effective_field_goal_percentage    0.964337\n",
              "away_true_shooting_percentage         away_effective_field_goal_percentage    0.962943\n",
              "away_three_point_field_goal_attempts  away_three_point_attempt_rate           0.955601\n",
              "away_blocks                           away_block_percentage                   0.941173\n",
              "home_free_throws                      home_free_throw_attempts                0.935080\n",
              "away_effective_field_goal_percentage  away_field_goal_percentage              0.935055\n",
              "away_free_throws                      away_free_throw_attempts                0.929422\n",
              "away_offensive_rebounds               away_offensive_rebound_percentage       0.921856\n",
              "away_free_throw_attempt_rate          away_free_throws                        0.905574\n",
              "away_true_shooting_percentage         away_field_goal_percentage              0.904959\n",
              "away_field_goals                      away_points                             0.848261\n",
              "home_offensive_rating                 home_true_shooting_percentage           0.846469\n",
              "away_offensive_rating                 away_points                             0.845379\n",
              "                                      away_true_shooting_percentage           0.843891\n",
              "home_points                           home_offensive_rating                   0.842823\n",
              "home_defensive_rebounds               home_total_rebounds                     0.840955\n",
              "away_total_rebounds                   away_defensive_rebounds                 0.836379\n",
              "away_assist_percentage                away_assists                            0.831216\n",
              "home_effective_field_goal_percentage  home_offensive_rating                   0.810967\n",
              "away_offensive_rating                 away_effective_field_goal_percentage    0.810077\n",
              "home_field_goal_percentage            home_two_point_field_goal_percentage    0.809115\n",
              "dtype: float64"
            ]
          },
          "metadata": {
            "tags": []
          },
          "execution_count": 52
        }
      ]
    },
    {
      "cell_type": "code",
      "metadata": {
        "id": "q9bj3Zli-JVQ",
        "colab_type": "code",
        "outputId": "5dcef7b5-36ef-41ed-9d4e-add02a885d91",
        "colab": {
          "base_uri": "https://localhost:8080/",
          "height": 459
        }
      },
      "source": [
        "## list of the top 25 negative correlations\n",
        "top25_corr_neg = nba_final.corr().unstack().sort_values().drop_duplicates()\n",
        "top25_corr_neg.head(25)"
      ],
      "execution_count": 0,
      "outputs": [
        {
          "output_type": "execute_result",
          "data": {
            "text/plain": [
              "home_defensive_rebound_percentage     home_offensive_rebounds                -0.910098\n",
              "away_three_point_attempt_rate         away_two_point_field_goal_attempts     -0.874806\n",
              "homeOdds                              awayOdds                               -0.870984\n",
              "away_three_point_field_goal_attempts  away_two_point_field_goal_attempts     -0.699835\n",
              "home_total_rebound_percentage         home_total_rebounds                    -0.687128\n",
              "home_true_shooting_percentage         home_defensive_rebounds                -0.635123\n",
              "away_three_point_attempt_rate         away_two_point_field_goals             -0.621524\n",
              "away_three_point_field_goals          away_two_point_field_goal_attempts     -0.612659\n",
              "home_defensive_rebounds               home_effective_field_goal_percentage   -0.603563\n",
              "                                      home_offensive_rating                  -0.588364\n",
              "home_two_point_field_goal_attempts    home_three_point_field_goal_attempts   -0.548963\n",
              "away_defensive_rebounds               away_defensive_rating                  -0.547944\n",
              "home_defensive_rebounds               home_total_rebound_percentage          -0.547006\n",
              "away_two_point_field_goals            away_three_point_field_goal_attempts   -0.490052\n",
              "home_total_rebounds                   home_true_shooting_percentage          -0.479735\n",
              "home_three_point_field_goals          home_two_point_field_goal_attempts     -0.468607\n",
              "away_field_goal_attempts              away_turnover_percentage               -0.462304\n",
              "home_effective_field_goal_percentage  home_total_rebounds                    -0.460501\n",
              "away_two_point_field_goals            away_three_point_field_goals           -0.455393\n",
              "home_total_rebounds                   home_offensive_rating                  -0.448442\n",
              "home_defensive_rebound_percentage     home_total_rebounds                    -0.447166\n",
              "home_offensive_rebound_percentage     home_defensive_rebounds                -0.433218\n",
              "away_total_rebounds                   away_defensive_rating                  -0.419978\n",
              "home_offensive_rebounds               home_total_rebound_percentage          -0.419507\n",
              "home_offensive_rebound_percentage     home_total_rebounds                    -0.380943\n",
              "dtype: float64"
            ]
          },
          "metadata": {
            "tags": []
          },
          "execution_count": 53
        }
      ]
    },
    {
      "cell_type": "markdown",
      "metadata": {
        "id": "Bmgk_6qWBzMZ",
        "colab_type": "text"
      },
      "source": [
        "## Feature Selection\n",
        "Here I'll scale our features and reduce dimensionality before moving on to creating models. We'll use the robust scalar from sklearn because it can deal with positive and negative numbers and is robust to outliers, both of which we'll need mostly for our money line feature."
      ]
    },
    {
      "cell_type": "code",
      "metadata": {
        "id": "D4WrKZhDB-6d",
        "colab_type": "code",
        "colab": {}
      },
      "source": [
        "## create list of features\n",
        "excluded_from_avg = ['home_wins', 'home_losses', 'away_wins','away_losses','awayOdds','homeOdds']\n",
        "features = away_cols + home_cols + excluded_from_avg"
      ],
      "execution_count": 0,
      "outputs": []
    },
    {
      "cell_type": "code",
      "metadata": {
        "id": "pKJoiqgM-nL3",
        "colab_type": "code",
        "colab": {}
      },
      "source": [
        "## declare features\n",
        "x = nba_final[features]\n",
        "## declare target variable\n",
        "y = nba_final['homeWin']"
      ],
      "execution_count": 0,
      "outputs": []
    },
    {
      "cell_type": "code",
      "metadata": {
        "id": "RsZVxgqbC40F",
        "colab_type": "code",
        "colab": {}
      },
      "source": [
        "## scale the features\n",
        "scaler = RobustScaler()\n",
        "x_scaled = scaler.fit_transform(x)"
      ],
      "execution_count": 0,
      "outputs": []
    },
    {
      "cell_type": "markdown",
      "metadata": {
        "id": "EtTmvT5XH30-",
        "colab_type": "text"
      },
      "source": [
        "According to our PCA below, ~35 features explain almost all of the variance. Let's keep 40 features to be safe."
      ]
    },
    {
      "cell_type": "code",
      "metadata": {
        "id": "WYLtZtSVHrKN",
        "colab_type": "code",
        "outputId": "4bfe4b1c-c74b-4d7c-cb6b-1b18409bf08a",
        "colab": {
          "base_uri": "https://localhost:8080/",
          "height": 295
        }
      },
      "source": [
        "#Fitting the PCA algorithm with our Data\n",
        "pca = PCA().fit(x_scaled)\n",
        "#Plotting the Cumulative Summation of the Explained Variance\n",
        "plt.figure()\n",
        "plt.plot(np.cumsum(pca.explained_variance_ratio_))\n",
        "plt.xlabel('Number of Components')\n",
        "plt.ylabel('Variance (%)') #for each component\n",
        "plt.title('Explained Variance')\n",
        "plt.show()"
      ],
      "execution_count": 0,
      "outputs": [
        {
          "output_type": "display_data",
          "data": {
            "image/png": "[encoded data removed]",
            "text/plain": [
              "<Figure size 432x288 with 1 Axes>"
            ]
          },
          "metadata": {
            "tags": []
          }
        }
      ]
    },
    {
      "cell_type": "code",
      "metadata": {
        "id": "HAyt7p8aHzxI",
        "colab_type": "code",
        "colab": {}
      },
      "source": [
        "## keep 30 components\n",
        "x_pca = PCA(40).fit_transform(x_scaled)"
      ],
      "execution_count": 0,
      "outputs": []
    },
    {
      "cell_type": "markdown",
      "metadata": {
        "id": "JuqTgXL8IBHe",
        "colab_type": "text"
      },
      "source": [
        "## Let's Build Some Models!\n",
        "We'll compare them using the f1 score from sklearn to describe their accuracy."
      ]
    },
    {
      "cell_type": "code",
      "metadata": {
        "id": "zfnng58hH_RX",
        "colab_type": "code",
        "colab": {}
      },
      "source": [
        "## create our model accuracy scorer\n",
        "scorer = make_scorer(f1_score, pos_label=None, average='weighted')"
      ],
      "execution_count": 0,
      "outputs": []
    },
    {
      "cell_type": "markdown",
      "metadata": {
        "id": "f16jN4SaIL5M",
        "colab_type": "text"
      },
      "source": [
        "#### Naive Bayes"
      ]
    },
    {
      "cell_type": "code",
      "metadata": {
        "id": "NhjSWvcCII3o",
        "colab_type": "code",
        "colab": {}
      },
      "source": [
        "# Our data is continuous, so we'll use the Gaussian Classifier \n",
        "from sklearn.naive_bayes import GaussianNB\n",
        "gnb = GaussianNB()"
      ],
      "execution_count": 0,
      "outputs": []
    },
    {
      "cell_type": "code",
      "metadata": {
        "id": "KCFhg_yfIOet",
        "colab_type": "code",
        "outputId": "28cf831c-3494-4196-950d-a02b54f6884c",
        "colab": {
          "base_uri": "https://localhost:8080/",
          "height": 34
        }
      },
      "source": [
        "## print score\n",
        "print('Average Gaussian NB F1: {}'.format((cross_val_score(gnb, x_pca, y, scoring=scorer)).mean()))"
      ],
      "execution_count": 0,
      "outputs": [
        {
          "output_type": "stream",
          "text": [
            "Average Gaussian NB F1: 0.6633240546526988\n"
          ],
          "name": "stdout"
        }
      ]
    },
    {
      "cell_type": "markdown",
      "metadata": {
        "id": "8ukNkLIXISob",
        "colab_type": "text"
      },
      "source": [
        "#### Decision Tree"
      ]
    },
    {
      "cell_type": "code",
      "metadata": {
        "id": "978xUZaqIQEV",
        "colab_type": "code",
        "colab": {}
      },
      "source": [
        "from sklearn import tree\n",
        "clf = tree.DecisionTreeClassifier()"
      ],
      "execution_count": 0,
      "outputs": []
    },
    {
      "cell_type": "code",
      "metadata": {
        "id": "i4kRyP9jIVME",
        "colab_type": "code",
        "outputId": "e75f909e-f092-4311-8b32-dbaf259df2a2",
        "colab": {
          "base_uri": "https://localhost:8080/",
          "height": 34
        }
      },
      "source": [
        "## print score\n",
        "print('Average Decision Tree F1: {}'.format((cross_val_score(clf, x_pca, y, scoring=scorer)).mean()))"
      ],
      "execution_count": 0,
      "outputs": [
        {
          "output_type": "stream",
          "text": [
            "Average Decision Tree F1: 0.5721211834791797\n"
          ],
          "name": "stdout"
        }
      ]
    },
    {
      "cell_type": "markdown",
      "metadata": {
        "id": "4AtRbSZwIauS",
        "colab_type": "text"
      },
      "source": [
        "#### Random Forest"
      ]
    },
    {
      "cell_type": "code",
      "metadata": {
        "id": "nPiMnIRZIWRC",
        "colab_type": "code",
        "colab": {}
      },
      "source": [
        "from sklearn import ensemble\n",
        "rfc = ensemble.RandomForestClassifier()"
      ],
      "execution_count": 0,
      "outputs": []
    },
    {
      "cell_type": "code",
      "metadata": {
        "id": "v5WuXOnNIcQe",
        "colab_type": "code",
        "outputId": "85b202b3-9d26-4d9e-f738-4bb49fd54e6a",
        "colab": {
          "base_uri": "https://localhost:8080/",
          "height": 34
        }
      },
      "source": [
        "## print score\n",
        "print('Average Random Forest F1 score: {}'.format((cross_val_score(rfc, x_pca, y, scoring=scorer)).mean()))"
      ],
      "execution_count": 0,
      "outputs": [
        {
          "output_type": "stream",
          "text": [
            "Average Random Forest F1 score: 0.6546978026367217\n"
          ],
          "name": "stdout"
        }
      ]
    },
    {
      "cell_type": "markdown",
      "metadata": {
        "id": "ssHQ-FaSIhJ0",
        "colab_type": "text"
      },
      "source": [
        "#### KNN"
      ]
    },
    {
      "cell_type": "code",
      "metadata": {
        "id": "fE61LpbcId9Q",
        "colab_type": "code",
        "colab": {}
      },
      "source": [
        "from sklearn.neighbors import KNeighborsClassifier\n",
        "neighbors = KNeighborsClassifier(n_neighbors=3)"
      ],
      "execution_count": 0,
      "outputs": []
    },
    {
      "cell_type": "code",
      "metadata": {
        "id": "ozRBDOG8IjYL",
        "colab_type": "code",
        "outputId": "08d6ee3c-4b51-4362-ec75-7a448d4f0541",
        "colab": {
          "base_uri": "https://localhost:8080/",
          "height": 34
        }
      },
      "source": [
        "## print score\n",
        "print('Average KNN F1 score: {}'.format((cross_val_score(neighbors, x_pca, y, scoring=scorer)).mean()))"
      ],
      "execution_count": 0,
      "outputs": [
        {
          "output_type": "stream",
          "text": [
            "Average KNN F1 score: 0.5889002938880449\n"
          ],
          "name": "stdout"
        }
      ]
    },
    {
      "cell_type": "markdown",
      "metadata": {
        "id": "Deb1pj7GIoXO",
        "colab_type": "text"
      },
      "source": [
        "#### Multi-layer Perceptron"
      ]
    },
    {
      "cell_type": "code",
      "metadata": {
        "id": "V_Op5p5RIklK",
        "colab_type": "code",
        "colab": {}
      },
      "source": [
        "from sklearn.neural_network import MLPClassifier"
      ],
      "execution_count": 0,
      "outputs": []
    },
    {
      "cell_type": "code",
      "metadata": {
        "id": "VYXXaTrWIqfB",
        "colab_type": "code",
        "colab": {}
      },
      "source": [
        "# Establish and fit the model, with a single, 100 perceptron layer.\n",
        "mlp100 = MLPClassifier(hidden_layer_sizes=(100,))\n",
        "mlp1000 = MLPClassifier(hidden_layer_sizes=(1000,))"
      ],
      "execution_count": 0,
      "outputs": []
    },
    {
      "cell_type": "code",
      "metadata": {
        "id": "EITaWUm1Ir1H",
        "colab_type": "code",
        "outputId": "0c585970-c13d-45e1-8d72-170c4d9efc5f",
        "colab": {
          "base_uri": "https://localhost:8080/",
          "height": 156
        }
      },
      "source": [
        "## print score\n",
        "print('Average MLP100 F1 score: {}'.format((cross_val_score(mlp100, x_pca, y, scoring=scorer)).mean()))"
      ],
      "execution_count": 0,
      "outputs": [
        {
          "output_type": "stream",
          "text": [
            "/usr/local/lib/python3.6/dist-packages/sklearn/neural_network/_multilayer_perceptron.py:571: ConvergenceWarning: Stochastic Optimizer: Maximum iterations (200) reached and the optimization hasn't converged yet.\n",
            "  % self.max_iter, ConvergenceWarning)\n",
            "/usr/local/lib/python3.6/dist-packages/sklearn/neural_network/_multilayer_perceptron.py:571: ConvergenceWarning: Stochastic Optimizer: Maximum iterations (200) reached and the optimization hasn't converged yet.\n",
            "  % self.max_iter, ConvergenceWarning)\n",
            "/usr/local/lib/python3.6/dist-packages/sklearn/neural_network/_multilayer_perceptron.py:571: ConvergenceWarning: Stochastic Optimizer: Maximum iterations (200) reached and the optimization hasn't converged yet.\n",
            "  % self.max_iter, ConvergenceWarning)\n"
          ],
          "name": "stderr"
        },
        {
          "output_type": "stream",
          "text": [
            "Average MLP100 F1 score: 0.6484370496364456\n"
          ],
          "name": "stdout"
        }
      ]
    },
    {
      "cell_type": "code",
      "metadata": {
        "id": "fsoOTuOD8BaV",
        "colab_type": "code",
        "outputId": "8c698ffc-fd93-4ab8-c56a-f1e57215a7e8",
        "colab": {
          "base_uri": "https://localhost:8080/",
          "height": 88
        }
      },
      "source": [
        "## print score\n",
        "print('Average MLP1000 F1 score: {}'.format((cross_val_score(mlp1000, x_pca, y, scoring=scorer)).mean()))"
      ],
      "execution_count": 0,
      "outputs": [
        {
          "output_type": "stream",
          "text": [
            "/usr/local/lib/python3.6/dist-packages/sklearn/neural_network/_multilayer_perceptron.py:571: ConvergenceWarning: Stochastic Optimizer: Maximum iterations (200) reached and the optimization hasn't converged yet.\n",
            "  % self.max_iter, ConvergenceWarning)\n"
          ],
          "name": "stderr"
        },
        {
          "output_type": "stream",
          "text": [
            "Average MLP1000 F1 score: 0.6381215500538073\n"
          ],
          "name": "stdout"
        }
      ]
    },
    {
      "cell_type": "markdown",
      "metadata": {
        "id": "1ph2y9_MI1LQ",
        "colab_type": "text"
      },
      "source": [
        "## Keras / TensorFlow Neural Network"
      ]
    },
    {
      "cell_type": "code",
      "metadata": {
        "id": "YEfxZQqwItRt",
        "colab_type": "code",
        "colab": {}
      },
      "source": [
        "# import tensorflow as tf\n",
        "# from keras.models import Sequential\n",
        "# from keras.layers import Dense, Dropout, Flatten, Conv2D, MaxPooling2D\n",
        "# from keras.layers import LSTM, Input, TimeDistributed\n",
        "# from keras.models import Model\n",
        "# from keras.optimizers import RMSprop\n",
        "# from keras import backend as K"
      ],
      "execution_count": 0,
      "outputs": []
    },
    {
      "cell_type": "code",
      "metadata": {
        "id": "tHImuPE9I26m",
        "colab_type": "code",
        "colab": {}
      },
      "source": [
        "# ## split data into train and test sets\n",
        "# X_train, X_test, y_train, y_test = train_test_split(x_pca, y, test_size=0.3, random_state=42)"
      ],
      "execution_count": 0,
      "outputs": []
    },
    {
      "cell_type": "code",
      "metadata": {
        "id": "WNQHzIqWI8Gz",
        "colab_type": "code",
        "colab": {}
      },
      "source": [
        "# # Start with a simple sequential model\n",
        "# model = Sequential()\n",
        "\n",
        "# # Add dense layers to create a fully connected MLP\n",
        "# # Note that we specify an input shape for the first layer, but only the first layer.\n",
        "# # Relu is the activation function used\n",
        "# model.add(Dense(64, activation='relu', input_shape=(40,)))\n",
        "# # Dropout layers remove features and fight overfitting\n",
        "# model.add(Dropout(0.1))\n",
        "# model.add(Dense(64, activation='relu'))\n",
        "# model.add(Dropout(0.1))\n",
        "# # End with a number of units equal to the number of classes we have for our outcome\n",
        "# model.add(Dense(1, activation='softmax'))\n",
        "\n",
        "# model.summary()\n",
        "\n",
        "# # Compile the model to put it all together.\n",
        "# model.compile(loss='binary_crossentropy',\n",
        "#               optimizer=RMSprop(),\n",
        "#               metrics=['accuracy'])"
      ],
      "execution_count": 0,
      "outputs": []
    },
    {
      "cell_type": "code",
      "metadata": {
        "id": "RRFjXpJOI9cB",
        "colab_type": "code",
        "colab": {}
      },
      "source": [
        "# history = model.fit(X_train, y_train,\n",
        "#                     batch_size=128,\n",
        "#                     epochs=10,\n",
        "#                     verbose=1,\n",
        "#                     validation_data=(X_test, y_test))\n",
        "# score = model.evaluate(X_test, y_test, verbose=0)\n",
        "# print('Test loss:', score[0])\n",
        "# print('Test accuracy:', score[1])"
      ],
      "execution_count": 0,
      "outputs": []
    },
    {
      "cell_type": "markdown",
      "metadata": {
        "id": "zodicQOw9_lS",
        "colab_type": "text"
      },
      "source": [
        "# Model Performance\n",
        "The Naive Bayes model was the most accurate at 65%, with random forest and the MLP neural network just under that. Moving forward I'll continue to tinker these three models to try to boost performance, but we're at an acceptable level of prediction power to begin the real test, which is to apply our predictions to the current NBA season, and calculate how much money our model would (hopefully) win with an equal bet on each game.\n",
        "\n",
        "I think the simple Naive Bayes model is performing better than others because of our limited sample size. I believe this is the same reason why the TensorFlow NN is underperforming. Unfortunately, even adding more seasons to our training data wouldn't improve performance, because the NBA game has been changing so rapidly in style of play, that these data available from three seasons ago and beyond lose relevance to predicting the winner."
      ]
    },
    {
      "cell_type": "markdown",
      "metadata": {
        "id": "j1vb6oa1JT8O",
        "colab_type": "text"
      },
      "source": [
        "# Real World Application\n",
        "Now that we have our prediction model, let's implement it to see how much hypothetical money we make! For simplicity, we'll assume we bet $100 on each prediction. This is calculated as follows:\n",
        "\n",
        "Underdog Bet (positive odds):\n",
        " - Potential Payout = Wager Amount x (Odds/100) + Wager Amount.\n",
        "\n",
        "Favorite Bet (negative odds):\n",
        " - Potential Payout = Wager Amount / (absolute value(Odds)/100) + Wager Amount\n",
        "\n",
        "However, our cumulative total will only calculate profit."
      ]
    },
    {
      "cell_type": "code",
      "metadata": {
        "id": "Zp9ofJnXOimP",
        "colab_type": "code",
        "colab": {}
      },
      "source": [
        "# declare features, scale and pca\n",
        "x_test = nba_test[features]\n",
        "x_test_scaled = scaler.fit_transform(x_test)\n",
        "x_test_scaled_pca = PCA(40).fit_transform(x_test_scaled)"
      ],
      "execution_count": 0,
      "outputs": []
    },
    {
      "cell_type": "code",
      "metadata": {
        "id": "eMrLwAtzCN4u",
        "colab_type": "code",
        "outputId": "be88baea-f7a9-4b72-9390-6786fa8135f8",
        "colab": {
          "base_uri": "https://localhost:8080/",
          "height": 139
        }
      },
      "source": [
        "# fit to training data and predict for current season\n",
        "nba_test['predictions'] = gnb.fit(x_pca, y).predict(x_test_scaled_pca)"
      ],
      "execution_count": 0,
      "outputs": [
        {
          "output_type": "stream",
          "text": [
            "/usr/local/lib/python3.6/dist-packages/ipykernel_launcher.py:1: SettingWithCopyWarning: \n",
            "A value is trying to be set on a copy of a slice from a DataFrame.\n",
            "Try using .loc[row_indexer,col_indexer] = value instead\n",
            "\n",
            "See the caveats in the documentation: https://pandas.pydata.org/pandas-docs/stable/user_guide/indexing.html#returning-a-view-versus-a-copy\n",
            "  \"\"\"Entry point for launching an IPython kernel.\n"
          ],
          "name": "stderr"
        }
      ]
    },
    {
      "cell_type": "markdown",
      "metadata": {
        "id": "NyN9_yqWxDb3",
        "colab_type": "text"
      },
      "source": [
        "Here our model correctly picked 56% of games from the current 2019-20 season. Next we'll calculate money made."
      ]
    },
    {
      "cell_type": "code",
      "metadata": {
        "id": "YTiBb0KNIIVO",
        "colab_type": "code",
        "outputId": "8afb315c-55ba-4b43-b5c5-77dac0af3672",
        "colab": {
          "base_uri": "https://localhost:8080/",
          "height": 34
        }
      },
      "source": [
        "## correct pct picks\n",
        "len(nba_test[nba_test['predictions']==nba_test['homeWin']])/len(nba_test)"
      ],
      "execution_count": 0,
      "outputs": [
        {
          "output_type": "execute_result",
          "data": {
            "text/plain": [
              "0.6131301289566237"
            ]
          },
          "metadata": {
            "tags": []
          },
          "execution_count": 78
        }
      ]
    },
    {
      "cell_type": "code",
      "metadata": {
        "id": "DEUmiN0-PKJV",
        "colab_type": "code",
        "outputId": "57156180-9205-4391-cf1f-5946f591c826",
        "colab": {
          "base_uri": "https://localhost:8080/",
          "height": 139
        }
      },
      "source": [
        "## create an empty money won column\n",
        "nba_test['moneyWon'] = 0"
      ],
      "execution_count": 0,
      "outputs": [
        {
          "output_type": "stream",
          "text": [
            "/usr/local/lib/python3.6/dist-packages/ipykernel_launcher.py:1: SettingWithCopyWarning: \n",
            "A value is trying to be set on a copy of a slice from a DataFrame.\n",
            "Try using .loc[row_indexer,col_indexer] = value instead\n",
            "\n",
            "See the caveats in the documentation: https://pandas.pydata.org/pandas-docs/stable/user_guide/indexing.html#returning-a-view-versus-a-copy\n",
            "  \"\"\"Entry point for launching an IPython kernel.\n"
          ],
          "name": "stderr"
        }
      ]
    },
    {
      "cell_type": "code",
      "metadata": {
        "id": "ks-hhoK8Vj4_",
        "colab_type": "code",
        "colab": {}
      },
      "source": [
        "## calculate money won\n",
        "for i in nba_test.index:\n",
        "  ## check for correct pick\n",
        "  if nba_test['predictions'].iloc[i] == nba_test['homeWin'].iloc[i]:\n",
        "    ## correct home win\n",
        "    if nba_test['homeWin'].iloc[i] == True:\n",
        "      ## home is favored\n",
        "      if nba_test['homeOdds'].iloc[i] < 0:\n",
        "        nba_test.at[i, 'moneyWon'] = (100 / ((abs(nba_test['homeOdds'].iloc[i]))/100))\n",
        "      ## home is underdog\n",
        "      elif nba_test['homeOdds'].iloc[i] > 0:\n",
        "        nba_test.at[i, 'moneyWon'] = (100 * ((nba_test['homeOdds'].iloc[i])/100))\n",
        "      ## even odds\n",
        "      elif nba_test['homeOdds'].iloc[i] == 0:\n",
        "        nba_test.at[i, 'moneyWon'] = 100\n",
        "    ## correct away win\n",
        "    if nba_test['homeWin'].iloc[i] == False:\n",
        "      ## away is favored\n",
        "      if nba_test['awayOdds'].iloc[i] < 0:\n",
        "        nba_test.at[i, 'moneyWon'] = (100 / ((abs(nba_test['awayOdds'].iloc[i]))/100))\n",
        "      ## away is underdog\n",
        "      elif nba_test['awayOdds'].iloc[i] > 0:\n",
        "        nba_test.at[i, 'moneyWon'] = (100 * ((nba_test['awayOdds'].iloc[i])/100))\n",
        "      ## even odds\n",
        "      elif nba_test['awayOdds'].iloc[i] == 0:\n",
        "        nba_test.at[i, 'moneyWon'] = 100\n",
        "  ## incorrect pick\n",
        "  elif nba_test['predictions'].iloc[i] != nba_test['homeWin'].iloc[i]:\n",
        "    nba_test.at[i, 'moneyWon'] = -100"
      ],
      "execution_count": 0,
      "outputs": []
    },
    {
      "cell_type": "code",
      "metadata": {
        "id": "u_7SqViVrp6r",
        "colab_type": "code",
        "outputId": "6a9a2c7e-1f36-4c86-93b4-48463669a305",
        "colab": {
          "base_uri": "https://localhost:8080/",
          "height": 139
        }
      },
      "source": [
        "## create cumulative money won column\n",
        "nba_test['cumTotalWon']  = nba_test['moneyWon'].cumsum()"
      ],
      "execution_count": 0,
      "outputs": [
        {
          "output_type": "stream",
          "text": [
            "/usr/local/lib/python3.6/dist-packages/ipykernel_launcher.py:1: SettingWithCopyWarning: \n",
            "A value is trying to be set on a copy of a slice from a DataFrame.\n",
            "Try using .loc[row_indexer,col_indexer] = value instead\n",
            "\n",
            "See the caveats in the documentation: https://pandas.pydata.org/pandas-docs/stable/user_guide/indexing.html#returning-a-view-versus-a-copy\n",
            "  \"\"\"Entry point for launching an IPython kernel.\n"
          ],
          "name": "stderr"
        }
      ]
    },
    {
      "cell_type": "code",
      "metadata": {
        "id": "8iYaoGWnokv6",
        "colab_type": "code",
        "outputId": "d9e3b7c8-ef0f-43c7-ca83-4f160acac966",
        "colab": {
          "base_uri": "https://localhost:8080/",
          "height": 359
        }
      },
      "source": [
        "# check work\n",
        "nba_test[['predictions','homeWin','homeOdds','awayOdds','moneyWon','cumTotalWon']].head(10)"
      ],
      "execution_count": 0,
      "outputs": [
        {
          "output_type": "execute_result",
          "data": {
            "text/html": [
              "<div>\n",
              "<style scoped>\n",
              "    .dataframe tbody tr th:only-of-type {\n",
              "        vertical-align: middle;\n",
              "    }\n",
              "\n",
              "    .dataframe tbody tr th {\n",
              "        vertical-align: top;\n",
              "    }\n",
              "\n",
              "    .dataframe thead th {\n",
              "        text-align: right;\n",
              "    }\n",
              "</style>\n",
              "<table border=\"1\" class=\"dataframe\">\n",
              "  <thead>\n",
              "    <tr style=\"text-align: right;\">\n",
              "      <th></th>\n",
              "      <th>predictions</th>\n",
              "      <th>homeWin</th>\n",
              "      <th>homeOdds</th>\n",
              "      <th>awayOdds</th>\n",
              "      <th>moneyWon</th>\n",
              "      <th>cumTotalWon</th>\n",
              "    </tr>\n",
              "  </thead>\n",
              "  <tbody>\n",
              "    <tr>\n",
              "      <th>0</th>\n",
              "      <td>False</td>\n",
              "      <td>False</td>\n",
              "      <td>205</td>\n",
              "      <td>-255</td>\n",
              "      <td>39</td>\n",
              "      <td>39</td>\n",
              "    </tr>\n",
              "    <tr>\n",
              "      <th>1</th>\n",
              "      <td>False</td>\n",
              "      <td>False</td>\n",
              "      <td>150</td>\n",
              "      <td>-180</td>\n",
              "      <td>55</td>\n",
              "      <td>94</td>\n",
              "    </tr>\n",
              "    <tr>\n",
              "      <th>2</th>\n",
              "      <td>True</td>\n",
              "      <td>True</td>\n",
              "      <td>-200</td>\n",
              "      <td>170</td>\n",
              "      <td>50</td>\n",
              "      <td>144</td>\n",
              "    </tr>\n",
              "    <tr>\n",
              "      <th>3</th>\n",
              "      <td>True</td>\n",
              "      <td>True</td>\n",
              "      <td>-170</td>\n",
              "      <td>145</td>\n",
              "      <td>58</td>\n",
              "      <td>202</td>\n",
              "    </tr>\n",
              "    <tr>\n",
              "      <th>4</th>\n",
              "      <td>False</td>\n",
              "      <td>True</td>\n",
              "      <td>600</td>\n",
              "      <td>-900</td>\n",
              "      <td>-100</td>\n",
              "      <td>102</td>\n",
              "    </tr>\n",
              "    <tr>\n",
              "      <th>5</th>\n",
              "      <td>False</td>\n",
              "      <td>False</td>\n",
              "      <td>190</td>\n",
              "      <td>-240</td>\n",
              "      <td>41</td>\n",
              "      <td>143</td>\n",
              "    </tr>\n",
              "    <tr>\n",
              "      <th>6</th>\n",
              "      <td>True</td>\n",
              "      <td>True</td>\n",
              "      <td>-110</td>\n",
              "      <td>-110</td>\n",
              "      <td>90</td>\n",
              "      <td>233</td>\n",
              "    </tr>\n",
              "    <tr>\n",
              "      <th>7</th>\n",
              "      <td>True</td>\n",
              "      <td>False</td>\n",
              "      <td>-110</td>\n",
              "      <td>-110</td>\n",
              "      <td>-100</td>\n",
              "      <td>133</td>\n",
              "    </tr>\n",
              "    <tr>\n",
              "      <th>8</th>\n",
              "      <td>True</td>\n",
              "      <td>True</td>\n",
              "      <td>-310</td>\n",
              "      <td>250</td>\n",
              "      <td>32</td>\n",
              "      <td>165</td>\n",
              "    </tr>\n",
              "    <tr>\n",
              "      <th>9</th>\n",
              "      <td>True</td>\n",
              "      <td>True</td>\n",
              "      <td>-165</td>\n",
              "      <td>142</td>\n",
              "      <td>60</td>\n",
              "      <td>225</td>\n",
              "    </tr>\n",
              "  </tbody>\n",
              "</table>\n",
              "</div>"
            ],
            "text/plain": [
              "   predictions  homeWin  homeOdds  awayOdds  moneyWon  cumTotalWon\n",
              "0        False    False       205      -255        39           39\n",
              "1        False    False       150      -180        55           94\n",
              "2         True     True      -200       170        50          144\n",
              "3         True     True      -170       145        58          202\n",
              "4        False     True       600      -900      -100          102\n",
              "5        False    False       190      -240        41          143\n",
              "6         True     True      -110      -110        90          233\n",
              "7         True    False      -110      -110      -100          133\n",
              "8         True     True      -310       250        32          165\n",
              "9         True     True      -165       142        60          225"
            ]
          },
          "metadata": {
            "tags": []
          },
          "execution_count": 82
        }
      ]
    },
    {
      "cell_type": "markdown",
      "metadata": {
        "id": "1epew79D0WS1",
        "colab_type": "text"
      },
      "source": [
        "# Final Results!\n",
        "We made almost \\$1,500 with a $100 bet on every game! This is better than expected and is very exciting. It lost just over \\$1,400 initially before it came back."
      ]
    },
    {
      "cell_type": "code",
      "metadata": {
        "id": "XXeks3C9sjxx",
        "colab_type": "code",
        "outputId": "8e2d9dfa-b792-42dd-e332-c8cf2bcac95b",
        "colab": {
          "base_uri": "https://localhost:8080/",
          "height": 278
        }
      },
      "source": [
        "## plot the cumulative money won over time\n",
        "fig, ax = plt.subplots()\n",
        "plt.plot(nba_test['date'], nba_test['cumTotalWon'])\n",
        "plt.title('Cumulative Earnings with $100 bets')\n",
        "plt.ylabel('Dollars Earned')\n",
        "plt.xlabel('Time')\n",
        "ax.tick_params(labelbottom=False)"
      ],
      "execution_count": 0,
      "outputs": [
        {
          "output_type": "display_data",
          "data": {
            "image/png": "[encoded data removed]",
            "text/plain": [
              "<Figure size 432x288 with 1 Axes>"
            ]
          },
          "metadata": {
            "tags": []
          }
        }
      ]
    },
    {
      "cell_type": "code",
      "metadata": {
        "id": "X4UHaEvfMcaY",
        "colab_type": "code",
        "outputId": "09ebf060-0b4c-43be-d464-b2e492a746e7",
        "colab": {
          "base_uri": "https://localhost:8080/",
          "height": 68
        }
      },
      "source": [
        "print(\"The model's low point is {} dollars.\".format(nba_test['cumTotalWon'].min()))\n",
        "print(\"The model's high point is {} dollars.\".format(nba_test['cumTotalWon'].max()))\n",
        "print(\"The model has profited {} dollars this season.\".format(nba_test['cumTotalWon'].iloc[-1]))"
      ],
      "execution_count": 0,
      "outputs": [
        {
          "output_type": "stream",
          "text": [
            "The model's low point is -1479 dollars.\n",
            "The model's high point is 1776 dollars.\n",
            "The model has profited 1412 dollars this season.\n"
          ],
          "name": "stdout"
        }
      ]
    },
    {
      "cell_type": "markdown",
      "metadata": {
        "id": "mfoGMn4X2CEQ",
        "colab_type": "text"
      },
      "source": [
        "Below are a few predicted huge upsets! "
      ]
    },
    {
      "cell_type": "code",
      "metadata": {
        "id": "3_sZq3RzybMS",
        "colab_type": "code",
        "outputId": "080b81f8-a1c9-4bc2-c313-613886b556a3",
        "colab": {
          "base_uri": "https://localhost:8080/",
          "height": 204
        }
      },
      "source": [
        "## top 5 wins\n",
        "nba_test[['date','homeTeam','awayTeam','predictions','homeWin','homeOdds','awayOdds','moneyWon']].loc[nba_test['moneyWon'] > 100].sort_values(by='moneyWon',ascending=False).head()"
      ],
      "execution_count": 0,
      "outputs": [
        {
          "output_type": "execute_result",
          "data": {
            "text/html": [
              "<div>\n",
              "<style scoped>\n",
              "    .dataframe tbody tr th:only-of-type {\n",
              "        vertical-align: middle;\n",
              "    }\n",
              "\n",
              "    .dataframe tbody tr th {\n",
              "        vertical-align: top;\n",
              "    }\n",
              "\n",
              "    .dataframe thead th {\n",
              "        text-align: right;\n",
              "    }\n",
              "</style>\n",
              "<table border=\"1\" class=\"dataframe\">\n",
              "  <thead>\n",
              "    <tr style=\"text-align: right;\">\n",
              "      <th></th>\n",
              "      <th>date</th>\n",
              "      <th>homeTeam</th>\n",
              "      <th>awayTeam</th>\n",
              "      <th>predictions</th>\n",
              "      <th>homeWin</th>\n",
              "      <th>homeOdds</th>\n",
              "      <th>awayOdds</th>\n",
              "      <th>moneyWon</th>\n",
              "    </tr>\n",
              "  </thead>\n",
              "  <tbody>\n",
              "    <tr>\n",
              "      <th>185</th>\n",
              "      <td>2019-12-01</td>\n",
              "      <td>MIN</td>\n",
              "      <td>MEM</td>\n",
              "      <td>False</td>\n",
              "      <td>False</td>\n",
              "      <td>-1000</td>\n",
              "      <td>650</td>\n",
              "      <td>650</td>\n",
              "    </tr>\n",
              "    <tr>\n",
              "      <th>267</th>\n",
              "      <td>2019-12-12</td>\n",
              "      <td>SAS</td>\n",
              "      <td>CLE</td>\n",
              "      <td>False</td>\n",
              "      <td>False</td>\n",
              "      <td>-900</td>\n",
              "      <td>600</td>\n",
              "      <td>600</td>\n",
              "    </tr>\n",
              "    <tr>\n",
              "      <th>393</th>\n",
              "      <td>2019-12-30</td>\n",
              "      <td>WAS</td>\n",
              "      <td>MIA</td>\n",
              "      <td>True</td>\n",
              "      <td>True</td>\n",
              "      <td>525</td>\n",
              "      <td>-750</td>\n",
              "      <td>525</td>\n",
              "    </tr>\n",
              "    <tr>\n",
              "      <th>426</th>\n",
              "      <td>2020-01-04</td>\n",
              "      <td>LAC</td>\n",
              "      <td>MEM</td>\n",
              "      <td>False</td>\n",
              "      <td>False</td>\n",
              "      <td>-650</td>\n",
              "      <td>450</td>\n",
              "      <td>450</td>\n",
              "    </tr>\n",
              "    <tr>\n",
              "      <th>802</th>\n",
              "      <td>2020-03-02</td>\n",
              "      <td>NYK</td>\n",
              "      <td>HOU</td>\n",
              "      <td>True</td>\n",
              "      <td>True</td>\n",
              "      <td>425</td>\n",
              "      <td>-600</td>\n",
              "      <td>425</td>\n",
              "    </tr>\n",
              "  </tbody>\n",
              "</table>\n",
              "</div>"
            ],
            "text/plain": [
              "           date homeTeam awayTeam  predictions  homeWin  homeOdds  awayOdds  \\\n",
              "185  2019-12-01      MIN      MEM        False    False     -1000       650   \n",
              "267  2019-12-12      SAS      CLE        False    False      -900       600   \n",
              "393  2019-12-30      WAS      MIA         True     True       525      -750   \n",
              "426  2020-01-04      LAC      MEM        False    False      -650       450   \n",
              "802  2020-03-02      NYK      HOU         True     True       425      -600   \n",
              "\n",
              "     moneyWon  \n",
              "185       650  \n",
              "267       600  \n",
              "393       525  \n",
              "426       450  \n",
              "802       425  "
            ]
          },
          "metadata": {
            "tags": []
          },
          "execution_count": 85
        }
      ]
    },
    {
      "cell_type": "markdown",
      "metadata": {
        "id": "pY138brZPYPP",
        "colab_type": "text"
      },
      "source": [
        "Here's some potentially dumb bets that we still got right."
      ]
    },
    {
      "cell_type": "code",
      "metadata": {
        "id": "5EHIjcwVPGCu",
        "colab_type": "code",
        "outputId": "6efabb55-0220-4be3-9737-25768a665a5d",
        "colab": {
          "base_uri": "https://localhost:8080/",
          "height": 204
        }
      },
      "source": [
        "## least money made on a bet\n",
        "nba_test[['date','homeTeam','awayTeam','predictions','homeWin','homeOdds','awayOdds','moneyWon']].loc[nba_test['moneyWon'] > 0].sort_values(by='moneyWon').head()"
      ],
      "execution_count": 0,
      "outputs": [
        {
          "output_type": "execute_result",
          "data": {
            "text/html": [
              "<div>\n",
              "<style scoped>\n",
              "    .dataframe tbody tr th:only-of-type {\n",
              "        vertical-align: middle;\n",
              "    }\n",
              "\n",
              "    .dataframe tbody tr th {\n",
              "        vertical-align: top;\n",
              "    }\n",
              "\n",
              "    .dataframe thead th {\n",
              "        text-align: right;\n",
              "    }\n",
              "</style>\n",
              "<table border=\"1\" class=\"dataframe\">\n",
              "  <thead>\n",
              "    <tr style=\"text-align: right;\">\n",
              "      <th></th>\n",
              "      <th>date</th>\n",
              "      <th>homeTeam</th>\n",
              "      <th>awayTeam</th>\n",
              "      <th>predictions</th>\n",
              "      <th>homeWin</th>\n",
              "      <th>homeOdds</th>\n",
              "      <th>awayOdds</th>\n",
              "      <th>moneyWon</th>\n",
              "    </tr>\n",
              "  </thead>\n",
              "  <tbody>\n",
              "    <tr>\n",
              "      <th>120</th>\n",
              "      <td>2019-11-22</td>\n",
              "      <td>UTA</td>\n",
              "      <td>GSW</td>\n",
              "      <td>True</td>\n",
              "      <td>True</td>\n",
              "      <td>-3500</td>\n",
              "      <td>1300</td>\n",
              "      <td>2</td>\n",
              "    </tr>\n",
              "    <tr>\n",
              "      <th>402</th>\n",
              "      <td>2020-01-01</td>\n",
              "      <td>MIL</td>\n",
              "      <td>MIN</td>\n",
              "      <td>True</td>\n",
              "      <td>True</td>\n",
              "      <td>-5000</td>\n",
              "      <td>1500</td>\n",
              "      <td>2</td>\n",
              "    </tr>\n",
              "    <tr>\n",
              "      <th>193</th>\n",
              "      <td>2019-12-02</td>\n",
              "      <td>MIL</td>\n",
              "      <td>NYK</td>\n",
              "      <td>True</td>\n",
              "      <td>True</td>\n",
              "      <td>-3000</td>\n",
              "      <td>1200</td>\n",
              "      <td>3</td>\n",
              "    </tr>\n",
              "    <tr>\n",
              "      <th>544</th>\n",
              "      <td>2020-01-20</td>\n",
              "      <td>MIL</td>\n",
              "      <td>CHI</td>\n",
              "      <td>True</td>\n",
              "      <td>True</td>\n",
              "      <td>-2500</td>\n",
              "      <td>1100</td>\n",
              "      <td>4</td>\n",
              "    </tr>\n",
              "    <tr>\n",
              "      <th>500</th>\n",
              "      <td>2020-01-14</td>\n",
              "      <td>MIL</td>\n",
              "      <td>NYK</td>\n",
              "      <td>True</td>\n",
              "      <td>True</td>\n",
              "      <td>-2400</td>\n",
              "      <td>1150</td>\n",
              "      <td>4</td>\n",
              "    </tr>\n",
              "  </tbody>\n",
              "</table>\n",
              "</div>"
            ],
            "text/plain": [
              "           date homeTeam awayTeam  predictions  homeWin  homeOdds  awayOdds  \\\n",
              "120  2019-11-22      UTA      GSW         True     True     -3500      1300   \n",
              "402  2020-01-01      MIL      MIN         True     True     -5000      1500   \n",
              "193  2019-12-02      MIL      NYK         True     True     -3000      1200   \n",
              "544  2020-01-20      MIL      CHI         True     True     -2500      1100   \n",
              "500  2020-01-14      MIL      NYK         True     True     -2400      1150   \n",
              "\n",
              "     moneyWon  \n",
              "120         2  \n",
              "402         2  \n",
              "193         3  \n",
              "544         4  \n",
              "500         4  "
            ]
          },
          "metadata": {
            "tags": []
          },
          "execution_count": 86
        }
      ]
    },
    {
      "cell_type": "markdown",
      "metadata": {
        "id": "kjoy9DO56hFJ",
        "colab_type": "text"
      },
      "source": [
        "And terrible bets we got wrong"
      ]
    },
    {
      "cell_type": "code",
      "metadata": {
        "id": "6AuaXUFvn9Q2",
        "colab_type": "code",
        "outputId": "27a91972-7152-433b-ff18-1474ae2ea7ed",
        "colab": {
          "base_uri": "https://localhost:8080/",
          "height": 204
        }
      },
      "source": [
        "## least money made on a bet\n",
        "nba_test[['date','homeTeam','awayTeam','predictions','homeWin','homeOdds','awayOdds','moneyWon']].loc[nba_test['moneyWon'] < 0].sort_values(by='homeOdds').head()"
      ],
      "execution_count": 0,
      "outputs": [
        {
          "output_type": "execute_result",
          "data": {
            "text/html": [
              "<div>\n",
              "<style scoped>\n",
              "    .dataframe tbody tr th:only-of-type {\n",
              "        vertical-align: middle;\n",
              "    }\n",
              "\n",
              "    .dataframe tbody tr th {\n",
              "        vertical-align: top;\n",
              "    }\n",
              "\n",
              "    .dataframe thead th {\n",
              "        text-align: right;\n",
              "    }\n",
              "</style>\n",
              "<table border=\"1\" class=\"dataframe\">\n",
              "  <thead>\n",
              "    <tr style=\"text-align: right;\">\n",
              "      <th></th>\n",
              "      <th>date</th>\n",
              "      <th>homeTeam</th>\n",
              "      <th>awayTeam</th>\n",
              "      <th>predictions</th>\n",
              "      <th>homeWin</th>\n",
              "      <th>homeOdds</th>\n",
              "      <th>awayOdds</th>\n",
              "      <th>moneyWon</th>\n",
              "    </tr>\n",
              "  </thead>\n",
              "  <tbody>\n",
              "    <tr>\n",
              "      <th>807</th>\n",
              "      <td>2020-03-03</td>\n",
              "      <td>DEN</td>\n",
              "      <td>GSW</td>\n",
              "      <td>True</td>\n",
              "      <td>False</td>\n",
              "      <td>-3000</td>\n",
              "      <td>1200</td>\n",
              "      <td>-100</td>\n",
              "    </tr>\n",
              "    <tr>\n",
              "      <th>595</th>\n",
              "      <td>2020-01-27</td>\n",
              "      <td>UTA</td>\n",
              "      <td>HOU</td>\n",
              "      <td>True</td>\n",
              "      <td>False</td>\n",
              "      <td>-1600</td>\n",
              "      <td>900</td>\n",
              "      <td>-100</td>\n",
              "    </tr>\n",
              "    <tr>\n",
              "      <th>614</th>\n",
              "      <td>2020-01-30</td>\n",
              "      <td>LAC</td>\n",
              "      <td>SAC</td>\n",
              "      <td>True</td>\n",
              "      <td>False</td>\n",
              "      <td>-1500</td>\n",
              "      <td>850</td>\n",
              "      <td>-100</td>\n",
              "    </tr>\n",
              "    <tr>\n",
              "      <th>781</th>\n",
              "      <td>2020-02-28</td>\n",
              "      <td>TOR</td>\n",
              "      <td>CHO</td>\n",
              "      <td>True</td>\n",
              "      <td>False</td>\n",
              "      <td>-1400</td>\n",
              "      <td>800</td>\n",
              "      <td>-100</td>\n",
              "    </tr>\n",
              "    <tr>\n",
              "      <th>619</th>\n",
              "      <td>2020-01-31</td>\n",
              "      <td>LAL</td>\n",
              "      <td>POR</td>\n",
              "      <td>True</td>\n",
              "      <td>False</td>\n",
              "      <td>-1200</td>\n",
              "      <td>750</td>\n",
              "      <td>-100</td>\n",
              "    </tr>\n",
              "  </tbody>\n",
              "</table>\n",
              "</div>"
            ],
            "text/plain": [
              "           date homeTeam awayTeam  predictions  homeWin  homeOdds  awayOdds  \\\n",
              "807  2020-03-03      DEN      GSW         True    False     -3000      1200   \n",
              "595  2020-01-27      UTA      HOU         True    False     -1600       900   \n",
              "614  2020-01-30      LAC      SAC         True    False     -1500       850   \n",
              "781  2020-02-28      TOR      CHO         True    False     -1400       800   \n",
              "619  2020-01-31      LAL      POR         True    False     -1200       750   \n",
              "\n",
              "     moneyWon  \n",
              "807      -100  \n",
              "595      -100  \n",
              "614      -100  \n",
              "781      -100  \n",
              "619      -100  "
            ]
          },
          "metadata": {
            "tags": []
          },
          "execution_count": 95
        }
      ]
    },
    {
      "cell_type": "markdown",
      "metadata": {
        "id": "I2qQL_HaQtb0",
        "colab_type": "text"
      },
      "source": [
        "# Further Improvements\n",
        "- This model has yet to include any player data. A category that includes a rolling roster of top performers and whether they are out with injury or not could prove useful.\n",
        "- More explanatory power in order to give a confidence rating on single game predictions. Currently the model relies on long term use with a bet on every game.\n",
        "- Opting out of dumb bets. I could train the model to decide if a bet was worth the risk or not, instead of spreading that risk wide. The confidence interval could be used to compare against the odds."
      ]
    },
    {
      "cell_type": "markdown",
      "metadata": {
        "id": "j2R0_gFf6qMB",
        "colab_type": "text"
      },
      "source": [
        "Playing Around with plotly below"
      ]
    },
    {
      "cell_type": "code",
      "metadata": {
        "id": "yxkag5gGSgeu",
        "colab_type": "code",
        "outputId": "10cd4285-e443-43b4-f41e-3ee76a38577e",
        "colab": {
          "base_uri": "https://localhost:8080/",
          "height": 309
        }
      },
      "source": [
        "## interactive visuals\n",
        "!pip install plotly\n",
        "!pip install chart_studio\n",
        "\n",
        "import plotly.express as px\n",
        "import chart_studio"
      ],
      "execution_count": 0,
      "outputs": [
        {
          "output_type": "stream",
          "text": [
            "Requirement already satisfied: plotly in /usr/local/lib/python3.6/dist-packages (4.4.1)\n",
            "Requirement already satisfied: six in /usr/local/lib/python3.6/dist-packages (from plotly) (1.12.0)\n",
            "Requirement already satisfied: retrying>=1.3.3 in /usr/local/lib/python3.6/dist-packages (from plotly) (1.3.3)\n",
            "Collecting chart_studio\n",
            "\u001b[?25l  Downloading https://files.pythonhosted.org/packages/ca/ce/330794a6b6ca4b9182c38fc69dd2a9cbff60fd49421cb8648ee5fee352dc/chart_studio-1.1.0-py3-none-any.whl (64kB)\n",
            "\u001b[K     |████████████████████████████████| 71kB 8.1MB/s \n",
            "\u001b[?25hRequirement already satisfied: requests in /usr/local/lib/python3.6/dist-packages (from chart_studio) (2.21.0)\n",
            "Requirement already satisfied: retrying>=1.3.3 in /usr/local/lib/python3.6/dist-packages (from chart_studio) (1.3.3)\n",
            "Requirement already satisfied: six in /usr/local/lib/python3.6/dist-packages (from chart_studio) (1.12.0)\n",
            "Requirement already satisfied: plotly in /usr/local/lib/python3.6/dist-packages (from chart_studio) (4.4.1)\n",
            "Requirement already satisfied: idna<2.9,>=2.5 in /usr/local/lib/python3.6/dist-packages (from requests->chart_studio) (2.8)\n",
            "Requirement already satisfied: certifi>=2017.4.17 in /usr/local/lib/python3.6/dist-packages (from requests->chart_studio) (2019.11.28)\n",
            "Requirement already satisfied: chardet<3.1.0,>=3.0.2 in /usr/local/lib/python3.6/dist-packages (from requests->chart_studio) (3.0.4)\n",
            "Requirement already satisfied: urllib3<1.25,>=1.21.1 in /usr/local/lib/python3.6/dist-packages (from requests->chart_studio) (1.24.3)\n",
            "Installing collected packages: chart-studio\n",
            "Successfully installed chart-studio-1.1.0\n"
          ],
          "name": "stdout"
        }
      ]
    },
    {
      "cell_type": "code",
      "metadata": {
        "id": "F7Z3FNJmU3Ft",
        "colab_type": "code",
        "colab": {}
      },
      "source": [
        "import plotly.graph_objects as go\n",
        "import numpy as np"
      ],
      "execution_count": 0,
      "outputs": []
    },
    {
      "cell_type": "code",
      "metadata": {
        "id": "LcudZYzkWIGJ",
        "colab_type": "code",
        "outputId": "93a8db3c-ebe5-41c3-893a-c9f34c84b456",
        "colab": {
          "base_uri": "https://localhost:8080/",
          "height": 542
        }
      },
      "source": [
        "fig = go.Figure()\n",
        "fig.add_trace(go.Scatter(x=nba_test['date'], y=nba_test['cumTotalWon'],\n",
        "                    mode='lines',\n",
        "                    name='lines'))\n",
        "fig.update_layout(title='Cumulative Earnings with $100 bets',\n",
        "                  yaxis_title='Money Earned ($)')"
      ],
      "execution_count": 0,
      "outputs": [
        {
          "output_type": "display_data",
          "data": {
            "text/html": [
              "<html>\n",
              "<head><meta charset=\"utf-8\" /></head>\n",
              "<body>\n",
              "    <div>\n",
              "            <script src=\"https://cdnjs.cloudflare.com/ajax/libs/mathjax/2.7.5/MathJax.js?config=TeX-AMS-MML_SVG\"></script><script type=\"text/javascript\">if (window.MathJax) {MathJax.Hub.Config({SVG: {font: \"STIX-Web\"}});}</script>\n",
              "                <script type=\"text/javascript\">window.PlotlyConfig = {MathJaxConfig: 'local'};</script>\n",
              "        <script src=\"https://cdn.plot.ly/plotly-latest.min.js\"></script>    \n",
              "            <div id=\"f2eab3c5-d28b-4a62-b056-e54da29878a5\" class=\"plotly-graph-div\" style=\"height:525px; width:100%;\"></div>\n",
              "            <script type=\"text/javascript\">\n",
              "                \n",
              "                    window.PLOTLYENV=window.PLOTLYENV || {};\n",
              "                    \n",
              "                if (document.getElementById(\"f2eab3c5-d28b-4a62-b056-e54da29878a5\")) {\n",
              "                    Plotly.newPlot(\n",
              "                        'f2eab3c5-d28b-4a62-b056-e54da29878a5',\n",
              "                        [{\"mode\": \"lines\", \"name\": \"lines\", \"type\": \"scatter\", \"x\": [\"2019-11-02\", \"2019-11-02\", \"2019-11-03\", \"2019-11-04\", \"2019-11-04\", \"2019-11-04\", \"2019-11-04\", \"2019-11-06\", \"2019-11-06\", \"2019-11-06\", \"2019-11-06\", \"2019-11-06\", \"2019-11-06\", \"2019-11-06\", \"2019-11-06\", \"2019-11-07\", \"2019-11-07\", \"2019-11-07\", \"2019-11-08\", \"2019-11-08\", \"2019-11-08\", \"2019-11-08\", \"2019-11-08\", \"2019-11-08\", \"2019-11-08\", \"2019-11-08\", \"2019-11-09\", \"2019-11-09\", \"2019-11-09\", \"2019-11-09\", \"2019-11-09\", \"2019-11-10\", \"2019-11-10\", \"2019-11-10\", \"2019-11-10\", \"2019-11-10\", \"2019-11-10\", \"2019-11-11\", \"2019-11-11\", \"2019-11-11\", \"2019-11-11\", \"2019-11-11\", \"2019-11-11\", \"2019-11-12\", \"2019-11-12\", \"2019-11-12\", \"2019-11-12\", \"2019-11-12\", \"2019-11-12\", \"2019-11-12\", \"2019-11-12\", \"2019-11-13\", \"2019-11-13\", \"2019-11-13\", \"2019-11-13\", \"2019-11-13\", \"2019-11-13\", \"2019-11-13\", \"2019-11-14\", \"2019-11-14\", \"2019-11-14\", \"2019-11-14\", \"2019-11-14\", \"2019-11-14\", \"2019-11-15\", \"2019-11-15\", \"2019-11-15\", \"2019-11-15\", \"2019-11-15\", \"2019-11-15\", \"2019-11-15\", \"2019-11-15\", \"2019-11-16\", \"2019-11-16\", \"2019-11-16\", \"2019-11-16\", \"2019-11-16\", \"2019-11-16\", \"2019-11-16\", \"2019-11-16\", \"2019-11-17\", \"2019-11-17\", \"2019-11-17\", \"2019-11-17\", \"2019-11-17\", \"2019-11-17\", \"2019-11-18\", \"2019-11-18\", \"2019-11-18\", \"2019-11-18\", \"2019-11-18\", \"2019-11-18\", \"2019-11-18\", \"2019-11-18\", \"2019-11-18\", \"2019-11-19\", \"2019-11-19\", \"2019-11-19\", \"2019-11-19\", \"2019-11-20\", \"2019-11-20\", \"2019-11-20\", \"2019-11-20\", \"2019-11-20\", \"2019-11-20\", \"2019-11-20\", \"2019-11-20\", \"2019-11-20\", \"2019-11-20\", \"2019-11-20\", \"2019-11-21\", \"2019-11-21\", \"2019-11-22\", \"2019-11-22\", \"2019-11-22\", \"2019-11-22\", \"2019-11-22\", \"2019-11-22\", \"2019-11-22\", \"2019-11-22\", \"2019-11-22\", \"2019-11-22\", \"2019-11-23\", \"2019-11-23\", \"2019-11-23\", \"2019-11-23\", \"2019-11-23\", \"2019-11-23\", \"2019-11-23\", \"2019-11-23\", \"2019-11-23\", \"2019-11-23\", \"2019-11-24\", \"2019-11-24\", \"2019-11-24\", \"2019-11-24\", \"2019-11-24\", \"2019-11-25\", \"2019-11-25\", \"2019-11-25\", \"2019-11-25\", \"2019-11-25\", \"2019-11-25\", \"2019-11-25\", \"2019-11-25\", \"2019-11-25\", \"2019-11-25\", \"2019-11-25\", \"2019-11-26\", \"2019-11-26\", \"2019-11-27\", \"2019-11-27\", \"2019-11-27\", \"2019-11-27\", \"2019-11-27\", \"2019-11-27\", \"2019-11-27\", \"2019-11-27\", \"2019-11-27\", \"2019-11-27\", \"2019-11-27\", \"2019-11-27\", \"2019-11-27\", \"2019-11-27\", \"2019-11-29\", \"2019-11-29\", \"2019-11-29\", \"2019-11-29\", \"2019-11-29\", \"2019-11-29\", \"2019-11-29\", \"2019-11-29\", \"2019-11-29\", \"2019-11-29\", \"2019-11-29\", \"2019-11-29\", \"2019-11-29\", \"2019-11-30\", \"2019-11-30\", \"2019-11-30\", \"2019-11-30\", \"2019-12-01\", \"2019-12-01\", \"2019-12-01\", \"2019-12-01\", \"2019-12-01\", \"2019-12-01\", \"2019-12-01\", \"2019-12-01\", \"2019-12-01\", \"2019-12-02\", \"2019-12-02\", \"2019-12-02\", \"2019-12-02\", \"2019-12-02\", \"2019-12-02\", \"2019-12-03\", \"2019-12-03\", \"2019-12-03\", \"2019-12-03\", \"2019-12-03\", \"2019-12-03\", \"2019-12-03\", \"2019-12-04\", \"2019-12-04\", \"2019-12-04\", \"2019-12-04\", \"2019-12-04\", \"2019-12-04\", \"2019-12-04\", \"2019-12-04\", \"2019-12-04\", \"2019-12-04\", \"2019-12-05\", \"2019-12-05\", \"2019-12-05\", \"2019-12-05\", \"2019-12-06\", \"2019-12-06\", \"2019-12-06\", \"2019-12-06\", \"2019-12-06\", \"2019-12-06\", \"2019-12-06\", \"2019-12-06\", \"2019-12-06\", \"2019-12-06\", \"2019-12-07\", \"2019-12-07\", \"2019-12-07\", \"2019-12-07\", \"2019-12-07\", \"2019-12-08\", \"2019-12-08\", \"2019-12-08\", \"2019-12-08\", \"2019-12-08\", \"2019-12-08\", \"2019-12-08\", \"2019-12-08\", \"2019-12-09\", \"2019-12-09\", \"2019-12-09\", \"2019-12-09\", \"2019-12-09\", \"2019-12-09\", \"2019-12-09\", \"2019-12-09\", \"2019-12-09\", \"2019-12-10\", \"2019-12-10\", \"2019-12-10\", \"2019-12-10\", \"2019-12-11\", \"2019-12-11\", \"2019-12-11\", \"2019-12-11\", \"2019-12-11\", \"2019-12-11\", \"2019-12-11\", \"2019-12-11\", \"2019-12-11\", \"2019-12-11\", \"2019-12-11\", \"2019-12-12\", \"2019-12-12\", \"2019-12-12\", \"2019-12-12\", \"2019-12-13\", \"2019-12-13\", \"2019-12-13\", \"2019-12-13\", \"2019-12-13\", \"2019-12-13\", \"2019-12-13\", \"2019-12-13\", \"2019-12-13\", \"2019-12-14\", \"2019-12-14\", \"2019-12-14\", \"2019-12-14\", \"2019-12-14\", \"2019-12-14\", \"2019-12-14\", \"2019-12-14\", \"2019-12-15\", \"2019-12-15\", \"2019-12-15\", \"2019-12-15\", \"2019-12-15\", \"2019-12-15\", \"2019-12-16\", \"2019-12-16\", \"2019-12-16\", \"2019-12-16\", \"2019-12-16\", \"2019-12-16\", \"2019-12-16\", \"2019-12-17\", \"2019-12-17\", \"2019-12-17\", \"2019-12-17\", \"2019-12-17\", \"2019-12-17\", \"2019-12-18\", \"2019-12-18\", \"2019-12-18\", \"2019-12-18\", \"2019-12-18\", \"2019-12-18\", \"2019-12-18\", \"2019-12-18\", \"2019-12-18\", \"2019-12-19\", \"2019-12-19\", \"2019-12-19\", \"2019-12-19\", \"2019-12-20\", \"2019-12-20\", \"2019-12-20\", \"2019-12-20\", \"2019-12-20\", \"2019-12-20\", \"2019-12-20\", \"2019-12-20\", \"2019-12-20\", \"2019-12-20\", \"2019-12-21\", \"2019-12-21\", \"2019-12-21\", \"2019-12-21\", \"2019-12-21\", \"2019-12-21\", \"2019-12-21\", \"2019-12-21\", \"2019-12-21\", \"2019-12-22\", \"2019-12-22\", \"2019-12-22\", \"2019-12-22\", \"2019-12-22\", \"2019-12-23\", \"2019-12-23\", \"2019-12-23\", \"2019-12-23\", \"2019-12-23\", \"2019-12-23\", \"2019-12-23\", \"2019-12-23\", \"2019-12-23\", \"2019-12-23\", \"2019-12-23\", \"2019-12-25\", \"2019-12-25\", \"2019-12-25\", \"2019-12-25\", \"2019-12-25\", \"2019-12-26\", \"2019-12-26\", \"2019-12-26\", \"2019-12-26\", \"2019-12-26\", \"2019-12-26\", \"2019-12-27\", \"2019-12-27\", \"2019-12-27\", \"2019-12-27\", \"2019-12-27\", \"2019-12-27\", \"2019-12-28\", \"2019-12-28\", \"2019-12-28\", \"2019-12-28\", \"2019-12-28\", \"2019-12-28\", \"2019-12-28\", \"2019-12-28\", \"2019-12-28\", \"2019-12-28\", \"2019-12-28\", \"2019-12-28\", \"2019-12-28\", \"2019-12-28\", \"2019-12-29\", \"2019-12-29\", \"2019-12-29\", \"2019-12-29\", \"2019-12-29\", \"2019-12-30\", \"2019-12-30\", \"2019-12-30\", \"2019-12-30\", \"2019-12-30\", \"2019-12-30\", \"2019-12-31\", \"2019-12-31\", \"2019-12-31\", \"2019-12-31\", \"2019-12-31\", \"2019-12-31\", \"2019-12-31\", \"2020-01-01\", \"2020-01-01\", \"2020-01-01\", \"2020-01-01\", \"2020-01-02\", \"2020-01-02\", \"2020-01-02\", \"2020-01-02\", \"2020-01-02\", \"2020-01-02\", \"2020-01-02\", \"2020-01-02\", \"2020-01-02\", \"2020-01-03\", \"2020-01-03\", \"2020-01-03\", \"2020-01-03\", \"2020-01-03\", \"2020-01-03\", \"2020-01-04\", \"2020-01-04\", \"2020-01-04\", \"2020-01-04\", \"2020-01-04\", \"2020-01-04\", \"2020-01-04\", \"2020-01-04\", \"2020-01-04\", \"2020-01-04\", \"2020-01-04\", \"2020-01-05\", \"2020-01-05\", \"2020-01-05\", \"2020-01-05\", \"2020-01-05\", \"2020-01-06\", \"2020-01-06\", \"2020-01-06\", \"2020-01-06\", \"2020-01-06\", \"2020-01-06\", \"2020-01-06\", \"2020-01-06\", \"2020-01-06\", \"2020-01-07\", \"2020-01-07\", \"2020-01-07\", \"2020-01-07\", \"2020-01-07\", \"2020-01-07\", \"2020-01-08\", \"2020-01-08\", \"2020-01-08\", \"2020-01-08\", \"2020-01-08\", \"2020-01-08\", \"2020-01-08\", \"2020-01-08\", \"2020-01-08\", \"2020-01-09\", \"2020-01-09\", \"2020-01-09\", \"2020-01-09\", \"2020-01-10\", \"2020-01-10\", \"2020-01-10\", \"2020-01-10\", \"2020-01-10\", \"2020-01-10\", \"2020-01-10\", \"2020-01-10\", \"2020-01-10\", \"2020-01-10\", \"2020-01-11\", \"2020-01-11\", \"2020-01-11\", \"2020-01-11\", \"2020-01-11\", \"2020-01-11\", \"2020-01-11\", \"2020-01-12\", \"2020-01-12\", \"2020-01-12\", \"2020-01-12\", \"2020-01-12\", \"2020-01-12\", \"2020-01-12\", \"2020-01-13\", \"2020-01-13\", \"2020-01-13\", \"2020-01-13\", \"2020-01-13\", \"2020-01-13\", \"2020-01-13\", \"2020-01-14\", \"2020-01-14\", \"2020-01-14\", \"2020-01-14\", \"2020-01-14\", \"2020-01-14\", \"2020-01-15\", \"2020-01-15\", \"2020-01-15\", \"2020-01-15\", \"2020-01-15\", \"2020-01-15\", \"2020-01-15\", \"2020-01-15\", \"2020-01-15\", \"2020-01-15\", \"2020-01-16\", \"2020-01-16\", \"2020-01-16\", \"2020-01-16\", \"2020-01-16\", \"2020-01-17\", \"2020-01-17\", \"2020-01-17\", \"2020-01-17\", \"2020-01-17\", \"2020-01-17\", \"2020-01-17\", \"2020-01-18\", \"2020-01-18\", \"2020-01-18\", \"2020-01-18\", \"2020-01-18\", \"2020-01-18\", \"2020-01-18\", \"2020-01-18\", \"2020-01-18\", \"2020-01-18\", \"2020-01-18\", \"2020-01-19\", \"2020-01-19\", \"2020-01-20\", \"2020-01-20\", \"2020-01-20\", \"2020-01-20\", \"2020-01-20\", \"2020-01-20\", \"2020-01-20\", \"2020-01-20\", \"2020-01-20\", \"2020-01-20\", \"2020-01-20\", \"2020-01-20\", \"2020-01-20\", \"2020-01-20\", \"2020-01-21\", \"2020-01-22\", \"2020-01-22\", \"2020-01-22\", \"2020-01-22\", \"2020-01-22\", \"2020-01-22\", \"2020-01-22\", \"2020-01-22\", \"2020-01-22\", \"2020-01-22\", \"2020-01-22\", \"2020-01-22\", \"2020-01-23\", \"2020-01-23\", \"2020-01-23\", \"2020-01-24\", \"2020-01-24\", \"2020-01-24\", \"2020-01-24\", \"2020-01-24\", \"2020-01-24\", \"2020-01-24\", \"2020-01-24\", \"2020-01-24\", \"2020-01-24\", \"2020-01-24\", \"2020-01-25\", \"2020-01-25\", \"2020-01-25\", \"2020-01-25\", \"2020-01-25\", \"2020-01-26\", \"2020-01-26\", \"2020-01-26\", \"2020-01-26\", \"2020-01-26\", \"2020-01-26\", \"2020-01-26\", \"2020-01-26\", \"2020-01-27\", \"2020-01-27\", \"2020-01-27\", \"2020-01-27\", \"2020-01-27\", \"2020-01-27\", \"2020-01-28\", \"2020-01-28\", \"2020-01-28\", \"2020-01-28\", \"2020-01-28\", \"2020-01-28\", \"2020-01-28\", \"2020-01-28\", \"2020-01-29\", \"2020-01-29\", \"2020-01-29\", \"2020-01-29\", \"2020-01-29\", \"2020-01-29\", \"2020-01-30\", \"2020-01-30\", \"2020-01-30\", \"2020-01-30\", \"2020-01-30\", \"2020-01-30\", \"2020-01-31\", \"2020-01-31\", \"2020-01-31\", \"2020-01-31\", \"2020-01-31\", \"2020-01-31\", \"2020-01-31\", \"2020-02-01\", \"2020-02-01\", \"2020-02-01\", \"2020-02-01\", \"2020-02-01\", \"2020-02-01\", \"2020-02-01\", \"2020-02-01\", \"2020-02-01\", \"2020-02-01\", \"2020-02-02\", \"2020-02-02\", \"2020-02-02\", \"2020-02-02\", \"2020-02-03\", \"2020-02-03\", \"2020-02-03\", \"2020-02-03\", \"2020-02-03\", \"2020-02-03\", \"2020-02-03\", \"2020-02-03\", \"2020-02-03\", \"2020-02-03\", \"2020-02-04\", \"2020-02-04\", \"2020-02-04\", \"2020-02-04\", \"2020-02-05\", \"2020-02-05\", \"2020-02-05\", \"2020-02-05\", \"2020-02-05\", \"2020-02-05\", \"2020-02-05\", \"2020-02-05\", \"2020-02-05\", \"2020-02-06\", \"2020-02-06\", \"2020-02-06\", \"2020-02-06\", \"2020-02-06\", \"2020-02-07\", \"2020-02-07\", \"2020-02-07\", \"2020-02-07\", \"2020-02-07\", \"2020-02-07\", \"2020-02-07\", \"2020-02-07\", \"2020-02-08\", \"2020-02-08\", \"2020-02-08\", \"2020-02-08\", \"2020-02-08\", \"2020-02-08\", \"2020-02-08\", \"2020-02-08\", \"2020-02-08\", \"2020-02-09\", \"2020-02-09\", \"2020-02-09\", \"2020-02-09\", \"2020-02-09\", \"2020-02-09\", \"2020-02-09\", \"2020-02-10\", \"2020-02-10\", \"2020-02-10\", \"2020-02-10\", \"2020-02-10\", \"2020-02-10\", \"2020-02-10\", \"2020-02-10\", \"2020-02-10\", \"2020-02-11\", \"2020-02-11\", \"2020-02-11\", \"2020-02-11\", \"2020-02-11\", \"2020-02-12\", \"2020-02-12\", \"2020-02-12\", \"2020-02-12\", \"2020-02-12\", \"2020-02-12\", \"2020-02-12\", \"2020-02-12\", \"2020-02-12\", \"2020-02-12\", \"2020-02-12\", \"2020-02-13\", \"2020-02-13\", \"2020-02-20\", \"2020-02-20\", \"2020-02-20\", \"2020-02-20\", \"2020-02-20\", \"2020-02-20\", \"2020-02-21\", \"2020-02-21\", \"2020-02-21\", \"2020-02-21\", \"2020-02-21\", \"2020-02-21\", \"2020-02-21\", \"2020-02-21\", \"2020-02-21\", \"2020-02-22\", \"2020-02-22\", \"2020-02-22\", \"2020-02-22\", \"2020-02-22\", \"2020-02-22\", \"2020-02-22\", \"2020-02-23\", \"2020-02-23\", \"2020-02-23\", \"2020-02-23\", \"2020-02-23\", \"2020-02-23\", \"2020-02-23\", \"2020-02-24\", \"2020-02-24\", \"2020-02-24\", \"2020-02-24\", \"2020-02-24\", \"2020-02-24\", \"2020-02-24\", \"2020-02-24\", \"2020-02-25\", \"2020-02-25\", \"2020-02-25\", \"2020-02-25\", \"2020-02-25\", \"2020-02-25\", \"2020-02-25\", \"2020-02-26\", \"2020-02-26\", \"2020-02-26\", \"2020-02-26\", \"2020-02-26\", \"2020-02-26\", \"2020-02-26\", \"2020-02-26\", \"2020-02-26\", \"2020-02-27\", \"2020-02-27\", \"2020-02-27\", \"2020-02-27\", \"2020-02-28\", \"2020-02-28\", \"2020-02-28\", \"2020-02-28\", \"2020-02-28\", \"2020-02-28\", \"2020-02-28\", \"2020-02-28\", \"2020-02-28\", \"2020-02-28\", \"2020-02-29\", \"2020-02-29\", \"2020-02-29\", \"2020-02-29\", \"2020-02-29\", \"2020-02-29\", \"2020-02-29\", \"2020-02-29\", \"2020-03-01\", \"2020-03-01\", \"2020-03-01\", \"2020-03-01\", \"2020-03-01\", \"2020-03-01\", \"2020-03-01\", \"2020-03-02\", \"2020-03-02\", \"2020-03-02\", \"2020-03-02\", \"2020-03-02\", \"2020-03-02\", \"2020-03-02\", \"2020-03-03\", \"2020-03-03\", \"2020-03-03\", \"2020-03-03\", \"2020-03-03\", \"2020-03-03\", \"2020-03-03\", \"2020-03-03\", \"2020-03-04\", \"2020-03-04\", \"2020-03-04\", \"2020-03-04\", \"2020-03-04\", \"2020-03-04\", \"2020-03-04\", \"2020-03-04\", \"2020-03-04\", \"2020-03-05\", \"2020-03-05\", \"2020-03-05\", \"2020-03-05\", \"2020-03-06\", \"2020-03-06\", \"2020-03-06\", \"2020-03-06\", \"2020-03-06\", \"2020-03-06\", \"2020-03-06\", \"2020-03-06\", \"2020-03-06\", \"2020-03-06\", \"2020-03-07\", \"2020-03-07\", \"2020-03-07\", \"2020-03-07\", \"2020-03-07\", \"2020-03-07\", \"2020-03-08\", \"2020-03-08\", \"2020-03-08\", \"2020-03-08\", \"2020-03-08\", \"2020-03-08\", \"2020-03-08\", \"2020-03-08\", \"2020-03-08\", \"2020-03-08\", \"2020-03-08\"], \"y\": [39, 94, 144, 202, 102, 143, 233, 133, 165, 225, 291, 191, 91, 119, 185, 217, 258, 158, 58, -42, -142, -104, -81, -7, 107, 7, -93, -13, 28, 39, -61, -161, -261, -361, -461, -561, -495, -595, -440, -415, -395, -495, -595, -695, -795, -712, -687, -674, -774, -874, -841, -809, -909, -1009, -987, -1087, -1011, -1111, -1211, -1183, -1283, -1123, -1223, -1194, -1294, -1262, -1224, -1208, -1308, -1108, -968, -900, -1000, -1100, -1200, -1180, -1150, -1036, -886, -986, -1086, -1080, -1180, -1118, -1077, -1177, -1277, -1377, -1477, -1445, -1420, -1379, -1479, -1454, -1079, -1065, -1165, -1103, -1039, -1025, -973, -878, -872, -792, -759, -739, -673, -662, -596, -486, -478, -343, -443, -543, -528, -481, -444, -397, -347, -314, -312, -272, -242, -166, 59, 95, 122, 130, 300, 364, 404, 445, 459, 359, 259, 159, 273, 325, 359, 442, 342, 242, 142, 162, 176, 199, 249, 354, 434, 334, 359, 509, 409, 309, 341, 431, 467, 473, 503, 523, 758, 826, 956, 972, 1122, 1136, 1036, 1050, 950, 980, 993, 893, 793, 693, 767, 800, 700, 706, 712, 750, 905, 805, 705, 605, 505, 1155, 1055, 955, 983, 1059, 1097, 997, 1019, 1022, 1067, 1247, 1147, 1261, 1161, 1061, 1321, 1221, 1311, 1211, 1254, 1154, 1225, 1266, 1286, 1366, 1471, 1516, 1621, 1776, 1676, 1576, 1476, 1376, 1276, 1342, 1394, 1294, 1194, 1246, 1304, 1354, 1254, 1276, 1289, 1334, 1348, 1360, 1515, 1415, 1315, 1330, 1362, 1428, 1328, 1228, 1235, 1135, 1035, 935, 835, 845, 935, 997, 897, 797, 820, 865, 885, 785, 821, 721, 621, 704, 726, 626, 649, 549, 629, 695, 595, 625, 525, 1125, 1162, 1062, 1071, 1112, 1162, 1062, 1094, 994, 1001, 1136, 1036, 1074, 974, 1054, 1060, 960, 860, 871, 1016, 1030, 930, 942, 842, 962, 977, 1102, 1002, 1043, 943, 951, 851, 751, 757, 831, 907, 942, 1010, 1086, 1106, 1006, 906, 806, 706, 726, 626, 661, 841, 741, 641, 663, 563, 576, 476, 376, 394, 460, 360, 418, 318, 347, 380, 280, 394, 402, 411, 311, 346, 378, 388, 288, 188, 88, -12, 98, 134, 220, 260, 160, 60, -40, 10, 81, -19, 18, -82, -182, -62, 68, 122, 22, 49, -51, 164, 64, 105, 133, 140, 40, 185, 85, -15, -115, -99, -199, -185, -165, 115, 15, 52, 281, 181, 222, 342, 387, 287, 187, 87, 155, 55, -45, -23, 147, 47, -53, -33, 492, 517, 552, 616, 516, 551, 564, 464, 364, 366, 516, 416, 474, 374, 401, 487, 497, 542, 608, 508, 408, 423, 475, 491, 391, 424, 324, 224, 124, 219, 119, 19, -81, 369, 269, 327, 227, 127, 27, 45, 50, 93, 333, 363, 400, 425, 480, 525, 554, 570, 470, 370, 270, 170, 176, 228, 457, 357, 384, 634, 705, 860, 866, 766, 828, 848, 854, 754, 844, 744, 834, 734, 829, 943, 949, 849, 749, 807, 707, 718, 813, 713, 779, 679, 824, 842, 1142, 1042, 1085, 985, 1023, 1297, 1325, 1225, 1125, 1145, 1234, 1310, 1316, 1216, 1235, 1135, 1305, 1205, 1234, 1240, 1140, 1144, 1044, 944, 953, 853, 753, 653, 728, 628, 658, 558, 616, 632, 646, 546, 620, 647, 547, 569, 655, 682, 582, 598, 498, 668, 683, 711, 611, 751, 651, 692, 592, 629, 651, 737, 637, 659, 559, 459, 359, 259, 159, 59, 123, 127, 27, -73, -43, -143, -243, -123, -223, -323, -233, -128, -106, -88, -72, 68, 81, -19, 67, 107, 147, 47, -53, -153, -146, -66, -29, 45, -55, -155, -132, -107, -207, -37, -137, -237, -132, 53, 100, 186, 257, 331, 231, 302, 202, 102, 160, 60, -40, -140, -240, -197, -297, -214, -314, -414, -334, -220, -208, -200, -192, -292, -269, -198, -298, -227, -37, 173, 181, 199, 329, 229, 284, 325, 380, 280, 180, 80, -20, 70, 170, 70, 120, 20, 35, 106, 6, 39, 62, 172, 72, 117, 127, 143, 181, 255, 155, 55, 235, 135, 155, 226, 312, 212, 266, 166, 180, 216, 116, 152, 322, 452, 488, 388, 396, 296, 196, 237, 137, 157, 302, 364, 377, 477, 487, 528, 648, 548, 568, 468, 530, 430, 436, 611, 511, 536, 436, 556, 593, 643, 683, 808, 888, 902, 947, 1015, 1105, 1138, 1038, 1071, 971, 980, 996, 1021, 1048, 948, 1014, 914, 1014, 1072, 972, 872, 897, 965, 865, 927, 827, 957, 992, 1025, 925, 825, 975, 875, 775, 815, 975, 1011, 1116, 1016, 1043, 1077, 1153, 1205, 1105, 1005, 905, 1109, 1009, 1075, 975, 875, 884, 905, 805, 705, 711, 727, 757, 802, 845, 745, 645, 545, 553, 563, 463, 488, 388, 395, 422, 430, 461, 473, 502, 535, 435, 506, 620, 520, 420, 320, 220, 275, 455, 560, 576, 594, 621, 651, 771, 671, 571, 471, 371, 381, 281, 181, 81, -19, 57, 147, 47, -53, -23, 48, -52, -152, -144, -244, -212, -207, -169, -269, -251, -351, -451, -436, -261, 164, 64, 135, 364, 264, 164, 174, 74, -26, 32, 73, -27, 31, 66, 91, -9, 5, -95, -70, -170, -152, -130, -230, -45, 60, 131, 205, 105, 185, 253, 333, 373, 513, 413, 713, 613, 638, 538, 575, 475, 704, 739, 639, 864, 1164, 1294, 1194, 1237, 1462, 1512, 1412]}],\n",
              "                        {\"template\": {\"data\": {\"bar\": [{\"error_x\": {\"color\": \"#2a3f5f\"}, \"error_y\": {\"color\": \"#2a3f5f\"}, \"marker\": {\"line\": {\"color\": \"#E5ECF6\", \"width\": 0.5}}, \"type\": \"bar\"}], \"barpolar\": [{\"marker\": {\"line\": {\"color\": \"#E5ECF6\", \"width\": 0.5}}, \"type\": \"barpolar\"}], \"carpet\": [{\"aaxis\": {\"endlinecolor\": \"#2a3f5f\", \"gridcolor\": \"white\", \"linecolor\": \"white\", \"minorgridcolor\": \"white\", \"startlinecolor\": \"#2a3f5f\"}, \"baxis\": {\"endlinecolor\": \"#2a3f5f\", \"gridcolor\": \"white\", \"linecolor\": \"white\", \"minorgridcolor\": \"white\", \"startlinecolor\": \"#2a3f5f\"}, \"type\": \"carpet\"}], \"choropleth\": [{\"colorbar\": {\"outlinewidth\": 0, \"ticks\": \"\"}, \"type\": \"choropleth\"}], \"contour\": [{\"colorbar\": {\"outlinewidth\": 0, \"ticks\": \"\"}, \"colorscale\": [[0.0, \"#0d0887\"], [0.1111111111111111, \"#46039f\"], [0.2222222222222222, \"#7201a8\"], [0.3333333333333333, \"#9c179e\"], [0.4444444444444444, \"#bd3786\"], [0.5555555555555556, \"#d8576b\"], [0.6666666666666666, \"#ed7953\"], [0.7777777777777778, \"#fb9f3a\"], [0.8888888888888888, \"#fdca26\"], [1.0, \"#f0f921\"]], \"type\": \"contour\"}], \"contourcarpet\": [{\"colorbar\": {\"outlinewidth\": 0, \"ticks\": \"\"}, \"type\": \"contourcarpet\"}], \"heatmap\": [{\"colorbar\": {\"outlinewidth\": 0, \"ticks\": \"\"}, \"colorscale\": [[0.0, \"#0d0887\"], [0.1111111111111111, \"#46039f\"], [0.2222222222222222, \"#7201a8\"], [0.3333333333333333, \"#9c179e\"], [0.4444444444444444, \"#bd3786\"], [0.5555555555555556, \"#d8576b\"], [0.6666666666666666, \"#ed7953\"], [0.7777777777777778, \"#fb9f3a\"], [0.8888888888888888, \"#fdca26\"], [1.0, \"#f0f921\"]], \"type\": \"heatmap\"}], \"heatmapgl\": [{\"colorbar\": {\"outlinewidth\": 0, \"ticks\": \"\"}, \"colorscale\": [[0.0, \"#0d0887\"], [0.1111111111111111, \"#46039f\"], [0.2222222222222222, \"#7201a8\"], [0.3333333333333333, \"#9c179e\"], [0.4444444444444444, \"#bd3786\"], [0.5555555555555556, \"#d8576b\"], [0.6666666666666666, \"#ed7953\"], [0.7777777777777778, \"#fb9f3a\"], [0.8888888888888888, \"#fdca26\"], [1.0, \"#f0f921\"]], \"type\": \"heatmapgl\"}], \"histogram\": [{\"marker\": {\"colorbar\": {\"outlinewidth\": 0, \"ticks\": \"\"}}, \"type\": \"histogram\"}], \"histogram2d\": [{\"colorbar\": {\"outlinewidth\": 0, \"ticks\": \"\"}, \"colorscale\": [[0.0, \"#0d0887\"], [0.1111111111111111, \"#46039f\"], [0.2222222222222222, \"#7201a8\"], [0.3333333333333333, \"#9c179e\"], [0.4444444444444444, \"#bd3786\"], [0.5555555555555556, \"#d8576b\"], [0.6666666666666666, \"#ed7953\"], [0.7777777777777778, \"#fb9f3a\"], [0.8888888888888888, \"#fdca26\"], [1.0, \"#f0f921\"]], \"type\": \"histogram2d\"}], \"histogram2dcontour\": [{\"colorbar\": {\"outlinewidth\": 0, \"ticks\": \"\"}, \"colorscale\": [[0.0, \"#0d0887\"], [0.1111111111111111, \"#46039f\"], [0.2222222222222222, \"#7201a8\"], [0.3333333333333333, \"#9c179e\"], [0.4444444444444444, \"#bd3786\"], [0.5555555555555556, \"#d8576b\"], [0.6666666666666666, \"#ed7953\"], [0.7777777777777778, \"#fb9f3a\"], [0.8888888888888888, \"#fdca26\"], [1.0, \"#f0f921\"]], \"type\": \"histogram2dcontour\"}], \"mesh3d\": [{\"colorbar\": {\"outlinewidth\": 0, \"ticks\": \"\"}, \"type\": \"mesh3d\"}], \"parcoords\": [{\"line\": {\"colorbar\": {\"outlinewidth\": 0, \"ticks\": \"\"}}, \"type\": \"parcoords\"}], \"pie\": [{\"automargin\": true, \"type\": \"pie\"}], \"scatter\": [{\"marker\": {\"colorbar\": {\"outlinewidth\": 0, \"ticks\": \"\"}}, \"type\": \"scatter\"}], \"scatter3d\": [{\"line\": {\"colorbar\": {\"outlinewidth\": 0, \"ticks\": \"\"}}, \"marker\": {\"colorbar\": {\"outlinewidth\": 0, \"ticks\": \"\"}}, \"type\": \"scatter3d\"}], \"scattercarpet\": [{\"marker\": {\"colorbar\": {\"outlinewidth\": 0, \"ticks\": \"\"}}, \"type\": \"scattercarpet\"}], \"scattergeo\": [{\"marker\": {\"colorbar\": {\"outlinewidth\": 0, \"ticks\": \"\"}}, \"type\": \"scattergeo\"}], \"scattergl\": [{\"marker\": {\"colorbar\": {\"outlinewidth\": 0, \"ticks\": \"\"}}, \"type\": \"scattergl\"}], \"scattermapbox\": [{\"marker\": {\"colorbar\": {\"outlinewidth\": 0, \"ticks\": \"\"}}, \"type\": \"scattermapbox\"}], \"scatterpolar\": [{\"marker\": {\"colorbar\": {\"outlinewidth\": 0, \"ticks\": \"\"}}, \"type\": \"scatterpolar\"}], \"scatterpolargl\": [{\"marker\": {\"colorbar\": {\"outlinewidth\": 0, \"ticks\": \"\"}}, \"type\": \"scatterpolargl\"}], \"scatterternary\": [{\"marker\": {\"colorbar\": {\"outlinewidth\": 0, \"ticks\": \"\"}}, \"type\": \"scatterternary\"}], \"surface\": [{\"colorbar\": {\"outlinewidth\": 0, \"ticks\": \"\"}, \"colorscale\": [[0.0, \"#0d0887\"], [0.1111111111111111, \"#46039f\"], [0.2222222222222222, \"#7201a8\"], [0.3333333333333333, \"#9c179e\"], [0.4444444444444444, \"#bd3786\"], [0.5555555555555556, \"#d8576b\"], [0.6666666666666666, \"#ed7953\"], [0.7777777777777778, \"#fb9f3a\"], [0.8888888888888888, \"#fdca26\"], [1.0, \"#f0f921\"]], \"type\": \"surface\"}], \"table\": [{\"cells\": {\"fill\": {\"color\": \"#EBF0F8\"}, \"line\": {\"color\": \"white\"}}, \"header\": {\"fill\": {\"color\": \"#C8D4E3\"}, \"line\": {\"color\": \"white\"}}, \"type\": \"table\"}]}, \"layout\": {\"annotationdefaults\": {\"arrowcolor\": \"#2a3f5f\", \"arrowhead\": 0, \"arrowwidth\": 1}, \"coloraxis\": {\"colorbar\": {\"outlinewidth\": 0, \"ticks\": \"\"}}, \"colorscale\": {\"diverging\": [[0, \"#8e0152\"], [0.1, \"#c51b7d\"], [0.2, \"#de77ae\"], [0.3, \"#f1b6da\"], [0.4, \"#fde0ef\"], [0.5, \"#f7f7f7\"], [0.6, \"#e6f5d0\"], [0.7, \"#b8e186\"], [0.8, \"#7fbc41\"], [0.9, \"#4d9221\"], [1, \"#276419\"]], \"sequential\": [[0.0, \"#0d0887\"], [0.1111111111111111, \"#46039f\"], [0.2222222222222222, \"#7201a8\"], [0.3333333333333333, \"#9c179e\"], [0.4444444444444444, \"#bd3786\"], [0.5555555555555556, \"#d8576b\"], [0.6666666666666666, \"#ed7953\"], [0.7777777777777778, \"#fb9f3a\"], [0.8888888888888888, \"#fdca26\"], [1.0, \"#f0f921\"]], \"sequentialminus\": [[0.0, \"#0d0887\"], [0.1111111111111111, \"#46039f\"], [0.2222222222222222, \"#7201a8\"], [0.3333333333333333, \"#9c179e\"], [0.4444444444444444, \"#bd3786\"], [0.5555555555555556, \"#d8576b\"], [0.6666666666666666, \"#ed7953\"], [0.7777777777777778, \"#fb9f3a\"], [0.8888888888888888, \"#fdca26\"], [1.0, \"#f0f921\"]]}, \"colorway\": [\"#636efa\", \"#EF553B\", \"#00cc96\", \"#ab63fa\", \"#FFA15A\", \"#19d3f3\", \"#FF6692\", \"#B6E880\", \"#FF97FF\", \"#FECB52\"], \"font\": {\"color\": \"#2a3f5f\"}, \"geo\": {\"bgcolor\": \"white\", \"lakecolor\": \"white\", \"landcolor\": \"#E5ECF6\", \"showlakes\": true, \"showland\": true, \"subunitcolor\": \"white\"}, \"hoverlabel\": {\"align\": \"left\"}, \"hovermode\": \"closest\", \"mapbox\": {\"style\": \"light\"}, \"paper_bgcolor\": \"white\", \"plot_bgcolor\": \"#E5ECF6\", \"polar\": {\"angularaxis\": {\"gridcolor\": \"white\", \"linecolor\": \"white\", \"ticks\": \"\"}, \"bgcolor\": \"#E5ECF6\", \"radialaxis\": {\"gridcolor\": \"white\", \"linecolor\": \"white\", \"ticks\": \"\"}}, \"scene\": {\"xaxis\": {\"backgroundcolor\": \"#E5ECF6\", \"gridcolor\": \"white\", \"gridwidth\": 2, \"linecolor\": \"white\", \"showbackground\": true, \"ticks\": \"\", \"zerolinecolor\": \"white\"}, \"yaxis\": {\"backgroundcolor\": \"#E5ECF6\", \"gridcolor\": \"white\", \"gridwidth\": 2, \"linecolor\": \"white\", \"showbackground\": true, \"ticks\": \"\", \"zerolinecolor\": \"white\"}, \"zaxis\": {\"backgroundcolor\": \"#E5ECF6\", \"gridcolor\": \"white\", \"gridwidth\": 2, \"linecolor\": \"white\", \"showbackground\": true, \"ticks\": \"\", \"zerolinecolor\": \"white\"}}, \"shapedefaults\": {\"line\": {\"color\": \"#2a3f5f\"}}, \"ternary\": {\"aaxis\": {\"gridcolor\": \"white\", \"linecolor\": \"white\", \"ticks\": \"\"}, \"baxis\": {\"gridcolor\": \"white\", \"linecolor\": \"white\", \"ticks\": \"\"}, \"bgcolor\": \"#E5ECF6\", \"caxis\": {\"gridcolor\": \"white\", \"linecolor\": \"white\", \"ticks\": \"\"}}, \"title\": {\"x\": 0.05}, \"xaxis\": {\"automargin\": true, \"gridcolor\": \"white\", \"linecolor\": \"white\", \"ticks\": \"\", \"title\": {\"standoff\": 15}, \"zerolinecolor\": \"white\", \"zerolinewidth\": 2}, \"yaxis\": {\"automargin\": true, \"gridcolor\": \"white\", \"linecolor\": \"white\", \"ticks\": \"\", \"title\": {\"standoff\": 15}, \"zerolinecolor\": \"white\", \"zerolinewidth\": 2}}}, \"title\": {\"text\": \"Cumulative Earnings with $100 bets\"}, \"yaxis\": {\"title\": {\"text\": \"Money Earned ($)\"}}},\n",
              "                        {\"responsive\": true}\n",
              "                    ).then(function(){\n",
              "                            \n",
              "var gd = document.getElementById('f2eab3c5-d28b-4a62-b056-e54da29878a5');\n",
              "var x = new MutationObserver(function (mutations, observer) {{\n",
              "        var display = window.getComputedStyle(gd).display;\n",
              "        if (!display || display === 'none') {{\n",
              "            console.log([gd, 'removed!']);\n",
              "            Plotly.purge(gd);\n",
              "            observer.disconnect();\n",
              "        }}\n",
              "}});\n",
              "\n",
              "// Listen for the removal of the full notebook cells\n",
              "var notebookContainer = gd.closest('#notebook-container');\n",
              "if (notebookContainer) {{\n",
              "    x.observe(notebookContainer, {childList: true});\n",
              "}}\n",
              "\n",
              "// Listen for the clearing of the current output cell\n",
              "var outputEl = gd.closest('.output');\n",
              "if (outputEl) {{\n",
              "    x.observe(outputEl, {childList: true});\n",
              "}}\n",
              "\n",
              "                        })\n",
              "                };\n",
              "                \n",
              "            </script>\n",
              "        </div>\n",
              "</body>\n",
              "</html>"
            ]
          },
          "metadata": {
            "tags": []
          }
        }
      ]
    },
    {
      "cell_type": "code",
      "metadata": {
        "id": "qn8_7GXMi1PX",
        "colab_type": "code",
        "outputId": "5911ada6-fed6-4263-d02a-735262f2cc0b",
        "colab": {
          "base_uri": "https://localhost:8080/",
          "height": 542
        }
      },
      "source": [
        "fig = px.scatter(nba_test, x=\"date\", y=\"cumTotalWon\", color=\"cumTotalWon\",\n",
        "                 title=\"Cumulative Earnings with $100 bets\",\n",
        "                 color_continuous_scale=[\"red\",'black', \"green\"])\n",
        "fig.update_layout(yaxis_title='Money Earned ($)',xaxis_title='2019-20 NBA Season')\n",
        "fig.update_layout(coloraxis_showscale=False)\n",
        "fig.update_layout(template='plotly_white')\n",
        "fig.update_xaxes(zeroline=True)\n",
        "fig.update_yaxes(zeroline=True, zerolinewidth=2, zerolinecolor='black')"
      ],
      "execution_count": 0,
      "outputs": [
        {
          "output_type": "display_data",
          "data": {
            "text/html": [
              "<html>\n",
              "<head><meta charset=\"utf-8\" /></head>\n",
              "<body>\n",
              "    <div>\n",
              "            <script src=\"https://cdnjs.cloudflare.com/ajax/libs/mathjax/2.7.5/MathJax.js?config=TeX-AMS-MML_SVG\"></script><script type=\"text/javascript\">if (window.MathJax) {MathJax.Hub.Config({SVG: {font: \"STIX-Web\"}});}</script>\n",
              "                <script type=\"text/javascript\">window.PlotlyConfig = {MathJaxConfig: 'local'};</script>\n",
              "        <script src=\"https://cdn.plot.ly/plotly-latest.min.js\"></script>    \n",
              "            <div id=\"d8c25296-96d9-4545-baab-1224df66001d\" class=\"plotly-graph-div\" style=\"height:525px; width:100%;\"></div>\n",
              "            <script type=\"text/javascript\">\n",
              "                \n",
              "                    window.PLOTLYENV=window.PLOTLYENV || {};\n",
              "                    \n",
              "                if (document.getElementById(\"d8c25296-96d9-4545-baab-1224df66001d\")) {\n",
              "                    Plotly.newPlot(\n",
              "                        'd8c25296-96d9-4545-baab-1224df66001d',\n",
              "                        [{\"hoverlabel\": {\"namelength\": 0}, \"hovertemplate\": \"date=%{x}<br>cumTotalWon=%{marker.color}\", \"legendgroup\": \"\", \"marker\": {\"color\": [39, 94, 144, 202, 102, 143, 233, 133, 165, 225, 291, 191, 91, 119, 185, 217, 258, 158, 58, -42, -142, -104, -81, -7, 107, 7, -93, -13, 28, 39, -61, -161, -261, -361, -461, -561, -495, -595, -440, -415, -395, -495, -595, -695, -795, -712, -687, -674, -774, -874, -841, -809, -909, -1009, -987, -1087, -1011, -1111, -1211, -1183, -1283, -1123, -1223, -1194, -1294, -1262, -1224, -1208, -1308, -1108, -968, -900, -1000, -1100, -1200, -1180, -1150, -1036, -886, -986, -1086, -1080, -1180, -1118, -1077, -1177, -1277, -1377, -1477, -1445, -1420, -1379, -1479, -1454, -1079, -1065, -1165, -1103, -1039, -1025, -973, -878, -872, -792, -759, -739, -673, -662, -596, -486, -478, -343, -443, -543, -528, -481, -444, -397, -347, -314, -312, -272, -242, -166, 59, 95, 122, 130, 300, 364, 404, 445, 459, 359, 259, 159, 273, 325, 359, 442, 342, 242, 142, 162, 176, 199, 249, 354, 434, 334, 359, 509, 409, 309, 341, 431, 467, 473, 503, 523, 758, 826, 956, 972, 1122, 1136, 1036, 1050, 950, 980, 993, 893, 793, 693, 767, 800, 700, 706, 712, 750, 905, 805, 705, 605, 505, 1155, 1055, 955, 983, 1059, 1097, 997, 1019, 1022, 1067, 1247, 1147, 1261, 1161, 1061, 1321, 1221, 1311, 1211, 1254, 1154, 1225, 1266, 1286, 1366, 1471, 1516, 1621, 1776, 1676, 1576, 1476, 1376, 1276, 1342, 1394, 1294, 1194, 1246, 1304, 1354, 1254, 1276, 1289, 1334, 1348, 1360, 1515, 1415, 1315, 1330, 1362, 1428, 1328, 1228, 1235, 1135, 1035, 935, 835, 845, 935, 997, 897, 797, 820, 865, 885, 785, 821, 721, 621, 704, 726, 626, 649, 549, 629, 695, 595, 625, 525, 1125, 1162, 1062, 1071, 1112, 1162, 1062, 1094, 994, 1001, 1136, 1036, 1074, 974, 1054, 1060, 960, 860, 871, 1016, 1030, 930, 942, 842, 962, 977, 1102, 1002, 1043, 943, 951, 851, 751, 757, 831, 907, 942, 1010, 1086, 1106, 1006, 906, 806, 706, 726, 626, 661, 841, 741, 641, 663, 563, 576, 476, 376, 394, 460, 360, 418, 318, 347, 380, 280, 394, 402, 411, 311, 346, 378, 388, 288, 188, 88, -12, 98, 134, 220, 260, 160, 60, -40, 10, 81, -19, 18, -82, -182, -62, 68, 122, 22, 49, -51, 164, 64, 105, 133, 140, 40, 185, 85, -15, -115, -99, -199, -185, -165, 115, 15, 52, 281, 181, 222, 342, 387, 287, 187, 87, 155, 55, -45, -23, 147, 47, -53, -33, 492, 517, 552, 616, 516, 551, 564, 464, 364, 366, 516, 416, 474, 374, 401, 487, 497, 542, 608, 508, 408, 423, 475, 491, 391, 424, 324, 224, 124, 219, 119, 19, -81, 369, 269, 327, 227, 127, 27, 45, 50, 93, 333, 363, 400, 425, 480, 525, 554, 570, 470, 370, 270, 170, 176, 228, 457, 357, 384, 634, 705, 860, 866, 766, 828, 848, 854, 754, 844, 744, 834, 734, 829, 943, 949, 849, 749, 807, 707, 718, 813, 713, 779, 679, 824, 842, 1142, 1042, 1085, 985, 1023, 1297, 1325, 1225, 1125, 1145, 1234, 1310, 1316, 1216, 1235, 1135, 1305, 1205, 1234, 1240, 1140, 1144, 1044, 944, 953, 853, 753, 653, 728, 628, 658, 558, 616, 632, 646, 546, 620, 647, 547, 569, 655, 682, 582, 598, 498, 668, 683, 711, 611, 751, 651, 692, 592, 629, 651, 737, 637, 659, 559, 459, 359, 259, 159, 59, 123, 127, 27, -73, -43, -143, -243, -123, -223, -323, -233, -128, -106, -88, -72, 68, 81, -19, 67, 107, 147, 47, -53, -153, -146, -66, -29, 45, -55, -155, -132, -107, -207, -37, -137, -237, -132, 53, 100, 186, 257, 331, 231, 302, 202, 102, 160, 60, -40, -140, -240, -197, -297, -214, -314, -414, -334, -220, -208, -200, -192, -292, -269, -198, -298, -227, -37, 173, 181, 199, 329, 229, 284, 325, 380, 280, 180, 80, -20, 70, 170, 70, 120, 20, 35, 106, 6, 39, 62, 172, 72, 117, 127, 143, 181, 255, 155, 55, 235, 135, 155, 226, 312, 212, 266, 166, 180, 216, 116, 152, 322, 452, 488, 388, 396, 296, 196, 237, 137, 157, 302, 364, 377, 477, 487, 528, 648, 548, 568, 468, 530, 430, 436, 611, 511, 536, 436, 556, 593, 643, 683, 808, 888, 902, 947, 1015, 1105, 1138, 1038, 1071, 971, 980, 996, 1021, 1048, 948, 1014, 914, 1014, 1072, 972, 872, 897, 965, 865, 927, 827, 957, 992, 1025, 925, 825, 975, 875, 775, 815, 975, 1011, 1116, 1016, 1043, 1077, 1153, 1205, 1105, 1005, 905, 1109, 1009, 1075, 975, 875, 884, 905, 805, 705, 711, 727, 757, 802, 845, 745, 645, 545, 553, 563, 463, 488, 388, 395, 422, 430, 461, 473, 502, 535, 435, 506, 620, 520, 420, 320, 220, 275, 455, 560, 576, 594, 621, 651, 771, 671, 571, 471, 371, 381, 281, 181, 81, -19, 57, 147, 47, -53, -23, 48, -52, -152, -144, -244, -212, -207, -169, -269, -251, -351, -451, -436, -261, 164, 64, 135, 364, 264, 164, 174, 74, -26, 32, 73, -27, 31, 66, 91, -9, 5, -95, -70, -170, -152, -130, -230, -45, 60, 131, 205, 105, 185, 253, 333, 373, 513, 413, 713, 613, 638, 538, 575, 475, 704, 739, 639, 864, 1164, 1294, 1194, 1237, 1462, 1512, 1412], \"coloraxis\": \"coloraxis\", \"symbol\": \"circle\"}, \"mode\": \"markers\", \"name\": \"\", \"showlegend\": false, \"type\": \"scatter\", \"x\": [\"2019-11-02\", \"2019-11-02\", \"2019-11-03\", \"2019-11-04\", \"2019-11-04\", \"2019-11-04\", \"2019-11-04\", \"2019-11-06\", \"2019-11-06\", \"2019-11-06\", \"2019-11-06\", \"2019-11-06\", \"2019-11-06\", \"2019-11-06\", \"2019-11-06\", \"2019-11-07\", \"2019-11-07\", \"2019-11-07\", \"2019-11-08\", \"2019-11-08\", \"2019-11-08\", \"2019-11-08\", \"2019-11-08\", \"2019-11-08\", \"2019-11-08\", \"2019-11-08\", \"2019-11-09\", \"2019-11-09\", \"2019-11-09\", \"2019-11-09\", \"2019-11-09\", \"2019-11-10\", \"2019-11-10\", \"2019-11-10\", \"2019-11-10\", \"2019-11-10\", \"2019-11-10\", \"2019-11-11\", \"2019-11-11\", \"2019-11-11\", \"2019-11-11\", \"2019-11-11\", \"2019-11-11\", \"2019-11-12\", \"2019-11-12\", \"2019-11-12\", \"2019-11-12\", \"2019-11-12\", \"2019-11-12\", \"2019-11-12\", \"2019-11-12\", \"2019-11-13\", \"2019-11-13\", \"2019-11-13\", \"2019-11-13\", \"2019-11-13\", \"2019-11-13\", \"2019-11-13\", \"2019-11-14\", \"2019-11-14\", \"2019-11-14\", \"2019-11-14\", \"2019-11-14\", \"2019-11-14\", \"2019-11-15\", \"2019-11-15\", \"2019-11-15\", \"2019-11-15\", \"2019-11-15\", \"2019-11-15\", \"2019-11-15\", \"2019-11-15\", \"2019-11-16\", \"2019-11-16\", \"2019-11-16\", \"2019-11-16\", \"2019-11-16\", \"2019-11-16\", \"2019-11-16\", \"2019-11-16\", \"2019-11-17\", \"2019-11-17\", \"2019-11-17\", \"2019-11-17\", \"2019-11-17\", \"2019-11-17\", \"2019-11-18\", \"2019-11-18\", \"2019-11-18\", \"2019-11-18\", \"2019-11-18\", \"2019-11-18\", \"2019-11-18\", \"2019-11-18\", \"2019-11-18\", \"2019-11-19\", \"2019-11-19\", \"2019-11-19\", \"2019-11-19\", \"2019-11-20\", \"2019-11-20\", \"2019-11-20\", \"2019-11-20\", \"2019-11-20\", \"2019-11-20\", \"2019-11-20\", \"2019-11-20\", \"2019-11-20\", \"2019-11-20\", \"2019-11-20\", \"2019-11-21\", \"2019-11-21\", \"2019-11-22\", \"2019-11-22\", \"2019-11-22\", \"2019-11-22\", \"2019-11-22\", \"2019-11-22\", \"2019-11-22\", \"2019-11-22\", \"2019-11-22\", \"2019-11-22\", \"2019-11-23\", \"2019-11-23\", \"2019-11-23\", \"2019-11-23\", \"2019-11-23\", \"2019-11-23\", \"2019-11-23\", \"2019-11-23\", \"2019-11-23\", \"2019-11-23\", \"2019-11-24\", \"2019-11-24\", \"2019-11-24\", \"2019-11-24\", \"2019-11-24\", \"2019-11-25\", \"2019-11-25\", \"2019-11-25\", \"2019-11-25\", \"2019-11-25\", \"2019-11-25\", \"2019-11-25\", \"2019-11-25\", \"2019-11-25\", \"2019-11-25\", \"2019-11-25\", \"2019-11-26\", \"2019-11-26\", \"2019-11-27\", \"2019-11-27\", \"2019-11-27\", \"2019-11-27\", \"2019-11-27\", \"2019-11-27\", \"2019-11-27\", \"2019-11-27\", \"2019-11-27\", \"2019-11-27\", \"2019-11-27\", \"2019-11-27\", \"2019-11-27\", \"2019-11-27\", \"2019-11-29\", \"2019-11-29\", \"2019-11-29\", \"2019-11-29\", \"2019-11-29\", \"2019-11-29\", \"2019-11-29\", \"2019-11-29\", \"2019-11-29\", \"2019-11-29\", \"2019-11-29\", \"2019-11-29\", \"2019-11-29\", \"2019-11-30\", \"2019-11-30\", \"2019-11-30\", \"2019-11-30\", \"2019-12-01\", \"2019-12-01\", \"2019-12-01\", \"2019-12-01\", \"2019-12-01\", \"2019-12-01\", \"2019-12-01\", \"2019-12-01\", \"2019-12-01\", \"2019-12-02\", \"2019-12-02\", \"2019-12-02\", \"2019-12-02\", \"2019-12-02\", \"2019-12-02\", \"2019-12-03\", \"2019-12-03\", \"2019-12-03\", \"2019-12-03\", \"2019-12-03\", \"2019-12-03\", \"2019-12-03\", \"2019-12-04\", \"2019-12-04\", \"2019-12-04\", \"2019-12-04\", \"2019-12-04\", \"2019-12-04\", \"2019-12-04\", \"2019-12-04\", \"2019-12-04\", \"2019-12-04\", \"2019-12-05\", \"2019-12-05\", \"2019-12-05\", \"2019-12-05\", \"2019-12-06\", \"2019-12-06\", \"2019-12-06\", \"2019-12-06\", \"2019-12-06\", \"2019-12-06\", \"2019-12-06\", \"2019-12-06\", \"2019-12-06\", \"2019-12-06\", \"2019-12-07\", \"2019-12-07\", \"2019-12-07\", \"2019-12-07\", \"2019-12-07\", \"2019-12-08\", \"2019-12-08\", \"2019-12-08\", \"2019-12-08\", \"2019-12-08\", \"2019-12-08\", \"2019-12-08\", \"2019-12-08\", \"2019-12-09\", \"2019-12-09\", \"2019-12-09\", \"2019-12-09\", \"2019-12-09\", \"2019-12-09\", \"2019-12-09\", \"2019-12-09\", \"2019-12-09\", \"2019-12-10\", \"2019-12-10\", \"2019-12-10\", \"2019-12-10\", \"2019-12-11\", \"2019-12-11\", \"2019-12-11\", \"2019-12-11\", \"2019-12-11\", \"2019-12-11\", \"2019-12-11\", \"2019-12-11\", \"2019-12-11\", \"2019-12-11\", \"2019-12-11\", \"2019-12-12\", \"2019-12-12\", \"2019-12-12\", \"2019-12-12\", \"2019-12-13\", \"2019-12-13\", \"2019-12-13\", \"2019-12-13\", \"2019-12-13\", \"2019-12-13\", \"2019-12-13\", \"2019-12-13\", \"2019-12-13\", \"2019-12-14\", \"2019-12-14\", \"2019-12-14\", \"2019-12-14\", \"2019-12-14\", \"2019-12-14\", \"2019-12-14\", \"2019-12-14\", \"2019-12-15\", \"2019-12-15\", \"2019-12-15\", \"2019-12-15\", \"2019-12-15\", \"2019-12-15\", \"2019-12-16\", \"2019-12-16\", \"2019-12-16\", \"2019-12-16\", \"2019-12-16\", \"2019-12-16\", \"2019-12-16\", \"2019-12-17\", \"2019-12-17\", \"2019-12-17\", \"2019-12-17\", \"2019-12-17\", \"2019-12-17\", \"2019-12-18\", \"2019-12-18\", \"2019-12-18\", \"2019-12-18\", \"2019-12-18\", \"2019-12-18\", \"2019-12-18\", \"2019-12-18\", \"2019-12-18\", \"2019-12-19\", \"2019-12-19\", \"2019-12-19\", \"2019-12-19\", \"2019-12-20\", \"2019-12-20\", \"2019-12-20\", \"2019-12-20\", \"2019-12-20\", \"2019-12-20\", \"2019-12-20\", \"2019-12-20\", \"2019-12-20\", \"2019-12-20\", \"2019-12-21\", \"2019-12-21\", \"2019-12-21\", \"2019-12-21\", \"2019-12-21\", \"2019-12-21\", \"2019-12-21\", \"2019-12-21\", \"2019-12-21\", \"2019-12-22\", \"2019-12-22\", \"2019-12-22\", \"2019-12-22\", \"2019-12-22\", \"2019-12-23\", \"2019-12-23\", \"2019-12-23\", \"2019-12-23\", \"2019-12-23\", \"2019-12-23\", \"2019-12-23\", \"2019-12-23\", \"2019-12-23\", \"2019-12-23\", \"2019-12-23\", \"2019-12-25\", \"2019-12-25\", \"2019-12-25\", \"2019-12-25\", \"2019-12-25\", \"2019-12-26\", \"2019-12-26\", \"2019-12-26\", \"2019-12-26\", \"2019-12-26\", \"2019-12-26\", \"2019-12-27\", \"2019-12-27\", \"2019-12-27\", \"2019-12-27\", \"2019-12-27\", \"2019-12-27\", \"2019-12-28\", \"2019-12-28\", \"2019-12-28\", \"2019-12-28\", \"2019-12-28\", \"2019-12-28\", \"2019-12-28\", \"2019-12-28\", \"2019-12-28\", \"2019-12-28\", \"2019-12-28\", \"2019-12-28\", \"2019-12-28\", \"2019-12-28\", \"2019-12-29\", \"2019-12-29\", \"2019-12-29\", \"2019-12-29\", \"2019-12-29\", \"2019-12-30\", \"2019-12-30\", \"2019-12-30\", \"2019-12-30\", \"2019-12-30\", \"2019-12-30\", \"2019-12-31\", \"2019-12-31\", \"2019-12-31\", \"2019-12-31\", \"2019-12-31\", \"2019-12-31\", \"2019-12-31\", \"2020-01-01\", \"2020-01-01\", \"2020-01-01\", \"2020-01-01\", \"2020-01-02\", \"2020-01-02\", \"2020-01-02\", \"2020-01-02\", \"2020-01-02\", \"2020-01-02\", \"2020-01-02\", \"2020-01-02\", \"2020-01-02\", \"2020-01-03\", \"2020-01-03\", \"2020-01-03\", \"2020-01-03\", \"2020-01-03\", \"2020-01-03\", \"2020-01-04\", \"2020-01-04\", \"2020-01-04\", \"2020-01-04\", \"2020-01-04\", \"2020-01-04\", \"2020-01-04\", \"2020-01-04\", \"2020-01-04\", \"2020-01-04\", \"2020-01-04\", \"2020-01-05\", \"2020-01-05\", \"2020-01-05\", \"2020-01-05\", \"2020-01-05\", \"2020-01-06\", \"2020-01-06\", \"2020-01-06\", \"2020-01-06\", \"2020-01-06\", \"2020-01-06\", \"2020-01-06\", \"2020-01-06\", \"2020-01-06\", \"2020-01-07\", \"2020-01-07\", \"2020-01-07\", \"2020-01-07\", \"2020-01-07\", \"2020-01-07\", \"2020-01-08\", \"2020-01-08\", \"2020-01-08\", \"2020-01-08\", \"2020-01-08\", \"2020-01-08\", \"2020-01-08\", \"2020-01-08\", \"2020-01-08\", \"2020-01-09\", \"2020-01-09\", \"2020-01-09\", \"2020-01-09\", \"2020-01-10\", \"2020-01-10\", \"2020-01-10\", \"2020-01-10\", \"2020-01-10\", \"2020-01-10\", \"2020-01-10\", \"2020-01-10\", \"2020-01-10\", \"2020-01-10\", \"2020-01-11\", \"2020-01-11\", \"2020-01-11\", \"2020-01-11\", \"2020-01-11\", \"2020-01-11\", \"2020-01-11\", \"2020-01-12\", \"2020-01-12\", \"2020-01-12\", \"2020-01-12\", \"2020-01-12\", \"2020-01-12\", \"2020-01-12\", \"2020-01-13\", \"2020-01-13\", \"2020-01-13\", \"2020-01-13\", \"2020-01-13\", \"2020-01-13\", \"2020-01-13\", \"2020-01-14\", \"2020-01-14\", \"2020-01-14\", \"2020-01-14\", \"2020-01-14\", \"2020-01-14\", \"2020-01-15\", \"2020-01-15\", \"2020-01-15\", \"2020-01-15\", \"2020-01-15\", \"2020-01-15\", \"2020-01-15\", \"2020-01-15\", \"2020-01-15\", \"2020-01-15\", \"2020-01-16\", \"2020-01-16\", \"2020-01-16\", \"2020-01-16\", \"2020-01-16\", \"2020-01-17\", \"2020-01-17\", \"2020-01-17\", \"2020-01-17\", \"2020-01-17\", \"2020-01-17\", \"2020-01-17\", \"2020-01-18\", \"2020-01-18\", \"2020-01-18\", \"2020-01-18\", \"2020-01-18\", \"2020-01-18\", \"2020-01-18\", \"2020-01-18\", \"2020-01-18\", \"2020-01-18\", \"2020-01-18\", \"2020-01-19\", \"2020-01-19\", \"2020-01-20\", \"2020-01-20\", \"2020-01-20\", \"2020-01-20\", \"2020-01-20\", \"2020-01-20\", \"2020-01-20\", \"2020-01-20\", \"2020-01-20\", \"2020-01-20\", \"2020-01-20\", \"2020-01-20\", \"2020-01-20\", \"2020-01-20\", \"2020-01-21\", \"2020-01-22\", \"2020-01-22\", \"2020-01-22\", \"2020-01-22\", \"2020-01-22\", \"2020-01-22\", \"2020-01-22\", \"2020-01-22\", \"2020-01-22\", \"2020-01-22\", \"2020-01-22\", \"2020-01-22\", \"2020-01-23\", \"2020-01-23\", \"2020-01-23\", \"2020-01-24\", \"2020-01-24\", \"2020-01-24\", \"2020-01-24\", \"2020-01-24\", \"2020-01-24\", \"2020-01-24\", \"2020-01-24\", \"2020-01-24\", \"2020-01-24\", \"2020-01-24\", \"2020-01-25\", \"2020-01-25\", \"2020-01-25\", \"2020-01-25\", \"2020-01-25\", \"2020-01-26\", \"2020-01-26\", \"2020-01-26\", \"2020-01-26\", \"2020-01-26\", \"2020-01-26\", \"2020-01-26\", \"2020-01-26\", \"2020-01-27\", \"2020-01-27\", \"2020-01-27\", \"2020-01-27\", \"2020-01-27\", \"2020-01-27\", \"2020-01-28\", \"2020-01-28\", \"2020-01-28\", \"2020-01-28\", \"2020-01-28\", \"2020-01-28\", \"2020-01-28\", \"2020-01-28\", \"2020-01-29\", \"2020-01-29\", \"2020-01-29\", \"2020-01-29\", \"2020-01-29\", \"2020-01-29\", \"2020-01-30\", \"2020-01-30\", \"2020-01-30\", \"2020-01-30\", \"2020-01-30\", \"2020-01-30\", \"2020-01-31\", \"2020-01-31\", \"2020-01-31\", \"2020-01-31\", \"2020-01-31\", \"2020-01-31\", \"2020-01-31\", \"2020-02-01\", \"2020-02-01\", \"2020-02-01\", \"2020-02-01\", \"2020-02-01\", \"2020-02-01\", \"2020-02-01\", \"2020-02-01\", \"2020-02-01\", \"2020-02-01\", \"2020-02-02\", \"2020-02-02\", \"2020-02-02\", \"2020-02-02\", \"2020-02-03\", \"2020-02-03\", \"2020-02-03\", \"2020-02-03\", \"2020-02-03\", \"2020-02-03\", \"2020-02-03\", \"2020-02-03\", \"2020-02-03\", \"2020-02-03\", \"2020-02-04\", \"2020-02-04\", \"2020-02-04\", \"2020-02-04\", \"2020-02-05\", \"2020-02-05\", \"2020-02-05\", \"2020-02-05\", \"2020-02-05\", \"2020-02-05\", \"2020-02-05\", \"2020-02-05\", \"2020-02-05\", \"2020-02-06\", \"2020-02-06\", \"2020-02-06\", \"2020-02-06\", \"2020-02-06\", \"2020-02-07\", \"2020-02-07\", \"2020-02-07\", \"2020-02-07\", \"2020-02-07\", \"2020-02-07\", \"2020-02-07\", \"2020-02-07\", \"2020-02-08\", \"2020-02-08\", \"2020-02-08\", \"2020-02-08\", \"2020-02-08\", \"2020-02-08\", \"2020-02-08\", \"2020-02-08\", \"2020-02-08\", \"2020-02-09\", \"2020-02-09\", \"2020-02-09\", \"2020-02-09\", \"2020-02-09\", \"2020-02-09\", \"2020-02-09\", \"2020-02-10\", \"2020-02-10\", \"2020-02-10\", \"2020-02-10\", \"2020-02-10\", \"2020-02-10\", \"2020-02-10\", \"2020-02-10\", \"2020-02-10\", \"2020-02-11\", \"2020-02-11\", \"2020-02-11\", \"2020-02-11\", \"2020-02-11\", \"2020-02-12\", \"2020-02-12\", \"2020-02-12\", \"2020-02-12\", \"2020-02-12\", \"2020-02-12\", \"2020-02-12\", \"2020-02-12\", \"2020-02-12\", \"2020-02-12\", \"2020-02-12\", \"2020-02-13\", \"2020-02-13\", \"2020-02-20\", \"2020-02-20\", \"2020-02-20\", \"2020-02-20\", \"2020-02-20\", \"2020-02-20\", \"2020-02-21\", \"2020-02-21\", \"2020-02-21\", \"2020-02-21\", \"2020-02-21\", \"2020-02-21\", \"2020-02-21\", \"2020-02-21\", \"2020-02-21\", \"2020-02-22\", \"2020-02-22\", \"2020-02-22\", \"2020-02-22\", \"2020-02-22\", \"2020-02-22\", \"2020-02-22\", \"2020-02-23\", \"2020-02-23\", \"2020-02-23\", \"2020-02-23\", \"2020-02-23\", \"2020-02-23\", \"2020-02-23\", \"2020-02-24\", \"2020-02-24\", \"2020-02-24\", \"2020-02-24\", \"2020-02-24\", \"2020-02-24\", \"2020-02-24\", \"2020-02-24\", \"2020-02-25\", \"2020-02-25\", \"2020-02-25\", \"2020-02-25\", \"2020-02-25\", \"2020-02-25\", \"2020-02-25\", \"2020-02-26\", \"2020-02-26\", \"2020-02-26\", \"2020-02-26\", \"2020-02-26\", \"2020-02-26\", \"2020-02-26\", \"2020-02-26\", \"2020-02-26\", \"2020-02-27\", \"2020-02-27\", \"2020-02-27\", \"2020-02-27\", \"2020-02-28\", \"2020-02-28\", \"2020-02-28\", \"2020-02-28\", \"2020-02-28\", \"2020-02-28\", \"2020-02-28\", \"2020-02-28\", \"2020-02-28\", \"2020-02-28\", \"2020-02-29\", \"2020-02-29\", \"2020-02-29\", \"2020-02-29\", \"2020-02-29\", \"2020-02-29\", \"2020-02-29\", \"2020-02-29\", \"2020-03-01\", \"2020-03-01\", \"2020-03-01\", \"2020-03-01\", \"2020-03-01\", \"2020-03-01\", \"2020-03-01\", \"2020-03-02\", \"2020-03-02\", \"2020-03-02\", \"2020-03-02\", \"2020-03-02\", \"2020-03-02\", \"2020-03-02\", \"2020-03-03\", \"2020-03-03\", \"2020-03-03\", \"2020-03-03\", \"2020-03-03\", \"2020-03-03\", \"2020-03-03\", \"2020-03-03\", \"2020-03-04\", \"2020-03-04\", \"2020-03-04\", \"2020-03-04\", \"2020-03-04\", \"2020-03-04\", \"2020-03-04\", \"2020-03-04\", \"2020-03-04\", \"2020-03-05\", \"2020-03-05\", \"2020-03-05\", \"2020-03-05\", \"2020-03-06\", \"2020-03-06\", \"2020-03-06\", \"2020-03-06\", \"2020-03-06\", \"2020-03-06\", \"2020-03-06\", \"2020-03-06\", \"2020-03-06\", \"2020-03-06\", \"2020-03-07\", \"2020-03-07\", \"2020-03-07\", \"2020-03-07\", \"2020-03-07\", \"2020-03-07\", \"2020-03-08\", \"2020-03-08\", \"2020-03-08\", \"2020-03-08\", \"2020-03-08\", \"2020-03-08\", \"2020-03-08\", \"2020-03-08\", \"2020-03-08\", \"2020-03-08\", \"2020-03-08\"], \"xaxis\": \"x\", \"y\": [39, 94, 144, 202, 102, 143, 233, 133, 165, 225, 291, 191, 91, 119, 185, 217, 258, 158, 58, -42, -142, -104, -81, -7, 107, 7, -93, -13, 28, 39, -61, -161, -261, -361, -461, -561, -495, -595, -440, -415, -395, -495, -595, -695, -795, -712, -687, -674, -774, -874, -841, -809, -909, -1009, -987, -1087, -1011, -1111, -1211, -1183, -1283, -1123, -1223, -1194, -1294, -1262, -1224, -1208, -1308, -1108, -968, -900, -1000, -1100, -1200, -1180, -1150, -1036, -886, -986, -1086, -1080, -1180, -1118, -1077, -1177, -1277, -1377, -1477, -1445, -1420, -1379, -1479, -1454, -1079, -1065, -1165, -1103, -1039, -1025, -973, -878, -872, -792, -759, -739, -673, -662, -596, -486, -478, -343, -443, -543, -528, -481, -444, -397, -347, -314, -312, -272, -242, -166, 59, 95, 122, 130, 300, 364, 404, 445, 459, 359, 259, 159, 273, 325, 359, 442, 342, 242, 142, 162, 176, 199, 249, 354, 434, 334, 359, 509, 409, 309, 341, 431, 467, 473, 503, 523, 758, 826, 956, 972, 1122, 1136, 1036, 1050, 950, 980, 993, 893, 793, 693, 767, 800, 700, 706, 712, 750, 905, 805, 705, 605, 505, 1155, 1055, 955, 983, 1059, 1097, 997, 1019, 1022, 1067, 1247, 1147, 1261, 1161, 1061, 1321, 1221, 1311, 1211, 1254, 1154, 1225, 1266, 1286, 1366, 1471, 1516, 1621, 1776, 1676, 1576, 1476, 1376, 1276, 1342, 1394, 1294, 1194, 1246, 1304, 1354, 1254, 1276, 1289, 1334, 1348, 1360, 1515, 1415, 1315, 1330, 1362, 1428, 1328, 1228, 1235, 1135, 1035, 935, 835, 845, 935, 997, 897, 797, 820, 865, 885, 785, 821, 721, 621, 704, 726, 626, 649, 549, 629, 695, 595, 625, 525, 1125, 1162, 1062, 1071, 1112, 1162, 1062, 1094, 994, 1001, 1136, 1036, 1074, 974, 1054, 1060, 960, 860, 871, 1016, 1030, 930, 942, 842, 962, 977, 1102, 1002, 1043, 943, 951, 851, 751, 757, 831, 907, 942, 1010, 1086, 1106, 1006, 906, 806, 706, 726, 626, 661, 841, 741, 641, 663, 563, 576, 476, 376, 394, 460, 360, 418, 318, 347, 380, 280, 394, 402, 411, 311, 346, 378, 388, 288, 188, 88, -12, 98, 134, 220, 260, 160, 60, -40, 10, 81, -19, 18, -82, -182, -62, 68, 122, 22, 49, -51, 164, 64, 105, 133, 140, 40, 185, 85, -15, -115, -99, -199, -185, -165, 115, 15, 52, 281, 181, 222, 342, 387, 287, 187, 87, 155, 55, -45, -23, 147, 47, -53, -33, 492, 517, 552, 616, 516, 551, 564, 464, 364, 366, 516, 416, 474, 374, 401, 487, 497, 542, 608, 508, 408, 423, 475, 491, 391, 424, 324, 224, 124, 219, 119, 19, -81, 369, 269, 327, 227, 127, 27, 45, 50, 93, 333, 363, 400, 425, 480, 525, 554, 570, 470, 370, 270, 170, 176, 228, 457, 357, 384, 634, 705, 860, 866, 766, 828, 848, 854, 754, 844, 744, 834, 734, 829, 943, 949, 849, 749, 807, 707, 718, 813, 713, 779, 679, 824, 842, 1142, 1042, 1085, 985, 1023, 1297, 1325, 1225, 1125, 1145, 1234, 1310, 1316, 1216, 1235, 1135, 1305, 1205, 1234, 1240, 1140, 1144, 1044, 944, 953, 853, 753, 653, 728, 628, 658, 558, 616, 632, 646, 546, 620, 647, 547, 569, 655, 682, 582, 598, 498, 668, 683, 711, 611, 751, 651, 692, 592, 629, 651, 737, 637, 659, 559, 459, 359, 259, 159, 59, 123, 127, 27, -73, -43, -143, -243, -123, -223, -323, -233, -128, -106, -88, -72, 68, 81, -19, 67, 107, 147, 47, -53, -153, -146, -66, -29, 45, -55, -155, -132, -107, -207, -37, -137, -237, -132, 53, 100, 186, 257, 331, 231, 302, 202, 102, 160, 60, -40, -140, -240, -197, -297, -214, -314, -414, -334, -220, -208, -200, -192, -292, -269, -198, -298, -227, -37, 173, 181, 199, 329, 229, 284, 325, 380, 280, 180, 80, -20, 70, 170, 70, 120, 20, 35, 106, 6, 39, 62, 172, 72, 117, 127, 143, 181, 255, 155, 55, 235, 135, 155, 226, 312, 212, 266, 166, 180, 216, 116, 152, 322, 452, 488, 388, 396, 296, 196, 237, 137, 157, 302, 364, 377, 477, 487, 528, 648, 548, 568, 468, 530, 430, 436, 611, 511, 536, 436, 556, 593, 643, 683, 808, 888, 902, 947, 1015, 1105, 1138, 1038, 1071, 971, 980, 996, 1021, 1048, 948, 1014, 914, 1014, 1072, 972, 872, 897, 965, 865, 927, 827, 957, 992, 1025, 925, 825, 975, 875, 775, 815, 975, 1011, 1116, 1016, 1043, 1077, 1153, 1205, 1105, 1005, 905, 1109, 1009, 1075, 975, 875, 884, 905, 805, 705, 711, 727, 757, 802, 845, 745, 645, 545, 553, 563, 463, 488, 388, 395, 422, 430, 461, 473, 502, 535, 435, 506, 620, 520, 420, 320, 220, 275, 455, 560, 576, 594, 621, 651, 771, 671, 571, 471, 371, 381, 281, 181, 81, -19, 57, 147, 47, -53, -23, 48, -52, -152, -144, -244, -212, -207, -169, -269, -251, -351, -451, -436, -261, 164, 64, 135, 364, 264, 164, 174, 74, -26, 32, 73, -27, 31, 66, 91, -9, 5, -95, -70, -170, -152, -130, -230, -45, 60, 131, 205, 105, 185, 253, 333, 373, 513, 413, 713, 613, 638, 538, 575, 475, 704, 739, 639, 864, 1164, 1294, 1194, 1237, 1462, 1512, 1412], \"yaxis\": \"y\"}],\n",
              "                        {\"coloraxis\": {\"colorbar\": {\"title\": {\"text\": \"cumTotalWon\"}}, \"colorscale\": [[0.0, \"red\"], [0.5, \"black\"], [1.0, \"green\"]], \"showscale\": false}, \"legend\": {\"tracegroupgap\": 0}, \"template\": {\"data\": {\"bar\": [{\"error_x\": {\"color\": \"#2a3f5f\"}, \"error_y\": {\"color\": \"#2a3f5f\"}, \"marker\": {\"line\": {\"color\": \"white\", \"width\": 0.5}}, \"type\": \"bar\"}], \"barpolar\": [{\"marker\": {\"line\": {\"color\": \"white\", \"width\": 0.5}}, \"type\": \"barpolar\"}], \"carpet\": [{\"aaxis\": {\"endlinecolor\": \"#2a3f5f\", \"gridcolor\": \"#C8D4E3\", \"linecolor\": \"#C8D4E3\", \"minorgridcolor\": \"#C8D4E3\", \"startlinecolor\": \"#2a3f5f\"}, \"baxis\": {\"endlinecolor\": \"#2a3f5f\", \"gridcolor\": \"#C8D4E3\", \"linecolor\": \"#C8D4E3\", \"minorgridcolor\": \"#C8D4E3\", \"startlinecolor\": \"#2a3f5f\"}, \"type\": \"carpet\"}], \"choropleth\": [{\"colorbar\": {\"outlinewidth\": 0, \"ticks\": \"\"}, \"type\": \"choropleth\"}], \"contour\": [{\"colorbar\": {\"outlinewidth\": 0, \"ticks\": \"\"}, \"colorscale\": [[0.0, \"#0d0887\"], [0.1111111111111111, \"#46039f\"], [0.2222222222222222, \"#7201a8\"], [0.3333333333333333, \"#9c179e\"], [0.4444444444444444, \"#bd3786\"], [0.5555555555555556, \"#d8576b\"], [0.6666666666666666, \"#ed7953\"], [0.7777777777777778, \"#fb9f3a\"], [0.8888888888888888, \"#fdca26\"], [1.0, \"#f0f921\"]], \"type\": \"contour\"}], \"contourcarpet\": [{\"colorbar\": {\"outlinewidth\": 0, \"ticks\": \"\"}, \"type\": \"contourcarpet\"}], \"heatmap\": [{\"colorbar\": {\"outlinewidth\": 0, \"ticks\": \"\"}, \"colorscale\": [[0.0, \"#0d0887\"], [0.1111111111111111, \"#46039f\"], [0.2222222222222222, \"#7201a8\"], [0.3333333333333333, \"#9c179e\"], [0.4444444444444444, \"#bd3786\"], [0.5555555555555556, \"#d8576b\"], [0.6666666666666666, \"#ed7953\"], [0.7777777777777778, \"#fb9f3a\"], [0.8888888888888888, \"#fdca26\"], [1.0, \"#f0f921\"]], \"type\": \"heatmap\"}], \"heatmapgl\": [{\"colorbar\": {\"outlinewidth\": 0, \"ticks\": \"\"}, \"colorscale\": [[0.0, \"#0d0887\"], [0.1111111111111111, \"#46039f\"], [0.2222222222222222, \"#7201a8\"], [0.3333333333333333, \"#9c179e\"], [0.4444444444444444, \"#bd3786\"], [0.5555555555555556, \"#d8576b\"], [0.6666666666666666, \"#ed7953\"], [0.7777777777777778, \"#fb9f3a\"], [0.8888888888888888, \"#fdca26\"], [1.0, \"#f0f921\"]], \"type\": \"heatmapgl\"}], \"histogram\": [{\"marker\": {\"colorbar\": {\"outlinewidth\": 0, \"ticks\": \"\"}}, \"type\": \"histogram\"}], \"histogram2d\": [{\"colorbar\": {\"outlinewidth\": 0, \"ticks\": \"\"}, \"colorscale\": [[0.0, \"#0d0887\"], [0.1111111111111111, \"#46039f\"], [0.2222222222222222, \"#7201a8\"], [0.3333333333333333, \"#9c179e\"], [0.4444444444444444, \"#bd3786\"], [0.5555555555555556, \"#d8576b\"], [0.6666666666666666, \"#ed7953\"], [0.7777777777777778, \"#fb9f3a\"], [0.8888888888888888, \"#fdca26\"], [1.0, \"#f0f921\"]], \"type\": \"histogram2d\"}], \"histogram2dcontour\": [{\"colorbar\": {\"outlinewidth\": 0, \"ticks\": \"\"}, \"colorscale\": [[0.0, \"#0d0887\"], [0.1111111111111111, \"#46039f\"], [0.2222222222222222, \"#7201a8\"], [0.3333333333333333, \"#9c179e\"], [0.4444444444444444, \"#bd3786\"], [0.5555555555555556, \"#d8576b\"], [0.6666666666666666, \"#ed7953\"], [0.7777777777777778, \"#fb9f3a\"], [0.8888888888888888, \"#fdca26\"], [1.0, \"#f0f921\"]], \"type\": \"histogram2dcontour\"}], \"mesh3d\": [{\"colorbar\": {\"outlinewidth\": 0, \"ticks\": \"\"}, \"type\": \"mesh3d\"}], \"parcoords\": [{\"line\": {\"colorbar\": {\"outlinewidth\": 0, \"ticks\": \"\"}}, \"type\": \"parcoords\"}], \"pie\": [{\"automargin\": true, \"type\": \"pie\"}], \"scatter\": [{\"marker\": {\"colorbar\": {\"outlinewidth\": 0, \"ticks\": \"\"}}, \"type\": \"scatter\"}], \"scatter3d\": [{\"line\": {\"colorbar\": {\"outlinewidth\": 0, \"ticks\": \"\"}}, \"marker\": {\"colorbar\": {\"outlinewidth\": 0, \"ticks\": \"\"}}, \"type\": \"scatter3d\"}], \"scattercarpet\": [{\"marker\": {\"colorbar\": {\"outlinewidth\": 0, \"ticks\": \"\"}}, \"type\": \"scattercarpet\"}], \"scattergeo\": [{\"marker\": {\"colorbar\": {\"outlinewidth\": 0, \"ticks\": \"\"}}, \"type\": \"scattergeo\"}], \"scattergl\": [{\"marker\": {\"colorbar\": {\"outlinewidth\": 0, \"ticks\": \"\"}}, \"type\": \"scattergl\"}], \"scattermapbox\": [{\"marker\": {\"colorbar\": {\"outlinewidth\": 0, \"ticks\": \"\"}}, \"type\": \"scattermapbox\"}], \"scatterpolar\": [{\"marker\": {\"colorbar\": {\"outlinewidth\": 0, \"ticks\": \"\"}}, \"type\": \"scatterpolar\"}], \"scatterpolargl\": [{\"marker\": {\"colorbar\": {\"outlinewidth\": 0, \"ticks\": \"\"}}, \"type\": \"scatterpolargl\"}], \"scatterternary\": [{\"marker\": {\"colorbar\": {\"outlinewidth\": 0, \"ticks\": \"\"}}, \"type\": \"scatterternary\"}], \"surface\": [{\"colorbar\": {\"outlinewidth\": 0, \"ticks\": \"\"}, \"colorscale\": [[0.0, \"#0d0887\"], [0.1111111111111111, \"#46039f\"], [0.2222222222222222, \"#7201a8\"], [0.3333333333333333, \"#9c179e\"], [0.4444444444444444, \"#bd3786\"], [0.5555555555555556, \"#d8576b\"], [0.6666666666666666, \"#ed7953\"], [0.7777777777777778, \"#fb9f3a\"], [0.8888888888888888, \"#fdca26\"], [1.0, \"#f0f921\"]], \"type\": \"surface\"}], \"table\": [{\"cells\": {\"fill\": {\"color\": \"#EBF0F8\"}, \"line\": {\"color\": \"white\"}}, \"header\": {\"fill\": {\"color\": \"#C8D4E3\"}, \"line\": {\"color\": \"white\"}}, \"type\": \"table\"}]}, \"layout\": {\"annotationdefaults\": {\"arrowcolor\": \"#2a3f5f\", \"arrowhead\": 0, \"arrowwidth\": 1}, \"coloraxis\": {\"colorbar\": {\"outlinewidth\": 0, \"ticks\": \"\"}}, \"colorscale\": {\"diverging\": [[0, \"#8e0152\"], [0.1, \"#c51b7d\"], [0.2, \"#de77ae\"], [0.3, \"#f1b6da\"], [0.4, \"#fde0ef\"], [0.5, \"#f7f7f7\"], [0.6, \"#e6f5d0\"], [0.7, \"#b8e186\"], [0.8, \"#7fbc41\"], [0.9, \"#4d9221\"], [1, \"#276419\"]], \"sequential\": [[0.0, \"#0d0887\"], [0.1111111111111111, \"#46039f\"], [0.2222222222222222, \"#7201a8\"], [0.3333333333333333, \"#9c179e\"], [0.4444444444444444, \"#bd3786\"], [0.5555555555555556, \"#d8576b\"], [0.6666666666666666, \"#ed7953\"], [0.7777777777777778, \"#fb9f3a\"], [0.8888888888888888, \"#fdca26\"], [1.0, \"#f0f921\"]], \"sequentialminus\": [[0.0, \"#0d0887\"], [0.1111111111111111, \"#46039f\"], [0.2222222222222222, \"#7201a8\"], [0.3333333333333333, \"#9c179e\"], [0.4444444444444444, \"#bd3786\"], [0.5555555555555556, \"#d8576b\"], [0.6666666666666666, \"#ed7953\"], [0.7777777777777778, \"#fb9f3a\"], [0.8888888888888888, \"#fdca26\"], [1.0, \"#f0f921\"]]}, \"colorway\": [\"#636efa\", \"#EF553B\", \"#00cc96\", \"#ab63fa\", \"#FFA15A\", \"#19d3f3\", \"#FF6692\", \"#B6E880\", \"#FF97FF\", \"#FECB52\"], \"font\": {\"color\": \"#2a3f5f\"}, \"geo\": {\"bgcolor\": \"white\", \"lakecolor\": \"white\", \"landcolor\": \"white\", \"showlakes\": true, \"showland\": true, \"subunitcolor\": \"#C8D4E3\"}, \"hoverlabel\": {\"align\": \"left\"}, \"hovermode\": \"closest\", \"mapbox\": {\"style\": \"light\"}, \"paper_bgcolor\": \"white\", \"plot_bgcolor\": \"white\", \"polar\": {\"angularaxis\": {\"gridcolor\": \"#EBF0F8\", \"linecolor\": \"#EBF0F8\", \"ticks\": \"\"}, \"bgcolor\": \"white\", \"radialaxis\": {\"gridcolor\": \"#EBF0F8\", \"linecolor\": \"#EBF0F8\", \"ticks\": \"\"}}, \"scene\": {\"xaxis\": {\"backgroundcolor\": \"white\", \"gridcolor\": \"#DFE8F3\", \"gridwidth\": 2, \"linecolor\": \"#EBF0F8\", \"showbackground\": true, \"ticks\": \"\", \"zerolinecolor\": \"#EBF0F8\"}, \"yaxis\": {\"backgroundcolor\": \"white\", \"gridcolor\": \"#DFE8F3\", \"gridwidth\": 2, \"linecolor\": \"#EBF0F8\", \"showbackground\": true, \"ticks\": \"\", \"zerolinecolor\": \"#EBF0F8\"}, \"zaxis\": {\"backgroundcolor\": \"white\", \"gridcolor\": \"#DFE8F3\", \"gridwidth\": 2, \"linecolor\": \"#EBF0F8\", \"showbackground\": true, \"ticks\": \"\", \"zerolinecolor\": \"#EBF0F8\"}}, \"shapedefaults\": {\"line\": {\"color\": \"#2a3f5f\"}}, \"ternary\": {\"aaxis\": {\"gridcolor\": \"#DFE8F3\", \"linecolor\": \"#A2B1C6\", \"ticks\": \"\"}, \"baxis\": {\"gridcolor\": \"#DFE8F3\", \"linecolor\": \"#A2B1C6\", \"ticks\": \"\"}, \"bgcolor\": \"white\", \"caxis\": {\"gridcolor\": \"#DFE8F3\", \"linecolor\": \"#A2B1C6\", \"ticks\": \"\"}}, \"title\": {\"x\": 0.05}, \"xaxis\": {\"automargin\": true, \"gridcolor\": \"#EBF0F8\", \"linecolor\": \"#EBF0F8\", \"ticks\": \"\", \"title\": {\"standoff\": 15}, \"zerolinecolor\": \"#EBF0F8\", \"zerolinewidth\": 2}, \"yaxis\": {\"automargin\": true, \"gridcolor\": \"#EBF0F8\", \"linecolor\": \"#EBF0F8\", \"ticks\": \"\", \"title\": {\"standoff\": 15}, \"zerolinecolor\": \"#EBF0F8\", \"zerolinewidth\": 2}}}, \"title\": {\"text\": \"Cumulative Earnings with $100 bets\"}, \"xaxis\": {\"anchor\": \"y\", \"domain\": [0.0, 1.0], \"title\": {\"text\": \"2019-20 NBA Season\"}, \"zeroline\": true}, \"yaxis\": {\"anchor\": \"x\", \"domain\": [0.0, 1.0], \"title\": {\"text\": \"Money Earned ($)\"}, \"zeroline\": true, \"zerolinecolor\": \"black\", \"zerolinewidth\": 2}},\n",
              "                        {\"responsive\": true}\n",
              "                    ).then(function(){\n",
              "                            \n",
              "var gd = document.getElementById('d8c25296-96d9-4545-baab-1224df66001d');\n",
              "var x = new MutationObserver(function (mutations, observer) {{\n",
              "        var display = window.getComputedStyle(gd).display;\n",
              "        if (!display || display === 'none') {{\n",
              "            console.log([gd, 'removed!']);\n",
              "            Plotly.purge(gd);\n",
              "            observer.disconnect();\n",
              "        }}\n",
              "}});\n",
              "\n",
              "// Listen for the removal of the full notebook cells\n",
              "var notebookContainer = gd.closest('#notebook-container');\n",
              "if (notebookContainer) {{\n",
              "    x.observe(notebookContainer, {childList: true});\n",
              "}}\n",
              "\n",
              "// Listen for the clearing of the current output cell\n",
              "var outputEl = gd.closest('.output');\n",
              "if (outputEl) {{\n",
              "    x.observe(outputEl, {childList: true});\n",
              "}}\n",
              "\n",
              "                        })\n",
              "                };\n",
              "                \n",
              "            </script>\n",
              "        </div>\n",
              "</body>\n",
              "</html>"
            ]
          },
          "metadata": {
            "tags": []
          }
        }
      ]
    },
    {
      "cell_type": "code",
      "metadata": {
        "id": "DOtfmNKrlXAm",
        "colab_type": "code",
        "colab": {}
      },
      "source": [
        "import plotly.io as pio\n",
        "import plotly"
      ],
      "execution_count": 0,
      "outputs": []
    },
    {
      "cell_type": "code",
      "metadata": {
        "id": "QrDL1Hgrqks5",
        "colab_type": "code",
        "colab": {}
      },
      "source": [
        "# pio.write_html(fig, file=r'C:\\Users\\garf\\index.html', include_plotlyjs='cdn')"
      ],
      "execution_count": 0,
      "outputs": []
    },
    {
      "cell_type": "code",
      "metadata": {
        "id": "sWwK02o2wQWh",
        "colab_type": "code",
        "outputId": "7bd707b7-0f44-409a-a2bb-8fbc622d4f00",
        "colab": {
          "base_uri": "https://localhost:8080/",
          "height": 54
        }
      },
      "source": [
        "plotly.offline.plot(fig, include_plotlyjs=False, output_type='div')"
      ],
      "execution_count": 0,
      "outputs": [
        {
          "output_type": "execute_result",
          "data": {
            "text/plain": [
              "'<div>\\n        \\n        \\n            <div id=\"5a2ffdba-ff98-4042-bc10-2212012905d8\" class=\"plotly-graph-div\" style=\"height:100%; width:100%;\"></div>\\n            <script type=\"text/javascript\">\\n                \\n                    window.PLOTLYENV=window.PLOTLYENV || {};\\n                    \\n                if (document.getElementById(\"5a2ffdba-ff98-4042-bc10-2212012905d8\")) {\\n                    Plotly.newPlot(\\n                        \\'5a2ffdba-ff98-4042-bc10-2212012905d8\\',\\n                        [{\"hoverlabel\": {\"namelength\": 0}, \"hovertemplate\": \"date=%{x}<br>cumTotalWon=%{marker.color}\", \"legendgroup\": \"\", \"marker\": {\"color\": [39, 94, 144, 202, 102, 143, 233, 133, 165, 225, 291, 191, 91, 119, 185, 217, 258, 158, 58, -42, -142, -104, -81, -7, 107, 7, -93, -13, 28, 39, -61, -161, -261, -361, -461, -561, -495, -595, -440, -415, -395, -495, -595, -695, -795, -712, -687, -674, -774, -874, -841, -809, -909, -1009, -987, -1087, -1011, -1111, -1211, -1183, -1283, -1123, -1223, -1194, -1294, -1262, -1224, -1208, -1308, -1108, -968, -900, -1000, -1100, -1200, -1180, -1150, -1036, -886, -986, -1086, -1080, -1180, -1118, -1077, -1177, -1277, -1377, -1477, -1445, -1420, -1379, -1479, -1454, -1079, -1065, -1165, -1103, -1039, -1025, -973, -878, -872, -792, -759, -739, -673, -662, -596, -486, -478, -343, -443, -543, -528, -481, -444, -397, -347, -314, -312, -272, -242, -166, 59, 95, 122, 130, 300, 364, 404, 445, 459, 359, 259, 159, 273, 325, 359, 442, 342, 242, 142, 162, 176, 199, 249, 354, 434, 334, 359, 509, 409, 309, 341, 431, 467, 473, 503, 523, 758, 826, 956, 972, 1122, 1136, 1036, 1050, 950, 980, 993, 893, 793, 693, 767, 800, 700, 706, 712, 750, 905, 805, 705, 605, 505, 1155, 1055, 955, 983, 1059, 1097, 997, 1019, 1022, 1067, 1247, 1147, 1261, 1161, 1061, 1321, 1221, 1311, 1211, 1254, 1154, 1225, 1266, 1286, 1366, 1471, 1516, 1621, 1776, 1676, 1576, 1476, 1376, 1276, 1342, 1394, 1294, 1194, 1246, 1304, 1354, 1254, 1276, 1289, 1334, 1348, 1360, 1515, 1415, 1315, 1330, 1362, 1428, 1328, 1228, 1235, 1135, 1035, 935, 835, 845, 935, 997, 897, 797, 820, 865, 885, 785, 821, 721, 621, 704, 726, 626, 649, 549, 629, 695, 595, 625, 525, 1125, 1162, 1062, 1071, 1112, 1162, 1062, 1094, 994, 1001, 1136, 1036, 1074, 974, 1054, 1060, 960, 860, 871, 1016, 1030, 930, 942, 842, 962, 977, 1102, 1002, 1043, 943, 951, 851, 751, 757, 831, 907, 942, 1010, 1086, 1106, 1006, 906, 806, 706, 726, 626, 661, 841, 741, 641, 663, 563, 576, 476, 376, 394, 460, 360, 418, 318, 347, 380, 280, 394, 402, 411, 311, 346, 378, 388, 288, 188, 88, -12, 98, 134, 220, 260, 160, 60, -40, 10, 81, -19, 18, -82, -182, -62, 68, 122, 22, 49, -51, 164, 64, 105, 133, 140, 40, 185, 85, -15, -115, -99, -199, -185, -165, 115, 15, 52, 281, 181, 222, 342, 387, 287, 187, 87, 155, 55, -45, -23, 147, 47, -53, -33, 492, 517, 552, 616, 516, 551, 564, 464, 364, 366, 516, 416, 474, 374, 401, 487, 497, 542, 608, 508, 408, 423, 475, 491, 391, 424, 324, 224, 124, 219, 119, 19, -81, 369, 269, 327, 227, 127, 27, 45, 50, 93, 333, 363, 400, 425, 480, 525, 554, 570, 470, 370, 270, 170, 176, 228, 457, 357, 384, 634, 705, 860, 866, 766, 828, 848, 854, 754, 844, 744, 834, 734, 829, 943, 949, 849, 749, 807, 707, 718, 813, 713, 779, 679, 824, 842, 1142, 1042, 1085, 985, 1023, 1297, 1325, 1225, 1125, 1145, 1234, 1310, 1316, 1216, 1235, 1135, 1305, 1205, 1234, 1240, 1140, 1144, 1044, 944, 953, 853, 753, 653, 728, 628, 658, 558, 616, 632, 646, 546, 620, 647, 547, 569, 655, 682, 582, 598, 498, 668, 683, 711, 611, 751, 651, 692, 592, 629, 651, 737, 637, 659, 559, 459, 359, 259, 159, 59, 123, 127, 27, -73, -43, -143, -243, -123, -223, -323, -233, -128, -106, -88, -72, 68, 81, -19, 67, 107, 147, 47, -53, -153, -146, -66, -29, 45, -55, -155, -132, -107, -207, -37, -137, -237, -132, 53, 100, 186, 257, 331, 231, 302, 202, 102, 160, 60, -40, -140, -240, -197, -297, -214, -314, -414, -334, -220, -208, -200, -192, -292, -269, -198, -298, -227, -37, 173, 181, 199, 329, 229, 284, 325, 380, 280, 180, 80, -20, 70, 170, 70, 120, 20, 35, 106, 6, 39, 62, 172, 72, 117, 127, 143, 181, 255, 155, 55, 235, 135, 155, 226, 312, 212, 266, 166, 180, 216, 116, 152, 322, 452, 488, 388, 396, 296, 196, 237, 137, 157, 302, 364, 377, 477, 487, 528, 648, 548, 568, 468, 530, 430, 436, 611, 511, 536, 436, 556, 593, 643, 683, 808, 888, 902, 947, 1015, 1105, 1138, 1038, 1071, 971, 980, 996, 1021, 1048, 948, 1014, 914, 1014, 1072, 972, 872, 897, 965, 865, 927, 827, 957, 992, 1025, 925, 825, 975, 875, 775, 815, 975, 1011, 1116, 1016, 1043, 1077, 1153, 1205, 1105, 1005, 905, 1109, 1009, 1075, 975, 875, 884, 905, 805, 705, 711, 727, 757, 802, 845, 745, 645, 545, 553, 563, 463, 488, 388, 395, 422, 430, 461, 473, 502, 535, 435, 506, 620, 520, 420, 320, 220, 275, 455, 560, 576, 594, 621, 651, 771, 671, 571, 471, 371, 381, 281, 181, 81, -19, 57, 147, 47, -53, -23, 48, -52, -152, -144, -244, -212, -207, -169, -269, -251, -351, -451, -436, -261, 164, 64, 135, 364, 264, 164, 174, 74, -26, 32, 73, -27, 31, 66, 91, -9, 5, -95, -70, -170, -152, -130, -230, -45, 60, 131, 205, 105, 185, 253, 333, 373, 513, 413, 713, 613, 638, 538, 575, 475, 704, 739, 639, 864, 1164, 1294, 1194, 1237, 1462, 1512, 1412], \"coloraxis\": \"coloraxis\", \"symbol\": \"circle\"}, \"mode\": \"markers\", \"name\": \"\", \"showlegend\": false, \"type\": \"scatter\", \"x\": [\"2019-11-02\", \"2019-11-02\", \"2019-11-03\", \"2019-11-04\", \"2019-11-04\", \"2019-11-04\", \"2019-11-04\", \"2019-11-06\", \"2019-11-06\", \"2019-11-06\", \"2019-11-06\", \"2019-11-06\", \"2019-11-06\", \"2019-11-06\", \"2019-11-06\", \"2019-11-07\", \"2019-11-07\", \"2019-11-07\", \"2019-11-08\", \"2019-11-08\", \"2019-11-08\", \"2019-11-08\", \"2019-11-08\", \"2019-11-08\", \"2019-11-08\", \"2019-11-08\", \"2019-11-09\", \"2019-11-09\", \"2019-11-09\", \"2019-11-09\", \"2019-11-09\", \"2019-11-10\", \"2019-11-10\", \"2019-11-10\", \"2019-11-10\", \"2019-11-10\", \"2019-11-10\", \"2019-11-11\", \"2019-11-11\", \"2019-11-11\", \"2019-11-11\", \"2019-11-11\", \"2019-11-11\", \"2019-11-12\", \"2019-11-12\", \"2019-11-12\", \"2019-11-12\", \"2019-11-12\", \"2019-11-12\", \"2019-11-12\", \"2019-11-12\", \"2019-11-13\", \"2019-11-13\", \"2019-11-13\", \"2019-11-13\", \"2019-11-13\", \"2019-11-13\", \"2019-11-13\", \"2019-11-14\", \"2019-11-14\", \"2019-11-14\", \"2019-11-14\", \"2019-11-14\", \"2019-11-14\", \"2019-11-15\", \"2019-11-15\", \"2019-11-15\", \"2019-11-15\", \"2019-11-15\", \"2019-11-15\", \"2019-11-15\", \"2019-11-15\", \"2019-11-16\", \"2019-11-16\", \"2019-11-16\", \"2019-11-16\", \"2019-11-16\", \"2019-11-16\", \"2019-11-16\", \"2019-11-16\", \"2019-11-17\", \"2019-11-17\", \"2019-11-17\", \"2019-11-17\", \"2019-11-17\", \"2019-11-17\", \"2019-11-18\", \"2019-11-18\", \"2019-11-18\", \"2019-11-18\", \"2019-11-18\", \"2019-11-18\", \"2019-11-18\", \"2019-11-18\", \"2019-11-18\", \"2019-11-19\", \"2019-11-19\", \"2019-11-19\", \"2019-11-19\", \"2019-11-20\", \"2019-11-20\", \"2019-11-20\", \"2019-11-20\", \"2019-11-20\", \"2019-11-20\", \"2019-11-20\", \"2019-11-20\", \"2019-11-20\", \"2019-11-20\", \"2019-11-20\", \"2019-11-21\", \"2019-11-21\", \"2019-11-22\", \"2019-11-22\", \"2019-11-22\", \"2019-11-22\", \"2019-11-22\", \"2019-11-22\", \"2019-11-22\", \"2019-11-22\", \"2019-11-22\", \"2019-11-22\", \"2019-11-23\", \"2019-11-23\", \"2019-11-23\", \"2019-11-23\", \"2019-11-23\", \"2019-11-23\", \"2019-11-23\", \"2019-11-23\", \"2019-11-23\", \"2019-11-23\", \"2019-11-24\", \"2019-11-24\", \"2019-11-24\", \"2019-11-24\", \"2019-11-24\", \"2019-11-25\", \"2019-11-25\", \"2019-11-25\", \"2019-11-25\", \"2019-11-25\", \"2019-11-25\", \"2019-11-25\", \"2019-11-25\", \"2019-11-25\", \"2019-11-25\", \"2019-11-25\", \"2019-11-26\", \"2019-11-26\", \"2019-11-27\", \"2019-11-27\", \"2019-11-27\", \"2019-11-27\", \"2019-11-27\", \"2019-11-27\", \"2019-11-27\", \"2019-11-27\", \"2019-11-27\", \"2019-11-27\", \"2019-11-27\", \"2019-11-27\", \"2019-11-27\", \"2019-11-27\", \"2019-11-29\", \"2019-11-29\", \"2019-11-29\", \"2019-11-29\", \"2019-11-29\", \"2019-11-29\", \"2019-11-29\", \"2019-11-29\", \"2019-11-29\", \"2019-11-29\", \"2019-11-29\", \"2019-11-29\", \"2019-11-29\", \"2019-11-30\", \"2019-11-30\", \"2019-11-30\", \"2019-11-30\", \"2019-12-01\", \"2019-12-01\", \"2019-12-01\", \"2019-12-01\", \"2019-12-01\", \"2019-12-01\", \"2019-12-01\", \"2019-12-01\", \"2019-12-01\", \"2019-12-02\", \"2019-12-02\", \"2019-12-02\", \"2019-12-02\", \"2019-12-02\", \"2019-12-02\", \"2019-12-03\", \"2019-12-03\", \"2019-12-03\", \"2019-12-03\", \"2019-12-03\", \"2019-12-03\", \"2019-12-03\", \"2019-12-04\", \"2019-12-04\", \"2019-12-04\", \"2019-12-04\", \"2019-12-04\", \"2019-12-04\", \"2019-12-04\", \"2019-12-04\", \"2019-12-04\", \"2019-12-04\", \"2019-12-05\", \"2019-12-05\", \"2019-12-05\", \"2019-12-05\", \"2019-12-06\", \"2019-12-06\", \"2019-12-06\", \"2019-12-06\", \"2019-12-06\", \"2019-12-06\", \"2019-12-06\", \"2019-12-06\", \"2019-12-06\", \"2019-12-06\", \"2019-12-07\", \"2019-12-07\", \"2019-12-07\", \"2019-12-07\", \"2019-12-07\", \"2019-12-08\", \"2019-12-08\", \"2019-12-08\", \"2019-12-08\", \"2019-12-08\", \"2019-12-08\", \"2019-12-08\", \"2019-12-08\", \"2019-12-09\", \"2019-12-09\", \"2019-12-09\", \"2019-12-09\", \"2019-12-09\", \"2019-12-09\", \"2019-12-09\", \"2019-12-09\", \"2019-12-09\", \"2019-12-10\", \"2019-12-10\", \"2019-12-10\", \"2019-12-10\", \"2019-12-11\", \"2019-12-11\", \"2019-12-11\", \"2019-12-11\", \"2019-12-11\", \"2019-12-11\", \"2019-12-11\", \"2019-12-11\", \"2019-12-11\", \"2019-12-11\", \"2019-12-11\", \"2019-12-12\", \"2019-12-12\", \"2019-12-12\", \"2019-12-12\", \"2019-12-13\", \"2019-12-13\", \"2019-12-13\", \"2019-12-13\", \"2019-12-13\", \"2019-12-13\", \"2019-12-13\", \"2019-12-13\", \"2019-12-13\", \"2019-12-14\", \"2019-12-14\", \"2019-12-14\", \"2019-12-14\", \"2019-12-14\", \"2019-12-14\", \"2019-12-14\", \"2019-12-14\", \"2019-12-15\", \"2019-12-15\", \"2019-12-15\", \"2019-12-15\", \"2019-12-15\", \"2019-12-15\", \"2019-12-16\", \"2019-12-16\", \"2019-12-16\", \"2019-12-16\", \"2019-12-16\", \"2019-12-16\", \"2019-12-16\", \"2019-12-17\", \"2019-12-17\", \"2019-12-17\", \"2019-12-17\", \"2019-12-17\", \"2019-12-17\", \"2019-12-18\", \"2019-12-18\", \"2019-12-18\", \"2019-12-18\", \"2019-12-18\", \"2019-12-18\", \"2019-12-18\", \"2019-12-18\", \"2019-12-18\", \"2019-12-19\", \"2019-12-19\", \"2019-12-19\", \"2019-12-19\", \"2019-12-20\", \"2019-12-20\", \"2019-12-20\", \"2019-12-20\", \"2019-12-20\", \"2019-12-20\", \"2019-12-20\", \"2019-12-20\", \"2019-12-20\", \"2019-12-20\", \"2019-12-21\", \"2019-12-21\", \"2019-12-21\", \"2019-12-21\", \"2019-12-21\", \"2019-12-21\", \"2019-12-21\", \"2019-12-21\", \"2019-12-21\", \"2019-12-22\", \"2019-12-22\", \"2019-12-22\", \"2019-12-22\", \"2019-12-22\", \"2019-12-23\", \"2019-12-23\", \"2019-12-23\", \"2019-12-23\", \"2019-12-23\", \"2019-12-23\", \"2019-12-23\", \"2019-12-23\", \"2019-12-23\", \"2019-12-23\", \"2019-12-23\", \"2019-12-25\", \"2019-12-25\", \"2019-12-25\", \"2019-12-25\", \"2019-12-25\", \"2019-12-26\", \"2019-12-26\", \"2019-12-26\", \"2019-12-26\", \"2019-12-26\", \"2019-12-26\", \"2019-12-27\", \"2019-12-27\", \"2019-12-27\", \"2019-12-27\", \"2019-12-27\", \"2019-12-27\", \"2019-12-28\", \"2019-12-28\", \"2019-12-28\", \"2019-12-28\", \"2019-12-28\", \"2019-12-28\", \"2019-12-28\", \"2019-12-28\", \"2019-12-28\", \"2019-12-28\", \"2019-12-28\", \"2019-12-28\", \"2019-12-28\", \"2019-12-28\", \"2019-12-29\", \"2019-12-29\", \"2019-12-29\", \"2019-12-29\", \"2019-12-29\", \"2019-12-30\", \"2019-12-30\", \"2019-12-30\", \"2019-12-30\", \"2019-12-30\", \"2019-12-30\", \"2019-12-31\", \"2019-12-31\", \"2019-12-31\", \"2019-12-31\", \"2019-12-31\", \"2019-12-31\", \"2019-12-31\", \"2020-01-01\", \"2020-01-01\", \"2020-01-01\", \"2020-01-01\", \"2020-01-02\", \"2020-01-02\", \"2020-01-02\", \"2020-01-02\", \"2020-01-02\", \"2020-01-02\", \"2020-01-02\", \"2020-01-02\", \"2020-01-02\", \"2020-01-03\", \"2020-01-03\", \"2020-01-03\", \"2020-01-03\", \"2020-01-03\", \"2020-01-03\", \"2020-01-04\", \"2020-01-04\", \"2020-01-04\", \"2020-01-04\", \"2020-01-04\", \"2020-01-04\", \"2020-01-04\", \"2020-01-04\", \"2020-01-04\", \"2020-01-04\", \"2020-01-04\", \"2020-01-05\", \"2020-01-05\", \"2020-01-05\", \"2020-01-05\", \"2020-01-05\", \"2020-01-06\", \"2020-01-06\", \"2020-01-06\", \"2020-01-06\", \"2020-01-06\", \"2020-01-06\", \"2020-01-06\", \"2020-01-06\", \"2020-01-06\", \"2020-01-07\", \"2020-01-07\", \"2020-01-07\", \"2020-01-07\", \"2020-01-07\", \"2020-01-07\", \"2020-01-08\", \"2020-01-08\", \"2020-01-08\", \"2020-01-08\", \"2020-01-08\", \"2020-01-08\", \"2020-01-08\", \"2020-01-08\", \"2020-01-08\", \"2020-01-09\", \"2020-01-09\", \"2020-01-09\", \"2020-01-09\", \"2020-01-10\", \"2020-01-10\", \"2020-01-10\", \"2020-01-10\", \"2020-01-10\", \"2020-01-10\", \"2020-01-10\", \"2020-01-10\", \"2020-01-10\", \"2020-01-10\", \"2020-01-11\", \"2020-01-11\", \"2020-01-11\", \"2020-01-11\", \"2020-01-11\", \"2020-01-11\", \"2020-01-11\", \"2020-01-12\", \"2020-01-12\", \"2020-01-12\", \"2020-01-12\", \"2020-01-12\", \"2020-01-12\", \"2020-01-12\", \"2020-01-13\", \"2020-01-13\", \"2020-01-13\", \"2020-01-13\", \"2020-01-13\", \"2020-01-13\", \"2020-01-13\", \"2020-01-14\", \"2020-01-14\", \"2020-01-14\", \"2020-01-14\", \"2020-01-14\", \"2020-01-14\", \"2020-01-15\", \"2020-01-15\", \"2020-01-15\", \"2020-01-15\", \"2020-01-15\", \"2020-01-15\", \"2020-01-15\", \"2020-01-15\", \"2020-01-15\", \"2020-01-15\", \"2020-01-16\", \"2020-01-16\", \"2020-01-16\", \"2020-01-16\", \"2020-01-16\", \"2020-01-17\", \"2020-01-17\", \"2020-01-17\", \"2020-01-17\", \"2020-01-17\", \"2020-01-17\", \"2020-01-17\", \"2020-01-18\", \"2020-01-18\", \"2020-01-18\", \"2020-01-18\", \"2020-01-18\", \"2020-01-18\", \"2020-01-18\", \"2020-01-18\", \"2020-01-18\", \"2020-01-18\", \"2020-01-18\", \"2020-01-19\", \"2020-01-19\", \"2020-01-20\", \"2020-01-20\", \"2020-01-20\", \"2020-01-20\", \"2020-01-20\", \"2020-01-20\", \"2020-01-20\", \"2020-01-20\", \"2020-01-20\", \"2020-01-20\", \"2020-01-20\", \"2020-01-20\", \"2020-01-20\", \"2020-01-20\", \"2020-01-21\", \"2020-01-22\", \"2020-01-22\", \"2020-01-22\", \"2020-01-22\", \"2020-01-22\", \"2020-01-22\", \"2020-01-22\", \"2020-01-22\", \"2020-01-22\", \"2020-01-22\", \"2020-01-22\", \"2020-01-22\", \"2020-01-23\", \"2020-01-23\", \"2020-01-23\", \"2020-01-24\", \"2020-01-24\", \"2020-01-24\", \"2020-01-24\", \"2020-01-24\", \"2020-01-24\", \"2020-01-24\", \"2020-01-24\", \"2020-01-24\", \"2020-01-24\", \"2020-01-24\", \"2020-01-25\", \"2020-01-25\", \"2020-01-25\", \"2020-01-25\", \"2020-01-25\", \"2020-01-26\", \"2020-01-26\", \"2020-01-26\", \"2020-01-26\", \"2020-01-26\", \"2020-01-26\", \"2020-01-26\", \"2020-01-26\", \"2020-01-27\", \"2020-01-27\", \"2020-01-27\", \"2020-01-27\", \"2020-01-27\", \"2020-01-27\", \"2020-01-28\", \"2020-01-28\", \"2020-01-28\", \"2020-01-28\", \"2020-01-28\", \"2020-01-28\", \"2020-01-28\", \"2020-01-28\", \"2020-01-29\", \"2020-01-29\", \"2020-01-29\", \"2020-01-29\", \"2020-01-29\", \"2020-01-29\", \"2020-01-30\", \"2020-01-30\", \"2020-01-30\", \"2020-01-30\", \"2020-01-30\", \"2020-01-30\", \"2020-01-31\", \"2020-01-31\", \"2020-01-31\", \"2020-01-31\", \"2020-01-31\", \"2020-01-31\", \"2020-01-31\", \"2020-02-01\", \"2020-02-01\", \"2020-02-01\", \"2020-02-01\", \"2020-02-01\", \"2020-02-01\", \"2020-02-01\", \"2020-02-01\", \"2020-02-01\", \"2020-02-01\", \"2020-02-02\", \"2020-02-02\", \"2020-02-02\", \"2020-02-02\", \"2020-02-03\", \"2020-02-03\", \"2020-02-03\", \"2020-02-03\", \"2020-02-03\", \"2020-02-03\", \"2020-02-03\", \"2020-02-03\", \"2020-02-03\", \"2020-02-03\", \"2020-02-04\", \"2020-02-04\", \"2020-02-04\", \"2020-02-04\", \"2020-02-05\", \"2020-02-05\", \"2020-02-05\", \"2020-02-05\", \"2020-02-05\", \"2020-02-05\", \"2020-02-05\", \"2020-02-05\", \"2020-02-05\", \"2020-02-06\", \"2020-02-06\", \"2020-02-06\", \"2020-02-06\", \"2020-02-06\", \"2020-02-07\", \"2020-02-07\", \"2020-02-07\", \"2020-02-07\", \"2020-02-07\", \"2020-02-07\", \"2020-02-07\", \"2020-02-07\", \"2020-02-08\", \"2020-02-08\", \"2020-02-08\", \"2020-02-08\", \"2020-02-08\", \"2020-02-08\", \"2020-02-08\", \"2020-02-08\", \"2020-02-08\", \"2020-02-09\", \"2020-02-09\", \"2020-02-09\", \"2020-02-09\", \"2020-02-09\", \"2020-02-09\", \"2020-02-09\", \"2020-02-10\", \"2020-02-10\", \"2020-02-10\", \"2020-02-10\", \"2020-02-10\", \"2020-02-10\", \"2020-02-10\", \"2020-02-10\", \"2020-02-10\", \"2020-02-11\", \"2020-02-11\", \"2020-02-11\", \"2020-02-11\", \"2020-02-11\", \"2020-02-12\", \"2020-02-12\", \"2020-02-12\", \"2020-02-12\", \"2020-02-12\", \"2020-02-12\", \"2020-02-12\", \"2020-02-12\", \"2020-02-12\", \"2020-02-12\", \"2020-02-12\", \"2020-02-13\", \"2020-02-13\", \"2020-02-20\", \"2020-02-20\", \"2020-02-20\", \"2020-02-20\", \"2020-02-20\", \"2020-02-20\", \"2020-02-21\", \"2020-02-21\", \"2020-02-21\", \"2020-02-21\", \"2020-02-21\", \"2020-02-21\", \"2020-02-21\", \"2020-02-21\", \"2020-02-21\", \"2020-02-22\", \"2020-02-22\", \"2020-02-22\", \"2020-02-22\", \"2020-02-22\", \"2020-02-22\", \"2020-02-22\", \"2020-02-23\", \"2020-02-23\", \"2020-02-23\", \"2020-02-23\", \"2020-02-23\", \"2020-02-23\", \"2020-02-23\", \"2020-02-24\", \"2020-02-24\", \"2020-02-24\", \"2020-02-24\", \"2020-02-24\", \"2020-02-24\", \"2020-02-24\", \"2020-02-24\", \"2020-02-25\", \"2020-02-25\", \"2020-02-25\", \"2020-02-25\", \"2020-02-25\", \"2020-02-25\", \"2020-02-25\", \"2020-02-26\", \"2020-02-26\", \"2020-02-26\", \"2020-02-26\", \"2020-02-26\", \"2020-02-26\", \"2020-02-26\", \"2020-02-26\", \"2020-02-26\", \"2020-02-27\", \"2020-02-27\", \"2020-02-27\", \"2020-02-27\", \"2020-02-28\", \"2020-02-28\", \"2020-02-28\", \"2020-02-28\", \"2020-02-28\", \"2020-02-28\", \"2020-02-28\", \"2020-02-28\", \"2020-02-28\", \"2020-02-28\", \"2020-02-29\", \"2020-02-29\", \"2020-02-29\", \"2020-02-29\", \"2020-02-29\", \"2020-02-29\", \"2020-02-29\", \"2020-02-29\", \"2020-03-01\", \"2020-03-01\", \"2020-03-01\", \"2020-03-01\", \"2020-03-01\", \"2020-03-01\", \"2020-03-01\", \"2020-03-02\", \"2020-03-02\", \"2020-03-02\", \"2020-03-02\", \"2020-03-02\", \"2020-03-02\", \"2020-03-02\", \"2020-03-03\", \"2020-03-03\", \"2020-03-03\", \"2020-03-03\", \"2020-03-03\", \"2020-03-03\", \"2020-03-03\", \"2020-03-03\", \"2020-03-04\", \"2020-03-04\", \"2020-03-04\", \"2020-03-04\", \"2020-03-04\", \"2020-03-04\", \"2020-03-04\", \"2020-03-04\", \"2020-03-04\", \"2020-03-05\", \"2020-03-05\", \"2020-03-05\", \"2020-03-05\", \"2020-03-06\", \"2020-03-06\", \"2020-03-06\", \"2020-03-06\", \"2020-03-06\", \"2020-03-06\", \"2020-03-06\", \"2020-03-06\", \"2020-03-06\", \"2020-03-06\", \"2020-03-07\", \"2020-03-07\", \"2020-03-07\", \"2020-03-07\", \"2020-03-07\", \"2020-03-07\", \"2020-03-08\", \"2020-03-08\", \"2020-03-08\", \"2020-03-08\", \"2020-03-08\", \"2020-03-08\", \"2020-03-08\", \"2020-03-08\", \"2020-03-08\", \"2020-03-08\", \"2020-03-08\"], \"xaxis\": \"x\", \"y\": [39, 94, 144, 202, 102, 143, 233, 133, 165, 225, 291, 191, 91, 119, 185, 217, 258, 158, 58, -42, -142, -104, -81, -7, 107, 7, -93, -13, 28, 39, -61, -161, -261, -361, -461, -561, -495, -595, -440, -415, -395, -495, -595, -695, -795, -712, -687, -674, -774, -874, -841, -809, -909, -1009, -987, -1087, -1011, -1111, -1211, -1183, -1283, -1123, -1223, -1194, -1294, -1262, -1224, -1208, -1308, -1108, -968, -900, -1000, -1100, -1200, -1180, -1150, -1036, -886, -986, -1086, -1080, -1180, -1118, -1077, -1177, -1277, -1377, -1477, -1445, -1420, -1379, -1479, -1454, -1079, -1065, -1165, -1103, -1039, -1025, -973, -878, -872, -792, -759, -739, -673, -662, -596, -486, -478, -343, -443, -543, -528, -481, -444, -397, -347, -314, -312, -272, -242, -166, 59, 95, 122, 130, 300, 364, 404, 445, 459, 359, 259, 159, 273, 325, 359, 442, 342, 242, 142, 162, 176, 199, 249, 354, 434, 334, 359, 509, 409, 309, 341, 431, 467, 473, 503, 523, 758, 826, 956, 972, 1122, 1136, 1036, 1050, 950, 980, 993, 893, 793, 693, 767, 800, 700, 706, 712, 750, 905, 805, 705, 605, 505, 1155, 1055, 955, 983, 1059, 1097, 997, 1019, 1022, 1067, 1247, 1147, 1261, 1161, 1061, 1321, 1221, 1311, 1211, 1254, 1154, 1225, 1266, 1286, 1366, 1471, 1516, 1621, 1776, 1676, 1576, 1476, 1376, 1276, 1342, 1394, 1294, 1194, 1246, 1304, 1354, 1254, 1276, 1289, 1334, 1348, 1360, 1515, 1415, 1315, 1330, 1362, 1428, 1328, 1228, 1235, 1135, 1035, 935, 835, 845, 935, 997, 897, 797, 820, 865, 885, 785, 821, 721, 621, 704, 726, 626, 649, 549, 629, 695, 595, 625, 525, 1125, 1162, 1062, 1071, 1112, 1162, 1062, 1094, 994, 1001, 1136, 1036, 1074, 974, 1054, 1060, 960, 860, 871, 1016, 1030, 930, 942, 842, 962, 977, 1102, 1002, 1043, 943, 951, 851, 751, 757, 831, 907, 942, 1010, 1086, 1106, 1006, 906, 806, 706, 726, 626, 661, 841, 741, 641, 663, 563, 576, 476, 376, 394, 460, 360, 418, 318, 347, 380, 280, 394, 402, 411, 311, 346, 378, 388, 288, 188, 88, -12, 98, 134, 220, 260, 160, 60, -40, 10, 81, -19, 18, -82, -182, -62, 68, 122, 22, 49, -51, 164, 64, 105, 133, 140, 40, 185, 85, -15, -115, -99, -199, -185, -165, 115, 15, 52, 281, 181, 222, 342, 387, 287, 187, 87, 155, 55, -45, -23, 147, 47, -53, -33, 492, 517, 552, 616, 516, 551, 564, 464, 364, 366, 516, 416, 474, 374, 401, 487, 497, 542, 608, 508, 408, 423, 475, 491, 391, 424, 324, 224, 124, 219, 119, 19, -81, 369, 269, 327, 227, 127, 27, 45, 50, 93, 333, 363, 400, 425, 480, 525, 554, 570, 470, 370, 270, 170, 176, 228, 457, 357, 384, 634, 705, 860, 866, 766, 828, 848, 854, 754, 844, 744, 834, 734, 829, 943, 949, 849, 749, 807, 707, 718, 813, 713, 779, 679, 824, 842, 1142, 1042, 1085, 985, 1023, 1297, 1325, 1225, 1125, 1145, 1234, 1310, 1316, 1216, 1235, 1135, 1305, 1205, 1234, 1240, 1140, 1144, 1044, 944, 953, 853, 753, 653, 728, 628, 658, 558, 616, 632, 646, 546, 620, 647, 547, 569, 655, 682, 582, 598, 498, 668, 683, 711, 611, 751, 651, 692, 592, 629, 651, 737, 637, 659, 559, 459, 359, 259, 159, 59, 123, 127, 27, -73, -43, -143, -243, -123, -223, -323, -233, -128, -106, -88, -72, 68, 81, -19, 67, 107, 147, 47, -53, -153, -146, -66, -29, 45, -55, -155, -132, -107, -207, -37, -137, -237, -132, 53, 100, 186, 257, 331, 231, 302, 202, 102, 160, 60, -40, -140, -240, -197, -297, -214, -314, -414, -334, -220, -208, -200, -192, -292, -269, -198, -298, -227, -37, 173, 181, 199, 329, 229, 284, 325, 380, 280, 180, 80, -20, 70, 170, 70, 120, 20, 35, 106, 6, 39, 62, 172, 72, 117, 127, 143, 181, 255, 155, 55, 235, 135, 155, 226, 312, 212, 266, 166, 180, 216, 116, 152, 322, 452, 488, 388, 396, 296, 196, 237, 137, 157, 302, 364, 377, 477, 487, 528, 648, 548, 568, 468, 530, 430, 436, 611, 511, 536, 436, 556, 593, 643, 683, 808, 888, 902, 947, 1015, 1105, 1138, 1038, 1071, 971, 980, 996, 1021, 1048, 948, 1014, 914, 1014, 1072, 972, 872, 897, 965, 865, 927, 827, 957, 992, 1025, 925, 825, 975, 875, 775, 815, 975, 1011, 1116, 1016, 1043, 1077, 1153, 1205, 1105, 1005, 905, 1109, 1009, 1075, 975, 875, 884, 905, 805, 705, 711, 727, 757, 802, 845, 745, 645, 545, 553, 563, 463, 488, 388, 395, 422, 430, 461, 473, 502, 535, 435, 506, 620, 520, 420, 320, 220, 275, 455, 560, 576, 594, 621, 651, 771, 671, 571, 471, 371, 381, 281, 181, 81, -19, 57, 147, 47, -53, -23, 48, -52, -152, -144, -244, -212, -207, -169, -269, -251, -351, -451, -436, -261, 164, 64, 135, 364, 264, 164, 174, 74, -26, 32, 73, -27, 31, 66, 91, -9, 5, -95, -70, -170, -152, -130, -230, -45, 60, 131, 205, 105, 185, 253, 333, 373, 513, 413, 713, 613, 638, 538, 575, 475, 704, 739, 639, 864, 1164, 1294, 1194, 1237, 1462, 1512, 1412], \"yaxis\": \"y\"}],\\n                        {\"coloraxis\": {\"colorbar\": {\"title\": {\"text\": \"cumTotalWon\"}}, \"colorscale\": [[0.0, \"red\"], [0.5, \"black\"], [1.0, \"green\"]], \"showscale\": false}, \"legend\": {\"tracegroupgap\": 0}, \"template\": {\"data\": {\"bar\": [{\"error_x\": {\"color\": \"#2a3f5f\"}, \"error_y\": {\"color\": \"#2a3f5f\"}, \"marker\": {\"line\": {\"color\": \"white\", \"width\": 0.5}}, \"type\": \"bar\"}], \"barpolar\": [{\"marker\": {\"line\": {\"color\": \"white\", \"width\": 0.5}}, \"type\": \"barpolar\"}], \"carpet\": [{\"aaxis\": {\"endlinecolor\": \"#2a3f5f\", \"gridcolor\": \"#C8D4E3\", \"linecolor\": \"#C8D4E3\", \"minorgridcolor\": \"#C8D4E3\", \"startlinecolor\": \"#2a3f5f\"}, \"baxis\": {\"endlinecolor\": \"#2a3f5f\", \"gridcolor\": \"#C8D4E3\", \"linecolor\": \"#C8D4E3\", \"minorgridcolor\": \"#C8D4E3\", \"startlinecolor\": \"#2a3f5f\"}, \"type\": \"carpet\"}], \"choropleth\": [{\"colorbar\": {\"outlinewidth\": 0, \"ticks\": \"\"}, \"type\": \"choropleth\"}], \"contour\": [{\"colorbar\": {\"outlinewidth\": 0, \"ticks\": \"\"}, \"colorscale\": [[0.0, \"#0d0887\"], [0.1111111111111111, \"#46039f\"], [0.2222222222222222, \"#7201a8\"], [0.3333333333333333, \"#9c179e\"], [0.4444444444444444, \"#bd3786\"], [0.5555555555555556, \"#d8576b\"], [0.6666666666666666, \"#ed7953\"], [0.7777777777777778, \"#fb9f3a\"], [0.8888888888888888, \"#fdca26\"], [1.0, \"#f0f921\"]], \"type\": \"contour\"}], \"contourcarpet\": [{\"colorbar\": {\"outlinewidth\": 0, \"ticks\": \"\"}, \"type\": \"contourcarpet\"}], \"heatmap\": [{\"colorbar\": {\"outlinewidth\": 0, \"ticks\": \"\"}, \"colorscale\": [[0.0, \"#0d0887\"], [0.1111111111111111, \"#46039f\"], [0.2222222222222222, \"#7201a8\"], [0.3333333333333333, \"#9c179e\"], [0.4444444444444444, \"#bd3786\"], [0.5555555555555556, \"#d8576b\"], [0.6666666666666666, \"#ed7953\"], [0.7777777777777778, \"#fb9f3a\"], [0.8888888888888888, \"#fdca26\"], [1.0, \"#f0f921\"]], \"type\": \"heatmap\"}], \"heatmapgl\": [{\"colorbar\": {\"outlinewidth\": 0, \"ticks\": \"\"}, \"colorscale\": [[0.0, \"#0d0887\"], [0.1111111111111111, \"#46039f\"], [0.2222222222222222, \"#7201a8\"], [0.3333333333333333, \"#9c179e\"], [0.4444444444444444, \"#bd3786\"], [0.5555555555555556, \"#d8576b\"], [0.6666666666666666, \"#ed7953\"], [0.7777777777777778, \"#fb9f3a\"], [0.8888888888888888, \"#fdca26\"], [1.0, \"#f0f921\"]], \"type\": \"heatmapgl\"}], \"histogram\": [{\"marker\": {\"colorbar\": {\"outlinewidth\": 0, \"ticks\": \"\"}}, \"type\": \"histogram\"}], \"histogram2d\": [{\"colorbar\": {\"outlinewidth\": 0, \"ticks\": \"\"}, \"colorscale\": [[0.0, \"#0d0887\"], [0.1111111111111111, \"#46039f\"], [0.2222222222222222, \"#7201a8\"], [0.3333333333333333, \"#9c179e\"], [0.4444444444444444, \"#bd3786\"], [0.5555555555555556, \"#d8576b\"], [0.6666666666666666, \"#ed7953\"], [0.7777777777777778, \"#fb9f3a\"], [0.8888888888888888, \"#fdca26\"], [1.0, \"#f0f921\"]], \"type\": \"histogram2d\"}], \"histogram2dcontour\": [{\"colorbar\": {\"outlinewidth\": 0, \"ticks\": \"\"}, \"colorscale\": [[0.0, \"#0d0887\"], [0.1111111111111111, \"#46039f\"], [0.2222222222222222, \"#7201a8\"], [0.3333333333333333, \"#9c179e\"], [0.4444444444444444, \"#bd3786\"], [0.5555555555555556, \"#d8576b\"], [0.6666666666666666, \"#ed7953\"], [0.7777777777777778, \"#fb9f3a\"], [0.8888888888888888, \"#fdca26\"], [1.0, \"#f0f921\"]], \"type\": \"histogram2dcontour\"}], \"mesh3d\": [{\"colorbar\": {\"outlinewidth\": 0, \"ticks\": \"\"}, \"type\": \"mesh3d\"}], \"parcoords\": [{\"line\": {\"colorbar\": {\"outlinewidth\": 0, \"ticks\": \"\"}}, \"type\": \"parcoords\"}], \"pie\": [{\"automargin\": true, \"type\": \"pie\"}], \"scatter\": [{\"marker\": {\"colorbar\": {\"outlinewidth\": 0, \"ticks\": \"\"}}, \"type\": \"scatter\"}], \"scatter3d\": [{\"line\": {\"colorbar\": {\"outlinewidth\": 0, \"ticks\": \"\"}}, \"marker\": {\"colorbar\": {\"outlinewidth\": 0, \"ticks\": \"\"}}, \"type\": \"scatter3d\"}], \"scattercarpet\": [{\"marker\": {\"colorbar\": {\"outlinewidth\": 0, \"ticks\": \"\"}}, \"type\": \"scattercarpet\"}], \"scattergeo\": [{\"marker\": {\"colorbar\": {\"outlinewidth\": 0, \"ticks\": \"\"}}, \"type\": \"scattergeo\"}], \"scattergl\": [{\"marker\": {\"colorbar\": {\"outlinewidth\": 0, \"ticks\": \"\"}}, \"type\": \"scattergl\"}], \"scattermapbox\": [{\"marker\": {\"colorbar\": {\"outlinewidth\": 0, \"ticks\": \"\"}}, \"type\": \"scattermapbox\"}], \"scatterpolar\": [{\"marker\": {\"colorbar\": {\"outlinewidth\": 0, \"ticks\": \"\"}}, \"type\": \"scatterpolar\"}], \"scatterpolargl\": [{\"marker\": {\"colorbar\": {\"outlinewidth\": 0, \"ticks\": \"\"}}, \"type\": \"scatterpolargl\"}], \"scatterternary\": [{\"marker\": {\"colorbar\": {\"outlinewidth\": 0, \"ticks\": \"\"}}, \"type\": \"scatterternary\"}], \"surface\": [{\"colorbar\": {\"outlinewidth\": 0, \"ticks\": \"\"}, \"colorscale\": [[0.0, \"#0d0887\"], [0.1111111111111111, \"#46039f\"], [0.2222222222222222, \"#7201a8\"], [0.3333333333333333, \"#9c179e\"], [0.4444444444444444, \"#bd3786\"], [0.5555555555555556, \"#d8576b\"], [0.6666666666666666, \"#ed7953\"], [0.7777777777777778, \"#fb9f3a\"], [0.8888888888888888, \"#fdca26\"], [1.0, \"#f0f921\"]], \"type\": \"surface\"}], \"table\": [{\"cells\": {\"fill\": {\"color\": \"#EBF0F8\"}, \"line\": {\"color\": \"white\"}}, \"header\": {\"fill\": {\"color\": \"#C8D4E3\"}, \"line\": {\"color\": \"white\"}}, \"type\": \"table\"}]}, \"layout\": {\"annotationdefaults\": {\"arrowcolor\": \"#2a3f5f\", \"arrowhead\": 0, \"arrowwidth\": 1}, \"coloraxis\": {\"colorbar\": {\"outlinewidth\": 0, \"ticks\": \"\"}}, \"colorscale\": {\"diverging\": [[0, \"#8e0152\"], [0.1, \"#c51b7d\"], [0.2, \"#de77ae\"], [0.3, \"#f1b6da\"], [0.4, \"#fde0ef\"], [0.5, \"#f7f7f7\"], [0.6, \"#e6f5d0\"], [0.7, \"#b8e186\"], [0.8, \"#7fbc41\"], [0.9, \"#4d9221\"], [1, \"#276419\"]], \"sequential\": [[0.0, \"#0d0887\"], [0.1111111111111111, \"#46039f\"], [0.2222222222222222, \"#7201a8\"], [0.3333333333333333, \"#9c179e\"], [0.4444444444444444, \"#bd3786\"], [0.5555555555555556, \"#d8576b\"], [0.6666666666666666, \"#ed7953\"], [0.7777777777777778, \"#fb9f3a\"], [0.8888888888888888, \"#fdca26\"], [1.0, \"#f0f921\"]], \"sequentialminus\": [[0.0, \"#0d0887\"], [0.1111111111111111, \"#46039f\"], [0.2222222222222222, \"#7201a8\"], [0.3333333333333333, \"#9c179e\"], [0.4444444444444444, \"#bd3786\"], [0.5555555555555556, \"#d8576b\"], [0.6666666666666666, \"#ed7953\"], [0.7777777777777778, \"#fb9f3a\"], [0.8888888888888888, \"#fdca26\"], [1.0, \"#f0f921\"]]}, \"colorway\": [\"#636efa\", \"#EF553B\", \"#00cc96\", \"#ab63fa\", \"#FFA15A\", \"#19d3f3\", \"#FF6692\", \"#B6E880\", \"#FF97FF\", \"#FECB52\"], \"font\": {\"color\": \"#2a3f5f\"}, \"geo\": {\"bgcolor\": \"white\", \"lakecolor\": \"white\", \"landcolor\": \"white\", \"showlakes\": true, \"showland\": true, \"subunitcolor\": \"#C8D4E3\"}, \"hoverlabel\": {\"align\": \"left\"}, \"hovermode\": \"closest\", \"mapbox\": {\"style\": \"light\"}, \"paper_bgcolor\": \"white\", \"plot_bgcolor\": \"white\", \"polar\": {\"angularaxis\": {\"gridcolor\": \"#EBF0F8\", \"linecolor\": \"#EBF0F8\", \"ticks\": \"\"}, \"bgcolor\": \"white\", \"radialaxis\": {\"gridcolor\": \"#EBF0F8\", \"linecolor\": \"#EBF0F8\", \"ticks\": \"\"}}, \"scene\": {\"xaxis\": {\"backgroundcolor\": \"white\", \"gridcolor\": \"#DFE8F3\", \"gridwidth\": 2, \"linecolor\": \"#EBF0F8\", \"showbackground\": true, \"ticks\": \"\", \"zerolinecolor\": \"#EBF0F8\"}, \"yaxis\": {\"backgroundcolor\": \"white\", \"gridcolor\": \"#DFE8F3\", \"gridwidth\": 2, \"linecolor\": \"#EBF0F8\", \"showbackground\": true, \"ticks\": \"\", \"zerolinecolor\": \"#EBF0F8\"}, \"zaxis\": {\"backgroundcolor\": \"white\", \"gridcolor\": \"#DFE8F3\", \"gridwidth\": 2, \"linecolor\": \"#EBF0F8\", \"showbackground\": true, \"ticks\": \"\", \"zerolinecolor\": \"#EBF0F8\"}}, \"shapedefaults\": {\"line\": {\"color\": \"#2a3f5f\"}}, \"ternary\": {\"aaxis\": {\"gridcolor\": \"#DFE8F3\", \"linecolor\": \"#A2B1C6\", \"ticks\": \"\"}, \"baxis\": {\"gridcolor\": \"#DFE8F3\", \"linecolor\": \"#A2B1C6\", \"ticks\": \"\"}, \"bgcolor\": \"white\", \"caxis\": {\"gridcolor\": \"#DFE8F3\", \"linecolor\": \"#A2B1C6\", \"ticks\": \"\"}}, \"title\": {\"x\": 0.05}, \"xaxis\": {\"automargin\": true, \"gridcolor\": \"#EBF0F8\", \"linecolor\": \"#EBF0F8\", \"ticks\": \"\", \"title\": {\"standoff\": 15}, \"zerolinecolor\": \"#EBF0F8\", \"zerolinewidth\": 2}, \"yaxis\": {\"automargin\": true, \"gridcolor\": \"#EBF0F8\", \"linecolor\": \"#EBF0F8\", \"ticks\": \"\", \"title\": {\"standoff\": 15}, \"zerolinecolor\": \"#EBF0F8\", \"zerolinewidth\": 2}}}, \"title\": {\"text\": \"Cumulative Earnings with $100 bets\"}, \"xaxis\": {\"anchor\": \"y\", \"domain\": [0.0, 1.0], \"title\": {\"text\": \"2019-20 NBA Season\"}, \"zeroline\": true}, \"yaxis\": {\"anchor\": \"x\", \"domain\": [0.0, 1.0], \"title\": {\"text\": \"Money Earned ($)\"}, \"zeroline\": true, \"zerolinecolor\": \"black\", \"zerolinewidth\": 2}},\\n                        {\"responsive\": true}\\n                    )\\n                };\\n                \\n            </script>\\n        </div>'"
            ]
          },
          "metadata": {
            "tags": []
          },
          "execution_count": 93
        }
      ]
    },
    {
      "cell_type": "code",
      "metadata": {
        "id": "lIDyjpOZzLnN",
        "colab_type": "code",
        "colab": {}
      },
      "source": [
        ""
      ],
      "execution_count": 0,
      "outputs": []
    }
  ]
}